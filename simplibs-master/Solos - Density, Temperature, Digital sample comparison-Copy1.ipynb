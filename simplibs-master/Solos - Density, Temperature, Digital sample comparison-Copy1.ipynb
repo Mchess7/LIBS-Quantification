{
 "cells": [
  {
   "cell_type": "markdown",
   "metadata": {},
   "source": [
    "# Soil Analysis\n",
    "\n",
    "Analysis of the spectral data obtained for samples from Rio de Frades."
   ]
  },
  {
   "cell_type": "code",
   "execution_count": 1,
   "metadata": {},
   "outputs": [
    {
     "data": {
      "application/vnd.jupyter.widget-view+json": {
       "model_id": "3741517baaca479f98c62d6dfcbb5628",
       "version_major": 2,
       "version_minor": 0
      },
      "text/plain": [
       "Canvas(toolbar=Toolbar(toolitems=[('Home', 'Reset original view', 'home', 'home'), ('Back', 'Back to previous …"
      ]
     },
     "metadata": {},
     "output_type": "display_data"
    },
    {
     "data": {
      "application/vnd.jupyter.widget-view+json": {
       "model_id": "4db32cc5aaed411e8aceb5100a1085d7",
       "version_major": 2,
       "version_minor": 0
      },
      "text/plain": [
       "Canvas(toolbar=Toolbar(toolitems=[('Home', 'Reset original view', 'home', 'home'), ('Back', 'Back to previous …"
      ]
     },
     "metadata": {},
     "output_type": "display_data"
    },
    {
     "data": {
      "application/vnd.jupyter.widget-view+json": {
       "model_id": "eaf0c342b490418ca368e8070739ac84",
       "version_major": 2,
       "version_minor": 0
      },
      "text/plain": [
       "Canvas(toolbar=Toolbar(toolitems=[('Home', 'Reset original view', 'home', 'home'), ('Back', 'Back to previous …"
      ]
     },
     "metadata": {},
     "output_type": "display_data"
    },
    {
     "data": {
      "application/vnd.jupyter.widget-view+json": {
       "model_id": "27fe3548a50f49c6844ce38527fe2af3",
       "version_major": 2,
       "version_minor": 0
      },
      "text/plain": [
       "Canvas(toolbar=Toolbar(toolitems=[('Home', 'Reset original view', 'home', 'home'), ('Back', 'Back to previous …"
      ]
     },
     "metadata": {},
     "output_type": "display_data"
    },
    {
     "data": {
      "application/vnd.jupyter.widget-view+json": {
       "model_id": "45b505839e3f4e639ab8f6e7cf93db77",
       "version_major": 2,
       "version_minor": 0
      },
      "text/plain": [
       "Canvas(toolbar=Toolbar(toolitems=[('Home', 'Reset original view', 'home', 'home'), ('Back', 'Back to previous …"
      ]
     },
     "metadata": {},
     "output_type": "display_data"
    },
    {
     "name": "stdout",
     "output_type": "stream",
     "text": [
      "[315.92 317.99 319.99 321.43 322.6  322.82 323.48 323.69 323.94 324.78\n",
      " 325.31 327.42 328.72 330.65 334.19 334.96 336.14 337.29 338.39 340.77\n",
      " 342.72 344.09 344.39 346.59 347.55 347.69 349.07 349.79 350.5  351.38\n",
      " 352.14 352.62 354.1  355.5  355.86 356.55 357.01 357.86 358.13 358.54\n",
      " 359.36 360.52 360.89 361.88 363.15]\n",
      "5373689544111603.0\n"
     ]
    },
    {
     "name": "stderr",
     "output_type": "stream",
     "text": [
      "C:\\Users\\nunoa\\Anaconda2\\envs\\py36\\lib\\site-packages\\scipy\\_lib\\deprecation.py:20: VisibleDeprecationWarning: Creating an ndarray from ragged nested sequences (which is a list-or-tuple of lists-or-tuples-or ndarrays with different lengths or shapes) is deprecated. If you meant to do this, you must specify 'dtype=object' when creating the ndarray\n",
      "  return fun(*args, **kwargs)\n"
     ]
    }
   ],
   "source": [
    "%matplotlib widget\n",
    "from core.experiment import *"
   ]
  },
  {
   "cell_type": "markdown",
   "metadata": {},
   "source": [
    "# Data table with samples and concentrations"
   ]
  },
  {
   "cell_type": "code",
   "execution_count": 2,
   "metadata": {},
   "outputs": [
    {
     "data": {
      "text/html": [
       "<div>\n",
       "<style scoped>\n",
       "    .dataframe tbody tr th:only-of-type {\n",
       "        vertical-align: middle;\n",
       "    }\n",
       "\n",
       "    .dataframe tbody tr th {\n",
       "        vertical-align: top;\n",
       "    }\n",
       "\n",
       "    .dataframe thead th {\n",
       "        text-align: right;\n",
       "    }\n",
       "</style>\n",
       "<table border=\"1\" class=\"dataframe\">\n",
       "  <thead>\n",
       "    <tr style=\"text-align: right;\">\n",
       "      <th></th>\n",
       "      <th>Sample Number</th>\n",
       "      <th>P</th>\n",
       "      <th>Cr</th>\n",
       "      <th>Mn</th>\n",
       "      <th>As</th>\n",
       "      <th>Mo</th>\n",
       "      <th>Sn</th>\n",
       "      <th>Sb</th>\n",
       "      <th>W</th>\n",
       "      <th>Fe</th>\n",
       "    </tr>\n",
       "    <tr>\n",
       "      <th>Sample folder</th>\n",
       "      <th></th>\n",
       "      <th></th>\n",
       "      <th></th>\n",
       "      <th></th>\n",
       "      <th></th>\n",
       "      <th></th>\n",
       "      <th></th>\n",
       "      <th></th>\n",
       "      <th></th>\n",
       "      <th></th>\n",
       "    </tr>\n",
       "  </thead>\n",
       "  <tbody>\n",
       "    <tr>\n",
       "      <th>RF_SED_1 #1</th>\n",
       "      <td>1</td>\n",
       "      <td>404.264651</td>\n",
       "      <td>183.108079</td>\n",
       "      <td>180.053758</td>\n",
       "      <td>646.322364</td>\n",
       "      <td>4.423902</td>\n",
       "      <td>2.442416</td>\n",
       "      <td>0.638616</td>\n",
       "      <td>39.666314</td>\n",
       "      <td>29778.120919</td>\n",
       "    </tr>\n",
       "    <tr>\n",
       "      <th>RF_SOL_2 #1</th>\n",
       "      <td>2</td>\n",
       "      <td>108.841399</td>\n",
       "      <td>52.820307</td>\n",
       "      <td>59.918221</td>\n",
       "      <td>2637.467883</td>\n",
       "      <td>1.574523</td>\n",
       "      <td>2.296732</td>\n",
       "      <td>1.191073</td>\n",
       "      <td>14.114892</td>\n",
       "      <td>15046.485458</td>\n",
       "    </tr>\n",
       "    <tr>\n",
       "      <th>RF_SOL_4 #1</th>\n",
       "      <td>3</td>\n",
       "      <td>648.862007</td>\n",
       "      <td>100.631385</td>\n",
       "      <td>286.149613</td>\n",
       "      <td>1586.557566</td>\n",
       "      <td>2.391602</td>\n",
       "      <td>3.360891</td>\n",
       "      <td>1.192478</td>\n",
       "      <td>280.882925</td>\n",
       "      <td>54423.162889</td>\n",
       "    </tr>\n",
       "    <tr>\n",
       "      <th>RF_SED_6 #1</th>\n",
       "      <td>4</td>\n",
       "      <td>352.155466</td>\n",
       "      <td>219.057465</td>\n",
       "      <td>178.267311</td>\n",
       "      <td>1269.244303</td>\n",
       "      <td>4.793053</td>\n",
       "      <td>4.496320</td>\n",
       "      <td>1.188751</td>\n",
       "      <td>248.854674</td>\n",
       "      <td>27675.573149</td>\n",
       "    </tr>\n",
       "    <tr>\n",
       "      <th>RF_SOL_7 #1</th>\n",
       "      <td>5</td>\n",
       "      <td>762.449799</td>\n",
       "      <td>88.812787</td>\n",
       "      <td>587.175884</td>\n",
       "      <td>5347.584673</td>\n",
       "      <td>2.296021</td>\n",
       "      <td>6.207885</td>\n",
       "      <td>3.041370</td>\n",
       "      <td>763.857719</td>\n",
       "      <td>67164.779061</td>\n",
       "    </tr>\n",
       "    <tr>\n",
       "      <th>RF_SOL_9 #1</th>\n",
       "      <td>6</td>\n",
       "      <td>561.328295</td>\n",
       "      <td>104.603641</td>\n",
       "      <td>447.228821</td>\n",
       "      <td>1828.854795</td>\n",
       "      <td>1.658271</td>\n",
       "      <td>5.110226</td>\n",
       "      <td>1.215606</td>\n",
       "      <td>801.955187</td>\n",
       "      <td>49220.479469</td>\n",
       "    </tr>\n",
       "    <tr>\n",
       "      <th>RF_SOL_11 #1</th>\n",
       "      <td>7</td>\n",
       "      <td>443.297501</td>\n",
       "      <td>70.749295</td>\n",
       "      <td>201.723348</td>\n",
       "      <td>669.134256</td>\n",
       "      <td>1.191993</td>\n",
       "      <td>2.307629</td>\n",
       "      <td>0.510065</td>\n",
       "      <td>22.111822</td>\n",
       "      <td>49623.854592</td>\n",
       "    </tr>\n",
       "    <tr>\n",
       "      <th>RF_SOL_13 #1</th>\n",
       "      <td>8</td>\n",
       "      <td>531.057788</td>\n",
       "      <td>69.243096</td>\n",
       "      <td>518.444060</td>\n",
       "      <td>895.300112</td>\n",
       "      <td>4.040827</td>\n",
       "      <td>4.475869</td>\n",
       "      <td>1.711593</td>\n",
       "      <td>37.266916</td>\n",
       "      <td>52848.183067</td>\n",
       "    </tr>\n",
       "    <tr>\n",
       "      <th>RF_SOL_15 #1</th>\n",
       "      <td>9</td>\n",
       "      <td>812.045207</td>\n",
       "      <td>95.936482</td>\n",
       "      <td>244.397298</td>\n",
       "      <td>42.233260</td>\n",
       "      <td>2.726452</td>\n",
       "      <td>2.204726</td>\n",
       "      <td>0.692425</td>\n",
       "      <td>4.202369</td>\n",
       "      <td>81539.060738</td>\n",
       "    </tr>\n",
       "    <tr>\n",
       "      <th>RF_SOL_18 #1</th>\n",
       "      <td>10</td>\n",
       "      <td>1026.596994</td>\n",
       "      <td>251.358013</td>\n",
       "      <td>581.438250</td>\n",
       "      <td>908.199262</td>\n",
       "      <td>7.297398</td>\n",
       "      <td>2.407336</td>\n",
       "      <td>0.657088</td>\n",
       "      <td>47.082615</td>\n",
       "      <td>51251.679228</td>\n",
       "    </tr>\n",
       "    <tr>\n",
       "      <th>RF_SOL_20 #1</th>\n",
       "      <td>11</td>\n",
       "      <td>1551.357193</td>\n",
       "      <td>182.271033</td>\n",
       "      <td>275.404096</td>\n",
       "      <td>4779.746393</td>\n",
       "      <td>6.053058</td>\n",
       "      <td>2.983602</td>\n",
       "      <td>2.398524</td>\n",
       "      <td>195.603552</td>\n",
       "      <td>80700.278100</td>\n",
       "    </tr>\n",
       "    <tr>\n",
       "      <th>RF_SOL_21 #1</th>\n",
       "      <td>12</td>\n",
       "      <td>990.885642</td>\n",
       "      <td>146.935906</td>\n",
       "      <td>308.699046</td>\n",
       "      <td>1608.480363</td>\n",
       "      <td>4.660805</td>\n",
       "      <td>2.218633</td>\n",
       "      <td>1.332218</td>\n",
       "      <td>158.451927</td>\n",
       "      <td>67533.847691</td>\n",
       "    </tr>\n",
       "    <tr>\n",
       "      <th>RF_SOL_23 #1</th>\n",
       "      <td>13</td>\n",
       "      <td>1396.162179</td>\n",
       "      <td>211.256895</td>\n",
       "      <td>690.448433</td>\n",
       "      <td>6043.832057</td>\n",
       "      <td>6.515630</td>\n",
       "      <td>4.498396</td>\n",
       "      <td>2.829698</td>\n",
       "      <td>1712.270494</td>\n",
       "      <td>94713.924505</td>\n",
       "    </tr>\n",
       "    <tr>\n",
       "      <th>RF_SOL_26 #1</th>\n",
       "      <td>14</td>\n",
       "      <td>1109.366123</td>\n",
       "      <td>115.466725</td>\n",
       "      <td>261.456517</td>\n",
       "      <td>3585.844048</td>\n",
       "      <td>3.914465</td>\n",
       "      <td>1.977405</td>\n",
       "      <td>2.027272</td>\n",
       "      <td>216.746079</td>\n",
       "      <td>82632.492854</td>\n",
       "    </tr>\n",
       "    <tr>\n",
       "      <th>RF_SOL_27 #1</th>\n",
       "      <td>15</td>\n",
       "      <td>2338.237988</td>\n",
       "      <td>199.507579</td>\n",
       "      <td>696.037902</td>\n",
       "      <td>2134.444208</td>\n",
       "      <td>4.890643</td>\n",
       "      <td>13.377226</td>\n",
       "      <td>1.496844</td>\n",
       "      <td>459.189583</td>\n",
       "      <td>63083.393627</td>\n",
       "    </tr>\n",
       "    <tr>\n",
       "      <th>RFsol15 - Réplica</th>\n",
       "      <td>0</td>\n",
       "      <td>816.579182</td>\n",
       "      <td>102.070467</td>\n",
       "      <td>284.039842</td>\n",
       "      <td>45.486805</td>\n",
       "      <td>2.387193</td>\n",
       "      <td>2.029326</td>\n",
       "      <td>0.514997</td>\n",
       "      <td>2.989443</td>\n",
       "      <td>88413.577414</td>\n",
       "    </tr>\n",
       "  </tbody>\n",
       "</table>\n",
       "</div>"
      ],
      "text/plain": [
       "                   Sample Number            P          Cr          Mn  \\\n",
       "Sample folder                                                           \n",
       "RF_SED_1 #1                    1   404.264651  183.108079  180.053758   \n",
       "RF_SOL_2 #1                    2   108.841399   52.820307   59.918221   \n",
       "RF_SOL_4 #1                    3   648.862007  100.631385  286.149613   \n",
       "RF_SED_6 #1                    4   352.155466  219.057465  178.267311   \n",
       "RF_SOL_7 #1                    5   762.449799   88.812787  587.175884   \n",
       "RF_SOL_9 #1                    6   561.328295  104.603641  447.228821   \n",
       "RF_SOL_11 #1                   7   443.297501   70.749295  201.723348   \n",
       "RF_SOL_13 #1                   8   531.057788   69.243096  518.444060   \n",
       "RF_SOL_15 #1                   9   812.045207   95.936482  244.397298   \n",
       "RF_SOL_18 #1                  10  1026.596994  251.358013  581.438250   \n",
       "RF_SOL_20 #1                  11  1551.357193  182.271033  275.404096   \n",
       "RF_SOL_21 #1                  12   990.885642  146.935906  308.699046   \n",
       "RF_SOL_23 #1                  13  1396.162179  211.256895  690.448433   \n",
       "RF_SOL_26 #1                  14  1109.366123  115.466725  261.456517   \n",
       "RF_SOL_27 #1                  15  2338.237988  199.507579  696.037902   \n",
       "RFsol15 - Réplica              0   816.579182  102.070467  284.039842   \n",
       "\n",
       "                            As        Mo         Sn        Sb            W  \\\n",
       "Sample folder                                                                \n",
       "RF_SED_1 #1         646.322364  4.423902   2.442416  0.638616    39.666314   \n",
       "RF_SOL_2 #1        2637.467883  1.574523   2.296732  1.191073    14.114892   \n",
       "RF_SOL_4 #1        1586.557566  2.391602   3.360891  1.192478   280.882925   \n",
       "RF_SED_6 #1        1269.244303  4.793053   4.496320  1.188751   248.854674   \n",
       "RF_SOL_7 #1        5347.584673  2.296021   6.207885  3.041370   763.857719   \n",
       "RF_SOL_9 #1        1828.854795  1.658271   5.110226  1.215606   801.955187   \n",
       "RF_SOL_11 #1        669.134256  1.191993   2.307629  0.510065    22.111822   \n",
       "RF_SOL_13 #1        895.300112  4.040827   4.475869  1.711593    37.266916   \n",
       "RF_SOL_15 #1         42.233260  2.726452   2.204726  0.692425     4.202369   \n",
       "RF_SOL_18 #1        908.199262  7.297398   2.407336  0.657088    47.082615   \n",
       "RF_SOL_20 #1       4779.746393  6.053058   2.983602  2.398524   195.603552   \n",
       "RF_SOL_21 #1       1608.480363  4.660805   2.218633  1.332218   158.451927   \n",
       "RF_SOL_23 #1       6043.832057  6.515630   4.498396  2.829698  1712.270494   \n",
       "RF_SOL_26 #1       3585.844048  3.914465   1.977405  2.027272   216.746079   \n",
       "RF_SOL_27 #1       2134.444208  4.890643  13.377226  1.496844   459.189583   \n",
       "RFsol15 - Réplica    45.486805  2.387193   2.029326  0.514997     2.989443   \n",
       "\n",
       "                             Fe  \n",
       "Sample folder                    \n",
       "RF_SED_1 #1        29778.120919  \n",
       "RF_SOL_2 #1        15046.485458  \n",
       "RF_SOL_4 #1        54423.162889  \n",
       "RF_SED_6 #1        27675.573149  \n",
       "RF_SOL_7 #1        67164.779061  \n",
       "RF_SOL_9 #1        49220.479469  \n",
       "RF_SOL_11 #1       49623.854592  \n",
       "RF_SOL_13 #1       52848.183067  \n",
       "RF_SOL_15 #1       81539.060738  \n",
       "RF_SOL_18 #1       51251.679228  \n",
       "RF_SOL_20 #1       80700.278100  \n",
       "RF_SOL_21 #1       67533.847691  \n",
       "RF_SOL_23 #1       94713.924505  \n",
       "RF_SOL_26 #1       82632.492854  \n",
       "RF_SOL_27 #1       63083.393627  \n",
       "RFsol15 - Réplica  88413.577414  "
      ]
     },
     "execution_count": 2,
     "metadata": {},
     "output_type": "execute_result"
    }
   ],
   "source": [
    "root_path = \"D:\\\\Data_LIBS\\\\Diana_Capela\\\\Solos\\\\data_repo\\\\\"\n",
    "concentration_data = pd.read_csv(root_path+\"icpms.csv\",sep=\";\")\n",
    "concentration_data.set_index(\"Sample folder\", inplace=True)\n",
    "concentration_data.head(len(concentration_data))"
   ]
  },
  {
   "cell_type": "markdown",
   "metadata": {},
   "source": [
    "## Load the data from folder"
   ]
  },
  {
   "cell_type": "code",
   "execution_count": 3,
   "metadata": {},
   "outputs": [],
   "source": [
    "sample_f = \"RF_SOL_18 #1\"\n",
    "folders = [\"\\\\340spot2\\\\\",\"\\\\340spot1\\\\\",\"\\\\340spot3\\\\\"]\n",
    "folder = folders[0]\n",
    "sample_folder = root_path + sample_f + folder\n",
    "current_experiment = experiment(sample_folder,ignore='0000')\n",
    "list_to_concatenate = []\n",
    "\n",
    "for i in range(1,len(folders)):\n",
    "    folder = folders[i]\n",
    "    sample_folder = root_path + sample_f + folder\n",
    "    list_to_concatenate.append(experiment(sample_folder,ignore='0000'))\n",
    "\n",
    "current_experiment.concatenate(list_to_concatenate)\n",
    "#obtain the mean signal for the 3 shots\n",
    "sg = current_experiment.mean_signal"
   ]
  },
  {
   "cell_type": "markdown",
   "metadata": {},
   "source": [
    "# Varying the number of shots"
   ]
  },
  {
   "cell_type": "code",
   "execution_count": 4,
   "metadata": {},
   "outputs": [
    {
     "data": {
      "text/plain": [
       "[Signal for shot 0001\n",
       " at folder \n",
       " D:\\Data_LIBS\\Diana_Capela\\Solos\\data_repo\\RF_SOL_18 #1\\340spot2\\\n",
       "  with 8 spectrometers,\n",
       " Signal for shot 0002\n",
       " at folder \n",
       " D:\\Data_LIBS\\Diana_Capela\\Solos\\data_repo\\RF_SOL_18 #1\\340spot2\\\n",
       "  with 8 spectrometers,\n",
       " Signal for shot 3\n",
       " at folder \n",
       " D:\\Data_LIBS\\Diana_Capela\\Solos\\data_repo\\RF_SOL_18 #1\\340spot2\\\n",
       "  with 8 spectrometers,\n",
       " Signal for shot 0001\n",
       " at folder \n",
       " D:\\Data_LIBS\\Diana_Capela\\Solos\\data_repo\\RF_SOL_18 #1\\340spot1\\\n",
       "  with 8 spectrometers,\n",
       " Signal for shot 0002\n",
       " at folder \n",
       " D:\\Data_LIBS\\Diana_Capela\\Solos\\data_repo\\RF_SOL_18 #1\\340spot1\\\n",
       "  with 8 spectrometers,\n",
       " Signal for shot 3\n",
       " at folder \n",
       " D:\\Data_LIBS\\Diana_Capela\\Solos\\data_repo\\RF_SOL_18 #1\\340spot1\\\n",
       "  with 8 spectrometers,\n",
       " Signal for shot 0001\n",
       " at folder \n",
       " D:\\Data_LIBS\\Diana_Capela\\Solos\\data_repo\\RF_SOL_18 #1\\340spot3\\\n",
       "  with 8 spectrometers,\n",
       " Signal for shot 0002\n",
       " at folder \n",
       " D:\\Data_LIBS\\Diana_Capela\\Solos\\data_repo\\RF_SOL_18 #1\\340spot3\\\n",
       "  with 8 spectrometers,\n",
       " Signal for shot 3\n",
       " at folder \n",
       " D:\\Data_LIBS\\Diana_Capela\\Solos\\data_repo\\RF_SOL_18 #1\\340spot3\\\n",
       "  with 8 spectrometers]"
      ]
     },
     "execution_count": 4,
     "metadata": {},
     "output_type": "execute_result"
    }
   ],
   "source": [
    "current_experiment.list_of_signals"
   ]
  },
  {
   "cell_type": "code",
   "execution_count": 5,
   "metadata": {},
   "outputs": [
    {
     "data": {
      "application/vnd.jupyter.widget-view+json": {
       "model_id": "371fe6415e3243408a2438752d2c9b3b",
       "version_major": 2,
       "version_minor": 0
      },
      "text/plain": [
       "Canvas(toolbar=Toolbar(toolitems=[('Home', 'Reset original view', 'home', 'home'), ('Back', 'Back to previous …"
      ]
     },
     "metadata": {},
     "output_type": "display_data"
    },
    {
     "data": {
      "text/plain": [
       "[<matplotlib.lines.Line2D at 0x243dc19a7f0>]"
      ]
     },
     "execution_count": 5,
     "metadata": {},
     "output_type": "execute_result"
    }
   ],
   "source": [
    "\n",
    "intensities=[]\n",
    "for i in range(0, len(current_experiment.list_of_signals)):\n",
    "    ratio_of_maximum = 0.5\n",
    "    wavelengths = np.concatenate([w for w in current_experiment.list_of_signals[i].wavelengths]) \n",
    "    spectrum = np.concatenate([s for s in current_experiment.list_of_signals[i].spectrum ])\n",
    "    radius = .2\n",
    "    ritz = 302\n",
    "    intensity = get_peak_area(ritz,ratio_of_maximum , wavelengths, spectrum, radius, False)\n",
    "    intensities.append(intensity)\n",
    "\n",
    "subplots()\n",
    "plot(intensities)"
   ]
  },
  {
   "cell_type": "markdown",
   "metadata": {},
   "source": [
    "# Computing density\n",
    "Using the H_alpha line from the Balmer series."
   ]
  },
  {
   "cell_type": "code",
   "execution_count": 6,
   "metadata": {},
   "outputs": [
    {
     "data": {
      "application/vnd.jupyter.widget-view+json": {
       "model_id": "b17e530627614bf1978751c2fc29faba",
       "version_major": 2,
       "version_minor": 0
      },
      "text/plain": [
       "Canvas(toolbar=Toolbar(toolitems=[('Home', 'Reset original view', 'home', 'home'), ('Back', 'Back to previous …"
      ]
     },
     "metadata": {},
     "output_type": "display_data"
    },
    {
     "name": "stdout",
     "output_type": "stream",
     "text": [
      "7.256312485671723e+16 cm^-3\n"
     ]
    }
   ],
   "source": [
    "density, x,y,p = sg.density_H_alpha()\n",
    "print(str(density) + \" cm^-3\")\n",
    "density= density*(10**2)**3"
   ]
  },
  {
   "cell_type": "markdown",
   "metadata": {},
   "source": [
    "# Remove Baseline"
   ]
  },
  {
   "cell_type": "code",
   "execution_count": 7,
   "metadata": {},
   "outputs": [
    {
     "data": {
      "text/plain": [
       "array([293.88976643, 294.41415313, 294.93831183, ..., 162.28475736,\n",
       "       165.5786734 , 168.87282201])"
      ]
     },
     "execution_count": 7,
     "metadata": {},
     "output_type": "execute_result"
    }
   ],
   "source": [
    "sg.remove_baseline()"
   ]
  },
  {
   "cell_type": "markdown",
   "metadata": {},
   "source": [
    "# Computing the plasma temperature\n",
    "Using the Saha-Boltzmann method and choosing the lines"
   ]
  },
  {
   "cell_type": "code",
   "execution_count": 14,
   "metadata": {},
   "outputs": [
    {
     "data": {
      "application/vnd.jupyter.widget-view+json": {
       "model_id": "5f591654284746428e29d3a920949130",
       "version_major": 2,
       "version_minor": 0
      },
      "text/plain": [
       "Canvas(toolbar=Toolbar(toolitems=[('Home', 'Reset original view', 'home', 'home'), ('Back', 'Back to previous …"
      ]
     },
     "metadata": {},
     "output_type": "display_data"
    },
    {
     "name": "stderr",
     "output_type": "stream",
     "text": [
      "C:\\Users\\nunoa\\LIBS Repo\\core\\boltzmann_functions.py:373: RuntimeWarning: More than 20 figures have been opened. Figures created through the pyplot interface (`matplotlib.pyplot.figure`) are retained until explicitly closed and may consume too much memory. (To control this warning, see the rcParam `figure.max_open_warning`).\n",
      "  fig,ax = subplots(figsize=(5,3),constrained_layout=True)\n"
     ]
    },
    {
     "data": {
      "application/vnd.jupyter.widget-view+json": {
       "model_id": "5564ff6217d145baa52c79e49b1f2e5e",
       "version_major": 2,
       "version_minor": 0
      },
      "text/plain": [
       "Canvas(toolbar=Toolbar(toolitems=[('Home', 'Reset original view', 'home', 'home'), ('Back', 'Back to previous …"
      ]
     },
     "metadata": {},
     "output_type": "display_data"
    }
   ],
   "source": [
    "#Choose the element for computing the relevant lines\n",
    "al = element('Fe')\n",
    "\n",
    "Tp = 1.*T_ref\n",
    "\n",
    "#define the upper and lower limits to find the most relevant nlines\n",
    "#let us define to the\n",
    "n_spectrometer = 1\n",
    "ll = sg.wavelengths[n_spectrometer][0]\n",
    "ul = sg.wavelengths[n_spectrometer][-1]\n",
    "\n",
    "ion_energies = al.ion_energies\n",
    "\n",
    "#ion state 1\n",
    "nlines = 5\n",
    "l_num, lines = al.get_most_relevant_lines_ion_state(ion_state = 1, electron_temperature=Tp, n_lines = nlines,lower_limit = ll, upper_limit = ul)\n",
    "\n",
    "#ion state 2\n",
    "nlines = 2\n",
    "l_num2, lines2 = al.get_most_relevant_lines_ion_state(ion_state = 2, electron_temperature=Tp, n_lines = nlines,lower_limit = ll, upper_limit = ul)\n",
    "\n",
    "#compute the plasma temperature\n",
    "temperature, temp_95, r2, y_s, x_s = sg.saha_boltzmann_temperature_v2([lines,lines2],al,electron_density= density, \n",
    "                                                                      ratio_of_maximum = 0.5, radius = 0.1, Plot = True, Plotlines = True, use_max_intensity = False)\n"
   ]
  },
  {
   "cell_type": "markdown",
   "metadata": {},
   "source": [
    "# LTE conditions\n",
    "Probing the Mcwrither criterium"
   ]
  },
  {
   "cell_type": "code",
   "execution_count": 9,
   "metadata": {},
   "outputs": [
    {
     "name": "stdout",
     "output_type": "stream",
     "text": [
      "Minimum density in cm^-3: 1.649294e+16\n",
      "Computed density in cm^-3: 7.256312e+16\n",
      "MW criterion - True\n"
     ]
    }
   ],
   "source": [
    "minimum_density = sg.LTE_MW_criterium(4.8,temperature)\n",
    "print(\"Minimum density in cm^-3: \" + str(\"%e\" %minimum_density))\n",
    "print(\"Computed density in cm^-3: \" + str(\"%e\" %(density*(10**-2)**3)))\n",
    "print(\"MW criterion - \" + str(density>(minimum_density*(10**2)**3)))"
   ]
  },
  {
   "cell_type": "code",
   "execution_count": 10,
   "metadata": {
    "scrolled": false
   },
   "outputs": [
    {
     "name": "stdout",
     "output_type": "stream",
     "text": [
      "Digital sample with \n",
      " [ P ratio 33.144084803515895 ] \n",
      " [ Cr ratio 4.834170510672416 ] \n",
      " [ Mn ratio 10.58352678639836 ] \n",
      " [ As ratio 12.121995834195591 ] \n",
      " [ Mo ratio 0.07605417406050567 ] \n",
      " [ Sn ratio 0.0202791328891539 ] \n",
      " [ Sb ratio 0.005396582873326306 ] \n",
      " [ W ratio 0.25610647875761644 ] \n",
      " [ Fe ratio 917.7487550939296 ] \n",
      "# Spectrometer 1 normalized to Line of Wavelength 248.81425299999998\n",
      "\n"
     ]
    },
    {
     "data": {
      "application/vnd.jupyter.widget-view+json": {
       "model_id": "603354ae7f7b43c8803c66964a95687a",
       "version_major": 2,
       "version_minor": 0
      },
      "text/plain": [
       "Canvas(toolbar=Toolbar(toolitems=[('Home', 'Reset original view', 'home', 'home'), ('Back', 'Back to previous …"
      ]
     },
     "metadata": {},
     "output_type": "display_data"
    },
    {
     "data": {
      "application/vnd.jupyter.widget-view+json": {
       "model_id": "ec8dda1ef9cd420f9779ade93c900bde",
       "version_major": 2,
       "version_minor": 0
      },
      "text/plain": [
       "Canvas(toolbar=Toolbar(toolitems=[('Home', 'Reset original view', 'home', 'home'), ('Back', 'Back to previous …"
      ]
     },
     "metadata": {},
     "output_type": "display_data"
    },
    {
     "name": "stdout",
     "output_type": "stream",
     "text": [
      "# Spectrometer 1 normalized to Line of Wavelength 302.063878\n",
      "\n"
     ]
    },
    {
     "data": {
      "application/vnd.jupyter.widget-view+json": {
       "model_id": "1d9440820b1b4a4e943d7dd85a68d19e",
       "version_major": 2,
       "version_minor": 0
      },
      "text/plain": [
       "Canvas(toolbar=Toolbar(toolitems=[('Home', 'Reset original view', 'home', 'home'), ('Back', 'Back to previous …"
      ]
     },
     "metadata": {},
     "output_type": "display_data"
    },
    {
     "data": {
      "application/vnd.jupyter.widget-view+json": {
       "model_id": "48279d346ae34e27a4f5f45a296ea77a",
       "version_major": 2,
       "version_minor": 0
      },
      "text/plain": [
       "Canvas(toolbar=Toolbar(toolitems=[('Home', 'Reset original view', 'home', 'home'), ('Back', 'Back to previous …"
      ]
     },
     "metadata": {},
     "output_type": "display_data"
    },
    {
     "name": "stdout",
     "output_type": "stream",
     "text": [
      "# Spectrometer 1 normalized to Line of Wavelength 357.009748\n",
      "\n"
     ]
    },
    {
     "data": {
      "application/vnd.jupyter.widget-view+json": {
       "model_id": "351e20fe7b9c466c95ac345d6f73ca8c",
       "version_major": 2,
       "version_minor": 0
      },
      "text/plain": [
       "Canvas(toolbar=Toolbar(toolitems=[('Home', 'Reset original view', 'home', 'home'), ('Back', 'Back to previous …"
      ]
     },
     "metadata": {},
     "output_type": "display_data"
    },
    {
     "data": {
      "application/vnd.jupyter.widget-view+json": {
       "model_id": "091bc1c4a2394fbdb2d5c20428cb9763",
       "version_major": 2,
       "version_minor": 0
      },
      "text/plain": [
       "Canvas(toolbar=Toolbar(toolitems=[('Home', 'Reset original view', 'home', 'home'), ('Back', 'Back to previous …"
      ]
     },
     "metadata": {},
     "output_type": "display_data"
    },
    {
     "name": "stdout",
     "output_type": "stream",
     "text": [
      "# Spectrometer 1 normalized to Line of Wavelength 374.948483\n",
      "\n"
     ]
    },
    {
     "data": {
      "application/vnd.jupyter.widget-view+json": {
       "model_id": "6e815a1526dd45c6ace2d48f7453d0f3",
       "version_major": 2,
       "version_minor": 0
      },
      "text/plain": [
       "Canvas(toolbar=Toolbar(toolitems=[('Home', 'Reset original view', 'home', 'home'), ('Back', 'Back to previous …"
      ]
     },
     "metadata": {},
     "output_type": "display_data"
    },
    {
     "data": {
      "application/vnd.jupyter.widget-view+json": {
       "model_id": "5941384b971d409d8df5c33c7ca1d6c8",
       "version_major": 2,
       "version_minor": 0
      },
      "text/plain": [
       "Canvas(toolbar=Toolbar(toolitems=[('Home', 'Reset original view', 'home', 'home'), ('Back', 'Back to previous …"
      ]
     },
     "metadata": {},
     "output_type": "display_data"
    },
    {
     "name": "stdout",
     "output_type": "stream",
     "text": [
      "# Spectrometer 1 normalized to Line of Wavelength 438.35444\n",
      "\n"
     ]
    },
    {
     "data": {
      "application/vnd.jupyter.widget-view+json": {
       "model_id": "e829c7d2ce1941d1b40bf4a7fccff547",
       "version_major": 2,
       "version_minor": 0
      },
      "text/plain": [
       "Canvas(toolbar=Toolbar(toolitems=[('Home', 'Reset original view', 'home', 'home'), ('Back', 'Back to previous …"
      ]
     },
     "metadata": {},
     "output_type": "display_data"
    },
    {
     "data": {
      "application/vnd.jupyter.widget-view+json": {
       "model_id": "c29b7cec0f6f48fc83dab6320f0612d1",
       "version_major": 2,
       "version_minor": 0
      },
      "text/plain": [
       "Canvas(toolbar=Toolbar(toolitems=[('Home', 'Reset original view', 'home', 'home'), ('Back', 'Back to previous …"
      ]
     },
     "metadata": {},
     "output_type": "display_data"
    },
    {
     "name": "stdout",
     "output_type": "stream",
     "text": [
      "# Spectrometer 1 normalized to Line of Wavelength 538.3368\n",
      "\n"
     ]
    },
    {
     "data": {
      "application/vnd.jupyter.widget-view+json": {
       "model_id": "ef046f2bf69a4fdca65891ec9894bbee",
       "version_major": 2,
       "version_minor": 0
      },
      "text/plain": [
       "Canvas(toolbar=Toolbar(toolitems=[('Home', 'Reset original view', 'home', 'home'), ('Back', 'Back to previous …"
      ]
     },
     "metadata": {},
     "output_type": "display_data"
    },
    {
     "name": "stderr",
     "output_type": "stream",
     "text": [
      "C:\\Users\\nunoa\\LIBS Repo\\core\\signal.py:853: RuntimeWarning: More than 20 figures have been opened. Figures created through the pyplot interface (`matplotlib.pyplot.figure`) are retained until explicitly closed and may consume too much memory. (To control this warning, see the rcParam `figure.max_open_warning`).\n",
      "  fig0,ax0 = subplots()\n"
     ]
    },
    {
     "data": {
      "application/vnd.jupyter.widget-view+json": {
       "model_id": "14153046c5414998a22927a8263a11d5",
       "version_major": 2,
       "version_minor": 0
      },
      "text/plain": [
       "Canvas(toolbar=Toolbar(toolitems=[('Home', 'Reset original view', 'home', 'home'), ('Back', 'Back to previous …"
      ]
     },
     "metadata": {},
     "output_type": "display_data"
    },
    {
     "name": "stdout",
     "output_type": "stream",
     "text": [
      "# Spectrometer 1 normalized to Line of Wavelength 718.73165\n",
      "\n"
     ]
    },
    {
     "data": {
      "application/vnd.jupyter.widget-view+json": {
       "model_id": "31d1bc3775764355aaa50a2abb681020",
       "version_major": 2,
       "version_minor": 0
      },
      "text/plain": [
       "Canvas(toolbar=Toolbar(toolitems=[('Home', 'Reset original view', 'home', 'home'), ('Back', 'Back to previous …"
      ]
     },
     "metadata": {},
     "output_type": "display_data"
    },
    {
     "data": {
      "application/vnd.jupyter.widget-view+json": {
       "model_id": "badd83f3ef7e4e10964ea7aa139f06e6",
       "version_major": 2,
       "version_minor": 0
      },
      "text/plain": [
       "Canvas(toolbar=Toolbar(toolitems=[('Home', 'Reset original view', 'home', 'home'), ('Back', 'Back to previous …"
      ]
     },
     "metadata": {},
     "output_type": "display_data"
    },
    {
     "name": "stdout",
     "output_type": "stream",
     "text": [
      "# Spectrometer 1 normalized to Line of Wavelength 751.10182\n",
      "\n"
     ]
    },
    {
     "data": {
      "application/vnd.jupyter.widget-view+json": {
       "model_id": "f1aacbc16193458a825b83a7a7ea590f",
       "version_major": 2,
       "version_minor": 0
      },
      "text/plain": [
       "Canvas(toolbar=Toolbar(toolitems=[('Home', 'Reset original view', 'home', 'home'), ('Back', 'Back to previous …"
      ]
     },
     "metadata": {},
     "output_type": "display_data"
    },
    {
     "data": {
      "application/vnd.jupyter.widget-view+json": {
       "model_id": "d5fba5e0a95d42e88bbf9b8a905bb2ef",
       "version_major": 2,
       "version_minor": 0
      },
      "text/plain": [
       "Canvas(toolbar=Toolbar(toolitems=[('Home', 'Reset original view', 'home', 'home'), ('Back', 'Back to previous …"
      ]
     },
     "metadata": {},
     "output_type": "display_data"
    }
   ],
   "source": [
    "#construct a digital twin from the table data\n",
    "current = concentration_data.loc[sample_f]\n",
    "element_names = concentration_data.columns.values[1:]\n",
    "vals =  current.values[1:]\n",
    "sample_elements = []\n",
    "for i in range(0,len(vals)):\n",
    "    #sample_elements.append([element_names[i],vals[i]/vals[-1]])\n",
    "    sample_elements.append([element_names[i],vals[i]])\n",
    "\n",
    "\n",
    "sample = digital_twin(sample_elements)\n",
    "for i in range(0,len(sample.list_of_elements)):\n",
    "    sample.list_of_elements[i].ratio = sample.list_of_elements[i].ratio/(sample.list_of_elements[i].mass/ua)\n",
    "\n",
    "print(sample)\n",
    "\n",
    "for n_spectrometer in range(0,len(sg.wavelengths)):\n",
    "    ll = sg.wavelengths[n_spectrometer][0]\n",
    "    ul = sg.wavelengths[n_spectrometer][-1]\n",
    "\n",
    "    #ion state 1\n",
    "    nlines = 3\n",
    "    l_num, lines = al.get_most_relevant_lines_ion_state(ion_state = 1, electron_temperature=Tp, \n",
    "                                                        n_lines = nlines,lower_limit = ll, upper_limit = ul)\n",
    "\n",
    "    #line to normalize the intensity for direct\n",
    "    line_norm1=lines[1]\n",
    "    print(\"# Spectrometer 1 normalized to \" + str(line_norm1))\n",
    "\n",
    "    sg.compare_to_digital_sample(sample, spectrometer=n_spectrometer,max_ion_state=2, \n",
    "                                 electron_temperature = temperature,electron_density=density,\n",
    "                                 d_lambda=0.02, use_wavelengths=True,line_normalize=line_norm1,Plotline = True, resolution = 5000)"
   ]
  },
  {
   "cell_type": "markdown",
   "metadata": {},
   "source": [
    "# Peak detection and comparison"
   ]
  },
  {
   "cell_type": "code",
   "execution_count": 13,
   "metadata": {},
   "outputs": [
    {
     "name": "stdout",
     "output_type": "stream",
     "text": [
      "# Spectrometer 1 normalized to Line of Wavelength 374.948483\n",
      "\n"
     ]
    },
    {
     "data": {
      "application/vnd.jupyter.widget-view+json": {
       "model_id": "a79f5b6a1ffa4ed891b91eeb5c262f77",
       "version_major": 2,
       "version_minor": 0
      },
      "text/plain": [
       "Canvas(toolbar=Toolbar(toolitems=[('Home', 'Reset original view', 'home', 'home'), ('Back', 'Back to previous …"
      ]
     },
     "metadata": {},
     "output_type": "display_data"
    },
    {
     "data": {
      "application/vnd.jupyter.widget-view+json": {
       "model_id": "d1a6f0e8d93c4cff87716385a9f3d896",
       "version_major": 2,
       "version_minor": 0
      },
      "text/plain": [
       "Canvas(toolbar=Toolbar(toolitems=[('Home', 'Reset original view', 'home', 'home'), ('Back', 'Back to previous …"
      ]
     },
     "metadata": {},
     "output_type": "display_data"
    },
    {
     "name": "stdout",
     "output_type": "stream",
     "text": [
      "[360.54 360.86 361.85 363.14 364.78 365.34 367.99 368.5  368.75 370.56\n",
      " 370.93 371.97 372.26 372.75 373.31 373.49 373.69 374.32 374.55 374.83\n",
      " 374.95 375.82 376.12 376.36 376.7  378.77 379.48 379.94 381.28 381.57\n",
      " 382.02 382.43 382.58 382.76 383.2  383.4  383.81 384.08 385.   385.61\n",
      " 385.99 387.25 387.81 388.29 388.61 389.55 389.95 390.3  390.54 392.29\n",
      " 392.79 393.02 393.36 394.39 396.14 396.83]\n"
     ]
    },
    {
     "name": "stderr",
     "output_type": "stream",
     "text": [
      "C:\\Users\\nunoa\\Anaconda2\\envs\\py36\\lib\\site-packages\\scipy\\_lib\\deprecation.py:20: VisibleDeprecationWarning: Creating an ndarray from ragged nested sequences (which is a list-or-tuple of lists-or-tuples-or ndarrays with different lengths or shapes) is deprecated. If you meant to do this, you must specify 'dtype=object' when creating the ndarray\n",
      "  return fun(*args, **kwargs)\n"
     ]
    }
   ],
   "source": [
    "n_spectrometer = 3\n",
    "\n",
    "ll = sg.wavelengths[n_spectrometer][0]\n",
    "ul = sg.wavelengths[n_spectrometer][-1]\n",
    "\n",
    "#ion state 1\n",
    "nlines = 3\n",
    "l_num, lines = al.get_most_relevant_lines_ion_state(ion_state = 1, electron_temperature=Tp, \n",
    "                                                        n_lines = nlines,lower_limit = ll, upper_limit = ul)\n",
    "\n",
    "#line to normalize the intensity for direct\n",
    "line_norm1=lines[1]\n",
    "print(\"# Spectrometer 1 normalized to \" + str(line_norm1))\n",
    "sg.wavelengths[n_spectrometer] = sg.wavelengths[n_spectrometer]+0.05\n",
    "\n",
    "sg.compare_and_peaks(sample, spectrometer=n_spectrometer,max_ion_state=2, \n",
    "                                 electron_temperature = Tp,\n",
    "                                 d_lambda=0.02, use_wavelengths=True,line_normalize=line_norm1,Plotline = True, resolution = 5000)"
   ]
  },
  {
   "cell_type": "markdown",
   "metadata": {},
   "source": [
    "# Map of lines"
   ]
  },
  {
   "cell_type": "code",
   "execution_count": null,
   "metadata": {},
   "outputs": [],
   "source": [
    "Tp = temperature\n",
    "sample1 = digital_twin([['Fe',1]])\n",
    "specs_0=[]\n",
    "for i in range(0,len(sg.wavelengths)):\n",
    "    wl,spec,label, n_ion, specs = sample1.spectrum_NIST(wl = sg.wavelengths[i], electron_temperature=Tp, electron_density = density, max_ion_state=2,resolution=10000)\n",
    "    specs_0.append(specs)"
   ]
  },
  {
   "cell_type": "code",
   "execution_count": null,
   "metadata": {
    "scrolled": false
   },
   "outputs": [],
   "source": [
    "specs_0\n",
    "for i in range(0,len(specs_0)):\n",
    "    subplots()\n",
    "    subplot(311)\n",
    "    plot(sg.spectrum[i])\n",
    "    subplot(312)\n",
    "    plot(specs_0[i][0])\n",
    "    subplot(313)\n",
    "    conv = np.convolve(sg.spectrum[i],specs_0[i][0][::-1], mode='full')\n",
    "    #conv = np.convolve(specs_0[i][0],specs_0[i][0])\n",
    "    plot(np.arange(-len(sg.spectrum[i])+1,len(sg.spectrum[i])),log10(conv))\n"
   ]
  },
  {
   "cell_type": "code",
   "execution_count": null,
   "metadata": {},
   "outputs": [],
   "source": [
    "print(sg.spectrum[0].shape)\n",
    "specs_0[0][0].shape"
   ]
  },
  {
   "cell_type": "markdown",
   "metadata": {},
   "source": [
    "# Map of Lines in each spectrometer"
   ]
  },
  {
   "cell_type": "code",
   "execution_count": null,
   "metadata": {},
   "outputs": [],
   "source": [
    "Tp = temperature\n",
    "for i in range(0,len(sg.wavelengths)):\n",
    "    wl,spec,label, n_ion, specs = sample.spectrum_NIST(wl = sg.wavelengths[i], electron_temperature=Tp, electron_density = density, max_ion_state=3,d_lambda=0.01, Map=True)\n",
    "    ax = gca()\n",
    "    ax.set_title(\"Map of lines in Spectrometer \"+ str(i))"
   ]
  },
  {
   "cell_type": "markdown",
   "metadata": {},
   "source": [
    "#"
   ]
  },
  {
   "cell_type": "code",
   "execution_count": null,
   "metadata": {},
   "outputs": [],
   "source": [
    "#Choose the element for computing the relevant lines\n",
    "al = element('P')\n",
    "\n",
    "Tp = 1.*T_ref\n",
    "\n",
    "#define the upper and lower limits to find the most relevant nlines\n",
    "#let us define to the\n",
    "n_spectrometer = 6\n",
    "ll = sg.wavelengths[n_spectrometer][0]\n",
    "ul = sg.wavelengths[n_spectrometer][-1]\n",
    "\n",
    "#ion state 1\n",
    "nlines = 2\n",
    "l_num, lines = al.get_most_relevant_lines_ion_state(ion_state = 1, electron_temperature=Tp, n_lines = nlines,lower_limit = ll, upper_limit = ul)\n",
    "\n",
    "#ion state 2\n",
    "nlines = 2\n",
    "l_num2, lines2 = al.get_most_relevant_lines_ion_state(ion_state = 2, electron_temperature=Tp, n_lines = nlines,lower_limit = ll, upper_limit = ul)\n",
    "\n",
    "lines2 = delete(lines2, 0)\n",
    "#compute the plasma temperature\n",
    "temperature, temp_95, r2, y_s, x_s = sg.saha_boltzmann_temperature_v2([lines,lines2],al,electron_density= density, \n",
    "                                                                      ratio_of_maximum = 0.5, radius = 0.1, Plot = True, Plotlines = True, use_max_intensity = False)\n",
    "\n",
    "\n",
    "\n",
    "\n",
    "\n"
   ]
  },
  {
   "cell_type": "code",
   "execution_count": null,
   "metadata": {},
   "outputs": [],
   "source": [
    "lines2"
   ]
  },
  {
   "cell_type": "code",
   "execution_count": null,
   "metadata": {},
   "outputs": [],
   "source": []
  },
  {
   "cell_type": "code",
   "execution_count": null,
   "metadata": {},
   "outputs": [],
   "source": []
  },
  {
   "cell_type": "code",
   "execution_count": null,
   "metadata": {},
   "outputs": [],
   "source": [
    "sample = digital_twin([['Li',1],['Pb',1],['Zn',1],['Cu',1]])\n",
    "\n",
    "Tp = temperature\n",
    "for i in range(0,len(sg.wavelengths)):\n",
    "    wl,spec,label, n_ion, specs = sample.spectrum_NIST( lower_limit = 250, upper_limit = 800, max_ion_state=3,d_lambda=0.01, Map=True)\n",
    "    ax = gca()\n",
    "    ax.set_title(\"Map of lines in Spectrometer \"+ str(i))"
   ]
  },
  {
   "cell_type": "code",
   "execution_count": null,
   "metadata": {},
   "outputs": [],
   "source": [
    "from scipy import interpolate\n",
    "i=2\n",
    "tck = interpolate.splrep(sg.wavelengths[i],sg.spectrum[i])\n",
    "xnew = np.linspace(sg.wavelengths[i][0], sg.wavelengths[i][-1], 5000)\n",
    "ynew = interpolate.splev(xnew, tck, der=0)\n",
    "subplots()\n",
    "plot(xnew,ynew/max(ynew))\n",
    "plot(sg.wavelengths[i],sg.spectrum[i]/max(sg.spectrum[i]), 'o', markersize=1,color='k')\n",
    "#plot(sg.wavelengths[i],specs_0[i][0]/(200))\n",
    "g=gradient(ynew,xnew)\n",
    "gg=gradient(g,xnew)\n",
    "plot(xnew,g/max(abs(g)),ls='-')\n",
    "plot(xnew,gg/max(abs(gg)),ls='-')"
   ]
  },
  {
   "cell_type": "code",
   "execution_count": null,
   "metadata": {},
   "outputs": [],
   "source": []
  },
  {
   "cell_type": "code",
   "execution_count": null,
   "metadata": {},
   "outputs": [],
   "source": [
    "import numpy as np\n",
    "import time\n",
    "import math\n",
    "\n",
    "\n",
    "def tricubic(x):\n",
    "    y = np.zeros_like(x)\n",
    "    idx = (x >= -1) & (x <= 1)\n",
    "    y[idx] = np.power(1.0 - np.power(np.abs(x[idx]), 3), 3)\n",
    "    return y\n",
    "\n",
    "\n",
    "class Loess(object):\n",
    "\n",
    "    @staticmethod\n",
    "    def normalize_array(array):\n",
    "        min_val = np.min(array)\n",
    "        max_val = np.max(array)\n",
    "        return (array - min_val) / (max_val - min_val), min_val, max_val\n",
    "\n",
    "    def __init__(self, xx, yy, degree=1):\n",
    "        self.n_xx, self.min_xx, self.max_xx = self.normalize_array(xx)\n",
    "        self.n_yy, self.min_yy, self.max_yy = self.normalize_array(yy)\n",
    "        self.degree = degree\n",
    "\n",
    "    @staticmethod\n",
    "    def get_min_range(distances, window):\n",
    "        min_idx = np.argmin(distances)\n",
    "        n = len(distances)\n",
    "        if min_idx == 0:\n",
    "            return np.arange(0, window)\n",
    "        if min_idx == n-1:\n",
    "            return np.arange(n - window, n)\n",
    "\n",
    "        min_range = [min_idx]\n",
    "        while len(min_range) < window:\n",
    "            i0 = min_range[0]\n",
    "            i1 = min_range[-1]\n",
    "            if i0 == 0:\n",
    "                min_range.append(i1 + 1)\n",
    "            elif i1 == n-1:\n",
    "                min_range.insert(0, i0 - 1)\n",
    "            elif distances[i0-1] < distances[i1+1]:\n",
    "                min_range.insert(0, i0 - 1)\n",
    "            else:\n",
    "                min_range.append(i1 + 1)\n",
    "        return np.array(min_range)\n",
    "\n",
    "    @staticmethod\n",
    "    def get_weights(distances, min_range):\n",
    "        max_distance = np.max(distances[min_range])\n",
    "        weights = tricubic(distances[min_range] / max_distance)\n",
    "        return weights\n",
    "\n",
    "    def normalize_x(self, value):\n",
    "        return (value - self.min_xx) / (self.max_xx - self.min_xx)\n",
    "\n",
    "    def denormalize_y(self, value):\n",
    "        return value * (self.max_yy - self.min_yy) + self.min_yy\n",
    "\n",
    "    def estimate(self, x, window, use_matrix=False, degree=1):\n",
    "        n_x = self.normalize_x(x)\n",
    "        distances = np.abs(self.n_xx - n_x)\n",
    "        min_range = self.get_min_range(distances, window)\n",
    "        weights = self.get_weights(distances, min_range)\n",
    "\n",
    "        if use_matrix or degree > 1:\n",
    "            wm = np.multiply(np.eye(window), weights)\n",
    "            xm = np.ones((window, degree + 1))\n",
    "\n",
    "            xp = np.array([[math.pow(n_x, p)] for p in range(degree + 1)])\n",
    "            for i in range(1, degree + 1):\n",
    "                xm[:, i] = np.power(self.n_xx[min_range], i)\n",
    "\n",
    "            ym = self.n_yy[min_range]\n",
    "            xmt_wm = np.transpose(xm) @ wm\n",
    "            beta = np.linalg.pinv(xmt_wm @ xm) @ xmt_wm @ ym\n",
    "            y = (beta @ xp)[0]\n",
    "        else:\n",
    "            xx = self.n_xx[min_range]\n",
    "            yy = self.n_yy[min_range]\n",
    "            sum_weight = np.sum(weights)\n",
    "            sum_weight_x = np.dot(xx, weights)\n",
    "            sum_weight_y = np.dot(yy, weights)\n",
    "            sum_weight_x2 = np.dot(np.multiply(xx, xx), weights)\n",
    "            sum_weight_xy = np.dot(np.multiply(xx, yy), weights)\n",
    "\n",
    "            mean_x = sum_weight_x / sum_weight\n",
    "            mean_y = sum_weight_y / sum_weight\n",
    "\n",
    "            b = (sum_weight_xy - mean_x * mean_y * sum_weight) / \\\n",
    "                (sum_weight_x2 - mean_x * mean_x * sum_weight)\n",
    "            a = mean_y - b * mean_x\n",
    "            y = a + b * n_x\n",
    "        return self.denormalize_y(y)\n",
    "\n"
   ]
  },
  {
   "cell_type": "code",
   "execution_count": null,
   "metadata": {},
   "outputs": [],
   "source": [
    "wls=[]\n",
    "sps=[]\n",
    "for i in range(0, len(current_experiment.list_of_signals)):\n",
    "    wavelengths = np.concatenate([w for w in current_experiment.list_of_signals[i].wavelengths])\n",
    "    spectrum = np.concatenate([s for s in current_experiment.list_of_signals[i].spectrum ])\n",
    "    wls=np.concatenate([wls,wavelengths])\n",
    "    sps = np.concatenate([sps,spectrum])\n",
    "\n",
    "    \n",
    "xx = wls\n",
    "yy = sps\n",
    "\n",
    "loess = Loess(xx, yy)\n",
    "\n",
    "for x in xx:\n",
    "    y = loess.estimate(wls, window=5, use_matrix=False, degree=1)\n",
    "    print(x, y)"
   ]
  },
  {
   "cell_type": "code",
   "execution_count": null,
   "metadata": {},
   "outputs": [],
   "source": [
    "subplots()\n",
    "plot(xx,yy,'o',markersize=1)\n",
    "plot(xx,yy,'o',markersize=1)"
   ]
  },
  {
   "cell_type": "code",
   "execution_count": null,
   "metadata": {},
   "outputs": [],
   "source": [
    "for i in range(0, len(sg.wavelengths)):\n",
    "    plot(sg.wavelengths[i],sg.spectrum[i],'-',color='k')"
   ]
  },
  {
   "cell_type": "code",
   "execution_count": null,
   "metadata": {
    "scrolled": true
   },
   "outputs": [],
   "source": [
    "from sklearn.neighbors import RadiusNeighborsRegressor\n",
    "neigh = RadiusNeighborsRegressor(radius=.1)\n",
    "XX = xx.reshape(-1, 1)\n",
    "neigh.fit(XX, yy)"
   ]
  },
  {
   "cell_type": "code",
   "execution_count": null,
   "metadata": {},
   "outputs": [],
   "source": [
    "plot(xx,neigh.predict(XX))"
   ]
  },
  {
   "cell_type": "code",
   "execution_count": null,
   "metadata": {},
   "outputs": [],
   "source": [
    "res_wls.fittedvalues"
   ]
  },
  {
   "cell_type": "code",
   "execution_count": null,
   "metadata": {},
   "outputs": [],
   "source": [
    "sm.add_constant(xx)"
   ]
  },
  {
   "cell_type": "code",
   "execution_count": 19,
   "metadata": {},
   "outputs": [
    {
     "data": {
      "application/vnd.jupyter.widget-view+json": {
       "model_id": "6b7cb88793b540e5b179457768783372",
       "version_major": 2,
       "version_minor": 0
      },
      "text/plain": [
       "Canvas(toolbar=Toolbar(toolitems=[('Home', 'Reset original view', 'home', 'home'), ('Back', 'Back to previous …"
      ]
     },
     "metadata": {},
     "output_type": "display_data"
    },
    {
     "data": {
      "application/vnd.jupyter.widget-view+json": {
       "model_id": "16f838ad5f3b48719e3e46ab121ae6f6",
       "version_major": 2,
       "version_minor": 0
      },
      "text/plain": [
       "Canvas(toolbar=Toolbar(toolitems=[('Home', 'Reset original view', 'home', 'home'), ('Back', 'Back to previous …"
      ]
     },
     "metadata": {},
     "output_type": "display_data"
    }
   ],
   "source": [
    "#Choose the element for computing the relevant lines\n",
    "al = element('Ca')\n",
    "\n",
    "Tp = 1.*T_ref\n",
    "\n",
    "#define the upper and lower limits to find the most relevant nlines\n",
    "#let us define to the\n",
    "n_spectrometer = 2\n",
    "ll = sg.wavelengths[n_spectrometer][0]\n",
    "ul = sg.wavelengths[n_spectrometer][-1]\n",
    "\n",
    "ion_energies = al.ion_energies\n",
    "\n",
    "#ion state 1\n",
    "nlines = 3\n",
    "l_num, lines = al.get_most_relevant_lines_ion_state(ion_state = 1, electron_temperature=Tp, n_lines = nlines,lower_limit = ll, upper_limit = ul)\n",
    "\n",
    "#ion state 2\n",
    "nlines = 2\n",
    "l_num2, lines2 = al.get_most_relevant_lines_ion_state(ion_state = 2, electron_temperature=Tp, n_lines = nlines,lower_limit = ll, upper_limit = ul)\n",
    "\n",
    "#compute the plasma temperature\n",
    "temperature, temp_95, r2, y_s, x_s = sg.saha_boltzmann_temperature_v2([lines,lines2],al,electron_density= density, \n",
    "                                                                      ratio_of_maximum = 0.5, radius = 0.1, Plot = True, Plotlines = True, use_max_intensity = False)\n"
   ]
  },
  {
   "cell_type": "code",
   "execution_count": 24,
   "metadata": {},
   "outputs": [
    {
     "name": "stdout",
     "output_type": "stream",
     "text": [
      "# Spectrometer 1 normalized to Line of Wavelength 357.009748\n",
      "\n"
     ]
    },
    {
     "data": {
      "application/vnd.jupyter.widget-view+json": {
       "model_id": "287a0971c78b4b99893fb64a5125a366",
       "version_major": 2,
       "version_minor": 0
      },
      "text/plain": [
       "Canvas(toolbar=Toolbar(toolitems=[('Home', 'Reset original view', 'home', 'home'), ('Back', 'Back to previous …"
      ]
     },
     "metadata": {},
     "output_type": "display_data"
    },
    {
     "data": {
      "application/vnd.jupyter.widget-view+json": {
       "model_id": "c81b7ccbf48b4b5b974bb5baae7a19c8",
       "version_major": 2,
       "version_minor": 0
      },
      "text/plain": [
       "Canvas(toolbar=Toolbar(toolitems=[('Home', 'Reset original view', 'home', 'home'), ('Back', 'Back to previous …"
      ]
     },
     "metadata": {},
     "output_type": "display_data"
    },
    {
     "name": "stdout",
     "output_type": "stream",
     "text": [
      "[315.97 318.04 320.07 321.48 322.65 322.87 323.53 323.74 323.99 324.27\n",
      " 324.83 325.36 326.22 330.7  332.37 333.01 334.27 335.01 336.19 337.34\n",
      " 338.44 340.82 342.77 344.14 344.47 346.66 347.62 349.12 349.84 351.43\n",
      " 352.19 352.67 355.55 355.91 356.6  357.08 357.93 358.12 358.18 358.59\n",
      " 359.41 360.59 360.73 360.94 361.95 363.2 ]\n"
     ]
    },
    {
     "name": "stderr",
     "output_type": "stream",
     "text": [
      "C:\\Users\\nunoa\\Anaconda2\\envs\\py36\\lib\\site-packages\\scipy\\_lib\\deprecation.py:20: VisibleDeprecationWarning: Creating an ndarray from ragged nested sequences (which is a list-or-tuple of lists-or-tuples-or ndarrays with different lengths or shapes) is deprecated. If you meant to do this, you must specify 'dtype=object' when creating the ndarray\n",
      "  return fun(*args, **kwargs)\n"
     ]
    }
   ],
   "source": [
    "n_spectrometer = 2\n",
    "\n",
    "ll = sg.wavelengths[n_spectrometer][0]\n",
    "ul = sg.wavelengths[n_spectrometer][-1]\n",
    "\n",
    "#ion state 1\n",
    "nlines = 3\n",
    "l_num, lines = al.get_most_relevant_lines_ion_state(ion_state = 1, electron_temperature=Tp, \n",
    "                                                        n_lines = nlines,lower_limit = ll, upper_limit = ul)\n",
    "\n",
    "#line to normalize the intensity for direct\n",
    "line_norm1=lines[1]\n",
    "print(\"# Spectrometer 1 normalized to \" + str(line_norm1))\n",
    "sg.wavelengths[n_spectrometer] = sg.wavelengths[n_spectrometer]+0.05\n",
    "\n",
    "sg.compare_and_peaks(sample, spectrometer=n_spectrometer,max_ion_state=2, \n",
    "                                 electron_temperature = temperature,electron_density=density,\n",
    "                                 d_lambda=0.02, use_wavelengths=True,line_normalize=line_norm1,Plotline = True, resolution = 5000)"
   ]
  },
  {
   "cell_type": "code",
   "execution_count": null,
   "metadata": {},
   "outputs": [],
   "source": []
  }
 ],
 "metadata": {
  "kernelspec": {
   "display_name": "Python 3",
   "language": "python",
   "name": "python3"
  },
  "language_info": {
   "codemirror_mode": {
    "name": "ipython",
    "version": 3
   },
   "file_extension": ".py",
   "mimetype": "text/x-python",
   "name": "python",
   "nbconvert_exporter": "python",
   "pygments_lexer": "ipython3",
   "version": "3.6.12"
  }
 },
 "nbformat": 4,
 "nbformat_minor": 4
}

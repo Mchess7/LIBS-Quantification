{
 "cells": [
  {
   "cell_type": "markdown",
   "metadata": {},
   "source": [
    "# Soil Analysis\n",
    "\n",
    "Analysis of the spectral data obtained for samples from Rio de Frades."
   ]
  },
  {
   "cell_type": "code",
   "execution_count": 1,
   "metadata": {},
   "outputs": [],
   "source": [
    "%matplotlib widget\n",
    "from core.experiment import *"
   ]
  },
  {
   "cell_type": "markdown",
   "metadata": {},
   "source": [
    "# Data table with samples and concentrations"
   ]
  },
  {
   "cell_type": "code",
   "execution_count": 2,
   "metadata": {},
   "outputs": [
    {
     "data": {
      "text/html": [
       "<div>\n",
       "<style scoped>\n",
       "    .dataframe tbody tr th:only-of-type {\n",
       "        vertical-align: middle;\n",
       "    }\n",
       "\n",
       "    .dataframe tbody tr th {\n",
       "        vertical-align: top;\n",
       "    }\n",
       "\n",
       "    .dataframe thead th {\n",
       "        text-align: right;\n",
       "    }\n",
       "</style>\n",
       "<table border=\"1\" class=\"dataframe\">\n",
       "  <thead>\n",
       "    <tr style=\"text-align: right;\">\n",
       "      <th></th>\n",
       "      <th>Sample Number</th>\n",
       "      <th>P</th>\n",
       "      <th>Cr</th>\n",
       "      <th>Mn</th>\n",
       "      <th>As</th>\n",
       "      <th>Mo</th>\n",
       "      <th>Sn</th>\n",
       "      <th>Sb</th>\n",
       "      <th>W</th>\n",
       "      <th>Fe</th>\n",
       "    </tr>\n",
       "    <tr>\n",
       "      <th>Sample folder</th>\n",
       "      <th></th>\n",
       "      <th></th>\n",
       "      <th></th>\n",
       "      <th></th>\n",
       "      <th></th>\n",
       "      <th></th>\n",
       "      <th></th>\n",
       "      <th></th>\n",
       "      <th></th>\n",
       "      <th></th>\n",
       "    </tr>\n",
       "  </thead>\n",
       "  <tbody>\n",
       "    <tr>\n",
       "      <th>RF_SED_1 #1</th>\n",
       "      <td>1</td>\n",
       "      <td>404.264651</td>\n",
       "      <td>183.108079</td>\n",
       "      <td>180.053758</td>\n",
       "      <td>646.322364</td>\n",
       "      <td>4.423902</td>\n",
       "      <td>2.442416</td>\n",
       "      <td>0.638616</td>\n",
       "      <td>39.666314</td>\n",
       "      <td>29778.120919</td>\n",
       "    </tr>\n",
       "    <tr>\n",
       "      <th>RF_SOL_2 #1</th>\n",
       "      <td>2</td>\n",
       "      <td>108.841399</td>\n",
       "      <td>52.820307</td>\n",
       "      <td>59.918221</td>\n",
       "      <td>2637.467883</td>\n",
       "      <td>1.574523</td>\n",
       "      <td>2.296732</td>\n",
       "      <td>1.191073</td>\n",
       "      <td>14.114892</td>\n",
       "      <td>15046.485458</td>\n",
       "    </tr>\n",
       "    <tr>\n",
       "      <th>RF_SOL_4 #1</th>\n",
       "      <td>3</td>\n",
       "      <td>648.862007</td>\n",
       "      <td>100.631385</td>\n",
       "      <td>286.149613</td>\n",
       "      <td>1586.557566</td>\n",
       "      <td>2.391602</td>\n",
       "      <td>3.360891</td>\n",
       "      <td>1.192478</td>\n",
       "      <td>280.882925</td>\n",
       "      <td>54423.162889</td>\n",
       "    </tr>\n",
       "    <tr>\n",
       "      <th>RF_SED_6 #1</th>\n",
       "      <td>4</td>\n",
       "      <td>352.155466</td>\n",
       "      <td>219.057465</td>\n",
       "      <td>178.267311</td>\n",
       "      <td>1269.244303</td>\n",
       "      <td>4.793053</td>\n",
       "      <td>4.496320</td>\n",
       "      <td>1.188751</td>\n",
       "      <td>248.854674</td>\n",
       "      <td>27675.573149</td>\n",
       "    </tr>\n",
       "    <tr>\n",
       "      <th>RF_SOL_7 #1</th>\n",
       "      <td>5</td>\n",
       "      <td>762.449799</td>\n",
       "      <td>88.812787</td>\n",
       "      <td>587.175884</td>\n",
       "      <td>5347.584673</td>\n",
       "      <td>2.296021</td>\n",
       "      <td>6.207885</td>\n",
       "      <td>3.041370</td>\n",
       "      <td>763.857719</td>\n",
       "      <td>67164.779061</td>\n",
       "    </tr>\n",
       "    <tr>\n",
       "      <th>RF_SOL_9 #1</th>\n",
       "      <td>6</td>\n",
       "      <td>561.328295</td>\n",
       "      <td>104.603641</td>\n",
       "      <td>447.228821</td>\n",
       "      <td>1828.854795</td>\n",
       "      <td>1.658271</td>\n",
       "      <td>5.110226</td>\n",
       "      <td>1.215606</td>\n",
       "      <td>801.955187</td>\n",
       "      <td>49220.479469</td>\n",
       "    </tr>\n",
       "    <tr>\n",
       "      <th>RF_SOL_11 #1</th>\n",
       "      <td>7</td>\n",
       "      <td>443.297501</td>\n",
       "      <td>70.749295</td>\n",
       "      <td>201.723348</td>\n",
       "      <td>669.134256</td>\n",
       "      <td>1.191993</td>\n",
       "      <td>2.307629</td>\n",
       "      <td>0.510065</td>\n",
       "      <td>22.111822</td>\n",
       "      <td>49623.854592</td>\n",
       "    </tr>\n",
       "    <tr>\n",
       "      <th>RF_SOL_13 #1</th>\n",
       "      <td>8</td>\n",
       "      <td>531.057788</td>\n",
       "      <td>69.243096</td>\n",
       "      <td>518.444060</td>\n",
       "      <td>895.300112</td>\n",
       "      <td>4.040827</td>\n",
       "      <td>4.475869</td>\n",
       "      <td>1.711593</td>\n",
       "      <td>37.266916</td>\n",
       "      <td>52848.183067</td>\n",
       "    </tr>\n",
       "    <tr>\n",
       "      <th>RF_SOL_15 #1</th>\n",
       "      <td>9</td>\n",
       "      <td>812.045207</td>\n",
       "      <td>95.936482</td>\n",
       "      <td>244.397298</td>\n",
       "      <td>42.233260</td>\n",
       "      <td>2.726452</td>\n",
       "      <td>2.204726</td>\n",
       "      <td>0.692425</td>\n",
       "      <td>4.202369</td>\n",
       "      <td>81539.060738</td>\n",
       "    </tr>\n",
       "    <tr>\n",
       "      <th>RF_SOL_18 #1</th>\n",
       "      <td>10</td>\n",
       "      <td>1026.596994</td>\n",
       "      <td>251.358013</td>\n",
       "      <td>581.438250</td>\n",
       "      <td>908.199262</td>\n",
       "      <td>7.297398</td>\n",
       "      <td>2.407336</td>\n",
       "      <td>0.657088</td>\n",
       "      <td>47.082615</td>\n",
       "      <td>51251.679228</td>\n",
       "    </tr>\n",
       "    <tr>\n",
       "      <th>RF_SOL_20 #1</th>\n",
       "      <td>11</td>\n",
       "      <td>1551.357193</td>\n",
       "      <td>182.271033</td>\n",
       "      <td>275.404096</td>\n",
       "      <td>4779.746393</td>\n",
       "      <td>6.053058</td>\n",
       "      <td>2.983602</td>\n",
       "      <td>2.398524</td>\n",
       "      <td>195.603552</td>\n",
       "      <td>80700.278100</td>\n",
       "    </tr>\n",
       "    <tr>\n",
       "      <th>RF_SOL_21 #1</th>\n",
       "      <td>12</td>\n",
       "      <td>990.885642</td>\n",
       "      <td>146.935906</td>\n",
       "      <td>308.699046</td>\n",
       "      <td>1608.480363</td>\n",
       "      <td>4.660805</td>\n",
       "      <td>2.218633</td>\n",
       "      <td>1.332218</td>\n",
       "      <td>158.451927</td>\n",
       "      <td>67533.847691</td>\n",
       "    </tr>\n",
       "    <tr>\n",
       "      <th>RF_SOL_23 #1</th>\n",
       "      <td>13</td>\n",
       "      <td>1396.162179</td>\n",
       "      <td>211.256895</td>\n",
       "      <td>690.448433</td>\n",
       "      <td>6043.832057</td>\n",
       "      <td>6.515630</td>\n",
       "      <td>4.498396</td>\n",
       "      <td>2.829698</td>\n",
       "      <td>1712.270494</td>\n",
       "      <td>94713.924505</td>\n",
       "    </tr>\n",
       "    <tr>\n",
       "      <th>RF_SOL_26 #1</th>\n",
       "      <td>14</td>\n",
       "      <td>1109.366123</td>\n",
       "      <td>115.466725</td>\n",
       "      <td>261.456517</td>\n",
       "      <td>3585.844048</td>\n",
       "      <td>3.914465</td>\n",
       "      <td>1.977405</td>\n",
       "      <td>2.027272</td>\n",
       "      <td>216.746079</td>\n",
       "      <td>82632.492854</td>\n",
       "    </tr>\n",
       "    <tr>\n",
       "      <th>RF_SOL_27 #1</th>\n",
       "      <td>15</td>\n",
       "      <td>2338.237988</td>\n",
       "      <td>199.507579</td>\n",
       "      <td>696.037902</td>\n",
       "      <td>2134.444208</td>\n",
       "      <td>4.890643</td>\n",
       "      <td>13.377226</td>\n",
       "      <td>1.496844</td>\n",
       "      <td>459.189583</td>\n",
       "      <td>63083.393627</td>\n",
       "    </tr>\n",
       "    <tr>\n",
       "      <th>RFsol15 - Réplica</th>\n",
       "      <td>0</td>\n",
       "      <td>816.579182</td>\n",
       "      <td>102.070467</td>\n",
       "      <td>284.039842</td>\n",
       "      <td>45.486805</td>\n",
       "      <td>2.387193</td>\n",
       "      <td>2.029326</td>\n",
       "      <td>0.514997</td>\n",
       "      <td>2.989443</td>\n",
       "      <td>88413.577414</td>\n",
       "    </tr>\n",
       "  </tbody>\n",
       "</table>\n",
       "</div>"
      ],
      "text/plain": [
       "                   Sample Number            P          Cr          Mn  \\\n",
       "Sample folder                                                           \n",
       "RF_SED_1 #1                    1   404.264651  183.108079  180.053758   \n",
       "RF_SOL_2 #1                    2   108.841399   52.820307   59.918221   \n",
       "RF_SOL_4 #1                    3   648.862007  100.631385  286.149613   \n",
       "RF_SED_6 #1                    4   352.155466  219.057465  178.267311   \n",
       "RF_SOL_7 #1                    5   762.449799   88.812787  587.175884   \n",
       "RF_SOL_9 #1                    6   561.328295  104.603641  447.228821   \n",
       "RF_SOL_11 #1                   7   443.297501   70.749295  201.723348   \n",
       "RF_SOL_13 #1                   8   531.057788   69.243096  518.444060   \n",
       "RF_SOL_15 #1                   9   812.045207   95.936482  244.397298   \n",
       "RF_SOL_18 #1                  10  1026.596994  251.358013  581.438250   \n",
       "RF_SOL_20 #1                  11  1551.357193  182.271033  275.404096   \n",
       "RF_SOL_21 #1                  12   990.885642  146.935906  308.699046   \n",
       "RF_SOL_23 #1                  13  1396.162179  211.256895  690.448433   \n",
       "RF_SOL_26 #1                  14  1109.366123  115.466725  261.456517   \n",
       "RF_SOL_27 #1                  15  2338.237988  199.507579  696.037902   \n",
       "RFsol15 - Réplica              0   816.579182  102.070467  284.039842   \n",
       "\n",
       "                            As        Mo         Sn        Sb            W  \\\n",
       "Sample folder                                                                \n",
       "RF_SED_1 #1         646.322364  4.423902   2.442416  0.638616    39.666314   \n",
       "RF_SOL_2 #1        2637.467883  1.574523   2.296732  1.191073    14.114892   \n",
       "RF_SOL_4 #1        1586.557566  2.391602   3.360891  1.192478   280.882925   \n",
       "RF_SED_6 #1        1269.244303  4.793053   4.496320  1.188751   248.854674   \n",
       "RF_SOL_7 #1        5347.584673  2.296021   6.207885  3.041370   763.857719   \n",
       "RF_SOL_9 #1        1828.854795  1.658271   5.110226  1.215606   801.955187   \n",
       "RF_SOL_11 #1        669.134256  1.191993   2.307629  0.510065    22.111822   \n",
       "RF_SOL_13 #1        895.300112  4.040827   4.475869  1.711593    37.266916   \n",
       "RF_SOL_15 #1         42.233260  2.726452   2.204726  0.692425     4.202369   \n",
       "RF_SOL_18 #1        908.199262  7.297398   2.407336  0.657088    47.082615   \n",
       "RF_SOL_20 #1       4779.746393  6.053058   2.983602  2.398524   195.603552   \n",
       "RF_SOL_21 #1       1608.480363  4.660805   2.218633  1.332218   158.451927   \n",
       "RF_SOL_23 #1       6043.832057  6.515630   4.498396  2.829698  1712.270494   \n",
       "RF_SOL_26 #1       3585.844048  3.914465   1.977405  2.027272   216.746079   \n",
       "RF_SOL_27 #1       2134.444208  4.890643  13.377226  1.496844   459.189583   \n",
       "RFsol15 - Réplica    45.486805  2.387193   2.029326  0.514997     2.989443   \n",
       "\n",
       "                             Fe  \n",
       "Sample folder                    \n",
       "RF_SED_1 #1        29778.120919  \n",
       "RF_SOL_2 #1        15046.485458  \n",
       "RF_SOL_4 #1        54423.162889  \n",
       "RF_SED_6 #1        27675.573149  \n",
       "RF_SOL_7 #1        67164.779061  \n",
       "RF_SOL_9 #1        49220.479469  \n",
       "RF_SOL_11 #1       49623.854592  \n",
       "RF_SOL_13 #1       52848.183067  \n",
       "RF_SOL_15 #1       81539.060738  \n",
       "RF_SOL_18 #1       51251.679228  \n",
       "RF_SOL_20 #1       80700.278100  \n",
       "RF_SOL_21 #1       67533.847691  \n",
       "RF_SOL_23 #1       94713.924505  \n",
       "RF_SOL_26 #1       82632.492854  \n",
       "RF_SOL_27 #1       63083.393627  \n",
       "RFsol15 - Réplica  88413.577414  "
      ]
     },
     "execution_count": 2,
     "metadata": {},
     "output_type": "execute_result"
    }
   ],
   "source": [
    "root_path = \"D:\\\\Data_LIBS\\\\Diana_Capela\\\\Solos\\\\data_repo\\\\\"\n",
    "concentration_data = pd.read_csv(root_path+\"icpms.csv\",sep=\";\")\n",
    "concentration_data.set_index(\"Sample folder\", inplace=True)\n",
    "concentration_data.head(len(concentration_data))"
   ]
  },
  {
   "cell_type": "markdown",
   "metadata": {},
   "source": [
    "## Load the data from folder"
   ]
  },
  {
   "cell_type": "code",
   "execution_count": 3,
   "metadata": {},
   "outputs": [],
   "source": [
    "sample_f = \"RF_SOL_18 #1\"\n",
    "folders = [\"\\\\340spot2\\\\\",\"\\\\340spot1\\\\\",\"\\\\340spot3\\\\\"]\n",
    "folder = folders[0]\n",
    "sample_folder = root_path + sample_f + folder\n",
    "current_experiment = experiment(sample_folder,ignore='0000')\n",
    "list_to_concatenate = []\n",
    "\n",
    "for i in range(1,len(folders)):\n",
    "    folder = folders[i]\n",
    "    sample_folder = root_path + sample_f + folder\n",
    "    list_to_concatenate.append(experiment(sample_folder,ignore='0000'))\n",
    "\n",
    "current_experiment.concatenate(list_to_concatenate)\n",
    "#obtain the mean signal for the 3 shots\n",
    "sg1 = current_experiment.list_of_signals[0]#mean_signal\n",
    "sg2 = current_experiment.list_of_signals[6]#mean_signal\n",
    "sg = current_experiment.mean_signal"
   ]
  },
  {
   "cell_type": "code",
   "execution_count": 7,
   "metadata": {},
   "outputs": [
    {
     "data": {
      "application/vnd.jupyter.widget-view+json": {
       "model_id": "277fe161c9d5460682da2bc6eee4ef11",
       "version_major": 2,
       "version_minor": 0
      },
      "text/plain": [
       "Canvas(toolbar=Toolbar(toolitems=[('Home', 'Reset original view', 'home', 'home'), ('Back', 'Back to previous …"
      ]
     },
     "metadata": {},
     "output_type": "display_data"
    },
    {
     "data": {
      "text/plain": [
       "[<matplotlib.lines.Line2D at 0x1e01aea2320>]"
      ]
     },
     "execution_count": 7,
     "metadata": {},
     "output_type": "execute_result"
    }
   ],
   "source": [
    "subplots()\n",
    "#plot(sg.wavelengths[2],sg.spectrum[2],'-',)\n",
    "plot(sg1.wavelengths[1],sg1.spectrum[1],'-',lw=0.5)\n",
    "plot(sg1.wavelengths[2],sg1.spectrum[2],'-',lw=0.5)\n",
    "plot(sg1.wavelengths[3],sg1.spectrum[3],'-',lw=0.5)\n",
    "plot(sg2.wavelengths[1],sg2.spectrum[1],':',lw=0.5)\n",
    "plot(sg2.wavelengths[2],sg2.spectrum[2],':',lw=0.5)\n",
    "plot(sg2.wavelengths[3],sg2.spectrum[3],':',lw=0.5)\n",
    "#plot(sg2.wavelengths[2],sg2.spectrum[2],'-',lw=0.5)"
   ]
  },
  {
   "cell_type": "markdown",
   "metadata": {},
   "source": [
    "# Computing density\n",
    "Using the H_alpha line from the Balmer series."
   ]
  },
  {
   "cell_type": "code",
   "execution_count": 5,
   "metadata": {},
   "outputs": [
    {
     "data": {
      "application/vnd.jupyter.widget-view+json": {
       "model_id": "c6cf73f804d249548e3a5b6b7be334f9",
       "version_major": 2,
       "version_minor": 0
      },
      "text/plain": [
       "Canvas(toolbar=Toolbar(toolitems=[('Home', 'Reset original view', 'home', 'home'), ('Back', 'Back to previous …"
      ]
     },
     "metadata": {},
     "output_type": "display_data"
    },
    {
     "name": "stdout",
     "output_type": "stream",
     "text": [
      "7.256312485671723e+16 cm^-3\n"
     ]
    }
   ],
   "source": [
    "density, x,y,p = sg.density_H_alpha()\n",
    "print(str(density) + \" cm^-3\")\n",
    "density= density*(10**2)**3"
   ]
  },
  {
   "cell_type": "markdown",
   "metadata": {},
   "source": [
    "# Remove Baseline"
   ]
  },
  {
   "cell_type": "code",
   "execution_count": 7,
   "metadata": {},
   "outputs": [
    {
     "data": {
      "text/plain": [
       "array([293.88976643, 294.41415313, 294.93831183, ..., 162.28475736,\n",
       "       165.5786734 , 168.87282201])"
      ]
     },
     "execution_count": 7,
     "metadata": {},
     "output_type": "execute_result"
    }
   ],
   "source": [
    "sg.remove_baseline()"
   ]
  },
  {
   "cell_type": "markdown",
   "metadata": {},
   "source": [
    "# Computing the plasma temperature\n",
    "Using the Saha-Boltzmann method and choosing the lines"
   ]
  },
  {
   "cell_type": "code",
   "execution_count": 8,
   "metadata": {},
   "outputs": [
    {
     "data": {
      "application/vnd.jupyter.widget-view+json": {
       "model_id": "c0a8919b0b1249ecacea7108c42c56be",
       "version_major": 2,
       "version_minor": 0
      },
      "text/plain": [
       "Canvas(toolbar=Toolbar(toolitems=[('Home', 'Reset original view', 'home', 'home'), ('Back', 'Back to previous …"
      ]
     },
     "metadata": {},
     "output_type": "display_data"
    },
    {
     "data": {
      "application/vnd.jupyter.widget-view+json": {
       "model_id": "873cd54e7e8e47d5915b346990aea87c",
       "version_major": 2,
       "version_minor": 0
      },
      "text/plain": [
       "Canvas(toolbar=Toolbar(toolitems=[('Home', 'Reset original view', 'home', 'home'), ('Back', 'Back to previous …"
      ]
     },
     "metadata": {},
     "output_type": "display_data"
    }
   ],
   "source": [
    "#Choose the element for computing the relevant lines\n",
    "al = element('Fe')\n",
    "\n",
    "Tp = 1.*T_ref\n",
    "\n",
    "#define the upper and lower limits to find the most relevant nlines\n",
    "#let us define to the\n",
    "n_spectrometer = 1\n",
    "ll = sg.wavelengths[n_spectrometer][0]\n",
    "ul = sg.wavelengths[n_spectrometer][-1]\n",
    "\n",
    "ion_energies = al.ion_energies\n",
    "\n",
    "#ion state 1\n",
    "nlines = 5\n",
    "l_num, lines = al.get_most_relevant_lines_ion_state(ion_state = 1, electron_temperature=Tp, n_lines = nlines,lower_limit = ll, upper_limit = ul)\n",
    "\n",
    "#ion state 2\n",
    "nlines = 2\n",
    "l_num2, lines2 = al.get_most_relevant_lines_ion_state(ion_state = 2, electron_temperature=Tp, n_lines = nlines,lower_limit = ll, upper_limit = ul)\n",
    "\n",
    "#compute the plasma temperature\n",
    "temperature, temp_95, r2, y_s, x_s = sg.saha_boltzmann_temperature_v2([lines,lines2],al,electron_density= density, \n",
    "                                                                      ratio_of_maximum = 0.5, radius = 0.1, Plot = True, Plotlines = True, use_max_intensity = False)\n"
   ]
  },
  {
   "cell_type": "code",
   "execution_count": null,
   "metadata": {},
   "outputs": [],
   "source": [
    "#Choose the element for computing the relevant lines\n",
    "al = element('Mn')\n",
    "\n",
    "Tp = 1.*T_ref\n",
    "\n",
    "#define the upper and lower limits to find the most relevant nlines\n",
    "#let us define to the\n",
    "n_spectrometer = 1\n",
    "ll = sg.wavelengths[n_spectrometer][0]\n",
    "ul = sg.wavelengths[n_spectrometer][-1]\n",
    "\n",
    "ion_energies = al.ion_energies\n",
    "\n",
    "#ion state 1\n",
    "nlines = 5\n",
    "l_num, lines = al.get_most_relevant_lines_ion_state(ion_state = 1, electron_temperature=Tp, n_lines = nlines,lower_limit = ll, upper_limit = ul)\n",
    "\n",
    "#ion state 2\n",
    "nlines = 2\n",
    "l_num2, lines2 = al.get_most_relevant_lines_ion_state(ion_state = 2, electron_temperature=Tp, n_lines = nlines,lower_limit = ll, upper_limit = ul)\n",
    "\n",
    "#compute the plasma temperature\n",
    "temperature, temp_95, r2, y_s, x_s = sg.saha_boltzmann_temperature_v2([lines,lines2],al,electron_density= density, \n",
    "                                                                      ratio_of_maximum = 0.5, radius = 0.1, Plot = True, Plotlines = True, use_max_intensity = False)\n"
   ]
  },
  {
   "cell_type": "markdown",
   "metadata": {},
   "source": [
    "# LTE conditions\n",
    "Probing the Mcwrither criterium"
   ]
  },
  {
   "cell_type": "code",
   "execution_count": 9,
   "metadata": {},
   "outputs": [
    {
     "name": "stdout",
     "output_type": "stream",
     "text": [
      "Minimum density in cm^-3: 1.649294e+16\n",
      "Computed density in cm^-3: 7.256312e+16\n",
      "MW criterion - True\n"
     ]
    }
   ],
   "source": [
    "minimum_density = sg.LTE_MW_criterium(4.8,temperature)\n",
    "print(\"Minimum density in cm^-3: \" + str(\"%e\" %minimum_density))\n",
    "print(\"Computed density in cm^-3: \" + str(\"%e\" %(density*(10**-2)**3)))\n",
    "print(\"MW criterion - \" + str(density>(minimum_density*(10**2)**3)))"
   ]
  },
  {
   "cell_type": "code",
   "execution_count": 10,
   "metadata": {
    "scrolled": false
   },
   "outputs": [
    {
     "name": "stdout",
     "output_type": "stream",
     "text": [
      "Digital sample with \n",
      " [ P ratio 33.144084803515895 ] \n",
      " [ Cr ratio 4.834170510672416 ] \n",
      " [ Mn ratio 10.58352678639836 ] \n",
      " [ As ratio 12.121995834195591 ] \n",
      " [ Mo ratio 0.07605417406050567 ] \n",
      " [ Sn ratio 0.0202791328891539 ] \n",
      " [ Sb ratio 0.005396582873326306 ] \n",
      " [ W ratio 0.25610647875761644 ] \n",
      " [ Fe ratio 917.7487550939296 ] \n",
      "# Spectrometer 1 normalized to Line of Wavelength 248.81425299999998\n",
      "\n"
     ]
    },
    {
     "data": {
      "application/vnd.jupyter.widget-view+json": {
       "model_id": "66a7786b24844d9b9e74be54cc9c291c",
       "version_major": 2,
       "version_minor": 0
      },
      "text/plain": [
       "Canvas(toolbar=Toolbar(toolitems=[('Home', 'Reset original view', 'home', 'home'), ('Back', 'Back to previous …"
      ]
     },
     "metadata": {},
     "output_type": "display_data"
    },
    {
     "data": {
      "application/vnd.jupyter.widget-view+json": {
       "model_id": "d024856dd0624706a59586ac60b4f0d5",
       "version_major": 2,
       "version_minor": 0
      },
      "text/plain": [
       "Canvas(toolbar=Toolbar(toolitems=[('Home', 'Reset original view', 'home', 'home'), ('Back', 'Back to previous …"
      ]
     },
     "metadata": {},
     "output_type": "display_data"
    },
    {
     "name": "stdout",
     "output_type": "stream",
     "text": [
      "# Spectrometer 1 normalized to Line of Wavelength 302.063878\n",
      "\n"
     ]
    },
    {
     "data": {
      "application/vnd.jupyter.widget-view+json": {
       "model_id": "d07873d54099414f96ca4de24385102a",
       "version_major": 2,
       "version_minor": 0
      },
      "text/plain": [
       "Canvas(toolbar=Toolbar(toolitems=[('Home', 'Reset original view', 'home', 'home'), ('Back', 'Back to previous …"
      ]
     },
     "metadata": {},
     "output_type": "display_data"
    },
    {
     "data": {
      "application/vnd.jupyter.widget-view+json": {
       "model_id": "2d79bb6d3a8847c2b737c5be9fc060fe",
       "version_major": 2,
       "version_minor": 0
      },
      "text/plain": [
       "Canvas(toolbar=Toolbar(toolitems=[('Home', 'Reset original view', 'home', 'home'), ('Back', 'Back to previous …"
      ]
     },
     "metadata": {},
     "output_type": "display_data"
    },
    {
     "name": "stdout",
     "output_type": "stream",
     "text": [
      "# Spectrometer 1 normalized to Line of Wavelength 357.009748\n",
      "\n"
     ]
    },
    {
     "data": {
      "application/vnd.jupyter.widget-view+json": {
       "model_id": "31279b64aef74af0abc18e0a1371607b",
       "version_major": 2,
       "version_minor": 0
      },
      "text/plain": [
       "Canvas(toolbar=Toolbar(toolitems=[('Home', 'Reset original view', 'home', 'home'), ('Back', 'Back to previous …"
      ]
     },
     "metadata": {},
     "output_type": "display_data"
    },
    {
     "data": {
      "application/vnd.jupyter.widget-view+json": {
       "model_id": "d2a2cc354955475885a6dc763cd7fd8b",
       "version_major": 2,
       "version_minor": 0
      },
      "text/plain": [
       "Canvas(toolbar=Toolbar(toolitems=[('Home', 'Reset original view', 'home', 'home'), ('Back', 'Back to previous …"
      ]
     },
     "metadata": {},
     "output_type": "display_data"
    },
    {
     "name": "stdout",
     "output_type": "stream",
     "text": [
      "# Spectrometer 1 normalized to Line of Wavelength 374.948483\n",
      "\n"
     ]
    },
    {
     "data": {
      "application/vnd.jupyter.widget-view+json": {
       "model_id": "b9866331ee694d688fb3dc9590d9ef2e",
       "version_major": 2,
       "version_minor": 0
      },
      "text/plain": [
       "Canvas(toolbar=Toolbar(toolitems=[('Home', 'Reset original view', 'home', 'home'), ('Back', 'Back to previous …"
      ]
     },
     "metadata": {},
     "output_type": "display_data"
    },
    {
     "data": {
      "application/vnd.jupyter.widget-view+json": {
       "model_id": "17bf3ebaecf149b499aa6384f610d67c",
       "version_major": 2,
       "version_minor": 0
      },
      "text/plain": [
       "Canvas(toolbar=Toolbar(toolitems=[('Home', 'Reset original view', 'home', 'home'), ('Back', 'Back to previous …"
      ]
     },
     "metadata": {},
     "output_type": "display_data"
    },
    {
     "name": "stdout",
     "output_type": "stream",
     "text": [
      "# Spectrometer 1 normalized to Line of Wavelength 438.35444\n",
      "\n"
     ]
    },
    {
     "data": {
      "application/vnd.jupyter.widget-view+json": {
       "model_id": "75c45640a7554310a4846112a7ff8cfe",
       "version_major": 2,
       "version_minor": 0
      },
      "text/plain": [
       "Canvas(toolbar=Toolbar(toolitems=[('Home', 'Reset original view', 'home', 'home'), ('Back', 'Back to previous …"
      ]
     },
     "metadata": {},
     "output_type": "display_data"
    },
    {
     "data": {
      "application/vnd.jupyter.widget-view+json": {
       "model_id": "49bbec364b7346cb91bbe9b6a6968e21",
       "version_major": 2,
       "version_minor": 0
      },
      "text/plain": [
       "Canvas(toolbar=Toolbar(toolitems=[('Home', 'Reset original view', 'home', 'home'), ('Back', 'Back to previous …"
      ]
     },
     "metadata": {},
     "output_type": "display_data"
    },
    {
     "name": "stdout",
     "output_type": "stream",
     "text": [
      "# Spectrometer 1 normalized to Line of Wavelength 538.3368\n",
      "\n"
     ]
    },
    {
     "data": {
      "application/vnd.jupyter.widget-view+json": {
       "model_id": "917bb1f5eeb94d77b646e1f51bcf8c41",
       "version_major": 2,
       "version_minor": 0
      },
      "text/plain": [
       "Canvas(toolbar=Toolbar(toolitems=[('Home', 'Reset original view', 'home', 'home'), ('Back', 'Back to previous …"
      ]
     },
     "metadata": {},
     "output_type": "display_data"
    },
    {
     "data": {
      "application/vnd.jupyter.widget-view+json": {
       "model_id": "0d6383b1dd094ba09267bc6270a84e32",
       "version_major": 2,
       "version_minor": 0
      },
      "text/plain": [
       "Canvas(toolbar=Toolbar(toolitems=[('Home', 'Reset original view', 'home', 'home'), ('Back', 'Back to previous …"
      ]
     },
     "metadata": {},
     "output_type": "display_data"
    },
    {
     "name": "stdout",
     "output_type": "stream",
     "text": [
      "# Spectrometer 1 normalized to Line of Wavelength 718.73165\n",
      "\n"
     ]
    },
    {
     "name": "stderr",
     "output_type": "stream",
     "text": [
      "C:\\Users\\nunoa\\LIBS Repo\\core\\signal.py:783: RuntimeWarning: More than 20 figures have been opened. Figures created through the pyplot interface (`matplotlib.pyplot.figure`) are retained until explicitly closed and may consume too much memory. (To control this warning, see the rcParam `figure.max_open_warning`).\n",
      "  fig, ax = subplots()\n"
     ]
    },
    {
     "data": {
      "application/vnd.jupyter.widget-view+json": {
       "model_id": "fa6b087de6f14e079f53ee55cdf3ea34",
       "version_major": 2,
       "version_minor": 0
      },
      "text/plain": [
       "Canvas(toolbar=Toolbar(toolitems=[('Home', 'Reset original view', 'home', 'home'), ('Back', 'Back to previous …"
      ]
     },
     "metadata": {},
     "output_type": "display_data"
    },
    {
     "data": {
      "application/vnd.jupyter.widget-view+json": {
       "model_id": "a611c94c2e964b9ba3406f4323b18973",
       "version_major": 2,
       "version_minor": 0
      },
      "text/plain": [
       "Canvas(toolbar=Toolbar(toolitems=[('Home', 'Reset original view', 'home', 'home'), ('Back', 'Back to previous …"
      ]
     },
     "metadata": {},
     "output_type": "display_data"
    },
    {
     "name": "stdout",
     "output_type": "stream",
     "text": [
      "# Spectrometer 1 normalized to Line of Wavelength 751.10182\n",
      "\n"
     ]
    },
    {
     "data": {
      "application/vnd.jupyter.widget-view+json": {
       "model_id": "f588cde6df1d46d9af1808836c66fa73",
       "version_major": 2,
       "version_minor": 0
      },
      "text/plain": [
       "Canvas(toolbar=Toolbar(toolitems=[('Home', 'Reset original view', 'home', 'home'), ('Back', 'Back to previous …"
      ]
     },
     "metadata": {},
     "output_type": "display_data"
    },
    {
     "data": {
      "application/vnd.jupyter.widget-view+json": {
       "model_id": "a0ee79890b4c4f3b9e890b02cddc6b32",
       "version_major": 2,
       "version_minor": 0
      },
      "text/plain": [
       "Canvas(toolbar=Toolbar(toolitems=[('Home', 'Reset original view', 'home', 'home'), ('Back', 'Back to previous …"
      ]
     },
     "metadata": {},
     "output_type": "display_data"
    }
   ],
   "source": [
    "#construct a digital twin from the table data\n",
    "current = concentration_data.loc[sample_f]\n",
    "element_names = concentration_data.columns.values[1:]\n",
    "vals =  current.values[1:]\n",
    "sample_elements = []\n",
    "for i in range(0,len(vals)):\n",
    "    #sample_elements.append([element_names[i],vals[i]/vals[-1]])\n",
    "    sample_elements.append([element_names[i],vals[i]])\n",
    "\n",
    "\n",
    "sample = digital_twin(sample_elements)\n",
    "for i in range(0,len(sample.list_of_elements)):\n",
    "    sample.list_of_elements[i].ratio = sample.list_of_elements[i].ratio/(sample.list_of_elements[i].mass/ua)\n",
    "\n",
    "print(sample)\n",
    "\n",
    "for n_spectrometer in range(0,len(sg.wavelengths)):\n",
    "    ll = sg.wavelengths[n_spectrometer][0]\n",
    "    ul = sg.wavelengths[n_spectrometer][-1]\n",
    "\n",
    "    #ion state 1\n",
    "    nlines = 3\n",
    "    l_num, lines = al.get_most_relevant_lines_ion_state(ion_state = 1, electron_temperature=Tp, \n",
    "                                                        n_lines = nlines,lower_limit = ll, upper_limit = ul)\n",
    "\n",
    "    #line to normalize the intensity for direct\n",
    "    line_norm1=lines[1]\n",
    "    print(\"# Spectrometer 1 normalized to \" + str(line_norm1))\n",
    "\n",
    "    sg.compare_to_digital_sample(sample, spectrometer=n_spectrometer,max_ion_state=2, \n",
    "                                 electron_temperature = temperature,electron_density=density,\n",
    "                                 d_lambda=0.02, use_wavelengths=True,line_normalize=line_norm1,Plotline = True)"
   ]
  },
  {
   "cell_type": "code",
   "execution_count": null,
   "metadata": {},
   "outputs": [],
   "source": [
    "a=array([1,2])\n",
    "b=copy(a)\n",
    "b*=2\n",
    "a"
   ]
  },
  {
   "cell_type": "markdown",
   "metadata": {},
   "source": [
    "# Map of Lines in each spectrometer"
   ]
  },
  {
   "cell_type": "code",
   "execution_count": null,
   "metadata": {},
   "outputs": [],
   "source": [
    "Tp = temperature\n",
    "for i in range(0,len(sg.wavelengths)):\n",
    "    wl,spec,label, n_ion, specs = sample.spectrum_NIST(wl = sg.wavelengths[i], electron_temperature=Tp, electron_density = density, max_ion_state=3,d_lambda=0.01, Map=True)\n",
    "    ax = gca()\n",
    "    ax.set_title(\"Map of lines in Spectrometer \"+ str(i))"
   ]
  },
  {
   "cell_type": "markdown",
   "metadata": {},
   "source": [
    "#"
   ]
  },
  {
   "cell_type": "code",
   "execution_count": null,
   "metadata": {},
   "outputs": [],
   "source": [
    "#Choose the element for computing the relevant lines\n",
    "al = element('P')\n",
    "\n",
    "Tp = 1.*T_ref\n",
    "\n",
    "#define the upper and lower limits to find the most relevant nlines\n",
    "#let us define to the\n",
    "n_spectrometer = 6\n",
    "ll = sg.wavelengths[n_spectrometer][0]\n",
    "ul = sg.wavelengths[n_spectrometer][-1]\n",
    "\n",
    "#ion state 1\n",
    "nlines = 2\n",
    "l_num, lines = al.get_most_relevant_lines_ion_state(ion_state = 1, electron_temperature=Tp, n_lines = nlines,lower_limit = ll, upper_limit = ul)\n",
    "\n",
    "#ion state 2\n",
    "nlines = 2\n",
    "l_num2, lines2 = al.get_most_relevant_lines_ion_state(ion_state = 2, electron_temperature=Tp, n_lines = nlines,lower_limit = ll, upper_limit = ul)\n",
    "\n",
    "lines2 = delete(lines2, 0)\n",
    "#compute the plasma temperature\n",
    "temperature, temp_95, r2, y_s, x_s = sg.saha_boltzmann_temperature_v2([lines,lines2],ion_energies,electron_density= density, \n",
    "                                                                      ratio_of_maximum = 0.5, radius = 0.1, Plot = True, Plotlines = True, use_max_intensity = False)\n",
    "\n",
    "\n",
    "\n",
    "\n",
    "\n"
   ]
  },
  {
   "cell_type": "code",
   "execution_count": null,
   "metadata": {},
   "outputs": [],
   "source": []
  },
  {
   "cell_type": "code",
   "execution_count": 13,
   "metadata": {},
   "outputs": [],
   "source": [
    "def classification_line(value):\n",
    "    if value>0.05 and value<0.3:\n",
    "        return \"Low Intensity\"\n",
    "    elif value>=0.3 and value<0.5:\n",
    "        return \"Medium Intensity\"\n",
    "    elif value>=0.5 and value<=1:\n",
    "        return \"High Intensity\"\n",
    "    else:\n",
    "        return \"NA\"\n",
    "\n",
    "def find_possible_lines1(peak_wavelength):\n",
    "    peak_wavelength = round(peak_wavelength, 1)\n",
    "    df = pd.read_csv(\"d_lines.txt\",sep=';')\n",
    "    df['Line']=[round(f,1) for f in df['Line']]\n",
    "    df.sort_values(by=['Line','Relative Intensity'], ascending=[True, False], inplace=True)\n",
    "    df1 = df[df['Relative Intensity']>0.05]\n",
    "    df0 = df1.copy(deep=True)\n",
    "    df0['Relative Intensity'] = [round(f,3) for f in df1['Relative Intensity']]\n",
    "    df0['Class'] = [classification_line(f) for f in df1['Relative Intensity']]\n",
    "    df2 = df0[df0['Class']==\"High Intensity\"]\n",
    "    df3 = df0[df0[\"Line\"]==peak_wavelength]\n",
    "    df4 = df3.sort_values(by=['Relative Intensity'],ascending=[False])\n",
    "    return df4.to_numpy()\n"
   ]
  },
  {
   "cell_type": "code",
   "execution_count": 8,
   "metadata": {
    "scrolled": true
   },
   "outputs": [
    {
     "name": "stderr",
     "output_type": "stream",
     "text": [
      "C:\\Users\\nunoa\\Anaconda2\\envs\\py36\\lib\\site-packages\\ipykernel_launcher.py:2: DeprecationWarning: scipy.arange is deprecated and will be removed in SciPy 2.0.0, use numpy.arange instead\n",
      "  \n"
     ]
    },
    {
     "data": {
      "application/vnd.jupyter.widget-view+json": {
       "model_id": "47fee0753d024509a62eb2e8ee7b68ce",
       "version_major": 2,
       "version_minor": 0
      },
      "text/plain": [
       "Canvas(toolbar=Toolbar(toolitems=[('Home', 'Reset original view', 'home', 'home'), ('Back', 'Back to previous …"
      ]
     },
     "metadata": {},
     "output_type": "display_data"
    },
    {
     "ename": "NameError",
     "evalue": "name 'find_possible_lines1' is not defined",
     "output_type": "error",
     "traceback": [
      "\u001b[1;31m---------------------------------------------------------------------------\u001b[0m",
      "\u001b[1;31mNameError\u001b[0m                                 Traceback (most recent call last)",
      "\u001b[1;32m<ipython-input-8-de4d1723ee8a>\u001b[0m in \u001b[0;36m<module>\u001b[1;34m\u001b[0m\n\u001b[0;32m     13\u001b[0m \u001b[0mlist_possible_lines\u001b[0m \u001b[1;33m=\u001b[0m \u001b[1;33m[\u001b[0m\u001b[1;33m]\u001b[0m\u001b[1;33m\u001b[0m\u001b[1;33m\u001b[0m\u001b[0m\n\u001b[0;32m     14\u001b[0m \u001b[1;32mfor\u001b[0m \u001b[0mi\u001b[0m \u001b[1;32min\u001b[0m \u001b[0mrange\u001b[0m\u001b[1;33m(\u001b[0m\u001b[1;36m0\u001b[0m\u001b[1;33m,\u001b[0m\u001b[0mlen\u001b[0m\u001b[1;33m(\u001b[0m\u001b[0mpeaks_found\u001b[0m\u001b[1;33m)\u001b[0m\u001b[1;33m)\u001b[0m\u001b[1;33m:\u001b[0m\u001b[1;33m\u001b[0m\u001b[1;33m\u001b[0m\u001b[0m\n\u001b[1;32m---> 15\u001b[1;33m     \u001b[0mlist_possible_lines\u001b[0m\u001b[1;33m.\u001b[0m\u001b[0mappend\u001b[0m\u001b[1;33m(\u001b[0m\u001b[0mfind_possible_lines1\u001b[0m\u001b[1;33m(\u001b[0m\u001b[0mpeaks_found\u001b[0m\u001b[1;33m[\u001b[0m\u001b[0mi\u001b[0m\u001b[1;33m]\u001b[0m\u001b[1;33m+\u001b[0m\u001b[1;36m0.05\u001b[0m\u001b[1;33m)\u001b[0m\u001b[1;33m)\u001b[0m\u001b[1;33m\u001b[0m\u001b[1;33m\u001b[0m\u001b[0m\n\u001b[0m\u001b[0;32m     16\u001b[0m \u001b[1;33m\u001b[0m\u001b[0m\n",
      "\u001b[1;31mNameError\u001b[0m: name 'find_possible_lines1' is not defined"
     ]
    }
   ],
   "source": [
    "from scipy import signal\n",
    "wid = arange(0.1,2,0.1)\n",
    "ns = 3\n",
    "#peaks_index = signal.find_peaks_cwt(sg.spectrum[ns],  wid,min_snr = 30, noise_perc = 50)\n",
    "peaks_index = signal.find_peaks(sg.spectrum[ns],  prominence = 100)\n",
    "peaks_index = peaks_index[0]\n",
    "#print(peaks_index)\n",
    "subplots()\n",
    "plot(sg.wavelengths[ns],sg.spectrum[ns])\n",
    "plot(sg.wavelengths[ns][peaks_index],sg.spectrum[ns][peaks_index],'o')\n",
    "\n",
    "peaks_found = sg.wavelengths[ns][peaks_index]\n",
    "list_possible_lines = []\n",
    "for i in range(0,len(peaks_found)):\n",
    "    list_possible_lines.append(find_possible_lines1(peaks_found[i]+0.05))\n",
    "    "
   ]
  },
  {
   "cell_type": "code",
   "execution_count": 7,
   "metadata": {
    "scrolled": false
   },
   "outputs": [
    {
     "data": {
      "application/vnd.jupyter.widget-view+json": {
       "model_id": "2945af82d6874c0c9573ce6f3bb8132b",
       "version_major": 2,
       "version_minor": 0
      },
      "text/plain": [
       "Canvas(toolbar=Toolbar(toolitems=[('Home', 'Reset original view', 'home', 'home'), ('Back', 'Back to previous …"
      ]
     },
     "metadata": {},
     "output_type": "display_data"
    },
    {
     "ename": "NameError",
     "evalue": "name 'ns' is not defined",
     "output_type": "error",
     "traceback": [
      "\u001b[1;31m---------------------------------------------------------------------------\u001b[0m",
      "\u001b[1;31mNameError\u001b[0m                                 Traceback (most recent call last)",
      "\u001b[1;32m<ipython-input-7-e31497597532>\u001b[0m in \u001b[0;36m<module>\u001b[1;34m\u001b[0m\n\u001b[0;32m      1\u001b[0m \u001b[0mfig\u001b[0m\u001b[1;33m,\u001b[0m\u001b[0max\u001b[0m \u001b[1;33m=\u001b[0m \u001b[0mplt\u001b[0m\u001b[1;33m.\u001b[0m\u001b[0msubplots\u001b[0m\u001b[1;33m(\u001b[0m\u001b[1;33m)\u001b[0m\u001b[1;33m\u001b[0m\u001b[1;33m\u001b[0m\u001b[0m\n\u001b[1;32m----> 2\u001b[1;33m \u001b[0mplot\u001b[0m\u001b[1;33m(\u001b[0m\u001b[0msg\u001b[0m\u001b[1;33m.\u001b[0m\u001b[0mwavelengths\u001b[0m\u001b[1;33m[\u001b[0m\u001b[0mns\u001b[0m\u001b[1;33m]\u001b[0m\u001b[1;33m,\u001b[0m\u001b[0msg\u001b[0m\u001b[1;33m.\u001b[0m\u001b[0mspectrum\u001b[0m\u001b[1;33m[\u001b[0m\u001b[0mns\u001b[0m\u001b[1;33m]\u001b[0m\u001b[1;33m)\u001b[0m\u001b[1;33m\u001b[0m\u001b[1;33m\u001b[0m\u001b[0m\n\u001b[0m\u001b[0;32m      3\u001b[0m \u001b[0mplot\u001b[0m\u001b[1;33m(\u001b[0m\u001b[0msg\u001b[0m\u001b[1;33m.\u001b[0m\u001b[0mwavelengths\u001b[0m\u001b[1;33m[\u001b[0m\u001b[0mns\u001b[0m\u001b[1;33m]\u001b[0m\u001b[1;33m[\u001b[0m\u001b[0mpeaks_index\u001b[0m\u001b[1;33m]\u001b[0m\u001b[1;33m,\u001b[0m\u001b[0msg\u001b[0m\u001b[1;33m.\u001b[0m\u001b[0mspectrum\u001b[0m\u001b[1;33m[\u001b[0m\u001b[0mns\u001b[0m\u001b[1;33m]\u001b[0m\u001b[1;33m[\u001b[0m\u001b[0mpeaks_index\u001b[0m\u001b[1;33m]\u001b[0m\u001b[1;33m,\u001b[0m\u001b[1;34m'o'\u001b[0m\u001b[1;33m)\u001b[0m\u001b[1;33m\u001b[0m\u001b[1;33m\u001b[0m\u001b[0m\n\u001b[0;32m      4\u001b[0m \u001b[0msc\u001b[0m \u001b[1;33m=\u001b[0m \u001b[0mplt\u001b[0m\u001b[1;33m.\u001b[0m\u001b[0mscatter\u001b[0m\u001b[1;33m(\u001b[0m\u001b[0msg\u001b[0m\u001b[1;33m.\u001b[0m\u001b[0mwavelengths\u001b[0m\u001b[1;33m[\u001b[0m\u001b[0mns\u001b[0m\u001b[1;33m]\u001b[0m\u001b[1;33m[\u001b[0m\u001b[0mpeaks_index\u001b[0m\u001b[1;33m]\u001b[0m\u001b[1;33m,\u001b[0m\u001b[0msg\u001b[0m\u001b[1;33m.\u001b[0m\u001b[0mspectrum\u001b[0m\u001b[1;33m[\u001b[0m\u001b[0mns\u001b[0m\u001b[1;33m]\u001b[0m\u001b[1;33m[\u001b[0m\u001b[0mpeaks_index\u001b[0m\u001b[1;33m]\u001b[0m\u001b[1;33m,\u001b[0m \u001b[0ms\u001b[0m\u001b[1;33m=\u001b[0m\u001b[1;36m100\u001b[0m\u001b[1;33m)\u001b[0m\u001b[1;33m\u001b[0m\u001b[1;33m\u001b[0m\u001b[0m\n\u001b[0;32m      5\u001b[0m \u001b[1;33m\u001b[0m\u001b[0m\n",
      "\u001b[1;31mNameError\u001b[0m: name 'ns' is not defined"
     ]
    }
   ],
   "source": [
    "fig,ax = plt.subplots()\n",
    "plot(sg.wavelengths[ns],sg.spectrum[ns])\n",
    "plot(sg.wavelengths[ns][peaks_index],sg.spectrum[ns][peaks_index],'o')\n",
    "sc = plt.scatter(sg.wavelengths[ns][peaks_index],sg.spectrum[ns][peaks_index], s=100)\n",
    "\n",
    "annot = ax.annotate(\"\", xy=(0,0), xytext=(20,20),textcoords=\"offset points\",\n",
    "                    bbox=dict(boxstyle=\"round\", fc=\"w\"),\n",
    "                    arrowprops=dict(arrowstyle=\"->\"))\n",
    "annot.set_visible(False)\n",
    "\n",
    "names = array(list_possible_lines)\n",
    "\n",
    "def update_annot(ind):\n",
    "\n",
    "    pos = sc.get_offsets()[ind[\"ind\"][0]]\n",
    "    annot.xy = pos\n",
    "    nn =[names[n] for n in ind[\"ind\"]]\n",
    "    text = \"{}\".format(\"\\n\".join([\"\".join(str(f)) for f in nn]))\n",
    "        #\"\".join(str([names[n] for n in ind[\"ind\"]])))\n",
    "    annot.set_text(text)\n",
    "    annot.get_bbox_patch().set_facecolor(\"b\")\n",
    "    annot.get_bbox_patch().set_alpha(0.4)\n",
    "\n",
    "\n",
    "def hover(event):\n",
    "    vis = annot.get_visible()\n",
    "    if event.inaxes == ax:\n",
    "        cont, ind = sc.contains(event)\n",
    "        if cont:\n",
    "            update_annot(ind)\n",
    "            annot.set_visible(True)\n",
    "            fig.canvas.draw_idle()\n",
    "        else:\n",
    "            if vis:\n",
    "                annot.set_visible(False)\n",
    "                fig.canvas.draw_idle()\n",
    "\n",
    "fig.canvas.mpl_connect(\"motion_notify_event\", hover)\n",
    "\n",
    "n_spectrometer = ns\n",
    "ll = sg.wavelengths[n_spectrometer][0]\n",
    "ul = sg.wavelengths[n_spectrometer][-1]\n",
    "\n",
    "#ion state 1\n",
    "nlines = 3\n",
    "l_num, lines = al.get_most_relevant_lines_ion_state(ion_state = 1, electron_temperature=Tp, \n",
    "                                                        n_lines = nlines,lower_limit = ll, upper_limit = ul)\n",
    "\n",
    "#line to normalize the intensity for direct\n",
    "line_norm1=lines[1]\n",
    "print(\"# Spectrometer 1 normalized to \" + str(line_norm1))\n",
    "\n",
    "sg.compare_to_digital_sample(sample, spectrometer=n_spectrometer,max_ion_state=2, \n",
    "                                 electron_temperature = temperature,electron_density=density,\n",
    "                                 d_lambda=0.02, use_wavelengths=True,line_normalize=line_norm1,resolution = 5000, Plotline = True)\n",
    "    \n",
    "plt.show()\n",
    "\n",
    "list_possible_lines"
   ]
  },
  {
   "cell_type": "code",
   "execution_count": null,
   "metadata": {},
   "outputs": [],
   "source": [
    "ind={\"ind\":[1,2,3]}\n",
    "text = \"{},{}\".format(\"\".join(str([names[n] for n in ind[\"ind\"]])))\n",
    "text"
   ]
  },
  {
   "cell_type": "code",
   "execution_count": null,
   "metadata": {},
   "outputs": [],
   "source": [
    "\n",
    "\"\\n\".join([\"\".join(str(f)) for f in names[1]])"
   ]
  },
  {
   "cell_type": "code",
   "execution_count": 25,
   "metadata": {},
   "outputs": [
    {
     "name": "stderr",
     "output_type": "stream",
     "text": [
      "C:\\Users\\nunoa\\Anaconda2\\envs\\py36\\lib\\site-packages\\ipykernel_launcher.py:2: DeprecationWarning: scipy.arange is deprecated and will be removed in SciPy 2.0.0, use numpy.arange instead\n",
      "  \n"
     ]
    },
    {
     "data": {
      "application/vnd.jupyter.widget-view+json": {
       "model_id": "3f55b3541e6b4f66a7e3dedda545dca1",
       "version_major": 2,
       "version_minor": 0
      },
      "text/plain": [
       "Canvas(toolbar=Toolbar(toolitems=[('Home', 'Reset original view', 'home', 'home'), ('Back', 'Back to previous …"
      ]
     },
     "metadata": {},
     "output_type": "display_data"
    },
    {
     "data": {
      "text/plain": [
       "[<matplotlib.lines.Line2D at 0x19bd34a9358>]"
      ]
     },
     "execution_count": 25,
     "metadata": {},
     "output_type": "execute_result"
    }
   ],
   "source": [
    "from scipy import signal\n",
    "wid = arange(0.1,2,0.1)\n",
    "ns = 3\n",
    "#peaks_index = signal.find_peaks_cwt(sg.spectrum[ns],  wid,min_snr = 30, noise_perc = 50)\n",
    "peaks_index = signal.find_peaks(sg.spectrum[ns],  prominence = 100)\n",
    "peaks_index = peaks_index[0]\n",
    "#print(peaks_index)\n",
    "subplots()\n",
    "plot(sg.wavelengths[ns],sg.spectrum[ns])\n",
    "plot(sg.wavelengths[ns][peaks_index],sg.spectrum[ns][peaks_index],'o')"
   ]
  },
  {
   "cell_type": "code",
   "execution_count": null,
   "metadata": {},
   "outputs": [],
   "source": []
  }
 ],
 "metadata": {
  "kernelspec": {
   "display_name": "Python 3",
   "language": "python",
   "name": "python3"
  },
  "language_info": {
   "codemirror_mode": {
    "name": "ipython",
    "version": 3
   },
   "file_extension": ".py",
   "mimetype": "text/x-python",
   "name": "python",
   "nbconvert_exporter": "python",
   "pygments_lexer": "ipython3",
   "version": "3.6.12"
  }
 },
 "nbformat": 4,
 "nbformat_minor": 4
}

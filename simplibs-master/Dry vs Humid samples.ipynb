{
 "cells": [
  {
   "cell_type": "markdown",
   "metadata": {},
   "source": [
    "# Dry vs Humid samples - data analysis\n",
    "\n",
    "Analysis of the spectral data obtained for NaCl tablets (Miguel Ferreira)."
   ]
  },
  {
   "cell_type": "code",
   "execution_count": 1,
   "metadata": {},
   "outputs": [],
   "source": [
    "%matplotlib widget\n",
    "from core.experiment import *"
   ]
  },
  {
   "cell_type": "markdown",
   "metadata": {},
   "source": [
    "## Load the data from folder"
   ]
  },
  {
   "cell_type": "code",
   "execution_count": 2,
   "metadata": {},
   "outputs": [],
   "source": [
    "root_path = \"D:\\\\Data_LIBS\\\\Miguel\\\\Exp Humidade\\\\\"\n",
    "\n",
    "######################################################################\n",
    "sample_f = \"Dry\"\n",
    "folders = [\"\\\\385 1\\\\\",\"\\\\385 2\\\\\",\"\\\\385 3\\\\\",\"\\\\385 4\\\\\"]\n",
    "folder = folders[0]\n",
    "sample_folder = root_path + sample_f + folder\n",
    "current_experiment = experiment(sample_folder,ignore='0000')\n",
    "list_to_concatenate = []\n",
    "\n",
    "for i in range(1,len(folders)):\n",
    "    folder = folders[i]\n",
    "    sample_folder = root_path + sample_f + folder\n",
    "    list_to_concatenate.append(experiment(sample_folder,ignore='0000'))\n",
    "\n",
    "current_experiment.concatenate(list_to_concatenate)\n",
    "#obtain the mean signal for the 3 shots\n",
    "dry_sg = current_experiment.mean_signal\n",
    "\n",
    "######################################################################\n",
    "sample_f = \"Humid\"\n",
    "folder = folders[0]\n",
    "sample_folder = root_path + sample_f + folder\n",
    "current_experiment = experiment(sample_folder,ignore='0000')\n",
    "list_to_concatenate = []\n",
    "\n",
    "for i in range(1,len(folders)):\n",
    "    folder = folders[i]\n",
    "    sample_folder = root_path + sample_f + folder\n",
    "    list_to_concatenate.append(experiment(sample_folder,ignore='0000'))\n",
    "\n",
    "current_experiment.concatenate(list_to_concatenate)\n",
    "#obtain the mean signal for the 3 shots\n",
    "humid_sg = current_experiment.mean_signal"
   ]
  },
  {
   "cell_type": "markdown",
   "metadata": {},
   "source": [
    "# Computing density\n",
    "Using the H_alpha line from the Balmer series."
   ]
  },
  {
   "cell_type": "code",
   "execution_count": 6,
   "metadata": {},
   "outputs": [
    {
     "data": {
      "application/vnd.jupyter.widget-view+json": {
       "model_id": "cc778498c67b4c3c9c66d5c351ed1ae7",
       "version_major": 2,
       "version_minor": 0
      },
      "text/plain": [
       "Canvas(toolbar=Toolbar(toolitems=[('Home', 'Reset original view', 'home', 'home'), ('Back', 'Back to previous …"
      ]
     },
     "metadata": {},
     "output_type": "display_data"
    },
    {
     "name": "stdout",
     "output_type": "stream",
     "text": [
      "5.861157893461165e+16 cm^-3\n"
     ]
    },
    {
     "data": {
      "application/vnd.jupyter.widget-view+json": {
       "model_id": "88df021f75414433ab051effca02aaa1",
       "version_major": 2,
       "version_minor": 0
      },
      "text/plain": [
       "Canvas(toolbar=Toolbar(toolitems=[('Home', 'Reset original view', 'home', 'home'), ('Back', 'Back to previous …"
      ]
     },
     "metadata": {},
     "output_type": "display_data"
    },
    {
     "name": "stdout",
     "output_type": "stream",
     "text": [
      "5.615586526433432e+16 cm^-3\n"
     ]
    }
   ],
   "source": [
    "###Dry vs Humid\n",
    "density, x,y,p = dry_sg.density_H_alpha()\n",
    "ax = gca()\n",
    "ax.set_title(r\"$H_{\\alpha}$ line fit - Density of Dry sample\")\n",
    "print(str(density) + \" cm^-3\")\n",
    "density= density*(10**2)**3\n",
    "\n",
    "density, x,y,p = humid_sg.density_H_alpha()\n",
    "ax = gca()\n",
    "ax.set_title(r\"$H_{\\alpha}$ line fit - Density of Humid sample\")\n",
    "print(str(density) + \" cm^-3\")\n",
    "density= density*(10**2)**3"
   ]
  },
  {
   "cell_type": "code",
   "execution_count": 31,
   "metadata": {},
   "outputs": [
    {
     "data": {
      "text/plain": [
       "(8, 2048)"
      ]
     },
     "execution_count": 31,
     "metadata": {},
     "output_type": "execute_result"
    }
   ],
   "source": [
    "humid_sg.spectrum.shape"
   ]
  },
  {
   "cell_type": "code",
   "execution_count": 48,
   "metadata": {},
   "outputs": [
    {
     "data": {
      "application/vnd.jupyter.widget-view+json": {
       "model_id": "88b36ecb12094a9196c11e7133afb0bb",
       "version_major": 2,
       "version_minor": 0
      },
      "text/plain": [
       "Canvas(toolbar=Toolbar(toolitems=[('Home', 'Reset original view', 'home', 'home'), ('Back', 'Back to previous …"
      ]
     },
     "metadata": {},
     "output_type": "display_data"
    }
   ],
   "source": [
    "fig = subplots()\n",
    "subplot(211)\n",
    "title(\"Spectrum\")\n",
    "for i in range(0, len(humid_sg.spectrum)):\n",
    "    if i ==0:\n",
    "        fill_between(humid_sg.wavelengths[i],humid_sg.spectrum[i],color = 'b',alpha=0.2, label = \"Humid\")\n",
    "        plot(dry_sg.wavelengths[i],dry_sg.spectrum[i],'-',color = 'k', label = \"Dry\")\n",
    "          \n",
    "    else:\n",
    "        fill_between(humid_sg.wavelengths[i],humid_sg.spectrum[i],color = 'b',alpha=0.2)\n",
    "        plot(dry_sg.wavelengths[i],dry_sg.spectrum[i],'-',color = 'k')\n",
    "      \n",
    "        \n",
    "legend()\n",
    "ax = gca()\n",
    "\n",
    "\n",
    "\n",
    "subplot(212)\n",
    "title(\"Difference Dry - Humid\")\n",
    "for i in range(0, len(humid_sg.spectrum)):\n",
    "    plot(dry_sg.wavelengths[i],dry_sg.spectrum[i]-humid_sg.spectrum[i],'-',color = 'k')\n",
    "\n",
    "#ax.set_yscale('log')"
   ]
  },
  {
   "cell_type": "markdown",
   "metadata": {},
   "source": [
    "# Computing the plasma temperature\n",
    "Using the Saha-Boltzmann method and choosing the lines"
   ]
  },
  {
   "cell_type": "markdown",
   "metadata": {},
   "source": [
    "Using Na"
   ]
  },
  {
   "cell_type": "code",
   "execution_count": 56,
   "metadata": {},
   "outputs": [
    {
     "data": {
      "application/vnd.jupyter.widget-view+json": {
       "model_id": "6a268e6ba45f4945a4b62f266c014ef3",
       "version_major": 2,
       "version_minor": 0
      },
      "text/plain": [
       "Canvas(toolbar=Toolbar(toolitems=[('Home', 'Reset original view', 'home', 'home'), ('Back', 'Back to previous …"
      ]
     },
     "metadata": {},
     "output_type": "display_data"
    },
    {
     "data": {
      "application/vnd.jupyter.widget-view+json": {
       "model_id": "3c7ad1696e9d47c5a23b634ab241efb9",
       "version_major": 2,
       "version_minor": 0
      },
      "text/plain": [
       "Canvas(toolbar=Toolbar(toolitems=[('Home', 'Reset original view', 'home', 'home'), ('Back', 'Back to previous …"
      ]
     },
     "metadata": {},
     "output_type": "display_data"
    },
    {
     "data": {
      "application/vnd.jupyter.widget-view+json": {
       "model_id": "9a146e76397a4a3b88c94375998896db",
       "version_major": 2,
       "version_minor": 0
      },
      "text/plain": [
       "Canvas(toolbar=Toolbar(toolitems=[('Home', 'Reset original view', 'home', 'home'), ('Back', 'Back to previous …"
      ]
     },
     "metadata": {},
     "output_type": "display_data"
    },
    {
     "data": {
      "application/vnd.jupyter.widget-view+json": {
       "model_id": "9bfc0710584c487e903fce6ff11d6e0d",
       "version_major": 2,
       "version_minor": 0
      },
      "text/plain": [
       "Canvas(toolbar=Toolbar(toolitems=[('Home', 'Reset original view', 'home', 'home'), ('Back', 'Back to previous …"
      ]
     },
     "metadata": {},
     "output_type": "display_data"
    }
   ],
   "source": [
    "sg = humid_sg\n",
    "\n",
    "#Choose the element for computing the relevant lines\n",
    "al = element('Na')\n",
    "\n",
    "Tp = 1.*T_ref\n",
    "\n",
    "#define the upper and lower limits to find the most relevant nlines\n",
    "#let us define to the\n",
    "n_spectrometer = 5\n",
    "ll = sg.wavelengths[n_spectrometer][0]\n",
    "ul = sg.wavelengths[n_spectrometer][-1]\n",
    "\n",
    "#ion state 1\n",
    "nlines = 9\n",
    "l_num, lines = al.get_most_relevant_lines_ion_state(ion_state = 1, electron_temperature=Tp, n_lines = nlines,lower_limit = ll, upper_limit = ul)\n",
    "\n",
    "#lines = delete(lines,[0,1,2,3,4,5])\n",
    "\n",
    "#compute the plasma temperature\n",
    "temperature, temp_95, r2, y_s, x_s = sg.saha_boltzmann_temperature_v2([lines],al,electron_density= density, \n",
    "                                                                      ratio_of_maximum = 0.9, radius = 0.1, Plot = True, \n",
    "                                                                      Title = \"Boltzmann Plot - Humid Sample\", Plotlines = True, use_max_intensity = False)\n",
    "\n",
    "sg = dry_sg\n",
    "\n",
    "#compute the plasma temperature\n",
    "temperature, temp_95, r2, y_s, x_s = sg.saha_boltzmann_temperature_v2([lines],al,electron_density= density, \n",
    "                                                                      Title = \"Boltzmann Plot - Dry Sample\", \n",
    "                                                                      ratio_of_maximum = 0.9, radius = 0.1, Plot = True, Plotlines = True, use_max_intensity = False)\n"
   ]
  },
  {
   "cell_type": "markdown",
   "metadata": {},
   "source": [
    "Using Cl"
   ]
  },
  {
   "cell_type": "code",
   "execution_count": 23,
   "metadata": {},
   "outputs": [
    {
     "data": {
      "application/vnd.jupyter.widget-view+json": {
       "model_id": "0cc5fe71d75f4a9e854b02999722a0ea",
       "version_major": 2,
       "version_minor": 0
      },
      "text/plain": [
       "Canvas(toolbar=Toolbar(toolitems=[('Home', 'Reset original view', 'home', 'home'), ('Back', 'Back to previous …"
      ]
     },
     "metadata": {},
     "output_type": "display_data"
    },
    {
     "data": {
      "application/vnd.jupyter.widget-view+json": {
       "model_id": "1ddef17d99374aeeb8d0f138b017e880",
       "version_major": 2,
       "version_minor": 0
      },
      "text/plain": [
       "Canvas(toolbar=Toolbar(toolitems=[('Home', 'Reset original view', 'home', 'home'), ('Back', 'Back to previous …"
      ]
     },
     "metadata": {},
     "output_type": "display_data"
    }
   ],
   "source": [
    "\n",
    "sg = humid_sg\n",
    "\n",
    "#Choose the element for computing the relevant lines\n",
    "al = element('Cl')\n",
    "\n",
    "Tp = 1.*T_ref\n",
    "\n",
    "#define the upper and lower limits to find the most relevant nlines\n",
    "#let us define to the\n",
    "n_spectrometer = 4\n",
    "ll = sg.wavelengths[n_spectrometer][0]\n",
    "ul = sg.wavelengths[n_spectrometer][-1]\n",
    "\n",
    "#ion state 1\n",
    "nlines = 5\n",
    "l_num, lines = al.get_most_relevant_lines_ion_state(ion_state = 1, electron_temperature=Tp, n_lines = nlines,lower_limit = ll, upper_limit = ul)\n",
    "\n",
    "#ion state 2\n",
    "nlines = 2\n",
    "l_num2, lines2 = al.get_most_relevant_lines_ion_state(ion_state = 2, electron_temperature=Tp, n_lines = nlines,lower_limit = ll, upper_limit = ul)\n",
    "\n",
    "#ion state 3\n",
    "nlines = 2\n",
    "l_num3, lines3 = al.get_most_relevant_lines_ion_state(ion_state = 3, electron_temperature=Tp, n_lines = nlines,lower_limit = ll, upper_limit = ul)\n",
    "ion_energies = al.ion_energies\n",
    "\n",
    "#compute the plasma temperature\n",
    "temperature, temp_95, r2, y_s, x_s = sg.saha_boltzmann_temperature_v2([lines,lines2],al,electron_density= density, \n",
    "                                                                      ratio_of_maximum = 0.5, radius = 0.1, Plot = True, Plotlines = True, use_max_intensity = False)\n"
   ]
  },
  {
   "cell_type": "markdown",
   "metadata": {},
   "source": [
    "# LTE conditions\n",
    "Probing the Mcwrither criterium"
   ]
  },
  {
   "cell_type": "code",
   "execution_count": 24,
   "metadata": {},
   "outputs": [
    {
     "name": "stdout",
     "output_type": "stream",
     "text": [
      "Minimum density in cm^-3: 1.865981e+16\n",
      "Computed density in cm^-3: 5.615587e+16\n",
      "MW criterion - True\n"
     ]
    }
   ],
   "source": [
    "minimum_density = sg.LTE_MW_criterium(4.8,temperature)\n",
    "print(\"Minimum density in cm^-3: \" + str(\"%e\" %minimum_density))\n",
    "print(\"Computed density in cm^-3: \" + str(\"%e\" %(density*(10**-2)**3)))\n",
    "print(\"MW criterion - \" + str(density>(minimum_density*(10**2)**3)))"
   ]
  },
  {
   "cell_type": "code",
   "execution_count": null,
   "metadata": {
    "scrolled": false
   },
   "outputs": [],
   "source": [
    "al = element('Na')\n",
    "sample_elements = [['Na',.5],['Cl',.5]]\n",
    "sample = digital_twin(sample_elements)\n",
    "\n",
    "print(sample)\n",
    "\n",
    "for n_spectrometer in range(0,len(sg.wavelengths)):\n",
    "    ll = sg.wavelengths[n_spectrometer][0]\n",
    "    ul = sg.wavelengths[n_spectrometer][-1]\n",
    "\n",
    "    #ion state 1\n",
    "    nlines = 3\n",
    "    l_num, lines = al.get_most_relevant_lines_ion_state(ion_state = 1, electron_temperature=Tp, \n",
    "                                                        n_lines = nlines,lower_limit = ll, upper_limit = ul)\n",
    "\n",
    "    #line to normalize the intensity for direct\n",
    "    line_norm1=lines[1]\n",
    "    print(\"# Spectrometer 1 normalized to \" + str(line_norm1))\n",
    "\n",
    "    sg.compare_to_digital_sample(sample, spectrometer=n_spectrometer, \n",
    "                                 electron_temperature = temperature,electron_density=density,\n",
    "                                 d_lambda=0.02, use_wavelengths=True,line_normalize=line_norm1,Plotline = True)"
   ]
  },
  {
   "cell_type": "code",
   "execution_count": null,
   "metadata": {},
   "outputs": [],
   "source": [
    "a=array([1,2])\n",
    "b=copy(a)\n",
    "b*=2\n",
    "a"
   ]
  },
  {
   "cell_type": "code",
   "execution_count": null,
   "metadata": {},
   "outputs": [],
   "source": [
    "\n",
    "\n",
    "\n",
    "ll = 200.\n",
    "ul = 900.\n",
    "Tp = 1.*T_ref\n",
    "new_wavelengths = np.concatenate([wl for wl in sg.wavelengths])\n",
    "#wl,spec,label, n_ion = al.synthetic_spectrum_NIST(wl = new_wavelengths, lower_limit = ll, upper_limit = ul, electron_temperature=Tp,max_ion_state=3,d_lambda=0.1)\n",
    "wl,spec,label, n_ion, specs = sample.spectrum_NIST(wl = new_wavelengths, lower_limit = ll, upper_limit = ul, electron_temperature=Tp,max_ion_state=3,d_lambda=0.01, Map=True)\n",
    "wl=wl[0]\n",
    "\n"
   ]
  },
  {
   "cell_type": "code",
   "execution_count": null,
   "metadata": {},
   "outputs": [],
   "source": [
    "#define the upper and lower limits to find the most relevant nlines\n",
    "#let us define to the\n",
    "x_ss=[]\n",
    "y_ss=[]\n",
    "for n_spectrometer in range(0,6):\n",
    "    ll = sg.wavelengths[n_spectrometer][0]\n",
    "    ul = sg.wavelengths[n_spectrometer][-1]\n",
    "\n",
    "    #ion state 1\n",
    "    nlines = 5\n",
    "    l_num, lines = al.get_most_relevant_lines_ion_state(ion_state = 1, electron_temperature=Tp, n_lines = nlines,lower_limit = ll, upper_limit = ul)\n",
    "\n",
    "    #ion state 2\n",
    "    nlines = 2\n",
    "    l_num2, lines2 = al.get_most_relevant_lines_ion_state(ion_state = 2, electron_temperature=Tp, n_lines = nlines,lower_limit = ll, upper_limit = ul)\n",
    "\n",
    "    #ion state 3\n",
    "    nlines = 2\n",
    "    l_num3, lines3 = al.get_most_relevant_lines_ion_state(ion_state = 3, electron_temperature=Tp, n_lines = nlines,lower_limit = ll, upper_limit = ul)\n",
    "    ion_energies = al.ion_energies\n",
    "\n",
    "    #compute the plasma temperature\n",
    "    temperature1, temp_95, r2, y_s, x_s = sg.saha_boltzmann_temperature_v2([lines,lines2],ion_energies,electron_density= density, \n",
    "                                                                          ratio_of_maximum = 0.5, radius = 0.1, Plot = False, Plotlines = False, use_max_intensity = False)\n",
    "\n",
    "    x_ss.append(x_s)\n",
    "    y_ss.append(y_s)"
   ]
  }
 ],
 "metadata": {
  "kernelspec": {
   "display_name": "Python 3",
   "language": "python",
   "name": "python3"
  },
  "language_info": {
   "codemirror_mode": {
    "name": "ipython",
    "version": 3
   },
   "file_extension": ".py",
   "mimetype": "text/x-python",
   "name": "python",
   "nbconvert_exporter": "python",
   "pygments_lexer": "ipython3",
   "version": "3.6.12"
  }
 },
 "nbformat": 4,
 "nbformat_minor": 4
}

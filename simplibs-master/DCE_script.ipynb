{
 "cells": [
  {
   "cell_type": "markdown",
   "metadata": {},
   "source": [
    "# DCE Script\n",
    "\n",
    "Analysis of the Cu target with varying pulse duration."
   ]
  },
  {
   "cell_type": "code",
   "execution_count": 1,
   "metadata": {},
   "outputs": [],
   "source": [
    "%matplotlib widget\n",
    "from core.experiment import *"
   ]
  },
  {
   "cell_type": "markdown",
   "metadata": {},
   "source": [
    "## Load the data from folder and compute temperature"
   ]
  },
  {
   "cell_type": "code",
   "execution_count": 2,
   "metadata": {
    "scrolled": false
   },
   "outputs": [
    {
     "name": "stdout",
     "output_type": "stream",
     "text": [
      "Pulse duration 10\n",
      "[Wavelength - 521.8202 - ion 1.0\n",
      " Wavelength - 515.3238 - ion 1.0\n",
      " Wavelength - 510.5548 - ion 1.0\n",
      " Wavelength - 522.007 - ion 1.0\n",
      " Wavelength - 578.2126 - ion 1.0\n",
      "]\n"
     ]
    },
    {
     "data": {
      "application/vnd.jupyter.widget-view+json": {
       "model_id": "3c01912c3a1447dfb9560c1ed836b40b",
       "version_major": 2,
       "version_minor": 0
      },
      "text/plain": [
       "Canvas(toolbar=Toolbar(toolitems=[('Home', 'Reset original view', 'home', 'home'), ('Back', 'Back to previous …"
      ]
     },
     "metadata": {},
     "output_type": "display_data"
    },
    {
     "data": {
      "application/vnd.jupyter.widget-view+json": {
       "model_id": "888b18b2f6c7425785cc1fe5768a5fc4",
       "version_major": 2,
       "version_minor": 0
      },
      "text/plain": [
       "Canvas(toolbar=Toolbar(toolitems=[('Home', 'Reset original view', 'home', 'home'), ('Back', 'Back to previous …"
      ]
     },
     "metadata": {},
     "output_type": "display_data"
    },
    {
     "name": "stdout",
     "output_type": "stream",
     "text": [
      "Pulse duration 100\n",
      "[Wavelength - 521.8202 - ion 1.0\n",
      " Wavelength - 515.3238 - ion 1.0\n",
      " Wavelength - 510.5548 - ion 1.0\n",
      " Wavelength - 522.007 - ion 1.0\n",
      " Wavelength - 578.2126 - ion 1.0\n",
      "]\n"
     ]
    },
    {
     "data": {
      "application/vnd.jupyter.widget-view+json": {
       "model_id": "d2cf0123d02d41ca89f425fa080142a3",
       "version_major": 2,
       "version_minor": 0
      },
      "text/plain": [
       "Canvas(toolbar=Toolbar(toolitems=[('Home', 'Reset original view', 'home', 'home'), ('Back', 'Back to previous …"
      ]
     },
     "metadata": {},
     "output_type": "display_data"
    },
    {
     "data": {
      "application/vnd.jupyter.widget-view+json": {
       "model_id": "8e4e26bb5cfe40e28f67f3ada3dd379b",
       "version_major": 2,
       "version_minor": 0
      },
      "text/plain": [
       "Canvas(toolbar=Toolbar(toolitems=[('Home', 'Reset original view', 'home', 'home'), ('Back', 'Back to previous …"
      ]
     },
     "metadata": {},
     "output_type": "display_data"
    },
    {
     "name": "stdout",
     "output_type": "stream",
     "text": [
      "Pulse duration 20\n",
      "[Wavelength - 521.8202 - ion 1.0\n",
      " Wavelength - 515.3238 - ion 1.0\n",
      " Wavelength - 510.5548 - ion 1.0\n",
      " Wavelength - 522.007 - ion 1.0\n",
      " Wavelength - 578.2126 - ion 1.0\n",
      "]\n"
     ]
    },
    {
     "data": {
      "application/vnd.jupyter.widget-view+json": {
       "model_id": "621325bc804a46a8893970f1bc478163",
       "version_major": 2,
       "version_minor": 0
      },
      "text/plain": [
       "Canvas(toolbar=Toolbar(toolitems=[('Home', 'Reset original view', 'home', 'home'), ('Back', 'Back to previous …"
      ]
     },
     "metadata": {},
     "output_type": "display_data"
    },
    {
     "data": {
      "application/vnd.jupyter.widget-view+json": {
       "model_id": "5342b081be264ba5bbf98c3ce1c60067",
       "version_major": 2,
       "version_minor": 0
      },
      "text/plain": [
       "Canvas(toolbar=Toolbar(toolitems=[('Home', 'Reset original view', 'home', 'home'), ('Back', 'Back to previous …"
      ]
     },
     "metadata": {},
     "output_type": "display_data"
    },
    {
     "name": "stdout",
     "output_type": "stream",
     "text": [
      "Pulse duration 50\n",
      "[Wavelength - 521.8202 - ion 1.0\n",
      " Wavelength - 515.3238 - ion 1.0\n",
      " Wavelength - 510.5548 - ion 1.0\n",
      " Wavelength - 522.007 - ion 1.0\n",
      " Wavelength - 578.2126 - ion 1.0\n",
      "]\n"
     ]
    },
    {
     "data": {
      "application/vnd.jupyter.widget-view+json": {
       "model_id": "361ca86169da4bb4b405c0262c6a0e22",
       "version_major": 2,
       "version_minor": 0
      },
      "text/plain": [
       "Canvas(toolbar=Toolbar(toolitems=[('Home', 'Reset original view', 'home', 'home'), ('Back', 'Back to previous …"
      ]
     },
     "metadata": {},
     "output_type": "display_data"
    },
    {
     "data": {
      "application/vnd.jupyter.widget-view+json": {
       "model_id": "e1ccf405defa46bdb88e775d8c821697",
       "version_major": 2,
       "version_minor": 0
      },
      "text/plain": [
       "Canvas(toolbar=Toolbar(toolitems=[('Home', 'Reset original view', 'home', 'home'), ('Back', 'Back to previous …"
      ]
     },
     "metadata": {},
     "output_type": "display_data"
    },
    {
     "name": "stdout",
     "output_type": "stream",
     "text": [
      "Pulse duration 75\n",
      "[Wavelength - 521.8202 - ion 1.0\n",
      " Wavelength - 515.3238 - ion 1.0\n",
      " Wavelength - 510.5548 - ion 1.0\n",
      " Wavelength - 522.007 - ion 1.0\n",
      " Wavelength - 578.2126 - ion 1.0\n",
      "]\n"
     ]
    },
    {
     "data": {
      "application/vnd.jupyter.widget-view+json": {
       "model_id": "37ea4a9a2fc9497e997b9560c08f2af8",
       "version_major": 2,
       "version_minor": 0
      },
      "text/plain": [
       "Canvas(toolbar=Toolbar(toolitems=[('Home', 'Reset original view', 'home', 'home'), ('Back', 'Back to previous …"
      ]
     },
     "metadata": {},
     "output_type": "display_data"
    },
    {
     "data": {
      "application/vnd.jupyter.widget-view+json": {
       "model_id": "a78788994cdf49f681c4e5852761bc2b",
       "version_major": 2,
       "version_minor": 0
      },
      "text/plain": [
       "Canvas(toolbar=Toolbar(toolitems=[('Home', 'Reset original view', 'home', 'home'), ('Back', 'Back to previous …"
      ]
     },
     "metadata": {},
     "output_type": "display_data"
    }
   ],
   "source": [
    "root_path = \"C:\\\\Users\\\\Miguel\\\\Desktop\\\\Experiência de impulsos\\\\2021-02-26\\\\Spectrometer 3\\\\Target Cu 99,999% LOT001953\\\\\"\n",
    "\n",
    "\n",
    "#loads the data\n",
    "folders = [f for f in os.listdir(root_path)]\n",
    "list_of_experiments=[]\n",
    "pulse_duration = []\n",
    "\n",
    "for i in range(0,len(folders)):\n",
    "    folder = folders[i]\n",
    "    sample_folder = root_path + folder +\"\\\\\"\n",
    "    list_of_experiments.append(experiment(sample_folder))\n",
    "    try:\n",
    "        pulse_duration.append(int(folder.split(' ')[0]))\n",
    "    except:\n",
    "        pulse_duration.append(folder)\n",
    "\n",
    "########################################################\n",
    "#Choose the element for computing the relevant lines\n",
    "al = element(\"Cu\")\n",
    "\n",
    "#######################################################\n",
    "\n",
    "temperatures=[]\n",
    "temps_95=[]\n",
    "\n",
    "\n",
    "#gets background signal\n",
    "back=list_of_experiments[-1].mean_signal\n",
    "\n",
    "#for each pulse duration, computes the plasma temperature\n",
    "for i in range(0,len(list_of_experiments)-1):#-1 to ignore background\n",
    "    \n",
    "    print(\"Pulse duration \" + str(pulse_duration[i]))\n",
    "    \n",
    "    #gets the mean signal for current experiment\n",
    "    sg = list_of_experiments[i].mean_signal\n",
    "    \n",
    "    #corrections - removes background and baseline\n",
    "    sg.spectrum[0] = sg.spectrum[0] - back.spectrum[0]  \n",
    "    sg.remove_baseline()\n",
    "\n",
    "    \n",
    "    \n",
    "    #define the upper and lower limits to find the most relevant nlines\n",
    "    #let us define to the\n",
    "    n_spectrometer = 0\n",
    "    ll = sg.wavelengths[n_spectrometer][0]\n",
    "    ul = sg.wavelengths[n_spectrometer][-1]\n",
    "\n",
    "    #ion state 1\n",
    "    nlines = 5\n",
    "    l_num, lines = al.get_most_relevant_lines_ion_state(ion_state = 1, \n",
    "                        n_lines = nlines,lower_limit = ll, upper_limit = ul)\n",
    "    print(lines)\n",
    "    lines=np.delete(lines,[3])\n",
    "    \n",
    "    #compute the plasma temperature\n",
    "    temperature, temp_95, r2, y_s, x_s = sg.saha_boltzmann_temperature_v2([lines],al, \n",
    "                    ratio_of_maximum = 0.5, radius = 0.5, \n",
    "                    Plot = True, Plotlines = True, use_max_intensity = False)\n",
    "\n",
    "    temperatures.append(temperature)\n",
    "    temps_95.append(temp_95)"
   ]
  },
  {
   "cell_type": "markdown",
   "metadata": {},
   "source": [
    "# Plot Boltzmann"
   ]
  },
  {
   "cell_type": "code",
   "execution_count": 3,
   "metadata": {},
   "outputs": [
    {
     "name": "stdout",
     "output_type": "stream",
     "text": [
      "Pulse duration 50\n"
     ]
    },
    {
     "data": {
      "application/vnd.jupyter.widget-view+json": {
       "model_id": "30755440604c42569fb3a3730930a185",
       "version_major": 2,
       "version_minor": 0
      },
      "text/plain": [
       "Canvas(toolbar=Toolbar(toolitems=[('Home', 'Reset original view', 'home', 'home'), ('Back', 'Back to previous …"
      ]
     },
     "metadata": {},
     "output_type": "display_data"
    },
    {
     "data": {
      "text/plain": [
       "Text(0, 0.5, '$log(I_{ij}^{*}/(g_i A_{ij}))$')"
      ]
     },
     "execution_count": 3,
     "metadata": {},
     "output_type": "execute_result"
    }
   ],
   "source": [
    "i=3\n",
    "\n",
    "print(\"Pulse duration \" + str(pulse_duration[i]))\n",
    "    \n",
    "#gets the mean signal for current experiment\n",
    "sg = list_of_experiments[i].mean_signal\n",
    "#compute the plasma temperature\n",
    "temperature, temp_95, r2, y_s, x_s = sg.saha_boltzmann_temperature_v2([lines],al, \n",
    "                    ratio_of_maximum = 0.5, radius = 0.5, \n",
    "                    Plot = True, Plotlines = False, use_max_intensity = False)\n",
    "\n",
    "#get current matplotlib axes\n",
    "ax = gca()\n",
    "ax.set_xlabel(ax.get_xlabel(),fontsize=12)\n",
    "ax.set_ylabel(ax.get_ylabel(),fontsize=12)"
   ]
  },
  {
   "cell_type": "markdown",
   "metadata": {},
   "source": [
    "# Compare with a digital twin"
   ]
  },
  {
   "cell_type": "code",
   "execution_count": 4,
   "metadata": {},
   "outputs": [
    {
     "name": "stdout",
     "output_type": "stream",
     "text": [
      "Digital sample with \n",
      " [ Cu ratio 1 ] \n",
      "# Spectrometer 1 normalized to Line of Wavelength 515.3238\n",
      "\n"
     ]
    },
    {
     "data": {
      "application/vnd.jupyter.widget-view+json": {
       "model_id": "6ac162a04d4d4d4eba88be227c72f446",
       "version_major": 2,
       "version_minor": 0
      },
      "text/plain": [
       "Canvas(toolbar=Toolbar(toolitems=[('Home', 'Reset original view', 'home', 'home'), ('Back', 'Back to previous …"
      ]
     },
     "metadata": {},
     "output_type": "display_data"
    },
    {
     "data": {
      "application/vnd.jupyter.widget-view+json": {
       "model_id": "7c308c1cab3241cbac0cf85a144ee551",
       "version_major": 2,
       "version_minor": 0
      },
      "text/plain": [
       "Canvas(toolbar=Toolbar(toolitems=[('Home', 'Reset original view', 'home', 'home'), ('Back', 'Back to previous …"
      ]
     },
     "metadata": {},
     "output_type": "display_data"
    }
   ],
   "source": [
    "sample_elements = [['Cu',1]]\n",
    "sample = digital_twin(sample_elements)\n",
    "\n",
    "print(sample)\n",
    "\n",
    "temperature =.80*T_ref\n",
    "sg = list_of_experiments[0].mean_signal\n",
    "sg.remove_baseline()\n",
    "\n",
    "for n_spectrometer in range(0,len(sg.wavelengths)):\n",
    "    \n",
    "    \n",
    "    ll = sg.wavelengths[n_spectrometer][0]\n",
    "    ul = sg.wavelengths[n_spectrometer][-1]\n",
    "\n",
    "    #ion state 1\n",
    "    nlines = 5\n",
    "    l_num, lines = al.get_most_relevant_lines_ion_state(ion_state = 1, electron_temperature=temperature, \n",
    "                                                        n_lines = nlines,lower_limit = ll, upper_limit = ul)\n",
    "\n",
    "    #line to normalize the intensity for direct\n",
    "    line_norm1=lines[1]\n",
    "    print(\"# Spectrometer 1 normalized to \" + str(line_norm1))\n",
    "\n",
    "    sg.compare_to_digital_sample(sample, spectrometer=n_spectrometer, \n",
    "                                 electron_temperature = temperature,\n",
    "                                 d_lambda=0.02, use_wavelengths=False,line_normalize=line_norm1,\n",
    "                                 resolution = 2000, Plotline = True)"
   ]
  },
  {
   "cell_type": "markdown",
   "metadata": {},
   "source": [
    "# Variation of the intensity of a line"
   ]
  },
  {
   "cell_type": "code",
   "execution_count": 14,
   "metadata": {
    "scrolled": false
   },
   "outputs": [
    {
     "name": "stderr",
     "output_type": "stream",
     "text": [
      "C:\\Users\\Miguel\\Anaconda3\\lib\\site-packages\\ipykernel_launcher.py:59: RuntimeWarning: More than 20 figures have been opened. Figures created through the pyplot interface (`matplotlib.pyplot.figure`) are retained until explicitly closed and may consume too much memory. (To control this warning, see the rcParam `figure.max_open_warning`).\n"
     ]
    },
    {
     "data": {
      "application/vnd.jupyter.widget-view+json": {
       "model_id": "4b7a54183b574e94b13d7070c2e4a3f3",
       "version_major": 2,
       "version_minor": 0
      },
      "text/plain": [
       "Canvas(toolbar=Toolbar(toolitems=[('Home', 'Reset original view', 'home', 'home'), ('Back', 'Back to previous …"
      ]
     },
     "metadata": {},
     "output_type": "display_data"
    }
   ],
   "source": [
    "durations = []\n",
    "total_int=[]\n",
    "nions=[]\n",
    "\n",
    "#for each experiment\n",
    "for j in range(0,len(list_of_experiments)-1):\n",
    "    \n",
    "    #gets the current experiment (a single pulse duration)\n",
    "    current_experiment = list_of_experiments[j]\n",
    "\n",
    "    intensities=[]\n",
    "    \n",
    "    #for each signal in experiment\n",
    "    for i in range(1, len(current_experiment.list_of_signals)):\n",
    "        \n",
    "        #peak area at ratio of maximum\n",
    "        ratio_of_maximum = 0.1\n",
    "        wavelengths = np.concatenate([w for w in current_experiment.list_of_signals[i].wavelengths]) \n",
    "        spectrum = np.concatenate([s for s in current_experiment.list_of_signals[i].spectrum ])\n",
    "        radius = .3\n",
    "        #line wavelenght to find\n",
    "        ritz = 578.2\n",
    "        \n",
    "        #get peak area\n",
    "        #subplots()\n",
    "        intensity = get_peak_area(ritz,ratio_of_maximum , wavelengths, spectrum, radius, Plot=False)\n",
    "        intensities.append(intensity)\n",
    "    \n",
    "    \n",
    "    temperature = temperatures[j]\n",
    "    wl,spec,label, n_ion, specs = sample.spectrum_NIST( lower_limit = ll, upper_limit = ul, electron_temperature=temperature,\n",
    "                                                   max_ion_state=3,d_lambda=0.01, Map=False)\n",
    "    \n",
    "    Z_ion = partition_function(al.label,str(0),temperature/T_ref)\n",
    "    \n",
    "    #nions is the ratio R = N/U\n",
    "    nions.append(n_ion/Z_ion)\n",
    "    \n",
    "    \n",
    "    intensities=array(intensities)\n",
    "    durations.append(pulse_duration[j]*ones(intensities.shape))\n",
    "    total_int.append(intensities)\n",
    "    \n",
    "\n",
    "    \n",
    "nions=np.array(nions)    \n",
    "durations=np.array(durations)\n",
    "total_int = np.array(total_int)\n",
    "std_d = np.std(total_int,axis=1)\n",
    "\n",
    "#aaa = array([array([yy,xx]) for yy,xx in sorted(zip(times,areas_mean-areas_error_bars[0,:]))])\n",
    "mean_durations = [y for y, x in sorted(zip(np.mean(durations,axis=1),np.mean(total_int,axis=1)), key=lambda pair: pair[0])]\n",
    "mean_intensities = [x for y, x in sorted(zip(np.mean(durations,axis=1),np.mean(total_int,axis=1)), key=lambda pair: pair[0])]\n",
    "std_d_ord = [x for y, x in sorted(zip(np.mean(durations,axis=1),std_d), key=lambda pair: pair[0])]\n",
    "mean_temperatures = [x for y, x in sorted(zip(np.mean(durations,axis=1),temperatures), key=lambda pair: pair[0])]\n",
    "mean_nions = [x for y, x in sorted(zip(np.mean(durations,axis=1),nions[:,0,0]), key=lambda pair: pair[0])]\n",
    "\n",
    "\n",
    "fig,ax = subplots(figsize=[6,5])\n",
    "subplot(211)\n",
    "ax1 = gca()\n",
    "plot(durations,total_int/mean_intensities[0],'.',color = \"gray\")\n",
    "errorbar(mean_durations,mean_intensities/mean_intensities[0],yerr=std_d/mean_intensities[0],color='k',lw=1,elinewidth=1,capsize=5)\n",
    "xlabel(r\"Pulse duration $\\tau_p$ (ns)\", fontsize=12)\n",
    "ylabel(r\"$\\frac{I}{I_{10ns}}$ at 578.2nm (arb.un.)\", fontsize=12)\n",
    "\n",
    "subplot(212)\n",
    "\n",
    "ax2= gca()\n",
    "\n",
    "ax2.set_ylabel(r'$T_{plasma}$ (eV)', fontsize=12)  # we already handled the x-label with ax1\n",
    "ax2.plot(mean_durations, np.array(mean_temperatures)/T_ref, '--',marker = 'o', color='k')\n",
    "\n",
    "ax1 = ax2.twinx()  # instantiate a second axes that shares the same x-axis\n",
    "\n",
    "ax1.plot(mean_durations,mean_nions, ':',marker = 'x', color='gray')\n",
    "ax1.set_ylabel(r'Predicted $R(T_{p})$ (arb.un.)', fontsize=12)\n",
    "ax1.yaxis.label.set_color('gray')\n",
    "ax2.set_xlabel(r\"Pulse duration $\\tau_p$ (ns)\", fontsize=12)\n",
    "fig.tight_layout()  # otherwise the right y-label is slightly clipped"
   ]
  },
  {
   "cell_type": "markdown",
   "metadata": {},
   "source": [
    "# Plots for pulses, signals"
   ]
  },
  {
   "cell_type": "code",
   "execution_count": 23,
   "metadata": {},
   "outputs": [
    {
     "name": "stderr",
     "output_type": "stream",
     "text": [
      "C:\\Users\\Miguel\\Anaconda3\\lib\\site-packages\\ipykernel_launcher.py:1: RuntimeWarning: More than 20 figures have been opened. Figures created through the pyplot interface (`matplotlib.pyplot.figure`) are retained until explicitly closed and may consume too much memory. (To control this warning, see the rcParam `figure.max_open_warning`).\n",
      "  \"\"\"Entry point for launching an IPython kernel.\n"
     ]
    },
    {
     "data": {
      "application/vnd.jupyter.widget-view+json": {
       "model_id": "550cdda991654b80a7487248757448e4",
       "version_major": 2,
       "version_minor": 0
      },
      "text/plain": [
       "Canvas(toolbar=Toolbar(toolitems=[('Home', 'Reset original view', 'home', 'home'), ('Back', 'Back to previous …"
      ]
     },
     "metadata": {},
     "output_type": "display_data"
    }
   ],
   "source": [
    "fig,ax=subplots(figsize=[8,3])\n",
    "sg=list_of_experiments[0].mean_signal\n",
    "plot(sg.wavelengths[0], sg.spectrum[0], '-',  label = r\"$\\tau_p = $\" + str(pulse_duration[0]) + \" $ns$\")\n",
    "\n",
    "g=list_of_experiments[3].mean_signal\n",
    "plot(sg.wavelengths[0], sg.spectrum[0], '-.', label = r\"$\\tau_p = $\" + str(pulse_duration[3]) + \" $ns$\")\n",
    "\n",
    "sg=list_of_experiments[1].mean_signal\n",
    "plot(sg.wavelengths[0], sg.spectrum[0], '--', label = r\"$\\tau_p = $\" + str(pulse_duration[1]) + \" $ns$\")\n",
    "xlabel(\"Wavelength (nm)\")\n",
    "ylabel(\"Intensity (arb.un.)\")\n",
    "xlim(508,524)\n",
    "legend(fontsize=12,loc=(0.55,0.55))\n",
    "fig.tight_layout()"
   ]
  },
  {
   "cell_type": "code",
   "execution_count": 25,
   "metadata": {},
   "outputs": [
    {
     "name": "stderr",
     "output_type": "stream",
     "text": [
      "C:\\Users\\Miguel\\Anaconda3\\lib\\site-packages\\ipykernel_launcher.py:1: RuntimeWarning: More than 20 figures have been opened. Figures created through the pyplot interface (`matplotlib.pyplot.figure`) are retained until explicitly closed and may consume too much memory. (To control this warning, see the rcParam `figure.max_open_warning`).\n",
      "  \"\"\"Entry point for launching an IPython kernel.\n"
     ]
    },
    {
     "data": {
      "application/vnd.jupyter.widget-view+json": {
       "model_id": "1838e2caba5e48358b76650beb971719",
       "version_major": 2,
       "version_minor": 0
      },
      "text/plain": [
       "Canvas(toolbar=Toolbar(toolitems=[('Home', 'Reset original view', 'home', 'home'), ('Back', 'Back to previous …"
      ]
     },
     "metadata": {},
     "output_type": "display_data"
    }
   ],
   "source": [
    "fig,ax=subplots(figsize=[8,3])\n",
    "\n",
    "pulsesx = []\n",
    "pulsesy = []\n",
    "\n",
    "durat = [10,20,50,75,100]\n",
    "colsx = [\"s 10\",\"s 20\",\"s 50\",\"s 75\",\"s 100\"]\n",
    "colsy = [\"I 10\",\"I 20\",\"I 50\",\"I 75\",\"I 100\"]\n",
    "\n",
    "df = pd.read_csv(\"C:\\\\Users\\\\Miguel\\\\Desktop\\\\Furo SciAps\\\\pulse.csv\",sep=\";\")\n",
    "\n",
    "for i in range(0,len(colsx)):\n",
    "    pulsesx.append(df[colsx[i]].to_numpy())\n",
    "    pulsesy.append(df[colsy[i]].to_numpy())\n",
    "    plot(pulsesx[-1]*10e8+2,pulsesy[-1],label=r\"$\\tau_p = $\"+str(durat[i])+ ' ns')\n",
    "\n",
    "xlabel(\"Time (ns)\")\n",
    "ylabel(\"Pulse power (arb.un.)\")\n",
    "xlim(0,120)\n",
    "\n",
    "legend(fontsize=12)\n",
    "fig.tight_layout()"
   ]
  },
  {
   "cell_type": "code",
   "execution_count": null,
   "metadata": {},
   "outputs": [],
   "source": []
  }
 ],
 "metadata": {
  "kernelspec": {
   "display_name": "Python 3",
   "language": "python",
   "name": "python3"
  },
  "language_info": {
   "codemirror_mode": {
    "name": "ipython",
    "version": 3
   },
   "file_extension": ".py",
   "mimetype": "text/x-python",
   "name": "python",
   "nbconvert_exporter": "python",
   "pygments_lexer": "ipython3",
   "version": "3.7.4"
  }
 },
 "nbformat": 4,
 "nbformat_minor": 4
}

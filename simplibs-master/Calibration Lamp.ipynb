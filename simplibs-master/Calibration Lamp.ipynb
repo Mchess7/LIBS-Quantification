{
 "cells": [
  {
   "cell_type": "markdown",
   "metadata": {},
   "source": [
    "# Calibration lamp"
   ]
  },
  {
   "cell_type": "code",
   "execution_count": 6,
   "metadata": {},
   "outputs": [],
   "source": [
    "%matplotlib widget\n",
    "from core.experiment import *\n",
    "from scipy.interpolate import interp1d"
   ]
  },
  {
   "cell_type": "markdown",
   "metadata": {},
   "source": [
    "## Load the data from folder"
   ]
  },
  {
   "cell_type": "code",
   "execution_count": 7,
   "metadata": {},
   "outputs": [
    {
     "data": {
      "application/vnd.jupyter.widget-view+json": {
       "model_id": "715ec677a3134ecb8e0d441bbfe25ca3",
       "version_major": 2,
       "version_minor": 0
      },
      "text/plain": [
       "Canvas(toolbar=Toolbar(toolitems=[('Home', 'Reset original view', 'home', 'home'), ('Back', 'Back to previous …"
      ]
     },
     "metadata": {},
     "output_type": "display_data"
    },
    {
     "name": "stdout",
     "output_type": "stream",
     "text": [
      "2101182U1\n",
      "5000.0\n",
      "['o']\n",
      "[479.67 479.75 479.83 ... 613.94 613.99 614.04]\n"
     ]
    },
    {
     "data": {
      "application/vnd.jupyter.widget-view+json": {
       "model_id": "1b5a96cb9dd146f7bbd893fa301f3d79",
       "version_major": 2,
       "version_minor": 0
      },
      "text/plain": [
       "Canvas(toolbar=Toolbar(toolitems=[('Home', 'Reset original view', 'home', 'home'), ('Back', 'Back to previous …"
      ]
     },
     "metadata": {},
     "output_type": "display_data"
    },
    {
     "name": "stdout",
     "output_type": "stream",
     "text": [
      "2101183U1\n",
      "10000.0\n",
      "['o']\n",
      "[331.19 331.27 331.36 ... 488.85 488.91 488.97]\n"
     ]
    },
    {
     "data": {
      "application/vnd.jupyter.widget-view+json": {
       "model_id": "d012191662a346b7892aa7d28b0e8bd9",
       "version_major": 2,
       "version_minor": 0
      },
      "text/plain": [
       "Canvas(toolbar=Toolbar(toolitems=[('Home', 'Reset original view', 'home', 'home'), ('Back', 'Back to previous …"
      ]
     },
     "metadata": {},
     "output_type": "display_data"
    },
    {
     "name": "stdout",
     "output_type": "stream",
     "text": [
      "2101184U1\n",
      "10000.0\n",
      "['o']\n",
      "[217.71 217.78 217.84 ... 339.78 339.83 339.88]\n"
     ]
    },
    {
     "data": {
      "application/vnd.jupyter.widget-view+json": {
       "model_id": "dbed25d72c3e450d92944b38a35e6bc5",
       "version_major": 2,
       "version_minor": 0
      },
      "text/plain": [
       "Canvas(toolbar=Toolbar(toolitems=[('Home', 'Reset original view', 'home', 'home'), ('Back', 'Back to previous …"
      ]
     },
     "metadata": {},
     "output_type": "display_data"
    },
    {
     "name": "stdout",
     "output_type": "stream",
     "text": [
      "2101207U1\n",
      "200.0\n",
      "['o']\n",
      "[607.55 607.67 607.8  ... 826.86 826.95 827.04]\n"
     ]
    }
   ],
   "source": [
    "spectrometers = [\"2101182U1\",\"2101183U1\",\"2101184U1\",\"2101207U1\"]\n",
    "\n",
    "for i in range(0,len(spectrometers)):\n",
    "    subplots()\n",
    "    print(spectrometers[i])\n",
    "    spec_l = spectrometers[i]\n",
    "    folder_cal = \"D:\\\\Data_LIBS\\\\4 channel Spectrometer\\\\AvaLight-DH-CAL\\\\Avantes CAL\\\\\"+spec_l+\"\\\\\"\n",
    "    folder_cal_dark = \"D:\\\\Data_LIBS\\\\4 channel Spectrometer\\\\AvaLight-DH-CAL\\\\Avantes CAL - Dark\\\\\"+spec_l+\"\\\\\"\n",
    "\n",
    "    filenames_cal = [d for d in os.listdir(folder_cal) if d.endswith(\".TXT\") or d.endswith(\".txt\")]\n",
    "    filenames_dark = [d for d in os.listdir(folder_cal_dark) if d.endswith(\".TXT\") or d.endswith(\".txt\")]\n",
    "    \n",
    "    \n",
    "    sg_dark = signal_spec(folder_cal,filenames_dark[0],start_empty = True)\n",
    "    sg_dark.from_data(read_data(folder_cal_dark+filenames_dark[0]),folder_cal)\n",
    "\n",
    "    i_cal_waves = []\n",
    "    i_cal_ints = []\n",
    "    current_exp = experiment(folder_cal)\n",
    "    sg = current_exp.mean_signal #signal_spec(folder_cal,filenames_cal[0], start_empty=True)\n",
    "    sg.from_data(read_data(folder_cal+filenames_cal[0]),folder_cal)\n",
    "    i_cal_waves = sg.wavelengths.flatten()+0.21\n",
    "    i_cal_ints = (sg.spectrum.flatten()-sg_dark.spectrum.flatten())/sg.integration_time\n",
    "\n",
    "\n",
    "\n",
    "\n",
    "    print(sg.integration_time)\n",
    "    print(sg.spectrometer_labels)\n",
    "\n",
    "\n",
    "\n",
    "    #calibration files paths\n",
    "    cal_path_halogen = 'D:\\\\Data_LIBS\\\\ficheiros calibracao\\\\2101007-Halogen CC-VISNIR.lmp'\n",
    "    cal_path_deuterium = 'D:\\\\Data_LIBS\\\\ficheiros calibracao\\\\2101007-Deuterium-Halogen CC-VISNIR.lmp'\n",
    "\n",
    "    ############################################\n",
    "    #load data\n",
    "    cal_data_halogen = np.loadtxt(cal_path_halogen,dtype=str)\n",
    "    cal_data_halogen[:,0]\n",
    "    cal_waves_halogen = []\n",
    "    cal_ints_halogen = [] \n",
    "    for i in range(0,len(cal_data_halogen[:,1])):\n",
    "        cal_waves_halogen.append(float(cal_data_halogen[i,0].replace(',','.')))\n",
    "        cal_ints_halogen.append(float(cal_data_halogen[i,1].replace(',','.')))\n",
    "\n",
    "    cal_data_deuterium = np.loadtxt(cal_path_deuterium ,dtype=str)\n",
    "    cal_data_deuterium [:,0]\n",
    "    cal_waves_deuterium  = []\n",
    "    cal_ints_deuterium  = [] \n",
    "    for i in range(0,len(cal_data_deuterium[:,1])):\n",
    "        cal_waves_deuterium.append(float(cal_data_deuterium[i,0].replace(',','.')))\n",
    "        cal_ints_deuterium.append(float(cal_data_deuterium[i,1].replace(',','.')))\n",
    "    #############################################\n",
    "\n",
    "    #make interpolator functions\n",
    "    kk = 'nearest'\n",
    "\n",
    "    f_halogen = interp1d(cal_waves_halogen, cal_ints_halogen, kind=kk,fill_value='extrapolate')\n",
    "    f_deuterium = interp1d(cal_waves_deuterium, cal_ints_deuterium, kind=kk,fill_value='extrapolate')\n",
    "\n",
    "    x_hal = np.linspace(cal_waves_halogen[0],cal_waves_halogen[-1],1000) \n",
    "    x_deut = np.linspace(cal_waves_deuterium[0],cal_waves_deuterium[-1],1000)\n",
    "\n",
    "    subplot(311)\n",
    "    plot(cal_waves_halogen, cal_ints_halogen,'o',ms=1,label = 'Halogen')\n",
    "    plot(x_hal, f_halogen(x_hal),'-',lw=0.5,label = 'Halogen - interpolator')\n",
    "    plot(x_hal, f_halogen(x_hal)+f_deuterium(x_hal),'-',lw=0.5,label = 'Sum')\n",
    "\n",
    "    plot(cal_waves_deuterium, cal_ints_deuterium,'x',ms=1,label = 'Deuterium')\n",
    "    plot(x_deut, f_deuterium(x_deut),'-',lw=0.5,label = 'Deuterium - interpolator')\n",
    "\n",
    "    legend()\n",
    "\n",
    "    init = 20\n",
    "    end = -20\n",
    "    subplot(312)\n",
    "    title('Calibration Factor')\n",
    "    plot(i_cal_waves[init:end],i_cal_ints[init:end],'-',lw=0.5)\n",
    "    print(i_cal_waves)\n",
    "    plot(i_cal_waves[init:end],(f_halogen(i_cal_waves[init:end])+f_deuterium(i_cal_waves[init:end])),'-',lw=0.5,label = 'Sum')\n",
    "\n",
    "    filter_d = i_cal_ints > 0.2\n",
    "\n",
    "    np.savetxt(folder_cal+\"cal_factor.cal\",\n",
    "               ((f_halogen(i_cal_waves)+f_deuterium(i_cal_waves))/i_cal_ints)*filter_d)\n",
    "    \n",
    "    \n",
    "\n",
    "\n",
    "\n",
    "\n",
    "    def calibration_factor(spectrometer_label):\n",
    "        try:\n",
    "            data_cal = np.loadtxt(\"D:\\\\Data_LIBS\\\\4 channel Spectrometer\\\\AvaLight-DH-CAL\\\\Avantes CAL\\\\\"+spectrometer_label+\"\\\\cal_factor.cal\")\n",
    "            return signal.savgol_filter(data_cal, 21, 3) \n",
    "        except:\n",
    "            print(\"Calibration File not found\")\n",
    "            return 1\n",
    "\n",
    "    data_cal = calibration_factor(spec_l)\n",
    "    subplot(313)\n",
    "    plot(i_cal_waves[init:end],(f_halogen(i_cal_waves[init:end])+f_deuterium(i_cal_waves[init:end]))/i_cal_ints[init:end],'-',lw=0.5)\n",
    "\n",
    "    plot(i_cal_waves,data_cal,'-',lw=0.5)\n",
    "\n",
    "\n",
    "\n",
    "\n",
    "\n"
   ]
  },
  {
   "cell_type": "code",
   "execution_count": 3,
   "metadata": {
    "scrolled": false
   },
   "outputs": [
    {
     "ename": "NameError",
     "evalue": "name 'folder_halogen' is not defined",
     "output_type": "error",
     "traceback": [
      "\u001b[1;31m---------------------------------------------------------------------------\u001b[0m",
      "\u001b[1;31mNameError\u001b[0m                                 Traceback (most recent call last)",
      "\u001b[1;32m<ipython-input-3-e736f978ca94>\u001b[0m in \u001b[0;36m<module>\u001b[1;34m\u001b[0m\n\u001b[0;32m      4\u001b[0m \u001b[1;33m\u001b[0m\u001b[0m\n\u001b[0;32m      5\u001b[0m \u001b[0mfolder_cal_dark\u001b[0m \u001b[1;33m=\u001b[0m \u001b[1;34m\"D:\\\\Data_LIBS\\\\Avantes CAL - Dark\\\\\"\u001b[0m\u001b[1;33m\u001b[0m\u001b[1;33m\u001b[0m\u001b[0m\n\u001b[1;32m----> 6\u001b[1;33m \u001b[0mfilenames_cal\u001b[0m \u001b[1;33m=\u001b[0m \u001b[1;33m[\u001b[0m\u001b[0md\u001b[0m \u001b[1;32mfor\u001b[0m \u001b[0md\u001b[0m \u001b[1;32min\u001b[0m \u001b[0mos\u001b[0m\u001b[1;33m.\u001b[0m\u001b[0mlistdir\u001b[0m\u001b[1;33m(\u001b[0m\u001b[0mfolder_halogen\u001b[0m\u001b[1;33m)\u001b[0m \u001b[1;32mif\u001b[0m \u001b[0md\u001b[0m\u001b[1;33m.\u001b[0m\u001b[0mendswith\u001b[0m\u001b[1;33m(\u001b[0m\u001b[1;34m\".TXT\"\u001b[0m\u001b[1;33m)\u001b[0m \u001b[1;32mor\u001b[0m \u001b[0md\u001b[0m\u001b[1;33m.\u001b[0m\u001b[0mendswith\u001b[0m\u001b[1;33m(\u001b[0m\u001b[1;34m\".txt\"\u001b[0m\u001b[1;33m)\u001b[0m\u001b[1;33m]\u001b[0m\u001b[1;33m\u001b[0m\u001b[1;33m\u001b[0m\u001b[0m\n\u001b[0m\u001b[0;32m      7\u001b[0m \u001b[1;33m\u001b[0m\u001b[0m\n\u001b[0;32m      8\u001b[0m \u001b[0mfilenames_halogen\u001b[0m \u001b[1;33m=\u001b[0m \u001b[1;33m[\u001b[0m\u001b[0md\u001b[0m \u001b[1;32mfor\u001b[0m \u001b[0md\u001b[0m \u001b[1;32min\u001b[0m \u001b[0mos\u001b[0m\u001b[1;33m.\u001b[0m\u001b[0mlistdir\u001b[0m\u001b[1;33m(\u001b[0m\u001b[0mfolder_halogen\u001b[0m\u001b[1;33m)\u001b[0m \u001b[1;32mif\u001b[0m \u001b[0md\u001b[0m\u001b[1;33m.\u001b[0m\u001b[0mendswith\u001b[0m\u001b[1;33m(\u001b[0m\u001b[1;34m\".TXT\"\u001b[0m\u001b[1;33m)\u001b[0m \u001b[1;32mor\u001b[0m \u001b[0md\u001b[0m\u001b[1;33m.\u001b[0m\u001b[0mendswith\u001b[0m\u001b[1;33m(\u001b[0m\u001b[1;34m\".txt\"\u001b[0m\u001b[1;33m)\u001b[0m\u001b[1;33m]\u001b[0m\u001b[1;33m\u001b[0m\u001b[1;33m\u001b[0m\u001b[0m\n",
      "\u001b[1;31mNameError\u001b[0m: name 'folder_halogen' is not defined"
     ]
    }
   ],
   "source": [
    "#subplots()\n",
    "\n",
    "folder_cal = \"D:\\\\Data_LIBS\\\\Avantes CAL\\\\\"\n",
    "\n",
    "folder_cal_dark = \"D:\\\\Data_LIBS\\\\Avantes CAL - Dark\\\\\"\n",
    "filenames_cal = [d for d in os.listdir(folder_halogen) if d.endswith(\".TXT\") or d.endswith(\".txt\")]\n",
    "\n",
    "filenames_halogen = [d for d in os.listdir(folder_halogen) if d.endswith(\".TXT\") or d.endswith(\".txt\")]\n",
    "i_cal_waves_deuterium = []\n",
    "i_cal_ints_deuterium = []\n",
    "\n",
    "i_cal_waves_halogen = []\n",
    "i_cal_ints_halogen = []\n",
    "\n",
    "limit_r = 100\n",
    "limit_l = 100\n",
    "\n",
    "for i in range(0,len(filenames_halogen)):\n",
    "    print(filenames_halogen[i])\n",
    "    sg = signal_spec(folder_halogen,filenames_halogen[i], start_empty=True)\n",
    "    sg.from_data(read_data(folder+filenames_halogen[i]),folder)\n",
    "    \n",
    "    sg_dark = signal_spec(folder_halogen,filenames_halogen_dark[i], start_empty=True)\n",
    "    \n",
    "    i_cal_waves_halogen.append(sg.wavelengths[limit_l:-limit_r].flatten())\n",
    "    print(sg.integration_time)\n",
    "    print(sg.spectrometer_labels)\n",
    "    i_cal_ints_halogen.append(sg.spectrum[limit_l:-limit_r].flatten()/sg.integration_time)\n",
    "    #plot(sg.wavelengths,sg.spectrum,'-',label=filenames[i].split('_')[0])\n",
    "\n",
    "i_cal_waves_halogen0 = np.array(i_cal_waves_halogen).flatten()\n",
    "i_cal_ints_halogen = np.array(i_cal_ints_halogen).flatten()\n",
    "    \n",
    "#print(sorted(zip(i_cal_waves_halogen,i_cal_ints_halogen), key = lambda x: x[0]))\n",
    "i_cal_waves_halogen = [x for x,y in sorted(zip(i_cal_waves_halogen0,i_cal_ints_halogen))]\n",
    "i_cal_ints_halogen = [y for x,y in sorted(zip(i_cal_waves_halogen0,i_cal_ints_halogen))]\n",
    "subplots()\n",
    "plot(i_cal_waves_halogen,i_cal_ints_halogen)\n",
    "#print(i_cal_waves_halogen)\n",
    "#f_deuterium = interp1d(i_cal_waves_deuterium, i_cal_ints_deuterium, kind='cubic')\n",
    "#f_halogen = interp1d(i_cal_waves_halogen, i_cal_ints_halogen, kind='cubic')"
   ]
  },
  {
   "cell_type": "code",
   "execution_count": null,
   "metadata": {},
   "outputs": [],
   "source": [
    "sg.reference"
   ]
  },
  {
   "cell_type": "code",
   "execution_count": null,
   "metadata": {},
   "outputs": [],
   "source": [
    "\n",
    "\n",
    "#calibration files paths\n",
    "cal_path_halogen = 'D:\\\\Data_LIBS\\\\ficheiros calibracao\\\\2101007-Halogen CC-VISNIR.lmp'\n",
    "cal_path_deuterium = 'D:\\\\Data_LIBS\\\\ficheiros calibracao\\\\2101007-Deuterium-Halogen CC-VISNIR.lmp'\n",
    "\n",
    "############################################\n",
    "#load data\n",
    "cal_data_halogen = np.loadtxt(cal_path_halogen,dtype=str)\n",
    "cal_data_halogen[:,0]\n",
    "cal_waves_halogen = []\n",
    "cal_ints_halogen = [] \n",
    "for i in range(0,len(cal_data_halogen[:,1])):\n",
    "    cal_waves_halogen.append(float(cal_data_halogen[i,0].replace(',','.')))\n",
    "    cal_ints_halogen.append(float(cal_data_halogen[i,1].replace(',','.')))\n",
    "\n",
    "cal_data_deuterium = np.loadtxt(cal_path_deuterium ,dtype=str)\n",
    "cal_data_deuterium [:,0]\n",
    "cal_waves_deuterium  = []\n",
    "cal_ints_deuterium  = [] \n",
    "for i in range(0,len(cal_data_deuterium[:,1])):\n",
    "    cal_waves_deuterium.append(float(cal_data_deuterium[i,0].replace(',','.')))\n",
    "    cal_ints_deuterium.append(float(cal_data_deuterium[i,1].replace(',','.')))\n",
    "#############################################\n",
    "\n",
    "#make interpolator functions\n",
    "f_halogen = interp1d(cal_waves_halogen, cal_ints_halogen, kind='cubic')\n",
    "f_deuterium = interp1d(cal_waves_deuterium, cal_ints_deuterium, kind='cubic')\n",
    "\n",
    "x_hal = np.linspace(cal_waves_halogen[0],cal_waves_halogen[-1],1000) \n",
    "x_deut = np.linspace(cal_waves_deuterium[0],cal_waves_deuterium[-1],1000)\n",
    "\n",
    "subplots()\n",
    "plot(cal_waves_halogen, cal_ints_halogen,'o',ms=1,label = 'Halogen')\n",
    "plot(x_hal, f_halogen(x_hal),'-',lw=0.5,label = 'Halogen - interpolator')\n",
    "plot(x_hal, f_halogen(x_hal)+f_deuterium(x_hal),'-',lw=0.5,label = 'Sum')\n",
    "\n",
    "plot(cal_waves_deuterium, cal_ints_deuterium,'x',ms=1,label = 'Deuterium')\n",
    "plot(x_deut, f_deuterium(x_deut),'-',lw=0.5,label = 'Deuterium - interpolator')\n",
    "\n",
    "legend()\n",
    "\n"
   ]
  },
  {
   "cell_type": "code",
   "execution_count": 4,
   "metadata": {},
   "outputs": [],
   "source": [
    "def calibration_factor_halogen(wl):\n",
    "    return f_halogen(wl)/i_cal_halogen(wl)\n",
    "\n",
    "def calibration_factor_deuterium(wl):\n",
    "    return f_deuterium(wl)/i_cal_deuterium(wl)"
   ]
  },
  {
   "cell_type": "code",
   "execution_count": 5,
   "metadata": {},
   "outputs": [
    {
     "data": {
      "text/plain": [
       "array([607.34, 607.46, 607.59, ..., 826.65, 826.74, 826.83])"
      ]
     },
     "execution_count": 5,
     "metadata": {},
     "output_type": "execute_result"
    }
   ],
   "source": [
    "sg.wavelengths"
   ]
  },
  {
   "cell_type": "code",
   "execution_count": null,
   "metadata": {},
   "outputs": [],
   "source": []
  },
  {
   "cell_type": "markdown",
   "metadata": {},
   "source": [
    "# Varying the number of shots"
   ]
  },
  {
   "cell_type": "code",
   "execution_count": null,
   "metadata": {},
   "outputs": [],
   "source": [
    "current_experiment.list_of_signals"
   ]
  },
  {
   "cell_type": "code",
   "execution_count": null,
   "metadata": {},
   "outputs": [],
   "source": [
    "\n",
    "intensities=[]\n",
    "for i in range(0, len(current_experiment.list_of_signals)):\n",
    "    ratio_of_maximum = 0.5\n",
    "    wavelengths = np.concatenate([w for w in current_experiment.list_of_signals[i].wavelengths]) \n",
    "    spectrum = np.concatenate([s for s in current_experiment.list_of_signals[i].spectrum ])\n",
    "    radius = .2\n",
    "    ritz = 302\n",
    "    intensity = get_peak_area(ritz,ratio_of_maximum , wavelengths, spectrum, radius, False)\n",
    "    intensities.append(intensity)\n",
    "\n",
    "subplots()\n",
    "plot(intensities)"
   ]
  },
  {
   "cell_type": "markdown",
   "metadata": {},
   "source": [
    "# Computing density\n",
    "Using the H_alpha line from the Balmer series."
   ]
  },
  {
   "cell_type": "code",
   "execution_count": null,
   "metadata": {},
   "outputs": [],
   "source": [
    "density, x,y,p = sg.density_H_alpha()\n",
    "print(str(density) + \" cm^-3\")\n",
    "density= density*(10**2)**3"
   ]
  },
  {
   "cell_type": "markdown",
   "metadata": {},
   "source": [
    "# Remove Baseline"
   ]
  },
  {
   "cell_type": "code",
   "execution_count": null,
   "metadata": {},
   "outputs": [],
   "source": [
    "sg.remove_baseline()"
   ]
  },
  {
   "cell_type": "markdown",
   "metadata": {},
   "source": [
    "# Computing the plasma temperature\n",
    "Using the Saha-Boltzmann method and choosing the lines"
   ]
  },
  {
   "cell_type": "code",
   "execution_count": null,
   "metadata": {},
   "outputs": [],
   "source": [
    "#Choose the element for computing the relevant lines\n",
    "al = element('Fe')\n",
    "\n",
    "Tp = 1.*T_ref\n",
    "\n",
    "#define the upper and lower limits to find the most relevant nlines\n",
    "#let us define to the\n",
    "n_spectrometer = 1\n",
    "ll = sg.wavelengths[n_spectrometer][0]\n",
    "ul = sg.wavelengths[n_spectrometer][-1]\n",
    "\n",
    "ion_energies = al.ion_energies\n",
    "\n",
    "#ion state 1\n",
    "nlines = 5\n",
    "l_num, lines = al.get_most_relevant_lines_ion_state(ion_state = 1, electron_temperature=Tp, n_lines = nlines,lower_limit = ll, upper_limit = ul)\n",
    "\n",
    "#ion state 2\n",
    "nlines = 2\n",
    "l_num2, lines2 = al.get_most_relevant_lines_ion_state(ion_state = 2, electron_temperature=Tp, n_lines = nlines,lower_limit = ll, upper_limit = ul)\n",
    "\n",
    "#compute the plasma temperature\n",
    "temperature, temp_95, r2, y_s, x_s = sg.saha_boltzmann_temperature_v2([lines,lines2],al,electron_density= density, \n",
    "                                                                      ratio_of_maximum = 0.5, radius = 0.1, Plot = True, Plotlines = True, use_max_intensity = False)\n"
   ]
  },
  {
   "cell_type": "markdown",
   "metadata": {},
   "source": [
    "# LTE conditions\n",
    "Probing the Mcwrither criterium"
   ]
  },
  {
   "cell_type": "code",
   "execution_count": null,
   "metadata": {},
   "outputs": [],
   "source": [
    "minimum_density = sg.LTE_MW_criterium(4.8,temperature)\n",
    "print(\"Minimum density in cm^-3: \" + str(\"%e\" %minimum_density))\n",
    "print(\"Computed density in cm^-3: \" + str(\"%e\" %(density*(10**-2)**3)))\n",
    "print(\"MW criterion - \" + str(density>(minimum_density*(10**2)**3)))"
   ]
  },
  {
   "cell_type": "code",
   "execution_count": null,
   "metadata": {
    "scrolled": false
   },
   "outputs": [],
   "source": [
    "#construct a digital twin from the table data\n",
    "current = concentration_data.loc[sample_f]\n",
    "element_names = concentration_data.columns.values[1:]\n",
    "vals =  current.values[1:]\n",
    "sample_elements = []\n",
    "for i in range(0,len(vals)):\n",
    "    #sample_elements.append([element_names[i],vals[i]/vals[-1]])\n",
    "    sample_elements.append([element_names[i],vals[i]])\n",
    "\n",
    "\n",
    "sample = digital_twin(sample_elements)\n",
    "for i in range(0,len(sample.list_of_elements)):\n",
    "    sample.list_of_elements[i].ratio = sample.list_of_elements[i].ratio/(sample.list_of_elements[i].mass/ua)\n",
    "\n",
    "print(sample)\n",
    "\n",
    "for n_spectrometer in range(0,len(sg.wavelengths)):\n",
    "    ll = sg.wavelengths[n_spectrometer][0]\n",
    "    ul = sg.wavelengths[n_spectrometer][-1]\n",
    "\n",
    "    #ion state 1\n",
    "    nlines = 3\n",
    "    l_num, lines = al.get_most_relevant_lines_ion_state(ion_state = 1, electron_temperature=Tp, \n",
    "                                                        n_lines = nlines,lower_limit = ll, upper_limit = ul)\n",
    "\n",
    "    #line to normalize the intensity for direct\n",
    "    line_norm1=lines[1]\n",
    "    print(\"# Spectrometer 1 normalized to \" + str(line_norm1))\n",
    "\n",
    "    sg.compare_to_digital_sample(sample, spectrometer=n_spectrometer,max_ion_state=2, \n",
    "                                 electron_temperature = temperature,electron_density=density,\n",
    "                                 d_lambda=0.02, use_wavelengths=True,line_normalize=line_norm1,Plotline = True, resolution = 5000)"
   ]
  },
  {
   "cell_type": "markdown",
   "metadata": {},
   "source": [
    "# Peak detection and comparison"
   ]
  },
  {
   "cell_type": "code",
   "execution_count": null,
   "metadata": {},
   "outputs": [],
   "source": [
    "n_spectrometer = 3\n",
    "\n",
    "ll = sg.wavelengths[n_spectrometer][0]\n",
    "ul = sg.wavelengths[n_spectrometer][-1]\n",
    "\n",
    "#ion state 1\n",
    "nlines = 3\n",
    "l_num, lines = al.get_most_relevant_lines_ion_state(ion_state = 1, electron_temperature=Tp, \n",
    "                                                        n_lines = nlines,lower_limit = ll, upper_limit = ul)\n",
    "\n",
    "#line to normalize the intensity for direct\n",
    "line_norm1=lines[1]\n",
    "print(\"# Spectrometer 1 normalized to \" + str(line_norm1))\n",
    "sg.wavelengths[n_spectrometer] = sg.wavelengths[n_spectrometer]+0.05\n",
    "\n",
    "sg.compare_and_peaks(sample, spectrometer=n_spectrometer,max_ion_state=2, \n",
    "                                 electron_temperature = temperature,electron_density=density,\n",
    "                                 d_lambda=0.02, use_wavelengths=True,line_normalize=line_norm1,Plotline = True, resolution = 5000)"
   ]
  },
  {
   "cell_type": "markdown",
   "metadata": {},
   "source": [
    "# Map of lines"
   ]
  },
  {
   "cell_type": "code",
   "execution_count": null,
   "metadata": {},
   "outputs": [],
   "source": [
    "Tp = temperature\n",
    "sample1 = digital_twin([['Fe',1]])\n",
    "specs_0=[]\n",
    "for i in range(0,len(sg.wavelengths)):\n",
    "    wl,spec,label, n_ion, specs = sample1.spectrum_NIST(wl = sg.wavelengths[i], electron_temperature=Tp, electron_density = density, max_ion_state=2,resolution=10000)\n",
    "    specs_0.append(specs)"
   ]
  },
  {
   "cell_type": "code",
   "execution_count": null,
   "metadata": {
    "scrolled": false
   },
   "outputs": [],
   "source": [
    "specs_0\n",
    "for i in range(0,len(specs_0)):\n",
    "    subplots()\n",
    "    subplot(311)\n",
    "    plot(sg.spectrum[i])\n",
    "    subplot(312)\n",
    "    plot(specs_0[i][0])\n",
    "    subplot(313)\n",
    "    conv = np.convolve(sg.spectrum[i],specs_0[i][0][::-1], mode='full')\n",
    "    #conv = np.convolve(specs_0[i][0],specs_0[i][0])\n",
    "    plot(np.arange(-len(sg.spectrum[i])+1,len(sg.spectrum[i])),log10(conv))\n"
   ]
  },
  {
   "cell_type": "code",
   "execution_count": null,
   "metadata": {},
   "outputs": [],
   "source": [
    "print(sg.spectrum[0].shape)\n",
    "specs_0[0][0].shape"
   ]
  },
  {
   "cell_type": "markdown",
   "metadata": {},
   "source": [
    "# Map of Lines in each spectrometer"
   ]
  },
  {
   "cell_type": "code",
   "execution_count": null,
   "metadata": {},
   "outputs": [],
   "source": [
    "Tp = temperature\n",
    "for i in range(0,len(sg.wavelengths)):\n",
    "    wl,spec,label, n_ion, specs = sample.spectrum_NIST(wl = sg.wavelengths[i], electron_temperature=Tp, electron_density = density, max_ion_state=3,d_lambda=0.01, Map=True)\n",
    "    ax = gca()\n",
    "    ax.set_title(\"Map of lines in Spectrometer \"+ str(i))"
   ]
  },
  {
   "cell_type": "markdown",
   "metadata": {},
   "source": [
    "#"
   ]
  },
  {
   "cell_type": "code",
   "execution_count": null,
   "metadata": {},
   "outputs": [],
   "source": [
    "#Choose the element for computing the relevant lines\n",
    "al = element('P')\n",
    "\n",
    "Tp = 1.*T_ref\n",
    "\n",
    "#define the upper and lower limits to find the most relevant nlines\n",
    "#let us define to the\n",
    "n_spectrometer = 6\n",
    "ll = sg.wavelengths[n_spectrometer][0]\n",
    "ul = sg.wavelengths[n_spectrometer][-1]\n",
    "\n",
    "#ion state 1\n",
    "nlines = 2\n",
    "l_num, lines = al.get_most_relevant_lines_ion_state(ion_state = 1, electron_temperature=Tp, n_lines = nlines,lower_limit = ll, upper_limit = ul)\n",
    "\n",
    "#ion state 2\n",
    "nlines = 2\n",
    "l_num2, lines2 = al.get_most_relevant_lines_ion_state(ion_state = 2, electron_temperature=Tp, n_lines = nlines,lower_limit = ll, upper_limit = ul)\n",
    "\n",
    "lines2 = delete(lines2, 0)\n",
    "#compute the plasma temperature\n",
    "temperature, temp_95, r2, y_s, x_s = sg.saha_boltzmann_temperature_v2([lines,lines2],al,electron_density= density, \n",
    "                                                                      ratio_of_maximum = 0.5, radius = 0.1, Plot = True, Plotlines = True, use_max_intensity = False)\n",
    "\n",
    "\n",
    "\n",
    "\n",
    "\n"
   ]
  },
  {
   "cell_type": "code",
   "execution_count": null,
   "metadata": {},
   "outputs": [],
   "source": [
    "lines2"
   ]
  },
  {
   "cell_type": "code",
   "execution_count": null,
   "metadata": {},
   "outputs": [],
   "source": []
  },
  {
   "cell_type": "code",
   "execution_count": null,
   "metadata": {},
   "outputs": [],
   "source": []
  },
  {
   "cell_type": "code",
   "execution_count": null,
   "metadata": {},
   "outputs": [],
   "source": [
    "sample = digital_twin([['Li',1],['Pb',1],['Zn',1],['Cu',1]])\n",
    "\n",
    "Tp = temperature\n",
    "for i in range(0,len(sg.wavelengths)):\n",
    "    wl,spec,label, n_ion, specs = sample.spectrum_NIST( lower_limit = 250, upper_limit = 800, max_ion_state=3,d_lambda=0.01, Map=True)\n",
    "    ax = gca()\n",
    "    ax.set_title(\"Map of lines in Spectrometer \"+ str(i))"
   ]
  },
  {
   "cell_type": "code",
   "execution_count": null,
   "metadata": {},
   "outputs": [],
   "source": [
    "from scipy import interpolate\n",
    "i=2\n",
    "tck = interpolate.splrep(sg.wavelengths[i],sg.spectrum[i])\n",
    "xnew = np.linspace(sg.wavelengths[i][0], sg.wavelengths[i][-1], 5000)\n",
    "ynew = interpolate.splev(xnew, tck, der=0)\n",
    "subplots()\n",
    "plot(xnew,ynew/max(ynew))\n",
    "plot(sg.wavelengths[i],sg.spectrum[i]/max(sg.spectrum[i]), 'o', markersize=1,color='k')\n",
    "#plot(sg.wavelengths[i],specs_0[i][0]/(200))\n",
    "g=gradient(ynew,xnew)\n",
    "gg=gradient(g,xnew)\n",
    "plot(xnew,g/max(abs(g)),ls='-')\n",
    "plot(xnew,gg/max(abs(gg)),ls='-')"
   ]
  },
  {
   "cell_type": "code",
   "execution_count": null,
   "metadata": {},
   "outputs": [],
   "source": []
  },
  {
   "cell_type": "code",
   "execution_count": null,
   "metadata": {},
   "outputs": [],
   "source": [
    "import numpy as np\n",
    "import time\n",
    "import math\n",
    "\n",
    "\n",
    "def tricubic(x):\n",
    "    y = np.zeros_like(x)\n",
    "    idx = (x >= -1) & (x <= 1)\n",
    "    y[idx] = np.power(1.0 - np.power(np.abs(x[idx]), 3), 3)\n",
    "    return y\n",
    "\n",
    "\n",
    "class Loess(object):\n",
    "\n",
    "    @staticmethod\n",
    "    def normalize_array(array):\n",
    "        min_val = np.min(array)\n",
    "        max_val = np.max(array)\n",
    "        return (array - min_val) / (max_val - min_val), min_val, max_val\n",
    "\n",
    "    def __init__(self, xx, yy, degree=1):\n",
    "        self.n_xx, self.min_xx, self.max_xx = self.normalize_array(xx)\n",
    "        self.n_yy, self.min_yy, self.max_yy = self.normalize_array(yy)\n",
    "        self.degree = degree\n",
    "\n",
    "    @staticmethod\n",
    "    def get_min_range(distances, window):\n",
    "        min_idx = np.argmin(distances)\n",
    "        n = len(distances)\n",
    "        if min_idx == 0:\n",
    "            return np.arange(0, window)\n",
    "        if min_idx == n-1:\n",
    "            return np.arange(n - window, n)\n",
    "\n",
    "        min_range = [min_idx]\n",
    "        while len(min_range) < window:\n",
    "            i0 = min_range[0]\n",
    "            i1 = min_range[-1]\n",
    "            if i0 == 0:\n",
    "                min_range.append(i1 + 1)\n",
    "            elif i1 == n-1:\n",
    "                min_range.insert(0, i0 - 1)\n",
    "            elif distances[i0-1] < distances[i1+1]:\n",
    "                min_range.insert(0, i0 - 1)\n",
    "            else:\n",
    "                min_range.append(i1 + 1)\n",
    "        return np.array(min_range)\n",
    "\n",
    "    @staticmethod\n",
    "    def get_weights(distances, min_range):\n",
    "        max_distance = np.max(distances[min_range])\n",
    "        weights = tricubic(distances[min_range] / max_distance)\n",
    "        return weights\n",
    "\n",
    "    def normalize_x(self, value):\n",
    "        return (value - self.min_xx) / (self.max_xx - self.min_xx)\n",
    "\n",
    "    def denormalize_y(self, value):\n",
    "        return value * (self.max_yy - self.min_yy) + self.min_yy\n",
    "\n",
    "    def estimate(self, x, window, use_matrix=False, degree=1):\n",
    "        n_x = self.normalize_x(x)\n",
    "        distances = np.abs(self.n_xx - n_x)\n",
    "        min_range = self.get_min_range(distances, window)\n",
    "        weights = self.get_weights(distances, min_range)\n",
    "\n",
    "        if use_matrix or degree > 1:\n",
    "            wm = np.multiply(np.eye(window), weights)\n",
    "            xm = np.ones((window, degree + 1))\n",
    "\n",
    "            xp = np.array([[math.pow(n_x, p)] for p in range(degree + 1)])\n",
    "            for i in range(1, degree + 1):\n",
    "                xm[:, i] = np.power(self.n_xx[min_range], i)\n",
    "\n",
    "            ym = self.n_yy[min_range]\n",
    "            xmt_wm = np.transpose(xm) @ wm\n",
    "            beta = np.linalg.pinv(xmt_wm @ xm) @ xmt_wm @ ym\n",
    "            y = (beta @ xp)[0]\n",
    "        else:\n",
    "            xx = self.n_xx[min_range]\n",
    "            yy = self.n_yy[min_range]\n",
    "            sum_weight = np.sum(weights)\n",
    "            sum_weight_x = np.dot(xx, weights)\n",
    "            sum_weight_y = np.dot(yy, weights)\n",
    "            sum_weight_x2 = np.dot(np.multiply(xx, xx), weights)\n",
    "            sum_weight_xy = np.dot(np.multiply(xx, yy), weights)\n",
    "\n",
    "            mean_x = sum_weight_x / sum_weight\n",
    "            mean_y = sum_weight_y / sum_weight\n",
    "\n",
    "            b = (sum_weight_xy - mean_x * mean_y * sum_weight) / \\\n",
    "                (sum_weight_x2 - mean_x * mean_x * sum_weight)\n",
    "            a = mean_y - b * mean_x\n",
    "            y = a + b * n_x\n",
    "        return self.denormalize_y(y)\n",
    "\n"
   ]
  },
  {
   "cell_type": "code",
   "execution_count": null,
   "metadata": {},
   "outputs": [],
   "source": [
    "wls=[]\n",
    "sps=[]\n",
    "for i in range(0, len(current_experiment.list_of_signals)):\n",
    "    wavelengths = np.concatenate([w for w in current_experiment.list_of_signals[i].wavelengths])\n",
    "    spectrum = np.concatenate([s for s in current_experiment.list_of_signals[i].spectrum ])\n",
    "    wls=np.concatenate([wls,wavelengths])\n",
    "    sps = np.concatenate([sps,spectrum])\n",
    "\n",
    "    \n",
    "xx = wls\n",
    "yy = sps\n",
    "\n",
    "loess = Loess(xx, yy)\n",
    "\n",
    "for x in xx:\n",
    "    y = loess.estimate(wls, window=5, use_matrix=False, degree=1)\n",
    "    print(x, y)"
   ]
  },
  {
   "cell_type": "code",
   "execution_count": null,
   "metadata": {},
   "outputs": [],
   "source": [
    "subplots()\n",
    "plot(xx,yy,'o',markersize=1)\n",
    "plot(xx,yy,'o',markersize=1)"
   ]
  },
  {
   "cell_type": "code",
   "execution_count": null,
   "metadata": {},
   "outputs": [],
   "source": [
    "for i in range(0, len(sg.wavelengths)):\n",
    "    plot(sg.wavelengths[i],sg.spectrum[i],'-',color='k')"
   ]
  },
  {
   "cell_type": "code",
   "execution_count": null,
   "metadata": {
    "scrolled": true
   },
   "outputs": [],
   "source": [
    "from sklearn.neighbors import RadiusNeighborsRegressor\n",
    "neigh = RadiusNeighborsRegressor(radius=.1)\n",
    "XX = xx.reshape(-1, 1)\n",
    "neigh.fit(XX, yy)"
   ]
  },
  {
   "cell_type": "code",
   "execution_count": null,
   "metadata": {},
   "outputs": [],
   "source": [
    "plot(xx,neigh.predict(XX))"
   ]
  },
  {
   "cell_type": "code",
   "execution_count": null,
   "metadata": {},
   "outputs": [],
   "source": [
    "res_wls.fittedvalues"
   ]
  },
  {
   "cell_type": "code",
   "execution_count": null,
   "metadata": {},
   "outputs": [],
   "source": [
    "sm.add_constant(xx)"
   ]
  },
  {
   "cell_type": "code",
   "execution_count": null,
   "metadata": {},
   "outputs": [],
   "source": [
    "#Choose the element for computing the relevant lines\n",
    "al = element('Ca')\n",
    "\n",
    "Tp = 1.*T_ref\n",
    "\n",
    "#define the upper and lower limits to find the most relevant nlines\n",
    "#let us define to the\n",
    "n_spectrometer = 2\n",
    "ll = sg.wavelengths[n_spectrometer][0]\n",
    "ul = sg.wavelengths[n_spectrometer][-1]\n",
    "\n",
    "ion_energies = al.ion_energies\n",
    "\n",
    "#ion state 1\n",
    "nlines = 3\n",
    "l_num, lines = al.get_most_relevant_lines_ion_state(ion_state = 1, electron_temperature=Tp, n_lines = nlines,lower_limit = ll, upper_limit = ul)\n",
    "\n",
    "#ion state 2\n",
    "nlines = 2\n",
    "l_num2, lines2 = al.get_most_relevant_lines_ion_state(ion_state = 2, electron_temperature=Tp, n_lines = nlines,lower_limit = ll, upper_limit = ul)\n",
    "\n",
    "#compute the plasma temperature\n",
    "temperature, temp_95, r2, y_s, x_s = sg.saha_boltzmann_temperature_v2([lines,lines2],al,electron_density= density, \n",
    "                                                                      ratio_of_maximum = 0.5, radius = 0.1, Plot = True, Plotlines = True, use_max_intensity = False)\n"
   ]
  },
  {
   "cell_type": "code",
   "execution_count": null,
   "metadata": {},
   "outputs": [],
   "source": [
    "n_spectrometer = 2\n",
    "\n",
    "ll = sg.wavelengths[n_spectrometer][0]\n",
    "ul = sg.wavelengths[n_spectrometer][-1]\n",
    "\n",
    "#ion state 1\n",
    "nlines = 3\n",
    "l_num, lines = al.get_most_relevant_lines_ion_state(ion_state = 1, electron_temperature=Tp, \n",
    "                                                        n_lines = nlines,lower_limit = ll, upper_limit = ul)\n",
    "\n",
    "#line to normalize the intensity for direct\n",
    "line_norm1=lines[1]\n",
    "print(\"# Spectrometer 1 normalized to \" + str(line_norm1))\n",
    "sg.wavelengths[n_spectrometer] = sg.wavelengths[n_spectrometer]+0.05\n",
    "\n",
    "sg.compare_and_peaks(sample, spectrometer=n_spectrometer,max_ion_state=2, \n",
    "                                 electron_temperature = temperature,electron_density=density,\n",
    "                                 d_lambda=0.02, use_wavelengths=True,line_normalize=line_norm1,Plotline = True, resolution = 5000)"
   ]
  },
  {
   "cell_type": "code",
   "execution_count": null,
   "metadata": {},
   "outputs": [],
   "source": []
  }
 ],
 "metadata": {
  "kernelspec": {
   "display_name": "Python 3",
   "language": "python",
   "name": "python3"
  },
  "language_info": {
   "codemirror_mode": {
    "name": "ipython",
    "version": 3
   },
   "file_extension": ".py",
   "mimetype": "text/x-python",
   "name": "python",
   "nbconvert_exporter": "python",
   "pygments_lexer": "ipython3",
   "version": "3.6.12"
  }
 },
 "nbformat": 4,
 "nbformat_minor": 4
}

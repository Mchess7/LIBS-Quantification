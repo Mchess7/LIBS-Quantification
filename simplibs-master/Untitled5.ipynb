{
 "cells": [
  {
   "cell_type": "code",
   "execution_count": 5,
   "metadata": {},
   "outputs": [
    {
     "name": "stdout",
     "output_type": "stream",
     "text": [
      "0.00034329978062958087\n"
     ]
    }
   ],
   "source": [
    "from numpy import *\n",
    "n1=1\n",
    "n2=1.33\n",
    "\n",
    "h = 0.002\n",
    "\n",
    "theta1 = pi/6\n",
    "theta2 = arcsin(sin(theta1)/n2)\n",
    "\n",
    "delta = h*(tan(theta1)-tan(theta2))\n",
    "print(delta)"
   ]
  },
  {
   "cell_type": "code",
   "execution_count": null,
   "metadata": {},
   "outputs": [],
   "source": []
  }
 ],
 "metadata": {
  "kernelspec": {
   "display_name": "Python 3",
   "language": "python",
   "name": "python3"
  },
  "language_info": {
   "codemirror_mode": {
    "name": "ipython",
    "version": 3
   },
   "file_extension": ".py",
   "mimetype": "text/x-python",
   "name": "python",
   "nbconvert_exporter": "python",
   "pygments_lexer": "ipython3",
   "version": "3.6.12"
  }
 },
 "nbformat": 4,
 "nbformat_minor": 4
}

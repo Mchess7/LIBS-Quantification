{
 "cells": [
  {
   "cell_type": "markdown",
   "metadata": {},
   "source": [
    "# Raw to Txt converter Avantes"
   ]
  },
  {
   "cell_type": "code",
   "execution_count": 1,
   "metadata": {},
   "outputs": [],
   "source": [
    "import numpy as np\n",
    "from avaspec import *"
   ]
  },
  {
   "cell_type": "code",
   "execution_count": 2,
   "metadata": {},
   "outputs": [
    {
     "data": {
      "text/plain": [
       "1"
      ]
     },
     "execution_count": 2,
     "metadata": {},
     "output_type": "execute_result"
    }
   ],
   "source": [
    "AVS_Init(0)\n",
    "ret = AVS_GetNrOfDevices()\n",
    "ret"
   ]
  },
  {
   "cell_type": "code",
   "execution_count": 3,
   "metadata": {},
   "outputs": [
    {
     "data": {
      "text/plain": [
       "<__main__.AvsIdentityType_Array_1 at 0x202ef6f3b48>"
      ]
     },
     "execution_count": 3,
     "metadata": {},
     "output_type": "execute_result"
    }
   ],
   "source": [
    "req = 75*ret\n",
    "a_pList = AvsIdentityType * ret \n",
    "a_pList = AVS_GetList(req)\n",
    "a_pList"
   ]
  },
  {
   "cell_type": "code",
   "execution_count": 4,
   "metadata": {},
   "outputs": [],
   "source": [
    "handle = AVS_Activate(a_pList[0])"
   ]
  },
  {
   "cell_type": "code",
   "execution_count": 5,
   "metadata": {},
   "outputs": [],
   "source": [
    "config = DeviceConfigType\n",
    "ret = AVS_GetParameter(handle, 63484)\n",
    "pixels = ret.m_Detector_m_NrPixels\n",
    "wavelengths = []\n",
    "ret = AVS_GetLambda(handle)\n",
    "for pixel in range(pixels):\n",
    "    wavelengths.append(ret[pixel])"
   ]
  },
  {
   "cell_type": "code",
   "execution_count": 6,
   "metadata": {},
   "outputs": [],
   "source": [
    "measconfig = MeasConfigType \n",
    "measconfig.m_StartPixel = 0 \n",
    "measconfig.m_StopPixel = pixels - 1 \n",
    "measconfig.m_IntegrationTime = 50 \n",
    "measconfig.m_IntegrationDelay = 0 \n",
    "measconfig.m_NrAverages = 1 \n",
    "measconfig.m_CorDynDark_m_Enable = 0 \n",
    "measconfig.m_CorDynDark_m_ForgetPercentage = 100 \n",
    "measconfig.m_Smoothing_m_SmoothPix = 0 \n",
    "measconfig.m_Smoothing_m_SmoothModel = 0 \n",
    "measconfig.m_SaturationDetection = 0 \n",
    "measconfig.m_Trigger_m_Mode = 0 \n",
    "measconfig.m_Trigger_m_Source = 0 \n",
    "measconfig.m_Trigger_m_SourceType = 0 \n",
    "measconfig.m_Control_m_StrobeControl = 0 \n",
    "measconfig.m_Control_m_LaserDelay = 0 \n",
    "measconfig.m_Control_m_LaserWidth = 0 \n",
    "measconfig.m_Control_m_LaserWaveLength = 0.0 \n",
    "measconfig.m_Control_m_StoreToRam = 0"
   ]
  },
  {
   "cell_type": "code",
   "execution_count": 33,
   "metadata": {},
   "outputs": [
    {
     "data": {
      "text/plain": [
       "0"
      ]
     },
     "execution_count": 33,
     "metadata": {},
     "output_type": "execute_result"
    }
   ],
   "source": [
    "AVS_PrepareMeasure(handle, measconfig)"
   ]
  },
  {
   "cell_type": "code",
   "execution_count": 34,
   "metadata": {},
   "outputs": [
    {
     "data": {
      "text/plain": [
       "0"
      ]
     },
     "execution_count": 34,
     "metadata": {},
     "output_type": "execute_result"
    }
   ],
   "source": [
    "scans = 1\n",
    "AVS_Measure(handle, 0, scans)"
   ]
  },
  {
   "cell_type": "code",
   "execution_count": 35,
   "metadata": {},
   "outputs": [
    {
     "name": "stdout",
     "output_type": "stream",
     "text": [
      "True\r"
     ]
    }
   ],
   "source": [
    "import time\n",
    "dataready = False\n",
    "while not dataready:\n",
    "    dataready = AVS_PollScan(handle)\n",
    "    print(dataready, end = '\\r')\n",
    "    time.sleep(measconfig.m_IntegrationTime/1000)"
   ]
  },
  {
   "cell_type": "code",
   "execution_count": 36,
   "metadata": {},
   "outputs": [],
   "source": [
    "timestamp = 0\n",
    "spectraldata = []\n",
    "ret = AVS_GetScopeData(handle)\n",
    "timestamp = ret[0]\n",
    "for i,pix in enumerate(wavelengths):\n",
    "    spectraldata.append(ret[1][i])"
   ]
  },
  {
   "cell_type": "code",
   "execution_count": 37,
   "metadata": {},
   "outputs": [
    {
     "data": {
      "text/plain": [
       "[<matplotlib.lines.Line2D at 0x202f3afe4a8>]"
      ]
     },
     "execution_count": 37,
     "metadata": {},
     "output_type": "execute_result"
    },
    {
     "data": {
      "image/png": "[encoded data removed]",
      "text/plain": [
       "<Figure size 432x288 with 1 Axes>"
      ]
     },
     "metadata": {
      "needs_background": "light"
     },
     "output_type": "display_data"
    }
   ],
   "source": [
    "import matplotlib.pyplot as plt\n",
    "plt.plot(wavelengths,spectraldata)"
   ]
  },
  {
   "cell_type": "code",
   "execution_count": null,
   "metadata": {},
   "outputs": [],
   "source": []
  }
 ],
 "metadata": {
  "kernelspec": {
   "display_name": "Python 3",
   "language": "python",
   "name": "python3"
  },
  "language_info": {
   "codemirror_mode": {
    "name": "ipython",
    "version": 3
   },
   "file_extension": ".py",
   "mimetype": "text/x-python",
   "name": "python",
   "nbconvert_exporter": "python",
   "pygments_lexer": "ipython3",
   "version": "3.6.12"
  }
 },
 "nbformat": 4,
 "nbformat_minor": 4
}

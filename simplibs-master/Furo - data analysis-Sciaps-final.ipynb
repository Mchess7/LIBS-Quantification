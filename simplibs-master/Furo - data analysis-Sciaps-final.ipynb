{
 "cells": [
  {
   "cell_type": "markdown",
   "metadata": {},
   "source": [
    "# Drill - Data Analysis\n",
    "\n",
    "Analysis of the spectral data obtained for samples of the drill at Mina do Barroso."
   ]
  },
  {
   "cell_type": "code",
   "execution_count": 7,
   "metadata": {},
   "outputs": [],
   "source": [
    "%matplotlib widget\n",
    "from core.experiment import *\n",
    "\n",
    "from sklearn import *\n",
    "from sklearn import *\n",
    "from sklearn.model_selection import train_test_split\n",
    "from sklearn.preprocessing import *\n",
    "from sklearn.metrics import *\n",
    "from sklearn.linear_model import *\n",
    "from sklearn.tree import *"
   ]
  },
  {
   "cell_type": "markdown",
   "metadata": {},
   "source": [
    "# Data table with samples and concentrations"
   ]
  },
  {
   "cell_type": "code",
   "execution_count": 8,
   "metadata": {},
   "outputs": [
    {
     "data": {
      "text/html": [
       "<div>\n",
       "<style scoped>\n",
       "    .dataframe tbody tr th:only-of-type {\n",
       "        vertical-align: middle;\n",
       "    }\n",
       "\n",
       "    .dataframe tbody tr th {\n",
       "        vertical-align: top;\n",
       "    }\n",
       "\n",
       "    .dataframe thead th {\n",
       "        text-align: right;\n",
       "    }\n",
       "</style>\n",
       "<table border=\"1\" class=\"dataframe\">\n",
       "  <thead>\n",
       "    <tr style=\"text-align: right;\">\n",
       "      <th></th>\n",
       "      <th>H</th>\n",
       "      <th>He</th>\n",
       "      <th>Li</th>\n",
       "      <th>Be</th>\n",
       "      <th>B</th>\n",
       "      <th>C</th>\n",
       "      <th>N</th>\n",
       "      <th>O</th>\n",
       "      <th>F</th>\n",
       "      <th>Ne</th>\n",
       "      <th>...</th>\n",
       "      <th>Rg</th>\n",
       "      <th>Cn</th>\n",
       "      <th>Nh</th>\n",
       "      <th>Fl</th>\n",
       "      <th>Mc</th>\n",
       "      <th>Lv</th>\n",
       "      <th>Ts</th>\n",
       "      <th>Og</th>\n",
       "      <th>Li2O</th>\n",
       "      <th>Chemistry</th>\n",
       "    </tr>\n",
       "    <tr>\n",
       "      <th>Sample ID</th>\n",
       "      <th></th>\n",
       "      <th></th>\n",
       "      <th></th>\n",
       "      <th></th>\n",
       "      <th></th>\n",
       "      <th></th>\n",
       "      <th></th>\n",
       "      <th></th>\n",
       "      <th></th>\n",
       "      <th></th>\n",
       "      <th></th>\n",
       "      <th></th>\n",
       "      <th></th>\n",
       "      <th></th>\n",
       "      <th></th>\n",
       "      <th></th>\n",
       "      <th></th>\n",
       "      <th></th>\n",
       "      <th></th>\n",
       "      <th></th>\n",
       "      <th></th>\n",
       "    </tr>\n",
       "  </thead>\n",
       "  <tbody>\n",
       "    <tr>\n",
       "      <th>DRI0000001</th>\n",
       "      <td>0</td>\n",
       "      <td>0</td>\n",
       "      <td>0</td>\n",
       "      <td>0.0</td>\n",
       "      <td>0</td>\n",
       "      <td>0</td>\n",
       "      <td>0</td>\n",
       "      <td>0</td>\n",
       "      <td>0</td>\n",
       "      <td>0</td>\n",
       "      <td>...</td>\n",
       "      <td>0</td>\n",
       "      <td>0</td>\n",
       "      <td>0</td>\n",
       "      <td>0</td>\n",
       "      <td>0</td>\n",
       "      <td>0</td>\n",
       "      <td>0</td>\n",
       "      <td>0</td>\n",
       "      <td>0</td>\n",
       "      <td>NaN</td>\n",
       "    </tr>\n",
       "    <tr>\n",
       "      <th>DRI0000002</th>\n",
       "      <td>0</td>\n",
       "      <td>0</td>\n",
       "      <td>0</td>\n",
       "      <td>0.0</td>\n",
       "      <td>0</td>\n",
       "      <td>0</td>\n",
       "      <td>0</td>\n",
       "      <td>0</td>\n",
       "      <td>0</td>\n",
       "      <td>0</td>\n",
       "      <td>...</td>\n",
       "      <td>0</td>\n",
       "      <td>0</td>\n",
       "      <td>0</td>\n",
       "      <td>0</td>\n",
       "      <td>0</td>\n",
       "      <td>0</td>\n",
       "      <td>0</td>\n",
       "      <td>0</td>\n",
       "      <td>0</td>\n",
       "      <td>NaN</td>\n",
       "    </tr>\n",
       "    <tr>\n",
       "      <th>DRI0000003</th>\n",
       "      <td>0</td>\n",
       "      <td>0</td>\n",
       "      <td>0</td>\n",
       "      <td>0.0</td>\n",
       "      <td>0</td>\n",
       "      <td>0</td>\n",
       "      <td>0</td>\n",
       "      <td>0</td>\n",
       "      <td>0</td>\n",
       "      <td>0</td>\n",
       "      <td>...</td>\n",
       "      <td>0</td>\n",
       "      <td>0</td>\n",
       "      <td>0</td>\n",
       "      <td>0</td>\n",
       "      <td>0</td>\n",
       "      <td>0</td>\n",
       "      <td>0</td>\n",
       "      <td>0</td>\n",
       "      <td>0</td>\n",
       "      <td>NaN</td>\n",
       "    </tr>\n",
       "    <tr>\n",
       "      <th>DRI0000004</th>\n",
       "      <td>0</td>\n",
       "      <td>0</td>\n",
       "      <td>0</td>\n",
       "      <td>0.0</td>\n",
       "      <td>0</td>\n",
       "      <td>0</td>\n",
       "      <td>0</td>\n",
       "      <td>0</td>\n",
       "      <td>0</td>\n",
       "      <td>0</td>\n",
       "      <td>...</td>\n",
       "      <td>0</td>\n",
       "      <td>0</td>\n",
       "      <td>0</td>\n",
       "      <td>0</td>\n",
       "      <td>0</td>\n",
       "      <td>0</td>\n",
       "      <td>0</td>\n",
       "      <td>0</td>\n",
       "      <td>0</td>\n",
       "      <td>NaN</td>\n",
       "    </tr>\n",
       "    <tr>\n",
       "      <th>DRI0000005</th>\n",
       "      <td>0</td>\n",
       "      <td>0</td>\n",
       "      <td>0</td>\n",
       "      <td>0.0</td>\n",
       "      <td>0</td>\n",
       "      <td>0</td>\n",
       "      <td>0</td>\n",
       "      <td>0</td>\n",
       "      <td>0</td>\n",
       "      <td>0</td>\n",
       "      <td>...</td>\n",
       "      <td>0</td>\n",
       "      <td>0</td>\n",
       "      <td>0</td>\n",
       "      <td>0</td>\n",
       "      <td>0</td>\n",
       "      <td>0</td>\n",
       "      <td>0</td>\n",
       "      <td>0</td>\n",
       "      <td>0</td>\n",
       "      <td>NaN</td>\n",
       "    </tr>\n",
       "    <tr>\n",
       "      <th>...</th>\n",
       "      <td>...</td>\n",
       "      <td>...</td>\n",
       "      <td>...</td>\n",
       "      <td>...</td>\n",
       "      <td>...</td>\n",
       "      <td>...</td>\n",
       "      <td>...</td>\n",
       "      <td>...</td>\n",
       "      <td>...</td>\n",
       "      <td>...</td>\n",
       "      <td>...</td>\n",
       "      <td>...</td>\n",
       "      <td>...</td>\n",
       "      <td>...</td>\n",
       "      <td>...</td>\n",
       "      <td>...</td>\n",
       "      <td>...</td>\n",
       "      <td>...</td>\n",
       "      <td>...</td>\n",
       "      <td>...</td>\n",
       "      <td>...</td>\n",
       "    </tr>\n",
       "    <tr>\n",
       "      <th>DRI0000125</th>\n",
       "      <td>0</td>\n",
       "      <td>0</td>\n",
       "      <td>11000</td>\n",
       "      <td>108.0</td>\n",
       "      <td>0</td>\n",
       "      <td>0</td>\n",
       "      <td>0</td>\n",
       "      <td>0</td>\n",
       "      <td>0</td>\n",
       "      <td>0</td>\n",
       "      <td>...</td>\n",
       "      <td>0</td>\n",
       "      <td>0</td>\n",
       "      <td>0</td>\n",
       "      <td>0</td>\n",
       "      <td>0</td>\n",
       "      <td>0</td>\n",
       "      <td>0</td>\n",
       "      <td>0</td>\n",
       "      <td>0</td>\n",
       "      <td>FGP</td>\n",
       "    </tr>\n",
       "    <tr>\n",
       "      <th>DRI0000126</th>\n",
       "      <td>0</td>\n",
       "      <td>0</td>\n",
       "      <td>1860</td>\n",
       "      <td>209.0</td>\n",
       "      <td>0</td>\n",
       "      <td>0</td>\n",
       "      <td>0</td>\n",
       "      <td>0</td>\n",
       "      <td>0</td>\n",
       "      <td>0</td>\n",
       "      <td>...</td>\n",
       "      <td>0</td>\n",
       "      <td>0</td>\n",
       "      <td>0</td>\n",
       "      <td>0</td>\n",
       "      <td>0</td>\n",
       "      <td>0</td>\n",
       "      <td>0</td>\n",
       "      <td>0</td>\n",
       "      <td>0</td>\n",
       "      <td>FGP</td>\n",
       "    </tr>\n",
       "    <tr>\n",
       "      <th>DRI0000127</th>\n",
       "      <td>0</td>\n",
       "      <td>0</td>\n",
       "      <td>4280</td>\n",
       "      <td>160.0</td>\n",
       "      <td>0</td>\n",
       "      <td>0</td>\n",
       "      <td>0</td>\n",
       "      <td>0</td>\n",
       "      <td>0</td>\n",
       "      <td>0</td>\n",
       "      <td>...</td>\n",
       "      <td>0</td>\n",
       "      <td>0</td>\n",
       "      <td>0</td>\n",
       "      <td>0</td>\n",
       "      <td>0</td>\n",
       "      <td>0</td>\n",
       "      <td>0</td>\n",
       "      <td>0</td>\n",
       "      <td>0</td>\n",
       "      <td>FGP</td>\n",
       "    </tr>\n",
       "    <tr>\n",
       "      <th>DRI0000128</th>\n",
       "      <td>0</td>\n",
       "      <td>0</td>\n",
       "      <td>4970</td>\n",
       "      <td>139.0</td>\n",
       "      <td>0</td>\n",
       "      <td>0</td>\n",
       "      <td>0</td>\n",
       "      <td>0</td>\n",
       "      <td>0</td>\n",
       "      <td>0</td>\n",
       "      <td>...</td>\n",
       "      <td>0</td>\n",
       "      <td>0</td>\n",
       "      <td>0</td>\n",
       "      <td>0</td>\n",
       "      <td>0</td>\n",
       "      <td>0</td>\n",
       "      <td>0</td>\n",
       "      <td>0</td>\n",
       "      <td>0</td>\n",
       "      <td>FGP</td>\n",
       "    </tr>\n",
       "    <tr>\n",
       "      <th>DRI0000129</th>\n",
       "      <td>0</td>\n",
       "      <td>0</td>\n",
       "      <td>4370</td>\n",
       "      <td>177.5</td>\n",
       "      <td>0</td>\n",
       "      <td>0</td>\n",
       "      <td>0</td>\n",
       "      <td>0</td>\n",
       "      <td>0</td>\n",
       "      <td>0</td>\n",
       "      <td>...</td>\n",
       "      <td>0</td>\n",
       "      <td>0</td>\n",
       "      <td>0</td>\n",
       "      <td>0</td>\n",
       "      <td>0</td>\n",
       "      <td>0</td>\n",
       "      <td>0</td>\n",
       "      <td>0</td>\n",
       "      <td>0</td>\n",
       "      <td>FGP</td>\n",
       "    </tr>\n",
       "  </tbody>\n",
       "</table>\n",
       "<p>129 rows × 89 columns</p>\n",
       "</div>"
      ],
      "text/plain": [
       "             H  He     Li     Be  B  C  N  O  F  Ne  ...  Rg  Cn  Nh  Fl  Mc  \\\n",
       "Sample ID                                            ...                       \n",
       " DRI0000001  0   0      0    0.0  0  0  0  0  0   0  ...   0   0   0   0   0   \n",
       " DRI0000002  0   0      0    0.0  0  0  0  0  0   0  ...   0   0   0   0   0   \n",
       " DRI0000003  0   0      0    0.0  0  0  0  0  0   0  ...   0   0   0   0   0   \n",
       " DRI0000004  0   0      0    0.0  0  0  0  0  0   0  ...   0   0   0   0   0   \n",
       " DRI0000005  0   0      0    0.0  0  0  0  0  0   0  ...   0   0   0   0   0   \n",
       "...         ..  ..    ...    ... .. .. .. .. ..  ..  ...  ..  ..  ..  ..  ..   \n",
       " DRI0000125  0   0  11000  108.0  0  0  0  0  0   0  ...   0   0   0   0   0   \n",
       " DRI0000126  0   0   1860  209.0  0  0  0  0  0   0  ...   0   0   0   0   0   \n",
       " DRI0000127  0   0   4280  160.0  0  0  0  0  0   0  ...   0   0   0   0   0   \n",
       " DRI0000128  0   0   4970  139.0  0  0  0  0  0   0  ...   0   0   0   0   0   \n",
       " DRI0000129  0   0   4370  177.5  0  0  0  0  0   0  ...   0   0   0   0   0   \n",
       "\n",
       "             Lv  Ts  Og  Li2O  Chemistry  \n",
       "Sample ID                                 \n",
       " DRI0000001   0   0   0     0        NaN  \n",
       " DRI0000002   0   0   0     0        NaN  \n",
       " DRI0000003   0   0   0     0        NaN  \n",
       " DRI0000004   0   0   0     0        NaN  \n",
       " DRI0000005   0   0   0     0        NaN  \n",
       "...          ..  ..  ..   ...        ...  \n",
       " DRI0000125   0   0   0     0        FGP  \n",
       " DRI0000126   0   0   0     0        FGP  \n",
       " DRI0000127   0   0   0     0        FGP  \n",
       " DRI0000128   0   0   0     0        FGP  \n",
       " DRI0000129   0   0   0     0        FGP  \n",
       "\n",
       "[129 rows x 89 columns]"
      ]
     },
     "execution_count": 8,
     "metadata": {},
     "output_type": "execute_result"
    }
   ],
   "source": [
    "root_path = \"D:\\\\Data_LIBS\\\\Furo\\\\Furo\\\\\"\n",
    "concentration_data = pd.read_csv(root_path+\"Furo.csv\",sep=\";\")\n",
    "concentration_data.set_index(\"Sample ID\", inplace=True)\n",
    "concentration_data2 = concentration_data['Chemistry'].groupby('Sample ID').first()\n",
    "concentration_data1 = concentration_data.groupby('Sample ID').mean()\n",
    "\n",
    "concentration_data3 = pd.concat([concentration_data1, concentration_data2], axis=1, join='outer', sort=True)\n",
    "concentration_data3.head(len(concentration_data))"
   ]
  },
  {
   "cell_type": "markdown",
   "metadata": {},
   "source": [
    "## Load the data from folder"
   ]
  },
  {
   "cell_type": "code",
   "execution_count": 9,
   "metadata": {},
   "outputs": [
    {
     "name": "stdout",
     "output_type": "stream",
     "text": [
      " Reading Folder DRI0000128 - 124 of 124\r"
     ]
    }
   ],
   "source": [
    "sample_index = 128\n",
    "root_path = \"D:\\\\Data_LIBS\\\\Furo PNR RC 005 - SciAps\\\\Converted1\\\\\"\n",
    "\n",
    "sample_folders = [f for f in os.listdir(root_path) if os.path.isdir(root_path)]\n",
    "\n",
    "list_of_experiments = []\n",
    "sample_ids = []\n",
    "for i in range(0,len(sample_folders)):\n",
    "    sample_f = sample_folders[i]\n",
    "    print(\" Reading Folder \"+ sample_f + \" - \"+ str(i+1) + \" of \" + str(len(sample_folders)), end=\"\\r\")\n",
    "\n",
    "    sample_folder = root_path + sample_f +\"\\\\\"\n",
    "    current_experiment = experiment(sample_folder,Specialtype=\"SciAps\")\n",
    "    sg = current_experiment.mean_signal\n",
    "    list_of_experiments.append(current_experiment)\n",
    "    sample_ids.append(sample_f)"
   ]
  },
  {
   "cell_type": "markdown",
   "metadata": {},
   "source": [
    "# PLS regression for Lithium - mean signal"
   ]
  },
  {
   "cell_type": "code",
   "execution_count": 10,
   "metadata": {
    "scrolled": false
   },
   "outputs": [
    {
     "data": {
      "application/vnd.jupyter.widget-view+json": {
       "model_id": "6b3183aeaf3e4641ba7f0d3115cce1db",
       "version_major": 2,
       "version_minor": 0
      },
      "text/plain": [
       "Canvas(toolbar=Toolbar(toolitems=[('Home', 'Reset original view', 'home', 'home'), ('Back', 'Back to previous …"
      ]
     },
     "metadata": {},
     "output_type": "display_data"
    },
    {
     "name": "stdout",
     "output_type": "stream",
     "text": [
      "0.4861991931492251\n"
     ]
    },
    {
     "data": {
      "application/vnd.jupyter.widget-view+json": {
       "model_id": "2347aab520d7461483ae9f08e773f6c1",
       "version_major": 2,
       "version_minor": 0
      },
      "text/plain": [
       "Canvas(toolbar=Toolbar(toolitems=[('Home', 'Reset original view', 'home', 'home'), ('Back', 'Back to previous …"
      ]
     },
     "metadata": {},
     "output_type": "display_data"
    },
    {
     "name": "stdout",
     "output_type": "stream",
     "text": [
      "0.11919475175614458\n"
     ]
    },
    {
     "data": {
      "text/plain": [
       "(PLSRegression(n_components=10, scale=False),\n",
       " 0.11919475175614458,\n",
       " 2236.0189827012236,\n",
       " 2156.025578698779)"
      ]
     },
     "execution_count": 10,
     "metadata": {},
     "output_type": "execute_result"
    }
   ],
   "source": [
    "#test size\n",
    "ts = 0.1\n",
    "#random seed\n",
    "rs = 0\n",
    "#ncomponents\n",
    "ncomp = 10\n",
    "#sigma\n",
    "sigm=1.\n",
    "    \n",
    "targets = []\n",
    "for i in range(0,len(sample_ids)):\n",
    "    target = concentration_data3.loc[\" \"+str(sample_ids[i]),'Li']\n",
    "    targets.append(target)\n",
    "targets = np.array(targets)\n",
    "\n",
    "def pls_concentration(list_of_experiments, targets,test_size=0.2,random_seed=0, ncomponents=5,\n",
    "                      Plot=True, Title='PLS Regression', label_x='Measured value', label_y='Predicted value', scaler = False):\n",
    "    \"\"\"\n",
    "    Returns a pls model and plot the result of a Partial Least squares regression\n",
    "    of the mean stiched spectrums for each experiment in the list_of_experiements \n",
    "    to a target concentration given in the targets array.\n",
    "    \n",
    "    \"\"\"\n",
    "    #pls_model = cross_decomposition.PLSRegression(n_components = ncomponents, scale = scaler)\n",
    "    #pls_model = svm.SVR(kernel='poly', gamma='auto',coef0 = 1)\n",
    "    pls_model = cross_decomposition.PLSRegression(n_components = ncomponents, scale = False)\n",
    "    #pls_model = neighbors.KNeighborsRegressor(n_neighbors=2)\n",
    "    #pls_model = neural_network.MLPRegressor()\n",
    "    #pls_model = ElasticNet()\n",
    "    #list_of_experiments=[current_experiment.mean_signal.remove_baseline() for current_experiment in list_of_experiments]\n",
    "    #print([current_experiment.mean_signal.density_H_alpha(Plot=False)[0] for current_experiment in list_of_experiments])\n",
    "    list_mean_signals = np.array([current_experiment.mean_signal.spectrum[0].flatten() for current_experiment in list_of_experiments])\n",
    "    #list_mean_signals = normalize_transform(list_mean_signals)\n",
    "    \n",
    "\n",
    "    if scaler:\n",
    "        #print(list_mean_signals)\n",
    "        scaler = StandardScaler()\n",
    "        #scaler = MinMaxScaler()\n",
    "        #scaler = Normalizer()\n",
    "        #scaler = RobustScaler()\n",
    "        #scaler.fit(list_mean_signals)\n",
    "        #list_mean_signals = scale(list_mean_signals,axis=1)\n",
    "        list_mean_signals = scaler.transform(list_mean_signals)\n",
    "        #print(list_mean_signals)\n",
    "\n",
    "    X_train, X_test, y_train, y_test = train_test_split(list_mean_signals, targets, \n",
    "                                                        test_size=test_size, random_state=random_seed)\n",
    "    \n",
    "    #X_train, X_test, y_train, y_test = train_test_split(list_mean_signals, new_targets, \n",
    "     #                                                   test_size=test_size, random_state=random_seed)\n",
    "    pls_model.fit(X_train,y_train)\n",
    "    r2=pls_model.score(X_test, y_test) \n",
    "    RMSE_p = mean_squared_error(y_test,pls_model.predict(X_test),squared = False)\n",
    "    RMSE_t = mean_squared_error(y_train,pls_model.predict(X_train),squared = False)\n",
    "    if Plot:\n",
    "        subplots()\n",
    "\n",
    "        ###With baseline\n",
    "        #subplot(121)\n",
    "        title(Title)\n",
    "\n",
    "        ax = gca()\n",
    "        ax.text(0.6, 0.1,  '$r^2 =$' + \"%0.4f\" % r2 + '\\n'\n",
    "                +'$RMSE_p =$' + \"%0.4f\" % RMSE_p + '\\n'\n",
    "                +'$RMSE_t =$' + \"%0.4f\" % RMSE_t ,\n",
    "                        transform=ax.transAxes,fontsize=8, bbox={'boxstyle':'round', 'facecolor': 'wheat', 'alpha': 0.5, 'pad': 0.5})\n",
    "\n",
    "        print(r2)\n",
    "        predicted = pls_model.predict(X_test)\n",
    "        predicted_train = pls_model.predict(X_train)\n",
    "        plot(y_test,predicted,'o',color = 'r', markersize=4,label = 'Test Dataset')\n",
    "        plot(y_train,predicted_train,'o',color = 'grey', markersize=2, label = 'Train Dataset')\n",
    "\n",
    "        mm=max([max(targets),max(predicted)])\n",
    "        xyline =np.linspace(0,mm,5) \n",
    "        plot(xyline,xyline,'-',color = 'grey', lw=0.5)\n",
    "        xlabel(label_x)\n",
    "        ylabel(label_y)\n",
    "        legend()\n",
    "    \n",
    "    return pls_model, r2, RMSE_p, RMSE_t\n",
    "\n",
    "init = 5\n",
    "rs=10\n",
    "\n",
    "pls_concentration(list_of_experiments[init:], targets[init:],test_size=ts,random_seed=rs, ncomponents=ncomp,\n",
    "                      Plot=True, Title='With Standardization - Mean Signal', \n",
    "                  label_x='Lithium Concentration - Measured Value', label_y='Lithium Concentration - Predicted Value',\n",
    "                 scaler=True)\n",
    "\n",
    "pls_concentration(list_of_experiments[init:], targets[init:],test_size=ts,random_seed=rs, ncomponents=ncomp,\n",
    "                      Plot=True, Title='Without Standardization - Mean Signal', \n",
    "                  label_x='Lithium Concentration - Measured Value', label_y='Lithium Concentration - Predicted Value',\n",
    "                 scaler=False)\n"
   ]
  },
  {
   "cell_type": "code",
   "execution_count": 11,
   "metadata": {},
   "outputs": [
    {
     "data": {
      "application/vnd.jupyter.widget-view+json": {
       "model_id": "6d755b3d51b24221b4c8c2f6a66e2701",
       "version_major": 2,
       "version_minor": 0
      },
      "text/plain": [
       "Canvas(toolbar=Toolbar(toolitems=[('Home', 'Reset original view', 'home', 'home'), ('Back', 'Back to previous …"
      ]
     },
     "metadata": {},
     "output_type": "display_data"
    },
    {
     "data": {
      "text/plain": [
       "Text(0, 0.5, 'Score')"
      ]
     },
     "execution_count": 11,
     "metadata": {},
     "output_type": "execute_result"
    }
   ],
   "source": [
    "from sklearn.model_selection import cross_val_score\n",
    "from sklearn.model_selection import ShuffleSplit\n",
    "\n",
    "def pls_crossval_score(list_of_experiments, targets,test_size=0.2,random_seed=0, \n",
    "                    nsplits = 5, \n",
    "                    ncomponents_min = 1, ncomponents_max = 5,delta_ncomponents = 1, \n",
    "                      Plot=True, Title='PLS Regression', label_x='Measured value', label_y='Predicted value', scaler = False):\n",
    "    \"\"\"\n",
    "    Returns a pls model and plot the result of a Partial Least squares regression\n",
    "    of the mean stiched spectrums for each experiment in the list_of_experiements \n",
    "    to a target concentration given in the targets array.\n",
    "    \n",
    "    \"\"\"\n",
    "    \n",
    "    list_mean_signals = np.array([current_experiment.mean_signal.spectrum[0].flatten() for current_experiment in list_of_experiments])\n",
    "\n",
    "    crossval = []\n",
    "    #scorer = make_scorer(mean_squared_error,greater_is_better = False)\n",
    "    \n",
    "    for n_components in range(ncomponents_min,ncomponents_max+1,delta_ncomponents):\n",
    "        pls_model = cross_decomposition.PLSRegression(n_components = n_components, scale = scaler)\n",
    "    \n",
    "        cv = ShuffleSplit(n_splits=nsplits, test_size=ts, random_state=rs)\n",
    "        scores = cross_val_score(pls_model, list_mean_signals, targets, cv=cv)\n",
    "        #scores = cross_val_score(pls_model, list_mean_signals, targets, cv=cv,scoring=scorer)\n",
    "        crossval.append(np.mean(scores))\n",
    "        \n",
    "    return range(ncomponents_min,ncomponents_max+1,delta_ncomponents), crossval\n",
    "\n",
    "rs=2\n",
    "init= 5 \n",
    "\n",
    "ncomps_x , scores_nonscaled = pls_crossval_score(list_of_experiments[init:], targets[init:],test_size=ts,random_seed=rs, nsplits = 5, \n",
    "                ncomponents_min = 2, ncomponents_max = 10,\n",
    "                      Plot=True, Title='Without Normalization - Mean Signal', \n",
    "                  label_x='Lithium Concentration - Measured Value', label_y='Lithium Concentration - Predicted Value',\n",
    "                 scaler=False)\n",
    "\n",
    "ncomps_x , scores_scaled = pls_crossval_score(list_of_experiments[init:], targets[init:],test_size=ts,random_seed=rs, nsplits = 5, \n",
    "                ncomponents_min = 2, ncomponents_max = 10,\n",
    "                      Plot=True, Title='Without Normalization - Mean Signal', \n",
    "                  label_x='Lithium Concentration - Measured Value', label_y='Lithium Concentration - Predicted Value',\n",
    "                 scaler=True)\n",
    "\n",
    "subplots()\n",
    "title('PLS Regression scores vs # of components')\n",
    "plot(ncomps_x, scores_nonscaled,'o',ls='-', lw=0.5, color='k', label = 'Non Scaled')\n",
    "plot(ncomps_x, scores_scaled,':',marker='*', lw=0.5, color='b',label = 'Scaled')\n",
    "legend()\n",
    "xlabel('# components')\n",
    "ylabel('Score')"
   ]
  },
  {
   "cell_type": "markdown",
   "metadata": {},
   "source": [
    "# Find Lithium lines"
   ]
  },
  {
   "cell_type": "code",
   "execution_count": 11,
   "metadata": {
    "scrolled": false
   },
   "outputs": [
    {
     "data": {
      "application/vnd.jupyter.widget-view+json": {
       "model_id": "768787456c954f528a54ea5c392f6ffe",
       "version_major": 2,
       "version_minor": 0
      },
      "text/plain": [
       "Canvas(toolbar=Toolbar(toolitems=[('Home', 'Reset original view', 'home', 'home'), ('Back', 'Back to previous …"
      ]
     },
     "metadata": {},
     "output_type": "display_data"
    },
    {
     "data": {
      "application/vnd.jupyter.widget-view+json": {
       "model_id": "bcd85e96d4394b5ca03dcc321de6a5aa",
       "version_major": 2,
       "version_minor": 0
      },
      "text/plain": [
       "Canvas(toolbar=Toolbar(toolitems=[('Home', 'Reset original view', 'home', 'home'), ('Back', 'Back to previous …"
      ]
     },
     "metadata": {},
     "output_type": "display_data"
    },
    {
     "data": {
      "application/vnd.jupyter.widget-view+json": {
       "model_id": "8800e528dd114371ac00eed37dfac26d",
       "version_major": 2,
       "version_minor": 0
      },
      "text/plain": [
       "Canvas(toolbar=Toolbar(toolitems=[('Home', 'Reset original view', 'home', 'home'), ('Back', 'Back to previous …"
      ]
     },
     "metadata": {},
     "output_type": "display_data"
    },
    {
     "data": {
      "text/plain": [
       "[<matplotlib.lines.Line2D at 0x1b1aa3a63c8>]"
      ]
     },
     "execution_count": 11,
     "metadata": {},
     "output_type": "execute_result"
    }
   ],
   "source": [
    "al = element('Li')\n",
    "\n",
    "Tp = 1.*T_ref\n",
    "sg = current_experiment.mean_signal\n",
    "\n",
    "n_spectrometer = 0\n",
    "ll = sg.wavelengths[n_spectrometer][0]\n",
    "ul = sg.wavelengths[n_spectrometer][-1]\n",
    "\n",
    "ion_energies = al.ion_energies\n",
    "\n",
    "#ion state 1\n",
    "nlines = 5\n",
    "l_num, lines = al.get_most_relevant_lines_ion_state(ion_state = 1, electron_temperature=Tp, n_lines = nlines,lower_limit = ll, upper_limit = ul)\n",
    "\n",
    "j=1\n",
    "current_experiment = list_of_experiments[j]\n",
    "#print(current_experiment.list_of_signals)\n",
    "#print(sample_ids[j])\n",
    "#stich the wavelengths and spectrum (not the best way, but for now let us have it)\n",
    "wavelengths = np.concatenate([w for w in current_experiment.mean_signal.wavelengths]) \n",
    "spectrum = np.concatenate([s for s in current_experiment.mean_signal.spectrum ])\n",
    "\n",
    "#get peak area\n",
    "ritz = lines[0].ritz\n",
    "subplots()\n",
    "intensity = get_peak_area(ritz,0.5 , wavelengths, spectrum, 0.3, True)\n",
    "\n",
    "#get peak area\n",
    "ritz = lines[2].ritz\n",
    "subplots()\n",
    "intensity = get_peak_area(ritz,0.5 , wavelengths, spectrum, 0.3, True)\n",
    "\n",
    "line_0=lines[0]\n",
    "line_1=lines[2]\n",
    "\n",
    "\n",
    "\n",
    "\n",
    "subplots()\n",
    "plot(wavelengths,spectrum, '-', lw=0.5, color='k')\n",
    "j=10\n",
    "current_experiment = list_of_experiments[j]\n",
    "#stich the wavelengths and spectrum (not the best way, but for now let us have it)\n",
    "wavelengths = np.concatenate([w for w in current_experiment.mean_signal.wavelengths]) \n",
    "spectrum = np.concatenate([s for s in current_experiment.mean_signal.spectrum ])\n",
    "plot(wavelengths,spectrum, '-', lw=0.5, color='r')\n",
    "\n",
    "\n"
   ]
  },
  {
   "cell_type": "code",
   "execution_count": 32,
   "metadata": {},
   "outputs": [
    {
     "data": {
      "application/vnd.jupyter.widget-view+json": {
       "model_id": "a1975cdb27584908a7cfcbc749b75612",
       "version_major": 2,
       "version_minor": 0
      },
      "text/plain": [
       "Canvas(toolbar=Toolbar(toolitems=[('Home', 'Reset original view', 'home', 'home'), ('Back', 'Back to previous …"
      ]
     },
     "metadata": {},
     "output_type": "display_data"
    },
    {
     "data": {
      "application/vnd.jupyter.widget-view+json": {
       "model_id": "94958b8ff7fe4f9faf79112b09bde6c7",
       "version_major": 2,
       "version_minor": 0
      },
      "text/plain": [
       "Canvas(toolbar=Toolbar(toolitems=[('Home', 'Reset original view', 'home', 'home'), ('Back', 'Back to previous …"
      ]
     },
     "metadata": {},
     "output_type": "display_data"
    },
    {
     "data": {
      "application/vnd.jupyter.widget-view+json": {
       "model_id": "90e3f071438d4789b90ebde950d47e3f",
       "version_major": 2,
       "version_minor": 0
      },
      "text/plain": [
       "Canvas(toolbar=Toolbar(toolitems=[('Home', 'Reset original view', 'home', 'home'), ('Back', 'Back to previous …"
      ]
     },
     "metadata": {},
     "output_type": "display_data"
    },
    {
     "data": {
      "text/plain": [
       "[<matplotlib.lines.Line2D at 0x1f590def240>]"
      ]
     },
     "execution_count": 32,
     "metadata": {},
     "output_type": "execute_result"
    }
   ],
   "source": [
    "#compare\n",
    "sample = digital_twin([['Li',1]])\n",
    "n_spectrometer = 0\n",
    "\n",
    "ll = sg.wavelengths[n_spectrometer][0]\n",
    "ul = sg.wavelengths[n_spectrometer][-1]\n",
    "\n",
    "wl1, intensities, labels, n_ions,specs = sample.spectrum_NIST(max_ion_state=3,wl=sg.wavelengths[n_spectrometer],\n",
    "                      electron_density = n_e_ref, electron_temperature=T_ref, resolution=3000,\n",
    "                      normalize = False, Plot = False, Map = False)\n",
    "\n",
    "specs[0]=specs[0]/(np.sum(specs[0]))\n",
    "subplots()\n",
    "plot(wl1[0],specs[0])\n",
    "j=1\n",
    "current_experiment = list_of_experiments[j]\n",
    "wavelengths = current_experiment.mean_signal.wavelengths[0]\n",
    "spectrum = current_experiment.mean_signal.spectrum[0]\n",
    "spectrum = spectrum/(np.sum(spectrum))\n",
    "plot(wavelengths,spectrum)\n",
    "\n",
    "#compare\n",
    "sample = digital_twin([['Ca',1]])\n",
    "n_spectrometer = 0\n",
    "\n",
    "ll = sg.wavelengths[n_spectrometer][0]\n",
    "ul = sg.wavelengths[n_spectrometer][-1]\n",
    "\n",
    "wl1, intensities, labels, n_ions,specs1 = sample.spectrum_NIST(max_ion_state=3,wl=sg.wavelengths[n_spectrometer],\n",
    "                      electron_density = n_e_ref, electron_temperature=T_ref, resolution=3000,\n",
    "                      normalize = False, Plot = False, Map = False)\n",
    "\n",
    "specs1[0]=specs1[0]/(np.sum(specs1[0]))\n",
    "subplots()\n",
    "plot(wl1[0],specs1[0])\n",
    "j=1\n",
    "current_experiment = list_of_experiments[j]\n",
    "wavelengths = current_experiment.mean_signal.wavelengths[0]\n",
    "spectrum = current_experiment.mean_signal.spectrum[0]\n",
    "spectrum = spectrum/(np.sum(spectrum))\n",
    "plot(wavelengths,spectrum)\n",
    "\n",
    "\n",
    "#compare\n",
    "sample = digital_twin([['Na',1]])\n",
    "n_spectrometer = 0\n",
    "\n",
    "ll = sg.wavelengths[n_spectrometer][0]\n",
    "ul = sg.wavelengths[n_spectrometer][-1]\n",
    "\n",
    "wl1, intensities, labels, n_ions,specs1 = sample.spectrum_NIST(max_ion_state=3,wl=sg.wavelengths[n_spectrometer],\n",
    "                      electron_density = n_e_ref, electron_temperature=T_ref, resolution=3000,\n",
    "                      normalize = False, Plot = False, Map = False)\n",
    "\n",
    "specs1[0]=specs1[0]/(np.sum(specs1[0]))\n",
    "subplots()\n",
    "plot(wl1[0],specs1[0])\n",
    "j=1\n",
    "current_experiment = list_of_experiments[j]\n",
    "wavelengths = current_experiment.mean_signal.wavelengths[0]\n",
    "spectrum = current_experiment.mean_signal.spectrum[0]\n",
    "spectrum = spectrum/(np.sum(spectrum))\n",
    "plot(wavelengths,spectrum)"
   ]
  },
  {
   "cell_type": "markdown",
   "metadata": {},
   "source": [
    "# Linear Calibration - Univariate"
   ]
  },
  {
   "cell_type": "code",
   "execution_count": 12,
   "metadata": {},
   "outputs": [
    {
     "name": "stdout",
     "output_type": "stream",
     "text": [
      "Line of Wavelength 670.7760000000001\n",
      "\n"
     ]
    },
    {
     "name": "stderr",
     "output_type": "stream",
     "text": [
      "C:\\Users\\nunoa\\Anaconda2\\envs\\py36\\lib\\site-packages\\ipykernel_launcher.py:20: DeprecationWarning: scipy.array is deprecated and will be removed in SciPy 2.0.0, use numpy.array instead\n"
     ]
    },
    {
     "data": {
      "application/vnd.jupyter.widget-view+json": {
       "model_id": "8b30021bc6be470a995879ef1aae5463",
       "version_major": 2,
       "version_minor": 0
      },
      "text/plain": [
       "Canvas(toolbar=Toolbar(toolitems=[('Home', 'Reset original view', 'home', 'home'), ('Back', 'Back to previous …"
      ]
     },
     "metadata": {},
     "output_type": "display_data"
    },
    {
     "name": "stdout",
     "output_type": "stream",
     "text": [
      "0.4566773021667597\n"
     ]
    }
   ],
   "source": [
    "\n",
    "def linear_calibration_curve(list_of_experiments, targets, line, ratio_of_maximum = 0.5, radius = 0.3, \n",
    "                    test_size=ts,random_seed=rs,\n",
    "                    Plot=True, Title='Linear Calibration Curve', \n",
    "                  label_x='Measured Value', label_y='Predicted Value'):\n",
    "\n",
    "    intensities=[]\n",
    "\n",
    "    for j in range(0,len(list_of_experiments)):\n",
    "        current_experiment = list_of_experiments[j]\n",
    "        \n",
    "        #stich the wavelengths and spectrum (not the best way, but for now let us have it)\n",
    "        wavelengths = np.concatenate([w for w in current_experiment.mean_signal.wavelengths]) \n",
    "        spectrum = np.concatenate([s for s in current_experiment.mean_signal.spectrum ])\n",
    "        spectrum = spectrum/(np.sum(spectrum))\n",
    "        #get peak area\n",
    "        ritz = line.ritz\n",
    "        intensity = get_peak_area(ritz,ratio_of_maximum , wavelengths, spectrum, radius, False)\n",
    "        intensities.append(intensity)\n",
    "    \n",
    "    intensities=array(intensities)\n",
    "    X_train, X_test, y_train, y_test = train_test_split(intensities.reshape(-1, 1), targets.reshape(-1, 1), \n",
    "                                                        test_size=test_size, random_state=random_seed)\n",
    "    \n",
    "    UCC_model = linear_model.LinearRegression()\n",
    "    UCC_model.fit(X_train,y_train)\n",
    "    r2=UCC_model.score(X_test, y_test) \n",
    "    \n",
    "    if Plot:\n",
    "        subplots()\n",
    "\n",
    "        ###With baseline\n",
    "        #subplot(121)\n",
    "        title(\"Without Normalization - Mean Signal\")\n",
    "\n",
    "        ax = gca()\n",
    "        ax.text(0.6, 0.1,  '$r^2 =$' + \"%0.4f\" % r2,\n",
    "                        transform=ax.transAxes,fontsize=8, bbox={'boxstyle':'round', 'facecolor': 'wheat', 'alpha': 0.5, 'pad': 0.5})\n",
    "\n",
    "        print(r2)\n",
    "        predicted = UCC_model.predict(X_test)\n",
    "        predicted_train = UCC_model.predict(X_train)\n",
    "        plot(y_test,predicted,'o',color = 'r', markersize=4,label = 'Test Dataset')\n",
    "        plot(y_train,predicted_train,'o',color = 'grey', markersize=2, label = 'Train Dataset')\n",
    "\n",
    "        mm=max([max(targets),max(predicted)])\n",
    "        xyline =np.linspace(0,mm,5) \n",
    "        plot(xyline,xyline,'-',color = 'grey', lw=0.5)\n",
    "        xlabel(label_x)\n",
    "        ylabel(label_y)\n",
    "        legend()\n",
    "        \n",
    "    \n",
    "    return UCC_model, r2, intensities, targets\n",
    "\n",
    "\n",
    "line = lines[0]\n",
    "print(line)\n",
    "init = 5#5\n",
    "end = 129#39\n",
    "UCC_model, r2, intensities, targets0 = linear_calibration_curve(list_of_experiments[init:end], targets[init:end], line, ratio_of_maximum = 0.5, radius = 0.3, \n",
    "                    test_size=ts,random_seed=rs,\n",
    "                    Plot=True, Title='Linear Calibration Curve', \n",
    "                  label_x='Measured Value', label_y='Predicted Value')\n",
    "\n"
   ]
  },
  {
   "cell_type": "code",
   "execution_count": 101,
   "metadata": {},
   "outputs": [],
   "source": [
    "targets = []\n",
    "for i in range(0,len(sample_ids)):\n",
    "    target = concentration_data3.loc[\" \"+str(sample_ids[i]),'Li']\n",
    "    targets.append(target)\n",
    "targets = np.array(targets)\n"
   ]
  },
  {
   "cell_type": "code",
   "execution_count": 13,
   "metadata": {},
   "outputs": [
    {
     "data": {
      "application/vnd.jupyter.widget-view+json": {
       "model_id": "0c5b3bae47644e57a3f1d93f93c995ad",
       "version_major": 2,
       "version_minor": 0
      },
      "text/plain": [
       "Canvas(toolbar=Toolbar(toolitems=[('Home', 'Reset original view', 'home', 'home'), ('Back', 'Back to previous …"
      ]
     },
     "metadata": {},
     "output_type": "display_data"
    },
    {
     "name": "stdout",
     "output_type": "stream",
     "text": [
      "['nan' 'nan' 'nan' 'nan' 'nan' ' SCH' ' SCH' ' SCH' ' SCH' ' SCH'\n",
      " ' SCH+FGP' ' SCH+FGP' ' FGP+VQZ' ' FGP' ' FGP' ' FGP' ' FGP' ' FGP'\n",
      " ' FGP' ' FGP' ' FGP' ' FGP' ' FGP' ' FGP' ' FGP' ' SCH+FGP' ' SCH+FGP'\n",
      " ' FGP' ' FGP' ' SCH+FGP' ' SCH' ' SCH' ' SCH' ' SCH' ' SCH' ' SCH+FGP'\n",
      " ' FGP' ' FGP' ' FGP' ' FGP' ' FGP' ' FGP' ' FGP' ' FGP' ' FGP' ' FGP'\n",
      " ' FGP' ' FGP' ' FGP' ' FGP' ' FGP' ' FGP' ' FGP' ' FGP' ' FGP' ' FGP'\n",
      " ' SCH+FGP' ' SCH+FGP' ' FGP' ' FGP' ' FGP' ' FGP' ' FGP' ' FGP' ' FGP'\n",
      " ' FGP' ' FGP' ' FGP' ' FGP' ' FGP' ' FGP' ' FGP' ' FGP' ' FGP' ' FGP'\n",
      " ' FGP' ' FGP' ' FGP' ' FGP' ' FGP' ' FGP' ' FGP' ' FGP' ' FGP' ' FGP'\n",
      " ' FGP' ' FGP' ' FGP' ' FGP' ' FGP' ' FGP' ' FGP' ' FGP' ' FGP' ' FGP'\n",
      " ' FGP' ' FGP' ' FGP' ' FGP' ' FGP' ' FGP' ' FGP' ' FGP' ' FGP' ' FGP'\n",
      " ' FGP' ' FGP' ' FGP' ' FGP' ' FGP' ' FGP' ' FGP' ' FGP' ' FGP' ' FGP'\n",
      " ' FGP' ' FGP' ' FGP' ' FGP' ' FGP' ' FGP' ' FGP' ' FGP' ' FGP']\n"
     ]
    },
    {
     "name": "stderr",
     "output_type": "stream",
     "text": [
      "C:\\Users\\nunoa\\Anaconda2\\envs\\py36\\lib\\site-packages\\ipykernel_launcher.py:18: DeprecationWarning: scipy.where is deprecated and will be removed in SciPy 2.0.0, use numpy.where instead\n",
      "C:\\Users\\nunoa\\Anaconda2\\envs\\py36\\lib\\site-packages\\ipykernel_launcher.py:19: DeprecationWarning: scipy.where is deprecated and will be removed in SciPy 2.0.0, use numpy.where instead\n",
      "C:\\Users\\nunoa\\Anaconda2\\envs\\py36\\lib\\site-packages\\ipykernel_launcher.py:20: DeprecationWarning: scipy.where is deprecated and will be removed in SciPy 2.0.0, use numpy.where instead\n",
      "C:\\Users\\nunoa\\Anaconda2\\envs\\py36\\lib\\site-packages\\ipykernel_launcher.py:21: DeprecationWarning: scipy.where is deprecated and will be removed in SciPy 2.0.0, use numpy.where instead\n",
      "C:\\Users\\nunoa\\Anaconda2\\envs\\py36\\lib\\site-packages\\ipykernel_launcher.py:22: DeprecationWarning: scipy.where is deprecated and will be removed in SciPy 2.0.0, use numpy.where instead\n"
     ]
    },
    {
     "data": {
      "application/vnd.jupyter.widget-view+json": {
       "model_id": "b873a39f637744be89b78571f68281af",
       "version_major": 2,
       "version_minor": 0
      },
      "text/plain": [
       "Canvas(toolbar=Toolbar(toolitems=[('Home', 'Reset original view', 'home', 'home'), ('Back', 'Back to previous …"
      ]
     },
     "metadata": {},
     "output_type": "display_data"
    },
    {
     "data": {
      "text/plain": [
       "\"\\nsubplots()\\nplot(intensities[:split0],'o',color='r')\\nplot(targets0[:split0],'o',color='r')\\nplot(intensities[split0:],'o',color='k')\\nplot(targets0[split0:],'o',color='k')\\nprint(targets[11])\\nprint(sample_ids[11])\\n\""
      ]
     },
     "execution_count": 13,
     "metadata": {},
     "output_type": "execute_result"
    }
   ],
   "source": [
    "subplots()\n",
    "split0=39\n",
    "split1=82\n",
    "split2=118\n",
    "plot(targets0[:split0],intensities[:split0],'o',color='r')\n",
    "plot(targets0[split0:split1],intensities[split0:split1],'o',color='k')\n",
    "plot(targets0[split1:split2],intensities[split1:split2],'o',color='b')\n",
    "xlabel(\"Measured Concentration\")\n",
    "ylabel(\"Intensity of Line\")\n",
    "\n",
    "chemistry_labels=[]\n",
    "for i in range(0,len(sample_ids)):\n",
    "    chemistry_label = concentration_data3.loc[\" \"+str(sample_ids[i]),'Chemistry']\n",
    "    chemistry_labels.append(chemistry_label)\n",
    "\n",
    "chemistry_labels=np.array(chemistry_labels)\n",
    "print(chemistry_labels)\n",
    "index1 = where(chemistry_labels == ' SCH')[0]\n",
    "index2 = where(chemistry_labels == ' SCH+FGP')[0]\n",
    "index3 = where(chemistry_labels == ' FGP+VQZ')[0]\n",
    "index4 = where(chemistry_labels == ' FGP')[0]\n",
    "index5 = where(chemistry_labels == 'nan')[0]\n",
    "\n",
    "subplots()\n",
    "try:\n",
    "    plot(targets0[index1],intensities[index1],'o',color='r',label='SCH')\n",
    "except:\n",
    "    None\n",
    "try:\n",
    "    plot(targets0[index2],intensities[index2],'o',color='k',label = 'SCH+FGP')\n",
    "except:\n",
    "    None\n",
    "try:\n",
    "    plot(targets0[index3],intensities[index3],'o',color='b',label='FGP+VQZ')\n",
    "except:\n",
    "    None\n",
    "try:\n",
    "    plot(targets0[index4],intensities[index4],'o',color='y',label='FGP')\n",
    "except:\n",
    "    None\n",
    "try:\n",
    "    plot(targets0[index5],intensities[index5],'o',color='g',label='nan')\n",
    "except:\n",
    "    None\n",
    "    \n",
    "xlabel(\"Measured Concentration\")\n",
    "ylabel(\"Intensity of Line\")\n",
    "legend()\n",
    "\n",
    "\n",
    "\"\"\"\n",
    "subplots()\n",
    "plot(intensities[:split0],'o',color='r')\n",
    "plot(targets0[:split0],'o',color='r')\n",
    "plot(intensities[split0:],'o',color='k')\n",
    "plot(targets0[split0:],'o',color='k')\n",
    "print(targets[11])\n",
    "print(sample_ids[11])\n",
    "\"\"\""
   ]
  },
  {
   "cell_type": "markdown",
   "metadata": {},
   "source": [
    "# Linear Calibration model - multivariate"
   ]
  },
  {
   "cell_type": "code",
   "execution_count": 60,
   "metadata": {},
   "outputs": [
    {
     "data": {
      "application/vnd.jupyter.widget-view+json": {
       "model_id": "687a8d2733784a62933ca922a454cefa",
       "version_major": 2,
       "version_minor": 0
      },
      "text/plain": [
       "Canvas(toolbar=Toolbar(toolitems=[('Home', 'Reset original view', 'home', 'home'), ('Back', 'Back to previous …"
      ]
     },
     "metadata": {},
     "output_type": "display_data"
    },
    {
     "name": "stdout",
     "output_type": "stream",
     "text": [
      "0.30054159463150587\n"
     ]
    },
    {
     "data": {
      "application/vnd.jupyter.widget-view+json": {
       "model_id": "89a4f69298394a15a088bfd1213d7b60",
       "version_major": 2,
       "version_minor": 0
      },
      "text/plain": [
       "Canvas(toolbar=Toolbar(toolitems=[('Home', 'Reset original view', 'home', 'home'), ('Back', 'Back to previous …"
      ]
     },
     "metadata": {},
     "output_type": "display_data"
    },
    {
     "name": "stdout",
     "output_type": "stream",
     "text": [
      "0.4350726838247012\n"
     ]
    }
   ],
   "source": [
    "\n",
    "def linear_calibration_curve_multilines(list_of_experiments, targets, lines, ratio_of_maximum = 0.5, radius = 0.3, \n",
    "                    test_size=ts,random_seed=rs,\n",
    "                    Plot=True, Title='Linear Calibration Curve', \n",
    "                  label_x='Measured Value', label_y='Predicted Value'):\n",
    "\n",
    "    \n",
    "    intensities=[]\n",
    "    for i in range(len(lines)):\n",
    "        temp_intensities=[]\n",
    "        line=lines[i]\n",
    "        \n",
    "        for j in range(0,len(list_of_experiments)):\n",
    "            current_experiment = list_of_experiments[j]\n",
    "\n",
    "            #stich the wavelengths and spectrum (not the best way, but for now let us have it)\n",
    "            wavelengths = np.concatenate([w for w in current_experiment.mean_signal.wavelengths]) \n",
    "            spectrum = np.concatenate([s for s in current_experiment.mean_signal.spectrum ])\n",
    "\n",
    "            #get peak area\n",
    "            ritz = line.ritz\n",
    "            intensity = get_peak_area(ritz,ratio_of_maximum , wavelengths, spectrum, radius, False)\n",
    "            temp_intensities.append(intensity)\n",
    "\n",
    "        temp_intensities=np.array(temp_intensities)\n",
    "        intensities.append(np.array(temp_intensities))\n",
    "    intensities=np.array(intensities)\n",
    "        \n",
    "    X_train, X_test, y_train, y_test = train_test_split(np.transpose(intensities), targets.reshape(-1, 1), \n",
    "                                                            test_size=test_size, random_state=random_seed)\n",
    "    \n",
    "    UCC_model = linear_model.LinearRegression()\n",
    "    UCC_model.fit(X_train,y_train)\n",
    "    r2=UCC_model.score(X_test, y_test) \n",
    "    \n",
    "    if Plot:\n",
    "        subplots()\n",
    "\n",
    "        ###With baseline\n",
    "        #subplot(121)\n",
    "        title(\"Without Normalization - Mean Signal\")\n",
    "\n",
    "        ax = gca()\n",
    "        ax.text(0.6, 0.1,  '$r^2 =$' + \"%0.4f\" % r2,\n",
    "                        transform=ax.transAxes,fontsize=8, bbox={'boxstyle':'round', 'facecolor': 'wheat', 'alpha': 0.5, 'pad': 0.5})\n",
    "\n",
    "        print(r2)\n",
    "        predicted = UCC_model.predict(X_test)\n",
    "        predicted_train = UCC_model.predict(X_train)\n",
    "        plot(y_test,predicted,'o',color = 'r', markersize=4,label = 'Test Dataset')\n",
    "        plot(y_train,predicted_train,'o',color = 'grey', markersize=2, label = 'Train Dataset')\n",
    "\n",
    "        mm=max([max(targets),max(predicted)])\n",
    "        xyline =np.linspace(0,mm,5) \n",
    "        plot(xyline,xyline,'-',color = 'grey', lw=0.5)\n",
    "        xlabel(label_x)\n",
    "        ylabel(label_y)\n",
    "        legend()\n",
    "        \n",
    "    \n",
    "    return UCC_model, r2, intensities, targets\n",
    "\n",
    "\n",
    "line = lines[0]\n",
    "init = 0\n",
    "UCC_model, r2, intensities, targets0 = linear_calibration_curve_multilines(list_of_experiments[init:], targets[init:], \n",
    "                    [line_0], ratio_of_maximum = 0.5, radius = 0.3, \n",
    "                    test_size=ts,random_seed=rs,\n",
    "                    Plot=True, Title='Linear Calibration Curve', \n",
    "                  label_x='Measured Value', label_y='Predicted Value')\n",
    "\n",
    "UCC_model, r2, intensities, targets0 = linear_calibration_curve_multilines(list_of_experiments[init:], targets[init:], \n",
    "                    [line_0,line_1], ratio_of_maximum = 0.5, radius = 0.3, \n",
    "                    test_size=ts,random_seed=rs,\n",
    "                    Plot=True, Title='Linear Calibration Curve', \n",
    "                  label_x='Measured Value', label_y='Predicted Value')\n",
    "\n"
   ]
  },
  {
   "cell_type": "markdown",
   "metadata": {},
   "source": [
    "# Computing density\n",
    "Using the H_alpha line from the Balmer series."
   ]
  },
  {
   "cell_type": "code",
   "execution_count": 14,
   "metadata": {},
   "outputs": [
    {
     "data": {
      "application/vnd.jupyter.widget-view+json": {
       "model_id": "b80603eb6af34e1d9e37818883e2d788",
       "version_major": 2,
       "version_minor": 0
      },
      "text/plain": [
       "Canvas(toolbar=Toolbar(toolitems=[('Home', 'Reset original view', 'home', 'home'), ('Back', 'Back to previous …"
      ]
     },
     "metadata": {},
     "output_type": "display_data"
    },
    {
     "name": "stdout",
     "output_type": "stream",
     "text": [
      "6.228981428342637e+16 cm^-3\n"
     ]
    }
   ],
   "source": [
    "density, x,y,p = sg.density_H_alpha()\n",
    "print(str(density) + \" cm^-3\")\n",
    "density= density*(10**2)**3"
   ]
  }
 ],
 "metadata": {
  "kernelspec": {
   "display_name": "Python 3",
   "language": "python",
   "name": "python3"
  },
  "language_info": {
   "codemirror_mode": {
    "name": "ipython",
    "version": 3
   },
   "file_extension": ".py",
   "mimetype": "text/x-python",
   "name": "python",
   "nbconvert_exporter": "python",
   "pygments_lexer": "ipython3",
   "version": "3.6.12"
  }
 },
 "nbformat": 4,
 "nbformat_minor": 4
}

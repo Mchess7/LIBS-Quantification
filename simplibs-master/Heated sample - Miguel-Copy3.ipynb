{
 "cells": [
  {
   "cell_type": "markdown",
   "metadata": {},
   "source": [
    "# Pulse duration - data analysis\n",
    "\n",
    "Analysis of the pulse duration data."
   ]
  },
  {
   "cell_type": "code",
   "execution_count": 1,
   "metadata": {},
   "outputs": [],
   "source": [
    "%matplotlib widget\n",
    "from core.experiment import *"
   ]
  },
  {
   "cell_type": "markdown",
   "metadata": {},
   "source": [
    "# Load data"
   ]
  },
  {
   "cell_type": "code",
   "execution_count": 2,
   "metadata": {},
   "outputs": [],
   "source": [
    "root_path = \"D:\\\\Data_LIBS\\\\Miguel\\\\Exp Pulse\\\\Target Fe 99,95% LOT005133\\\\\"\n",
    "\n",
    "folders = [f for f in os.listdir(root_path)]\n",
    "\n",
    "list_of_experiments=[]\n",
    "heating_time = []\n",
    "\n",
    "for i in range(0,len(folders)):\n",
    "    folder = folders[i]\n",
    "    sample_folder = root_path + folder +\"\\\\\"\n",
    "    list_of_experiments.append(experiment(sample_folder))#,ignore='0000'\n",
    "    try:\n",
    "        heating_time.append(int(folder.split(' ')[0]))\n",
    "    except:\n",
    "        heating_time.append(folder)\n"
   ]
  },
  {
   "cell_type": "markdown",
   "metadata": {},
   "source": [
    "# Compute the temperature"
   ]
  },
  {
   "cell_type": "code",
   "execution_count": 3,
   "metadata": {
    "scrolled": false
   },
   "outputs": [
    {
     "name": "stdout",
     "output_type": "stream",
     "text": [
      "10\n"
     ]
    },
    {
     "data": {
      "application/vnd.jupyter.widget-view+json": {
       "model_id": "b1cc3a12be484b7c9db8712f2dd80535",
       "version_major": 2,
       "version_minor": 0
      },
      "text/plain": [
       "Canvas(toolbar=Toolbar(toolitems=[('Home', 'Reset original view', 'home', 'home'), ('Back', 'Back to previous …"
      ]
     },
     "metadata": {},
     "output_type": "display_data"
    },
    {
     "data": {
      "application/vnd.jupyter.widget-view+json": {
       "model_id": "3ba169f0f4b84b3783fd357e7ea4099c",
       "version_major": 2,
       "version_minor": 0
      },
      "text/plain": [
       "Canvas(toolbar=Toolbar(toolitems=[('Home', 'Reset original view', 'home', 'home'), ('Back', 'Back to previous …"
      ]
     },
     "metadata": {},
     "output_type": "display_data"
    },
    {
     "name": "stdout",
     "output_type": "stream",
     "text": [
      "100\n"
     ]
    },
    {
     "data": {
      "application/vnd.jupyter.widget-view+json": {
       "model_id": "24b9f699fca14c9682e069c4422b48bc",
       "version_major": 2,
       "version_minor": 0
      },
      "text/plain": [
       "Canvas(toolbar=Toolbar(toolitems=[('Home', 'Reset original view', 'home', 'home'), ('Back', 'Back to previous …"
      ]
     },
     "metadata": {},
     "output_type": "display_data"
    },
    {
     "data": {
      "application/vnd.jupyter.widget-view+json": {
       "model_id": "592132bdb33742e5b2343d55cae22045",
       "version_major": 2,
       "version_minor": 0
      },
      "text/plain": [
       "Canvas(toolbar=Toolbar(toolitems=[('Home', 'Reset original view', 'home', 'home'), ('Back', 'Back to previous …"
      ]
     },
     "metadata": {},
     "output_type": "display_data"
    },
    {
     "name": "stdout",
     "output_type": "stream",
     "text": [
      "20\n"
     ]
    },
    {
     "data": {
      "application/vnd.jupyter.widget-view+json": {
       "model_id": "205c56e259b84b33bc5834fcc4976935",
       "version_major": 2,
       "version_minor": 0
      },
      "text/plain": [
       "Canvas(toolbar=Toolbar(toolitems=[('Home', 'Reset original view', 'home', 'home'), ('Back', 'Back to previous …"
      ]
     },
     "metadata": {},
     "output_type": "display_data"
    },
    {
     "data": {
      "application/vnd.jupyter.widget-view+json": {
       "model_id": "01f33612a64441b7b104b073b0eba3c4",
       "version_major": 2,
       "version_minor": 0
      },
      "text/plain": [
       "Canvas(toolbar=Toolbar(toolitems=[('Home', 'Reset original view', 'home', 'home'), ('Back', 'Back to previous …"
      ]
     },
     "metadata": {},
     "output_type": "display_data"
    },
    {
     "name": "stdout",
     "output_type": "stream",
     "text": [
      "50\n"
     ]
    },
    {
     "data": {
      "application/vnd.jupyter.widget-view+json": {
       "model_id": "d9532338e8404c2bb73efea24da8732f",
       "version_major": 2,
       "version_minor": 0
      },
      "text/plain": [
       "Canvas(toolbar=Toolbar(toolitems=[('Home', 'Reset original view', 'home', 'home'), ('Back', 'Back to previous …"
      ]
     },
     "metadata": {},
     "output_type": "display_data"
    },
    {
     "data": {
      "application/vnd.jupyter.widget-view+json": {
       "model_id": "67719b7f506c4520aca2825aeb0b3310",
       "version_major": 2,
       "version_minor": 0
      },
      "text/plain": [
       "Canvas(toolbar=Toolbar(toolitems=[('Home', 'Reset original view', 'home', 'home'), ('Back', 'Back to previous …"
      ]
     },
     "metadata": {},
     "output_type": "display_data"
    },
    {
     "name": "stdout",
     "output_type": "stream",
     "text": [
      "75\n"
     ]
    },
    {
     "data": {
      "application/vnd.jupyter.widget-view+json": {
       "model_id": "aa2ee765bc7c4ba68b2a2212da0f8c49",
       "version_major": 2,
       "version_minor": 0
      },
      "text/plain": [
       "Canvas(toolbar=Toolbar(toolitems=[('Home', 'Reset original view', 'home', 'home'), ('Back', 'Back to previous …"
      ]
     },
     "metadata": {},
     "output_type": "display_data"
    },
    {
     "data": {
      "application/vnd.jupyter.widget-view+json": {
       "model_id": "32d78f006f014b0b9571ce0f0d9a4e9b",
       "version_major": 2,
       "version_minor": 0
      },
      "text/plain": [
       "Canvas(toolbar=Toolbar(toolitems=[('Home', 'Reset original view', 'home', 'home'), ('Back', 'Back to previous …"
      ]
     },
     "metadata": {},
     "output_type": "display_data"
    }
   ],
   "source": [
    "root_path = \"D:\\\\Data_LIBS\\\\Miguel\\\\Exp Pulse\\\\Target Fe 99,95% LOT005133\\\\\"\n",
    "\n",
    "folders = [f for f in os.listdir(root_path)]\n",
    "\n",
    "list_of_experiments=[]\n",
    "heating_time = []\n",
    "\n",
    "for i in range(0,len(folders)):\n",
    "    folder = folders[i]\n",
    "    sample_folder = root_path + folder +\"\\\\\"\n",
    "    list_of_experiments.append(experiment(sample_folder))#,ignore='0000'\n",
    "    try:\n",
    "        heating_time.append(int(folder.split(' ')[0]))\n",
    "    except:\n",
    "        heating_time.append(folder)\n",
    "\n",
    "\n",
    "#Choose the element for computing the relevant lines\n",
    "al = element(\"Fe\")\n",
    "\n",
    "#reference temperature\n",
    "Tp = 1.*T_ref\n",
    "density = n_e_ref\n",
    "\n",
    "##signal\n",
    "temperatures=[]\n",
    "temps_95=[]\n",
    "for i in range(0,len(list_of_experiments)-1):\n",
    "    \n",
    "    print(heating_time[i])\n",
    "    \n",
    "    sg = list_of_experiments[i].mean_signal\n",
    "    back=list_of_experiments[-1].mean_signal\n",
    "    \n",
    "    sg.spectrum[0] = sg.spectrum[0] - back.spectrum[0]  \n",
    "    sg.remove_baseline()\n",
    "\n",
    "    #define the upper and lower limits to find the most relevant nlines\n",
    "    #let us define to the\n",
    "    n_spectrometer = 0\n",
    "    ll = sg.wavelengths[n_spectrometer][0]#300\n",
    "    #ll = 400\n",
    "    ul = sg.wavelengths[n_spectrometer][-1]\n",
    "    ul= 390\n",
    "\n",
    "    #ion state 1\n",
    "    nlines = 10\n",
    "    l_num, lines = al.get_most_relevant_lines_ion_state(ion_state = 1, electron_temperature=Tp, n_lines = nlines,lower_limit = ll, upper_limit = ul)\n",
    "    \n",
    "    lines=np.delete(lines,[6,1])\n",
    "    \n",
    "    \n",
    "    #ion state 2\n",
    "    nlines = 2\n",
    "    l_num2, lines2 = al.get_most_relevant_lines_ion_state(ion_state = 2, electron_temperature=Tp, n_lines = nlines,lower_limit = ll, upper_limit = ul)\n",
    "    ion_energies = al.ion_energies\n",
    "    lines2=np.delete(lines2,[0])\n",
    "\n",
    "    #compute the plasma temperature\n",
    "    temperature, temp_95, r2, y_s, x_s = sg.saha_boltzmann_temperature_v2([lines],al,electron_density= density, \n",
    "                                                                          ratio_of_maximum = 0.5, radius = 0.5, Plot = True, Plotlines = True, use_max_intensity = False)\n",
    "\n",
    "    temperatures.append(temperature)\n",
    "    temps_95.append(temp_95)"
   ]
  },
  {
   "cell_type": "markdown",
   "metadata": {},
   "source": [
    "# Compare with a synthetic spectrum"
   ]
  },
  {
   "cell_type": "code",
   "execution_count": 4,
   "metadata": {},
   "outputs": [
    {
     "name": "stdout",
     "output_type": "stream",
     "text": [
      "Digital sample with \n",
      " [ Fe ratio 1 ] \n",
      "# Spectrometer 1 normalized to Line of Wavelength 404.58119300000004\n",
      "\n"
     ]
    },
    {
     "data": {
      "application/vnd.jupyter.widget-view+json": {
       "model_id": "57ed6b8e33c04e78bdb22702b6289d0f",
       "version_major": 2,
       "version_minor": 0
      },
      "text/plain": [
       "Canvas(toolbar=Toolbar(toolitems=[('Home', 'Reset original view', 'home', 'home'), ('Back', 'Back to previous …"
      ]
     },
     "metadata": {},
     "output_type": "display_data"
    }
   ],
   "source": [
    "sample_elements = [['Fe',1]]\n",
    "sample = digital_twin(sample_elements)\n",
    "\n",
    "print(sample)\n",
    "\n",
    "temperature = 1.*T_ref\n",
    "sg = list_of_experiments[0].mean_signal\n",
    "sg.remove_baseline()\n",
    "\n",
    "for n_spectrometer in range(0,len(sg.wavelengths)):\n",
    "    \n",
    "    \n",
    "    ll = sg.wavelengths[n_spectrometer][0]\n",
    "    ul = sg.wavelengths[n_spectrometer][-1]\n",
    "\n",
    "    #ion state 1\n",
    "    nlines = 10\n",
    "    l_num, lines = al.get_most_relevant_lines_ion_state(ion_state = 1, electron_temperature = temperature, \n",
    "                                                        n_lines = nlines,lower_limit = ll, upper_limit = ul)\n",
    "\n",
    "    #line to normalize the intensity for direct\n",
    "    line_norm1=lines[5]\n",
    "    print(\"# Spectrometer 1 normalized to \" + str(line_norm1))\n",
    "\n",
    "    sg.compare_to_digital_sample(sample, spectrometer=n_spectrometer, \n",
    "                                 electron_temperature = temperature,electron_density=density,\n",
    "                                 d_lambda=0.02, use_wavelengths=True,line_normalize=None,\n",
    "                                 resolution = 2000, Plotline = True)"
   ]
  },
  {
   "cell_type": "markdown",
   "metadata": {},
   "source": [
    "# Variation of the intensity of a line"
   ]
  },
  {
   "cell_type": "code",
   "execution_count": 9,
   "metadata": {},
   "outputs": [
    {
     "name": "stdout",
     "output_type": "stream",
     "text": [
      "0\n"
     ]
    },
    {
     "name": "stderr",
     "output_type": "stream",
     "text": [
      "C:\\Users\\nunoa\\Anaconda2\\envs\\py36\\lib\\site-packages\\ipykernel_launcher.py:27: DeprecationWarning: scipy.array is deprecated and will be removed in SciPy 2.0.0, use numpy.array instead\n",
      "C:\\Users\\nunoa\\Anaconda2\\envs\\py36\\lib\\site-packages\\ipykernel_launcher.py:28: DeprecationWarning: scipy.ones is deprecated and will be removed in SciPy 2.0.0, use numpy.ones instead\n"
     ]
    },
    {
     "name": "stdout",
     "output_type": "stream",
     "text": [
      "1\n",
      "2\n",
      "3\n",
      "4\n"
     ]
    },
    {
     "data": {
      "application/vnd.jupyter.widget-view+json": {
       "model_id": "5c7b5a30f7ec484aa0597117800aace6",
       "version_major": 2,
       "version_minor": 0
      },
      "text/plain": [
       "Canvas(toolbar=Toolbar(toolitems=[('Home', 'Reset original view', 'home', 'home'), ('Back', 'Back to previous …"
      ]
     },
     "metadata": {},
     "output_type": "display_data"
    }
   ],
   "source": [
    "durations = []\n",
    "total_int=[]\n",
    "nions=[]\n",
    "for j in range(0,len(list_of_experiments)-1):\n",
    "    print(j)\n",
    "    current_experiment = list_of_experiments[j]\n",
    "\n",
    "    intensities=[]\n",
    "\n",
    "    for i in range(0, len(current_experiment.list_of_signals)):\n",
    "        #subplots()\n",
    "        ratio_of_maximum = 0.1\n",
    "        wavelengths = np.concatenate([w for w in current_experiment.list_of_signals[i].wavelengths]) \n",
    "        spectrum = np.concatenate([s for s in current_experiment.list_of_signals[i].spectrum ])\n",
    "        radius = .3\n",
    "        ritz = 404.58#578.21\n",
    "        intensity = get_peak_area(ritz,ratio_of_maximum , wavelengths, spectrum, radius, False)\n",
    "        intensities.append(intensity)\n",
    "    \n",
    "    temperature = temperatures[j]\n",
    "    wl,spec,label, n_ion, specs = sample.spectrum_NIST( lower_limit = ll, upper_limit = ul, electron_temperature=temperature, \n",
    "                                                   max_ion_state=3,d_lambda=0.1, Map=False)\n",
    "    \n",
    "    Z_ion = partition_function(al.label,str(0),temperature/T_ref)\n",
    "    \n",
    "    nions.append(n_ion/Z_ion)\n",
    "    intensities=array(intensities)\n",
    "    durations.append(heating_time[j]*ones(intensities.shape))\n",
    "    total_int.append(intensities)\n",
    "    \n",
    "\n",
    "    \n",
    "nions=np.array(nions)    \n",
    "durations=np.array(durations)\n",
    "total_int = np.array(total_int)\n",
    "std_d = np.std(total_int,axis=1)\n",
    "\n",
    "#aaa = array([array([yy,xx]) for yy,xx in sorted(zip(times,areas_mean-areas_error_bars[0,:]))])\n",
    "mean_durations = [y for y, x in sorted(zip(np.mean(durations,axis=1),np.mean(total_int,axis=1)), key=lambda pair: pair[0])]\n",
    "mean_intensities = [x for y, x in sorted(zip(np.mean(durations,axis=1),np.mean(total_int,axis=1)), key=lambda pair: pair[0])]\n",
    "std_d_ord = [x for y, x in sorted(zip(np.mean(durations,axis=1),std_d), key=lambda pair: pair[0])]\n",
    "mean_temperatures = [x for y, x in sorted(zip(np.mean(durations,axis=1),temperatures), key=lambda pair: pair[0])]\n",
    "mean_nions = [x for y, x in sorted(zip(np.mean(durations,axis=1),nions[:,0,0]), key=lambda pair: pair[0])]\n",
    "\n",
    "\n",
    "fig,ax = subplots(figsize=[6,5])\n",
    "subplot(211)\n",
    "ax1 = gca()\n",
    "plot(durations,total_int/mean_intensities[0],'.',color = \"gray\")\n",
    "#plot(mean(durations,axis=1),mean(total_int,axis=1),'-',lw=0.5,marker = 'o',color='k')\n",
    "errorbar(mean_durations,mean_intensities/mean_intensities[0],yerr=std_d/mean_intensities[0],color='k',lw=1,elinewidth=1,capsize=5)\n",
    "xlabel(r\"Pulse duration $\\tau_p$ (ns)\")\n",
    "ylabel(r\"$\\frac{I}{I_{10ns}}$ at 578.2nm (arb.un.)\")\n",
    "\n",
    "subplot(212)\n",
    "\n",
    "ax2= gca()\n",
    "\n",
    "ax2.set_ylabel(r'$T_{plasma}$ (eV)')  # we already handled the x-label with ax1\n",
    "ax2.plot(mean_durations, np.array(mean_temperatures)/T_ref, '--',marker = 'o', color='k')\n",
    "\n",
    "ax1 = ax2.twinx()  # instantiate a second axes that shares the same x-axis\n",
    "\n",
    "ax1.plot(mean_durations,mean_nions, ':',marker = 'x', color='gray')\n",
    "ax1.set_ylabel(r'Predicted $R(T_{p})$ (arb.un.)')\n",
    "ax2.set_xlabel(r\"Pulse duration $\\tau_p$ (ns)\")\n",
    "fig.tight_layout()  # otherwise the right y-label is slightly clipped"
   ]
  },
  {
   "cell_type": "code",
   "execution_count": null,
   "metadata": {},
   "outputs": [],
   "source": [
    "d = [x for _, x in sorted(zip(mean(durations,axis=1),mean(total_int,axis=1)), key=lambda pair: pair[0])]\n",
    "c = [y for y, x in sorted(zip(mean(durations,axis=1),mean(total_int,axis=1)), key=lambda pair: pair[0])]\n",
    "c"
   ]
  },
  {
   "cell_type": "markdown",
   "metadata": {},
   "source": [
    "# Computing density\n",
    "Using the H_alpha line from the Balmer series."
   ]
  },
  {
   "cell_type": "code",
   "execution_count": null,
   "metadata": {},
   "outputs": [],
   "source": [
    "fig,ax=subplots(figsize=[8,3])\n",
    "sg=list_of_experiments[0].mean_signal\n",
    "plot(sg.wavelengths[0], sg.spectrum[0], '-',  label = r\"$\\tau_p = $\" + str(heating_time[0]) + \" $ns$\")\n",
    "\n",
    "#sg=list_of_experiments[2].mean_signal\n",
    "#plot(sg.wavelengths[0], sg.spectrum[0], ':', label = r\"$\\tau_p = $\" + str(heating_time[2]) + \" $ns$\")\n",
    "sg=list_of_experiments[3].mean_signal\n",
    "plot(sg.wavelengths[0], sg.spectrum[0], '-.', label = r\"$\\tau_p = $\" + str(heating_time[3]) + \" $ns$\")\n",
    "#sg=list_of_experiments[4].mean_signal\n",
    "#plot(sg.wavelengths[0], sg.spectrum[0], '-.', label = r\"$\\tau_p = $\" + str(heating_time[4]) + \" $ns$\")\n",
    "\n",
    "sg=list_of_experiments[1].mean_signal\n",
    "plot(sg.wavelengths[0], sg.spectrum[0], '--', label = r\"$\\tau_p = $\" + str(heating_time[1]) + \" $ns$\")\n",
    "xlabel(\"Wavelength (nm)\")\n",
    "ylabel(\"Intensity (arb.un.)\")\n",
    "xlim(508,524)\n",
    "#for i in range(0,len(list_of_experiments)-1):\n",
    "#    sg=list_of_experiments[i].mean_signal\n",
    "    #back=list_of_experiments[-1].mean_signal\n",
    "#    plot(sg.wavelengths[0], sg.spectrum[0], '-', label = str(heating_time[i]))\n",
    "legend(fontsize=12)\n",
    "fig.tight_layout()"
   ]
  },
  {
   "cell_type": "code",
   "execution_count": null,
   "metadata": {},
   "outputs": [],
   "source": [
    "fig,ax=subplots(figsize=[8,3])\n",
    "\n",
    "pulsesx = []\n",
    "pulsesy = []\n",
    "\n",
    "durat = [10,20,50,75,100]\n",
    "colsx = [\"s 10\",\"s 20\",\"s 50\",\"s 75\",\"s 100\"]\n",
    "colsy = [\"I 10\",\"I 20\",\"I 50\",\"I 75\",\"I 100\"]\n",
    "\n",
    "df = pd.read_csv(\"D:\\\\Data_LIBS\\\\pulse.csv\",sep=\";\")\n",
    "\n",
    "for i in range(0,len(colsx)):\n",
    "    pulsesx.append(df[colsx[i]].to_numpy())\n",
    "    pulsesy.append(df[colsy[i]].to_numpy())\n",
    "    plot(pulsesx[-1]*10e8+2,pulsesy[-1],label=r\"$\\tau_p = $\"+str(durat[i])+ ' ns')\n",
    "\n",
    "xlabel(\"Time (ns)\")\n",
    "ylabel(\"Pulse power (arb.un.)\")\n",
    "xlim(0,150)\n",
    "#for i in range(0,len(list_of_experiments)-1):\n",
    "#    sg=list_of_experiments[i].mean_signal\n",
    "    #back=list_of_experiments[-1].mean_signal\n",
    "#    plot(sg.wavelengths[0], sg.spectrum[0], '-', label = str(heating_time[i]))\n",
    "legend(fontsize=12)\n",
    "fig.tight_layout()"
   ]
  },
  {
   "cell_type": "markdown",
   "metadata": {},
   "source": [
    "# Computing the plasma temperature\n",
    "Using the Saha-Boltzmann method and choosing the lines"
   ]
  },
  {
   "cell_type": "markdown",
   "metadata": {},
   "source": [
    "Using Na"
   ]
  },
  {
   "cell_type": "code",
   "execution_count": null,
   "metadata": {},
   "outputs": [],
   "source": [
    "#Choose the element for computing the relevant lines\n",
    "al = element('Na')\n",
    "\n",
    "Tp = 1.*T_ref\n",
    "\n",
    "#define the upper and lower limits to find the most relevant nlines\n",
    "#let us define to the\n",
    "n_spectrometer = 5\n",
    "ll = sg.wavelengths[n_spectrometer][0]\n",
    "ul = sg.wavelengths[n_spectrometer][-1]\n",
    "\n",
    "#ion state 1\n",
    "nlines = 5\n",
    "l_num, lines = al.get_most_relevant_lines_ion_state(ion_state = 1, electron_temperature=Tp, n_lines = nlines,lower_limit = ll, upper_limit = ul)\n",
    "\n",
    "#ion state 2\n",
    "nlines = 2\n",
    "l_num2, lines2 = al.get_most_relevant_lines_ion_state(ion_state = 2, electron_temperature=Tp, n_lines = nlines,lower_limit = ll, upper_limit = ul)\n",
    "\n",
    "#ion state 3\n",
    "nlines = 2\n",
    "l_num3, lines3 = al.get_most_relevant_lines_ion_state(ion_state = 3, electron_temperature=Tp, n_lines = nlines,lower_limit = ll, upper_limit = ul)\n",
    "ion_energies = al.ion_energies\n",
    "\n",
    "#compute the plasma temperature\n",
    "temperature, temp_95, r2, y_s, x_s = sg.saha_boltzmann_temperature_v2([lines,lines2],ion_energies,electron_density= density, \n",
    "                                                                      ratio_of_maximum = 0.5, radius = 0.1, Plot = True, Plotlines = True, use_max_intensity = False)\n"
   ]
  },
  {
   "cell_type": "markdown",
   "metadata": {},
   "source": [
    "Using Cl"
   ]
  },
  {
   "cell_type": "code",
   "execution_count": null,
   "metadata": {},
   "outputs": [],
   "source": [
    "#Choose the element for computing the relevant lines\n",
    "al = element('Cl')\n",
    "\n",
    "Tp = 1.*T_ref\n",
    "\n",
    "#define the upper and lower limits to find the most relevant nlines\n",
    "#let us define to the\n",
    "n_spectrometer = 4\n",
    "ll = sg.wavelengths[n_spectrometer][0]\n",
    "ul = sg.wavelengths[n_spectrometer][-1]\n",
    "\n",
    "#ion state 1\n",
    "nlines = 5\n",
    "l_num, lines = al.get_most_relevant_lines_ion_state(ion_state = 1, electron_temperature=Tp, n_lines = nlines,lower_limit = ll, upper_limit = ul)\n",
    "\n",
    "#ion state 2\n",
    "nlines = 2\n",
    "l_num2, lines2 = al.get_most_relevant_lines_ion_state(ion_state = 2, electron_temperature=Tp, n_lines = nlines,lower_limit = ll, upper_limit = ul)\n",
    "\n",
    "#ion state 3\n",
    "nlines = 2\n",
    "l_num3, lines3 = al.get_most_relevant_lines_ion_state(ion_state = 3, electron_temperature=Tp, n_lines = nlines,lower_limit = ll, upper_limit = ul)\n",
    "ion_energies = al.ion_energies\n",
    "\n",
    "#compute the plasma temperature\n",
    "temperature, temp_95, r2, y_s, x_s = sg.saha_boltzmann_temperature_v2([lines,lines2],ion_energies,electron_density= density, \n",
    "                                                                      ratio_of_maximum = 0.5, radius = 0.1, Plot = True, Plotlines = True, use_max_intensity = False)\n"
   ]
  },
  {
   "cell_type": "markdown",
   "metadata": {},
   "source": [
    "# LTE conditions\n",
    "Probing the Mcwrither criterium"
   ]
  },
  {
   "cell_type": "code",
   "execution_count": null,
   "metadata": {},
   "outputs": [],
   "source": [
    "minimum_density = sg.LTE_MW_criterium(4.8,temperature)\n",
    "print(\"Minimum density in cm^-3: \" + str(\"%e\" %minimum_density))\n",
    "print(\"Computed density in cm^-3: \" + str(\"%e\" %(density*(10**-2)**3)))\n",
    "print(\"MW criterion - \" + str(density>(minimum_density*(10**2)**3)))"
   ]
  },
  {
   "cell_type": "code",
   "execution_count": null,
   "metadata": {
    "scrolled": false
   },
   "outputs": [],
   "source": [
    "al = element('Na')\n",
    "sample_elements = [['Na',.5],['Cl',.5]]\n",
    "sample = digital_twin(sample_elements)\n",
    "\n",
    "print(sample)\n",
    "\n",
    "for n_spectrometer in range(0,len(sg.wavelengths)):\n",
    "    ll = sg.wavelengths[n_spectrometer][0]\n",
    "    ul = sg.wavelengths[n_spectrometer][-1]\n",
    "\n",
    "    #ion state 1\n",
    "    nlines = 3\n",
    "    l_num, lines = al.get_most_relevant_lines_ion_state(ion_state = 1, electron_temperature=Tp, \n",
    "                                                        n_lines = nlines,lower_limit = ll, upper_limit = ul)\n",
    "\n",
    "    #line to normalize the intensity for direct\n",
    "    line_norm1=lines[1]\n",
    "    print(\"# Spectrometer 1 normalized to \" + str(line_norm1))\n",
    "\n",
    "    sg.compare_to_digital_sample(sample, spectrometer=n_spectrometer, \n",
    "                                 electron_temperature = temperature,electron_density=density,\n",
    "                                 d_lambda=0.02, use_wavelengths=True,line_normalize=line_norm1,Plotline = True)"
   ]
  },
  {
   "cell_type": "code",
   "execution_count": null,
   "metadata": {},
   "outputs": [],
   "source": [
    "a=array([1,2])\n",
    "b=copy(a)\n",
    "b*=2\n",
    "a"
   ]
  },
  {
   "cell_type": "code",
   "execution_count": null,
   "metadata": {},
   "outputs": [],
   "source": [
    "\n",
    "\n",
    "\n",
    "ll = 200.\n",
    "ul = 900.\n",
    "Tp = 1.*T_ref\n",
    "new_wavelengths = np.concatenate([wl for wl in sg.wavelengths])\n",
    "#wl,spec,label, n_ion = al.synthetic_spectrum_NIST(wl = new_wavelengths, lower_limit = ll, upper_limit = ul, electron_temperature=Tp,max_ion_state=3,d_lambda=0.1)\n",
    "wl,spec,label, n_ion, specs = sample.spectrum_NIST(wl = new_wavelengths, lower_limit = ll, upper_limit = ul, electron_temperature=Tp,max_ion_state=3,d_lambda=0.01, Map=True)\n",
    "wl=wl[0]\n",
    "\n"
   ]
  },
  {
   "cell_type": "code",
   "execution_count": null,
   "metadata": {},
   "outputs": [],
   "source": [
    "#define the upper and lower limits to find the most relevant nlines\n",
    "#let us define to the\n",
    "x_ss=[]\n",
    "y_ss=[]\n",
    "for n_spectrometer in range(0,6):\n",
    "    ll = sg.wavelengths[n_spectrometer][0]\n",
    "    ul = sg.wavelengths[n_spectrometer][-1]\n",
    "\n",
    "    #ion state 1\n",
    "    nlines = 5\n",
    "    l_num, lines = al.get_most_relevant_lines_ion_state(ion_state = 1, electron_temperature=Tp, n_lines = nlines,lower_limit = ll, upper_limit = ul)\n",
    "\n",
    "    #ion state 2\n",
    "    nlines = 2\n",
    "    l_num2, lines2 = al.get_most_relevant_lines_ion_state(ion_state = 2, electron_temperature=Tp, n_lines = nlines,lower_limit = ll, upper_limit = ul)\n",
    "\n",
    "    #ion state 3\n",
    "    nlines = 2\n",
    "    l_num3, lines3 = al.get_most_relevant_lines_ion_state(ion_state = 3, electron_temperature=Tp, n_lines = nlines,lower_limit = ll, upper_limit = ul)\n",
    "    ion_energies = al.ion_energies\n",
    "\n",
    "    #compute the plasma temperature\n",
    "    temperature1, temp_95, r2, y_s, x_s = sg.saha_boltzmann_temperature_v2([lines,lines2],ion_energies,electron_density= density, \n",
    "                                                                          ratio_of_maximum = 0.5, radius = 0.1, Plot = False, Plotlines = False, use_max_intensity = False)\n",
    "\n",
    "    x_ss.append(x_s)\n",
    "    y_ss.append(y_s)"
   ]
  },
  {
   "cell_type": "code",
   "execution_count": null,
   "metadata": {},
   "outputs": [],
   "source": [
    "def density_copper(signal0,fit=\"Voigt\",Plot=True, compare_methods = False,ratio_max=0.1):\n",
    "            \n",
    "        \n",
    "        line_ritz = 515.3\n",
    "        new_wavelengths = np.concatenate([wl for wl in signal0.wavelengths])\n",
    "        new_spectrum = np.concatenate([sp for sp in signal0.spectrum])\n",
    "        new_spectrum += -baseline_als(new_spectrum,100000,0.05)\n",
    "        center_wavelength_peak_index = get_closest_peak_index(line_ritz, ratio_max, new_wavelengths, new_spectrum)\n",
    "        index_lr = get_closest_peak_width_index(center_wavelength_peak_index,ratio_max, new_wavelengths, new_spectrum)\n",
    "        \n",
    "        if compare_methods==False:\n",
    "            if fit == \"Voigt\":\n",
    "                current_profile_binder = voigt_profile_binder\n",
    "            elif fit == \"Gaussian\":\n",
    "                current_profile_binder = gaussian_profile_binder\n",
    "            else:\n",
    "                current_profile_binder = lorentzian_profile_binder\n",
    "            \n",
    "            params, pcov = binder_fit(new_wavelengths[index_lr[0]:index_lr[1]], new_spectrum[index_lr[0]:index_lr[1]],\n",
    "                                     current_profile_binder,\n",
    "                                     initial_guess_x0 = line_ritz, initial_guess_A = new_spectrum[center_wavelength_peak_index])\n",
    "            \n",
    "            xx = np.arange(new_wavelengths[index_lr[0]],new_wavelengths[index_lr[1]],0.001)\n",
    "            fwhm, fwhm_x_v, fwhm_y_v = fit_fwhm(xx,params,current_profile_binder)\n",
    "            \n",
    "            #density = 10e17*pow(fwhm/1.31,1/0.64)\n",
    "            #density = 9.77e16*pow(fwhm,1.39)\n",
    "            ww = 0.0102\n",
    "            density = (fwhm/(2*ww))*10**16\n",
    "            if Plot:\n",
    "                figure()\n",
    "                title(r'$Copper_{(510.5 nm)}$ line fit',fontsize=12)\n",
    "                plot(new_wavelengths[index_lr[0]:index_lr[1]],new_spectrum[index_lr[0]:index_lr[1]],'-',color='k',label='Signal')\n",
    "                fill_between(xx,current_profile_binder(xx,params[0],params[1],params[2],params[3]),color='b',alpha=0.2,label=fit+' fit')\n",
    "                plot(fwhm_x_v,fwhm_y_v,ls = ':', color = 'k', marker = '|',markersize = 10)\n",
    "                ax = gca()\n",
    "                ax.text(0.3, 0.2,  '$n_{plasma} =$' + \"%1.2e\" % density +' $cm^{-3}$',\n",
    "                transform=ax.transAxes,fontsize=12, bbox={'boxstyle':'round', 'facecolor': 'wheat', 'alpha': 0.5, 'pad': 0.5})\n",
    "                ax.xaxis.set_major_formatter(ticker.FormatStrFormatter('%0.1f'))\n",
    "                legend(fontsize=12)\n",
    "            \n",
    "\n",
    "            return density, new_wavelengths[index_lr[0]:index_lr[1]], new_spectrum[index_lr[0]:index_lr[1]], params\n",
    "        \n",
    "        else:\n",
    "            figure()\n",
    "            title(r'$H_{\\alpha}$ line fit',fontsize=12)\n",
    "            plot(new_wavelengths[index_lr[0]:index_lr[1]],new_spectrum[index_lr[0]:index_lr[1]],'-',color='k',label='Signal')\n",
    "                             \n",
    "            for binder in [[voigt_profile_binder,'Voigt','b'],\n",
    "                           [gaussian_profile_binder,'Gaussian','r'],\n",
    "                           [lorentzian_profile_binder,'Lorentzian','g']]:\n",
    "            \n",
    "                current_profile_binder = binder[0]\n",
    "                fit = binder[1]\n",
    "                color1=binder[2]\n",
    "                \n",
    "            \n",
    "                params, pcov = binder_fit(new_wavelengths[index_lr[0]:index_lr[1]], new_spectrum[index_lr[0]:index_lr[1]],\n",
    "                                         current_profile_binder,\n",
    "                                         initial_guess_x0 = line_ritz, initial_guess_A = new_spectrum[center_wavelength_peak_index])\n",
    "                \n",
    "                \n",
    "                xx = np.arange(new_wavelengths[index_lr[0]],new_wavelengths[index_lr[1]],0.001)\n",
    "                fwhm, fwhm_x_v, fwhm_y_v = fit_fwhm(xx,params,current_profile_binder)\n",
    "                \n",
    "                \n",
    "                #density = 10e17*pow(fwhm/1.31,1/0.64)\n",
    "                density = (fwhm/(2.8*10**-17))**(1/0.72)*10**-6\n",
    "                \n",
    "                \n",
    "                fill_between(xx,current_profile_binder(xx,params[0],params[1],params[2],params[3]),color=color1,alpha=0.2,label=fit+' fit \\n'+ '$n_{plasma} =$' + \"%1.2e\" % density +' $cm^{-3}$\\n')\n",
    "                plot(fwhm_x_v,fwhm_y_v,ls = ':', color = 'k', marker = '|',markersize = 10)\n",
    "                ax = gca()\n",
    "                \n",
    "            \n",
    "            ax.xaxis.set_major_formatter(ticker.FormatStrFormatter('%0.1f'))\n",
    "            legend(fontsize=12)\n",
    "                    \n",
    "                    \n",
    "                \n",
    "\n",
    "            return density, new_wavelengths[index_lr[0]:index_lr[1]], new_spectrum[index_lr[0]:index_lr[1]], params\n",
    "\n",
    "density_copper(list_of_experiments[4].mean_signal)"
   ]
  },
  {
   "cell_type": "code",
   "execution_count": null,
   "metadata": {},
   "outputs": [],
   "source": [
    "sample_elements = [['Cu',1]]\n",
    "sample = digital_twin(sample_elements)\n",
    "\n",
    "print(sample)\n",
    "\n",
    "temperature =.80*T_ref\n",
    "wl,spec,label, n_ion, specs = sample.spectrum_NIST( lower_limit = ll, upper_limit = ul, electron_temperature=temperature,\n",
    "                                                   max_ion_state=3,d_lambda=0.01, Map=False)\n",
    "subplots()\n",
    "plot(wl[0],specs[0],label='$T_p = 0.8 ev$')\n",
    "print(n_ion)\n",
    "\n",
    "temperature =.90*T_ref\n",
    "wl,spec,label, n_ion, specs = sample.spectrum_NIST( lower_limit = ll, upper_limit = ul, electron_temperature=temperature,\n",
    "                                                   max_ion_state=3,d_lambda=0.01, Map=False)\n",
    "plot(wl[0],specs[0],label='$T_p = 0.9 ev$')\n",
    "print(n_ion)\n",
    "\n",
    "temperature =1.*T_ref\n",
    "wl,spec,label, n_ion, specs = sample.spectrum_NIST( lower_limit = ll, upper_limit = ul, electron_temperature=temperature,\n",
    "                                                   max_ion_state=3,d_lambda=0.01, Map=False)\n",
    "\n",
    "plot(wl[0],specs[0],label='$T_p = 1.0 ev$')\n",
    "print(n_ion)\n",
    "\n",
    "legend()\n"
   ]
  },
  {
   "cell_type": "code",
   "execution_count": null,
   "metadata": {},
   "outputs": [],
   "source": []
  }
 ],
 "metadata": {
  "kernelspec": {
   "display_name": "Python 3",
   "language": "python",
   "name": "python3"
  },
  "language_info": {
   "codemirror_mode": {
    "name": "ipython",
    "version": 3
   },
   "file_extension": ".py",
   "mimetype": "text/x-python",
   "name": "python",
   "nbconvert_exporter": "python",
   "pygments_lexer": "ipython3",
   "version": "3.6.12"
  }
 },
 "nbformat": 4,
 "nbformat_minor": 4
}

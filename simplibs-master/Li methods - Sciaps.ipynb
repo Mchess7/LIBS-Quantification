{
 "cells": [
  {
   "cell_type": "markdown",
   "metadata": {},
   "source": [
    "# Drill - Data Analysis\n",
    "\n",
    "Analysis of the spectral data obtained for samples of the drill at Mina do Barroso using data obtained with the SciAps commercial device."
   ]
  },
  {
   "cell_type": "code",
   "execution_count": 1,
   "metadata": {},
   "outputs": [],
   "source": [
    "%matplotlib widget\n",
    "from core.experiment import *"
   ]
  },
  {
   "cell_type": "markdown",
   "metadata": {},
   "source": [
    "# Data table with samples and concentrations"
   ]
  },
  {
   "cell_type": "code",
   "execution_count": 2,
   "metadata": {},
   "outputs": [
    {
     "data": {
      "text/html": [
       "<div>\n",
       "<style scoped>\n",
       "    .dataframe tbody tr th:only-of-type {\n",
       "        vertical-align: middle;\n",
       "    }\n",
       "\n",
       "    .dataframe tbody tr th {\n",
       "        vertical-align: top;\n",
       "    }\n",
       "\n",
       "    .dataframe thead th {\n",
       "        text-align: right;\n",
       "    }\n",
       "</style>\n",
       "<table border=\"1\" class=\"dataframe\">\n",
       "  <thead>\n",
       "    <tr style=\"text-align: right;\">\n",
       "      <th></th>\n",
       "      <th>H</th>\n",
       "      <th>He</th>\n",
       "      <th>Li</th>\n",
       "      <th>Be</th>\n",
       "      <th>B</th>\n",
       "      <th>C</th>\n",
       "      <th>N</th>\n",
       "      <th>O</th>\n",
       "      <th>F</th>\n",
       "      <th>Ne</th>\n",
       "      <th>...</th>\n",
       "      <th>Rg</th>\n",
       "      <th>Cn</th>\n",
       "      <th>Nh</th>\n",
       "      <th>Fl</th>\n",
       "      <th>Mc</th>\n",
       "      <th>Lv</th>\n",
       "      <th>Ts</th>\n",
       "      <th>Og</th>\n",
       "      <th>Li2O</th>\n",
       "      <th>Chemistry</th>\n",
       "    </tr>\n",
       "    <tr>\n",
       "      <th>Sample ID</th>\n",
       "      <th></th>\n",
       "      <th></th>\n",
       "      <th></th>\n",
       "      <th></th>\n",
       "      <th></th>\n",
       "      <th></th>\n",
       "      <th></th>\n",
       "      <th></th>\n",
       "      <th></th>\n",
       "      <th></th>\n",
       "      <th></th>\n",
       "      <th></th>\n",
       "      <th></th>\n",
       "      <th></th>\n",
       "      <th></th>\n",
       "      <th></th>\n",
       "      <th></th>\n",
       "      <th></th>\n",
       "      <th></th>\n",
       "      <th></th>\n",
       "      <th></th>\n",
       "    </tr>\n",
       "  </thead>\n",
       "  <tbody>\n",
       "    <tr>\n",
       "      <td>DRI0000001</td>\n",
       "      <td>0</td>\n",
       "      <td>0</td>\n",
       "      <td>0</td>\n",
       "      <td>0.0</td>\n",
       "      <td>0</td>\n",
       "      <td>0</td>\n",
       "      <td>0</td>\n",
       "      <td>0</td>\n",
       "      <td>0</td>\n",
       "      <td>0</td>\n",
       "      <td>...</td>\n",
       "      <td>0</td>\n",
       "      <td>0</td>\n",
       "      <td>0</td>\n",
       "      <td>0</td>\n",
       "      <td>0</td>\n",
       "      <td>0</td>\n",
       "      <td>0</td>\n",
       "      <td>0</td>\n",
       "      <td>0</td>\n",
       "      <td>NaN</td>\n",
       "    </tr>\n",
       "    <tr>\n",
       "      <td>DRI0000002</td>\n",
       "      <td>0</td>\n",
       "      <td>0</td>\n",
       "      <td>0</td>\n",
       "      <td>0.0</td>\n",
       "      <td>0</td>\n",
       "      <td>0</td>\n",
       "      <td>0</td>\n",
       "      <td>0</td>\n",
       "      <td>0</td>\n",
       "      <td>0</td>\n",
       "      <td>...</td>\n",
       "      <td>0</td>\n",
       "      <td>0</td>\n",
       "      <td>0</td>\n",
       "      <td>0</td>\n",
       "      <td>0</td>\n",
       "      <td>0</td>\n",
       "      <td>0</td>\n",
       "      <td>0</td>\n",
       "      <td>0</td>\n",
       "      <td>NaN</td>\n",
       "    </tr>\n",
       "    <tr>\n",
       "      <td>DRI0000003</td>\n",
       "      <td>0</td>\n",
       "      <td>0</td>\n",
       "      <td>0</td>\n",
       "      <td>0.0</td>\n",
       "      <td>0</td>\n",
       "      <td>0</td>\n",
       "      <td>0</td>\n",
       "      <td>0</td>\n",
       "      <td>0</td>\n",
       "      <td>0</td>\n",
       "      <td>...</td>\n",
       "      <td>0</td>\n",
       "      <td>0</td>\n",
       "      <td>0</td>\n",
       "      <td>0</td>\n",
       "      <td>0</td>\n",
       "      <td>0</td>\n",
       "      <td>0</td>\n",
       "      <td>0</td>\n",
       "      <td>0</td>\n",
       "      <td>NaN</td>\n",
       "    </tr>\n",
       "    <tr>\n",
       "      <td>DRI0000004</td>\n",
       "      <td>0</td>\n",
       "      <td>0</td>\n",
       "      <td>0</td>\n",
       "      <td>0.0</td>\n",
       "      <td>0</td>\n",
       "      <td>0</td>\n",
       "      <td>0</td>\n",
       "      <td>0</td>\n",
       "      <td>0</td>\n",
       "      <td>0</td>\n",
       "      <td>...</td>\n",
       "      <td>0</td>\n",
       "      <td>0</td>\n",
       "      <td>0</td>\n",
       "      <td>0</td>\n",
       "      <td>0</td>\n",
       "      <td>0</td>\n",
       "      <td>0</td>\n",
       "      <td>0</td>\n",
       "      <td>0</td>\n",
       "      <td>NaN</td>\n",
       "    </tr>\n",
       "    <tr>\n",
       "      <td>DRI0000005</td>\n",
       "      <td>0</td>\n",
       "      <td>0</td>\n",
       "      <td>0</td>\n",
       "      <td>0.0</td>\n",
       "      <td>0</td>\n",
       "      <td>0</td>\n",
       "      <td>0</td>\n",
       "      <td>0</td>\n",
       "      <td>0</td>\n",
       "      <td>0</td>\n",
       "      <td>...</td>\n",
       "      <td>0</td>\n",
       "      <td>0</td>\n",
       "      <td>0</td>\n",
       "      <td>0</td>\n",
       "      <td>0</td>\n",
       "      <td>0</td>\n",
       "      <td>0</td>\n",
       "      <td>0</td>\n",
       "      <td>0</td>\n",
       "      <td>NaN</td>\n",
       "    </tr>\n",
       "    <tr>\n",
       "      <td>...</td>\n",
       "      <td>...</td>\n",
       "      <td>...</td>\n",
       "      <td>...</td>\n",
       "      <td>...</td>\n",
       "      <td>...</td>\n",
       "      <td>...</td>\n",
       "      <td>...</td>\n",
       "      <td>...</td>\n",
       "      <td>...</td>\n",
       "      <td>...</td>\n",
       "      <td>...</td>\n",
       "      <td>...</td>\n",
       "      <td>...</td>\n",
       "      <td>...</td>\n",
       "      <td>...</td>\n",
       "      <td>...</td>\n",
       "      <td>...</td>\n",
       "      <td>...</td>\n",
       "      <td>...</td>\n",
       "      <td>...</td>\n",
       "      <td>...</td>\n",
       "    </tr>\n",
       "    <tr>\n",
       "      <td>DRI0000125</td>\n",
       "      <td>0</td>\n",
       "      <td>0</td>\n",
       "      <td>11000</td>\n",
       "      <td>108.0</td>\n",
       "      <td>0</td>\n",
       "      <td>0</td>\n",
       "      <td>0</td>\n",
       "      <td>0</td>\n",
       "      <td>0</td>\n",
       "      <td>0</td>\n",
       "      <td>...</td>\n",
       "      <td>0</td>\n",
       "      <td>0</td>\n",
       "      <td>0</td>\n",
       "      <td>0</td>\n",
       "      <td>0</td>\n",
       "      <td>0</td>\n",
       "      <td>0</td>\n",
       "      <td>0</td>\n",
       "      <td>0</td>\n",
       "      <td>FGP</td>\n",
       "    </tr>\n",
       "    <tr>\n",
       "      <td>DRI0000126</td>\n",
       "      <td>0</td>\n",
       "      <td>0</td>\n",
       "      <td>1860</td>\n",
       "      <td>209.0</td>\n",
       "      <td>0</td>\n",
       "      <td>0</td>\n",
       "      <td>0</td>\n",
       "      <td>0</td>\n",
       "      <td>0</td>\n",
       "      <td>0</td>\n",
       "      <td>...</td>\n",
       "      <td>0</td>\n",
       "      <td>0</td>\n",
       "      <td>0</td>\n",
       "      <td>0</td>\n",
       "      <td>0</td>\n",
       "      <td>0</td>\n",
       "      <td>0</td>\n",
       "      <td>0</td>\n",
       "      <td>0</td>\n",
       "      <td>FGP</td>\n",
       "    </tr>\n",
       "    <tr>\n",
       "      <td>DRI0000127</td>\n",
       "      <td>0</td>\n",
       "      <td>0</td>\n",
       "      <td>4280</td>\n",
       "      <td>160.0</td>\n",
       "      <td>0</td>\n",
       "      <td>0</td>\n",
       "      <td>0</td>\n",
       "      <td>0</td>\n",
       "      <td>0</td>\n",
       "      <td>0</td>\n",
       "      <td>...</td>\n",
       "      <td>0</td>\n",
       "      <td>0</td>\n",
       "      <td>0</td>\n",
       "      <td>0</td>\n",
       "      <td>0</td>\n",
       "      <td>0</td>\n",
       "      <td>0</td>\n",
       "      <td>0</td>\n",
       "      <td>0</td>\n",
       "      <td>FGP</td>\n",
       "    </tr>\n",
       "    <tr>\n",
       "      <td>DRI0000128</td>\n",
       "      <td>0</td>\n",
       "      <td>0</td>\n",
       "      <td>4970</td>\n",
       "      <td>139.0</td>\n",
       "      <td>0</td>\n",
       "      <td>0</td>\n",
       "      <td>0</td>\n",
       "      <td>0</td>\n",
       "      <td>0</td>\n",
       "      <td>0</td>\n",
       "      <td>...</td>\n",
       "      <td>0</td>\n",
       "      <td>0</td>\n",
       "      <td>0</td>\n",
       "      <td>0</td>\n",
       "      <td>0</td>\n",
       "      <td>0</td>\n",
       "      <td>0</td>\n",
       "      <td>0</td>\n",
       "      <td>0</td>\n",
       "      <td>FGP</td>\n",
       "    </tr>\n",
       "    <tr>\n",
       "      <td>DRI0000129</td>\n",
       "      <td>0</td>\n",
       "      <td>0</td>\n",
       "      <td>4370</td>\n",
       "      <td>177.5</td>\n",
       "      <td>0</td>\n",
       "      <td>0</td>\n",
       "      <td>0</td>\n",
       "      <td>0</td>\n",
       "      <td>0</td>\n",
       "      <td>0</td>\n",
       "      <td>...</td>\n",
       "      <td>0</td>\n",
       "      <td>0</td>\n",
       "      <td>0</td>\n",
       "      <td>0</td>\n",
       "      <td>0</td>\n",
       "      <td>0</td>\n",
       "      <td>0</td>\n",
       "      <td>0</td>\n",
       "      <td>0</td>\n",
       "      <td>FGP</td>\n",
       "    </tr>\n",
       "  </tbody>\n",
       "</table>\n",
       "<p>129 rows × 89 columns</p>\n",
       "</div>"
      ],
      "text/plain": [
       "             H  He     Li     Be  B  C  N  O  F  Ne  ...  Rg  Cn  Nh  Fl  Mc  \\\n",
       "Sample ID                                            ...                       \n",
       " DRI0000001  0   0      0    0.0  0  0  0  0  0   0  ...   0   0   0   0   0   \n",
       " DRI0000002  0   0      0    0.0  0  0  0  0  0   0  ...   0   0   0   0   0   \n",
       " DRI0000003  0   0      0    0.0  0  0  0  0  0   0  ...   0   0   0   0   0   \n",
       " DRI0000004  0   0      0    0.0  0  0  0  0  0   0  ...   0   0   0   0   0   \n",
       " DRI0000005  0   0      0    0.0  0  0  0  0  0   0  ...   0   0   0   0   0   \n",
       "...         ..  ..    ...    ... .. .. .. .. ..  ..  ...  ..  ..  ..  ..  ..   \n",
       " DRI0000125  0   0  11000  108.0  0  0  0  0  0   0  ...   0   0   0   0   0   \n",
       " DRI0000126  0   0   1860  209.0  0  0  0  0  0   0  ...   0   0   0   0   0   \n",
       " DRI0000127  0   0   4280  160.0  0  0  0  0  0   0  ...   0   0   0   0   0   \n",
       " DRI0000128  0   0   4970  139.0  0  0  0  0  0   0  ...   0   0   0   0   0   \n",
       " DRI0000129  0   0   4370  177.5  0  0  0  0  0   0  ...   0   0   0   0   0   \n",
       "\n",
       "             Lv  Ts  Og  Li2O  Chemistry  \n",
       "Sample ID                                 \n",
       " DRI0000001   0   0   0     0        NaN  \n",
       " DRI0000002   0   0   0     0        NaN  \n",
       " DRI0000003   0   0   0     0        NaN  \n",
       " DRI0000004   0   0   0     0        NaN  \n",
       " DRI0000005   0   0   0     0        NaN  \n",
       "...          ..  ..  ..   ...        ...  \n",
       " DRI0000125   0   0   0     0        FGP  \n",
       " DRI0000126   0   0   0     0        FGP  \n",
       " DRI0000127   0   0   0     0        FGP  \n",
       " DRI0000128   0   0   0     0        FGP  \n",
       " DRI0000129   0   0   0     0        FGP  \n",
       "\n",
       "[129 rows x 89 columns]"
      ]
     },
     "execution_count": 2,
     "metadata": {},
     "output_type": "execute_result"
    }
   ],
   "source": [
    "#path to data\n",
    "root_path = \"C:\\\\Users\\\\Miguel\\\\Desktop\\\\Furo SciAps\\\\Converted1\\\\\"\n",
    "\n",
    "#get the concentration data\n",
    "concentration_data = pd.read_csv(root_path+\"Furo.csv\",sep=\";\")\n",
    "concentration_data.set_index(\"Sample ID\", inplace=True)\n",
    "\n",
    "concentration_data2 = concentration_data['Chemistry'].groupby('Sample ID').first()\n",
    "concentration_data1 = concentration_data.groupby('Sample ID').mean()\n",
    "\n",
    "concentration_data3 = pd.concat([concentration_data1, concentration_data2], axis=1, join='outer', sort=True)\n",
    "concentration_data3.head(len(concentration_data))"
   ]
  },
  {
   "cell_type": "markdown",
   "metadata": {},
   "source": [
    "## Load the data from folder"
   ]
  },
  {
   "cell_type": "code",
   "execution_count": 3,
   "metadata": {},
   "outputs": [
    {
     "name": "stdout",
     "output_type": "stream",
     "text": [
      " Reading Folder DRI0000128 - 124 of 124\r"
     ]
    }
   ],
   "source": [
    "#path to data\n",
    "root_path = \"C:\\\\Users\\\\Miguel\\\\Desktop\\\\Furo SciAps\\\\Converted1\\\\\"\n",
    "\n",
    "#find all folders in path\n",
    "sample_folders = [f for f in os.listdir(root_path) if os.path.isdir(root_path+f)]\n",
    "\n",
    "#experiment for each sample\n",
    "list_of_experiments = []\n",
    "\n",
    "#sample identification\n",
    "sample_ids = []\n",
    "for i in range(0,len(sample_folders)):\n",
    "    sample_f = sample_folders[i]\n",
    "    print(\" Reading Folder \"+ sample_f + \" - \"+ str(i+1) + \" of \" + str(len(sample_folders)), end=\"\\r\")\n",
    "\n",
    "    sample_folder = root_path + sample_f +\"\\\\\"\n",
    "    \n",
    "    current_experiment = experiment(sample_folder,Specialtype=\"SciAps\")\n",
    "    sg = current_experiment.mean_signal\n",
    "    \n",
    "    list_of_experiments.append(current_experiment)\n",
    "    \n",
    "    sample_ids.append(sample_f)"
   ]
  },
  {
   "cell_type": "code",
   "execution_count": 4,
   "metadata": {},
   "outputs": [
    {
     "data": {
      "application/vnd.jupyter.widget-view+json": {
       "model_id": "015ceefad62d4b7f8c9b7d0a8d2b50d5",
       "version_major": 2,
       "version_minor": 0
      },
      "text/plain": [
       "Canvas(toolbar=Toolbar(toolitems=[('Home', 'Reset original view', 'home', 'home'), ('Back', 'Back to previous …"
      ]
     },
     "metadata": {},
     "output_type": "display_data"
    },
    {
     "data": {
      "text/plain": [
       "[<matplotlib.lines.Line2D at 0x27560f4ab08>]"
      ]
     },
     "execution_count": 4,
     "metadata": {},
     "output_type": "execute_result"
    }
   ],
   "source": [
    "index = 10\n",
    "\n",
    "subplots()\n",
    "current_experiment = list_of_experiments[index]\n",
    "\n",
    "current_signal = current_experiment.mean_signal\n",
    "\n",
    "wavelengths = current_signal.wavelengths\n",
    "spectrum = current_signal.spectrum\n",
    "\n",
    "plot(np.ndarray.flatten(np.array(wavelengths)),np.ndarray.flatten(np.array(spectrum)),'-')"
   ]
  },
  {
   "cell_type": "markdown",
   "metadata": {},
   "source": [
    "## 0. Pre-Processing"
   ]
  },
  {
   "cell_type": "code",
   "execution_count": 5,
   "metadata": {},
   "outputs": [
    {
     "name": "stdout",
     "output_type": "stream",
     "text": [
      " Removing baseline 124 of 124\r"
     ]
    }
   ],
   "source": [
    "#list of processed experiments\n",
    "list_of_signals_pro = []\n",
    "\n",
    "for i in range(0,len(list_of_experiments)):\n",
    "    \n",
    "    print(\" Removing baseline \" + str(i+1) + \" of \" + str(len(list_of_experiments)), end = \"\\r\")\n",
    "    \n",
    "    sg = list_of_experiments[i].mean_signal\n",
    "    sg.remove_baseline()\n",
    "    \n",
    "    list_of_signals_pro.append(sg)"
   ]
  },
  {
   "cell_type": "code",
   "execution_count": 6,
   "metadata": {},
   "outputs": [
    {
     "data": {
      "application/vnd.jupyter.widget-view+json": {
       "model_id": "2fdddb85f55244bf84156b36438f9c11",
       "version_major": 2,
       "version_minor": 0
      },
      "text/plain": [
       "Canvas(toolbar=Toolbar(toolitems=[('Home', 'Reset original view', 'home', 'home'), ('Back', 'Back to previous …"
      ]
     },
     "metadata": {},
     "output_type": "display_data"
    },
    {
     "data": {
      "text/plain": [
       "[<matplotlib.lines.Line2D at 0x27560fea248>]"
      ]
     },
     "execution_count": 6,
     "metadata": {},
     "output_type": "execute_result"
    }
   ],
   "source": [
    "#print(list_of_signals_pro)\n",
    "\n",
    "subplots()\n",
    "#plot(np.ndarray.flatten(np.array(wavelengths)),np.ndarray.flatten(np.array(spectrum)),'-')\n",
    "\n",
    "\n",
    "wavelengths = list_of_signals_pro[index].wavelengths\n",
    "spectrum = list_of_signals_pro[index].spectrum\n",
    "\n",
    "\n",
    "\n",
    "plot(np.ndarray.flatten(np.array(wavelengths)),np.ndarray.flatten(np.array(spectrum)),'-')"
   ]
  },
  {
   "cell_type": "code",
   "execution_count": 7,
   "metadata": {},
   "outputs": [],
   "source": [
    "import sklearn\n",
    "from sklearn.preprocessing import *\n",
    "\n",
    "#turn experiment into an array\n",
    "\n",
    "list_of_spectra = []\n",
    "for i in range(0,len(list_of_signals_pro)):\n",
    "    list_of_spectra.append(np.ndarray.flatten(list_of_signals_pro[i].spectrum))\n",
    "list_of_spectra = np.array(list_of_spectra)\n",
    "\n",
    "#peak area calculation\n",
    "\n",
    "def area_intensity(line, wavelengths, spectra):\n",
    "    \n",
    "    ratio_of_maximum = 0.5\n",
    "\n",
    "    radius = 0.5\n",
    "    \n",
    "    lines = []\n",
    "    \n",
    "    for i in range(0, len(spectra)):\n",
    "        intensity = get_peak_area(line, ratio_of_maximum, wavelengths, spectra[i], radius, False)\n",
    "        lines.append(intensity)\n",
    "    \n",
    "    return lines\n",
    "\n",
    "#standard scaler\n",
    "\n",
    "def scaler_norm(data):\n",
    "    scaler = StandardScaler()\n",
    "    scaler.fit(data)\n",
    "    new_data = scaler.transform(data)\n",
    "    return new_data\n",
    "\n",
    "#Normalize to a selected peak area\n",
    "\n",
    "def internal_ref_norm(wavelengths, spectra, line):\n",
    "    peak_areas = area_intensity(line, wavelengths, spectra)\n",
    "    \n",
    "    norm_spectra = []\n",
    "    \n",
    "    for k in range(len(spectra)):\n",
    "        #norm_spectrum = spectra[0]\n",
    "        \n",
    "        #for i in range(0,len(spectra[k])):\n",
    "            #norm_spectrum[i] = spectra[k][i]/peak_areas[k]\n",
    "            \n",
    "        norm_spectra.append(spectra[k]/peak_areas[k])\n",
    "        #print(norm_spectra)\n",
    "    return norm_spectra\n",
    "    \n",
    "#Normalize to total area\n",
    "\n",
    "def total_area_norm(wavelengths, spectra):\n",
    "    norm_spectra = []\n",
    "    print(len(spectra))\n",
    "    for k in range(len(spectra)):\n",
    "        area = 0\n",
    "        \n",
    "        #norm_spectrum = spectra[0]\n",
    "        #print(len(wavelengths))\n",
    "        \n",
    "        for i in range(1, len(wavelengths)):\n",
    "            area += (wavelengths[i] - wavelengths[i-1]) * (spectra[k][i] + spectra[k][i-1])/2\n",
    "            \n",
    "        #print(area)\n",
    "        #for j in range(0, len(spectra[k])):\n",
    "            #norm_spectrum[j] = spectra[k][j]/area\n",
    "            \n",
    "        \n",
    "        norm_spectra.append(spectra[k]/area)\n",
    "    return norm_spectra\n",
    "\n",
    "#Normalize to peak maximum\n",
    "\n",
    "def maximum_norm(spectra):\n",
    "    norm_spectra = []\n",
    "    for k in range(len(spectra)):\n",
    "        maximum = max(spectra[k])\n",
    "        \n",
    "        #norm_spectrum = spectra[0]\n",
    "        #for i in range(0,len(spectra[k])):\n",
    "            #norm_spectrum[i] = spectra[k][i]/maximum\n",
    "            \n",
    "        norm_spectra.append(spectra[k]/maximum)\n",
    "    return norm_spectra\n",
    "\n"
   ]
  },
  {
   "cell_type": "code",
   "execution_count": 8,
   "metadata": {},
   "outputs": [
    {
     "data": {
      "application/vnd.jupyter.widget-view+json": {
       "model_id": "a70b44770a21455893d3dcce46b28971",
       "version_major": 2,
       "version_minor": 0
      },
      "text/plain": [
       "Canvas(toolbar=Toolbar(toolitems=[('Home', 'Reset original view', 'home', 'home'), ('Back', 'Back to previous …"
      ]
     },
     "metadata": {},
     "output_type": "display_data"
    },
    {
     "data": {
      "text/plain": [
       "[<matplotlib.lines.Line2D at 0x27561065208>]"
      ]
     },
     "execution_count": 8,
     "metadata": {},
     "output_type": "execute_result"
    }
   ],
   "source": [
    "list_of_norm_signals = scaler_norm(list_of_spectra)\n",
    "\n",
    "subplots()\n",
    "\n",
    "\n",
    "wavelengths = list_of_signals_pro[index].wavelengths\n",
    "spectrum = list_of_norm_signals[0]\n",
    "\n",
    "\n",
    "\n",
    "plot(np.ndarray.flatten(np.array(wavelengths)),np.ndarray.flatten(np.array(spectrum)),'-')"
   ]
  },
  {
   "cell_type": "code",
   "execution_count": 9,
   "metadata": {},
   "outputs": [
    {
     "name": "stdout",
     "output_type": "stream",
     "text": [
      "124\n"
     ]
    },
    {
     "data": {
      "application/vnd.jupyter.widget-view+json": {
       "model_id": "ea02ef209ca5441894502a730aa0d6da",
       "version_major": 2,
       "version_minor": 0
      },
      "text/plain": [
       "Canvas(toolbar=Toolbar(toolitems=[('Home', 'Reset original view', 'home', 'home'), ('Back', 'Back to previous …"
      ]
     },
     "metadata": {},
     "output_type": "display_data"
    },
    {
     "data": {
      "text/plain": [
       "[<matplotlib.lines.Line2D at 0x27560c0f9c8>]"
      ]
     },
     "execution_count": 9,
     "metadata": {},
     "output_type": "execute_result"
    }
   ],
   "source": [
    "#print(list_of_spectra)\n",
    "list_of_norm_signals = total_area_norm(wavelengths[0], list_of_spectra)\n",
    "\n",
    "subplots()\n",
    "\n",
    "\n",
    "wavelengths = list_of_signals_pro[index].wavelengths\n",
    "spectrum = list_of_norm_signals[0]\n",
    "\n",
    "\n",
    "\n",
    "plot(np.ndarray.flatten(np.array(wavelengths)),np.ndarray.flatten(np.array(spectrum)),'-')"
   ]
  },
  {
   "cell_type": "code",
   "execution_count": 10,
   "metadata": {},
   "outputs": [
    {
     "data": {
      "application/vnd.jupyter.widget-view+json": {
       "model_id": "4dc40cdd3a1048e9ab71ca3f68f8fd5a",
       "version_major": 2,
       "version_minor": 0
      },
      "text/plain": [
       "Canvas(toolbar=Toolbar(toolitems=[('Home', 'Reset original view', 'home', 'home'), ('Back', 'Back to previous …"
      ]
     },
     "metadata": {},
     "output_type": "display_data"
    },
    {
     "data": {
      "text/plain": [
       "[<matplotlib.lines.Line2D at 0x27560fea648>]"
      ]
     },
     "execution_count": 10,
     "metadata": {},
     "output_type": "execute_result"
    }
   ],
   "source": [
    "#print(list_of_spectra)\n",
    "list_of_norm_signals = maximum_norm( list_of_spectra)\n",
    "\n",
    "subplots()\n",
    "\n",
    "\n",
    "wavelengths = list_of_signals_pro[index].wavelengths\n",
    "spectrum = list_of_norm_signals[0]\n",
    "\n",
    "\n",
    "\n",
    "plot(np.ndarray.flatten(np.array(wavelengths)),np.ndarray.flatten(np.array(spectrum)),'-')"
   ]
  },
  {
   "cell_type": "code",
   "execution_count": 11,
   "metadata": {},
   "outputs": [
    {
     "data": {
      "application/vnd.jupyter.widget-view+json": {
       "model_id": "6c8d5e2968514289a158da0453d45015",
       "version_major": 2,
       "version_minor": 0
      },
      "text/plain": [
       "Canvas(toolbar=Toolbar(toolitems=[('Home', 'Reset original view', 'home', 'home'), ('Back', 'Back to previous …"
      ]
     },
     "metadata": {},
     "output_type": "display_data"
    },
    {
     "data": {
      "text/plain": [
       "[<matplotlib.lines.Line2D at 0x27569040b48>]"
      ]
     },
     "execution_count": 11,
     "metadata": {},
     "output_type": "execute_result"
    }
   ],
   "source": [
    "#print(list_of_spectra)\n",
    "line = 656\n",
    "\n",
    "list_of_norm_signals = internal_ref_norm(wavelengths[0], list_of_spectra, line)\n",
    "\n",
    "subplots()\n",
    "\n",
    "\n",
    "wavelengths = list_of_signals_pro[index].wavelengths\n",
    "spectrum = list_of_norm_signals[0]\n",
    "\n",
    "\n",
    "\n",
    "plot(np.ndarray.flatten(np.array(wavelengths)),np.ndarray.flatten(np.array(spectrum)),'-')\n",
    "\n",
    "spectrum = list_of_norm_signals[100]\n",
    "\n",
    "plot(np.ndarray.flatten(np.array(wavelengths)),np.ndarray.flatten(np.array(spectrum)),'-', color = \"red\")\n",
    "\n",
    "spectrum = list_of_norm_signals[50]\n",
    "\n",
    "plot(np.ndarray.flatten(np.array(wavelengths)),np.ndarray.flatten(np.array(spectrum)),'-', color = \"green\")"
   ]
  },
  {
   "cell_type": "markdown",
   "metadata": {},
   "source": [
    "### 0.1 Set Target Values"
   ]
  },
  {
   "cell_type": "code",
   "execution_count": 12,
   "metadata": {},
   "outputs": [],
   "source": [
    "targets = []\n",
    "for i in range(0, len(sample_ids)):\n",
    "    target = concentration_data3.loc[\" \" + str(sample_ids[i]),\"Li\"]\n",
    "    targets.append(target)\n",
    "targets = np.array(targets)[5:]\n",
    "list_of_signals_pro = list_of_signals_pro[5:]"
   ]
  },
  {
   "cell_type": "code",
   "execution_count": 13,
   "metadata": {},
   "outputs": [
    {
     "data": {
      "application/vnd.jupyter.widget-view+json": {
       "model_id": "5c7e6a70fc1c4b8bb2bdd13c7cda39ad",
       "version_major": 2,
       "version_minor": 0
      },
      "text/plain": [
       "Canvas(toolbar=Toolbar(toolitems=[('Home', 'Reset original view', 'home', 'home'), ('Back', 'Back to previous …"
      ]
     },
     "metadata": {},
     "output_type": "display_data"
    },
    {
     "data": {
      "text/plain": [
       "Text(0, 0.5, 'Li (ppm)')"
      ]
     },
     "execution_count": 13,
     "metadata": {},
     "output_type": "execute_result"
    }
   ],
   "source": [
    "subplots()\n",
    "plot(targets,'o', ms = 2,ls=':', lw = 0.5)\n",
    "xlabel('depth (m)')\n",
    "ylabel('Li (ppm)')"
   ]
  },
  {
   "cell_type": "markdown",
   "metadata": {},
   "source": [
    "## 1. Univariate Linear Regression"
   ]
  },
  {
   "cell_type": "code",
   "execution_count": 14,
   "metadata": {},
   "outputs": [
    {
     "data": {
      "application/vnd.jupyter.widget-view+json": {
       "model_id": "9ce329994b2c48b0ab8ffdef88055e6f",
       "version_major": 2,
       "version_minor": 0
      },
      "text/plain": [
       "Canvas(toolbar=Toolbar(toolitems=[('Home', 'Reset original view', 'home', 'home'), ('Back', 'Back to previous …"
      ]
     },
     "metadata": {},
     "output_type": "display_data"
    }
   ],
   "source": [
    "j = 90\n",
    "current_signal = list_of_signals_pro[j]\n",
    "\n",
    "wavelength = np.ndarray.flatten(np.array(current_signal.wavelengths))\n",
    "spectrum = np.ndarray.flatten(np.array(current_signal.spectrum))\n",
    "\n",
    "line = 610.2\n",
    "\n",
    "ratio_of_maximum = 0.5\n",
    "\n",
    "radius = 0.5\n",
    "\n",
    "subplots()\n",
    "\n",
    "intensity = get_peak_area(line, ratio_of_maximum, wavelength, spectrum, radius, True)"
   ]
  },
  {
   "cell_type": "code",
   "execution_count": 15,
   "metadata": {},
   "outputs": [],
   "source": [
    "lines = [610.2, 670.7]\n",
    "#line = 670.7\n",
    "\n",
    "ratio_of_maximum = 0.5\n",
    "\n",
    "radius = 0.5\n",
    "\n",
    "line_list = []\n",
    "\n",
    "        \n",
    "\n",
    "for i in range(len(lines)):\n",
    "\n",
    "    line = []\n",
    "    for j in range(0, len(list_of_signals_pro)):\n",
    "        current_signal = list_of_signals_pro[j]\n",
    "\n",
    "        wavelength = np.ndarray.flatten(np.array(current_signal.wavelengths))\n",
    "        spectrum = np.ndarray.flatten(np.array(current_signal.spectrum))\n",
    "\n",
    "        intensity = get_peak_area(lines[i], ratio_of_maximum, wavelength, spectrum, radius, False)\n",
    "        line.append(intensity)\n",
    "    line_list.append(line)\n",
    "    #print(line)\n",
    "    #print(line_list)\n",
    "\n",
    "line_1 = line_list[0]\n",
    "line_2 = line_list[1]\n",
    "#print(line_1)"
   ]
  },
  {
   "cell_type": "code",
   "execution_count": 16,
   "metadata": {},
   "outputs": [
    {
     "data": {
      "application/vnd.jupyter.widget-view+json": {
       "model_id": "7bed558dfc8241fb8c1e60dff49b4b01",
       "version_major": 2,
       "version_minor": 0
      },
      "text/plain": [
       "Canvas(toolbar=Toolbar(toolitems=[('Home', 'Reset original view', 'home', 'home'), ('Back', 'Back to previous …"
      ]
     },
     "metadata": {},
     "output_type": "display_data"
    }
   ],
   "source": [
    "subplots()\n",
    "subplot(211)\n",
    "plot(line_1, 'o', ms = 1,ls=':', lw = 0.5)\n",
    "xlabel('depth (m)')\n",
    "ylabel(\"Intensity (counts)\")\n",
    "\n",
    "ax=gca()\n",
    "ax2 = twinx()\n",
    "\n",
    "plot(targets, 'o', ms = 1,ls=':', lw = 0.5, color = 'red')\n",
    "xlabel('depth (m)')\n",
    "ylabel(\"Li (ppm)\")\n",
    "\n",
    "subplot(212)\n",
    "\n",
    "plot(targets, line_1, 'o', ms = 1)\n",
    "xlabel('Li (ppm)')\n",
    "ylabel(\"Intensity (counts)\")\n",
    "\n",
    "tight_layout()"
   ]
  },
  {
   "cell_type": "code",
   "execution_count": 17,
   "metadata": {},
   "outputs": [
    {
     "data": {
      "application/vnd.jupyter.widget-view+json": {
       "model_id": "efd1708fec4b4b1cbf28972ed5e2bf22",
       "version_major": 2,
       "version_minor": 0
      },
      "text/plain": [
       "Canvas(toolbar=Toolbar(toolitems=[('Home', 'Reset original view', 'home', 'home'), ('Back', 'Back to previous …"
      ]
     },
     "metadata": {},
     "output_type": "display_data"
    },
    {
     "data": {
      "text/plain": [
       "<matplotlib.legend.Legend at 0x27569a68f88>"
      ]
     },
     "execution_count": 17,
     "metadata": {},
     "output_type": "execute_result"
    }
   ],
   "source": [
    "import sklearn\n",
    "\n",
    "\n",
    "#import the linear model from sklearn library\n",
    "from sklearn import linear_model\n",
    "\n",
    "#define the model\n",
    "univariate_model = sklearn.linear_model.LinearRegression()\n",
    "\n",
    "#fit the model\n",
    "X = np.array(line_1)\n",
    "y = np.array(targets)\n",
    "x_train = X.reshape(-1,1)\n",
    "\n",
    "y_train = y\n",
    "univariate_model.fit(x_train,y_train)\n",
    "\n",
    "#predictions\n",
    "y_predictions = univariate_model.predict(x_train)\n",
    "\n",
    "#plot the results\n",
    "subplots()\n",
    "plot(x_train,y_train,'o',label='True Data')\n",
    "plot(x_train,y_predictions,'x',label='Predictions')\n",
    "xlabel(r\"$x_0$\")\n",
    "ylabel(r\"$y$\")\n",
    "title(\"Univariate Linear Regression\")\n",
    "legend()"
   ]
  },
  {
   "cell_type": "code",
   "execution_count": 18,
   "metadata": {
    "scrolled": false
   },
   "outputs": [
    {
     "name": "stdout",
     "output_type": "stream",
     "text": [
      "[array([180.        , 180.03333333, 180.06666667, ..., 960.93333333,\n",
      "       960.96666667, 961.        ])]\n"
     ]
    },
    {
     "data": {
      "application/vnd.jupyter.widget-view+json": {
       "model_id": "5058cbc0d6344787a3cc70691cf87149",
       "version_major": 2,
       "version_minor": 0
      },
      "text/plain": [
       "Canvas(toolbar=Toolbar(toolitems=[('Home', 'Reset original view', 'home', 'home'), ('Back', 'Back to previous …"
      ]
     },
     "metadata": {},
     "output_type": "display_data"
    },
    {
     "data": {
      "text/plain": [
       "<matplotlib.legend.Legend at 0x27569a71cc8>"
      ]
     },
     "execution_count": 18,
     "metadata": {},
     "output_type": "execute_result"
    }
   ],
   "source": [
    "from sklearn.model_selection import train_test_split\n",
    "\n",
    "test_size = 0.16\n",
    "random_state = 0\n",
    "#X_train, X_test, y_train, y_test = train_test_split(X.reshape(-1,1), y, test_size=test_size, random_state=random_state)\n",
    "\n",
    "spec=[]\n",
    "print(wavelengths)\n",
    "for j in range(0, len(list_of_signals_pro)):\n",
    "    current_signal = list_of_signals_pro[j]\n",
    "    spectrum = np.ndarray.flatten(np.array(current_signal.spectrum))\n",
    "    spec.append(np.array(spectrum))\n",
    "    \n",
    "y = np.array(targets)\n",
    "    \n",
    "test_size = 0.16\n",
    "random_state = 0\n",
    "\n",
    "X_train, X_test, y_train, y_test = train_test_split(np.array(spec), y, test_size=test_size,\n",
    "                                                    random_state=random_state,shuffle = True)\n",
    "\n",
    "univariate_model.fit(X_train,y_train)\n",
    "\n",
    "#predictions\n",
    "predicted_test = univariate_model.predict(X_test)\n",
    "predicted_train = univariate_model.predict(X_train)\n",
    "\n",
    "def prev_univ(x_train, y_train, x_test, line):\n",
    "    #print(x_train)\n",
    "    \n",
    "    #update x_train and x_test to get area of the peaks instead of intensity\n",
    "    \n",
    "    x_train = np.array(area_intensity(line, wavelengths[0], x_train)).reshape(-1,1)\n",
    "    x_test = np.array(area_intensity(line, wavelengths[0], x_test)).reshape(-1,1)\n",
    "    \n",
    "    #print(x_train)\n",
    "    \n",
    "    univariate_model = sklearn.linear_model.LinearRegression()\n",
    "\n",
    "    univariate_model.fit(x_train,y_train)\n",
    "    \n",
    "    return univariate_model.predict(x_train), univariate_model.predict(x_test)\n",
    "\n",
    "#predictions\n",
    "y_predictions_train, y_predictions_test = prev_univ(X_train, y_train, X_test, 610.2)\n",
    "\n",
    "#plot the results\n",
    "subplots()\n",
    "plot(y_train,y_predictions_train,'o',color = 'r', markersize=4,label = 'Train Dataset')\n",
    "plot(y_test,y_predictions_test,'x',color = 'grey', markersize=4, label = 'Test Dataset')\n",
    " \n",
    "xlabel('True value (ppm)')\n",
    "ylabel('Predicted value (ppm)')\n",
    "legend()"
   ]
  },
  {
   "cell_type": "markdown",
   "metadata": {},
   "source": [
    "### 1.1 Minimum error"
   ]
  },
  {
   "cell_type": "code",
   "execution_count": 19,
   "metadata": {},
   "outputs": [],
   "source": [
    "from core.errors import *\n",
    "\n",
    "#line = 610.2\n",
    "\n",
    "#function to find peaks in throughout all spectra, returns wavelengths\n",
    "\n",
    "def line_finder(wavelengths, X_train, percentage_of_maximum = 1, Plot = False):\n",
    "    \n",
    "    #average of all spectra\n",
    "    \n",
    "    specsum = np.zeros(len(X_train[0,:]))\n",
    "    \n",
    "    for i in range(len(X_train)):\n",
    "        \n",
    "        specsum += X_train[i,:]\n",
    "        \n",
    "    specsum /= len(X_train)\n",
    "    \n",
    "    #minimum intensity value for threshold based on percentage of max intensity\n",
    "    \n",
    "    threshold = max(specsum) * percentage_of_maximum / 100\n",
    "        \n",
    "    #peaks = signal.find_peaks(specsum, threshold = threshold)\n",
    "    \n",
    "    peaks = signal.find_peaks(specsum, prominence = threshold)\n",
    "    \n",
    "    if Plot:\n",
    "        subplots()\n",
    "        plot(wavelengths,specsum)\n",
    "        plot(wavelengths[peaks[0]],specsum[peaks[0]],'o')\n",
    "    \n",
    "    return wavelengths[peaks[0]]\n",
    "\n",
    "#function to calculate absolute error for univariate regression for given lines\n",
    "\n",
    "\n",
    "\n",
    "\n",
    "def error_uv(X_train, y_train, X_test, y_test, lines):\n",
    "    \n",
    "    #print(lines)\n",
    "    abs_error = []\n",
    "    \n",
    "    \n",
    "    #cycle to obtain predictions and errors for each line\n",
    "    \n",
    "    for i in lines:\n",
    "        #print(i, end = \"\\r\")\n",
    "        y_predictions_train, y_predictions_test = prev_univ(X_train, y_train, X_test, i)\n",
    "\n",
    "        MAE = mean_absolute_error(y_test,y_predictions_test)\n",
    "        #print(MAE)\n",
    "        abs_error.append(MAE)\n",
    "        \n",
    "    return lines, abs_error\n",
    "\n"
   ]
  },
  {
   "cell_type": "code",
   "execution_count": 20,
   "metadata": {
    "scrolled": false
   },
   "outputs": [
    {
     "data": {
      "application/vnd.jupyter.widget-view+json": {
       "model_id": "c1854b7d9b54489e9c6da05e28b3d92c",
       "version_major": 2,
       "version_minor": 0
      },
      "text/plain": [
       "Canvas(toolbar=Toolbar(toolitems=[('Home', 'Reset original view', 'home', 'home'), ('Back', 'Back to previous …"
      ]
     },
     "metadata": {},
     "output_type": "display_data"
    },
    {
     "data": {
      "text/plain": [
       "Text(0, 0.5, 'mean absolute error')"
      ]
     },
     "execution_count": 20,
     "metadata": {},
     "output_type": "execute_result"
    }
   ],
   "source": [
    "lines = line_finder(wavelengths[0], X_train)\n",
    "\n",
    "abs_error = error_uv(X_train, y_train, X_test, y_test, lines)\n",
    "#print(abs_error)\n",
    "#mean_absolute_error(y_test,y_predictions)\n",
    "subplots()\n",
    "plot(abs_error[0], abs_error[1],'x')\n",
    "xlabel(\"lines\")\n",
    "ylabel(\"mean absolute error\")"
   ]
  },
  {
   "cell_type": "markdown",
   "metadata": {},
   "source": [
    "## 2. Multivariate Linear Regression"
   ]
  },
  {
   "cell_type": "code",
   "execution_count": 21,
   "metadata": {},
   "outputs": [
    {
     "data": {
      "application/vnd.jupyter.widget-view+json": {
       "model_id": "72636a5eb9bc4c49a5ec922df60a98be",
       "version_major": 2,
       "version_minor": 0
      },
      "text/plain": [
       "Canvas(toolbar=Toolbar(toolitems=[('Home', 'Reset original view', 'home', 'home'), ('Back', 'Back to previous …"
      ]
     },
     "metadata": {},
     "output_type": "display_data"
    },
    {
     "data": {
      "application/vnd.jupyter.widget-view+json": {
       "model_id": "cc005c8f6d4545f0aa13d0bb8e67522d",
       "version_major": 2,
       "version_minor": 0
      },
      "text/plain": [
       "Canvas(toolbar=Toolbar(toolitems=[('Home', 'Reset original view', 'home', 'home'), ('Back', 'Back to previous …"
      ]
     },
     "metadata": {},
     "output_type": "display_data"
    },
    {
     "data": {
      "text/plain": [
       "Text(0.5, 1.0, 'Multivariate Linear Regression')"
      ]
     },
     "execution_count": 21,
     "metadata": {},
     "output_type": "execute_result"
    }
   ],
   "source": [
    "#define the model\n",
    "\n",
    "\n",
    "#fit the model\n",
    "#print(line_1)\n",
    "#print(line_2)\n",
    "#X = np.concatenate((np.array(line_1).reshape(-1,1),np.array(line_2).reshape(-1,1)), axis = 1)\n",
    "#y = np.array(targets)\n",
    "\n",
    "#X_train, X_test, y_train, y_test = train_test_split(X, y, test_size=test_size, random_state=random_state)\n",
    "\n",
    "#predictions\n",
    "\n",
    "def prev_multiv(x_train, y_train, x_test, threshold = 1):\n",
    "    #print(x_train)\n",
    "    #print(len(x_train))\n",
    "    #print(len(x_train[0]))\n",
    "    x_train_holder = []\n",
    "    x_test_holder = []\n",
    "    \n",
    "    lines = line_finder(wavelengths[0], x_train, percentage_of_maximum = threshold, Plot = True)\n",
    "    #n_lines = len(lines)\n",
    "    #x_train_holder = np.zeros(len(x_train),len(lines))\n",
    "    #x_test_holder = np.zeros(len(x_train),len(lines))\n",
    "    \n",
    "    for i in range(len(lines)):\n",
    "        #print(lines[i])\n",
    "        x_train_holder.append(area_intensity(lines[i], wavelengths[0], x_train))\n",
    "        x_test_holder.append(area_intensity(lines[i], wavelengths[0], x_test))\n",
    "    \n",
    "    x_train = np.transpose(np.array(x_train_holder))\n",
    "    \n",
    "    x_test = np.transpose(np.array(x_test_holder))\n",
    "    \n",
    "    \n",
    "    #print(x_train)\n",
    "    #print(len(x_train))\n",
    "    #print(len(x_train[0]))\n",
    "    #print(len(y_train))\n",
    "    multivariate_model = sklearn.linear_model.LinearRegression()\n",
    "\n",
    "    multivariate_model.fit(x_train,y_train)\n",
    "    \n",
    "    return multivariate_model.predict(x_train), multivariate_model.predict(x_test) #, n_lines\n",
    "\n",
    "#predictions\n",
    "y_predictions_train, y_predictions_test = prev_multiv(X_train, y_train, X_test, 11) #, n_lines = prev_multiv(X_train, y_train, X_test, 11)\n",
    "\n",
    "#plot the results\n",
    "subplots()\n",
    "plot(y_train,y_predictions_train,'o')\n",
    "plot(y_test,y_predictions_test,'x')\n",
    "lims = [np.min([y_train,y_predictions_train]),np.max([y_train,y_predictions_train])]\n",
    "plot(lims, lims)\n",
    "xlabel('True Values')\n",
    "ylabel('Predicted Values')\n",
    "title(\"Multivariate Linear Regression\")"
   ]
  },
  {
   "cell_type": "markdown",
   "metadata": {},
   "source": [
    "### 2.1 Minimum error"
   ]
  },
  {
   "cell_type": "code",
   "execution_count": 22,
   "metadata": {},
   "outputs": [],
   "source": [
    "def error_mv(X_train, y_train, X_test, y_test, threshold):\n",
    "    threshold_range = range(threshold, 21)\n",
    "    \n",
    "    #print(lines)\n",
    "    abs_error = []\n",
    "    #print(wavelengths[0,i])\n",
    "    #n_lines_list = []\n",
    "    for i in threshold_range:\n",
    "        #lines = line_finder(wavelengths[0], X_train, threshold)\n",
    "        print(str(threshold_range.index(i)+1) + \" of \" + str(len(threshold_range)), end = \"\\r\")\n",
    "        y_predictions_train, y_predictions_test = prev_multiv(X_train, y_train, X_test, i)#, n_lines = prev_multiv(X_train, y_train, X_test, i)\n",
    "        #n_lines_list.append(n_lines)\n",
    "        MAE = mean_absolute_error(y_test,y_predictions_test)\n",
    "        #print(MAE)\n",
    "        abs_error.append(MAE)\n",
    "    return threshold_range, abs_error #, n_lines_list\n"
   ]
  },
  {
   "cell_type": "code",
   "execution_count": 23,
   "metadata": {
    "scrolled": true
   },
   "outputs": [
    {
     "name": "stdout",
     "output_type": "stream",
     "text": [
      "1 of 20\r"
     ]
    },
    {
     "data": {
      "application/vnd.jupyter.widget-view+json": {
       "model_id": "3fb8e6959bce4c92a34f61be513cba4f",
       "version_major": 2,
       "version_minor": 0
      },
      "text/plain": [
       "Canvas(toolbar=Toolbar(toolitems=[('Home', 'Reset original view', 'home', 'home'), ('Back', 'Back to previous …"
      ]
     },
     "metadata": {},
     "output_type": "display_data"
    },
    {
     "name": "stdout",
     "output_type": "stream",
     "text": [
      "2 of 20\r"
     ]
    },
    {
     "data": {
      "application/vnd.jupyter.widget-view+json": {
       "model_id": "7b84d747193d413d96e5f15b00741495",
       "version_major": 2,
       "version_minor": 0
      },
      "text/plain": [
       "Canvas(toolbar=Toolbar(toolitems=[('Home', 'Reset original view', 'home', 'home'), ('Back', 'Back to previous …"
      ]
     },
     "metadata": {},
     "output_type": "display_data"
    },
    {
     "name": "stdout",
     "output_type": "stream",
     "text": [
      "3 of 20\r"
     ]
    },
    {
     "data": {
      "application/vnd.jupyter.widget-view+json": {
       "model_id": "ce19660db92844f087b250b1914e4805",
       "version_major": 2,
       "version_minor": 0
      },
      "text/plain": [
       "Canvas(toolbar=Toolbar(toolitems=[('Home', 'Reset original view', 'home', 'home'), ('Back', 'Back to previous …"
      ]
     },
     "metadata": {},
     "output_type": "display_data"
    },
    {
     "name": "stdout",
     "output_type": "stream",
     "text": [
      "4 of 20\r"
     ]
    },
    {
     "data": {
      "application/vnd.jupyter.widget-view+json": {
       "model_id": "89ec9cfc41dc4beb9562d1a36a94e51f",
       "version_major": 2,
       "version_minor": 0
      },
      "text/plain": [
       "Canvas(toolbar=Toolbar(toolitems=[('Home', 'Reset original view', 'home', 'home'), ('Back', 'Back to previous …"
      ]
     },
     "metadata": {},
     "output_type": "display_data"
    },
    {
     "name": "stdout",
     "output_type": "stream",
     "text": [
      "5 of 20\r"
     ]
    },
    {
     "data": {
      "application/vnd.jupyter.widget-view+json": {
       "model_id": "0d5517292a7a425aa39c25436d6010f1",
       "version_major": 2,
       "version_minor": 0
      },
      "text/plain": [
       "Canvas(toolbar=Toolbar(toolitems=[('Home', 'Reset original view', 'home', 'home'), ('Back', 'Back to previous …"
      ]
     },
     "metadata": {},
     "output_type": "display_data"
    },
    {
     "name": "stdout",
     "output_type": "stream",
     "text": [
      "6 of 20\r"
     ]
    },
    {
     "data": {
      "application/vnd.jupyter.widget-view+json": {
       "model_id": "81291f84a8e945e1bc3a44a3edba9c7a",
       "version_major": 2,
       "version_minor": 0
      },
      "text/plain": [
       "Canvas(toolbar=Toolbar(toolitems=[('Home', 'Reset original view', 'home', 'home'), ('Back', 'Back to previous …"
      ]
     },
     "metadata": {},
     "output_type": "display_data"
    },
    {
     "name": "stdout",
     "output_type": "stream",
     "text": [
      "7 of 20\r"
     ]
    },
    {
     "name": "stderr",
     "output_type": "stream",
     "text": [
      "C:\\Users\\Miguel\\Anaconda3\\lib\\site-packages\\ipykernel_launcher.py:28: RuntimeWarning: More than 20 figures have been opened. Figures created through the pyplot interface (`matplotlib.pyplot.figure`) are retained until explicitly closed and may consume too much memory. (To control this warning, see the rcParam `figure.max_open_warning`).\n"
     ]
    },
    {
     "data": {
      "application/vnd.jupyter.widget-view+json": {
       "model_id": "3509553ebb6b4fbbbc56eab09056e8d5",
       "version_major": 2,
       "version_minor": 0
      },
      "text/plain": [
       "Canvas(toolbar=Toolbar(toolitems=[('Home', 'Reset original view', 'home', 'home'), ('Back', 'Back to previous …"
      ]
     },
     "metadata": {},
     "output_type": "display_data"
    },
    {
     "name": "stdout",
     "output_type": "stream",
     "text": [
      "8 of 20\r"
     ]
    },
    {
     "name": "stderr",
     "output_type": "stream",
     "text": [
      "C:\\Users\\Miguel\\Anaconda3\\lib\\site-packages\\ipykernel_launcher.py:28: RuntimeWarning: More than 20 figures have been opened. Figures created through the pyplot interface (`matplotlib.pyplot.figure`) are retained until explicitly closed and may consume too much memory. (To control this warning, see the rcParam `figure.max_open_warning`).\n"
     ]
    },
    {
     "data": {
      "application/vnd.jupyter.widget-view+json": {
       "model_id": "ce19db6b55134f76a235d8edfc4ecb92",
       "version_major": 2,
       "version_minor": 0
      },
      "text/plain": [
       "Canvas(toolbar=Toolbar(toolitems=[('Home', 'Reset original view', 'home', 'home'), ('Back', 'Back to previous …"
      ]
     },
     "metadata": {},
     "output_type": "display_data"
    },
    {
     "name": "stdout",
     "output_type": "stream",
     "text": [
      "9 of 20\r"
     ]
    },
    {
     "name": "stderr",
     "output_type": "stream",
     "text": [
      "C:\\Users\\Miguel\\Anaconda3\\lib\\site-packages\\ipykernel_launcher.py:28: RuntimeWarning: More than 20 figures have been opened. Figures created through the pyplot interface (`matplotlib.pyplot.figure`) are retained until explicitly closed and may consume too much memory. (To control this warning, see the rcParam `figure.max_open_warning`).\n"
     ]
    },
    {
     "data": {
      "application/vnd.jupyter.widget-view+json": {
       "model_id": "bb28003655044ef4b5e6a571351eb1e1",
       "version_major": 2,
       "version_minor": 0
      },
      "text/plain": [
       "Canvas(toolbar=Toolbar(toolitems=[('Home', 'Reset original view', 'home', 'home'), ('Back', 'Back to previous …"
      ]
     },
     "metadata": {},
     "output_type": "display_data"
    },
    {
     "name": "stdout",
     "output_type": "stream",
     "text": [
      "10 of 20\r"
     ]
    },
    {
     "name": "stderr",
     "output_type": "stream",
     "text": [
      "C:\\Users\\Miguel\\Anaconda3\\lib\\site-packages\\ipykernel_launcher.py:28: RuntimeWarning: More than 20 figures have been opened. Figures created through the pyplot interface (`matplotlib.pyplot.figure`) are retained until explicitly closed and may consume too much memory. (To control this warning, see the rcParam `figure.max_open_warning`).\n"
     ]
    },
    {
     "data": {
      "application/vnd.jupyter.widget-view+json": {
       "model_id": "42d897dafa5144429fea0df45183e02d",
       "version_major": 2,
       "version_minor": 0
      },
      "text/plain": [
       "Canvas(toolbar=Toolbar(toolitems=[('Home', 'Reset original view', 'home', 'home'), ('Back', 'Back to previous …"
      ]
     },
     "metadata": {},
     "output_type": "display_data"
    },
    {
     "name": "stdout",
     "output_type": "stream",
     "text": [
      "11 of 20\r"
     ]
    },
    {
     "name": "stderr",
     "output_type": "stream",
     "text": [
      "C:\\Users\\Miguel\\Anaconda3\\lib\\site-packages\\ipykernel_launcher.py:28: RuntimeWarning: More than 20 figures have been opened. Figures created through the pyplot interface (`matplotlib.pyplot.figure`) are retained until explicitly closed and may consume too much memory. (To control this warning, see the rcParam `figure.max_open_warning`).\n"
     ]
    },
    {
     "data": {
      "application/vnd.jupyter.widget-view+json": {
       "model_id": "6c214b406eee41bca87b913b2a7e396c",
       "version_major": 2,
       "version_minor": 0
      },
      "text/plain": [
       "Canvas(toolbar=Toolbar(toolitems=[('Home', 'Reset original view', 'home', 'home'), ('Back', 'Back to previous …"
      ]
     },
     "metadata": {},
     "output_type": "display_data"
    },
    {
     "name": "stdout",
     "output_type": "stream",
     "text": [
      "12 of 20\r"
     ]
    },
    {
     "name": "stderr",
     "output_type": "stream",
     "text": [
      "C:\\Users\\Miguel\\Anaconda3\\lib\\site-packages\\ipykernel_launcher.py:28: RuntimeWarning: More than 20 figures have been opened. Figures created through the pyplot interface (`matplotlib.pyplot.figure`) are retained until explicitly closed and may consume too much memory. (To control this warning, see the rcParam `figure.max_open_warning`).\n"
     ]
    },
    {
     "data": {
      "application/vnd.jupyter.widget-view+json": {
       "model_id": "94f917bb93764227b030846b65e0bd03",
       "version_major": 2,
       "version_minor": 0
      },
      "text/plain": [
       "Canvas(toolbar=Toolbar(toolitems=[('Home', 'Reset original view', 'home', 'home'), ('Back', 'Back to previous …"
      ]
     },
     "metadata": {},
     "output_type": "display_data"
    },
    {
     "name": "stdout",
     "output_type": "stream",
     "text": [
      "13 of 20\r"
     ]
    },
    {
     "name": "stderr",
     "output_type": "stream",
     "text": [
      "C:\\Users\\Miguel\\Anaconda3\\lib\\site-packages\\ipykernel_launcher.py:28: RuntimeWarning: More than 20 figures have been opened. Figures created through the pyplot interface (`matplotlib.pyplot.figure`) are retained until explicitly closed and may consume too much memory. (To control this warning, see the rcParam `figure.max_open_warning`).\n"
     ]
    },
    {
     "data": {
      "application/vnd.jupyter.widget-view+json": {
       "model_id": "8124781cc9cd4bafb9f77d93fe6693f8",
       "version_major": 2,
       "version_minor": 0
      },
      "text/plain": [
       "Canvas(toolbar=Toolbar(toolitems=[('Home', 'Reset original view', 'home', 'home'), ('Back', 'Back to previous …"
      ]
     },
     "metadata": {},
     "output_type": "display_data"
    },
    {
     "name": "stdout",
     "output_type": "stream",
     "text": [
      "14 of 20\r"
     ]
    },
    {
     "name": "stderr",
     "output_type": "stream",
     "text": [
      "C:\\Users\\Miguel\\Anaconda3\\lib\\site-packages\\ipykernel_launcher.py:28: RuntimeWarning: More than 20 figures have been opened. Figures created through the pyplot interface (`matplotlib.pyplot.figure`) are retained until explicitly closed and may consume too much memory. (To control this warning, see the rcParam `figure.max_open_warning`).\n"
     ]
    },
    {
     "data": {
      "application/vnd.jupyter.widget-view+json": {
       "model_id": "fc8fb8f0aeb14c208291989e4d865d9f",
       "version_major": 2,
       "version_minor": 0
      },
      "text/plain": [
       "Canvas(toolbar=Toolbar(toolitems=[('Home', 'Reset original view', 'home', 'home'), ('Back', 'Back to previous …"
      ]
     },
     "metadata": {},
     "output_type": "display_data"
    },
    {
     "name": "stdout",
     "output_type": "stream",
     "text": [
      "15 of 20\r"
     ]
    },
    {
     "name": "stderr",
     "output_type": "stream",
     "text": [
      "C:\\Users\\Miguel\\Anaconda3\\lib\\site-packages\\ipykernel_launcher.py:28: RuntimeWarning: More than 20 figures have been opened. Figures created through the pyplot interface (`matplotlib.pyplot.figure`) are retained until explicitly closed and may consume too much memory. (To control this warning, see the rcParam `figure.max_open_warning`).\n"
     ]
    },
    {
     "data": {
      "application/vnd.jupyter.widget-view+json": {
       "model_id": "719de72ebf4a4a22bed1caac3e0cd34a",
       "version_major": 2,
       "version_minor": 0
      },
      "text/plain": [
       "Canvas(toolbar=Toolbar(toolitems=[('Home', 'Reset original view', 'home', 'home'), ('Back', 'Back to previous …"
      ]
     },
     "metadata": {},
     "output_type": "display_data"
    },
    {
     "name": "stdout",
     "output_type": "stream",
     "text": [
      "16 of 20\r"
     ]
    },
    {
     "name": "stderr",
     "output_type": "stream",
     "text": [
      "C:\\Users\\Miguel\\Anaconda3\\lib\\site-packages\\ipykernel_launcher.py:28: RuntimeWarning: More than 20 figures have been opened. Figures created through the pyplot interface (`matplotlib.pyplot.figure`) are retained until explicitly closed and may consume too much memory. (To control this warning, see the rcParam `figure.max_open_warning`).\n"
     ]
    },
    {
     "data": {
      "application/vnd.jupyter.widget-view+json": {
       "model_id": "954fb3c647ad40f8866f1af6c93c6487",
       "version_major": 2,
       "version_minor": 0
      },
      "text/plain": [
       "Canvas(toolbar=Toolbar(toolitems=[('Home', 'Reset original view', 'home', 'home'), ('Back', 'Back to previous …"
      ]
     },
     "metadata": {},
     "output_type": "display_data"
    },
    {
     "name": "stdout",
     "output_type": "stream",
     "text": [
      "17 of 20\r"
     ]
    },
    {
     "name": "stderr",
     "output_type": "stream",
     "text": [
      "C:\\Users\\Miguel\\Anaconda3\\lib\\site-packages\\ipykernel_launcher.py:28: RuntimeWarning: More than 20 figures have been opened. Figures created through the pyplot interface (`matplotlib.pyplot.figure`) are retained until explicitly closed and may consume too much memory. (To control this warning, see the rcParam `figure.max_open_warning`).\n"
     ]
    },
    {
     "data": {
      "application/vnd.jupyter.widget-view+json": {
       "model_id": "d7f04fc9c53540fda870517abb3c1534",
       "version_major": 2,
       "version_minor": 0
      },
      "text/plain": [
       "Canvas(toolbar=Toolbar(toolitems=[('Home', 'Reset original view', 'home', 'home'), ('Back', 'Back to previous …"
      ]
     },
     "metadata": {},
     "output_type": "display_data"
    },
    {
     "name": "stdout",
     "output_type": "stream",
     "text": [
      "18 of 20\r"
     ]
    },
    {
     "name": "stderr",
     "output_type": "stream",
     "text": [
      "C:\\Users\\Miguel\\Anaconda3\\lib\\site-packages\\ipykernel_launcher.py:28: RuntimeWarning: More than 20 figures have been opened. Figures created through the pyplot interface (`matplotlib.pyplot.figure`) are retained until explicitly closed and may consume too much memory. (To control this warning, see the rcParam `figure.max_open_warning`).\n"
     ]
    },
    {
     "data": {
      "application/vnd.jupyter.widget-view+json": {
       "model_id": "1c4d0693288f4ce080e56d192557ead0",
       "version_major": 2,
       "version_minor": 0
      },
      "text/plain": [
       "Canvas(toolbar=Toolbar(toolitems=[('Home', 'Reset original view', 'home', 'home'), ('Back', 'Back to previous …"
      ]
     },
     "metadata": {},
     "output_type": "display_data"
    },
    {
     "name": "stdout",
     "output_type": "stream",
     "text": [
      "19 of 20\r"
     ]
    },
    {
     "name": "stderr",
     "output_type": "stream",
     "text": [
      "C:\\Users\\Miguel\\Anaconda3\\lib\\site-packages\\ipykernel_launcher.py:28: RuntimeWarning: More than 20 figures have been opened. Figures created through the pyplot interface (`matplotlib.pyplot.figure`) are retained until explicitly closed and may consume too much memory. (To control this warning, see the rcParam `figure.max_open_warning`).\n"
     ]
    },
    {
     "data": {
      "application/vnd.jupyter.widget-view+json": {
       "model_id": "967eae50944b4530b812f1663c53ec29",
       "version_major": 2,
       "version_minor": 0
      },
      "text/plain": [
       "Canvas(toolbar=Toolbar(toolitems=[('Home', 'Reset original view', 'home', 'home'), ('Back', 'Back to previous …"
      ]
     },
     "metadata": {},
     "output_type": "display_data"
    },
    {
     "name": "stdout",
     "output_type": "stream",
     "text": [
      "20 of 20\r"
     ]
    },
    {
     "name": "stderr",
     "output_type": "stream",
     "text": [
      "C:\\Users\\Miguel\\Anaconda3\\lib\\site-packages\\ipykernel_launcher.py:28: RuntimeWarning: More than 20 figures have been opened. Figures created through the pyplot interface (`matplotlib.pyplot.figure`) are retained until explicitly closed and may consume too much memory. (To control this warning, see the rcParam `figure.max_open_warning`).\n"
     ]
    },
    {
     "data": {
      "application/vnd.jupyter.widget-view+json": {
       "model_id": "3b757b999ca94f56935e1f2fbfab3dff",
       "version_major": 2,
       "version_minor": 0
      },
      "text/plain": [
       "Canvas(toolbar=Toolbar(toolitems=[('Home', 'Reset original view', 'home', 'home'), ('Back', 'Back to previous …"
      ]
     },
     "metadata": {},
     "output_type": "display_data"
    },
    {
     "name": "stderr",
     "output_type": "stream",
     "text": [
      "C:\\Users\\Miguel\\Anaconda3\\lib\\site-packages\\ipykernel_launcher.py:4: RuntimeWarning: More than 20 figures have been opened. Figures created through the pyplot interface (`matplotlib.pyplot.figure`) are retained until explicitly closed and may consume too much memory. (To control this warning, see the rcParam `figure.max_open_warning`).\n",
      "  after removing the cwd from sys.path.\n"
     ]
    },
    {
     "data": {
      "application/vnd.jupyter.widget-view+json": {
       "model_id": "628ea0eeef7c4752a075076bf574453c",
       "version_major": 2,
       "version_minor": 0
      },
      "text/plain": [
       "Canvas(toolbar=Toolbar(toolitems=[('Home', 'Reset original view', 'home', 'home'), ('Back', 'Back to previous …"
      ]
     },
     "metadata": {},
     "output_type": "display_data"
    },
    {
     "data": {
      "text/plain": [
       "Text(0, 0.5, 'mean absolute error')"
      ]
     },
     "execution_count": 23,
     "metadata": {},
     "output_type": "execute_result"
    }
   ],
   "source": [
    "abs_error = error_mv(X_train, y_train, X_test, y_test,1)\n",
    "#print(abs_error)\n",
    "#mean_absolute_error(y_test,y_predictions)\n",
    "subplots()\n",
    "plot(abs_error[0], abs_error[1],'x')\n",
    "xlabel(\"threshold\")\n",
    "ylabel(\"mean absolute error\")\n",
    "\n",
    "#subplots()\n",
    "#plot(abs_error[2], abs_error[1],'x')\n",
    "#xlabel(\"number of lines\")\n",
    "#ylabel(\"mean absolute error\")"
   ]
  },
  {
   "cell_type": "code",
   "execution_count": 24,
   "metadata": {},
   "outputs": [
    {
     "data": {
      "text/plain": [
       "11"
      ]
     },
     "execution_count": 24,
     "metadata": {},
     "output_type": "execute_result"
    }
   ],
   "source": [
    "min(abs_error[1])\n",
    "abs_error[0][abs_error[1].index(min(abs_error[1]))]"
   ]
  },
  {
   "cell_type": "markdown",
   "metadata": {},
   "source": [
    "## 3.Ridge Regression"
   ]
  },
  {
   "cell_type": "code",
   "execution_count": 25,
   "metadata": {},
   "outputs": [
    {
     "name": "stderr",
     "output_type": "stream",
     "text": [
      "C:\\Users\\Miguel\\Anaconda3\\lib\\site-packages\\ipykernel_launcher.py:30: RuntimeWarning: More than 20 figures have been opened. Figures created through the pyplot interface (`matplotlib.pyplot.figure`) are retained until explicitly closed and may consume too much memory. (To control this warning, see the rcParam `figure.max_open_warning`).\n"
     ]
    },
    {
     "data": {
      "application/vnd.jupyter.widget-view+json": {
       "model_id": "846dcbd4a38e46a4a481f99c40b6a55e",
       "version_major": 2,
       "version_minor": 0
      },
      "text/plain": [
       "Canvas(toolbar=Toolbar(toolitems=[('Home', 'Reset original view', 'home', 'home'), ('Back', 'Back to previous …"
      ]
     },
     "metadata": {},
     "output_type": "display_data"
    },
    {
     "data": {
      "text/plain": [
       "Text(0.5, 1.0, 'Ridge Regression')"
      ]
     },
     "execution_count": 25,
     "metadata": {},
     "output_type": "execute_result"
    }
   ],
   "source": [
    "spec=[]\n",
    "\n",
    "for j in range(0, len(list_of_signals_pro)):\n",
    "    current_signal = list_of_signals_pro[j]\n",
    "    spectrum = np.ndarray.flatten(np.array(current_signal.spectrum))\n",
    "    spec.append(np.array(spectrum))\n",
    "    \n",
    "y = np.array(targets)\n",
    "    \n",
    "test_size = 0.16\n",
    "random_state = 0\n",
    "\n",
    "\n",
    "X_train, X_test, y_train, y_test = train_test_split(np.array(spec), y, test_size=test_size,\n",
    "                                                    random_state=random_state,shuffle = True)\n",
    "#define the model\n",
    "\n",
    "def prev_ridge(x_train, y_train, x_test, a):\n",
    "\n",
    "    ridge_model = sklearn.linear_model.Ridge(alpha = a) #100000)\n",
    "\n",
    "    ridge_model.fit(x_train,y_train) #X_train,y_train)\n",
    "    \n",
    "    return ridge_model.predict(x_train), ridge_model.predict(x_test)\n",
    "\n",
    "#predictions\n",
    "y_predictions_train, y_predictions_test = prev_ridge(X_train, y_train, X_test, 100000)\n",
    "\n",
    "#plot the results\n",
    "subplots()\n",
    "plot(y_train,y_predictions_train,'o')\n",
    "plot(y_test,y_predictions_test,'x')\n",
    "xlabel('True Values')\n",
    "ylabel('Predicted Values')\n",
    "title(\"Ridge Regression\")"
   ]
  },
  {
   "cell_type": "markdown",
   "metadata": {},
   "source": [
    "### 3.1 Minimum error"
   ]
  },
  {
   "cell_type": "code",
   "execution_count": 26,
   "metadata": {
    "scrolled": false
   },
   "outputs": [
    {
     "name": "stderr",
     "output_type": "stream",
     "text": [
      "C:\\Users\\Miguel\\Anaconda3\\lib\\site-packages\\sklearn\\linear_model\\ridge.py:187: LinAlgWarning: Ill-conditioned matrix (rcond=7.40079e-20): result may not be accurate.\n",
      "  overwrite_a=False)\n",
      "C:\\Users\\Miguel\\Anaconda3\\lib\\site-packages\\ipykernel_launcher.py:21: RuntimeWarning: More than 20 figures have been opened. Figures created through the pyplot interface (`matplotlib.pyplot.figure`) are retained until explicitly closed and may consume too much memory. (To control this warning, see the rcParam `figure.max_open_warning`).\n"
     ]
    },
    {
     "data": {
      "application/vnd.jupyter.widget-view+json": {
       "model_id": "f6689deb6c0f48768728993f569c8fa2",
       "version_major": 2,
       "version_minor": 0
      },
      "text/plain": [
       "Canvas(toolbar=Toolbar(toolitems=[('Home', 'Reset original view', 'home', 'home'), ('Back', 'Back to previous …"
      ]
     },
     "metadata": {},
     "output_type": "display_data"
    },
    {
     "data": {
      "text/plain": [
       "Text(0, 0.5, 'mean absolute error')"
      ]
     },
     "execution_count": 26,
     "metadata": {},
     "output_type": "execute_result"
    }
   ],
   "source": [
    "from core.errors import *\n",
    "\n",
    "alpha = 10000000\n",
    "\n",
    "def error_rr(X_train, y_train, X_test, y_test, alpha):\n",
    "    #print(alpha//1000)\n",
    "    alpha_range = range(0,alpha, alpha//1000)\n",
    "    abs_error = []\n",
    "    for i in alpha_range:\n",
    "        #print(i, end = \"\\r\")\n",
    "        y_predictions_train, y_predictions_test = prev_ridge(X_train, y_train, X_test, i)\n",
    "\n",
    "        MAE = mean_absolute_error(y_test,y_predictions_test)\n",
    "        #print(MAE)\n",
    "        abs_error.append(MAE)\n",
    "    return alpha_range, abs_error\n",
    "\n",
    "abs_error = error_rr(X_train, y_train, X_test, y_test, alpha)\n",
    "#print(abs_error)\n",
    "#mean_absolute_error(y_test,y_predictions)\n",
    "subplots()\n",
    "plot(abs_error[0], abs_error[1],'x')\n",
    "xlabel(\"alpha\")\n",
    "ylabel(\"mean absolute error\")"
   ]
  },
  {
   "cell_type": "markdown",
   "metadata": {},
   "source": [
    "## 4. Principal Components Regression"
   ]
  },
  {
   "cell_type": "code",
   "execution_count": 27,
   "metadata": {},
   "outputs": [
    {
     "name": "stderr",
     "output_type": "stream",
     "text": [
      "C:\\Users\\Miguel\\Anaconda3\\lib\\site-packages\\ipykernel_launcher.py:27: RuntimeWarning: More than 20 figures have been opened. Figures created through the pyplot interface (`matplotlib.pyplot.figure`) are retained until explicitly closed and may consume too much memory. (To control this warning, see the rcParam `figure.max_open_warning`).\n"
     ]
    },
    {
     "data": {
      "application/vnd.jupyter.widget-view+json": {
       "model_id": "108a38b932af445ab9097f2205cc54b3",
       "version_major": 2,
       "version_minor": 0
      },
      "text/plain": [
       "Canvas(toolbar=Toolbar(toolitems=[('Home', 'Reset original view', 'home', 'home'), ('Back', 'Back to previous …"
      ]
     },
     "metadata": {},
     "output_type": "display_data"
    },
    {
     "data": {
      "text/plain": [
       "Text(0.5, 1.0, 'Principal component analysis')"
      ]
     },
     "execution_count": 27,
     "metadata": {},
     "output_type": "execute_result"
    }
   ],
   "source": [
    "from sklearn import decomposition\n",
    "from sklearn import preprocessing\n",
    "from sklearn import pipeline\n",
    "\n",
    "# Principle components regression\n",
    "def prev_pca(x_train, y_train, x_test, n):\n",
    "\n",
    "    \n",
    "    steps = [\n",
    "        ('scale', sklearn.preprocessing.StandardScaler()),\n",
    "        ('pca', sklearn.decomposition.PCA()),\n",
    "        ('estimator', sklearn.linear_model.LinearRegression())\n",
    "    ]\n",
    "\n",
    "    pipe = sklearn.pipeline.Pipeline(steps)\n",
    "    \n",
    "    pca_model = pipe.set_params(pca__n_components = n) #100000)\n",
    "\n",
    "    pca_model.fit(x_train,y_train) #X_train,y_train)\n",
    "    \n",
    "    return pca_model.predict(x_train), pca_model.predict(x_test)\n",
    "\n",
    "y_predictions_train, y_predictions_test = prev_pca(X_train, y_train, X_test, 2)\n",
    "\n",
    "\n",
    "#plot the results\n",
    "subplots()\n",
    "plot(y_train,y_predictions_train,'o')\n",
    "plot(y_test,y_predictions_test,'x')\n",
    "xlabel('True Values')\n",
    "ylabel('Predicted Values')\n",
    "title(\"Principal component analysis\")\n"
   ]
  },
  {
   "cell_type": "markdown",
   "metadata": {},
   "source": [
    "### 4.1 Minimum error"
   ]
  },
  {
   "cell_type": "code",
   "execution_count": 28,
   "metadata": {},
   "outputs": [
    {
     "name": "stderr",
     "output_type": "stream",
     "text": [
      "C:\\Users\\Miguel\\Anaconda3\\lib\\site-packages\\ipykernel_launcher.py:22: RuntimeWarning: More than 20 figures have been opened. Figures created through the pyplot interface (`matplotlib.pyplot.figure`) are retained until explicitly closed and may consume too much memory. (To control this warning, see the rcParam `figure.max_open_warning`).\n"
     ]
    },
    {
     "data": {
      "application/vnd.jupyter.widget-view+json": {
       "model_id": "036a5f97a62449b58f125fa0afef146c",
       "version_major": 2,
       "version_minor": 0
      },
      "text/plain": [
       "Canvas(toolbar=Toolbar(toolitems=[('Home', 'Reset original view', 'home', 'home'), ('Back', 'Back to previous …"
      ]
     },
     "metadata": {},
     "output_type": "display_data"
    },
    {
     "data": {
      "text/plain": [
       "Text(0, 0.5, 'mean absolute error')"
      ]
     },
     "execution_count": 28,
     "metadata": {},
     "output_type": "execute_result"
    }
   ],
   "source": [
    "abs_error = []\n",
    "\n",
    "pca_n_components = 100\n",
    "\n",
    "\n",
    "def error_pca(X_train, y_train, X_test, y_test, pca_n_components):\n",
    "    #print(alpha//1000)\n",
    "    pca_n_components_range = range(2,pca_n_components)\n",
    "    abs_error = []\n",
    "\n",
    "    for n in pca_n_components_range:\n",
    "\n",
    "        y_predictions_train, y_predictions_test = prev_pca(X_train, y_train, X_test, n)\n",
    "\n",
    "        MAE = mean_absolute_error(y_test,y_predictions_test)\n",
    "        #print(MAE)\n",
    "        abs_error.append(MAE)\n",
    "    return pca_n_components_range, abs_error\n",
    "\n",
    "abs_error = error_pca(X_train, y_train, X_test, y_test, pca_n_components)\n",
    "    \n",
    "subplots()\n",
    "plot(abs_error[0],abs_error[1],'x')\n",
    "xlabel(\"pca n components\")\n",
    "ylabel(\"mean absolute error\")"
   ]
  },
  {
   "cell_type": "markdown",
   "metadata": {},
   "source": [
    "## 5. Partial Least Squares "
   ]
  },
  {
   "cell_type": "code",
   "execution_count": 29,
   "metadata": {},
   "outputs": [
    {
     "name": "stderr",
     "output_type": "stream",
     "text": [
      "C:\\Users\\Miguel\\Anaconda3\\lib\\site-packages\\ipykernel_launcher.py:19: RuntimeWarning: More than 20 figures have been opened. Figures created through the pyplot interface (`matplotlib.pyplot.figure`) are retained until explicitly closed and may consume too much memory. (To control this warning, see the rcParam `figure.max_open_warning`).\n"
     ]
    },
    {
     "data": {
      "application/vnd.jupyter.widget-view+json": {
       "model_id": "4cdf677ca9274bd2bd7877224e547b0c",
       "version_major": 2,
       "version_minor": 0
      },
      "text/plain": [
       "Canvas(toolbar=Toolbar(toolitems=[('Home', 'Reset original view', 'home', 'home'), ('Back', 'Back to previous …"
      ]
     },
     "metadata": {},
     "output_type": "display_data"
    },
    {
     "data": {
      "text/plain": [
       "Text(0.5, 1.0, 'Partial Least Squares')"
      ]
     },
     "execution_count": 29,
     "metadata": {},
     "output_type": "execute_result"
    }
   ],
   "source": [
    "from sklearn import cross_decomposition\n",
    "\n",
    "#pls_model = sklearn.cross_decomposition.PLSRegression(n_components=2)\n",
    "\n",
    "def prev_pls(x_train, y_train, x_test, n):\n",
    "\n",
    "    pls_model = sklearn.cross_decomposition.PLSRegression(n_components = n)\n",
    "    \n",
    "    pls_model.fit(x_train,y_train)\n",
    "\n",
    "    \n",
    "    return pls_model.predict(x_train), pls_model.predict(x_test)\n",
    "\n",
    "\n",
    "\n",
    "y_predictions_train, y_predictions_test = prev_pls(X_train, y_train, X_test, 10)\n",
    "\n",
    "#plot the results\n",
    "subplots()\n",
    "plot(y_train,y_predictions_train,'o')\n",
    "plot(y_test,y_predictions_test,'o')\n",
    "xlabel('True Values')\n",
    "ylabel('Predicted Values')\n",
    "title(\"Partial Least Squares\")\n",
    "\n"
   ]
  },
  {
   "cell_type": "markdown",
   "metadata": {},
   "source": [
    "### 5.1 Minimum error"
   ]
  },
  {
   "cell_type": "code",
   "execution_count": 30,
   "metadata": {},
   "outputs": [
    {
     "name": "stderr",
     "output_type": "stream",
     "text": [
      "C:\\Users\\Miguel\\Anaconda3\\lib\\site-packages\\ipykernel_launcher.py:22: RuntimeWarning: More than 20 figures have been opened. Figures created through the pyplot interface (`matplotlib.pyplot.figure`) are retained until explicitly closed and may consume too much memory. (To control this warning, see the rcParam `figure.max_open_warning`).\n"
     ]
    },
    {
     "data": {
      "application/vnd.jupyter.widget-view+json": {
       "model_id": "3f37430852a34b2bb49b58a3e338b74d",
       "version_major": 2,
       "version_minor": 0
      },
      "text/plain": [
       "Canvas(toolbar=Toolbar(toolitems=[('Home', 'Reset original view', 'home', 'home'), ('Back', 'Back to previous …"
      ]
     },
     "metadata": {},
     "output_type": "display_data"
    },
    {
     "data": {
      "text/plain": [
       "Text(0, 0.5, 'mean absolute error')"
      ]
     },
     "execution_count": 30,
     "metadata": {},
     "output_type": "execute_result"
    }
   ],
   "source": [
    "abs_error = []\n",
    "\n",
    "n_components = 10\n",
    "\n",
    "def error_pls(X_train, y_train, X_test, y_test, n_components):\n",
    "    \n",
    "    n_components_range = range(2, n_components)\n",
    "    abs_error = []\n",
    "\n",
    "    for n in n_components_range:\n",
    "\n",
    "        y_predictions_train, y_predictions_test = prev_pls(X_train, y_train, X_test, n)\n",
    "\n",
    "        MAE = mean_absolute_error(y_test,y_predictions_test)\n",
    "        #print(MAE)\n",
    "        abs_error.append(MAE)\n",
    "        \n",
    "    return n_components_range, abs_error\n",
    "\n",
    "abs_error = error_pls(X_train, y_train, X_test, y_test, n_components)\n",
    "    \n",
    "subplots()\n",
    "plot(abs_error[0],abs_error[1],'x')\n",
    "\n",
    "xlabel(\"pls n components\")\n",
    "ylabel(\"mean absolute error\")"
   ]
  },
  {
   "cell_type": "markdown",
   "metadata": {},
   "source": [
    "## 6. Multilayer perceptron"
   ]
  },
  {
   "cell_type": "code",
   "execution_count": 31,
   "metadata": {},
   "outputs": [
    {
     "name": "stderr",
     "output_type": "stream",
     "text": [
      "C:\\Users\\Miguel\\Anaconda3\\lib\\site-packages\\sklearn\\neural_network\\multilayer_perceptron.py:566: ConvergenceWarning: Stochastic Optimizer: Maximum iterations (200) reached and the optimization hasn't converged yet.\n",
      "  % self.max_iter, ConvergenceWarning)\n",
      "C:\\Users\\Miguel\\Anaconda3\\lib\\site-packages\\ipykernel_launcher.py:21: RuntimeWarning: More than 20 figures have been opened. Figures created through the pyplot interface (`matplotlib.pyplot.figure`) are retained until explicitly closed and may consume too much memory. (To control this warning, see the rcParam `figure.max_open_warning`).\n"
     ]
    },
    {
     "data": {
      "application/vnd.jupyter.widget-view+json": {
       "model_id": "a8e248c631d64997846085ac0bbad33e",
       "version_major": 2,
       "version_minor": 0
      },
      "text/plain": [
       "Canvas(toolbar=Toolbar(toolitems=[('Home', 'Reset original view', 'home', 'home'), ('Back', 'Back to previous …"
      ]
     },
     "metadata": {},
     "output_type": "display_data"
    },
    {
     "data": {
      "text/plain": [
       "Text(0.5, 1.0, 'Partial Least Squares')"
      ]
     },
     "execution_count": 31,
     "metadata": {},
     "output_type": "execute_result"
    }
   ],
   "source": [
    "from sklearn import neural_network\n",
    "\n",
    "#define the model\n",
    "#mlp_model = sklearn.neural_network.MLPRegressor(hidden_layer_sizes=40)\n",
    "\n",
    "#fit the model\n",
    "def prev_mlp(x_train, y_train, x_test, n):\n",
    "\n",
    "    mlp_model = sklearn.neural_network.MLPRegressor(hidden_layer_sizes = n)\n",
    "    \n",
    "    mlp_model.fit(x_train,y_train)\n",
    "\n",
    "    \n",
    "    return mlp_model.predict(x_train), mlp_model.predict(x_test)\n",
    "\n",
    "\n",
    "#predictions\n",
    "y_predictions_train, y_predictions_test = prev_mlp(X_train, y_train, X_test, 40)\n",
    "\n",
    "#plot the results\n",
    "subplots()\n",
    "plot(y_train,y_predictions_train,'o')\n",
    "plot(y_test,y_predictions_test,'o')\n",
    "xlabel('True Values')\n",
    "ylabel('Predicted Values')\n",
    "title(\"Partial Least Squares\")"
   ]
  },
  {
   "cell_type": "markdown",
   "metadata": {},
   "source": [
    "### 6.1 Minimum error"
   ]
  },
  {
   "cell_type": "code",
   "execution_count": 32,
   "metadata": {
    "scrolled": true
   },
   "outputs": [],
   "source": [
    "abs_error = []\n",
    "\n",
    "layer_sizes = 100\n",
    "\n",
    "def error_mlp(X_train, y_train, X_test, y_test, layer_sizes):\n",
    "    \n",
    "    layer_sizes_range = range(1, layer_sizes)\n",
    "    abs_error = []\n",
    "\n",
    "    for n in layer_sizes_range:\n",
    "\n",
    "        y_predictions_train, y_predictions_test = prev_mlp(X_train, y_train, X_test, n)\n",
    "\n",
    "        MAE = mean_absolute_error(y_test,y_predictions_test)\n",
    "        #print(MAE)\n",
    "        abs_error.append(MAE)\n",
    "        \n",
    "    return layer_sizes_range, abs_error\n",
    "\n"
   ]
  },
  {
   "cell_type": "code",
   "execution_count": 33,
   "metadata": {},
   "outputs": [
    {
     "name": "stderr",
     "output_type": "stream",
     "text": [
      "C:\\Users\\Miguel\\Anaconda3\\lib\\site-packages\\sklearn\\cross_decomposition\\pls_.py:292: UserWarning: Y residual constant at iteration 22\n",
      "  warnings.warn('Y residual constant at iteration %s' % k)\n",
      "C:\\Users\\Miguel\\Anaconda3\\lib\\site-packages\\sklearn\\cross_decomposition\\pls_.py:292: UserWarning: Y residual constant at iteration 22\n",
      "  warnings.warn('Y residual constant at iteration %s' % k)\n",
      "C:\\Users\\Miguel\\Anaconda3\\lib\\site-packages\\sklearn\\cross_decomposition\\pls_.py:292: UserWarning: Y residual constant at iteration 22\n",
      "  warnings.warn('Y residual constant at iteration %s' % k)\n",
      "C:\\Users\\Miguel\\Anaconda3\\lib\\site-packages\\sklearn\\cross_decomposition\\pls_.py:292: UserWarning: Y residual constant at iteration 22\n",
      "  warnings.warn('Y residual constant at iteration %s' % k)\n",
      "C:\\Users\\Miguel\\Anaconda3\\lib\\site-packages\\sklearn\\cross_decomposition\\pls_.py:292: UserWarning: Y residual constant at iteration 22\n",
      "  warnings.warn('Y residual constant at iteration %s' % k)\n",
      "C:\\Users\\Miguel\\Anaconda3\\lib\\site-packages\\sklearn\\cross_decomposition\\pls_.py:292: UserWarning: Y residual constant at iteration 22\n",
      "  warnings.warn('Y residual constant at iteration %s' % k)\n",
      "C:\\Users\\Miguel\\Anaconda3\\lib\\site-packages\\sklearn\\cross_decomposition\\pls_.py:292: UserWarning: Y residual constant at iteration 22\n",
      "  warnings.warn('Y residual constant at iteration %s' % k)\n",
      "C:\\Users\\Miguel\\Anaconda3\\lib\\site-packages\\sklearn\\cross_decomposition\\pls_.py:292: UserWarning: Y residual constant at iteration 22\n",
      "  warnings.warn('Y residual constant at iteration %s' % k)\n",
      "C:\\Users\\Miguel\\Anaconda3\\lib\\site-packages\\sklearn\\cross_decomposition\\pls_.py:292: UserWarning: Y residual constant at iteration 22\n",
      "  warnings.warn('Y residual constant at iteration %s' % k)\n",
      "C:\\Users\\Miguel\\Anaconda3\\lib\\site-packages\\sklearn\\cross_decomposition\\pls_.py:292: UserWarning: Y residual constant at iteration 22\n",
      "  warnings.warn('Y residual constant at iteration %s' % k)\n",
      "C:\\Users\\Miguel\\Anaconda3\\lib\\site-packages\\sklearn\\cross_decomposition\\pls_.py:292: UserWarning: Y residual constant at iteration 22\n",
      "  warnings.warn('Y residual constant at iteration %s' % k)\n",
      "C:\\Users\\Miguel\\Anaconda3\\lib\\site-packages\\sklearn\\cross_decomposition\\pls_.py:292: UserWarning: Y residual constant at iteration 22\n",
      "  warnings.warn('Y residual constant at iteration %s' % k)\n",
      "C:\\Users\\Miguel\\Anaconda3\\lib\\site-packages\\sklearn\\cross_decomposition\\pls_.py:292: UserWarning: Y residual constant at iteration 22\n",
      "  warnings.warn('Y residual constant at iteration %s' % k)\n",
      "C:\\Users\\Miguel\\Anaconda3\\lib\\site-packages\\sklearn\\cross_decomposition\\pls_.py:292: UserWarning: Y residual constant at iteration 22\n",
      "  warnings.warn('Y residual constant at iteration %s' % k)\n",
      "C:\\Users\\Miguel\\Anaconda3\\lib\\site-packages\\sklearn\\cross_decomposition\\pls_.py:292: UserWarning: Y residual constant at iteration 22\n",
      "  warnings.warn('Y residual constant at iteration %s' % k)\n",
      "C:\\Users\\Miguel\\Anaconda3\\lib\\site-packages\\sklearn\\cross_decomposition\\pls_.py:292: UserWarning: Y residual constant at iteration 22\n",
      "  warnings.warn('Y residual constant at iteration %s' % k)\n",
      "C:\\Users\\Miguel\\Anaconda3\\lib\\site-packages\\sklearn\\cross_decomposition\\pls_.py:292: UserWarning: Y residual constant at iteration 22\n",
      "  warnings.warn('Y residual constant at iteration %s' % k)\n",
      "C:\\Users\\Miguel\\Anaconda3\\lib\\site-packages\\sklearn\\cross_decomposition\\pls_.py:292: UserWarning: Y residual constant at iteration 22\n",
      "  warnings.warn('Y residual constant at iteration %s' % k)\n",
      "C:\\Users\\Miguel\\Anaconda3\\lib\\site-packages\\sklearn\\cross_decomposition\\pls_.py:292: UserWarning: Y residual constant at iteration 22\n",
      "  warnings.warn('Y residual constant at iteration %s' % k)\n",
      "C:\\Users\\Miguel\\Anaconda3\\lib\\site-packages\\sklearn\\cross_decomposition\\pls_.py:292: UserWarning: Y residual constant at iteration 22\n",
      "  warnings.warn('Y residual constant at iteration %s' % k)\n",
      "C:\\Users\\Miguel\\Anaconda3\\lib\\site-packages\\sklearn\\cross_decomposition\\pls_.py:292: UserWarning: Y residual constant at iteration 22\n",
      "  warnings.warn('Y residual constant at iteration %s' % k)\n",
      "C:\\Users\\Miguel\\Anaconda3\\lib\\site-packages\\sklearn\\cross_decomposition\\pls_.py:292: UserWarning: Y residual constant at iteration 22\n",
      "  warnings.warn('Y residual constant at iteration %s' % k)\n",
      "C:\\Users\\Miguel\\Anaconda3\\lib\\site-packages\\sklearn\\cross_decomposition\\pls_.py:292: UserWarning: Y residual constant at iteration 22\n",
      "  warnings.warn('Y residual constant at iteration %s' % k)\n",
      "C:\\Users\\Miguel\\Anaconda3\\lib\\site-packages\\sklearn\\cross_decomposition\\pls_.py:292: UserWarning: Y residual constant at iteration 22\n",
      "  warnings.warn('Y residual constant at iteration %s' % k)\n",
      "C:\\Users\\Miguel\\Anaconda3\\lib\\site-packages\\sklearn\\cross_decomposition\\pls_.py:292: UserWarning: Y residual constant at iteration 22\n",
      "  warnings.warn('Y residual constant at iteration %s' % k)\n",
      "C:\\Users\\Miguel\\Anaconda3\\lib\\site-packages\\sklearn\\cross_decomposition\\pls_.py:292: UserWarning: Y residual constant at iteration 22\n",
      "  warnings.warn('Y residual constant at iteration %s' % k)\n",
      "C:\\Users\\Miguel\\Anaconda3\\lib\\site-packages\\sklearn\\cross_decomposition\\pls_.py:292: UserWarning: Y residual constant at iteration 22\n",
      "  warnings.warn('Y residual constant at iteration %s' % k)\n",
      "C:\\Users\\Miguel\\Anaconda3\\lib\\site-packages\\sklearn\\cross_decomposition\\pls_.py:292: UserWarning: Y residual constant at iteration 22\n",
      "  warnings.warn('Y residual constant at iteration %s' % k)\n",
      "C:\\Users\\Miguel\\Anaconda3\\lib\\site-packages\\sklearn\\cross_decomposition\\pls_.py:292: UserWarning: Y residual constant at iteration 22\n",
      "  warnings.warn('Y residual constant at iteration %s' % k)\n",
      "C:\\Users\\Miguel\\Anaconda3\\lib\\site-packages\\sklearn\\cross_decomposition\\pls_.py:292: UserWarning: Y residual constant at iteration 22\n",
      "  warnings.warn('Y residual constant at iteration %s' % k)\n",
      "C:\\Users\\Miguel\\Anaconda3\\lib\\site-packages\\sklearn\\cross_decomposition\\pls_.py:292: UserWarning: Y residual constant at iteration 22\n",
      "  warnings.warn('Y residual constant at iteration %s' % k)\n",
      "C:\\Users\\Miguel\\Anaconda3\\lib\\site-packages\\sklearn\\cross_decomposition\\pls_.py:292: UserWarning: Y residual constant at iteration 22\n",
      "  warnings.warn('Y residual constant at iteration %s' % k)\n",
      "C:\\Users\\Miguel\\Anaconda3\\lib\\site-packages\\sklearn\\cross_decomposition\\pls_.py:292: UserWarning: Y residual constant at iteration 22\n",
      "  warnings.warn('Y residual constant at iteration %s' % k)\n",
      "C:\\Users\\Miguel\\Anaconda3\\lib\\site-packages\\sklearn\\cross_decomposition\\pls_.py:292: UserWarning: Y residual constant at iteration 22\n",
      "  warnings.warn('Y residual constant at iteration %s' % k)\n",
      "C:\\Users\\Miguel\\Anaconda3\\lib\\site-packages\\sklearn\\cross_decomposition\\pls_.py:292: UserWarning: Y residual constant at iteration 22\n",
      "  warnings.warn('Y residual constant at iteration %s' % k)\n",
      "C:\\Users\\Miguel\\Anaconda3\\lib\\site-packages\\sklearn\\cross_decomposition\\pls_.py:292: UserWarning: Y residual constant at iteration 22\n",
      "  warnings.warn('Y residual constant at iteration %s' % k)\n",
      "C:\\Users\\Miguel\\Anaconda3\\lib\\site-packages\\sklearn\\cross_decomposition\\pls_.py:292: UserWarning: Y residual constant at iteration 22\n",
      "  warnings.warn('Y residual constant at iteration %s' % k)\n",
      "C:\\Users\\Miguel\\Anaconda3\\lib\\site-packages\\sklearn\\cross_decomposition\\pls_.py:292: UserWarning: Y residual constant at iteration 22\n",
      "  warnings.warn('Y residual constant at iteration %s' % k)\n",
      "C:\\Users\\Miguel\\Anaconda3\\lib\\site-packages\\sklearn\\cross_decomposition\\pls_.py:292: UserWarning: Y residual constant at iteration 22\n",
      "  warnings.warn('Y residual constant at iteration %s' % k)\n",
      "C:\\Users\\Miguel\\Anaconda3\\lib\\site-packages\\sklearn\\cross_decomposition\\pls_.py:292: UserWarning: Y residual constant at iteration 22\n",
      "  warnings.warn('Y residual constant at iteration %s' % k)\n",
      "C:\\Users\\Miguel\\Anaconda3\\lib\\site-packages\\sklearn\\cross_decomposition\\pls_.py:292: UserWarning: Y residual constant at iteration 22\n",
      "  warnings.warn('Y residual constant at iteration %s' % k)\n",
      "C:\\Users\\Miguel\\Anaconda3\\lib\\site-packages\\sklearn\\cross_decomposition\\pls_.py:292: UserWarning: Y residual constant at iteration 22\n",
      "  warnings.warn('Y residual constant at iteration %s' % k)\n",
      "C:\\Users\\Miguel\\Anaconda3\\lib\\site-packages\\sklearn\\cross_decomposition\\pls_.py:292: UserWarning: Y residual constant at iteration 22\n",
      "  warnings.warn('Y residual constant at iteration %s' % k)\n"
     ]
    },
    {
     "name": "stderr",
     "output_type": "stream",
     "text": [
      "C:\\Users\\Miguel\\Anaconda3\\lib\\site-packages\\sklearn\\cross_decomposition\\pls_.py:292: UserWarning: Y residual constant at iteration 22\n",
      "  warnings.warn('Y residual constant at iteration %s' % k)\n",
      "C:\\Users\\Miguel\\Anaconda3\\lib\\site-packages\\sklearn\\cross_decomposition\\pls_.py:292: UserWarning: Y residual constant at iteration 22\n",
      "  warnings.warn('Y residual constant at iteration %s' % k)\n",
      "C:\\Users\\Miguel\\Anaconda3\\lib\\site-packages\\sklearn\\cross_decomposition\\pls_.py:292: UserWarning: Y residual constant at iteration 22\n",
      "  warnings.warn('Y residual constant at iteration %s' % k)\n",
      "C:\\Users\\Miguel\\Anaconda3\\lib\\site-packages\\sklearn\\cross_decomposition\\pls_.py:292: UserWarning: Y residual constant at iteration 22\n",
      "  warnings.warn('Y residual constant at iteration %s' % k)\n",
      "C:\\Users\\Miguel\\Anaconda3\\lib\\site-packages\\sklearn\\cross_decomposition\\pls_.py:292: UserWarning: Y residual constant at iteration 22\n",
      "  warnings.warn('Y residual constant at iteration %s' % k)\n",
      "C:\\Users\\Miguel\\Anaconda3\\lib\\site-packages\\sklearn\\cross_decomposition\\pls_.py:292: UserWarning: Y residual constant at iteration 22\n",
      "  warnings.warn('Y residual constant at iteration %s' % k)\n",
      "C:\\Users\\Miguel\\Anaconda3\\lib\\site-packages\\sklearn\\cross_decomposition\\pls_.py:292: UserWarning: Y residual constant at iteration 22\n",
      "  warnings.warn('Y residual constant at iteration %s' % k)\n",
      "C:\\Users\\Miguel\\Anaconda3\\lib\\site-packages\\sklearn\\cross_decomposition\\pls_.py:292: UserWarning: Y residual constant at iteration 22\n",
      "  warnings.warn('Y residual constant at iteration %s' % k)\n",
      "C:\\Users\\Miguel\\Anaconda3\\lib\\site-packages\\sklearn\\cross_decomposition\\pls_.py:292: UserWarning: Y residual constant at iteration 22\n",
      "  warnings.warn('Y residual constant at iteration %s' % k)\n",
      "C:\\Users\\Miguel\\Anaconda3\\lib\\site-packages\\sklearn\\cross_decomposition\\pls_.py:292: UserWarning: Y residual constant at iteration 22\n",
      "  warnings.warn('Y residual constant at iteration %s' % k)\n",
      "C:\\Users\\Miguel\\Anaconda3\\lib\\site-packages\\sklearn\\cross_decomposition\\pls_.py:292: UserWarning: Y residual constant at iteration 22\n",
      "  warnings.warn('Y residual constant at iteration %s' % k)\n",
      "C:\\Users\\Miguel\\Anaconda3\\lib\\site-packages\\sklearn\\cross_decomposition\\pls_.py:292: UserWarning: Y residual constant at iteration 22\n",
      "  warnings.warn('Y residual constant at iteration %s' % k)\n",
      "C:\\Users\\Miguel\\Anaconda3\\lib\\site-packages\\sklearn\\cross_decomposition\\pls_.py:292: UserWarning: Y residual constant at iteration 22\n",
      "  warnings.warn('Y residual constant at iteration %s' % k)\n",
      "C:\\Users\\Miguel\\Anaconda3\\lib\\site-packages\\sklearn\\cross_decomposition\\pls_.py:292: UserWarning: Y residual constant at iteration 22\n",
      "  warnings.warn('Y residual constant at iteration %s' % k)\n",
      "C:\\Users\\Miguel\\Anaconda3\\lib\\site-packages\\sklearn\\cross_decomposition\\pls_.py:292: UserWarning: Y residual constant at iteration 22\n",
      "  warnings.warn('Y residual constant at iteration %s' % k)\n",
      "C:\\Users\\Miguel\\Anaconda3\\lib\\site-packages\\sklearn\\cross_decomposition\\pls_.py:292: UserWarning: Y residual constant at iteration 22\n",
      "  warnings.warn('Y residual constant at iteration %s' % k)\n",
      "C:\\Users\\Miguel\\Anaconda3\\lib\\site-packages\\sklearn\\cross_decomposition\\pls_.py:292: UserWarning: Y residual constant at iteration 22\n",
      "  warnings.warn('Y residual constant at iteration %s' % k)\n",
      "C:\\Users\\Miguel\\Anaconda3\\lib\\site-packages\\sklearn\\cross_decomposition\\pls_.py:292: UserWarning: Y residual constant at iteration 22\n",
      "  warnings.warn('Y residual constant at iteration %s' % k)\n",
      "C:\\Users\\Miguel\\Anaconda3\\lib\\site-packages\\sklearn\\cross_decomposition\\pls_.py:292: UserWarning: Y residual constant at iteration 22\n",
      "  warnings.warn('Y residual constant at iteration %s' % k)\n",
      "C:\\Users\\Miguel\\Anaconda3\\lib\\site-packages\\sklearn\\cross_decomposition\\pls_.py:292: UserWarning: Y residual constant at iteration 22\n",
      "  warnings.warn('Y residual constant at iteration %s' % k)\n",
      "C:\\Users\\Miguel\\Anaconda3\\lib\\site-packages\\sklearn\\cross_decomposition\\pls_.py:292: UserWarning: Y residual constant at iteration 22\n",
      "  warnings.warn('Y residual constant at iteration %s' % k)\n",
      "C:\\Users\\Miguel\\Anaconda3\\lib\\site-packages\\sklearn\\cross_decomposition\\pls_.py:292: UserWarning: Y residual constant at iteration 22\n",
      "  warnings.warn('Y residual constant at iteration %s' % k)\n",
      "C:\\Users\\Miguel\\Anaconda3\\lib\\site-packages\\sklearn\\cross_decomposition\\pls_.py:292: UserWarning: Y residual constant at iteration 22\n",
      "  warnings.warn('Y residual constant at iteration %s' % k)\n",
      "C:\\Users\\Miguel\\Anaconda3\\lib\\site-packages\\sklearn\\cross_decomposition\\pls_.py:292: UserWarning: Y residual constant at iteration 22\n",
      "  warnings.warn('Y residual constant at iteration %s' % k)\n",
      "C:\\Users\\Miguel\\Anaconda3\\lib\\site-packages\\sklearn\\cross_decomposition\\pls_.py:292: UserWarning: Y residual constant at iteration 22\n",
      "  warnings.warn('Y residual constant at iteration %s' % k)\n",
      "C:\\Users\\Miguel\\Anaconda3\\lib\\site-packages\\sklearn\\cross_decomposition\\pls_.py:292: UserWarning: Y residual constant at iteration 22\n",
      "  warnings.warn('Y residual constant at iteration %s' % k)\n",
      "C:\\Users\\Miguel\\Anaconda3\\lib\\site-packages\\sklearn\\cross_decomposition\\pls_.py:292: UserWarning: Y residual constant at iteration 22\n",
      "  warnings.warn('Y residual constant at iteration %s' % k)\n",
      "C:\\Users\\Miguel\\Anaconda3\\lib\\site-packages\\sklearn\\cross_decomposition\\pls_.py:292: UserWarning: Y residual constant at iteration 22\n",
      "  warnings.warn('Y residual constant at iteration %s' % k)\n",
      "C:\\Users\\Miguel\\Anaconda3\\lib\\site-packages\\sklearn\\cross_decomposition\\pls_.py:292: UserWarning: Y residual constant at iteration 22\n",
      "  warnings.warn('Y residual constant at iteration %s' % k)\n",
      "C:\\Users\\Miguel\\Anaconda3\\lib\\site-packages\\sklearn\\cross_decomposition\\pls_.py:292: UserWarning: Y residual constant at iteration 22\n",
      "  warnings.warn('Y residual constant at iteration %s' % k)\n",
      "C:\\Users\\Miguel\\Anaconda3\\lib\\site-packages\\sklearn\\cross_decomposition\\pls_.py:292: UserWarning: Y residual constant at iteration 22\n",
      "  warnings.warn('Y residual constant at iteration %s' % k)\n",
      "C:\\Users\\Miguel\\Anaconda3\\lib\\site-packages\\sklearn\\cross_decomposition\\pls_.py:292: UserWarning: Y residual constant at iteration 22\n",
      "  warnings.warn('Y residual constant at iteration %s' % k)\n",
      "C:\\Users\\Miguel\\Anaconda3\\lib\\site-packages\\sklearn\\cross_decomposition\\pls_.py:292: UserWarning: Y residual constant at iteration 22\n",
      "  warnings.warn('Y residual constant at iteration %s' % k)\n",
      "C:\\Users\\Miguel\\Anaconda3\\lib\\site-packages\\sklearn\\cross_decomposition\\pls_.py:292: UserWarning: Y residual constant at iteration 22\n",
      "  warnings.warn('Y residual constant at iteration %s' % k)\n",
      "C:\\Users\\Miguel\\Anaconda3\\lib\\site-packages\\ipykernel_launcher.py:3: RuntimeWarning: More than 20 figures have been opened. Figures created through the pyplot interface (`matplotlib.pyplot.figure`) are retained until explicitly closed and may consume too much memory. (To control this warning, see the rcParam `figure.max_open_warning`).\n",
      "  This is separate from the ipykernel package so we can avoid doing imports until\n"
     ]
    },
    {
     "data": {
      "application/vnd.jupyter.widget-view+json": {
       "model_id": "1ca76e13b0ae4f438029b9c98ae59826",
       "version_major": 2,
       "version_minor": 0
      },
      "text/plain": [
       "Canvas(toolbar=Toolbar(toolitems=[('Home', 'Reset original view', 'home', 'home'), ('Back', 'Back to previous …"
      ]
     },
     "metadata": {},
     "output_type": "display_data"
    },
    {
     "data": {
      "text/plain": [
       "Text(0, 0.5, 'mean absolute error')"
      ]
     },
     "execution_count": 33,
     "metadata": {},
     "output_type": "execute_result"
    }
   ],
   "source": [
    "abs_error = error_pls(X_train, y_train, X_test, y_test, layer_sizes)\n",
    "    \n",
    "subplots()\n",
    "plot(abs_error[0],abs_error[1],'x')\n",
    "\n",
    "xlabel(\"hidden layer sizes\")\n",
    "ylabel(\"mean absolute error\")"
   ]
  },
  {
   "cell_type": "code",
   "execution_count": 34,
   "metadata": {},
   "outputs": [
    {
     "name": "stderr",
     "output_type": "stream",
     "text": [
      "C:\\Users\\Miguel\\Anaconda3\\lib\\site-packages\\ipykernel_launcher.py:1: RuntimeWarning: More than 20 figures have been opened. Figures created through the pyplot interface (`matplotlib.pyplot.figure`) are retained until explicitly closed and may consume too much memory. (To control this warning, see the rcParam `figure.max_open_warning`).\n",
      "  \"\"\"Entry point for launching an IPython kernel.\n"
     ]
    },
    {
     "data": {
      "application/vnd.jupyter.widget-view+json": {
       "model_id": "37801e10a809412fac8f0f6c50b601eb",
       "version_major": 2,
       "version_minor": 0
      },
      "text/plain": [
       "Canvas(toolbar=Toolbar(toolitems=[('Home', 'Reset original view', 'home', 'home'), ('Back', 'Back to previous …"
      ]
     },
     "metadata": {},
     "output_type": "display_data"
    },
    {
     "ename": "ValueError",
     "evalue": "x and y must have same first dimension, but have shapes (1,) and (2, 98)",
     "output_type": "error",
     "traceback": [
      "\u001b[1;31m---------------------------------------------------------------------------\u001b[0m",
      "\u001b[1;31mValueError\u001b[0m                                Traceback (most recent call last)",
      "\u001b[1;32m<ipython-input-34-064f24c647cb>\u001b[0m in \u001b[0;36m<module>\u001b[1;34m\u001b[0m\n\u001b[0;32m      1\u001b[0m \u001b[0msubplots\u001b[0m\u001b[1;33m(\u001b[0m\u001b[1;33m)\u001b[0m\u001b[1;33m\u001b[0m\u001b[1;33m\u001b[0m\u001b[0m\n\u001b[1;32m----> 2\u001b[1;33m \u001b[0mplot\u001b[0m\u001b[1;33m(\u001b[0m\u001b[0mlayer_sizes\u001b[0m\u001b[1;33m,\u001b[0m\u001b[0mabs_error\u001b[0m\u001b[1;33m,\u001b[0m\u001b[1;34m'x'\u001b[0m\u001b[1;33m)\u001b[0m\u001b[1;33m\u001b[0m\u001b[1;33m\u001b[0m\u001b[0m\n\u001b[0m\u001b[0;32m      3\u001b[0m \u001b[0mxlabel\u001b[0m\u001b[1;33m(\u001b[0m\u001b[1;34m\"hidden layer sizes\"\u001b[0m\u001b[1;33m)\u001b[0m\u001b[1;33m\u001b[0m\u001b[1;33m\u001b[0m\u001b[0m\n\u001b[0;32m      4\u001b[0m \u001b[0mylabel\u001b[0m\u001b[1;33m(\u001b[0m\u001b[1;34m\"mean absolute error\"\u001b[0m\u001b[1;33m)\u001b[0m\u001b[1;33m\u001b[0m\u001b[1;33m\u001b[0m\u001b[0m\n",
      "\u001b[1;32m~\\Anaconda3\\lib\\site-packages\\matplotlib\\pyplot.py\u001b[0m in \u001b[0;36mplot\u001b[1;34m(scalex, scaley, data, *args, **kwargs)\u001b[0m\n\u001b[0;32m   2793\u001b[0m     return gca().plot(\n\u001b[0;32m   2794\u001b[0m         *args, scalex=scalex, scaley=scaley, **({\"data\": data} if data\n\u001b[1;32m-> 2795\u001b[1;33m         is not None else {}), **kwargs)\n\u001b[0m\u001b[0;32m   2796\u001b[0m \u001b[1;33m\u001b[0m\u001b[0m\n\u001b[0;32m   2797\u001b[0m \u001b[1;33m\u001b[0m\u001b[0m\n",
      "\u001b[1;32m~\\Anaconda3\\lib\\site-packages\\matplotlib\\axes\\_axes.py\u001b[0m in \u001b[0;36mplot\u001b[1;34m(self, scalex, scaley, data, *args, **kwargs)\u001b[0m\n\u001b[0;32m   1664\u001b[0m         \"\"\"\n\u001b[0;32m   1665\u001b[0m         \u001b[0mkwargs\u001b[0m \u001b[1;33m=\u001b[0m \u001b[0mcbook\u001b[0m\u001b[1;33m.\u001b[0m\u001b[0mnormalize_kwargs\u001b[0m\u001b[1;33m(\u001b[0m\u001b[0mkwargs\u001b[0m\u001b[1;33m,\u001b[0m \u001b[0mmlines\u001b[0m\u001b[1;33m.\u001b[0m\u001b[0mLine2D\u001b[0m\u001b[1;33m.\u001b[0m\u001b[0m_alias_map\u001b[0m\u001b[1;33m)\u001b[0m\u001b[1;33m\u001b[0m\u001b[1;33m\u001b[0m\u001b[0m\n\u001b[1;32m-> 1666\u001b[1;33m         \u001b[0mlines\u001b[0m \u001b[1;33m=\u001b[0m \u001b[1;33m[\u001b[0m\u001b[1;33m*\u001b[0m\u001b[0mself\u001b[0m\u001b[1;33m.\u001b[0m\u001b[0m_get_lines\u001b[0m\u001b[1;33m(\u001b[0m\u001b[1;33m*\u001b[0m\u001b[0margs\u001b[0m\u001b[1;33m,\u001b[0m \u001b[0mdata\u001b[0m\u001b[1;33m=\u001b[0m\u001b[0mdata\u001b[0m\u001b[1;33m,\u001b[0m \u001b[1;33m**\u001b[0m\u001b[0mkwargs\u001b[0m\u001b[1;33m)\u001b[0m\u001b[1;33m]\u001b[0m\u001b[1;33m\u001b[0m\u001b[1;33m\u001b[0m\u001b[0m\n\u001b[0m\u001b[0;32m   1667\u001b[0m         \u001b[1;32mfor\u001b[0m \u001b[0mline\u001b[0m \u001b[1;32min\u001b[0m \u001b[0mlines\u001b[0m\u001b[1;33m:\u001b[0m\u001b[1;33m\u001b[0m\u001b[1;33m\u001b[0m\u001b[0m\n\u001b[0;32m   1668\u001b[0m             \u001b[0mself\u001b[0m\u001b[1;33m.\u001b[0m\u001b[0madd_line\u001b[0m\u001b[1;33m(\u001b[0m\u001b[0mline\u001b[0m\u001b[1;33m)\u001b[0m\u001b[1;33m\u001b[0m\u001b[1;33m\u001b[0m\u001b[0m\n",
      "\u001b[1;32m~\\Anaconda3\\lib\\site-packages\\matplotlib\\axes\\_base.py\u001b[0m in \u001b[0;36m__call__\u001b[1;34m(self, *args, **kwargs)\u001b[0m\n\u001b[0;32m    223\u001b[0m                 \u001b[0mthis\u001b[0m \u001b[1;33m+=\u001b[0m \u001b[0margs\u001b[0m\u001b[1;33m[\u001b[0m\u001b[1;36m0\u001b[0m\u001b[1;33m]\u001b[0m\u001b[1;33m,\u001b[0m\u001b[1;33m\u001b[0m\u001b[1;33m\u001b[0m\u001b[0m\n\u001b[0;32m    224\u001b[0m                 \u001b[0margs\u001b[0m \u001b[1;33m=\u001b[0m \u001b[0margs\u001b[0m\u001b[1;33m[\u001b[0m\u001b[1;36m1\u001b[0m\u001b[1;33m:\u001b[0m\u001b[1;33m]\u001b[0m\u001b[1;33m\u001b[0m\u001b[1;33m\u001b[0m\u001b[0m\n\u001b[1;32m--> 225\u001b[1;33m             \u001b[1;32myield\u001b[0m \u001b[1;32mfrom\u001b[0m \u001b[0mself\u001b[0m\u001b[1;33m.\u001b[0m\u001b[0m_plot_args\u001b[0m\u001b[1;33m(\u001b[0m\u001b[0mthis\u001b[0m\u001b[1;33m,\u001b[0m \u001b[0mkwargs\u001b[0m\u001b[1;33m)\u001b[0m\u001b[1;33m\u001b[0m\u001b[1;33m\u001b[0m\u001b[0m\n\u001b[0m\u001b[0;32m    226\u001b[0m \u001b[1;33m\u001b[0m\u001b[0m\n\u001b[0;32m    227\u001b[0m     \u001b[1;32mdef\u001b[0m \u001b[0mget_next_color\u001b[0m\u001b[1;33m(\u001b[0m\u001b[0mself\u001b[0m\u001b[1;33m)\u001b[0m\u001b[1;33m:\u001b[0m\u001b[1;33m\u001b[0m\u001b[1;33m\u001b[0m\u001b[0m\n",
      "\u001b[1;32m~\\Anaconda3\\lib\\site-packages\\matplotlib\\axes\\_base.py\u001b[0m in \u001b[0;36m_plot_args\u001b[1;34m(self, tup, kwargs)\u001b[0m\n\u001b[0;32m    389\u001b[0m             \u001b[0mx\u001b[0m\u001b[1;33m,\u001b[0m \u001b[0my\u001b[0m \u001b[1;33m=\u001b[0m \u001b[0mindex_of\u001b[0m\u001b[1;33m(\u001b[0m\u001b[0mtup\u001b[0m\u001b[1;33m[\u001b[0m\u001b[1;33m-\u001b[0m\u001b[1;36m1\u001b[0m\u001b[1;33m]\u001b[0m\u001b[1;33m)\u001b[0m\u001b[1;33m\u001b[0m\u001b[1;33m\u001b[0m\u001b[0m\n\u001b[0;32m    390\u001b[0m \u001b[1;33m\u001b[0m\u001b[0m\n\u001b[1;32m--> 391\u001b[1;33m         \u001b[0mx\u001b[0m\u001b[1;33m,\u001b[0m \u001b[0my\u001b[0m \u001b[1;33m=\u001b[0m \u001b[0mself\u001b[0m\u001b[1;33m.\u001b[0m\u001b[0m_xy_from_xy\u001b[0m\u001b[1;33m(\u001b[0m\u001b[0mx\u001b[0m\u001b[1;33m,\u001b[0m \u001b[0my\u001b[0m\u001b[1;33m)\u001b[0m\u001b[1;33m\u001b[0m\u001b[1;33m\u001b[0m\u001b[0m\n\u001b[0m\u001b[0;32m    392\u001b[0m \u001b[1;33m\u001b[0m\u001b[0m\n\u001b[0;32m    393\u001b[0m         \u001b[1;32mif\u001b[0m \u001b[0mself\u001b[0m\u001b[1;33m.\u001b[0m\u001b[0mcommand\u001b[0m \u001b[1;33m==\u001b[0m \u001b[1;34m'plot'\u001b[0m\u001b[1;33m:\u001b[0m\u001b[1;33m\u001b[0m\u001b[1;33m\u001b[0m\u001b[0m\n",
      "\u001b[1;32m~\\Anaconda3\\lib\\site-packages\\matplotlib\\axes\\_base.py\u001b[0m in \u001b[0;36m_xy_from_xy\u001b[1;34m(self, x, y)\u001b[0m\n\u001b[0;32m    268\u001b[0m         \u001b[1;32mif\u001b[0m \u001b[0mx\u001b[0m\u001b[1;33m.\u001b[0m\u001b[0mshape\u001b[0m\u001b[1;33m[\u001b[0m\u001b[1;36m0\u001b[0m\u001b[1;33m]\u001b[0m \u001b[1;33m!=\u001b[0m \u001b[0my\u001b[0m\u001b[1;33m.\u001b[0m\u001b[0mshape\u001b[0m\u001b[1;33m[\u001b[0m\u001b[1;36m0\u001b[0m\u001b[1;33m]\u001b[0m\u001b[1;33m:\u001b[0m\u001b[1;33m\u001b[0m\u001b[1;33m\u001b[0m\u001b[0m\n\u001b[0;32m    269\u001b[0m             raise ValueError(\"x and y must have same first dimension, but \"\n\u001b[1;32m--> 270\u001b[1;33m                              \"have shapes {} and {}\".format(x.shape, y.shape))\n\u001b[0m\u001b[0;32m    271\u001b[0m         \u001b[1;32mif\u001b[0m \u001b[0mx\u001b[0m\u001b[1;33m.\u001b[0m\u001b[0mndim\u001b[0m \u001b[1;33m>\u001b[0m \u001b[1;36m2\u001b[0m \u001b[1;32mor\u001b[0m \u001b[0my\u001b[0m\u001b[1;33m.\u001b[0m\u001b[0mndim\u001b[0m \u001b[1;33m>\u001b[0m \u001b[1;36m2\u001b[0m\u001b[1;33m:\u001b[0m\u001b[1;33m\u001b[0m\u001b[1;33m\u001b[0m\u001b[0m\n\u001b[0;32m    272\u001b[0m             raise ValueError(\"x and y can be no greater than 2-D, but have \"\n",
      "\u001b[1;31mValueError\u001b[0m: x and y must have same first dimension, but have shapes (1,) and (2, 98)"
     ]
    }
   ],
   "source": [
    "subplots()\n",
    "plot(layer_sizes,abs_error,'x')\n",
    "xlabel(\"hidden layer sizes\")\n",
    "ylabel(\"mean absolute error\")"
   ]
  },
  {
   "cell_type": "markdown",
   "metadata": {},
   "source": [
    "## 7. Cross-validation"
   ]
  },
  {
   "cell_type": "code",
   "execution_count": 35,
   "metadata": {},
   "outputs": [],
   "source": [
    "from sklearn.model_selection import KFold\n",
    "\n",
    "kf = KFold(n_splits=6, shuffle = True)\n",
    "\n",
    "\n",
    "def train_test_split(X,y):\n",
    "    data_lists = []\n",
    "    for train_index, test_index in kf.split(X):\n",
    "        #print(train_index)\n",
    "        X_train, X_test = X[train_index], X[test_index]\n",
    "        y_train, y_test = y[train_index], y[test_index]\n",
    "        data_lists.append([X_train, y_train, X_test, y_test])\n",
    "        \n",
    "    return data_lists\n",
    "\n",
    "models_tested = [prev_univ,prev_multiv,prev_ridge,prev_pca,prev_pls,prev_mlp]\n",
    "\n",
    "parameters = [0, 0, 100000, 2, 10, 40]\n",
    "\n",
    "\n",
    "evaluation_list = [mean_absolute_error, mean_square_error, root_mean_square_error,\n",
    "                  mean_absolute_percentage_error, max_error, max_squared_error,\n",
    "                  max_percentage_error, r_squared]\n",
    "\n",
    "text = [\"Models\", \"Mean absolute error\", \"Mean square error\", \"Root mean square error\",\n",
    "       \"Mean absolute percentage error (%)\", \"Max error\", \"Max squared error\",\n",
    "       \"Max percentage error\", \"R^2\"]\n",
    "\n",
    "def test_all_models(x, y, x_test, y_test, models = models_tested, parameters = parameters,\n",
    "                    evaluation_list = evaluation_list):\n",
    "    \n",
    "    data_train = []\n",
    "    \n",
    "    data_test = []\n",
    "    \n",
    "    \n",
    "    for i in range(len(models)):\n",
    "        current_line_train = []\n",
    "        current_line_train.append(models[i])\n",
    "        \n",
    "        current_line_test = []\n",
    "        current_line_test.append(models[i])\n",
    "        \n",
    "        #predictions\n",
    "        \n",
    "        if i <= 1:\n",
    "            if i==0:\n",
    "                y_predictions_train, y_predictions_test = models[i](x[:,0].reshape(-1,1), y, x_test[:,0].reshape(-1,1))\n",
    "            else:\n",
    "                y_predictions_train, y_predictions_test = models[i](x, y, x_test)\n",
    "\n",
    "        else:\n",
    "            y_predictions_train, y_predictions_test = models[i](x, y, x_test, parameters[i])\n",
    "            \n",
    "        \n",
    "        #print(models[i])\n",
    "        \n",
    "        \n",
    "        for j in range(len(evaluation_list)):\n",
    "            err_train = evaluation_list[j](y_test, y_predictions_train)\n",
    "            \n",
    "            err_test = evaluation_list[j](y_test, y_predictions_test)\n",
    "            \n",
    "            current_line_train.append(err_train)\n",
    "            current_line_train.append(err_test)\n",
    "            #print(text[j] + ' -> ', err)\n",
    "        data_train.append(current_line_train)\n",
    "        data_test.append(current_line_test)\n",
    "        #print(\"\\n\")\n",
    "    return data_train, data_test\n",
    "\n"
   ]
  },
  {
   "cell_type": "code",
   "execution_count": 36,
   "metadata": {},
   "outputs": [],
   "source": [
    "X = np.array(spec)\n",
    "\n",
    "data_lists = train_test_split(X,y)"
   ]
  },
  {
   "cell_type": "markdown",
   "metadata": {},
   "source": [
    "### 7.-1 Univariate minimum error"
   ]
  },
  {
   "cell_type": "code",
   "execution_count": 37,
   "metadata": {},
   "outputs": [],
   "source": [
    "lines = line_finder(wavelengths[0], X_train)\n",
    "\n",
    "error_lists = []\n",
    "\n",
    "for j in range(len(data_lists)):\n",
    "    lines, errors = error_uv(data_lists[j][0], data_lists[j][1], data_lists[j][2], data_lists[j][3], lines)\n",
    "    error_lists.append(errors)\n"
   ]
  },
  {
   "cell_type": "code",
   "execution_count": 38,
   "metadata": {
    "scrolled": false
   },
   "outputs": [
    {
     "name": "stderr",
     "output_type": "stream",
     "text": [
      "C:\\Users\\Miguel\\Anaconda3\\lib\\site-packages\\ipykernel_launcher.py:3: RuntimeWarning: More than 20 figures have been opened. Figures created through the pyplot interface (`matplotlib.pyplot.figure`) are retained until explicitly closed and may consume too much memory. (To control this warning, see the rcParam `figure.max_open_warning`).\n",
      "  This is separate from the ipykernel package so we can avoid doing imports until\n"
     ]
    },
    {
     "data": {
      "application/vnd.jupyter.widget-view+json": {
       "model_id": "9c4bd94242294c4cb766fce3eb6cdc49",
       "version_major": 2,
       "version_minor": 0
      },
      "text/plain": [
       "Canvas(toolbar=Toolbar(toolitems=[('Home', 'Reset original view', 'home', 'home'), ('Back', 'Back to previous …"
      ]
     },
     "metadata": {},
     "output_type": "display_data"
    },
    {
     "name": "stdout",
     "output_type": "stream",
     "text": [
      "77\n",
      "76\n",
      "77\n",
      "63\n",
      "77\n",
      "87\n",
      "77\n"
     ]
    },
    {
     "name": "stderr",
     "output_type": "stream",
     "text": [
      "C:\\Users\\Miguel\\Anaconda3\\lib\\site-packages\\ipykernel_launcher.py:19: RuntimeWarning: More than 20 figures have been opened. Figures created through the pyplot interface (`matplotlib.pyplot.figure`) are retained until explicitly closed and may consume too much memory. (To control this warning, see the rcParam `figure.max_open_warning`).\n"
     ]
    },
    {
     "data": {
      "application/vnd.jupyter.widget-view+json": {
       "model_id": "79821dd132384ccaa55f2d75c436b9e3",
       "version_major": 2,
       "version_minor": 0
      },
      "text/plain": [
       "Canvas(toolbar=Toolbar(toolitems=[('Home', 'Reset original view', 'home', 'home'), ('Back', 'Back to previous …"
      ]
     },
     "metadata": {},
     "output_type": "display_data"
    },
    {
     "data": {
      "text/plain": [
       "[<matplotlib.lines.Line2D at 0x2750cbd28c8>]"
      ]
     },
     "execution_count": 38,
     "metadata": {},
     "output_type": "execute_result"
    }
   ],
   "source": [
    "mean_error_list = []\n",
    "\n",
    "subplots()\n",
    "\n",
    "for k in range(len(lines)):\n",
    "    mean_error = 0\n",
    "\n",
    "    for m in range(len(data_lists)):\n",
    "        mean_error += error_lists[m][k]\n",
    "        \n",
    "    mean_error_list.append(mean_error/len(data_lists))\n",
    "\n",
    "for m in range(len(data_lists)):\n",
    "    print(error_lists[m].index(min(error_lists[m])))\n",
    "    plot(lines, error_lists[m])\n",
    "    \n",
    "print(mean_error_list.index(min(mean_error_list)))\n",
    "    \n",
    "subplots()\n",
    "\n",
    "plot(lines, mean_error_list, \"x\")"
   ]
  },
  {
   "cell_type": "code",
   "execution_count": 39,
   "metadata": {},
   "outputs": [
    {
     "name": "stdout",
     "output_type": "stream",
     "text": [
      "610.3000000001099\n"
     ]
    }
   ],
   "source": [
    "min_error_line = lines[mean_error_list.index(min(mean_error_list))]\n",
    "print(min_error_line)\n",
    "\n",
    "parameters[0] = min_error_line"
   ]
  },
  {
   "cell_type": "markdown",
   "metadata": {},
   "source": [
    "### 7.0 Multivariate minimum error"
   ]
  },
  {
   "cell_type": "code",
   "execution_count": null,
   "metadata": {
    "scrolled": false
   },
   "outputs": [
    {
     "name": "stdout",
     "output_type": "stream",
     "text": [
      "1 of 20\r"
     ]
    },
    {
     "name": "stderr",
     "output_type": "stream",
     "text": [
      "C:\\Users\\Miguel\\Anaconda3\\lib\\site-packages\\ipykernel_launcher.py:28: RuntimeWarning: More than 20 figures have been opened. Figures created through the pyplot interface (`matplotlib.pyplot.figure`) are retained until explicitly closed and may consume too much memory. (To control this warning, see the rcParam `figure.max_open_warning`).\n"
     ]
    },
    {
     "data": {
      "application/vnd.jupyter.widget-view+json": {
       "model_id": "4434e6818abb464e87adf94cce1b0001",
       "version_major": 2,
       "version_minor": 0
      },
      "text/plain": [
       "Canvas(toolbar=Toolbar(toolitems=[('Home', 'Reset original view', 'home', 'home'), ('Back', 'Back to previous …"
      ]
     },
     "metadata": {},
     "output_type": "display_data"
    },
    {
     "name": "stdout",
     "output_type": "stream",
     "text": [
      "2 of 20\r"
     ]
    },
    {
     "name": "stderr",
     "output_type": "stream",
     "text": [
      "C:\\Users\\Miguel\\Anaconda3\\lib\\site-packages\\ipykernel_launcher.py:28: RuntimeWarning: More than 20 figures have been opened. Figures created through the pyplot interface (`matplotlib.pyplot.figure`) are retained until explicitly closed and may consume too much memory. (To control this warning, see the rcParam `figure.max_open_warning`).\n"
     ]
    },
    {
     "data": {
      "application/vnd.jupyter.widget-view+json": {
       "model_id": "bb1e3cab5576402ca09175f623df06fb",
       "version_major": 2,
       "version_minor": 0
      },
      "text/plain": [
       "Canvas(toolbar=Toolbar(toolitems=[('Home', 'Reset original view', 'home', 'home'), ('Back', 'Back to previous …"
      ]
     },
     "metadata": {},
     "output_type": "display_data"
    },
    {
     "name": "stdout",
     "output_type": "stream",
     "text": [
      "3 of 20\r"
     ]
    },
    {
     "name": "stderr",
     "output_type": "stream",
     "text": [
      "C:\\Users\\Miguel\\Anaconda3\\lib\\site-packages\\ipykernel_launcher.py:28: RuntimeWarning: More than 20 figures have been opened. Figures created through the pyplot interface (`matplotlib.pyplot.figure`) are retained until explicitly closed and may consume too much memory. (To control this warning, see the rcParam `figure.max_open_warning`).\n"
     ]
    },
    {
     "data": {
      "application/vnd.jupyter.widget-view+json": {
       "model_id": "993cf95bc8174619a34e3d8c80fafa85",
       "version_major": 2,
       "version_minor": 0
      },
      "text/plain": [
       "Canvas(toolbar=Toolbar(toolitems=[('Home', 'Reset original view', 'home', 'home'), ('Back', 'Back to previous …"
      ]
     },
     "metadata": {},
     "output_type": "display_data"
    },
    {
     "name": "stdout",
     "output_type": "stream",
     "text": [
      "4 of 20\r"
     ]
    },
    {
     "name": "stderr",
     "output_type": "stream",
     "text": [
      "C:\\Users\\Miguel\\Anaconda3\\lib\\site-packages\\ipykernel_launcher.py:28: RuntimeWarning: More than 20 figures have been opened. Figures created through the pyplot interface (`matplotlib.pyplot.figure`) are retained until explicitly closed and may consume too much memory. (To control this warning, see the rcParam `figure.max_open_warning`).\n"
     ]
    },
    {
     "data": {
      "application/vnd.jupyter.widget-view+json": {
       "model_id": "24f569c5f2804305ba84691c23cd9704",
       "version_major": 2,
       "version_minor": 0
      },
      "text/plain": [
       "Canvas(toolbar=Toolbar(toolitems=[('Home', 'Reset original view', 'home', 'home'), ('Back', 'Back to previous …"
      ]
     },
     "metadata": {},
     "output_type": "display_data"
    },
    {
     "name": "stdout",
     "output_type": "stream",
     "text": [
      "5 of 20\r"
     ]
    },
    {
     "name": "stderr",
     "output_type": "stream",
     "text": [
      "C:\\Users\\Miguel\\Anaconda3\\lib\\site-packages\\ipykernel_launcher.py:28: RuntimeWarning: More than 20 figures have been opened. Figures created through the pyplot interface (`matplotlib.pyplot.figure`) are retained until explicitly closed and may consume too much memory. (To control this warning, see the rcParam `figure.max_open_warning`).\n"
     ]
    },
    {
     "data": {
      "application/vnd.jupyter.widget-view+json": {
       "model_id": "dc526d313f294ee38f16d17d876341c1",
       "version_major": 2,
       "version_minor": 0
      },
      "text/plain": [
       "Canvas(toolbar=Toolbar(toolitems=[('Home', 'Reset original view', 'home', 'home'), ('Back', 'Back to previous …"
      ]
     },
     "metadata": {},
     "output_type": "display_data"
    },
    {
     "name": "stdout",
     "output_type": "stream",
     "text": [
      "6 of 20\r"
     ]
    },
    {
     "name": "stderr",
     "output_type": "stream",
     "text": [
      "C:\\Users\\Miguel\\Anaconda3\\lib\\site-packages\\ipykernel_launcher.py:28: RuntimeWarning: More than 20 figures have been opened. Figures created through the pyplot interface (`matplotlib.pyplot.figure`) are retained until explicitly closed and may consume too much memory. (To control this warning, see the rcParam `figure.max_open_warning`).\n"
     ]
    },
    {
     "data": {
      "application/vnd.jupyter.widget-view+json": {
       "model_id": "c6763d2e4f414b92b14d10b1da141aa9",
       "version_major": 2,
       "version_minor": 0
      },
      "text/plain": [
       "Canvas(toolbar=Toolbar(toolitems=[('Home', 'Reset original view', 'home', 'home'), ('Back', 'Back to previous …"
      ]
     },
     "metadata": {},
     "output_type": "display_data"
    },
    {
     "name": "stdout",
     "output_type": "stream",
     "text": [
      "7 of 20\r"
     ]
    },
    {
     "name": "stderr",
     "output_type": "stream",
     "text": [
      "C:\\Users\\Miguel\\Anaconda3\\lib\\site-packages\\ipykernel_launcher.py:28: RuntimeWarning: More than 20 figures have been opened. Figures created through the pyplot interface (`matplotlib.pyplot.figure`) are retained until explicitly closed and may consume too much memory. (To control this warning, see the rcParam `figure.max_open_warning`).\n"
     ]
    },
    {
     "data": {
      "application/vnd.jupyter.widget-view+json": {
       "model_id": "5cf968481401426ca1b4a7ef73ba3f04",
       "version_major": 2,
       "version_minor": 0
      },
      "text/plain": [
       "Canvas(toolbar=Toolbar(toolitems=[('Home', 'Reset original view', 'home', 'home'), ('Back', 'Back to previous …"
      ]
     },
     "metadata": {},
     "output_type": "display_data"
    },
    {
     "name": "stdout",
     "output_type": "stream",
     "text": [
      "8 of 20\r"
     ]
    },
    {
     "name": "stderr",
     "output_type": "stream",
     "text": [
      "C:\\Users\\Miguel\\Anaconda3\\lib\\site-packages\\ipykernel_launcher.py:28: RuntimeWarning: More than 20 figures have been opened. Figures created through the pyplot interface (`matplotlib.pyplot.figure`) are retained until explicitly closed and may consume too much memory. (To control this warning, see the rcParam `figure.max_open_warning`).\n"
     ]
    },
    {
     "data": {
      "application/vnd.jupyter.widget-view+json": {
       "model_id": "79e239665c0d43aea2cac797de0afb29",
       "version_major": 2,
       "version_minor": 0
      },
      "text/plain": [
       "Canvas(toolbar=Toolbar(toolitems=[('Home', 'Reset original view', 'home', 'home'), ('Back', 'Back to previous …"
      ]
     },
     "metadata": {},
     "output_type": "display_data"
    },
    {
     "name": "stdout",
     "output_type": "stream",
     "text": [
      "9 of 20\r"
     ]
    },
    {
     "name": "stderr",
     "output_type": "stream",
     "text": [
      "C:\\Users\\Miguel\\Anaconda3\\lib\\site-packages\\ipykernel_launcher.py:28: RuntimeWarning: More than 20 figures have been opened. Figures created through the pyplot interface (`matplotlib.pyplot.figure`) are retained until explicitly closed and may consume too much memory. (To control this warning, see the rcParam `figure.max_open_warning`).\n"
     ]
    },
    {
     "data": {
      "application/vnd.jupyter.widget-view+json": {
       "model_id": "0e2de56d41404352b873a2ff6affaec5",
       "version_major": 2,
       "version_minor": 0
      },
      "text/plain": [
       "Canvas(toolbar=Toolbar(toolitems=[('Home', 'Reset original view', 'home', 'home'), ('Back', 'Back to previous …"
      ]
     },
     "metadata": {},
     "output_type": "display_data"
    },
    {
     "name": "stdout",
     "output_type": "stream",
     "text": [
      "10 of 20\r"
     ]
    },
    {
     "name": "stderr",
     "output_type": "stream",
     "text": [
      "C:\\Users\\Miguel\\Anaconda3\\lib\\site-packages\\ipykernel_launcher.py:28: RuntimeWarning: More than 20 figures have been opened. Figures created through the pyplot interface (`matplotlib.pyplot.figure`) are retained until explicitly closed and may consume too much memory. (To control this warning, see the rcParam `figure.max_open_warning`).\n"
     ]
    },
    {
     "data": {
      "application/vnd.jupyter.widget-view+json": {
       "model_id": "f48c3c0a6982431e803040a8d2463890",
       "version_major": 2,
       "version_minor": 0
      },
      "text/plain": [
       "Canvas(toolbar=Toolbar(toolitems=[('Home', 'Reset original view', 'home', 'home'), ('Back', 'Back to previous …"
      ]
     },
     "metadata": {},
     "output_type": "display_data"
    },
    {
     "name": "stdout",
     "output_type": "stream",
     "text": [
      "11 of 20\r"
     ]
    },
    {
     "name": "stderr",
     "output_type": "stream",
     "text": [
      "C:\\Users\\Miguel\\Anaconda3\\lib\\site-packages\\ipykernel_launcher.py:28: RuntimeWarning: More than 20 figures have been opened. Figures created through the pyplot interface (`matplotlib.pyplot.figure`) are retained until explicitly closed and may consume too much memory. (To control this warning, see the rcParam `figure.max_open_warning`).\n"
     ]
    },
    {
     "data": {
      "application/vnd.jupyter.widget-view+json": {
       "model_id": "cc6637f9c6094585834518f067c951ad",
       "version_major": 2,
       "version_minor": 0
      },
      "text/plain": [
       "Canvas(toolbar=Toolbar(toolitems=[('Home', 'Reset original view', 'home', 'home'), ('Back', 'Back to previous …"
      ]
     },
     "metadata": {},
     "output_type": "display_data"
    },
    {
     "name": "stdout",
     "output_type": "stream",
     "text": [
      "12 of 20\r"
     ]
    },
    {
     "name": "stderr",
     "output_type": "stream",
     "text": [
      "C:\\Users\\Miguel\\Anaconda3\\lib\\site-packages\\ipykernel_launcher.py:28: RuntimeWarning: More than 20 figures have been opened. Figures created through the pyplot interface (`matplotlib.pyplot.figure`) are retained until explicitly closed and may consume too much memory. (To control this warning, see the rcParam `figure.max_open_warning`).\n"
     ]
    },
    {
     "data": {
      "application/vnd.jupyter.widget-view+json": {
       "model_id": "16041cbf03de428195305c5552955f99",
       "version_major": 2,
       "version_minor": 0
      },
      "text/plain": [
       "Canvas(toolbar=Toolbar(toolitems=[('Home', 'Reset original view', 'home', 'home'), ('Back', 'Back to previous …"
      ]
     },
     "metadata": {},
     "output_type": "display_data"
    },
    {
     "name": "stdout",
     "output_type": "stream",
     "text": [
      "13 of 20\r"
     ]
    },
    {
     "name": "stderr",
     "output_type": "stream",
     "text": [
      "C:\\Users\\Miguel\\Anaconda3\\lib\\site-packages\\ipykernel_launcher.py:28: RuntimeWarning: More than 20 figures have been opened. Figures created through the pyplot interface (`matplotlib.pyplot.figure`) are retained until explicitly closed and may consume too much memory. (To control this warning, see the rcParam `figure.max_open_warning`).\n"
     ]
    },
    {
     "data": {
      "application/vnd.jupyter.widget-view+json": {
       "model_id": "66ad974e056d425f93124ce75a391a98",
       "version_major": 2,
       "version_minor": 0
      },
      "text/plain": [
       "Canvas(toolbar=Toolbar(toolitems=[('Home', 'Reset original view', 'home', 'home'), ('Back', 'Back to previous …"
      ]
     },
     "metadata": {},
     "output_type": "display_data"
    },
    {
     "name": "stdout",
     "output_type": "stream",
     "text": [
      "14 of 20\r"
     ]
    },
    {
     "name": "stderr",
     "output_type": "stream",
     "text": [
      "C:\\Users\\Miguel\\Anaconda3\\lib\\site-packages\\ipykernel_launcher.py:28: RuntimeWarning: More than 20 figures have been opened. Figures created through the pyplot interface (`matplotlib.pyplot.figure`) are retained until explicitly closed and may consume too much memory. (To control this warning, see the rcParam `figure.max_open_warning`).\n"
     ]
    },
    {
     "data": {
      "application/vnd.jupyter.widget-view+json": {
       "model_id": "6bc07968e9b34fa383c06c937c83fdb4",
       "version_major": 2,
       "version_minor": 0
      },
      "text/plain": [
       "Canvas(toolbar=Toolbar(toolitems=[('Home', 'Reset original view', 'home', 'home'), ('Back', 'Back to previous …"
      ]
     },
     "metadata": {},
     "output_type": "display_data"
    },
    {
     "name": "stdout",
     "output_type": "stream",
     "text": [
      "15 of 20\r"
     ]
    },
    {
     "name": "stderr",
     "output_type": "stream",
     "text": [
      "C:\\Users\\Miguel\\Anaconda3\\lib\\site-packages\\ipykernel_launcher.py:28: RuntimeWarning: More than 20 figures have been opened. Figures created through the pyplot interface (`matplotlib.pyplot.figure`) are retained until explicitly closed and may consume too much memory. (To control this warning, see the rcParam `figure.max_open_warning`).\n"
     ]
    },
    {
     "data": {
      "application/vnd.jupyter.widget-view+json": {
       "model_id": "9c7c20122f0347dbb5fde62170acf458",
       "version_major": 2,
       "version_minor": 0
      },
      "text/plain": [
       "Canvas(toolbar=Toolbar(toolitems=[('Home', 'Reset original view', 'home', 'home'), ('Back', 'Back to previous …"
      ]
     },
     "metadata": {},
     "output_type": "display_data"
    },
    {
     "name": "stdout",
     "output_type": "stream",
     "text": [
      "16 of 20\r"
     ]
    },
    {
     "name": "stderr",
     "output_type": "stream",
     "text": [
      "C:\\Users\\Miguel\\Anaconda3\\lib\\site-packages\\ipykernel_launcher.py:28: RuntimeWarning: More than 20 figures have been opened. Figures created through the pyplot interface (`matplotlib.pyplot.figure`) are retained until explicitly closed and may consume too much memory. (To control this warning, see the rcParam `figure.max_open_warning`).\n"
     ]
    },
    {
     "data": {
      "application/vnd.jupyter.widget-view+json": {
       "model_id": "f23b8ed23df148dea55535364bfa0b51",
       "version_major": 2,
       "version_minor": 0
      },
      "text/plain": [
       "Canvas(toolbar=Toolbar(toolitems=[('Home', 'Reset original view', 'home', 'home'), ('Back', 'Back to previous …"
      ]
     },
     "metadata": {},
     "output_type": "display_data"
    },
    {
     "name": "stdout",
     "output_type": "stream",
     "text": [
      "17 of 20\r"
     ]
    },
    {
     "name": "stderr",
     "output_type": "stream",
     "text": [
      "C:\\Users\\Miguel\\Anaconda3\\lib\\site-packages\\ipykernel_launcher.py:28: RuntimeWarning: More than 20 figures have been opened. Figures created through the pyplot interface (`matplotlib.pyplot.figure`) are retained until explicitly closed and may consume too much memory. (To control this warning, see the rcParam `figure.max_open_warning`).\n"
     ]
    },
    {
     "data": {
      "application/vnd.jupyter.widget-view+json": {
       "model_id": "4693b6b6f1674f2b9b8c72cddbd50b26",
       "version_major": 2,
       "version_minor": 0
      },
      "text/plain": [
       "Canvas(toolbar=Toolbar(toolitems=[('Home', 'Reset original view', 'home', 'home'), ('Back', 'Back to previous …"
      ]
     },
     "metadata": {},
     "output_type": "display_data"
    },
    {
     "name": "stdout",
     "output_type": "stream",
     "text": [
      "18 of 20\r"
     ]
    },
    {
     "name": "stderr",
     "output_type": "stream",
     "text": [
      "C:\\Users\\Miguel\\Anaconda3\\lib\\site-packages\\ipykernel_launcher.py:28: RuntimeWarning: More than 20 figures have been opened. Figures created through the pyplot interface (`matplotlib.pyplot.figure`) are retained until explicitly closed and may consume too much memory. (To control this warning, see the rcParam `figure.max_open_warning`).\n"
     ]
    },
    {
     "data": {
      "application/vnd.jupyter.widget-view+json": {
       "model_id": "cd973436d2794c09a87dc7437cd03747",
       "version_major": 2,
       "version_minor": 0
      },
      "text/plain": [
       "Canvas(toolbar=Toolbar(toolitems=[('Home', 'Reset original view', 'home', 'home'), ('Back', 'Back to previous …"
      ]
     },
     "metadata": {},
     "output_type": "display_data"
    },
    {
     "name": "stdout",
     "output_type": "stream",
     "text": [
      "19 of 20\r"
     ]
    },
    {
     "name": "stderr",
     "output_type": "stream",
     "text": [
      "C:\\Users\\Miguel\\Anaconda3\\lib\\site-packages\\ipykernel_launcher.py:28: RuntimeWarning: More than 20 figures have been opened. Figures created through the pyplot interface (`matplotlib.pyplot.figure`) are retained until explicitly closed and may consume too much memory. (To control this warning, see the rcParam `figure.max_open_warning`).\n"
     ]
    },
    {
     "data": {
      "application/vnd.jupyter.widget-view+json": {
       "model_id": "eeba929c97e54a02b378a7623f0a91ad",
       "version_major": 2,
       "version_minor": 0
      },
      "text/plain": [
       "Canvas(toolbar=Toolbar(toolitems=[('Home', 'Reset original view', 'home', 'home'), ('Back', 'Back to previous …"
      ]
     },
     "metadata": {},
     "output_type": "display_data"
    },
    {
     "name": "stdout",
     "output_type": "stream",
     "text": [
      "20 of 20\r"
     ]
    },
    {
     "name": "stderr",
     "output_type": "stream",
     "text": [
      "C:\\Users\\Miguel\\Anaconda3\\lib\\site-packages\\ipykernel_launcher.py:28: RuntimeWarning: More than 20 figures have been opened. Figures created through the pyplot interface (`matplotlib.pyplot.figure`) are retained until explicitly closed and may consume too much memory. (To control this warning, see the rcParam `figure.max_open_warning`).\n"
     ]
    },
    {
     "data": {
      "application/vnd.jupyter.widget-view+json": {
       "model_id": "6d50ac04f0814db587bf7b16c79ea213",
       "version_major": 2,
       "version_minor": 0
      },
      "text/plain": [
       "Canvas(toolbar=Toolbar(toolitems=[('Home', 'Reset original view', 'home', 'home'), ('Back', 'Back to previous …"
      ]
     },
     "metadata": {},
     "output_type": "display_data"
    },
    {
     "name": "stdout",
     "output_type": "stream",
     "text": [
      "1 of 20\r"
     ]
    },
    {
     "name": "stderr",
     "output_type": "stream",
     "text": [
      "C:\\Users\\Miguel\\Anaconda3\\lib\\site-packages\\ipykernel_launcher.py:28: RuntimeWarning: More than 20 figures have been opened. Figures created through the pyplot interface (`matplotlib.pyplot.figure`) are retained until explicitly closed and may consume too much memory. (To control this warning, see the rcParam `figure.max_open_warning`).\n"
     ]
    },
    {
     "data": {
      "application/vnd.jupyter.widget-view+json": {
       "model_id": "82757a58636c419bab00af9376783f39",
       "version_major": 2,
       "version_minor": 0
      },
      "text/plain": [
       "Canvas(toolbar=Toolbar(toolitems=[('Home', 'Reset original view', 'home', 'home'), ('Back', 'Back to previous …"
      ]
     },
     "metadata": {},
     "output_type": "display_data"
    },
    {
     "name": "stdout",
     "output_type": "stream",
     "text": [
      "2 of 20\r"
     ]
    },
    {
     "name": "stderr",
     "output_type": "stream",
     "text": [
      "C:\\Users\\Miguel\\Anaconda3\\lib\\site-packages\\ipykernel_launcher.py:28: RuntimeWarning: More than 20 figures have been opened. Figures created through the pyplot interface (`matplotlib.pyplot.figure`) are retained until explicitly closed and may consume too much memory. (To control this warning, see the rcParam `figure.max_open_warning`).\n"
     ]
    },
    {
     "data": {
      "application/vnd.jupyter.widget-view+json": {
       "model_id": "0da014cd95c045c89b011751583fe9ea",
       "version_major": 2,
       "version_minor": 0
      },
      "text/plain": [
       "Canvas(toolbar=Toolbar(toolitems=[('Home', 'Reset original view', 'home', 'home'), ('Back', 'Back to previous …"
      ]
     },
     "metadata": {},
     "output_type": "display_data"
    },
    {
     "name": "stdout",
     "output_type": "stream",
     "text": [
      "3 of 20\r"
     ]
    },
    {
     "name": "stderr",
     "output_type": "stream",
     "text": [
      "C:\\Users\\Miguel\\Anaconda3\\lib\\site-packages\\ipykernel_launcher.py:28: RuntimeWarning: More than 20 figures have been opened. Figures created through the pyplot interface (`matplotlib.pyplot.figure`) are retained until explicitly closed and may consume too much memory. (To control this warning, see the rcParam `figure.max_open_warning`).\n"
     ]
    },
    {
     "data": {
      "application/vnd.jupyter.widget-view+json": {
       "model_id": "f51ef23eac1148f5978b96fba6b3eff5",
       "version_major": 2,
       "version_minor": 0
      },
      "text/plain": [
       "Canvas(toolbar=Toolbar(toolitems=[('Home', 'Reset original view', 'home', 'home'), ('Back', 'Back to previous …"
      ]
     },
     "metadata": {},
     "output_type": "display_data"
    },
    {
     "name": "stdout",
     "output_type": "stream",
     "text": [
      "4 of 20\r"
     ]
    },
    {
     "name": "stderr",
     "output_type": "stream",
     "text": [
      "C:\\Users\\Miguel\\Anaconda3\\lib\\site-packages\\ipykernel_launcher.py:28: RuntimeWarning: More than 20 figures have been opened. Figures created through the pyplot interface (`matplotlib.pyplot.figure`) are retained until explicitly closed and may consume too much memory. (To control this warning, see the rcParam `figure.max_open_warning`).\n"
     ]
    },
    {
     "data": {
      "application/vnd.jupyter.widget-view+json": {
       "model_id": "e98c931b0ac5456b837fea4fd5706d71",
       "version_major": 2,
       "version_minor": 0
      },
      "text/plain": [
       "Canvas(toolbar=Toolbar(toolitems=[('Home', 'Reset original view', 'home', 'home'), ('Back', 'Back to previous …"
      ]
     },
     "metadata": {},
     "output_type": "display_data"
    },
    {
     "name": "stdout",
     "output_type": "stream",
     "text": [
      "5 of 20\r"
     ]
    },
    {
     "name": "stderr",
     "output_type": "stream",
     "text": [
      "C:\\Users\\Miguel\\Anaconda3\\lib\\site-packages\\ipykernel_launcher.py:28: RuntimeWarning: More than 20 figures have been opened. Figures created through the pyplot interface (`matplotlib.pyplot.figure`) are retained until explicitly closed and may consume too much memory. (To control this warning, see the rcParam `figure.max_open_warning`).\n"
     ]
    },
    {
     "data": {
      "application/vnd.jupyter.widget-view+json": {
       "model_id": "087d17604d9d493bb07dc919ecd1b420",
       "version_major": 2,
       "version_minor": 0
      },
      "text/plain": [
       "Canvas(toolbar=Toolbar(toolitems=[('Home', 'Reset original view', 'home', 'home'), ('Back', 'Back to previous …"
      ]
     },
     "metadata": {},
     "output_type": "display_data"
    },
    {
     "name": "stdout",
     "output_type": "stream",
     "text": [
      "6 of 20\r"
     ]
    },
    {
     "name": "stderr",
     "output_type": "stream",
     "text": [
      "C:\\Users\\Miguel\\Anaconda3\\lib\\site-packages\\ipykernel_launcher.py:28: RuntimeWarning: More than 20 figures have been opened. Figures created through the pyplot interface (`matplotlib.pyplot.figure`) are retained until explicitly closed and may consume too much memory. (To control this warning, see the rcParam `figure.max_open_warning`).\n"
     ]
    },
    {
     "data": {
      "application/vnd.jupyter.widget-view+json": {
       "model_id": "38249cdd3e5e442e90f773a73829c886",
       "version_major": 2,
       "version_minor": 0
      },
      "text/plain": [
       "Canvas(toolbar=Toolbar(toolitems=[('Home', 'Reset original view', 'home', 'home'), ('Back', 'Back to previous …"
      ]
     },
     "metadata": {},
     "output_type": "display_data"
    },
    {
     "name": "stdout",
     "output_type": "stream",
     "text": [
      "7 of 20\r"
     ]
    },
    {
     "name": "stderr",
     "output_type": "stream",
     "text": [
      "C:\\Users\\Miguel\\Anaconda3\\lib\\site-packages\\ipykernel_launcher.py:28: RuntimeWarning: More than 20 figures have been opened. Figures created through the pyplot interface (`matplotlib.pyplot.figure`) are retained until explicitly closed and may consume too much memory. (To control this warning, see the rcParam `figure.max_open_warning`).\n"
     ]
    },
    {
     "data": {
      "application/vnd.jupyter.widget-view+json": {
       "model_id": "6fd18cf3dacc472e9f1f25681770886f",
       "version_major": 2,
       "version_minor": 0
      },
      "text/plain": [
       "Canvas(toolbar=Toolbar(toolitems=[('Home', 'Reset original view', 'home', 'home'), ('Back', 'Back to previous …"
      ]
     },
     "metadata": {},
     "output_type": "display_data"
    },
    {
     "name": "stdout",
     "output_type": "stream",
     "text": [
      "8 of 20\r"
     ]
    },
    {
     "name": "stderr",
     "output_type": "stream",
     "text": [
      "C:\\Users\\Miguel\\Anaconda3\\lib\\site-packages\\ipykernel_launcher.py:28: RuntimeWarning: More than 20 figures have been opened. Figures created through the pyplot interface (`matplotlib.pyplot.figure`) are retained until explicitly closed and may consume too much memory. (To control this warning, see the rcParam `figure.max_open_warning`).\n"
     ]
    },
    {
     "data": {
      "application/vnd.jupyter.widget-view+json": {
       "model_id": "42a10b2283ef4827bf2cb818913b0f7a",
       "version_major": 2,
       "version_minor": 0
      },
      "text/plain": [
       "Canvas(toolbar=Toolbar(toolitems=[('Home', 'Reset original view', 'home', 'home'), ('Back', 'Back to previous …"
      ]
     },
     "metadata": {},
     "output_type": "display_data"
    },
    {
     "name": "stdout",
     "output_type": "stream",
     "text": [
      "9 of 20\r"
     ]
    },
    {
     "name": "stderr",
     "output_type": "stream",
     "text": [
      "C:\\Users\\Miguel\\Anaconda3\\lib\\site-packages\\ipykernel_launcher.py:28: RuntimeWarning: More than 20 figures have been opened. Figures created through the pyplot interface (`matplotlib.pyplot.figure`) are retained until explicitly closed and may consume too much memory. (To control this warning, see the rcParam `figure.max_open_warning`).\n"
     ]
    },
    {
     "data": {
      "application/vnd.jupyter.widget-view+json": {
       "model_id": "7b3c442173e44e16939027f5ed59b11d",
       "version_major": 2,
       "version_minor": 0
      },
      "text/plain": [
       "Canvas(toolbar=Toolbar(toolitems=[('Home', 'Reset original view', 'home', 'home'), ('Back', 'Back to previous …"
      ]
     },
     "metadata": {},
     "output_type": "display_data"
    },
    {
     "name": "stdout",
     "output_type": "stream",
     "text": [
      "10 of 20\r"
     ]
    },
    {
     "name": "stderr",
     "output_type": "stream",
     "text": [
      "C:\\Users\\Miguel\\Anaconda3\\lib\\site-packages\\ipykernel_launcher.py:28: RuntimeWarning: More than 20 figures have been opened. Figures created through the pyplot interface (`matplotlib.pyplot.figure`) are retained until explicitly closed and may consume too much memory. (To control this warning, see the rcParam `figure.max_open_warning`).\n"
     ]
    },
    {
     "data": {
      "application/vnd.jupyter.widget-view+json": {
       "model_id": "b810c6fa5241440cb32880050e7db582",
       "version_major": 2,
       "version_minor": 0
      },
      "text/plain": [
       "Canvas(toolbar=Toolbar(toolitems=[('Home', 'Reset original view', 'home', 'home'), ('Back', 'Back to previous …"
      ]
     },
     "metadata": {},
     "output_type": "display_data"
    },
    {
     "name": "stdout",
     "output_type": "stream",
     "text": [
      "11 of 20\r"
     ]
    },
    {
     "name": "stderr",
     "output_type": "stream",
     "text": [
      "C:\\Users\\Miguel\\Anaconda3\\lib\\site-packages\\ipykernel_launcher.py:28: RuntimeWarning: More than 20 figures have been opened. Figures created through the pyplot interface (`matplotlib.pyplot.figure`) are retained until explicitly closed and may consume too much memory. (To control this warning, see the rcParam `figure.max_open_warning`).\n"
     ]
    },
    {
     "data": {
      "application/vnd.jupyter.widget-view+json": {
       "model_id": "a245a0a3f6bc4476901e3e88839a73f4",
       "version_major": 2,
       "version_minor": 0
      },
      "text/plain": [
       "Canvas(toolbar=Toolbar(toolitems=[('Home', 'Reset original view', 'home', 'home'), ('Back', 'Back to previous …"
      ]
     },
     "metadata": {},
     "output_type": "display_data"
    },
    {
     "name": "stdout",
     "output_type": "stream",
     "text": [
      "12 of 20\r"
     ]
    },
    {
     "name": "stderr",
     "output_type": "stream",
     "text": [
      "C:\\Users\\Miguel\\Anaconda3\\lib\\site-packages\\ipykernel_launcher.py:28: RuntimeWarning: More than 20 figures have been opened. Figures created through the pyplot interface (`matplotlib.pyplot.figure`) are retained until explicitly closed and may consume too much memory. (To control this warning, see the rcParam `figure.max_open_warning`).\n"
     ]
    },
    {
     "data": {
      "application/vnd.jupyter.widget-view+json": {
       "model_id": "11ffd6bc1a0f4e5dacf379ade7959194",
       "version_major": 2,
       "version_minor": 0
      },
      "text/plain": [
       "Canvas(toolbar=Toolbar(toolitems=[('Home', 'Reset original view', 'home', 'home'), ('Back', 'Back to previous …"
      ]
     },
     "metadata": {},
     "output_type": "display_data"
    },
    {
     "name": "stdout",
     "output_type": "stream",
     "text": [
      "13 of 20\r"
     ]
    },
    {
     "name": "stderr",
     "output_type": "stream",
     "text": [
      "C:\\Users\\Miguel\\Anaconda3\\lib\\site-packages\\ipykernel_launcher.py:28: RuntimeWarning: More than 20 figures have been opened. Figures created through the pyplot interface (`matplotlib.pyplot.figure`) are retained until explicitly closed and may consume too much memory. (To control this warning, see the rcParam `figure.max_open_warning`).\n"
     ]
    },
    {
     "data": {
      "application/vnd.jupyter.widget-view+json": {
       "model_id": "de03d5b6b5de4f4891ddf28bc9f90eb4",
       "version_major": 2,
       "version_minor": 0
      },
      "text/plain": [
       "Canvas(toolbar=Toolbar(toolitems=[('Home', 'Reset original view', 'home', 'home'), ('Back', 'Back to previous …"
      ]
     },
     "metadata": {},
     "output_type": "display_data"
    },
    {
     "name": "stdout",
     "output_type": "stream",
     "text": [
      "14 of 20\r"
     ]
    },
    {
     "name": "stderr",
     "output_type": "stream",
     "text": [
      "C:\\Users\\Miguel\\Anaconda3\\lib\\site-packages\\ipykernel_launcher.py:28: RuntimeWarning: More than 20 figures have been opened. Figures created through the pyplot interface (`matplotlib.pyplot.figure`) are retained until explicitly closed and may consume too much memory. (To control this warning, see the rcParam `figure.max_open_warning`).\n"
     ]
    },
    {
     "data": {
      "application/vnd.jupyter.widget-view+json": {
       "model_id": "ed32fa4865dd4257bf143ab94a4cf134",
       "version_major": 2,
       "version_minor": 0
      },
      "text/plain": [
       "Canvas(toolbar=Toolbar(toolitems=[('Home', 'Reset original view', 'home', 'home'), ('Back', 'Back to previous …"
      ]
     },
     "metadata": {},
     "output_type": "display_data"
    },
    {
     "name": "stdout",
     "output_type": "stream",
     "text": [
      "15 of 20\r"
     ]
    },
    {
     "name": "stderr",
     "output_type": "stream",
     "text": [
      "C:\\Users\\Miguel\\Anaconda3\\lib\\site-packages\\ipykernel_launcher.py:28: RuntimeWarning: More than 20 figures have been opened. Figures created through the pyplot interface (`matplotlib.pyplot.figure`) are retained until explicitly closed and may consume too much memory. (To control this warning, see the rcParam `figure.max_open_warning`).\n"
     ]
    },
    {
     "data": {
      "application/vnd.jupyter.widget-view+json": {
       "model_id": "26c9b8fd68ae46f0aee4a62f9f75bb6e",
       "version_major": 2,
       "version_minor": 0
      },
      "text/plain": [
       "Canvas(toolbar=Toolbar(toolitems=[('Home', 'Reset original view', 'home', 'home'), ('Back', 'Back to previous …"
      ]
     },
     "metadata": {},
     "output_type": "display_data"
    },
    {
     "name": "stdout",
     "output_type": "stream",
     "text": [
      "16 of 20\r"
     ]
    },
    {
     "name": "stderr",
     "output_type": "stream",
     "text": [
      "C:\\Users\\Miguel\\Anaconda3\\lib\\site-packages\\ipykernel_launcher.py:28: RuntimeWarning: More than 20 figures have been opened. Figures created through the pyplot interface (`matplotlib.pyplot.figure`) are retained until explicitly closed and may consume too much memory. (To control this warning, see the rcParam `figure.max_open_warning`).\n"
     ]
    },
    {
     "data": {
      "application/vnd.jupyter.widget-view+json": {
       "model_id": "8a90ce34329d49e4ab90df8a611cdb29",
       "version_major": 2,
       "version_minor": 0
      },
      "text/plain": [
       "Canvas(toolbar=Toolbar(toolitems=[('Home', 'Reset original view', 'home', 'home'), ('Back', 'Back to previous …"
      ]
     },
     "metadata": {},
     "output_type": "display_data"
    },
    {
     "name": "stdout",
     "output_type": "stream",
     "text": [
      "17 of 20\r"
     ]
    },
    {
     "name": "stderr",
     "output_type": "stream",
     "text": [
      "C:\\Users\\Miguel\\Anaconda3\\lib\\site-packages\\ipykernel_launcher.py:28: RuntimeWarning: More than 20 figures have been opened. Figures created through the pyplot interface (`matplotlib.pyplot.figure`) are retained until explicitly closed and may consume too much memory. (To control this warning, see the rcParam `figure.max_open_warning`).\n"
     ]
    },
    {
     "data": {
      "application/vnd.jupyter.widget-view+json": {
       "model_id": "db777f27d02f44329603e6f8257b803a",
       "version_major": 2,
       "version_minor": 0
      },
      "text/plain": [
       "Canvas(toolbar=Toolbar(toolitems=[('Home', 'Reset original view', 'home', 'home'), ('Back', 'Back to previous …"
      ]
     },
     "metadata": {},
     "output_type": "display_data"
    },
    {
     "name": "stdout",
     "output_type": "stream",
     "text": [
      "18 of 20\r"
     ]
    },
    {
     "name": "stderr",
     "output_type": "stream",
     "text": [
      "C:\\Users\\Miguel\\Anaconda3\\lib\\site-packages\\ipykernel_launcher.py:28: RuntimeWarning: More than 20 figures have been opened. Figures created through the pyplot interface (`matplotlib.pyplot.figure`) are retained until explicitly closed and may consume too much memory. (To control this warning, see the rcParam `figure.max_open_warning`).\n"
     ]
    },
    {
     "data": {
      "application/vnd.jupyter.widget-view+json": {
       "model_id": "3b314cd945ba477485b09bf8ecf2e94d",
       "version_major": 2,
       "version_minor": 0
      },
      "text/plain": [
       "Canvas(toolbar=Toolbar(toolitems=[('Home', 'Reset original view', 'home', 'home'), ('Back', 'Back to previous …"
      ]
     },
     "metadata": {},
     "output_type": "display_data"
    },
    {
     "name": "stdout",
     "output_type": "stream",
     "text": [
      "19 of 20\r"
     ]
    },
    {
     "name": "stderr",
     "output_type": "stream",
     "text": [
      "C:\\Users\\Miguel\\Anaconda3\\lib\\site-packages\\ipykernel_launcher.py:28: RuntimeWarning: More than 20 figures have been opened. Figures created through the pyplot interface (`matplotlib.pyplot.figure`) are retained until explicitly closed and may consume too much memory. (To control this warning, see the rcParam `figure.max_open_warning`).\n"
     ]
    },
    {
     "data": {
      "application/vnd.jupyter.widget-view+json": {
       "model_id": "be433715dde44f7aa911dbbc190987a4",
       "version_major": 2,
       "version_minor": 0
      },
      "text/plain": [
       "Canvas(toolbar=Toolbar(toolitems=[('Home', 'Reset original view', 'home', 'home'), ('Back', 'Back to previous …"
      ]
     },
     "metadata": {},
     "output_type": "display_data"
    },
    {
     "name": "stdout",
     "output_type": "stream",
     "text": [
      "20 of 20\r"
     ]
    },
    {
     "name": "stderr",
     "output_type": "stream",
     "text": [
      "C:\\Users\\Miguel\\Anaconda3\\lib\\site-packages\\ipykernel_launcher.py:28: RuntimeWarning: More than 20 figures have been opened. Figures created through the pyplot interface (`matplotlib.pyplot.figure`) are retained until explicitly closed and may consume too much memory. (To control this warning, see the rcParam `figure.max_open_warning`).\n"
     ]
    },
    {
     "data": {
      "application/vnd.jupyter.widget-view+json": {
       "model_id": "1b017df436eb449191231d38dee3841e",
       "version_major": 2,
       "version_minor": 0
      },
      "text/plain": [
       "Canvas(toolbar=Toolbar(toolitems=[('Home', 'Reset original view', 'home', 'home'), ('Back', 'Back to previous …"
      ]
     },
     "metadata": {},
     "output_type": "display_data"
    },
    {
     "name": "stdout",
     "output_type": "stream",
     "text": [
      "1 of 20\r"
     ]
    },
    {
     "name": "stderr",
     "output_type": "stream",
     "text": [
      "C:\\Users\\Miguel\\Anaconda3\\lib\\site-packages\\ipykernel_launcher.py:28: RuntimeWarning: More than 20 figures have been opened. Figures created through the pyplot interface (`matplotlib.pyplot.figure`) are retained until explicitly closed and may consume too much memory. (To control this warning, see the rcParam `figure.max_open_warning`).\n"
     ]
    },
    {
     "data": {
      "application/vnd.jupyter.widget-view+json": {
       "model_id": "b21af99e78f04de6a6af37bb2bf37565",
       "version_major": 2,
       "version_minor": 0
      },
      "text/plain": [
       "Canvas(toolbar=Toolbar(toolitems=[('Home', 'Reset original view', 'home', 'home'), ('Back', 'Back to previous …"
      ]
     },
     "metadata": {},
     "output_type": "display_data"
    },
    {
     "name": "stdout",
     "output_type": "stream",
     "text": [
      "2 of 20\r"
     ]
    },
    {
     "name": "stderr",
     "output_type": "stream",
     "text": [
      "C:\\Users\\Miguel\\Anaconda3\\lib\\site-packages\\ipykernel_launcher.py:28: RuntimeWarning: More than 20 figures have been opened. Figures created through the pyplot interface (`matplotlib.pyplot.figure`) are retained until explicitly closed and may consume too much memory. (To control this warning, see the rcParam `figure.max_open_warning`).\n"
     ]
    },
    {
     "data": {
      "application/vnd.jupyter.widget-view+json": {
       "model_id": "54346b80b44848e19b074f6efd44a67b",
       "version_major": 2,
       "version_minor": 0
      },
      "text/plain": [
       "Canvas(toolbar=Toolbar(toolitems=[('Home', 'Reset original view', 'home', 'home'), ('Back', 'Back to previous …"
      ]
     },
     "metadata": {},
     "output_type": "display_data"
    },
    {
     "name": "stdout",
     "output_type": "stream",
     "text": [
      "3 of 20\r"
     ]
    },
    {
     "name": "stderr",
     "output_type": "stream",
     "text": [
      "C:\\Users\\Miguel\\Anaconda3\\lib\\site-packages\\ipykernel_launcher.py:28: RuntimeWarning: More than 20 figures have been opened. Figures created through the pyplot interface (`matplotlib.pyplot.figure`) are retained until explicitly closed and may consume too much memory. (To control this warning, see the rcParam `figure.max_open_warning`).\n"
     ]
    },
    {
     "data": {
      "application/vnd.jupyter.widget-view+json": {
       "model_id": "1ef51e6de8684ebfa10a03906b6f00dc",
       "version_major": 2,
       "version_minor": 0
      },
      "text/plain": [
       "Canvas(toolbar=Toolbar(toolitems=[('Home', 'Reset original view', 'home', 'home'), ('Back', 'Back to previous …"
      ]
     },
     "metadata": {},
     "output_type": "display_data"
    },
    {
     "name": "stdout",
     "output_type": "stream",
     "text": [
      "4 of 20\r"
     ]
    },
    {
     "name": "stderr",
     "output_type": "stream",
     "text": [
      "C:\\Users\\Miguel\\Anaconda3\\lib\\site-packages\\ipykernel_launcher.py:28: RuntimeWarning: More than 20 figures have been opened. Figures created through the pyplot interface (`matplotlib.pyplot.figure`) are retained until explicitly closed and may consume too much memory. (To control this warning, see the rcParam `figure.max_open_warning`).\n"
     ]
    },
    {
     "data": {
      "application/vnd.jupyter.widget-view+json": {
       "model_id": "0a9e5d049f57433b8d0c891ba2177b26",
       "version_major": 2,
       "version_minor": 0
      },
      "text/plain": [
       "Canvas(toolbar=Toolbar(toolitems=[('Home', 'Reset original view', 'home', 'home'), ('Back', 'Back to previous …"
      ]
     },
     "metadata": {},
     "output_type": "display_data"
    },
    {
     "name": "stdout",
     "output_type": "stream",
     "text": [
      "5 of 20\r"
     ]
    },
    {
     "name": "stderr",
     "output_type": "stream",
     "text": [
      "C:\\Users\\Miguel\\Anaconda3\\lib\\site-packages\\ipykernel_launcher.py:28: RuntimeWarning: More than 20 figures have been opened. Figures created through the pyplot interface (`matplotlib.pyplot.figure`) are retained until explicitly closed and may consume too much memory. (To control this warning, see the rcParam `figure.max_open_warning`).\n"
     ]
    },
    {
     "data": {
      "application/vnd.jupyter.widget-view+json": {
       "model_id": "9750f52a304a4ec5916133b8a4a53f7c",
       "version_major": 2,
       "version_minor": 0
      },
      "text/plain": [
       "Canvas(toolbar=Toolbar(toolitems=[('Home', 'Reset original view', 'home', 'home'), ('Back', 'Back to previous …"
      ]
     },
     "metadata": {},
     "output_type": "display_data"
    },
    {
     "name": "stdout",
     "output_type": "stream",
     "text": [
      "6 of 20\r"
     ]
    },
    {
     "name": "stderr",
     "output_type": "stream",
     "text": [
      "C:\\Users\\Miguel\\Anaconda3\\lib\\site-packages\\ipykernel_launcher.py:28: RuntimeWarning: More than 20 figures have been opened. Figures created through the pyplot interface (`matplotlib.pyplot.figure`) are retained until explicitly closed and may consume too much memory. (To control this warning, see the rcParam `figure.max_open_warning`).\n"
     ]
    },
    {
     "data": {
      "application/vnd.jupyter.widget-view+json": {
       "model_id": "09ac071d14ff49889609c32d9adce3c8",
       "version_major": 2,
       "version_minor": 0
      },
      "text/plain": [
       "Canvas(toolbar=Toolbar(toolitems=[('Home', 'Reset original view', 'home', 'home'), ('Back', 'Back to previous …"
      ]
     },
     "metadata": {},
     "output_type": "display_data"
    },
    {
     "name": "stdout",
     "output_type": "stream",
     "text": [
      "7 of 20\r"
     ]
    },
    {
     "name": "stderr",
     "output_type": "stream",
     "text": [
      "C:\\Users\\Miguel\\Anaconda3\\lib\\site-packages\\ipykernel_launcher.py:28: RuntimeWarning: More than 20 figures have been opened. Figures created through the pyplot interface (`matplotlib.pyplot.figure`) are retained until explicitly closed and may consume too much memory. (To control this warning, see the rcParam `figure.max_open_warning`).\n"
     ]
    },
    {
     "data": {
      "application/vnd.jupyter.widget-view+json": {
       "model_id": "a6c11915c750474d90f2fef01bbcf7a6",
       "version_major": 2,
       "version_minor": 0
      },
      "text/plain": [
       "Canvas(toolbar=Toolbar(toolitems=[('Home', 'Reset original view', 'home', 'home'), ('Back', 'Back to previous …"
      ]
     },
     "metadata": {},
     "output_type": "display_data"
    },
    {
     "name": "stdout",
     "output_type": "stream",
     "text": [
      "8 of 20\r"
     ]
    },
    {
     "name": "stderr",
     "output_type": "stream",
     "text": [
      "C:\\Users\\Miguel\\Anaconda3\\lib\\site-packages\\ipykernel_launcher.py:28: RuntimeWarning: More than 20 figures have been opened. Figures created through the pyplot interface (`matplotlib.pyplot.figure`) are retained until explicitly closed and may consume too much memory. (To control this warning, see the rcParam `figure.max_open_warning`).\n"
     ]
    },
    {
     "data": {
      "application/vnd.jupyter.widget-view+json": {
       "model_id": "0cda65ee15c5411da1318f07907e867a",
       "version_major": 2,
       "version_minor": 0
      },
      "text/plain": [
       "Canvas(toolbar=Toolbar(toolitems=[('Home', 'Reset original view', 'home', 'home'), ('Back', 'Back to previous …"
      ]
     },
     "metadata": {},
     "output_type": "display_data"
    },
    {
     "name": "stdout",
     "output_type": "stream",
     "text": [
      "9 of 20\r"
     ]
    },
    {
     "name": "stderr",
     "output_type": "stream",
     "text": [
      "C:\\Users\\Miguel\\Anaconda3\\lib\\site-packages\\ipykernel_launcher.py:28: RuntimeWarning: More than 20 figures have been opened. Figures created through the pyplot interface (`matplotlib.pyplot.figure`) are retained until explicitly closed and may consume too much memory. (To control this warning, see the rcParam `figure.max_open_warning`).\n"
     ]
    },
    {
     "data": {
      "application/vnd.jupyter.widget-view+json": {
       "model_id": "4e874425f4f34fa3878f44dfe0f40e13",
       "version_major": 2,
       "version_minor": 0
      },
      "text/plain": [
       "Canvas(toolbar=Toolbar(toolitems=[('Home', 'Reset original view', 'home', 'home'), ('Back', 'Back to previous …"
      ]
     },
     "metadata": {},
     "output_type": "display_data"
    },
    {
     "name": "stdout",
     "output_type": "stream",
     "text": [
      "10 of 20\r"
     ]
    },
    {
     "name": "stderr",
     "output_type": "stream",
     "text": [
      "C:\\Users\\Miguel\\Anaconda3\\lib\\site-packages\\ipykernel_launcher.py:28: RuntimeWarning: More than 20 figures have been opened. Figures created through the pyplot interface (`matplotlib.pyplot.figure`) are retained until explicitly closed and may consume too much memory. (To control this warning, see the rcParam `figure.max_open_warning`).\n"
     ]
    },
    {
     "data": {
      "application/vnd.jupyter.widget-view+json": {
       "model_id": "bd17794ef06b453ba9a94b86a8e56349",
       "version_major": 2,
       "version_minor": 0
      },
      "text/plain": [
       "Canvas(toolbar=Toolbar(toolitems=[('Home', 'Reset original view', 'home', 'home'), ('Back', 'Back to previous …"
      ]
     },
     "metadata": {},
     "output_type": "display_data"
    },
    {
     "name": "stdout",
     "output_type": "stream",
     "text": [
      "11 of 20\r"
     ]
    },
    {
     "name": "stderr",
     "output_type": "stream",
     "text": [
      "C:\\Users\\Miguel\\Anaconda3\\lib\\site-packages\\ipykernel_launcher.py:28: RuntimeWarning: More than 20 figures have been opened. Figures created through the pyplot interface (`matplotlib.pyplot.figure`) are retained until explicitly closed and may consume too much memory. (To control this warning, see the rcParam `figure.max_open_warning`).\n"
     ]
    },
    {
     "data": {
      "application/vnd.jupyter.widget-view+json": {
       "model_id": "d2729729dcdf421899c116d08b312aed",
       "version_major": 2,
       "version_minor": 0
      },
      "text/plain": [
       "Canvas(toolbar=Toolbar(toolitems=[('Home', 'Reset original view', 'home', 'home'), ('Back', 'Back to previous …"
      ]
     },
     "metadata": {},
     "output_type": "display_data"
    },
    {
     "name": "stdout",
     "output_type": "stream",
     "text": [
      "12 of 20\r"
     ]
    },
    {
     "name": "stderr",
     "output_type": "stream",
     "text": [
      "C:\\Users\\Miguel\\Anaconda3\\lib\\site-packages\\ipykernel_launcher.py:28: RuntimeWarning: More than 20 figures have been opened. Figures created through the pyplot interface (`matplotlib.pyplot.figure`) are retained until explicitly closed and may consume too much memory. (To control this warning, see the rcParam `figure.max_open_warning`).\n"
     ]
    },
    {
     "data": {
      "application/vnd.jupyter.widget-view+json": {
       "model_id": "1cffbcc461014f0e8b27f06e832d31df",
       "version_major": 2,
       "version_minor": 0
      },
      "text/plain": [
       "Canvas(toolbar=Toolbar(toolitems=[('Home', 'Reset original view', 'home', 'home'), ('Back', 'Back to previous …"
      ]
     },
     "metadata": {},
     "output_type": "display_data"
    },
    {
     "name": "stdout",
     "output_type": "stream",
     "text": [
      "13 of 20\r"
     ]
    },
    {
     "name": "stderr",
     "output_type": "stream",
     "text": [
      "C:\\Users\\Miguel\\Anaconda3\\lib\\site-packages\\ipykernel_launcher.py:28: RuntimeWarning: More than 20 figures have been opened. Figures created through the pyplot interface (`matplotlib.pyplot.figure`) are retained until explicitly closed and may consume too much memory. (To control this warning, see the rcParam `figure.max_open_warning`).\n"
     ]
    },
    {
     "data": {
      "application/vnd.jupyter.widget-view+json": {
       "model_id": "5698b5af260f41a3a2d2945de1c83834",
       "version_major": 2,
       "version_minor": 0
      },
      "text/plain": [
       "Canvas(toolbar=Toolbar(toolitems=[('Home', 'Reset original view', 'home', 'home'), ('Back', 'Back to previous …"
      ]
     },
     "metadata": {},
     "output_type": "display_data"
    },
    {
     "name": "stdout",
     "output_type": "stream",
     "text": [
      "14 of 20\r"
     ]
    },
    {
     "name": "stderr",
     "output_type": "stream",
     "text": [
      "C:\\Users\\Miguel\\Anaconda3\\lib\\site-packages\\ipykernel_launcher.py:28: RuntimeWarning: More than 20 figures have been opened. Figures created through the pyplot interface (`matplotlib.pyplot.figure`) are retained until explicitly closed and may consume too much memory. (To control this warning, see the rcParam `figure.max_open_warning`).\n"
     ]
    },
    {
     "data": {
      "application/vnd.jupyter.widget-view+json": {
       "model_id": "0e797f92656c4af0aee1dadebb153a2d",
       "version_major": 2,
       "version_minor": 0
      },
      "text/plain": [
       "Canvas(toolbar=Toolbar(toolitems=[('Home', 'Reset original view', 'home', 'home'), ('Back', 'Back to previous …"
      ]
     },
     "metadata": {},
     "output_type": "display_data"
    },
    {
     "name": "stdout",
     "output_type": "stream",
     "text": [
      "15 of 20\r"
     ]
    },
    {
     "name": "stderr",
     "output_type": "stream",
     "text": [
      "C:\\Users\\Miguel\\Anaconda3\\lib\\site-packages\\ipykernel_launcher.py:28: RuntimeWarning: More than 20 figures have been opened. Figures created through the pyplot interface (`matplotlib.pyplot.figure`) are retained until explicitly closed and may consume too much memory. (To control this warning, see the rcParam `figure.max_open_warning`).\n"
     ]
    },
    {
     "data": {
      "application/vnd.jupyter.widget-view+json": {
       "model_id": "d9386bf302224305af448881a8f626be",
       "version_major": 2,
       "version_minor": 0
      },
      "text/plain": [
       "Canvas(toolbar=Toolbar(toolitems=[('Home', 'Reset original view', 'home', 'home'), ('Back', 'Back to previous …"
      ]
     },
     "metadata": {},
     "output_type": "display_data"
    },
    {
     "name": "stdout",
     "output_type": "stream",
     "text": [
      "16 of 20\r"
     ]
    },
    {
     "name": "stderr",
     "output_type": "stream",
     "text": [
      "C:\\Users\\Miguel\\Anaconda3\\lib\\site-packages\\ipykernel_launcher.py:28: RuntimeWarning: More than 20 figures have been opened. Figures created through the pyplot interface (`matplotlib.pyplot.figure`) are retained until explicitly closed and may consume too much memory. (To control this warning, see the rcParam `figure.max_open_warning`).\n"
     ]
    },
    {
     "data": {
      "application/vnd.jupyter.widget-view+json": {
       "model_id": "8f0e565671e742f899b102b02781e39d",
       "version_major": 2,
       "version_minor": 0
      },
      "text/plain": [
       "Canvas(toolbar=Toolbar(toolitems=[('Home', 'Reset original view', 'home', 'home'), ('Back', 'Back to previous …"
      ]
     },
     "metadata": {},
     "output_type": "display_data"
    },
    {
     "name": "stdout",
     "output_type": "stream",
     "text": [
      "17 of 20\r"
     ]
    },
    {
     "name": "stderr",
     "output_type": "stream",
     "text": [
      "C:\\Users\\Miguel\\Anaconda3\\lib\\site-packages\\ipykernel_launcher.py:28: RuntimeWarning: More than 20 figures have been opened. Figures created through the pyplot interface (`matplotlib.pyplot.figure`) are retained until explicitly closed and may consume too much memory. (To control this warning, see the rcParam `figure.max_open_warning`).\n"
     ]
    },
    {
     "data": {
      "application/vnd.jupyter.widget-view+json": {
       "model_id": "c636d9b2240e43f4a07cc423ffd10027",
       "version_major": 2,
       "version_minor": 0
      },
      "text/plain": [
       "Canvas(toolbar=Toolbar(toolitems=[('Home', 'Reset original view', 'home', 'home'), ('Back', 'Back to previous …"
      ]
     },
     "metadata": {},
     "output_type": "display_data"
    },
    {
     "name": "stdout",
     "output_type": "stream",
     "text": [
      "18 of 20\r"
     ]
    },
    {
     "name": "stderr",
     "output_type": "stream",
     "text": [
      "C:\\Users\\Miguel\\Anaconda3\\lib\\site-packages\\ipykernel_launcher.py:28: RuntimeWarning: More than 20 figures have been opened. Figures created through the pyplot interface (`matplotlib.pyplot.figure`) are retained until explicitly closed and may consume too much memory. (To control this warning, see the rcParam `figure.max_open_warning`).\n"
     ]
    },
    {
     "data": {
      "application/vnd.jupyter.widget-view+json": {
       "model_id": "46d70a243171493e929d6c7db009bf5f",
       "version_major": 2,
       "version_minor": 0
      },
      "text/plain": [
       "Canvas(toolbar=Toolbar(toolitems=[('Home', 'Reset original view', 'home', 'home'), ('Back', 'Back to previous …"
      ]
     },
     "metadata": {},
     "output_type": "display_data"
    },
    {
     "name": "stdout",
     "output_type": "stream",
     "text": [
      "19 of 20\r"
     ]
    },
    {
     "name": "stderr",
     "output_type": "stream",
     "text": [
      "C:\\Users\\Miguel\\Anaconda3\\lib\\site-packages\\ipykernel_launcher.py:28: RuntimeWarning: More than 20 figures have been opened. Figures created through the pyplot interface (`matplotlib.pyplot.figure`) are retained until explicitly closed and may consume too much memory. (To control this warning, see the rcParam `figure.max_open_warning`).\n"
     ]
    },
    {
     "data": {
      "application/vnd.jupyter.widget-view+json": {
       "model_id": "bc39b3b888e94da588f9fd1171600295",
       "version_major": 2,
       "version_minor": 0
      },
      "text/plain": [
       "Canvas(toolbar=Toolbar(toolitems=[('Home', 'Reset original view', 'home', 'home'), ('Back', 'Back to previous …"
      ]
     },
     "metadata": {},
     "output_type": "display_data"
    },
    {
     "name": "stdout",
     "output_type": "stream",
     "text": [
      "20 of 20\r"
     ]
    },
    {
     "name": "stderr",
     "output_type": "stream",
     "text": [
      "C:\\Users\\Miguel\\Anaconda3\\lib\\site-packages\\ipykernel_launcher.py:28: RuntimeWarning: More than 20 figures have been opened. Figures created through the pyplot interface (`matplotlib.pyplot.figure`) are retained until explicitly closed and may consume too much memory. (To control this warning, see the rcParam `figure.max_open_warning`).\n"
     ]
    },
    {
     "data": {
      "application/vnd.jupyter.widget-view+json": {
       "model_id": "ecfc47bc4d064f9486a69f54f248af89",
       "version_major": 2,
       "version_minor": 0
      },
      "text/plain": [
       "Canvas(toolbar=Toolbar(toolitems=[('Home', 'Reset original view', 'home', 'home'), ('Back', 'Back to previous …"
      ]
     },
     "metadata": {},
     "output_type": "display_data"
    },
    {
     "name": "stdout",
     "output_type": "stream",
     "text": [
      "1 of 20\r"
     ]
    },
    {
     "name": "stderr",
     "output_type": "stream",
     "text": [
      "C:\\Users\\Miguel\\Anaconda3\\lib\\site-packages\\ipykernel_launcher.py:28: RuntimeWarning: More than 20 figures have been opened. Figures created through the pyplot interface (`matplotlib.pyplot.figure`) are retained until explicitly closed and may consume too much memory. (To control this warning, see the rcParam `figure.max_open_warning`).\n"
     ]
    },
    {
     "data": {
      "application/vnd.jupyter.widget-view+json": {
       "model_id": "56fba10f057a44ab81492440ecf397d4",
       "version_major": 2,
       "version_minor": 0
      },
      "text/plain": [
       "Canvas(toolbar=Toolbar(toolitems=[('Home', 'Reset original view', 'home', 'home'), ('Back', 'Back to previous …"
      ]
     },
     "metadata": {},
     "output_type": "display_data"
    },
    {
     "name": "stdout",
     "output_type": "stream",
     "text": [
      "2 of 20\r"
     ]
    },
    {
     "name": "stderr",
     "output_type": "stream",
     "text": [
      "C:\\Users\\Miguel\\Anaconda3\\lib\\site-packages\\ipykernel_launcher.py:28: RuntimeWarning: More than 20 figures have been opened. Figures created through the pyplot interface (`matplotlib.pyplot.figure`) are retained until explicitly closed and may consume too much memory. (To control this warning, see the rcParam `figure.max_open_warning`).\n"
     ]
    },
    {
     "data": {
      "application/vnd.jupyter.widget-view+json": {
       "model_id": "bbb81c723f03409aac58119187f6f9bd",
       "version_major": 2,
       "version_minor": 0
      },
      "text/plain": [
       "Canvas(toolbar=Toolbar(toolitems=[('Home', 'Reset original view', 'home', 'home'), ('Back', 'Back to previous …"
      ]
     },
     "metadata": {},
     "output_type": "display_data"
    },
    {
     "name": "stdout",
     "output_type": "stream",
     "text": [
      "3 of 20\r"
     ]
    },
    {
     "name": "stderr",
     "output_type": "stream",
     "text": [
      "C:\\Users\\Miguel\\Anaconda3\\lib\\site-packages\\ipykernel_launcher.py:28: RuntimeWarning: More than 20 figures have been opened. Figures created through the pyplot interface (`matplotlib.pyplot.figure`) are retained until explicitly closed and may consume too much memory. (To control this warning, see the rcParam `figure.max_open_warning`).\n"
     ]
    },
    {
     "data": {
      "application/vnd.jupyter.widget-view+json": {
       "model_id": "0cb003d899604836a413fd06e0013171",
       "version_major": 2,
       "version_minor": 0
      },
      "text/plain": [
       "Canvas(toolbar=Toolbar(toolitems=[('Home', 'Reset original view', 'home', 'home'), ('Back', 'Back to previous …"
      ]
     },
     "metadata": {},
     "output_type": "display_data"
    },
    {
     "name": "stdout",
     "output_type": "stream",
     "text": [
      "4 of 20\r"
     ]
    },
    {
     "name": "stderr",
     "output_type": "stream",
     "text": [
      "C:\\Users\\Miguel\\Anaconda3\\lib\\site-packages\\ipykernel_launcher.py:28: RuntimeWarning: More than 20 figures have been opened. Figures created through the pyplot interface (`matplotlib.pyplot.figure`) are retained until explicitly closed and may consume too much memory. (To control this warning, see the rcParam `figure.max_open_warning`).\n"
     ]
    },
    {
     "data": {
      "application/vnd.jupyter.widget-view+json": {
       "model_id": "0e26a25ffcfc41e0bfa263572006e595",
       "version_major": 2,
       "version_minor": 0
      },
      "text/plain": [
       "Canvas(toolbar=Toolbar(toolitems=[('Home', 'Reset original view', 'home', 'home'), ('Back', 'Back to previous …"
      ]
     },
     "metadata": {},
     "output_type": "display_data"
    },
    {
     "name": "stdout",
     "output_type": "stream",
     "text": [
      "5 of 20\r"
     ]
    },
    {
     "name": "stderr",
     "output_type": "stream",
     "text": [
      "C:\\Users\\Miguel\\Anaconda3\\lib\\site-packages\\ipykernel_launcher.py:28: RuntimeWarning: More than 20 figures have been opened. Figures created through the pyplot interface (`matplotlib.pyplot.figure`) are retained until explicitly closed and may consume too much memory. (To control this warning, see the rcParam `figure.max_open_warning`).\n"
     ]
    },
    {
     "data": {
      "application/vnd.jupyter.widget-view+json": {
       "model_id": "f6778b1d0f9a49e195ed7725c525bfcb",
       "version_major": 2,
       "version_minor": 0
      },
      "text/plain": [
       "Canvas(toolbar=Toolbar(toolitems=[('Home', 'Reset original view', 'home', 'home'), ('Back', 'Back to previous …"
      ]
     },
     "metadata": {},
     "output_type": "display_data"
    },
    {
     "name": "stdout",
     "output_type": "stream",
     "text": [
      "6 of 20\r"
     ]
    },
    {
     "name": "stderr",
     "output_type": "stream",
     "text": [
      "C:\\Users\\Miguel\\Anaconda3\\lib\\site-packages\\ipykernel_launcher.py:28: RuntimeWarning: More than 20 figures have been opened. Figures created through the pyplot interface (`matplotlib.pyplot.figure`) are retained until explicitly closed and may consume too much memory. (To control this warning, see the rcParam `figure.max_open_warning`).\n"
     ]
    },
    {
     "data": {
      "application/vnd.jupyter.widget-view+json": {
       "model_id": "fe565c1f501745719e26a453c371ac40",
       "version_major": 2,
       "version_minor": 0
      },
      "text/plain": [
       "Canvas(toolbar=Toolbar(toolitems=[('Home', 'Reset original view', 'home', 'home'), ('Back', 'Back to previous …"
      ]
     },
     "metadata": {},
     "output_type": "display_data"
    },
    {
     "name": "stdout",
     "output_type": "stream",
     "text": [
      "7 of 20\r"
     ]
    },
    {
     "name": "stderr",
     "output_type": "stream",
     "text": [
      "C:\\Users\\Miguel\\Anaconda3\\lib\\site-packages\\ipykernel_launcher.py:28: RuntimeWarning: More than 20 figures have been opened. Figures created through the pyplot interface (`matplotlib.pyplot.figure`) are retained until explicitly closed and may consume too much memory. (To control this warning, see the rcParam `figure.max_open_warning`).\n"
     ]
    },
    {
     "data": {
      "application/vnd.jupyter.widget-view+json": {
       "model_id": "3a9b5be667934fe7bb091fac88bf27c4",
       "version_major": 2,
       "version_minor": 0
      },
      "text/plain": [
       "Canvas(toolbar=Toolbar(toolitems=[('Home', 'Reset original view', 'home', 'home'), ('Back', 'Back to previous …"
      ]
     },
     "metadata": {},
     "output_type": "display_data"
    },
    {
     "name": "stdout",
     "output_type": "stream",
     "text": [
      "8 of 20\r"
     ]
    },
    {
     "name": "stderr",
     "output_type": "stream",
     "text": [
      "C:\\Users\\Miguel\\Anaconda3\\lib\\site-packages\\ipykernel_launcher.py:28: RuntimeWarning: More than 20 figures have been opened. Figures created through the pyplot interface (`matplotlib.pyplot.figure`) are retained until explicitly closed and may consume too much memory. (To control this warning, see the rcParam `figure.max_open_warning`).\n"
     ]
    },
    {
     "data": {
      "application/vnd.jupyter.widget-view+json": {
       "model_id": "559dfc71ac6e4752b3a1c8889c220b9f",
       "version_major": 2,
       "version_minor": 0
      },
      "text/plain": [
       "Canvas(toolbar=Toolbar(toolitems=[('Home', 'Reset original view', 'home', 'home'), ('Back', 'Back to previous …"
      ]
     },
     "metadata": {},
     "output_type": "display_data"
    },
    {
     "name": "stdout",
     "output_type": "stream",
     "text": [
      "9 of 20\r"
     ]
    },
    {
     "name": "stderr",
     "output_type": "stream",
     "text": [
      "C:\\Users\\Miguel\\Anaconda3\\lib\\site-packages\\ipykernel_launcher.py:28: RuntimeWarning: More than 20 figures have been opened. Figures created through the pyplot interface (`matplotlib.pyplot.figure`) are retained until explicitly closed and may consume too much memory. (To control this warning, see the rcParam `figure.max_open_warning`).\n"
     ]
    },
    {
     "data": {
      "application/vnd.jupyter.widget-view+json": {
       "model_id": "ab466a989ca147dcaf82cc2f3358bea9",
       "version_major": 2,
       "version_minor": 0
      },
      "text/plain": [
       "Canvas(toolbar=Toolbar(toolitems=[('Home', 'Reset original view', 'home', 'home'), ('Back', 'Back to previous …"
      ]
     },
     "metadata": {},
     "output_type": "display_data"
    },
    {
     "name": "stdout",
     "output_type": "stream",
     "text": [
      "10 of 20\r"
     ]
    },
    {
     "name": "stderr",
     "output_type": "stream",
     "text": [
      "C:\\Users\\Miguel\\Anaconda3\\lib\\site-packages\\ipykernel_launcher.py:28: RuntimeWarning: More than 20 figures have been opened. Figures created through the pyplot interface (`matplotlib.pyplot.figure`) are retained until explicitly closed and may consume too much memory. (To control this warning, see the rcParam `figure.max_open_warning`).\n"
     ]
    },
    {
     "data": {
      "application/vnd.jupyter.widget-view+json": {
       "model_id": "708fda515f7340efbb5b2511fb50efd5",
       "version_major": 2,
       "version_minor": 0
      },
      "text/plain": [
       "Canvas(toolbar=Toolbar(toolitems=[('Home', 'Reset original view', 'home', 'home'), ('Back', 'Back to previous …"
      ]
     },
     "metadata": {},
     "output_type": "display_data"
    },
    {
     "name": "stdout",
     "output_type": "stream",
     "text": [
      "11 of 20\r"
     ]
    },
    {
     "name": "stderr",
     "output_type": "stream",
     "text": [
      "C:\\Users\\Miguel\\Anaconda3\\lib\\site-packages\\ipykernel_launcher.py:28: RuntimeWarning: More than 20 figures have been opened. Figures created through the pyplot interface (`matplotlib.pyplot.figure`) are retained until explicitly closed and may consume too much memory. (To control this warning, see the rcParam `figure.max_open_warning`).\n"
     ]
    },
    {
     "data": {
      "application/vnd.jupyter.widget-view+json": {
       "model_id": "ea593be18b6d4349bf1e1b98262da6e8",
       "version_major": 2,
       "version_minor": 0
      },
      "text/plain": [
       "Canvas(toolbar=Toolbar(toolitems=[('Home', 'Reset original view', 'home', 'home'), ('Back', 'Back to previous …"
      ]
     },
     "metadata": {},
     "output_type": "display_data"
    },
    {
     "name": "stdout",
     "output_type": "stream",
     "text": [
      "12 of 20\r"
     ]
    },
    {
     "name": "stderr",
     "output_type": "stream",
     "text": [
      "C:\\Users\\Miguel\\Anaconda3\\lib\\site-packages\\ipykernel_launcher.py:28: RuntimeWarning: More than 20 figures have been opened. Figures created through the pyplot interface (`matplotlib.pyplot.figure`) are retained until explicitly closed and may consume too much memory. (To control this warning, see the rcParam `figure.max_open_warning`).\n"
     ]
    },
    {
     "data": {
      "application/vnd.jupyter.widget-view+json": {
       "model_id": "4176846023054feb9f1a3958455693c4",
       "version_major": 2,
       "version_minor": 0
      },
      "text/plain": [
       "Canvas(toolbar=Toolbar(toolitems=[('Home', 'Reset original view', 'home', 'home'), ('Back', 'Back to previous …"
      ]
     },
     "metadata": {},
     "output_type": "display_data"
    },
    {
     "name": "stdout",
     "output_type": "stream",
     "text": [
      "13 of 20\r"
     ]
    },
    {
     "name": "stderr",
     "output_type": "stream",
     "text": [
      "C:\\Users\\Miguel\\Anaconda3\\lib\\site-packages\\ipykernel_launcher.py:28: RuntimeWarning: More than 20 figures have been opened. Figures created through the pyplot interface (`matplotlib.pyplot.figure`) are retained until explicitly closed and may consume too much memory. (To control this warning, see the rcParam `figure.max_open_warning`).\n"
     ]
    },
    {
     "data": {
      "application/vnd.jupyter.widget-view+json": {
       "model_id": "51534cc00aed4b5395510b016ddcfbc0",
       "version_major": 2,
       "version_minor": 0
      },
      "text/plain": [
       "Canvas(toolbar=Toolbar(toolitems=[('Home', 'Reset original view', 'home', 'home'), ('Back', 'Back to previous …"
      ]
     },
     "metadata": {},
     "output_type": "display_data"
    },
    {
     "name": "stdout",
     "output_type": "stream",
     "text": [
      "14 of 20\r"
     ]
    },
    {
     "name": "stderr",
     "output_type": "stream",
     "text": [
      "C:\\Users\\Miguel\\Anaconda3\\lib\\site-packages\\ipykernel_launcher.py:28: RuntimeWarning: More than 20 figures have been opened. Figures created through the pyplot interface (`matplotlib.pyplot.figure`) are retained until explicitly closed and may consume too much memory. (To control this warning, see the rcParam `figure.max_open_warning`).\n"
     ]
    },
    {
     "data": {
      "application/vnd.jupyter.widget-view+json": {
       "model_id": "77760bb144b8499d9b365612f2a5578a",
       "version_major": 2,
       "version_minor": 0
      },
      "text/plain": [
       "Canvas(toolbar=Toolbar(toolitems=[('Home', 'Reset original view', 'home', 'home'), ('Back', 'Back to previous …"
      ]
     },
     "metadata": {},
     "output_type": "display_data"
    },
    {
     "name": "stdout",
     "output_type": "stream",
     "text": [
      "15 of 20\r"
     ]
    },
    {
     "name": "stderr",
     "output_type": "stream",
     "text": [
      "C:\\Users\\Miguel\\Anaconda3\\lib\\site-packages\\ipykernel_launcher.py:28: RuntimeWarning: More than 20 figures have been opened. Figures created through the pyplot interface (`matplotlib.pyplot.figure`) are retained until explicitly closed and may consume too much memory. (To control this warning, see the rcParam `figure.max_open_warning`).\n"
     ]
    },
    {
     "data": {
      "application/vnd.jupyter.widget-view+json": {
       "model_id": "2e997479a7ec49fd9aa8413d641ce4c6",
       "version_major": 2,
       "version_minor": 0
      },
      "text/plain": [
       "Canvas(toolbar=Toolbar(toolitems=[('Home', 'Reset original view', 'home', 'home'), ('Back', 'Back to previous …"
      ]
     },
     "metadata": {},
     "output_type": "display_data"
    },
    {
     "name": "stdout",
     "output_type": "stream",
     "text": [
      "16 of 20\r"
     ]
    },
    {
     "name": "stderr",
     "output_type": "stream",
     "text": [
      "C:\\Users\\Miguel\\Anaconda3\\lib\\site-packages\\ipykernel_launcher.py:28: RuntimeWarning: More than 20 figures have been opened. Figures created through the pyplot interface (`matplotlib.pyplot.figure`) are retained until explicitly closed and may consume too much memory. (To control this warning, see the rcParam `figure.max_open_warning`).\n"
     ]
    },
    {
     "data": {
      "application/vnd.jupyter.widget-view+json": {
       "model_id": "7a30e59ed6f94cae8dca4563e9c4637d",
       "version_major": 2,
       "version_minor": 0
      },
      "text/plain": [
       "Canvas(toolbar=Toolbar(toolitems=[('Home', 'Reset original view', 'home', 'home'), ('Back', 'Back to previous …"
      ]
     },
     "metadata": {},
     "output_type": "display_data"
    },
    {
     "name": "stdout",
     "output_type": "stream",
     "text": [
      "17 of 20\r"
     ]
    },
    {
     "name": "stderr",
     "output_type": "stream",
     "text": [
      "C:\\Users\\Miguel\\Anaconda3\\lib\\site-packages\\ipykernel_launcher.py:28: RuntimeWarning: More than 20 figures have been opened. Figures created through the pyplot interface (`matplotlib.pyplot.figure`) are retained until explicitly closed and may consume too much memory. (To control this warning, see the rcParam `figure.max_open_warning`).\n"
     ]
    },
    {
     "data": {
      "application/vnd.jupyter.widget-view+json": {
       "model_id": "b1214fc953434a43b53c217be4aba7c7",
       "version_major": 2,
       "version_minor": 0
      },
      "text/plain": [
       "Canvas(toolbar=Toolbar(toolitems=[('Home', 'Reset original view', 'home', 'home'), ('Back', 'Back to previous …"
      ]
     },
     "metadata": {},
     "output_type": "display_data"
    }
   ],
   "source": [
    "threshold = 1\n",
    "\n",
    "error_lists = []\n",
    "\n",
    "for j in range(len(data_lists)):\n",
    "    thresholds, errors = error_mv(data_lists[j][0], data_lists[j][1], data_lists[j][2], data_lists[j][3], threshold)\n",
    "    error_lists.append(errors)\n"
   ]
  },
  {
   "cell_type": "code",
   "execution_count": null,
   "metadata": {},
   "outputs": [],
   "source": [
    "mean_error_list = []\n",
    "\n",
    "subplots()\n",
    "\n",
    "for k in range(len(thresholds)):\n",
    "    mean_error = 0\n",
    "\n",
    "    for m in range(len(data_lists)):\n",
    "        mean_error += error_lists[m][k]\n",
    "        \n",
    "    mean_error_list.append(mean_error/len(data_lists))\n",
    "\n",
    "for m in range(len(data_lists)):\n",
    "    print(error_lists[m].index(min(error_lists[m])))\n",
    "    plot(thresholds, error_lists[m])\n",
    "    \n",
    "print(mean_error_list.index(min(mean_error_list)))\n",
    "    \n",
    "subplots()\n",
    "\n",
    "plot(thresholds, mean_error_list, \"x\")"
   ]
  },
  {
   "cell_type": "code",
   "execution_count": null,
   "metadata": {},
   "outputs": [],
   "source": [
    "min_error_threshold = thresholds[mean_error_list.index(min(mean_error_list))]\n",
    "print(min_error_threshold)\n",
    "\n",
    "parameters[0] = min_error_threshold"
   ]
  },
  {
   "cell_type": "markdown",
   "metadata": {},
   "source": [
    "### 7.1 Ridge minimum error"
   ]
  },
  {
   "cell_type": "code",
   "execution_count": 78,
   "metadata": {
    "scrolled": true
   },
   "outputs": [
    {
     "name": "stderr",
     "output_type": "stream",
     "text": [
      "C:\\Users\\Miguel\\Anaconda3\\lib\\site-packages\\sklearn\\linear_model\\ridge.py:187: LinAlgWarning: Ill-conditioned matrix (rcond=5.48361e-18): result may not be accurate.\n",
      "  overwrite_a=False)\n",
      "C:\\Users\\Miguel\\Anaconda3\\lib\\site-packages\\sklearn\\linear_model\\ridge.py:187: LinAlgWarning: Ill-conditioned matrix (rcond=3.19428e-19): result may not be accurate.\n",
      "  overwrite_a=False)\n",
      "C:\\Users\\Miguel\\Anaconda3\\lib\\site-packages\\sklearn\\linear_model\\ridge.py:187: LinAlgWarning: Ill-conditioned matrix (rcond=4.28521e-19): result may not be accurate.\n",
      "  overwrite_a=False)\n",
      "C:\\Users\\Miguel\\Anaconda3\\lib\\site-packages\\sklearn\\linear_model\\ridge.py:189: UserWarning: Singular matrix in solving dual problem. Using least-squares solution instead.\n",
      "  warnings.warn(\"Singular matrix in solving dual problem. Using \"\n",
      "C:\\Users\\Miguel\\Anaconda3\\lib\\site-packages\\sklearn\\linear_model\\ridge.py:189: UserWarning: Singular matrix in solving dual problem. Using least-squares solution instead.\n",
      "  warnings.warn(\"Singular matrix in solving dual problem. Using \"\n",
      "C:\\Users\\Miguel\\Anaconda3\\lib\\site-packages\\sklearn\\linear_model\\ridge.py:187: LinAlgWarning: Ill-conditioned matrix (rcond=2.92989e-18): result may not be accurate.\n",
      "  overwrite_a=False)\n"
     ]
    }
   ],
   "source": [
    "alpha = 20000000\n",
    "\n",
    "#print(len(data_lists))\n",
    "\n",
    "#for i in range(len(models_tested[2:])):\n",
    "error_lists = []\n",
    "for j in range(len(data_lists)):\n",
    "    #print(data_lists[j])\n",
    "    alphas, errors = error_rr(data_lists[j][0], data_lists[j][1], data_lists[j][2], data_lists[j][3], alpha)\n",
    "    error_lists.append(errors)\n",
    "    \n",
    "\n"
   ]
  },
  {
   "cell_type": "code",
   "execution_count": 79,
   "metadata": {
    "scrolled": true
   },
   "outputs": [
    {
     "name": "stderr",
     "output_type": "stream",
     "text": [
      "C:\\Users\\Miguel\\Anaconda3\\lib\\site-packages\\ipykernel_launcher.py:3: RuntimeWarning: More than 20 figures have been opened. Figures created through the pyplot interface (`matplotlib.pyplot.figure`) are retained until explicitly closed and may consume too much memory. (To control this warning, see the rcParam `figure.max_open_warning`).\n",
      "  This is separate from the ipykernel package so we can avoid doing imports until\n"
     ]
    },
    {
     "data": {
      "application/vnd.jupyter.widget-view+json": {
       "model_id": "e2d7c9426b2e4ea29bf396a6bf8eaa03",
       "version_major": 2,
       "version_minor": 0
      },
      "text/plain": [
       "Canvas(toolbar=Toolbar(toolitems=[('Home', 'Reset original view', 'home', 'home'), ('Back', 'Back to previous …"
      ]
     },
     "metadata": {},
     "output_type": "display_data"
    },
    {
     "name": "stdout",
     "output_type": "stream",
     "text": [
      "999\n",
      "999\n",
      "999\n",
      "709\n",
      "339\n",
      "36\n",
      "709\n"
     ]
    },
    {
     "name": "stderr",
     "output_type": "stream",
     "text": [
      "C:\\Users\\Miguel\\Anaconda3\\lib\\site-packages\\ipykernel_launcher.py:19: RuntimeWarning: More than 20 figures have been opened. Figures created through the pyplot interface (`matplotlib.pyplot.figure`) are retained until explicitly closed and may consume too much memory. (To control this warning, see the rcParam `figure.max_open_warning`).\n"
     ]
    },
    {
     "data": {
      "application/vnd.jupyter.widget-view+json": {
       "model_id": "34d18749ae744bc8b18dae30540039d1",
       "version_major": 2,
       "version_minor": 0
      },
      "text/plain": [
       "Canvas(toolbar=Toolbar(toolitems=[('Home', 'Reset original view', 'home', 'home'), ('Back', 'Back to previous …"
      ]
     },
     "metadata": {},
     "output_type": "display_data"
    },
    {
     "data": {
      "text/plain": [
       "[<matplotlib.lines.Line2D at 0x2a40cffae48>]"
      ]
     },
     "execution_count": 79,
     "metadata": {},
     "output_type": "execute_result"
    }
   ],
   "source": [
    "\n",
    "\n",
    "mean_error_list = []\n",
    "\n",
    "subplots()\n",
    "\n",
    "for k in range(len(alphas)):\n",
    "    mean_error = 0\n",
    "\n",
    "    for m in range(len(data_lists)):\n",
    "        mean_error += error_lists[m][k]\n",
    "        \n",
    "    mean_error_list.append(mean_error/len(data_lists))\n",
    "\n",
    "for m in range(len(data_lists)):\n",
    "    print(error_lists[m].index(min(error_lists[m])))\n",
    "    plot(alphas, error_lists[m])\n",
    "    \n",
    "print(mean_error_list.index(min(mean_error_list)))\n",
    "    \n",
    "subplots()\n",
    "\n",
    "plot(alphas, mean_error_list, \"x\")\n"
   ]
  },
  {
   "cell_type": "code",
   "execution_count": 126,
   "metadata": {},
   "outputs": [
    {
     "name": "stdout",
     "output_type": "stream",
     "text": [
      "60000\n"
     ]
    }
   ],
   "source": [
    "min_error_alpha = alphas[mean_error_list.index(min(mean_error_list))]\n",
    "print(min_error_alpha)\n",
    "\n",
    "parameters[2] = min_error_alpha\n"
   ]
  },
  {
   "cell_type": "markdown",
   "metadata": {},
   "source": [
    "### 7.2 PCA minimum error"
   ]
  },
  {
   "cell_type": "code",
   "execution_count": 81,
   "metadata": {
    "scrolled": true
   },
   "outputs": [],
   "source": [
    "pca_n_components = 100\n",
    "\n",
    "#print(len(data_lists))\n",
    "\n",
    "#for i in range(len(models_tested[2:])):\n",
    "error_lists = []\n",
    "for j in range(len(data_lists)):\n",
    "    #print(data_lists[j])\n",
    "    pca_n_components_list, errors = error_pca(data_lists[j][0], data_lists[j][1], data_lists[j][2], data_lists[j][3], pca_n_components)\n",
    "    error_lists.append(errors)\n",
    "    \n"
   ]
  },
  {
   "cell_type": "code",
   "execution_count": 82,
   "metadata": {},
   "outputs": [
    {
     "name": "stderr",
     "output_type": "stream",
     "text": [
      "C:\\Users\\Miguel\\Anaconda3\\lib\\site-packages\\ipykernel_launcher.py:3: RuntimeWarning: More than 20 figures have been opened. Figures created through the pyplot interface (`matplotlib.pyplot.figure`) are retained until explicitly closed and may consume too much memory. (To control this warning, see the rcParam `figure.max_open_warning`).\n",
      "  This is separate from the ipykernel package so we can avoid doing imports until\n"
     ]
    },
    {
     "data": {
      "application/vnd.jupyter.widget-view+json": {
       "model_id": "ff30ca6f5fb5404683c8e79f2e825ed3",
       "version_major": 2,
       "version_minor": 0
      },
      "text/plain": [
       "Canvas(toolbar=Toolbar(toolitems=[('Home', 'Reset original view', 'home', 'home'), ('Back', 'Back to previous …"
      ]
     },
     "metadata": {},
     "output_type": "display_data"
    },
    {
     "name": "stdout",
     "output_type": "stream",
     "text": [
      "6\n",
      "75\n",
      "28\n",
      "54\n",
      "97\n",
      "77\n",
      "23\n"
     ]
    },
    {
     "name": "stderr",
     "output_type": "stream",
     "text": [
      "C:\\Users\\Miguel\\Anaconda3\\lib\\site-packages\\ipykernel_launcher.py:19: RuntimeWarning: More than 20 figures have been opened. Figures created through the pyplot interface (`matplotlib.pyplot.figure`) are retained until explicitly closed and may consume too much memory. (To control this warning, see the rcParam `figure.max_open_warning`).\n"
     ]
    },
    {
     "data": {
      "application/vnd.jupyter.widget-view+json": {
       "model_id": "4676a93f6db747e1901817bc1c844278",
       "version_major": 2,
       "version_minor": 0
      },
      "text/plain": [
       "Canvas(toolbar=Toolbar(toolitems=[('Home', 'Reset original view', 'home', 'home'), ('Back', 'Back to previous …"
      ]
     },
     "metadata": {},
     "output_type": "display_data"
    },
    {
     "data": {
      "text/plain": [
       "[<matplotlib.lines.Line2D at 0x2a40d058f08>]"
      ]
     },
     "execution_count": 82,
     "metadata": {},
     "output_type": "execute_result"
    }
   ],
   "source": [
    "mean_error_list = []\n",
    "\n",
    "subplots()\n",
    "\n",
    "for k in range(len(pca_n_components_list)):\n",
    "    mean_error = 0\n",
    "\n",
    "    for m in range(len(data_lists)):\n",
    "        mean_error += error_lists[m][k]\n",
    "        \n",
    "    mean_error_list.append(mean_error/len(data_lists))\n",
    "\n",
    "for m in range(len(data_lists)):\n",
    "    print(error_lists[m].index(min(error_lists[m])))\n",
    "    plot(pca_n_components_list, error_lists[m])\n",
    "    \n",
    "print(mean_error_list.index(min(mean_error_list)))\n",
    "    \n",
    "subplots()\n",
    "\n",
    "plot(pca_n_components_list, mean_error_list, \"x\")"
   ]
  },
  {
   "cell_type": "code",
   "execution_count": 120,
   "metadata": {},
   "outputs": [
    {
     "name": "stdout",
     "output_type": "stream",
     "text": [
      "66\n"
     ]
    }
   ],
   "source": [
    "min_error_pca_n_components = pca_n_components_list[mean_error_list.index(min(mean_error_list))]\n",
    "print(min_error_pca_n_components)\n",
    "\n",
    "parameters[3] = min_error_pca_n_components\n"
   ]
  },
  {
   "cell_type": "markdown",
   "metadata": {},
   "source": [
    "### 7.3 PLS minimum error"
   ]
  },
  {
   "cell_type": "code",
   "execution_count": 123,
   "metadata": {
    "scrolled": false
   },
   "outputs": [],
   "source": [
    "n_components = 10\n",
    "\n",
    "error_lists = []\n",
    "for j in range(len(data_lists)):\n",
    "    #print(len(data_lists[j][0]))\n",
    "    #print(len(data_lists[j][1]))\n",
    "    n_components_list, errors = error_pls(data_lists[j][0], data_lists[j][1], data_lists[j][2],\n",
    "                                          data_lists[j][3], n_components)\n",
    "    error_lists.append(errors)\n",
    "    \n"
   ]
  },
  {
   "cell_type": "code",
   "execution_count": 124,
   "metadata": {},
   "outputs": [
    {
     "name": "stderr",
     "output_type": "stream",
     "text": [
      "C:\\Users\\Miguel\\Anaconda3\\lib\\site-packages\\ipykernel_launcher.py:3: RuntimeWarning: More than 20 figures have been opened. Figures created through the pyplot interface (`matplotlib.pyplot.figure`) are retained until explicitly closed and may consume too much memory. (To control this warning, see the rcParam `figure.max_open_warning`).\n",
      "  This is separate from the ipykernel package so we can avoid doing imports until\n"
     ]
    },
    {
     "data": {
      "application/vnd.jupyter.widget-view+json": {
       "model_id": "821010e25ed94c3a86b829d2a925d6a5",
       "version_major": 2,
       "version_minor": 0
      },
      "text/plain": [
       "Canvas(toolbar=Toolbar(toolitems=[('Home', 'Reset original view', 'home', 'home'), ('Back', 'Back to previous …"
      ]
     },
     "metadata": {},
     "output_type": "display_data"
    },
    {
     "name": "stdout",
     "output_type": "stream",
     "text": [
      "2\n",
      "4\n",
      "0\n",
      "3\n",
      "3\n",
      "2\n",
      "3\n"
     ]
    },
    {
     "name": "stderr",
     "output_type": "stream",
     "text": [
      "C:\\Users\\Miguel\\Anaconda3\\lib\\site-packages\\ipykernel_launcher.py:19: RuntimeWarning: More than 20 figures have been opened. Figures created through the pyplot interface (`matplotlib.pyplot.figure`) are retained until explicitly closed and may consume too much memory. (To control this warning, see the rcParam `figure.max_open_warning`).\n"
     ]
    },
    {
     "data": {
      "application/vnd.jupyter.widget-view+json": {
       "model_id": "a723450091c54ba1964a431ccd4c38b7",
       "version_major": 2,
       "version_minor": 0
      },
      "text/plain": [
       "Canvas(toolbar=Toolbar(toolitems=[('Home', 'Reset original view', 'home', 'home'), ('Back', 'Back to previous …"
      ]
     },
     "metadata": {},
     "output_type": "display_data"
    },
    {
     "data": {
      "text/plain": [
       "[<matplotlib.lines.Line2D at 0x2a40e4587c8>]"
      ]
     },
     "execution_count": 124,
     "metadata": {},
     "output_type": "execute_result"
    }
   ],
   "source": [
    "\n",
    "\n",
    "mean_error_list = []\n",
    "\n",
    "subplots()\n",
    "\n",
    "for k in range(len(n_components_list)):\n",
    "    mean_error = 0\n",
    "\n",
    "    for m in range(len(data_lists)):\n",
    "        mean_error += error_lists[m][k]\n",
    "        \n",
    "    mean_error_list.append(mean_error/len(data_lists))\n",
    "\n",
    "for m in range(len(data_lists)):\n",
    "    print(error_lists[m].index(min(error_lists[m])))\n",
    "    plot(n_components_list, error_lists[m])\n",
    "    \n",
    "print(mean_error_list.index(min(mean_error_list)))\n",
    "    \n",
    "subplots()\n",
    "\n",
    "plot(n_components_list, mean_error_list, \"x\")"
   ]
  },
  {
   "cell_type": "code",
   "execution_count": 125,
   "metadata": {},
   "outputs": [
    {
     "name": "stdout",
     "output_type": "stream",
     "text": [
      "5\n",
      "5\n"
     ]
    }
   ],
   "source": [
    "print(min_error_n_components)\n",
    "min_error_n_components = n_components_list[mean_error_list.index(min(mean_error_list))]\n",
    "print(min_error_n_components)\n",
    "\n",
    "parameters[4] = min_error_n_components"
   ]
  },
  {
   "cell_type": "markdown",
   "metadata": {},
   "source": [
    "### 7.4 Multilayer perceptron minimum error"
   ]
  },
  {
   "cell_type": "code",
   "execution_count": 90,
   "metadata": {
    "scrolled": true
   },
   "outputs": [
    {
     "name": "stderr",
     "output_type": "stream",
     "text": [
      "C:\\Users\\Miguel\\Anaconda3\\lib\\site-packages\\sklearn\\neural_network\\multilayer_perceptron.py:566: ConvergenceWarning: Stochastic Optimizer: Maximum iterations (200) reached and the optimization hasn't converged yet.\n",
      "  % self.max_iter, ConvergenceWarning)\n",
      "C:\\Users\\Miguel\\Anaconda3\\lib\\site-packages\\sklearn\\neural_network\\multilayer_perceptron.py:566: ConvergenceWarning: Stochastic Optimizer: Maximum iterations (200) reached and the optimization hasn't converged yet.\n",
      "  % self.max_iter, ConvergenceWarning)\n",
      "C:\\Users\\Miguel\\Anaconda3\\lib\\site-packages\\sklearn\\neural_network\\multilayer_perceptron.py:566: ConvergenceWarning: Stochastic Optimizer: Maximum iterations (200) reached and the optimization hasn't converged yet.\n",
      "  % self.max_iter, ConvergenceWarning)\n",
      "C:\\Users\\Miguel\\Anaconda3\\lib\\site-packages\\sklearn\\neural_network\\multilayer_perceptron.py:566: ConvergenceWarning: Stochastic Optimizer: Maximum iterations (200) reached and the optimization hasn't converged yet.\n",
      "  % self.max_iter, ConvergenceWarning)\n",
      "C:\\Users\\Miguel\\Anaconda3\\lib\\site-packages\\sklearn\\neural_network\\multilayer_perceptron.py:566: ConvergenceWarning: Stochastic Optimizer: Maximum iterations (200) reached and the optimization hasn't converged yet.\n",
      "  % self.max_iter, ConvergenceWarning)\n",
      "C:\\Users\\Miguel\\Anaconda3\\lib\\site-packages\\sklearn\\neural_network\\multilayer_perceptron.py:566: ConvergenceWarning: Stochastic Optimizer: Maximum iterations (200) reached and the optimization hasn't converged yet.\n",
      "  % self.max_iter, ConvergenceWarning)\n",
      "C:\\Users\\Miguel\\Anaconda3\\lib\\site-packages\\sklearn\\neural_network\\multilayer_perceptron.py:566: ConvergenceWarning: Stochastic Optimizer: Maximum iterations (200) reached and the optimization hasn't converged yet.\n",
      "  % self.max_iter, ConvergenceWarning)\n",
      "C:\\Users\\Miguel\\Anaconda3\\lib\\site-packages\\sklearn\\neural_network\\multilayer_perceptron.py:566: ConvergenceWarning: Stochastic Optimizer: Maximum iterations (200) reached and the optimization hasn't converged yet.\n",
      "  % self.max_iter, ConvergenceWarning)\n",
      "C:\\Users\\Miguel\\Anaconda3\\lib\\site-packages\\sklearn\\neural_network\\multilayer_perceptron.py:566: ConvergenceWarning: Stochastic Optimizer: Maximum iterations (200) reached and the optimization hasn't converged yet.\n",
      "  % self.max_iter, ConvergenceWarning)\n",
      "C:\\Users\\Miguel\\Anaconda3\\lib\\site-packages\\sklearn\\neural_network\\multilayer_perceptron.py:566: ConvergenceWarning: Stochastic Optimizer: Maximum iterations (200) reached and the optimization hasn't converged yet.\n",
      "  % self.max_iter, ConvergenceWarning)\n",
      "C:\\Users\\Miguel\\Anaconda3\\lib\\site-packages\\sklearn\\neural_network\\multilayer_perceptron.py:566: ConvergenceWarning: Stochastic Optimizer: Maximum iterations (200) reached and the optimization hasn't converged yet.\n",
      "  % self.max_iter, ConvergenceWarning)\n",
      "C:\\Users\\Miguel\\Anaconda3\\lib\\site-packages\\sklearn\\neural_network\\multilayer_perceptron.py:566: ConvergenceWarning: Stochastic Optimizer: Maximum iterations (200) reached and the optimization hasn't converged yet.\n",
      "  % self.max_iter, ConvergenceWarning)\n",
      "C:\\Users\\Miguel\\Anaconda3\\lib\\site-packages\\sklearn\\neural_network\\multilayer_perceptron.py:566: ConvergenceWarning: Stochastic Optimizer: Maximum iterations (200) reached and the optimization hasn't converged yet.\n",
      "  % self.max_iter, ConvergenceWarning)\n",
      "C:\\Users\\Miguel\\Anaconda3\\lib\\site-packages\\sklearn\\neural_network\\multilayer_perceptron.py:566: ConvergenceWarning: Stochastic Optimizer: Maximum iterations (200) reached and the optimization hasn't converged yet.\n",
      "  % self.max_iter, ConvergenceWarning)\n",
      "C:\\Users\\Miguel\\Anaconda3\\lib\\site-packages\\sklearn\\neural_network\\multilayer_perceptron.py:566: ConvergenceWarning: Stochastic Optimizer: Maximum iterations (200) reached and the optimization hasn't converged yet.\n",
      "  % self.max_iter, ConvergenceWarning)\n",
      "C:\\Users\\Miguel\\Anaconda3\\lib\\site-packages\\sklearn\\neural_network\\multilayer_perceptron.py:566: ConvergenceWarning: Stochastic Optimizer: Maximum iterations (200) reached and the optimization hasn't converged yet.\n",
      "  % self.max_iter, ConvergenceWarning)\n",
      "C:\\Users\\Miguel\\Anaconda3\\lib\\site-packages\\sklearn\\neural_network\\multilayer_perceptron.py:566: ConvergenceWarning: Stochastic Optimizer: Maximum iterations (200) reached and the optimization hasn't converged yet.\n",
      "  % self.max_iter, ConvergenceWarning)\n",
      "C:\\Users\\Miguel\\Anaconda3\\lib\\site-packages\\sklearn\\neural_network\\multilayer_perceptron.py:566: ConvergenceWarning: Stochastic Optimizer: Maximum iterations (200) reached and the optimization hasn't converged yet.\n",
      "  % self.max_iter, ConvergenceWarning)\n",
      "C:\\Users\\Miguel\\Anaconda3\\lib\\site-packages\\sklearn\\neural_network\\multilayer_perceptron.py:566: ConvergenceWarning: Stochastic Optimizer: Maximum iterations (200) reached and the optimization hasn't converged yet.\n",
      "  % self.max_iter, ConvergenceWarning)\n",
      "C:\\Users\\Miguel\\Anaconda3\\lib\\site-packages\\sklearn\\neural_network\\multilayer_perceptron.py:566: ConvergenceWarning: Stochastic Optimizer: Maximum iterations (200) reached and the optimization hasn't converged yet.\n",
      "  % self.max_iter, ConvergenceWarning)\n",
      "C:\\Users\\Miguel\\Anaconda3\\lib\\site-packages\\sklearn\\neural_network\\multilayer_perceptron.py:566: ConvergenceWarning: Stochastic Optimizer: Maximum iterations (200) reached and the optimization hasn't converged yet.\n",
      "  % self.max_iter, ConvergenceWarning)\n",
      "C:\\Users\\Miguel\\Anaconda3\\lib\\site-packages\\sklearn\\neural_network\\multilayer_perceptron.py:566: ConvergenceWarning: Stochastic Optimizer: Maximum iterations (200) reached and the optimization hasn't converged yet.\n",
      "  % self.max_iter, ConvergenceWarning)\n",
      "C:\\Users\\Miguel\\Anaconda3\\lib\\site-packages\\sklearn\\neural_network\\multilayer_perceptron.py:566: ConvergenceWarning: Stochastic Optimizer: Maximum iterations (200) reached and the optimization hasn't converged yet.\n",
      "  % self.max_iter, ConvergenceWarning)\n",
      "C:\\Users\\Miguel\\Anaconda3\\lib\\site-packages\\sklearn\\neural_network\\multilayer_perceptron.py:566: ConvergenceWarning: Stochastic Optimizer: Maximum iterations (200) reached and the optimization hasn't converged yet.\n",
      "  % self.max_iter, ConvergenceWarning)\n",
      "C:\\Users\\Miguel\\Anaconda3\\lib\\site-packages\\sklearn\\neural_network\\multilayer_perceptron.py:566: ConvergenceWarning: Stochastic Optimizer: Maximum iterations (200) reached and the optimization hasn't converged yet.\n",
      "  % self.max_iter, ConvergenceWarning)\n",
      "C:\\Users\\Miguel\\Anaconda3\\lib\\site-packages\\sklearn\\neural_network\\multilayer_perceptron.py:566: ConvergenceWarning: Stochastic Optimizer: Maximum iterations (200) reached and the optimization hasn't converged yet.\n",
      "  % self.max_iter, ConvergenceWarning)\n",
      "C:\\Users\\Miguel\\Anaconda3\\lib\\site-packages\\sklearn\\neural_network\\multilayer_perceptron.py:566: ConvergenceWarning: Stochastic Optimizer: Maximum iterations (200) reached and the optimization hasn't converged yet.\n",
      "  % self.max_iter, ConvergenceWarning)\n",
      "C:\\Users\\Miguel\\Anaconda3\\lib\\site-packages\\sklearn\\neural_network\\multilayer_perceptron.py:566: ConvergenceWarning: Stochastic Optimizer: Maximum iterations (200) reached and the optimization hasn't converged yet.\n",
      "  % self.max_iter, ConvergenceWarning)\n",
      "C:\\Users\\Miguel\\Anaconda3\\lib\\site-packages\\sklearn\\neural_network\\multilayer_perceptron.py:566: ConvergenceWarning: Stochastic Optimizer: Maximum iterations (200) reached and the optimization hasn't converged yet.\n",
      "  % self.max_iter, ConvergenceWarning)\n",
      "C:\\Users\\Miguel\\Anaconda3\\lib\\site-packages\\sklearn\\neural_network\\multilayer_perceptron.py:566: ConvergenceWarning: Stochastic Optimizer: Maximum iterations (200) reached and the optimization hasn't converged yet.\n",
      "  % self.max_iter, ConvergenceWarning)\n",
      "C:\\Users\\Miguel\\Anaconda3\\lib\\site-packages\\sklearn\\neural_network\\multilayer_perceptron.py:566: ConvergenceWarning: Stochastic Optimizer: Maximum iterations (200) reached and the optimization hasn't converged yet.\n",
      "  % self.max_iter, ConvergenceWarning)\n",
      "C:\\Users\\Miguel\\Anaconda3\\lib\\site-packages\\sklearn\\neural_network\\multilayer_perceptron.py:566: ConvergenceWarning: Stochastic Optimizer: Maximum iterations (200) reached and the optimization hasn't converged yet.\n",
      "  % self.max_iter, ConvergenceWarning)\n",
      "C:\\Users\\Miguel\\Anaconda3\\lib\\site-packages\\sklearn\\neural_network\\multilayer_perceptron.py:566: ConvergenceWarning: Stochastic Optimizer: Maximum iterations (200) reached and the optimization hasn't converged yet.\n",
      "  % self.max_iter, ConvergenceWarning)\n"
     ]
    },
    {
     "name": "stderr",
     "output_type": "stream",
     "text": [
      "C:\\Users\\Miguel\\Anaconda3\\lib\\site-packages\\sklearn\\neural_network\\multilayer_perceptron.py:566: ConvergenceWarning: Stochastic Optimizer: Maximum iterations (200) reached and the optimization hasn't converged yet.\n",
      "  % self.max_iter, ConvergenceWarning)\n",
      "C:\\Users\\Miguel\\Anaconda3\\lib\\site-packages\\sklearn\\neural_network\\multilayer_perceptron.py:566: ConvergenceWarning: Stochastic Optimizer: Maximum iterations (200) reached and the optimization hasn't converged yet.\n",
      "  % self.max_iter, ConvergenceWarning)\n",
      "C:\\Users\\Miguel\\Anaconda3\\lib\\site-packages\\sklearn\\neural_network\\multilayer_perceptron.py:566: ConvergenceWarning: Stochastic Optimizer: Maximum iterations (200) reached and the optimization hasn't converged yet.\n",
      "  % self.max_iter, ConvergenceWarning)\n",
      "C:\\Users\\Miguel\\Anaconda3\\lib\\site-packages\\sklearn\\neural_network\\multilayer_perceptron.py:566: ConvergenceWarning: Stochastic Optimizer: Maximum iterations (200) reached and the optimization hasn't converged yet.\n",
      "  % self.max_iter, ConvergenceWarning)\n",
      "C:\\Users\\Miguel\\Anaconda3\\lib\\site-packages\\sklearn\\neural_network\\multilayer_perceptron.py:566: ConvergenceWarning: Stochastic Optimizer: Maximum iterations (200) reached and the optimization hasn't converged yet.\n",
      "  % self.max_iter, ConvergenceWarning)\n",
      "C:\\Users\\Miguel\\Anaconda3\\lib\\site-packages\\sklearn\\neural_network\\multilayer_perceptron.py:566: ConvergenceWarning: Stochastic Optimizer: Maximum iterations (200) reached and the optimization hasn't converged yet.\n",
      "  % self.max_iter, ConvergenceWarning)\n",
      "C:\\Users\\Miguel\\Anaconda3\\lib\\site-packages\\sklearn\\neural_network\\multilayer_perceptron.py:566: ConvergenceWarning: Stochastic Optimizer: Maximum iterations (200) reached and the optimization hasn't converged yet.\n",
      "  % self.max_iter, ConvergenceWarning)\n",
      "C:\\Users\\Miguel\\Anaconda3\\lib\\site-packages\\sklearn\\neural_network\\multilayer_perceptron.py:566: ConvergenceWarning: Stochastic Optimizer: Maximum iterations (200) reached and the optimization hasn't converged yet.\n",
      "  % self.max_iter, ConvergenceWarning)\n",
      "C:\\Users\\Miguel\\Anaconda3\\lib\\site-packages\\sklearn\\neural_network\\multilayer_perceptron.py:566: ConvergenceWarning: Stochastic Optimizer: Maximum iterations (200) reached and the optimization hasn't converged yet.\n",
      "  % self.max_iter, ConvergenceWarning)\n",
      "C:\\Users\\Miguel\\Anaconda3\\lib\\site-packages\\sklearn\\neural_network\\multilayer_perceptron.py:566: ConvergenceWarning: Stochastic Optimizer: Maximum iterations (200) reached and the optimization hasn't converged yet.\n",
      "  % self.max_iter, ConvergenceWarning)\n",
      "C:\\Users\\Miguel\\Anaconda3\\lib\\site-packages\\sklearn\\neural_network\\multilayer_perceptron.py:566: ConvergenceWarning: Stochastic Optimizer: Maximum iterations (200) reached and the optimization hasn't converged yet.\n",
      "  % self.max_iter, ConvergenceWarning)\n",
      "C:\\Users\\Miguel\\Anaconda3\\lib\\site-packages\\sklearn\\neural_network\\multilayer_perceptron.py:566: ConvergenceWarning: Stochastic Optimizer: Maximum iterations (200) reached and the optimization hasn't converged yet.\n",
      "  % self.max_iter, ConvergenceWarning)\n",
      "C:\\Users\\Miguel\\Anaconda3\\lib\\site-packages\\sklearn\\neural_network\\multilayer_perceptron.py:566: ConvergenceWarning: Stochastic Optimizer: Maximum iterations (200) reached and the optimization hasn't converged yet.\n",
      "  % self.max_iter, ConvergenceWarning)\n",
      "C:\\Users\\Miguel\\Anaconda3\\lib\\site-packages\\sklearn\\neural_network\\multilayer_perceptron.py:566: ConvergenceWarning: Stochastic Optimizer: Maximum iterations (200) reached and the optimization hasn't converged yet.\n",
      "  % self.max_iter, ConvergenceWarning)\n",
      "C:\\Users\\Miguel\\Anaconda3\\lib\\site-packages\\sklearn\\neural_network\\multilayer_perceptron.py:566: ConvergenceWarning: Stochastic Optimizer: Maximum iterations (200) reached and the optimization hasn't converged yet.\n",
      "  % self.max_iter, ConvergenceWarning)\n",
      "C:\\Users\\Miguel\\Anaconda3\\lib\\site-packages\\sklearn\\neural_network\\multilayer_perceptron.py:566: ConvergenceWarning: Stochastic Optimizer: Maximum iterations (200) reached and the optimization hasn't converged yet.\n",
      "  % self.max_iter, ConvergenceWarning)\n",
      "C:\\Users\\Miguel\\Anaconda3\\lib\\site-packages\\sklearn\\neural_network\\multilayer_perceptron.py:566: ConvergenceWarning: Stochastic Optimizer: Maximum iterations (200) reached and the optimization hasn't converged yet.\n",
      "  % self.max_iter, ConvergenceWarning)\n",
      "C:\\Users\\Miguel\\Anaconda3\\lib\\site-packages\\sklearn\\neural_network\\multilayer_perceptron.py:566: ConvergenceWarning: Stochastic Optimizer: Maximum iterations (200) reached and the optimization hasn't converged yet.\n",
      "  % self.max_iter, ConvergenceWarning)\n",
      "C:\\Users\\Miguel\\Anaconda3\\lib\\site-packages\\sklearn\\neural_network\\multilayer_perceptron.py:566: ConvergenceWarning: Stochastic Optimizer: Maximum iterations (200) reached and the optimization hasn't converged yet.\n",
      "  % self.max_iter, ConvergenceWarning)\n",
      "C:\\Users\\Miguel\\Anaconda3\\lib\\site-packages\\sklearn\\neural_network\\multilayer_perceptron.py:566: ConvergenceWarning: Stochastic Optimizer: Maximum iterations (200) reached and the optimization hasn't converged yet.\n",
      "  % self.max_iter, ConvergenceWarning)\n",
      "C:\\Users\\Miguel\\Anaconda3\\lib\\site-packages\\sklearn\\neural_network\\multilayer_perceptron.py:566: ConvergenceWarning: Stochastic Optimizer: Maximum iterations (200) reached and the optimization hasn't converged yet.\n",
      "  % self.max_iter, ConvergenceWarning)\n",
      "C:\\Users\\Miguel\\Anaconda3\\lib\\site-packages\\sklearn\\neural_network\\multilayer_perceptron.py:566: ConvergenceWarning: Stochastic Optimizer: Maximum iterations (200) reached and the optimization hasn't converged yet.\n",
      "  % self.max_iter, ConvergenceWarning)\n",
      "C:\\Users\\Miguel\\Anaconda3\\lib\\site-packages\\sklearn\\neural_network\\multilayer_perceptron.py:566: ConvergenceWarning: Stochastic Optimizer: Maximum iterations (200) reached and the optimization hasn't converged yet.\n",
      "  % self.max_iter, ConvergenceWarning)\n",
      "C:\\Users\\Miguel\\Anaconda3\\lib\\site-packages\\sklearn\\neural_network\\multilayer_perceptron.py:566: ConvergenceWarning: Stochastic Optimizer: Maximum iterations (200) reached and the optimization hasn't converged yet.\n",
      "  % self.max_iter, ConvergenceWarning)\n",
      "C:\\Users\\Miguel\\Anaconda3\\lib\\site-packages\\sklearn\\neural_network\\multilayer_perceptron.py:566: ConvergenceWarning: Stochastic Optimizer: Maximum iterations (200) reached and the optimization hasn't converged yet.\n",
      "  % self.max_iter, ConvergenceWarning)\n",
      "C:\\Users\\Miguel\\Anaconda3\\lib\\site-packages\\sklearn\\neural_network\\multilayer_perceptron.py:566: ConvergenceWarning: Stochastic Optimizer: Maximum iterations (200) reached and the optimization hasn't converged yet.\n",
      "  % self.max_iter, ConvergenceWarning)\n",
      "C:\\Users\\Miguel\\Anaconda3\\lib\\site-packages\\sklearn\\neural_network\\multilayer_perceptron.py:566: ConvergenceWarning: Stochastic Optimizer: Maximum iterations (200) reached and the optimization hasn't converged yet.\n",
      "  % self.max_iter, ConvergenceWarning)\n",
      "C:\\Users\\Miguel\\Anaconda3\\lib\\site-packages\\sklearn\\neural_network\\multilayer_perceptron.py:566: ConvergenceWarning: Stochastic Optimizer: Maximum iterations (200) reached and the optimization hasn't converged yet.\n",
      "  % self.max_iter, ConvergenceWarning)\n",
      "C:\\Users\\Miguel\\Anaconda3\\lib\\site-packages\\sklearn\\neural_network\\multilayer_perceptron.py:566: ConvergenceWarning: Stochastic Optimizer: Maximum iterations (200) reached and the optimization hasn't converged yet.\n",
      "  % self.max_iter, ConvergenceWarning)\n",
      "C:\\Users\\Miguel\\Anaconda3\\lib\\site-packages\\sklearn\\neural_network\\multilayer_perceptron.py:566: ConvergenceWarning: Stochastic Optimizer: Maximum iterations (200) reached and the optimization hasn't converged yet.\n",
      "  % self.max_iter, ConvergenceWarning)\n",
      "C:\\Users\\Miguel\\Anaconda3\\lib\\site-packages\\sklearn\\neural_network\\multilayer_perceptron.py:566: ConvergenceWarning: Stochastic Optimizer: Maximum iterations (200) reached and the optimization hasn't converged yet.\n",
      "  % self.max_iter, ConvergenceWarning)\n",
      "C:\\Users\\Miguel\\Anaconda3\\lib\\site-packages\\sklearn\\neural_network\\multilayer_perceptron.py:566: ConvergenceWarning: Stochastic Optimizer: Maximum iterations (200) reached and the optimization hasn't converged yet.\n",
      "  % self.max_iter, ConvergenceWarning)\n",
      "C:\\Users\\Miguel\\Anaconda3\\lib\\site-packages\\sklearn\\neural_network\\multilayer_perceptron.py:566: ConvergenceWarning: Stochastic Optimizer: Maximum iterations (200) reached and the optimization hasn't converged yet.\n",
      "  % self.max_iter, ConvergenceWarning)\n"
     ]
    },
    {
     "name": "stderr",
     "output_type": "stream",
     "text": [
      "C:\\Users\\Miguel\\Anaconda3\\lib\\site-packages\\sklearn\\neural_network\\multilayer_perceptron.py:566: ConvergenceWarning: Stochastic Optimizer: Maximum iterations (200) reached and the optimization hasn't converged yet.\n",
      "  % self.max_iter, ConvergenceWarning)\n",
      "C:\\Users\\Miguel\\Anaconda3\\lib\\site-packages\\sklearn\\neural_network\\multilayer_perceptron.py:566: ConvergenceWarning: Stochastic Optimizer: Maximum iterations (200) reached and the optimization hasn't converged yet.\n",
      "  % self.max_iter, ConvergenceWarning)\n",
      "C:\\Users\\Miguel\\Anaconda3\\lib\\site-packages\\sklearn\\neural_network\\multilayer_perceptron.py:566: ConvergenceWarning: Stochastic Optimizer: Maximum iterations (200) reached and the optimization hasn't converged yet.\n",
      "  % self.max_iter, ConvergenceWarning)\n",
      "C:\\Users\\Miguel\\Anaconda3\\lib\\site-packages\\sklearn\\neural_network\\multilayer_perceptron.py:566: ConvergenceWarning: Stochastic Optimizer: Maximum iterations (200) reached and the optimization hasn't converged yet.\n",
      "  % self.max_iter, ConvergenceWarning)\n",
      "C:\\Users\\Miguel\\Anaconda3\\lib\\site-packages\\sklearn\\neural_network\\multilayer_perceptron.py:566: ConvergenceWarning: Stochastic Optimizer: Maximum iterations (200) reached and the optimization hasn't converged yet.\n",
      "  % self.max_iter, ConvergenceWarning)\n",
      "C:\\Users\\Miguel\\Anaconda3\\lib\\site-packages\\sklearn\\neural_network\\multilayer_perceptron.py:566: ConvergenceWarning: Stochastic Optimizer: Maximum iterations (200) reached and the optimization hasn't converged yet.\n",
      "  % self.max_iter, ConvergenceWarning)\n",
      "C:\\Users\\Miguel\\Anaconda3\\lib\\site-packages\\sklearn\\neural_network\\multilayer_perceptron.py:566: ConvergenceWarning: Stochastic Optimizer: Maximum iterations (200) reached and the optimization hasn't converged yet.\n",
      "  % self.max_iter, ConvergenceWarning)\n",
      "C:\\Users\\Miguel\\Anaconda3\\lib\\site-packages\\sklearn\\neural_network\\multilayer_perceptron.py:566: ConvergenceWarning: Stochastic Optimizer: Maximum iterations (200) reached and the optimization hasn't converged yet.\n",
      "  % self.max_iter, ConvergenceWarning)\n",
      "C:\\Users\\Miguel\\Anaconda3\\lib\\site-packages\\sklearn\\neural_network\\multilayer_perceptron.py:566: ConvergenceWarning: Stochastic Optimizer: Maximum iterations (200) reached and the optimization hasn't converged yet.\n",
      "  % self.max_iter, ConvergenceWarning)\n",
      "C:\\Users\\Miguel\\Anaconda3\\lib\\site-packages\\sklearn\\neural_network\\multilayer_perceptron.py:566: ConvergenceWarning: Stochastic Optimizer: Maximum iterations (200) reached and the optimization hasn't converged yet.\n",
      "  % self.max_iter, ConvergenceWarning)\n",
      "C:\\Users\\Miguel\\Anaconda3\\lib\\site-packages\\sklearn\\neural_network\\multilayer_perceptron.py:566: ConvergenceWarning: Stochastic Optimizer: Maximum iterations (200) reached and the optimization hasn't converged yet.\n",
      "  % self.max_iter, ConvergenceWarning)\n",
      "C:\\Users\\Miguel\\Anaconda3\\lib\\site-packages\\sklearn\\neural_network\\multilayer_perceptron.py:566: ConvergenceWarning: Stochastic Optimizer: Maximum iterations (200) reached and the optimization hasn't converged yet.\n",
      "  % self.max_iter, ConvergenceWarning)\n",
      "C:\\Users\\Miguel\\Anaconda3\\lib\\site-packages\\sklearn\\neural_network\\multilayer_perceptron.py:566: ConvergenceWarning: Stochastic Optimizer: Maximum iterations (200) reached and the optimization hasn't converged yet.\n",
      "  % self.max_iter, ConvergenceWarning)\n",
      "C:\\Users\\Miguel\\Anaconda3\\lib\\site-packages\\sklearn\\neural_network\\multilayer_perceptron.py:566: ConvergenceWarning: Stochastic Optimizer: Maximum iterations (200) reached and the optimization hasn't converged yet.\n",
      "  % self.max_iter, ConvergenceWarning)\n",
      "C:\\Users\\Miguel\\Anaconda3\\lib\\site-packages\\sklearn\\neural_network\\multilayer_perceptron.py:566: ConvergenceWarning: Stochastic Optimizer: Maximum iterations (200) reached and the optimization hasn't converged yet.\n",
      "  % self.max_iter, ConvergenceWarning)\n",
      "C:\\Users\\Miguel\\Anaconda3\\lib\\site-packages\\sklearn\\neural_network\\multilayer_perceptron.py:566: ConvergenceWarning: Stochastic Optimizer: Maximum iterations (200) reached and the optimization hasn't converged yet.\n",
      "  % self.max_iter, ConvergenceWarning)\n",
      "C:\\Users\\Miguel\\Anaconda3\\lib\\site-packages\\sklearn\\neural_network\\multilayer_perceptron.py:566: ConvergenceWarning: Stochastic Optimizer: Maximum iterations (200) reached and the optimization hasn't converged yet.\n",
      "  % self.max_iter, ConvergenceWarning)\n",
      "C:\\Users\\Miguel\\Anaconda3\\lib\\site-packages\\sklearn\\neural_network\\multilayer_perceptron.py:566: ConvergenceWarning: Stochastic Optimizer: Maximum iterations (200) reached and the optimization hasn't converged yet.\n",
      "  % self.max_iter, ConvergenceWarning)\n",
      "C:\\Users\\Miguel\\Anaconda3\\lib\\site-packages\\sklearn\\neural_network\\multilayer_perceptron.py:566: ConvergenceWarning: Stochastic Optimizer: Maximum iterations (200) reached and the optimization hasn't converged yet.\n",
      "  % self.max_iter, ConvergenceWarning)\n",
      "C:\\Users\\Miguel\\Anaconda3\\lib\\site-packages\\sklearn\\neural_network\\multilayer_perceptron.py:566: ConvergenceWarning: Stochastic Optimizer: Maximum iterations (200) reached and the optimization hasn't converged yet.\n",
      "  % self.max_iter, ConvergenceWarning)\n",
      "C:\\Users\\Miguel\\Anaconda3\\lib\\site-packages\\sklearn\\neural_network\\multilayer_perceptron.py:566: ConvergenceWarning: Stochastic Optimizer: Maximum iterations (200) reached and the optimization hasn't converged yet.\n",
      "  % self.max_iter, ConvergenceWarning)\n",
      "C:\\Users\\Miguel\\Anaconda3\\lib\\site-packages\\sklearn\\neural_network\\multilayer_perceptron.py:566: ConvergenceWarning: Stochastic Optimizer: Maximum iterations (200) reached and the optimization hasn't converged yet.\n",
      "  % self.max_iter, ConvergenceWarning)\n",
      "C:\\Users\\Miguel\\Anaconda3\\lib\\site-packages\\sklearn\\neural_network\\multilayer_perceptron.py:566: ConvergenceWarning: Stochastic Optimizer: Maximum iterations (200) reached and the optimization hasn't converged yet.\n",
      "  % self.max_iter, ConvergenceWarning)\n",
      "C:\\Users\\Miguel\\Anaconda3\\lib\\site-packages\\sklearn\\neural_network\\multilayer_perceptron.py:566: ConvergenceWarning: Stochastic Optimizer: Maximum iterations (200) reached and the optimization hasn't converged yet.\n",
      "  % self.max_iter, ConvergenceWarning)\n",
      "C:\\Users\\Miguel\\Anaconda3\\lib\\site-packages\\sklearn\\neural_network\\multilayer_perceptron.py:566: ConvergenceWarning: Stochastic Optimizer: Maximum iterations (200) reached and the optimization hasn't converged yet.\n",
      "  % self.max_iter, ConvergenceWarning)\n",
      "C:\\Users\\Miguel\\Anaconda3\\lib\\site-packages\\sklearn\\neural_network\\multilayer_perceptron.py:566: ConvergenceWarning: Stochastic Optimizer: Maximum iterations (200) reached and the optimization hasn't converged yet.\n",
      "  % self.max_iter, ConvergenceWarning)\n",
      "C:\\Users\\Miguel\\Anaconda3\\lib\\site-packages\\sklearn\\neural_network\\multilayer_perceptron.py:566: ConvergenceWarning: Stochastic Optimizer: Maximum iterations (200) reached and the optimization hasn't converged yet.\n",
      "  % self.max_iter, ConvergenceWarning)\n",
      "C:\\Users\\Miguel\\Anaconda3\\lib\\site-packages\\sklearn\\neural_network\\multilayer_perceptron.py:566: ConvergenceWarning: Stochastic Optimizer: Maximum iterations (200) reached and the optimization hasn't converged yet.\n",
      "  % self.max_iter, ConvergenceWarning)\n",
      "C:\\Users\\Miguel\\Anaconda3\\lib\\site-packages\\sklearn\\neural_network\\multilayer_perceptron.py:566: ConvergenceWarning: Stochastic Optimizer: Maximum iterations (200) reached and the optimization hasn't converged yet.\n",
      "  % self.max_iter, ConvergenceWarning)\n",
      "C:\\Users\\Miguel\\Anaconda3\\lib\\site-packages\\sklearn\\neural_network\\multilayer_perceptron.py:566: ConvergenceWarning: Stochastic Optimizer: Maximum iterations (200) reached and the optimization hasn't converged yet.\n",
      "  % self.max_iter, ConvergenceWarning)\n",
      "C:\\Users\\Miguel\\Anaconda3\\lib\\site-packages\\sklearn\\neural_network\\multilayer_perceptron.py:566: ConvergenceWarning: Stochastic Optimizer: Maximum iterations (200) reached and the optimization hasn't converged yet.\n",
      "  % self.max_iter, ConvergenceWarning)\n",
      "C:\\Users\\Miguel\\Anaconda3\\lib\\site-packages\\sklearn\\neural_network\\multilayer_perceptron.py:566: ConvergenceWarning: Stochastic Optimizer: Maximum iterations (200) reached and the optimization hasn't converged yet.\n",
      "  % self.max_iter, ConvergenceWarning)\n",
      "C:\\Users\\Miguel\\Anaconda3\\lib\\site-packages\\sklearn\\neural_network\\multilayer_perceptron.py:566: ConvergenceWarning: Stochastic Optimizer: Maximum iterations (200) reached and the optimization hasn't converged yet.\n",
      "  % self.max_iter, ConvergenceWarning)\n"
     ]
    },
    {
     "name": "stderr",
     "output_type": "stream",
     "text": [
      "C:\\Users\\Miguel\\Anaconda3\\lib\\site-packages\\sklearn\\neural_network\\multilayer_perceptron.py:566: ConvergenceWarning: Stochastic Optimizer: Maximum iterations (200) reached and the optimization hasn't converged yet.\n",
      "  % self.max_iter, ConvergenceWarning)\n",
      "C:\\Users\\Miguel\\Anaconda3\\lib\\site-packages\\sklearn\\neural_network\\multilayer_perceptron.py:566: ConvergenceWarning: Stochastic Optimizer: Maximum iterations (200) reached and the optimization hasn't converged yet.\n",
      "  % self.max_iter, ConvergenceWarning)\n",
      "C:\\Users\\Miguel\\Anaconda3\\lib\\site-packages\\sklearn\\neural_network\\multilayer_perceptron.py:566: ConvergenceWarning: Stochastic Optimizer: Maximum iterations (200) reached and the optimization hasn't converged yet.\n",
      "  % self.max_iter, ConvergenceWarning)\n",
      "C:\\Users\\Miguel\\Anaconda3\\lib\\site-packages\\sklearn\\neural_network\\multilayer_perceptron.py:566: ConvergenceWarning: Stochastic Optimizer: Maximum iterations (200) reached and the optimization hasn't converged yet.\n",
      "  % self.max_iter, ConvergenceWarning)\n",
      "C:\\Users\\Miguel\\Anaconda3\\lib\\site-packages\\sklearn\\neural_network\\multilayer_perceptron.py:566: ConvergenceWarning: Stochastic Optimizer: Maximum iterations (200) reached and the optimization hasn't converged yet.\n",
      "  % self.max_iter, ConvergenceWarning)\n",
      "C:\\Users\\Miguel\\Anaconda3\\lib\\site-packages\\sklearn\\neural_network\\multilayer_perceptron.py:566: ConvergenceWarning: Stochastic Optimizer: Maximum iterations (200) reached and the optimization hasn't converged yet.\n",
      "  % self.max_iter, ConvergenceWarning)\n",
      "C:\\Users\\Miguel\\Anaconda3\\lib\\site-packages\\sklearn\\neural_network\\multilayer_perceptron.py:566: ConvergenceWarning: Stochastic Optimizer: Maximum iterations (200) reached and the optimization hasn't converged yet.\n",
      "  % self.max_iter, ConvergenceWarning)\n",
      "C:\\Users\\Miguel\\Anaconda3\\lib\\site-packages\\sklearn\\neural_network\\multilayer_perceptron.py:566: ConvergenceWarning: Stochastic Optimizer: Maximum iterations (200) reached and the optimization hasn't converged yet.\n",
      "  % self.max_iter, ConvergenceWarning)\n",
      "C:\\Users\\Miguel\\Anaconda3\\lib\\site-packages\\sklearn\\neural_network\\multilayer_perceptron.py:566: ConvergenceWarning: Stochastic Optimizer: Maximum iterations (200) reached and the optimization hasn't converged yet.\n",
      "  % self.max_iter, ConvergenceWarning)\n",
      "C:\\Users\\Miguel\\Anaconda3\\lib\\site-packages\\sklearn\\neural_network\\multilayer_perceptron.py:566: ConvergenceWarning: Stochastic Optimizer: Maximum iterations (200) reached and the optimization hasn't converged yet.\n",
      "  % self.max_iter, ConvergenceWarning)\n",
      "C:\\Users\\Miguel\\Anaconda3\\lib\\site-packages\\sklearn\\neural_network\\multilayer_perceptron.py:566: ConvergenceWarning: Stochastic Optimizer: Maximum iterations (200) reached and the optimization hasn't converged yet.\n",
      "  % self.max_iter, ConvergenceWarning)\n",
      "C:\\Users\\Miguel\\Anaconda3\\lib\\site-packages\\sklearn\\neural_network\\multilayer_perceptron.py:566: ConvergenceWarning: Stochastic Optimizer: Maximum iterations (200) reached and the optimization hasn't converged yet.\n",
      "  % self.max_iter, ConvergenceWarning)\n",
      "C:\\Users\\Miguel\\Anaconda3\\lib\\site-packages\\sklearn\\neural_network\\multilayer_perceptron.py:566: ConvergenceWarning: Stochastic Optimizer: Maximum iterations (200) reached and the optimization hasn't converged yet.\n",
      "  % self.max_iter, ConvergenceWarning)\n",
      "C:\\Users\\Miguel\\Anaconda3\\lib\\site-packages\\sklearn\\neural_network\\multilayer_perceptron.py:566: ConvergenceWarning: Stochastic Optimizer: Maximum iterations (200) reached and the optimization hasn't converged yet.\n",
      "  % self.max_iter, ConvergenceWarning)\n",
      "C:\\Users\\Miguel\\Anaconda3\\lib\\site-packages\\sklearn\\neural_network\\multilayer_perceptron.py:566: ConvergenceWarning: Stochastic Optimizer: Maximum iterations (200) reached and the optimization hasn't converged yet.\n",
      "  % self.max_iter, ConvergenceWarning)\n",
      "C:\\Users\\Miguel\\Anaconda3\\lib\\site-packages\\sklearn\\neural_network\\multilayer_perceptron.py:566: ConvergenceWarning: Stochastic Optimizer: Maximum iterations (200) reached and the optimization hasn't converged yet.\n",
      "  % self.max_iter, ConvergenceWarning)\n",
      "C:\\Users\\Miguel\\Anaconda3\\lib\\site-packages\\sklearn\\neural_network\\multilayer_perceptron.py:566: ConvergenceWarning: Stochastic Optimizer: Maximum iterations (200) reached and the optimization hasn't converged yet.\n",
      "  % self.max_iter, ConvergenceWarning)\n",
      "C:\\Users\\Miguel\\Anaconda3\\lib\\site-packages\\sklearn\\neural_network\\multilayer_perceptron.py:566: ConvergenceWarning: Stochastic Optimizer: Maximum iterations (200) reached and the optimization hasn't converged yet.\n",
      "  % self.max_iter, ConvergenceWarning)\n",
      "C:\\Users\\Miguel\\Anaconda3\\lib\\site-packages\\sklearn\\neural_network\\multilayer_perceptron.py:566: ConvergenceWarning: Stochastic Optimizer: Maximum iterations (200) reached and the optimization hasn't converged yet.\n",
      "  % self.max_iter, ConvergenceWarning)\n",
      "C:\\Users\\Miguel\\Anaconda3\\lib\\site-packages\\sklearn\\neural_network\\multilayer_perceptron.py:566: ConvergenceWarning: Stochastic Optimizer: Maximum iterations (200) reached and the optimization hasn't converged yet.\n",
      "  % self.max_iter, ConvergenceWarning)\n",
      "C:\\Users\\Miguel\\Anaconda3\\lib\\site-packages\\sklearn\\neural_network\\multilayer_perceptron.py:566: ConvergenceWarning: Stochastic Optimizer: Maximum iterations (200) reached and the optimization hasn't converged yet.\n",
      "  % self.max_iter, ConvergenceWarning)\n",
      "C:\\Users\\Miguel\\Anaconda3\\lib\\site-packages\\sklearn\\neural_network\\multilayer_perceptron.py:566: ConvergenceWarning: Stochastic Optimizer: Maximum iterations (200) reached and the optimization hasn't converged yet.\n",
      "  % self.max_iter, ConvergenceWarning)\n",
      "C:\\Users\\Miguel\\Anaconda3\\lib\\site-packages\\sklearn\\neural_network\\multilayer_perceptron.py:566: ConvergenceWarning: Stochastic Optimizer: Maximum iterations (200) reached and the optimization hasn't converged yet.\n",
      "  % self.max_iter, ConvergenceWarning)\n",
      "C:\\Users\\Miguel\\Anaconda3\\lib\\site-packages\\sklearn\\neural_network\\multilayer_perceptron.py:566: ConvergenceWarning: Stochastic Optimizer: Maximum iterations (200) reached and the optimization hasn't converged yet.\n",
      "  % self.max_iter, ConvergenceWarning)\n",
      "C:\\Users\\Miguel\\Anaconda3\\lib\\site-packages\\sklearn\\neural_network\\multilayer_perceptron.py:566: ConvergenceWarning: Stochastic Optimizer: Maximum iterations (200) reached and the optimization hasn't converged yet.\n",
      "  % self.max_iter, ConvergenceWarning)\n",
      "C:\\Users\\Miguel\\Anaconda3\\lib\\site-packages\\sklearn\\neural_network\\multilayer_perceptron.py:566: ConvergenceWarning: Stochastic Optimizer: Maximum iterations (200) reached and the optimization hasn't converged yet.\n",
      "  % self.max_iter, ConvergenceWarning)\n",
      "C:\\Users\\Miguel\\Anaconda3\\lib\\site-packages\\sklearn\\neural_network\\multilayer_perceptron.py:566: ConvergenceWarning: Stochastic Optimizer: Maximum iterations (200) reached and the optimization hasn't converged yet.\n",
      "  % self.max_iter, ConvergenceWarning)\n",
      "C:\\Users\\Miguel\\Anaconda3\\lib\\site-packages\\sklearn\\neural_network\\multilayer_perceptron.py:566: ConvergenceWarning: Stochastic Optimizer: Maximum iterations (200) reached and the optimization hasn't converged yet.\n",
      "  % self.max_iter, ConvergenceWarning)\n",
      "C:\\Users\\Miguel\\Anaconda3\\lib\\site-packages\\sklearn\\neural_network\\multilayer_perceptron.py:566: ConvergenceWarning: Stochastic Optimizer: Maximum iterations (200) reached and the optimization hasn't converged yet.\n",
      "  % self.max_iter, ConvergenceWarning)\n",
      "C:\\Users\\Miguel\\Anaconda3\\lib\\site-packages\\sklearn\\neural_network\\multilayer_perceptron.py:566: ConvergenceWarning: Stochastic Optimizer: Maximum iterations (200) reached and the optimization hasn't converged yet.\n",
      "  % self.max_iter, ConvergenceWarning)\n",
      "C:\\Users\\Miguel\\Anaconda3\\lib\\site-packages\\sklearn\\neural_network\\multilayer_perceptron.py:566: ConvergenceWarning: Stochastic Optimizer: Maximum iterations (200) reached and the optimization hasn't converged yet.\n",
      "  % self.max_iter, ConvergenceWarning)\n",
      "C:\\Users\\Miguel\\Anaconda3\\lib\\site-packages\\sklearn\\neural_network\\multilayer_perceptron.py:566: ConvergenceWarning: Stochastic Optimizer: Maximum iterations (200) reached and the optimization hasn't converged yet.\n",
      "  % self.max_iter, ConvergenceWarning)\n",
      "C:\\Users\\Miguel\\Anaconda3\\lib\\site-packages\\sklearn\\neural_network\\multilayer_perceptron.py:566: ConvergenceWarning: Stochastic Optimizer: Maximum iterations (200) reached and the optimization hasn't converged yet.\n",
      "  % self.max_iter, ConvergenceWarning)\n"
     ]
    },
    {
     "name": "stderr",
     "output_type": "stream",
     "text": [
      "C:\\Users\\Miguel\\Anaconda3\\lib\\site-packages\\sklearn\\neural_network\\multilayer_perceptron.py:566: ConvergenceWarning: Stochastic Optimizer: Maximum iterations (200) reached and the optimization hasn't converged yet.\n",
      "  % self.max_iter, ConvergenceWarning)\n",
      "C:\\Users\\Miguel\\Anaconda3\\lib\\site-packages\\sklearn\\neural_network\\multilayer_perceptron.py:566: ConvergenceWarning: Stochastic Optimizer: Maximum iterations (200) reached and the optimization hasn't converged yet.\n",
      "  % self.max_iter, ConvergenceWarning)\n",
      "C:\\Users\\Miguel\\Anaconda3\\lib\\site-packages\\sklearn\\neural_network\\multilayer_perceptron.py:566: ConvergenceWarning: Stochastic Optimizer: Maximum iterations (200) reached and the optimization hasn't converged yet.\n",
      "  % self.max_iter, ConvergenceWarning)\n",
      "C:\\Users\\Miguel\\Anaconda3\\lib\\site-packages\\sklearn\\neural_network\\multilayer_perceptron.py:566: ConvergenceWarning: Stochastic Optimizer: Maximum iterations (200) reached and the optimization hasn't converged yet.\n",
      "  % self.max_iter, ConvergenceWarning)\n",
      "C:\\Users\\Miguel\\Anaconda3\\lib\\site-packages\\sklearn\\neural_network\\multilayer_perceptron.py:566: ConvergenceWarning: Stochastic Optimizer: Maximum iterations (200) reached and the optimization hasn't converged yet.\n",
      "  % self.max_iter, ConvergenceWarning)\n",
      "C:\\Users\\Miguel\\Anaconda3\\lib\\site-packages\\sklearn\\neural_network\\multilayer_perceptron.py:566: ConvergenceWarning: Stochastic Optimizer: Maximum iterations (200) reached and the optimization hasn't converged yet.\n",
      "  % self.max_iter, ConvergenceWarning)\n",
      "C:\\Users\\Miguel\\Anaconda3\\lib\\site-packages\\sklearn\\neural_network\\multilayer_perceptron.py:566: ConvergenceWarning: Stochastic Optimizer: Maximum iterations (200) reached and the optimization hasn't converged yet.\n",
      "  % self.max_iter, ConvergenceWarning)\n",
      "C:\\Users\\Miguel\\Anaconda3\\lib\\site-packages\\sklearn\\neural_network\\multilayer_perceptron.py:566: ConvergenceWarning: Stochastic Optimizer: Maximum iterations (200) reached and the optimization hasn't converged yet.\n",
      "  % self.max_iter, ConvergenceWarning)\n",
      "C:\\Users\\Miguel\\Anaconda3\\lib\\site-packages\\sklearn\\neural_network\\multilayer_perceptron.py:566: ConvergenceWarning: Stochastic Optimizer: Maximum iterations (200) reached and the optimization hasn't converged yet.\n",
      "  % self.max_iter, ConvergenceWarning)\n",
      "C:\\Users\\Miguel\\Anaconda3\\lib\\site-packages\\sklearn\\neural_network\\multilayer_perceptron.py:566: ConvergenceWarning: Stochastic Optimizer: Maximum iterations (200) reached and the optimization hasn't converged yet.\n",
      "  % self.max_iter, ConvergenceWarning)\n",
      "C:\\Users\\Miguel\\Anaconda3\\lib\\site-packages\\sklearn\\neural_network\\multilayer_perceptron.py:566: ConvergenceWarning: Stochastic Optimizer: Maximum iterations (200) reached and the optimization hasn't converged yet.\n",
      "  % self.max_iter, ConvergenceWarning)\n",
      "C:\\Users\\Miguel\\Anaconda3\\lib\\site-packages\\sklearn\\neural_network\\multilayer_perceptron.py:566: ConvergenceWarning: Stochastic Optimizer: Maximum iterations (200) reached and the optimization hasn't converged yet.\n",
      "  % self.max_iter, ConvergenceWarning)\n",
      "C:\\Users\\Miguel\\Anaconda3\\lib\\site-packages\\sklearn\\neural_network\\multilayer_perceptron.py:566: ConvergenceWarning: Stochastic Optimizer: Maximum iterations (200) reached and the optimization hasn't converged yet.\n",
      "  % self.max_iter, ConvergenceWarning)\n",
      "C:\\Users\\Miguel\\Anaconda3\\lib\\site-packages\\sklearn\\neural_network\\multilayer_perceptron.py:566: ConvergenceWarning: Stochastic Optimizer: Maximum iterations (200) reached and the optimization hasn't converged yet.\n",
      "  % self.max_iter, ConvergenceWarning)\n",
      "C:\\Users\\Miguel\\Anaconda3\\lib\\site-packages\\sklearn\\neural_network\\multilayer_perceptron.py:566: ConvergenceWarning: Stochastic Optimizer: Maximum iterations (200) reached and the optimization hasn't converged yet.\n",
      "  % self.max_iter, ConvergenceWarning)\n",
      "C:\\Users\\Miguel\\Anaconda3\\lib\\site-packages\\sklearn\\neural_network\\multilayer_perceptron.py:566: ConvergenceWarning: Stochastic Optimizer: Maximum iterations (200) reached and the optimization hasn't converged yet.\n",
      "  % self.max_iter, ConvergenceWarning)\n",
      "C:\\Users\\Miguel\\Anaconda3\\lib\\site-packages\\sklearn\\neural_network\\multilayer_perceptron.py:566: ConvergenceWarning: Stochastic Optimizer: Maximum iterations (200) reached and the optimization hasn't converged yet.\n",
      "  % self.max_iter, ConvergenceWarning)\n",
      "C:\\Users\\Miguel\\Anaconda3\\lib\\site-packages\\sklearn\\neural_network\\multilayer_perceptron.py:566: ConvergenceWarning: Stochastic Optimizer: Maximum iterations (200) reached and the optimization hasn't converged yet.\n",
      "  % self.max_iter, ConvergenceWarning)\n",
      "C:\\Users\\Miguel\\Anaconda3\\lib\\site-packages\\sklearn\\neural_network\\multilayer_perceptron.py:566: ConvergenceWarning: Stochastic Optimizer: Maximum iterations (200) reached and the optimization hasn't converged yet.\n",
      "  % self.max_iter, ConvergenceWarning)\n",
      "C:\\Users\\Miguel\\Anaconda3\\lib\\site-packages\\sklearn\\neural_network\\multilayer_perceptron.py:566: ConvergenceWarning: Stochastic Optimizer: Maximum iterations (200) reached and the optimization hasn't converged yet.\n",
      "  % self.max_iter, ConvergenceWarning)\n",
      "C:\\Users\\Miguel\\Anaconda3\\lib\\site-packages\\sklearn\\neural_network\\multilayer_perceptron.py:566: ConvergenceWarning: Stochastic Optimizer: Maximum iterations (200) reached and the optimization hasn't converged yet.\n",
      "  % self.max_iter, ConvergenceWarning)\n",
      "C:\\Users\\Miguel\\Anaconda3\\lib\\site-packages\\sklearn\\neural_network\\multilayer_perceptron.py:566: ConvergenceWarning: Stochastic Optimizer: Maximum iterations (200) reached and the optimization hasn't converged yet.\n",
      "  % self.max_iter, ConvergenceWarning)\n",
      "C:\\Users\\Miguel\\Anaconda3\\lib\\site-packages\\sklearn\\neural_network\\multilayer_perceptron.py:566: ConvergenceWarning: Stochastic Optimizer: Maximum iterations (200) reached and the optimization hasn't converged yet.\n",
      "  % self.max_iter, ConvergenceWarning)\n",
      "C:\\Users\\Miguel\\Anaconda3\\lib\\site-packages\\sklearn\\neural_network\\multilayer_perceptron.py:566: ConvergenceWarning: Stochastic Optimizer: Maximum iterations (200) reached and the optimization hasn't converged yet.\n",
      "  % self.max_iter, ConvergenceWarning)\n",
      "C:\\Users\\Miguel\\Anaconda3\\lib\\site-packages\\sklearn\\neural_network\\multilayer_perceptron.py:566: ConvergenceWarning: Stochastic Optimizer: Maximum iterations (200) reached and the optimization hasn't converged yet.\n",
      "  % self.max_iter, ConvergenceWarning)\n",
      "C:\\Users\\Miguel\\Anaconda3\\lib\\site-packages\\sklearn\\neural_network\\multilayer_perceptron.py:566: ConvergenceWarning: Stochastic Optimizer: Maximum iterations (200) reached and the optimization hasn't converged yet.\n",
      "  % self.max_iter, ConvergenceWarning)\n",
      "C:\\Users\\Miguel\\Anaconda3\\lib\\site-packages\\sklearn\\neural_network\\multilayer_perceptron.py:566: ConvergenceWarning: Stochastic Optimizer: Maximum iterations (200) reached and the optimization hasn't converged yet.\n",
      "  % self.max_iter, ConvergenceWarning)\n",
      "C:\\Users\\Miguel\\Anaconda3\\lib\\site-packages\\sklearn\\neural_network\\multilayer_perceptron.py:566: ConvergenceWarning: Stochastic Optimizer: Maximum iterations (200) reached and the optimization hasn't converged yet.\n",
      "  % self.max_iter, ConvergenceWarning)\n",
      "C:\\Users\\Miguel\\Anaconda3\\lib\\site-packages\\sklearn\\neural_network\\multilayer_perceptron.py:566: ConvergenceWarning: Stochastic Optimizer: Maximum iterations (200) reached and the optimization hasn't converged yet.\n",
      "  % self.max_iter, ConvergenceWarning)\n",
      "C:\\Users\\Miguel\\Anaconda3\\lib\\site-packages\\sklearn\\neural_network\\multilayer_perceptron.py:566: ConvergenceWarning: Stochastic Optimizer: Maximum iterations (200) reached and the optimization hasn't converged yet.\n",
      "  % self.max_iter, ConvergenceWarning)\n",
      "C:\\Users\\Miguel\\Anaconda3\\lib\\site-packages\\sklearn\\neural_network\\multilayer_perceptron.py:566: ConvergenceWarning: Stochastic Optimizer: Maximum iterations (200) reached and the optimization hasn't converged yet.\n",
      "  % self.max_iter, ConvergenceWarning)\n",
      "C:\\Users\\Miguel\\Anaconda3\\lib\\site-packages\\sklearn\\neural_network\\multilayer_perceptron.py:566: ConvergenceWarning: Stochastic Optimizer: Maximum iterations (200) reached and the optimization hasn't converged yet.\n",
      "  % self.max_iter, ConvergenceWarning)\n",
      "C:\\Users\\Miguel\\Anaconda3\\lib\\site-packages\\sklearn\\neural_network\\multilayer_perceptron.py:566: ConvergenceWarning: Stochastic Optimizer: Maximum iterations (200) reached and the optimization hasn't converged yet.\n",
      "  % self.max_iter, ConvergenceWarning)\n"
     ]
    },
    {
     "name": "stderr",
     "output_type": "stream",
     "text": [
      "C:\\Users\\Miguel\\Anaconda3\\lib\\site-packages\\sklearn\\neural_network\\multilayer_perceptron.py:566: ConvergenceWarning: Stochastic Optimizer: Maximum iterations (200) reached and the optimization hasn't converged yet.\n",
      "  % self.max_iter, ConvergenceWarning)\n",
      "C:\\Users\\Miguel\\Anaconda3\\lib\\site-packages\\sklearn\\neural_network\\multilayer_perceptron.py:566: ConvergenceWarning: Stochastic Optimizer: Maximum iterations (200) reached and the optimization hasn't converged yet.\n",
      "  % self.max_iter, ConvergenceWarning)\n",
      "C:\\Users\\Miguel\\Anaconda3\\lib\\site-packages\\sklearn\\neural_network\\multilayer_perceptron.py:566: ConvergenceWarning: Stochastic Optimizer: Maximum iterations (200) reached and the optimization hasn't converged yet.\n",
      "  % self.max_iter, ConvergenceWarning)\n",
      "C:\\Users\\Miguel\\Anaconda3\\lib\\site-packages\\sklearn\\neural_network\\multilayer_perceptron.py:566: ConvergenceWarning: Stochastic Optimizer: Maximum iterations (200) reached and the optimization hasn't converged yet.\n",
      "  % self.max_iter, ConvergenceWarning)\n",
      "C:\\Users\\Miguel\\Anaconda3\\lib\\site-packages\\sklearn\\neural_network\\multilayer_perceptron.py:566: ConvergenceWarning: Stochastic Optimizer: Maximum iterations (200) reached and the optimization hasn't converged yet.\n",
      "  % self.max_iter, ConvergenceWarning)\n",
      "C:\\Users\\Miguel\\Anaconda3\\lib\\site-packages\\sklearn\\neural_network\\multilayer_perceptron.py:566: ConvergenceWarning: Stochastic Optimizer: Maximum iterations (200) reached and the optimization hasn't converged yet.\n",
      "  % self.max_iter, ConvergenceWarning)\n",
      "C:\\Users\\Miguel\\Anaconda3\\lib\\site-packages\\sklearn\\neural_network\\multilayer_perceptron.py:566: ConvergenceWarning: Stochastic Optimizer: Maximum iterations (200) reached and the optimization hasn't converged yet.\n",
      "  % self.max_iter, ConvergenceWarning)\n",
      "C:\\Users\\Miguel\\Anaconda3\\lib\\site-packages\\sklearn\\neural_network\\multilayer_perceptron.py:566: ConvergenceWarning: Stochastic Optimizer: Maximum iterations (200) reached and the optimization hasn't converged yet.\n",
      "  % self.max_iter, ConvergenceWarning)\n",
      "C:\\Users\\Miguel\\Anaconda3\\lib\\site-packages\\sklearn\\neural_network\\multilayer_perceptron.py:566: ConvergenceWarning: Stochastic Optimizer: Maximum iterations (200) reached and the optimization hasn't converged yet.\n",
      "  % self.max_iter, ConvergenceWarning)\n",
      "C:\\Users\\Miguel\\Anaconda3\\lib\\site-packages\\sklearn\\neural_network\\multilayer_perceptron.py:566: ConvergenceWarning: Stochastic Optimizer: Maximum iterations (200) reached and the optimization hasn't converged yet.\n",
      "  % self.max_iter, ConvergenceWarning)\n",
      "C:\\Users\\Miguel\\Anaconda3\\lib\\site-packages\\sklearn\\neural_network\\multilayer_perceptron.py:566: ConvergenceWarning: Stochastic Optimizer: Maximum iterations (200) reached and the optimization hasn't converged yet.\n",
      "  % self.max_iter, ConvergenceWarning)\n",
      "C:\\Users\\Miguel\\Anaconda3\\lib\\site-packages\\sklearn\\neural_network\\multilayer_perceptron.py:566: ConvergenceWarning: Stochastic Optimizer: Maximum iterations (200) reached and the optimization hasn't converged yet.\n",
      "  % self.max_iter, ConvergenceWarning)\n",
      "C:\\Users\\Miguel\\Anaconda3\\lib\\site-packages\\sklearn\\neural_network\\multilayer_perceptron.py:566: ConvergenceWarning: Stochastic Optimizer: Maximum iterations (200) reached and the optimization hasn't converged yet.\n",
      "  % self.max_iter, ConvergenceWarning)\n",
      "C:\\Users\\Miguel\\Anaconda3\\lib\\site-packages\\sklearn\\neural_network\\multilayer_perceptron.py:566: ConvergenceWarning: Stochastic Optimizer: Maximum iterations (200) reached and the optimization hasn't converged yet.\n",
      "  % self.max_iter, ConvergenceWarning)\n",
      "C:\\Users\\Miguel\\Anaconda3\\lib\\site-packages\\sklearn\\neural_network\\multilayer_perceptron.py:566: ConvergenceWarning: Stochastic Optimizer: Maximum iterations (200) reached and the optimization hasn't converged yet.\n",
      "  % self.max_iter, ConvergenceWarning)\n",
      "C:\\Users\\Miguel\\Anaconda3\\lib\\site-packages\\sklearn\\neural_network\\multilayer_perceptron.py:566: ConvergenceWarning: Stochastic Optimizer: Maximum iterations (200) reached and the optimization hasn't converged yet.\n",
      "  % self.max_iter, ConvergenceWarning)\n",
      "C:\\Users\\Miguel\\Anaconda3\\lib\\site-packages\\sklearn\\neural_network\\multilayer_perceptron.py:566: ConvergenceWarning: Stochastic Optimizer: Maximum iterations (200) reached and the optimization hasn't converged yet.\n",
      "  % self.max_iter, ConvergenceWarning)\n",
      "C:\\Users\\Miguel\\Anaconda3\\lib\\site-packages\\sklearn\\neural_network\\multilayer_perceptron.py:566: ConvergenceWarning: Stochastic Optimizer: Maximum iterations (200) reached and the optimization hasn't converged yet.\n",
      "  % self.max_iter, ConvergenceWarning)\n",
      "C:\\Users\\Miguel\\Anaconda3\\lib\\site-packages\\sklearn\\neural_network\\multilayer_perceptron.py:566: ConvergenceWarning: Stochastic Optimizer: Maximum iterations (200) reached and the optimization hasn't converged yet.\n",
      "  % self.max_iter, ConvergenceWarning)\n",
      "C:\\Users\\Miguel\\Anaconda3\\lib\\site-packages\\sklearn\\neural_network\\multilayer_perceptron.py:566: ConvergenceWarning: Stochastic Optimizer: Maximum iterations (200) reached and the optimization hasn't converged yet.\n",
      "  % self.max_iter, ConvergenceWarning)\n",
      "C:\\Users\\Miguel\\Anaconda3\\lib\\site-packages\\sklearn\\neural_network\\multilayer_perceptron.py:566: ConvergenceWarning: Stochastic Optimizer: Maximum iterations (200) reached and the optimization hasn't converged yet.\n",
      "  % self.max_iter, ConvergenceWarning)\n",
      "C:\\Users\\Miguel\\Anaconda3\\lib\\site-packages\\sklearn\\neural_network\\multilayer_perceptron.py:566: ConvergenceWarning: Stochastic Optimizer: Maximum iterations (200) reached and the optimization hasn't converged yet.\n",
      "  % self.max_iter, ConvergenceWarning)\n",
      "C:\\Users\\Miguel\\Anaconda3\\lib\\site-packages\\sklearn\\neural_network\\multilayer_perceptron.py:566: ConvergenceWarning: Stochastic Optimizer: Maximum iterations (200) reached and the optimization hasn't converged yet.\n",
      "  % self.max_iter, ConvergenceWarning)\n",
      "C:\\Users\\Miguel\\Anaconda3\\lib\\site-packages\\sklearn\\neural_network\\multilayer_perceptron.py:566: ConvergenceWarning: Stochastic Optimizer: Maximum iterations (200) reached and the optimization hasn't converged yet.\n",
      "  % self.max_iter, ConvergenceWarning)\n",
      "C:\\Users\\Miguel\\Anaconda3\\lib\\site-packages\\sklearn\\neural_network\\multilayer_perceptron.py:566: ConvergenceWarning: Stochastic Optimizer: Maximum iterations (200) reached and the optimization hasn't converged yet.\n",
      "  % self.max_iter, ConvergenceWarning)\n",
      "C:\\Users\\Miguel\\Anaconda3\\lib\\site-packages\\sklearn\\neural_network\\multilayer_perceptron.py:566: ConvergenceWarning: Stochastic Optimizer: Maximum iterations (200) reached and the optimization hasn't converged yet.\n",
      "  % self.max_iter, ConvergenceWarning)\n",
      "C:\\Users\\Miguel\\Anaconda3\\lib\\site-packages\\sklearn\\neural_network\\multilayer_perceptron.py:566: ConvergenceWarning: Stochastic Optimizer: Maximum iterations (200) reached and the optimization hasn't converged yet.\n",
      "  % self.max_iter, ConvergenceWarning)\n",
      "C:\\Users\\Miguel\\Anaconda3\\lib\\site-packages\\sklearn\\neural_network\\multilayer_perceptron.py:566: ConvergenceWarning: Stochastic Optimizer: Maximum iterations (200) reached and the optimization hasn't converged yet.\n",
      "  % self.max_iter, ConvergenceWarning)\n",
      "C:\\Users\\Miguel\\Anaconda3\\lib\\site-packages\\sklearn\\neural_network\\multilayer_perceptron.py:566: ConvergenceWarning: Stochastic Optimizer: Maximum iterations (200) reached and the optimization hasn't converged yet.\n",
      "  % self.max_iter, ConvergenceWarning)\n",
      "C:\\Users\\Miguel\\Anaconda3\\lib\\site-packages\\sklearn\\neural_network\\multilayer_perceptron.py:566: ConvergenceWarning: Stochastic Optimizer: Maximum iterations (200) reached and the optimization hasn't converged yet.\n",
      "  % self.max_iter, ConvergenceWarning)\n",
      "C:\\Users\\Miguel\\Anaconda3\\lib\\site-packages\\sklearn\\neural_network\\multilayer_perceptron.py:566: ConvergenceWarning: Stochastic Optimizer: Maximum iterations (200) reached and the optimization hasn't converged yet.\n",
      "  % self.max_iter, ConvergenceWarning)\n",
      "C:\\Users\\Miguel\\Anaconda3\\lib\\site-packages\\sklearn\\neural_network\\multilayer_perceptron.py:566: ConvergenceWarning: Stochastic Optimizer: Maximum iterations (200) reached and the optimization hasn't converged yet.\n",
      "  % self.max_iter, ConvergenceWarning)\n",
      "C:\\Users\\Miguel\\Anaconda3\\lib\\site-packages\\sklearn\\neural_network\\multilayer_perceptron.py:566: ConvergenceWarning: Stochastic Optimizer: Maximum iterations (200) reached and the optimization hasn't converged yet.\n",
      "  % self.max_iter, ConvergenceWarning)\n"
     ]
    },
    {
     "name": "stderr",
     "output_type": "stream",
     "text": [
      "C:\\Users\\Miguel\\Anaconda3\\lib\\site-packages\\sklearn\\neural_network\\multilayer_perceptron.py:566: ConvergenceWarning: Stochastic Optimizer: Maximum iterations (200) reached and the optimization hasn't converged yet.\n",
      "  % self.max_iter, ConvergenceWarning)\n",
      "C:\\Users\\Miguel\\Anaconda3\\lib\\site-packages\\sklearn\\neural_network\\multilayer_perceptron.py:566: ConvergenceWarning: Stochastic Optimizer: Maximum iterations (200) reached and the optimization hasn't converged yet.\n",
      "  % self.max_iter, ConvergenceWarning)\n",
      "C:\\Users\\Miguel\\Anaconda3\\lib\\site-packages\\sklearn\\neural_network\\multilayer_perceptron.py:566: ConvergenceWarning: Stochastic Optimizer: Maximum iterations (200) reached and the optimization hasn't converged yet.\n",
      "  % self.max_iter, ConvergenceWarning)\n",
      "C:\\Users\\Miguel\\Anaconda3\\lib\\site-packages\\sklearn\\neural_network\\multilayer_perceptron.py:566: ConvergenceWarning: Stochastic Optimizer: Maximum iterations (200) reached and the optimization hasn't converged yet.\n",
      "  % self.max_iter, ConvergenceWarning)\n",
      "C:\\Users\\Miguel\\Anaconda3\\lib\\site-packages\\sklearn\\neural_network\\multilayer_perceptron.py:566: ConvergenceWarning: Stochastic Optimizer: Maximum iterations (200) reached and the optimization hasn't converged yet.\n",
      "  % self.max_iter, ConvergenceWarning)\n",
      "C:\\Users\\Miguel\\Anaconda3\\lib\\site-packages\\sklearn\\neural_network\\multilayer_perceptron.py:566: ConvergenceWarning: Stochastic Optimizer: Maximum iterations (200) reached and the optimization hasn't converged yet.\n",
      "  % self.max_iter, ConvergenceWarning)\n",
      "C:\\Users\\Miguel\\Anaconda3\\lib\\site-packages\\sklearn\\neural_network\\multilayer_perceptron.py:566: ConvergenceWarning: Stochastic Optimizer: Maximum iterations (200) reached and the optimization hasn't converged yet.\n",
      "  % self.max_iter, ConvergenceWarning)\n",
      "C:\\Users\\Miguel\\Anaconda3\\lib\\site-packages\\sklearn\\neural_network\\multilayer_perceptron.py:566: ConvergenceWarning: Stochastic Optimizer: Maximum iterations (200) reached and the optimization hasn't converged yet.\n",
      "  % self.max_iter, ConvergenceWarning)\n",
      "C:\\Users\\Miguel\\Anaconda3\\lib\\site-packages\\sklearn\\neural_network\\multilayer_perceptron.py:566: ConvergenceWarning: Stochastic Optimizer: Maximum iterations (200) reached and the optimization hasn't converged yet.\n",
      "  % self.max_iter, ConvergenceWarning)\n",
      "C:\\Users\\Miguel\\Anaconda3\\lib\\site-packages\\sklearn\\neural_network\\multilayer_perceptron.py:566: ConvergenceWarning: Stochastic Optimizer: Maximum iterations (200) reached and the optimization hasn't converged yet.\n",
      "  % self.max_iter, ConvergenceWarning)\n",
      "C:\\Users\\Miguel\\Anaconda3\\lib\\site-packages\\sklearn\\neural_network\\multilayer_perceptron.py:566: ConvergenceWarning: Stochastic Optimizer: Maximum iterations (200) reached and the optimization hasn't converged yet.\n",
      "  % self.max_iter, ConvergenceWarning)\n",
      "C:\\Users\\Miguel\\Anaconda3\\lib\\site-packages\\sklearn\\neural_network\\multilayer_perceptron.py:566: ConvergenceWarning: Stochastic Optimizer: Maximum iterations (200) reached and the optimization hasn't converged yet.\n",
      "  % self.max_iter, ConvergenceWarning)\n",
      "C:\\Users\\Miguel\\Anaconda3\\lib\\site-packages\\sklearn\\neural_network\\multilayer_perceptron.py:566: ConvergenceWarning: Stochastic Optimizer: Maximum iterations (200) reached and the optimization hasn't converged yet.\n",
      "  % self.max_iter, ConvergenceWarning)\n",
      "C:\\Users\\Miguel\\Anaconda3\\lib\\site-packages\\sklearn\\neural_network\\multilayer_perceptron.py:566: ConvergenceWarning: Stochastic Optimizer: Maximum iterations (200) reached and the optimization hasn't converged yet.\n",
      "  % self.max_iter, ConvergenceWarning)\n",
      "C:\\Users\\Miguel\\Anaconda3\\lib\\site-packages\\sklearn\\neural_network\\multilayer_perceptron.py:566: ConvergenceWarning: Stochastic Optimizer: Maximum iterations (200) reached and the optimization hasn't converged yet.\n",
      "  % self.max_iter, ConvergenceWarning)\n",
      "C:\\Users\\Miguel\\Anaconda3\\lib\\site-packages\\sklearn\\neural_network\\multilayer_perceptron.py:566: ConvergenceWarning: Stochastic Optimizer: Maximum iterations (200) reached and the optimization hasn't converged yet.\n",
      "  % self.max_iter, ConvergenceWarning)\n",
      "C:\\Users\\Miguel\\Anaconda3\\lib\\site-packages\\sklearn\\neural_network\\multilayer_perceptron.py:566: ConvergenceWarning: Stochastic Optimizer: Maximum iterations (200) reached and the optimization hasn't converged yet.\n",
      "  % self.max_iter, ConvergenceWarning)\n",
      "C:\\Users\\Miguel\\Anaconda3\\lib\\site-packages\\sklearn\\neural_network\\multilayer_perceptron.py:566: ConvergenceWarning: Stochastic Optimizer: Maximum iterations (200) reached and the optimization hasn't converged yet.\n",
      "  % self.max_iter, ConvergenceWarning)\n",
      "C:\\Users\\Miguel\\Anaconda3\\lib\\site-packages\\sklearn\\neural_network\\multilayer_perceptron.py:566: ConvergenceWarning: Stochastic Optimizer: Maximum iterations (200) reached and the optimization hasn't converged yet.\n",
      "  % self.max_iter, ConvergenceWarning)\n",
      "C:\\Users\\Miguel\\Anaconda3\\lib\\site-packages\\sklearn\\neural_network\\multilayer_perceptron.py:566: ConvergenceWarning: Stochastic Optimizer: Maximum iterations (200) reached and the optimization hasn't converged yet.\n",
      "  % self.max_iter, ConvergenceWarning)\n",
      "C:\\Users\\Miguel\\Anaconda3\\lib\\site-packages\\sklearn\\neural_network\\multilayer_perceptron.py:566: ConvergenceWarning: Stochastic Optimizer: Maximum iterations (200) reached and the optimization hasn't converged yet.\n",
      "  % self.max_iter, ConvergenceWarning)\n",
      "C:\\Users\\Miguel\\Anaconda3\\lib\\site-packages\\sklearn\\neural_network\\multilayer_perceptron.py:566: ConvergenceWarning: Stochastic Optimizer: Maximum iterations (200) reached and the optimization hasn't converged yet.\n",
      "  % self.max_iter, ConvergenceWarning)\n",
      "C:\\Users\\Miguel\\Anaconda3\\lib\\site-packages\\sklearn\\neural_network\\multilayer_perceptron.py:566: ConvergenceWarning: Stochastic Optimizer: Maximum iterations (200) reached and the optimization hasn't converged yet.\n",
      "  % self.max_iter, ConvergenceWarning)\n",
      "C:\\Users\\Miguel\\Anaconda3\\lib\\site-packages\\sklearn\\neural_network\\multilayer_perceptron.py:566: ConvergenceWarning: Stochastic Optimizer: Maximum iterations (200) reached and the optimization hasn't converged yet.\n",
      "  % self.max_iter, ConvergenceWarning)\n",
      "C:\\Users\\Miguel\\Anaconda3\\lib\\site-packages\\sklearn\\neural_network\\multilayer_perceptron.py:566: ConvergenceWarning: Stochastic Optimizer: Maximum iterations (200) reached and the optimization hasn't converged yet.\n",
      "  % self.max_iter, ConvergenceWarning)\n",
      "C:\\Users\\Miguel\\Anaconda3\\lib\\site-packages\\sklearn\\neural_network\\multilayer_perceptron.py:566: ConvergenceWarning: Stochastic Optimizer: Maximum iterations (200) reached and the optimization hasn't converged yet.\n",
      "  % self.max_iter, ConvergenceWarning)\n",
      "C:\\Users\\Miguel\\Anaconda3\\lib\\site-packages\\sklearn\\neural_network\\multilayer_perceptron.py:566: ConvergenceWarning: Stochastic Optimizer: Maximum iterations (200) reached and the optimization hasn't converged yet.\n",
      "  % self.max_iter, ConvergenceWarning)\n",
      "C:\\Users\\Miguel\\Anaconda3\\lib\\site-packages\\sklearn\\neural_network\\multilayer_perceptron.py:566: ConvergenceWarning: Stochastic Optimizer: Maximum iterations (200) reached and the optimization hasn't converged yet.\n",
      "  % self.max_iter, ConvergenceWarning)\n",
      "C:\\Users\\Miguel\\Anaconda3\\lib\\site-packages\\sklearn\\neural_network\\multilayer_perceptron.py:566: ConvergenceWarning: Stochastic Optimizer: Maximum iterations (200) reached and the optimization hasn't converged yet.\n",
      "  % self.max_iter, ConvergenceWarning)\n",
      "C:\\Users\\Miguel\\Anaconda3\\lib\\site-packages\\sklearn\\neural_network\\multilayer_perceptron.py:566: ConvergenceWarning: Stochastic Optimizer: Maximum iterations (200) reached and the optimization hasn't converged yet.\n",
      "  % self.max_iter, ConvergenceWarning)\n",
      "C:\\Users\\Miguel\\Anaconda3\\lib\\site-packages\\sklearn\\neural_network\\multilayer_perceptron.py:566: ConvergenceWarning: Stochastic Optimizer: Maximum iterations (200) reached and the optimization hasn't converged yet.\n",
      "  % self.max_iter, ConvergenceWarning)\n",
      "C:\\Users\\Miguel\\Anaconda3\\lib\\site-packages\\sklearn\\neural_network\\multilayer_perceptron.py:566: ConvergenceWarning: Stochastic Optimizer: Maximum iterations (200) reached and the optimization hasn't converged yet.\n",
      "  % self.max_iter, ConvergenceWarning)\n",
      "C:\\Users\\Miguel\\Anaconda3\\lib\\site-packages\\sklearn\\neural_network\\multilayer_perceptron.py:566: ConvergenceWarning: Stochastic Optimizer: Maximum iterations (200) reached and the optimization hasn't converged yet.\n",
      "  % self.max_iter, ConvergenceWarning)\n"
     ]
    },
    {
     "name": "stderr",
     "output_type": "stream",
     "text": [
      "C:\\Users\\Miguel\\Anaconda3\\lib\\site-packages\\sklearn\\neural_network\\multilayer_perceptron.py:566: ConvergenceWarning: Stochastic Optimizer: Maximum iterations (200) reached and the optimization hasn't converged yet.\n",
      "  % self.max_iter, ConvergenceWarning)\n",
      "C:\\Users\\Miguel\\Anaconda3\\lib\\site-packages\\sklearn\\neural_network\\multilayer_perceptron.py:566: ConvergenceWarning: Stochastic Optimizer: Maximum iterations (200) reached and the optimization hasn't converged yet.\n",
      "  % self.max_iter, ConvergenceWarning)\n",
      "C:\\Users\\Miguel\\Anaconda3\\lib\\site-packages\\sklearn\\neural_network\\multilayer_perceptron.py:566: ConvergenceWarning: Stochastic Optimizer: Maximum iterations (200) reached and the optimization hasn't converged yet.\n",
      "  % self.max_iter, ConvergenceWarning)\n",
      "C:\\Users\\Miguel\\Anaconda3\\lib\\site-packages\\sklearn\\neural_network\\multilayer_perceptron.py:566: ConvergenceWarning: Stochastic Optimizer: Maximum iterations (200) reached and the optimization hasn't converged yet.\n",
      "  % self.max_iter, ConvergenceWarning)\n",
      "C:\\Users\\Miguel\\Anaconda3\\lib\\site-packages\\sklearn\\neural_network\\multilayer_perceptron.py:566: ConvergenceWarning: Stochastic Optimizer: Maximum iterations (200) reached and the optimization hasn't converged yet.\n",
      "  % self.max_iter, ConvergenceWarning)\n",
      "C:\\Users\\Miguel\\Anaconda3\\lib\\site-packages\\sklearn\\neural_network\\multilayer_perceptron.py:566: ConvergenceWarning: Stochastic Optimizer: Maximum iterations (200) reached and the optimization hasn't converged yet.\n",
      "  % self.max_iter, ConvergenceWarning)\n",
      "C:\\Users\\Miguel\\Anaconda3\\lib\\site-packages\\sklearn\\neural_network\\multilayer_perceptron.py:566: ConvergenceWarning: Stochastic Optimizer: Maximum iterations (200) reached and the optimization hasn't converged yet.\n",
      "  % self.max_iter, ConvergenceWarning)\n",
      "C:\\Users\\Miguel\\Anaconda3\\lib\\site-packages\\sklearn\\neural_network\\multilayer_perceptron.py:566: ConvergenceWarning: Stochastic Optimizer: Maximum iterations (200) reached and the optimization hasn't converged yet.\n",
      "  % self.max_iter, ConvergenceWarning)\n",
      "C:\\Users\\Miguel\\Anaconda3\\lib\\site-packages\\sklearn\\neural_network\\multilayer_perceptron.py:566: ConvergenceWarning: Stochastic Optimizer: Maximum iterations (200) reached and the optimization hasn't converged yet.\n",
      "  % self.max_iter, ConvergenceWarning)\n",
      "C:\\Users\\Miguel\\Anaconda3\\lib\\site-packages\\sklearn\\neural_network\\multilayer_perceptron.py:566: ConvergenceWarning: Stochastic Optimizer: Maximum iterations (200) reached and the optimization hasn't converged yet.\n",
      "  % self.max_iter, ConvergenceWarning)\n",
      "C:\\Users\\Miguel\\Anaconda3\\lib\\site-packages\\sklearn\\neural_network\\multilayer_perceptron.py:566: ConvergenceWarning: Stochastic Optimizer: Maximum iterations (200) reached and the optimization hasn't converged yet.\n",
      "  % self.max_iter, ConvergenceWarning)\n",
      "C:\\Users\\Miguel\\Anaconda3\\lib\\site-packages\\sklearn\\neural_network\\multilayer_perceptron.py:566: ConvergenceWarning: Stochastic Optimizer: Maximum iterations (200) reached and the optimization hasn't converged yet.\n",
      "  % self.max_iter, ConvergenceWarning)\n",
      "C:\\Users\\Miguel\\Anaconda3\\lib\\site-packages\\sklearn\\neural_network\\multilayer_perceptron.py:566: ConvergenceWarning: Stochastic Optimizer: Maximum iterations (200) reached and the optimization hasn't converged yet.\n",
      "  % self.max_iter, ConvergenceWarning)\n",
      "C:\\Users\\Miguel\\Anaconda3\\lib\\site-packages\\sklearn\\neural_network\\multilayer_perceptron.py:566: ConvergenceWarning: Stochastic Optimizer: Maximum iterations (200) reached and the optimization hasn't converged yet.\n",
      "  % self.max_iter, ConvergenceWarning)\n",
      "C:\\Users\\Miguel\\Anaconda3\\lib\\site-packages\\sklearn\\neural_network\\multilayer_perceptron.py:566: ConvergenceWarning: Stochastic Optimizer: Maximum iterations (200) reached and the optimization hasn't converged yet.\n",
      "  % self.max_iter, ConvergenceWarning)\n",
      "C:\\Users\\Miguel\\Anaconda3\\lib\\site-packages\\sklearn\\neural_network\\multilayer_perceptron.py:566: ConvergenceWarning: Stochastic Optimizer: Maximum iterations (200) reached and the optimization hasn't converged yet.\n",
      "  % self.max_iter, ConvergenceWarning)\n",
      "C:\\Users\\Miguel\\Anaconda3\\lib\\site-packages\\sklearn\\neural_network\\multilayer_perceptron.py:566: ConvergenceWarning: Stochastic Optimizer: Maximum iterations (200) reached and the optimization hasn't converged yet.\n",
      "  % self.max_iter, ConvergenceWarning)\n",
      "C:\\Users\\Miguel\\Anaconda3\\lib\\site-packages\\sklearn\\neural_network\\multilayer_perceptron.py:566: ConvergenceWarning: Stochastic Optimizer: Maximum iterations (200) reached and the optimization hasn't converged yet.\n",
      "  % self.max_iter, ConvergenceWarning)\n",
      "C:\\Users\\Miguel\\Anaconda3\\lib\\site-packages\\sklearn\\neural_network\\multilayer_perceptron.py:566: ConvergenceWarning: Stochastic Optimizer: Maximum iterations (200) reached and the optimization hasn't converged yet.\n",
      "  % self.max_iter, ConvergenceWarning)\n",
      "C:\\Users\\Miguel\\Anaconda3\\lib\\site-packages\\sklearn\\neural_network\\multilayer_perceptron.py:566: ConvergenceWarning: Stochastic Optimizer: Maximum iterations (200) reached and the optimization hasn't converged yet.\n",
      "  % self.max_iter, ConvergenceWarning)\n",
      "C:\\Users\\Miguel\\Anaconda3\\lib\\site-packages\\sklearn\\neural_network\\multilayer_perceptron.py:566: ConvergenceWarning: Stochastic Optimizer: Maximum iterations (200) reached and the optimization hasn't converged yet.\n",
      "  % self.max_iter, ConvergenceWarning)\n",
      "C:\\Users\\Miguel\\Anaconda3\\lib\\site-packages\\sklearn\\neural_network\\multilayer_perceptron.py:566: ConvergenceWarning: Stochastic Optimizer: Maximum iterations (200) reached and the optimization hasn't converged yet.\n",
      "  % self.max_iter, ConvergenceWarning)\n",
      "C:\\Users\\Miguel\\Anaconda3\\lib\\site-packages\\sklearn\\neural_network\\multilayer_perceptron.py:566: ConvergenceWarning: Stochastic Optimizer: Maximum iterations (200) reached and the optimization hasn't converged yet.\n",
      "  % self.max_iter, ConvergenceWarning)\n",
      "C:\\Users\\Miguel\\Anaconda3\\lib\\site-packages\\sklearn\\neural_network\\multilayer_perceptron.py:566: ConvergenceWarning: Stochastic Optimizer: Maximum iterations (200) reached and the optimization hasn't converged yet.\n",
      "  % self.max_iter, ConvergenceWarning)\n",
      "C:\\Users\\Miguel\\Anaconda3\\lib\\site-packages\\sklearn\\neural_network\\multilayer_perceptron.py:566: ConvergenceWarning: Stochastic Optimizer: Maximum iterations (200) reached and the optimization hasn't converged yet.\n",
      "  % self.max_iter, ConvergenceWarning)\n",
      "C:\\Users\\Miguel\\Anaconda3\\lib\\site-packages\\sklearn\\neural_network\\multilayer_perceptron.py:566: ConvergenceWarning: Stochastic Optimizer: Maximum iterations (200) reached and the optimization hasn't converged yet.\n",
      "  % self.max_iter, ConvergenceWarning)\n",
      "C:\\Users\\Miguel\\Anaconda3\\lib\\site-packages\\sklearn\\neural_network\\multilayer_perceptron.py:566: ConvergenceWarning: Stochastic Optimizer: Maximum iterations (200) reached and the optimization hasn't converged yet.\n",
      "  % self.max_iter, ConvergenceWarning)\n",
      "C:\\Users\\Miguel\\Anaconda3\\lib\\site-packages\\sklearn\\neural_network\\multilayer_perceptron.py:566: ConvergenceWarning: Stochastic Optimizer: Maximum iterations (200) reached and the optimization hasn't converged yet.\n",
      "  % self.max_iter, ConvergenceWarning)\n",
      "C:\\Users\\Miguel\\Anaconda3\\lib\\site-packages\\sklearn\\neural_network\\multilayer_perceptron.py:566: ConvergenceWarning: Stochastic Optimizer: Maximum iterations (200) reached and the optimization hasn't converged yet.\n",
      "  % self.max_iter, ConvergenceWarning)\n",
      "C:\\Users\\Miguel\\Anaconda3\\lib\\site-packages\\sklearn\\neural_network\\multilayer_perceptron.py:566: ConvergenceWarning: Stochastic Optimizer: Maximum iterations (200) reached and the optimization hasn't converged yet.\n",
      "  % self.max_iter, ConvergenceWarning)\n",
      "C:\\Users\\Miguel\\Anaconda3\\lib\\site-packages\\sklearn\\neural_network\\multilayer_perceptron.py:566: ConvergenceWarning: Stochastic Optimizer: Maximum iterations (200) reached and the optimization hasn't converged yet.\n",
      "  % self.max_iter, ConvergenceWarning)\n",
      "C:\\Users\\Miguel\\Anaconda3\\lib\\site-packages\\sklearn\\neural_network\\multilayer_perceptron.py:566: ConvergenceWarning: Stochastic Optimizer: Maximum iterations (200) reached and the optimization hasn't converged yet.\n",
      "  % self.max_iter, ConvergenceWarning)\n",
      "C:\\Users\\Miguel\\Anaconda3\\lib\\site-packages\\sklearn\\neural_network\\multilayer_perceptron.py:566: ConvergenceWarning: Stochastic Optimizer: Maximum iterations (200) reached and the optimization hasn't converged yet.\n",
      "  % self.max_iter, ConvergenceWarning)\n"
     ]
    },
    {
     "name": "stderr",
     "output_type": "stream",
     "text": [
      "C:\\Users\\Miguel\\Anaconda3\\lib\\site-packages\\sklearn\\neural_network\\multilayer_perceptron.py:566: ConvergenceWarning: Stochastic Optimizer: Maximum iterations (200) reached and the optimization hasn't converged yet.\n",
      "  % self.max_iter, ConvergenceWarning)\n",
      "C:\\Users\\Miguel\\Anaconda3\\lib\\site-packages\\sklearn\\neural_network\\multilayer_perceptron.py:566: ConvergenceWarning: Stochastic Optimizer: Maximum iterations (200) reached and the optimization hasn't converged yet.\n",
      "  % self.max_iter, ConvergenceWarning)\n",
      "C:\\Users\\Miguel\\Anaconda3\\lib\\site-packages\\sklearn\\neural_network\\multilayer_perceptron.py:566: ConvergenceWarning: Stochastic Optimizer: Maximum iterations (200) reached and the optimization hasn't converged yet.\n",
      "  % self.max_iter, ConvergenceWarning)\n",
      "C:\\Users\\Miguel\\Anaconda3\\lib\\site-packages\\sklearn\\neural_network\\multilayer_perceptron.py:566: ConvergenceWarning: Stochastic Optimizer: Maximum iterations (200) reached and the optimization hasn't converged yet.\n",
      "  % self.max_iter, ConvergenceWarning)\n",
      "C:\\Users\\Miguel\\Anaconda3\\lib\\site-packages\\sklearn\\neural_network\\multilayer_perceptron.py:566: ConvergenceWarning: Stochastic Optimizer: Maximum iterations (200) reached and the optimization hasn't converged yet.\n",
      "  % self.max_iter, ConvergenceWarning)\n",
      "C:\\Users\\Miguel\\Anaconda3\\lib\\site-packages\\sklearn\\neural_network\\multilayer_perceptron.py:566: ConvergenceWarning: Stochastic Optimizer: Maximum iterations (200) reached and the optimization hasn't converged yet.\n",
      "  % self.max_iter, ConvergenceWarning)\n",
      "C:\\Users\\Miguel\\Anaconda3\\lib\\site-packages\\sklearn\\neural_network\\multilayer_perceptron.py:566: ConvergenceWarning: Stochastic Optimizer: Maximum iterations (200) reached and the optimization hasn't converged yet.\n",
      "  % self.max_iter, ConvergenceWarning)\n",
      "C:\\Users\\Miguel\\Anaconda3\\lib\\site-packages\\sklearn\\neural_network\\multilayer_perceptron.py:566: ConvergenceWarning: Stochastic Optimizer: Maximum iterations (200) reached and the optimization hasn't converged yet.\n",
      "  % self.max_iter, ConvergenceWarning)\n",
      "C:\\Users\\Miguel\\Anaconda3\\lib\\site-packages\\sklearn\\neural_network\\multilayer_perceptron.py:566: ConvergenceWarning: Stochastic Optimizer: Maximum iterations (200) reached and the optimization hasn't converged yet.\n",
      "  % self.max_iter, ConvergenceWarning)\n",
      "C:\\Users\\Miguel\\Anaconda3\\lib\\site-packages\\sklearn\\neural_network\\multilayer_perceptron.py:566: ConvergenceWarning: Stochastic Optimizer: Maximum iterations (200) reached and the optimization hasn't converged yet.\n",
      "  % self.max_iter, ConvergenceWarning)\n",
      "C:\\Users\\Miguel\\Anaconda3\\lib\\site-packages\\sklearn\\neural_network\\multilayer_perceptron.py:566: ConvergenceWarning: Stochastic Optimizer: Maximum iterations (200) reached and the optimization hasn't converged yet.\n",
      "  % self.max_iter, ConvergenceWarning)\n",
      "C:\\Users\\Miguel\\Anaconda3\\lib\\site-packages\\sklearn\\neural_network\\multilayer_perceptron.py:566: ConvergenceWarning: Stochastic Optimizer: Maximum iterations (200) reached and the optimization hasn't converged yet.\n",
      "  % self.max_iter, ConvergenceWarning)\n",
      "C:\\Users\\Miguel\\Anaconda3\\lib\\site-packages\\sklearn\\neural_network\\multilayer_perceptron.py:566: ConvergenceWarning: Stochastic Optimizer: Maximum iterations (200) reached and the optimization hasn't converged yet.\n",
      "  % self.max_iter, ConvergenceWarning)\n",
      "C:\\Users\\Miguel\\Anaconda3\\lib\\site-packages\\sklearn\\neural_network\\multilayer_perceptron.py:566: ConvergenceWarning: Stochastic Optimizer: Maximum iterations (200) reached and the optimization hasn't converged yet.\n",
      "  % self.max_iter, ConvergenceWarning)\n",
      "C:\\Users\\Miguel\\Anaconda3\\lib\\site-packages\\sklearn\\neural_network\\multilayer_perceptron.py:566: ConvergenceWarning: Stochastic Optimizer: Maximum iterations (200) reached and the optimization hasn't converged yet.\n",
      "  % self.max_iter, ConvergenceWarning)\n",
      "C:\\Users\\Miguel\\Anaconda3\\lib\\site-packages\\sklearn\\neural_network\\multilayer_perceptron.py:566: ConvergenceWarning: Stochastic Optimizer: Maximum iterations (200) reached and the optimization hasn't converged yet.\n",
      "  % self.max_iter, ConvergenceWarning)\n",
      "C:\\Users\\Miguel\\Anaconda3\\lib\\site-packages\\sklearn\\neural_network\\multilayer_perceptron.py:566: ConvergenceWarning: Stochastic Optimizer: Maximum iterations (200) reached and the optimization hasn't converged yet.\n",
      "  % self.max_iter, ConvergenceWarning)\n",
      "C:\\Users\\Miguel\\Anaconda3\\lib\\site-packages\\sklearn\\neural_network\\multilayer_perceptron.py:566: ConvergenceWarning: Stochastic Optimizer: Maximum iterations (200) reached and the optimization hasn't converged yet.\n",
      "  % self.max_iter, ConvergenceWarning)\n",
      "C:\\Users\\Miguel\\Anaconda3\\lib\\site-packages\\sklearn\\neural_network\\multilayer_perceptron.py:566: ConvergenceWarning: Stochastic Optimizer: Maximum iterations (200) reached and the optimization hasn't converged yet.\n",
      "  % self.max_iter, ConvergenceWarning)\n",
      "C:\\Users\\Miguel\\Anaconda3\\lib\\site-packages\\sklearn\\neural_network\\multilayer_perceptron.py:566: ConvergenceWarning: Stochastic Optimizer: Maximum iterations (200) reached and the optimization hasn't converged yet.\n",
      "  % self.max_iter, ConvergenceWarning)\n",
      "C:\\Users\\Miguel\\Anaconda3\\lib\\site-packages\\sklearn\\neural_network\\multilayer_perceptron.py:566: ConvergenceWarning: Stochastic Optimizer: Maximum iterations (200) reached and the optimization hasn't converged yet.\n",
      "  % self.max_iter, ConvergenceWarning)\n",
      "C:\\Users\\Miguel\\Anaconda3\\lib\\site-packages\\sklearn\\neural_network\\multilayer_perceptron.py:566: ConvergenceWarning: Stochastic Optimizer: Maximum iterations (200) reached and the optimization hasn't converged yet.\n",
      "  % self.max_iter, ConvergenceWarning)\n",
      "C:\\Users\\Miguel\\Anaconda3\\lib\\site-packages\\sklearn\\neural_network\\multilayer_perceptron.py:566: ConvergenceWarning: Stochastic Optimizer: Maximum iterations (200) reached and the optimization hasn't converged yet.\n",
      "  % self.max_iter, ConvergenceWarning)\n",
      "C:\\Users\\Miguel\\Anaconda3\\lib\\site-packages\\sklearn\\neural_network\\multilayer_perceptron.py:566: ConvergenceWarning: Stochastic Optimizer: Maximum iterations (200) reached and the optimization hasn't converged yet.\n",
      "  % self.max_iter, ConvergenceWarning)\n",
      "C:\\Users\\Miguel\\Anaconda3\\lib\\site-packages\\sklearn\\neural_network\\multilayer_perceptron.py:566: ConvergenceWarning: Stochastic Optimizer: Maximum iterations (200) reached and the optimization hasn't converged yet.\n",
      "  % self.max_iter, ConvergenceWarning)\n",
      "C:\\Users\\Miguel\\Anaconda3\\lib\\site-packages\\sklearn\\neural_network\\multilayer_perceptron.py:566: ConvergenceWarning: Stochastic Optimizer: Maximum iterations (200) reached and the optimization hasn't converged yet.\n",
      "  % self.max_iter, ConvergenceWarning)\n",
      "C:\\Users\\Miguel\\Anaconda3\\lib\\site-packages\\sklearn\\neural_network\\multilayer_perceptron.py:566: ConvergenceWarning: Stochastic Optimizer: Maximum iterations (200) reached and the optimization hasn't converged yet.\n",
      "  % self.max_iter, ConvergenceWarning)\n",
      "C:\\Users\\Miguel\\Anaconda3\\lib\\site-packages\\sklearn\\neural_network\\multilayer_perceptron.py:566: ConvergenceWarning: Stochastic Optimizer: Maximum iterations (200) reached and the optimization hasn't converged yet.\n",
      "  % self.max_iter, ConvergenceWarning)\n",
      "C:\\Users\\Miguel\\Anaconda3\\lib\\site-packages\\sklearn\\neural_network\\multilayer_perceptron.py:566: ConvergenceWarning: Stochastic Optimizer: Maximum iterations (200) reached and the optimization hasn't converged yet.\n",
      "  % self.max_iter, ConvergenceWarning)\n",
      "C:\\Users\\Miguel\\Anaconda3\\lib\\site-packages\\sklearn\\neural_network\\multilayer_perceptron.py:566: ConvergenceWarning: Stochastic Optimizer: Maximum iterations (200) reached and the optimization hasn't converged yet.\n",
      "  % self.max_iter, ConvergenceWarning)\n",
      "C:\\Users\\Miguel\\Anaconda3\\lib\\site-packages\\sklearn\\neural_network\\multilayer_perceptron.py:566: ConvergenceWarning: Stochastic Optimizer: Maximum iterations (200) reached and the optimization hasn't converged yet.\n",
      "  % self.max_iter, ConvergenceWarning)\n",
      "C:\\Users\\Miguel\\Anaconda3\\lib\\site-packages\\sklearn\\neural_network\\multilayer_perceptron.py:566: ConvergenceWarning: Stochastic Optimizer: Maximum iterations (200) reached and the optimization hasn't converged yet.\n",
      "  % self.max_iter, ConvergenceWarning)\n",
      "C:\\Users\\Miguel\\Anaconda3\\lib\\site-packages\\sklearn\\neural_network\\multilayer_perceptron.py:566: ConvergenceWarning: Stochastic Optimizer: Maximum iterations (200) reached and the optimization hasn't converged yet.\n",
      "  % self.max_iter, ConvergenceWarning)\n"
     ]
    },
    {
     "name": "stderr",
     "output_type": "stream",
     "text": [
      "C:\\Users\\Miguel\\Anaconda3\\lib\\site-packages\\sklearn\\neural_network\\multilayer_perceptron.py:566: ConvergenceWarning: Stochastic Optimizer: Maximum iterations (200) reached and the optimization hasn't converged yet.\n",
      "  % self.max_iter, ConvergenceWarning)\n",
      "C:\\Users\\Miguel\\Anaconda3\\lib\\site-packages\\sklearn\\neural_network\\multilayer_perceptron.py:566: ConvergenceWarning: Stochastic Optimizer: Maximum iterations (200) reached and the optimization hasn't converged yet.\n",
      "  % self.max_iter, ConvergenceWarning)\n",
      "C:\\Users\\Miguel\\Anaconda3\\lib\\site-packages\\sklearn\\neural_network\\multilayer_perceptron.py:566: ConvergenceWarning: Stochastic Optimizer: Maximum iterations (200) reached and the optimization hasn't converged yet.\n",
      "  % self.max_iter, ConvergenceWarning)\n",
      "C:\\Users\\Miguel\\Anaconda3\\lib\\site-packages\\sklearn\\neural_network\\multilayer_perceptron.py:566: ConvergenceWarning: Stochastic Optimizer: Maximum iterations (200) reached and the optimization hasn't converged yet.\n",
      "  % self.max_iter, ConvergenceWarning)\n",
      "C:\\Users\\Miguel\\Anaconda3\\lib\\site-packages\\sklearn\\neural_network\\multilayer_perceptron.py:566: ConvergenceWarning: Stochastic Optimizer: Maximum iterations (200) reached and the optimization hasn't converged yet.\n",
      "  % self.max_iter, ConvergenceWarning)\n",
      "C:\\Users\\Miguel\\Anaconda3\\lib\\site-packages\\sklearn\\neural_network\\multilayer_perceptron.py:566: ConvergenceWarning: Stochastic Optimizer: Maximum iterations (200) reached and the optimization hasn't converged yet.\n",
      "  % self.max_iter, ConvergenceWarning)\n",
      "C:\\Users\\Miguel\\Anaconda3\\lib\\site-packages\\sklearn\\neural_network\\multilayer_perceptron.py:566: ConvergenceWarning: Stochastic Optimizer: Maximum iterations (200) reached and the optimization hasn't converged yet.\n",
      "  % self.max_iter, ConvergenceWarning)\n",
      "C:\\Users\\Miguel\\Anaconda3\\lib\\site-packages\\sklearn\\neural_network\\multilayer_perceptron.py:566: ConvergenceWarning: Stochastic Optimizer: Maximum iterations (200) reached and the optimization hasn't converged yet.\n",
      "  % self.max_iter, ConvergenceWarning)\n",
      "C:\\Users\\Miguel\\Anaconda3\\lib\\site-packages\\sklearn\\neural_network\\multilayer_perceptron.py:566: ConvergenceWarning: Stochastic Optimizer: Maximum iterations (200) reached and the optimization hasn't converged yet.\n",
      "  % self.max_iter, ConvergenceWarning)\n",
      "C:\\Users\\Miguel\\Anaconda3\\lib\\site-packages\\sklearn\\neural_network\\multilayer_perceptron.py:566: ConvergenceWarning: Stochastic Optimizer: Maximum iterations (200) reached and the optimization hasn't converged yet.\n",
      "  % self.max_iter, ConvergenceWarning)\n",
      "C:\\Users\\Miguel\\Anaconda3\\lib\\site-packages\\sklearn\\neural_network\\multilayer_perceptron.py:566: ConvergenceWarning: Stochastic Optimizer: Maximum iterations (200) reached and the optimization hasn't converged yet.\n",
      "  % self.max_iter, ConvergenceWarning)\n",
      "C:\\Users\\Miguel\\Anaconda3\\lib\\site-packages\\sklearn\\neural_network\\multilayer_perceptron.py:566: ConvergenceWarning: Stochastic Optimizer: Maximum iterations (200) reached and the optimization hasn't converged yet.\n",
      "  % self.max_iter, ConvergenceWarning)\n",
      "C:\\Users\\Miguel\\Anaconda3\\lib\\site-packages\\sklearn\\neural_network\\multilayer_perceptron.py:566: ConvergenceWarning: Stochastic Optimizer: Maximum iterations (200) reached and the optimization hasn't converged yet.\n",
      "  % self.max_iter, ConvergenceWarning)\n",
      "C:\\Users\\Miguel\\Anaconda3\\lib\\site-packages\\sklearn\\neural_network\\multilayer_perceptron.py:566: ConvergenceWarning: Stochastic Optimizer: Maximum iterations (200) reached and the optimization hasn't converged yet.\n",
      "  % self.max_iter, ConvergenceWarning)\n",
      "C:\\Users\\Miguel\\Anaconda3\\lib\\site-packages\\sklearn\\neural_network\\multilayer_perceptron.py:566: ConvergenceWarning: Stochastic Optimizer: Maximum iterations (200) reached and the optimization hasn't converged yet.\n",
      "  % self.max_iter, ConvergenceWarning)\n",
      "C:\\Users\\Miguel\\Anaconda3\\lib\\site-packages\\sklearn\\neural_network\\multilayer_perceptron.py:566: ConvergenceWarning: Stochastic Optimizer: Maximum iterations (200) reached and the optimization hasn't converged yet.\n",
      "  % self.max_iter, ConvergenceWarning)\n",
      "C:\\Users\\Miguel\\Anaconda3\\lib\\site-packages\\sklearn\\neural_network\\multilayer_perceptron.py:566: ConvergenceWarning: Stochastic Optimizer: Maximum iterations (200) reached and the optimization hasn't converged yet.\n",
      "  % self.max_iter, ConvergenceWarning)\n",
      "C:\\Users\\Miguel\\Anaconda3\\lib\\site-packages\\sklearn\\neural_network\\multilayer_perceptron.py:566: ConvergenceWarning: Stochastic Optimizer: Maximum iterations (200) reached and the optimization hasn't converged yet.\n",
      "  % self.max_iter, ConvergenceWarning)\n",
      "C:\\Users\\Miguel\\Anaconda3\\lib\\site-packages\\sklearn\\neural_network\\multilayer_perceptron.py:566: ConvergenceWarning: Stochastic Optimizer: Maximum iterations (200) reached and the optimization hasn't converged yet.\n",
      "  % self.max_iter, ConvergenceWarning)\n",
      "C:\\Users\\Miguel\\Anaconda3\\lib\\site-packages\\sklearn\\neural_network\\multilayer_perceptron.py:566: ConvergenceWarning: Stochastic Optimizer: Maximum iterations (200) reached and the optimization hasn't converged yet.\n",
      "  % self.max_iter, ConvergenceWarning)\n",
      "C:\\Users\\Miguel\\Anaconda3\\lib\\site-packages\\sklearn\\neural_network\\multilayer_perceptron.py:566: ConvergenceWarning: Stochastic Optimizer: Maximum iterations (200) reached and the optimization hasn't converged yet.\n",
      "  % self.max_iter, ConvergenceWarning)\n",
      "C:\\Users\\Miguel\\Anaconda3\\lib\\site-packages\\sklearn\\neural_network\\multilayer_perceptron.py:566: ConvergenceWarning: Stochastic Optimizer: Maximum iterations (200) reached and the optimization hasn't converged yet.\n",
      "  % self.max_iter, ConvergenceWarning)\n",
      "C:\\Users\\Miguel\\Anaconda3\\lib\\site-packages\\sklearn\\neural_network\\multilayer_perceptron.py:566: ConvergenceWarning: Stochastic Optimizer: Maximum iterations (200) reached and the optimization hasn't converged yet.\n",
      "  % self.max_iter, ConvergenceWarning)\n",
      "C:\\Users\\Miguel\\Anaconda3\\lib\\site-packages\\sklearn\\neural_network\\multilayer_perceptron.py:566: ConvergenceWarning: Stochastic Optimizer: Maximum iterations (200) reached and the optimization hasn't converged yet.\n",
      "  % self.max_iter, ConvergenceWarning)\n",
      "C:\\Users\\Miguel\\Anaconda3\\lib\\site-packages\\sklearn\\neural_network\\multilayer_perceptron.py:566: ConvergenceWarning: Stochastic Optimizer: Maximum iterations (200) reached and the optimization hasn't converged yet.\n",
      "  % self.max_iter, ConvergenceWarning)\n",
      "C:\\Users\\Miguel\\Anaconda3\\lib\\site-packages\\sklearn\\neural_network\\multilayer_perceptron.py:566: ConvergenceWarning: Stochastic Optimizer: Maximum iterations (200) reached and the optimization hasn't converged yet.\n",
      "  % self.max_iter, ConvergenceWarning)\n",
      "C:\\Users\\Miguel\\Anaconda3\\lib\\site-packages\\sklearn\\neural_network\\multilayer_perceptron.py:566: ConvergenceWarning: Stochastic Optimizer: Maximum iterations (200) reached and the optimization hasn't converged yet.\n",
      "  % self.max_iter, ConvergenceWarning)\n",
      "C:\\Users\\Miguel\\Anaconda3\\lib\\site-packages\\sklearn\\neural_network\\multilayer_perceptron.py:566: ConvergenceWarning: Stochastic Optimizer: Maximum iterations (200) reached and the optimization hasn't converged yet.\n",
      "  % self.max_iter, ConvergenceWarning)\n",
      "C:\\Users\\Miguel\\Anaconda3\\lib\\site-packages\\sklearn\\neural_network\\multilayer_perceptron.py:566: ConvergenceWarning: Stochastic Optimizer: Maximum iterations (200) reached and the optimization hasn't converged yet.\n",
      "  % self.max_iter, ConvergenceWarning)\n",
      "C:\\Users\\Miguel\\Anaconda3\\lib\\site-packages\\sklearn\\neural_network\\multilayer_perceptron.py:566: ConvergenceWarning: Stochastic Optimizer: Maximum iterations (200) reached and the optimization hasn't converged yet.\n",
      "  % self.max_iter, ConvergenceWarning)\n",
      "C:\\Users\\Miguel\\Anaconda3\\lib\\site-packages\\sklearn\\neural_network\\multilayer_perceptron.py:566: ConvergenceWarning: Stochastic Optimizer: Maximum iterations (200) reached and the optimization hasn't converged yet.\n",
      "  % self.max_iter, ConvergenceWarning)\n",
      "C:\\Users\\Miguel\\Anaconda3\\lib\\site-packages\\sklearn\\neural_network\\multilayer_perceptron.py:566: ConvergenceWarning: Stochastic Optimizer: Maximum iterations (200) reached and the optimization hasn't converged yet.\n",
      "  % self.max_iter, ConvergenceWarning)\n",
      "C:\\Users\\Miguel\\Anaconda3\\lib\\site-packages\\sklearn\\neural_network\\multilayer_perceptron.py:566: ConvergenceWarning: Stochastic Optimizer: Maximum iterations (200) reached and the optimization hasn't converged yet.\n",
      "  % self.max_iter, ConvergenceWarning)\n"
     ]
    },
    {
     "name": "stderr",
     "output_type": "stream",
     "text": [
      "C:\\Users\\Miguel\\Anaconda3\\lib\\site-packages\\sklearn\\neural_network\\multilayer_perceptron.py:566: ConvergenceWarning: Stochastic Optimizer: Maximum iterations (200) reached and the optimization hasn't converged yet.\n",
      "  % self.max_iter, ConvergenceWarning)\n",
      "C:\\Users\\Miguel\\Anaconda3\\lib\\site-packages\\sklearn\\neural_network\\multilayer_perceptron.py:566: ConvergenceWarning: Stochastic Optimizer: Maximum iterations (200) reached and the optimization hasn't converged yet.\n",
      "  % self.max_iter, ConvergenceWarning)\n",
      "C:\\Users\\Miguel\\Anaconda3\\lib\\site-packages\\sklearn\\neural_network\\multilayer_perceptron.py:566: ConvergenceWarning: Stochastic Optimizer: Maximum iterations (200) reached and the optimization hasn't converged yet.\n",
      "  % self.max_iter, ConvergenceWarning)\n",
      "C:\\Users\\Miguel\\Anaconda3\\lib\\site-packages\\sklearn\\neural_network\\multilayer_perceptron.py:566: ConvergenceWarning: Stochastic Optimizer: Maximum iterations (200) reached and the optimization hasn't converged yet.\n",
      "  % self.max_iter, ConvergenceWarning)\n",
      "C:\\Users\\Miguel\\Anaconda3\\lib\\site-packages\\sklearn\\neural_network\\multilayer_perceptron.py:566: ConvergenceWarning: Stochastic Optimizer: Maximum iterations (200) reached and the optimization hasn't converged yet.\n",
      "  % self.max_iter, ConvergenceWarning)\n",
      "C:\\Users\\Miguel\\Anaconda3\\lib\\site-packages\\sklearn\\neural_network\\multilayer_perceptron.py:566: ConvergenceWarning: Stochastic Optimizer: Maximum iterations (200) reached and the optimization hasn't converged yet.\n",
      "  % self.max_iter, ConvergenceWarning)\n",
      "C:\\Users\\Miguel\\Anaconda3\\lib\\site-packages\\sklearn\\neural_network\\multilayer_perceptron.py:566: ConvergenceWarning: Stochastic Optimizer: Maximum iterations (200) reached and the optimization hasn't converged yet.\n",
      "  % self.max_iter, ConvergenceWarning)\n",
      "C:\\Users\\Miguel\\Anaconda3\\lib\\site-packages\\sklearn\\neural_network\\multilayer_perceptron.py:566: ConvergenceWarning: Stochastic Optimizer: Maximum iterations (200) reached and the optimization hasn't converged yet.\n",
      "  % self.max_iter, ConvergenceWarning)\n",
      "C:\\Users\\Miguel\\Anaconda3\\lib\\site-packages\\sklearn\\neural_network\\multilayer_perceptron.py:566: ConvergenceWarning: Stochastic Optimizer: Maximum iterations (200) reached and the optimization hasn't converged yet.\n",
      "  % self.max_iter, ConvergenceWarning)\n",
      "C:\\Users\\Miguel\\Anaconda3\\lib\\site-packages\\sklearn\\neural_network\\multilayer_perceptron.py:566: ConvergenceWarning: Stochastic Optimizer: Maximum iterations (200) reached and the optimization hasn't converged yet.\n",
      "  % self.max_iter, ConvergenceWarning)\n",
      "C:\\Users\\Miguel\\Anaconda3\\lib\\site-packages\\sklearn\\neural_network\\multilayer_perceptron.py:566: ConvergenceWarning: Stochastic Optimizer: Maximum iterations (200) reached and the optimization hasn't converged yet.\n",
      "  % self.max_iter, ConvergenceWarning)\n",
      "C:\\Users\\Miguel\\Anaconda3\\lib\\site-packages\\sklearn\\neural_network\\multilayer_perceptron.py:566: ConvergenceWarning: Stochastic Optimizer: Maximum iterations (200) reached and the optimization hasn't converged yet.\n",
      "  % self.max_iter, ConvergenceWarning)\n",
      "C:\\Users\\Miguel\\Anaconda3\\lib\\site-packages\\sklearn\\neural_network\\multilayer_perceptron.py:566: ConvergenceWarning: Stochastic Optimizer: Maximum iterations (200) reached and the optimization hasn't converged yet.\n",
      "  % self.max_iter, ConvergenceWarning)\n",
      "C:\\Users\\Miguel\\Anaconda3\\lib\\site-packages\\sklearn\\neural_network\\multilayer_perceptron.py:566: ConvergenceWarning: Stochastic Optimizer: Maximum iterations (200) reached and the optimization hasn't converged yet.\n",
      "  % self.max_iter, ConvergenceWarning)\n",
      "C:\\Users\\Miguel\\Anaconda3\\lib\\site-packages\\sklearn\\neural_network\\multilayer_perceptron.py:566: ConvergenceWarning: Stochastic Optimizer: Maximum iterations (200) reached and the optimization hasn't converged yet.\n",
      "  % self.max_iter, ConvergenceWarning)\n",
      "C:\\Users\\Miguel\\Anaconda3\\lib\\site-packages\\sklearn\\neural_network\\multilayer_perceptron.py:566: ConvergenceWarning: Stochastic Optimizer: Maximum iterations (200) reached and the optimization hasn't converged yet.\n",
      "  % self.max_iter, ConvergenceWarning)\n",
      "C:\\Users\\Miguel\\Anaconda3\\lib\\site-packages\\sklearn\\neural_network\\multilayer_perceptron.py:566: ConvergenceWarning: Stochastic Optimizer: Maximum iterations (200) reached and the optimization hasn't converged yet.\n",
      "  % self.max_iter, ConvergenceWarning)\n",
      "C:\\Users\\Miguel\\Anaconda3\\lib\\site-packages\\sklearn\\neural_network\\multilayer_perceptron.py:566: ConvergenceWarning: Stochastic Optimizer: Maximum iterations (200) reached and the optimization hasn't converged yet.\n",
      "  % self.max_iter, ConvergenceWarning)\n",
      "C:\\Users\\Miguel\\Anaconda3\\lib\\site-packages\\sklearn\\neural_network\\multilayer_perceptron.py:566: ConvergenceWarning: Stochastic Optimizer: Maximum iterations (200) reached and the optimization hasn't converged yet.\n",
      "  % self.max_iter, ConvergenceWarning)\n",
      "C:\\Users\\Miguel\\Anaconda3\\lib\\site-packages\\sklearn\\neural_network\\multilayer_perceptron.py:566: ConvergenceWarning: Stochastic Optimizer: Maximum iterations (200) reached and the optimization hasn't converged yet.\n",
      "  % self.max_iter, ConvergenceWarning)\n",
      "C:\\Users\\Miguel\\Anaconda3\\lib\\site-packages\\sklearn\\neural_network\\multilayer_perceptron.py:566: ConvergenceWarning: Stochastic Optimizer: Maximum iterations (200) reached and the optimization hasn't converged yet.\n",
      "  % self.max_iter, ConvergenceWarning)\n",
      "C:\\Users\\Miguel\\Anaconda3\\lib\\site-packages\\sklearn\\neural_network\\multilayer_perceptron.py:566: ConvergenceWarning: Stochastic Optimizer: Maximum iterations (200) reached and the optimization hasn't converged yet.\n",
      "  % self.max_iter, ConvergenceWarning)\n",
      "C:\\Users\\Miguel\\Anaconda3\\lib\\site-packages\\sklearn\\neural_network\\multilayer_perceptron.py:566: ConvergenceWarning: Stochastic Optimizer: Maximum iterations (200) reached and the optimization hasn't converged yet.\n",
      "  % self.max_iter, ConvergenceWarning)\n",
      "C:\\Users\\Miguel\\Anaconda3\\lib\\site-packages\\sklearn\\neural_network\\multilayer_perceptron.py:566: ConvergenceWarning: Stochastic Optimizer: Maximum iterations (200) reached and the optimization hasn't converged yet.\n",
      "  % self.max_iter, ConvergenceWarning)\n",
      "C:\\Users\\Miguel\\Anaconda3\\lib\\site-packages\\sklearn\\neural_network\\multilayer_perceptron.py:566: ConvergenceWarning: Stochastic Optimizer: Maximum iterations (200) reached and the optimization hasn't converged yet.\n",
      "  % self.max_iter, ConvergenceWarning)\n",
      "C:\\Users\\Miguel\\Anaconda3\\lib\\site-packages\\sklearn\\neural_network\\multilayer_perceptron.py:566: ConvergenceWarning: Stochastic Optimizer: Maximum iterations (200) reached and the optimization hasn't converged yet.\n",
      "  % self.max_iter, ConvergenceWarning)\n",
      "C:\\Users\\Miguel\\Anaconda3\\lib\\site-packages\\sklearn\\neural_network\\multilayer_perceptron.py:566: ConvergenceWarning: Stochastic Optimizer: Maximum iterations (200) reached and the optimization hasn't converged yet.\n",
      "  % self.max_iter, ConvergenceWarning)\n",
      "C:\\Users\\Miguel\\Anaconda3\\lib\\site-packages\\sklearn\\neural_network\\multilayer_perceptron.py:566: ConvergenceWarning: Stochastic Optimizer: Maximum iterations (200) reached and the optimization hasn't converged yet.\n",
      "  % self.max_iter, ConvergenceWarning)\n",
      "C:\\Users\\Miguel\\Anaconda3\\lib\\site-packages\\sklearn\\neural_network\\multilayer_perceptron.py:566: ConvergenceWarning: Stochastic Optimizer: Maximum iterations (200) reached and the optimization hasn't converged yet.\n",
      "  % self.max_iter, ConvergenceWarning)\n",
      "C:\\Users\\Miguel\\Anaconda3\\lib\\site-packages\\sklearn\\neural_network\\multilayer_perceptron.py:566: ConvergenceWarning: Stochastic Optimizer: Maximum iterations (200) reached and the optimization hasn't converged yet.\n",
      "  % self.max_iter, ConvergenceWarning)\n",
      "C:\\Users\\Miguel\\Anaconda3\\lib\\site-packages\\sklearn\\neural_network\\multilayer_perceptron.py:566: ConvergenceWarning: Stochastic Optimizer: Maximum iterations (200) reached and the optimization hasn't converged yet.\n",
      "  % self.max_iter, ConvergenceWarning)\n",
      "C:\\Users\\Miguel\\Anaconda3\\lib\\site-packages\\sklearn\\neural_network\\multilayer_perceptron.py:566: ConvergenceWarning: Stochastic Optimizer: Maximum iterations (200) reached and the optimization hasn't converged yet.\n",
      "  % self.max_iter, ConvergenceWarning)\n",
      "C:\\Users\\Miguel\\Anaconda3\\lib\\site-packages\\sklearn\\neural_network\\multilayer_perceptron.py:566: ConvergenceWarning: Stochastic Optimizer: Maximum iterations (200) reached and the optimization hasn't converged yet.\n",
      "  % self.max_iter, ConvergenceWarning)\n"
     ]
    },
    {
     "name": "stderr",
     "output_type": "stream",
     "text": [
      "C:\\Users\\Miguel\\Anaconda3\\lib\\site-packages\\sklearn\\neural_network\\multilayer_perceptron.py:566: ConvergenceWarning: Stochastic Optimizer: Maximum iterations (200) reached and the optimization hasn't converged yet.\n",
      "  % self.max_iter, ConvergenceWarning)\n",
      "C:\\Users\\Miguel\\Anaconda3\\lib\\site-packages\\sklearn\\neural_network\\multilayer_perceptron.py:566: ConvergenceWarning: Stochastic Optimizer: Maximum iterations (200) reached and the optimization hasn't converged yet.\n",
      "  % self.max_iter, ConvergenceWarning)\n",
      "C:\\Users\\Miguel\\Anaconda3\\lib\\site-packages\\sklearn\\neural_network\\multilayer_perceptron.py:566: ConvergenceWarning: Stochastic Optimizer: Maximum iterations (200) reached and the optimization hasn't converged yet.\n",
      "  % self.max_iter, ConvergenceWarning)\n",
      "C:\\Users\\Miguel\\Anaconda3\\lib\\site-packages\\sklearn\\neural_network\\multilayer_perceptron.py:566: ConvergenceWarning: Stochastic Optimizer: Maximum iterations (200) reached and the optimization hasn't converged yet.\n",
      "  % self.max_iter, ConvergenceWarning)\n",
      "C:\\Users\\Miguel\\Anaconda3\\lib\\site-packages\\sklearn\\neural_network\\multilayer_perceptron.py:566: ConvergenceWarning: Stochastic Optimizer: Maximum iterations (200) reached and the optimization hasn't converged yet.\n",
      "  % self.max_iter, ConvergenceWarning)\n",
      "C:\\Users\\Miguel\\Anaconda3\\lib\\site-packages\\sklearn\\neural_network\\multilayer_perceptron.py:566: ConvergenceWarning: Stochastic Optimizer: Maximum iterations (200) reached and the optimization hasn't converged yet.\n",
      "  % self.max_iter, ConvergenceWarning)\n",
      "C:\\Users\\Miguel\\Anaconda3\\lib\\site-packages\\sklearn\\neural_network\\multilayer_perceptron.py:566: ConvergenceWarning: Stochastic Optimizer: Maximum iterations (200) reached and the optimization hasn't converged yet.\n",
      "  % self.max_iter, ConvergenceWarning)\n",
      "C:\\Users\\Miguel\\Anaconda3\\lib\\site-packages\\sklearn\\neural_network\\multilayer_perceptron.py:566: ConvergenceWarning: Stochastic Optimizer: Maximum iterations (200) reached and the optimization hasn't converged yet.\n",
      "  % self.max_iter, ConvergenceWarning)\n",
      "C:\\Users\\Miguel\\Anaconda3\\lib\\site-packages\\sklearn\\neural_network\\multilayer_perceptron.py:566: ConvergenceWarning: Stochastic Optimizer: Maximum iterations (200) reached and the optimization hasn't converged yet.\n",
      "  % self.max_iter, ConvergenceWarning)\n",
      "C:\\Users\\Miguel\\Anaconda3\\lib\\site-packages\\sklearn\\neural_network\\multilayer_perceptron.py:566: ConvergenceWarning: Stochastic Optimizer: Maximum iterations (200) reached and the optimization hasn't converged yet.\n",
      "  % self.max_iter, ConvergenceWarning)\n",
      "C:\\Users\\Miguel\\Anaconda3\\lib\\site-packages\\sklearn\\neural_network\\multilayer_perceptron.py:566: ConvergenceWarning: Stochastic Optimizer: Maximum iterations (200) reached and the optimization hasn't converged yet.\n",
      "  % self.max_iter, ConvergenceWarning)\n",
      "C:\\Users\\Miguel\\Anaconda3\\lib\\site-packages\\sklearn\\neural_network\\multilayer_perceptron.py:566: ConvergenceWarning: Stochastic Optimizer: Maximum iterations (200) reached and the optimization hasn't converged yet.\n",
      "  % self.max_iter, ConvergenceWarning)\n",
      "C:\\Users\\Miguel\\Anaconda3\\lib\\site-packages\\sklearn\\neural_network\\multilayer_perceptron.py:566: ConvergenceWarning: Stochastic Optimizer: Maximum iterations (200) reached and the optimization hasn't converged yet.\n",
      "  % self.max_iter, ConvergenceWarning)\n",
      "C:\\Users\\Miguel\\Anaconda3\\lib\\site-packages\\sklearn\\neural_network\\multilayer_perceptron.py:566: ConvergenceWarning: Stochastic Optimizer: Maximum iterations (200) reached and the optimization hasn't converged yet.\n",
      "  % self.max_iter, ConvergenceWarning)\n",
      "C:\\Users\\Miguel\\Anaconda3\\lib\\site-packages\\sklearn\\neural_network\\multilayer_perceptron.py:566: ConvergenceWarning: Stochastic Optimizer: Maximum iterations (200) reached and the optimization hasn't converged yet.\n",
      "  % self.max_iter, ConvergenceWarning)\n",
      "C:\\Users\\Miguel\\Anaconda3\\lib\\site-packages\\sklearn\\neural_network\\multilayer_perceptron.py:566: ConvergenceWarning: Stochastic Optimizer: Maximum iterations (200) reached and the optimization hasn't converged yet.\n",
      "  % self.max_iter, ConvergenceWarning)\n",
      "C:\\Users\\Miguel\\Anaconda3\\lib\\site-packages\\sklearn\\neural_network\\multilayer_perceptron.py:566: ConvergenceWarning: Stochastic Optimizer: Maximum iterations (200) reached and the optimization hasn't converged yet.\n",
      "  % self.max_iter, ConvergenceWarning)\n",
      "C:\\Users\\Miguel\\Anaconda3\\lib\\site-packages\\sklearn\\neural_network\\multilayer_perceptron.py:566: ConvergenceWarning: Stochastic Optimizer: Maximum iterations (200) reached and the optimization hasn't converged yet.\n",
      "  % self.max_iter, ConvergenceWarning)\n",
      "C:\\Users\\Miguel\\Anaconda3\\lib\\site-packages\\sklearn\\neural_network\\multilayer_perceptron.py:566: ConvergenceWarning: Stochastic Optimizer: Maximum iterations (200) reached and the optimization hasn't converged yet.\n",
      "  % self.max_iter, ConvergenceWarning)\n",
      "C:\\Users\\Miguel\\Anaconda3\\lib\\site-packages\\sklearn\\neural_network\\multilayer_perceptron.py:566: ConvergenceWarning: Stochastic Optimizer: Maximum iterations (200) reached and the optimization hasn't converged yet.\n",
      "  % self.max_iter, ConvergenceWarning)\n",
      "C:\\Users\\Miguel\\Anaconda3\\lib\\site-packages\\sklearn\\neural_network\\multilayer_perceptron.py:566: ConvergenceWarning: Stochastic Optimizer: Maximum iterations (200) reached and the optimization hasn't converged yet.\n",
      "  % self.max_iter, ConvergenceWarning)\n",
      "C:\\Users\\Miguel\\Anaconda3\\lib\\site-packages\\sklearn\\neural_network\\multilayer_perceptron.py:566: ConvergenceWarning: Stochastic Optimizer: Maximum iterations (200) reached and the optimization hasn't converged yet.\n",
      "  % self.max_iter, ConvergenceWarning)\n",
      "C:\\Users\\Miguel\\Anaconda3\\lib\\site-packages\\sklearn\\neural_network\\multilayer_perceptron.py:566: ConvergenceWarning: Stochastic Optimizer: Maximum iterations (200) reached and the optimization hasn't converged yet.\n",
      "  % self.max_iter, ConvergenceWarning)\n",
      "C:\\Users\\Miguel\\Anaconda3\\lib\\site-packages\\sklearn\\neural_network\\multilayer_perceptron.py:566: ConvergenceWarning: Stochastic Optimizer: Maximum iterations (200) reached and the optimization hasn't converged yet.\n",
      "  % self.max_iter, ConvergenceWarning)\n",
      "C:\\Users\\Miguel\\Anaconda3\\lib\\site-packages\\sklearn\\neural_network\\multilayer_perceptron.py:566: ConvergenceWarning: Stochastic Optimizer: Maximum iterations (200) reached and the optimization hasn't converged yet.\n",
      "  % self.max_iter, ConvergenceWarning)\n",
      "C:\\Users\\Miguel\\Anaconda3\\lib\\site-packages\\sklearn\\neural_network\\multilayer_perceptron.py:566: ConvergenceWarning: Stochastic Optimizer: Maximum iterations (200) reached and the optimization hasn't converged yet.\n",
      "  % self.max_iter, ConvergenceWarning)\n",
      "C:\\Users\\Miguel\\Anaconda3\\lib\\site-packages\\sklearn\\neural_network\\multilayer_perceptron.py:566: ConvergenceWarning: Stochastic Optimizer: Maximum iterations (200) reached and the optimization hasn't converged yet.\n",
      "  % self.max_iter, ConvergenceWarning)\n",
      "C:\\Users\\Miguel\\Anaconda3\\lib\\site-packages\\sklearn\\neural_network\\multilayer_perceptron.py:566: ConvergenceWarning: Stochastic Optimizer: Maximum iterations (200) reached and the optimization hasn't converged yet.\n",
      "  % self.max_iter, ConvergenceWarning)\n",
      "C:\\Users\\Miguel\\Anaconda3\\lib\\site-packages\\sklearn\\neural_network\\multilayer_perceptron.py:566: ConvergenceWarning: Stochastic Optimizer: Maximum iterations (200) reached and the optimization hasn't converged yet.\n",
      "  % self.max_iter, ConvergenceWarning)\n",
      "C:\\Users\\Miguel\\Anaconda3\\lib\\site-packages\\sklearn\\neural_network\\multilayer_perceptron.py:566: ConvergenceWarning: Stochastic Optimizer: Maximum iterations (200) reached and the optimization hasn't converged yet.\n",
      "  % self.max_iter, ConvergenceWarning)\n",
      "C:\\Users\\Miguel\\Anaconda3\\lib\\site-packages\\sklearn\\neural_network\\multilayer_perceptron.py:566: ConvergenceWarning: Stochastic Optimizer: Maximum iterations (200) reached and the optimization hasn't converged yet.\n",
      "  % self.max_iter, ConvergenceWarning)\n",
      "C:\\Users\\Miguel\\Anaconda3\\lib\\site-packages\\sklearn\\neural_network\\multilayer_perceptron.py:566: ConvergenceWarning: Stochastic Optimizer: Maximum iterations (200) reached and the optimization hasn't converged yet.\n",
      "  % self.max_iter, ConvergenceWarning)\n",
      "C:\\Users\\Miguel\\Anaconda3\\lib\\site-packages\\sklearn\\neural_network\\multilayer_perceptron.py:566: ConvergenceWarning: Stochastic Optimizer: Maximum iterations (200) reached and the optimization hasn't converged yet.\n",
      "  % self.max_iter, ConvergenceWarning)\n"
     ]
    },
    {
     "name": "stderr",
     "output_type": "stream",
     "text": [
      "C:\\Users\\Miguel\\Anaconda3\\lib\\site-packages\\sklearn\\neural_network\\multilayer_perceptron.py:566: ConvergenceWarning: Stochastic Optimizer: Maximum iterations (200) reached and the optimization hasn't converged yet.\n",
      "  % self.max_iter, ConvergenceWarning)\n",
      "C:\\Users\\Miguel\\Anaconda3\\lib\\site-packages\\sklearn\\neural_network\\multilayer_perceptron.py:566: ConvergenceWarning: Stochastic Optimizer: Maximum iterations (200) reached and the optimization hasn't converged yet.\n",
      "  % self.max_iter, ConvergenceWarning)\n",
      "C:\\Users\\Miguel\\Anaconda3\\lib\\site-packages\\sklearn\\neural_network\\multilayer_perceptron.py:566: ConvergenceWarning: Stochastic Optimizer: Maximum iterations (200) reached and the optimization hasn't converged yet.\n",
      "  % self.max_iter, ConvergenceWarning)\n",
      "C:\\Users\\Miguel\\Anaconda3\\lib\\site-packages\\sklearn\\neural_network\\multilayer_perceptron.py:566: ConvergenceWarning: Stochastic Optimizer: Maximum iterations (200) reached and the optimization hasn't converged yet.\n",
      "  % self.max_iter, ConvergenceWarning)\n",
      "C:\\Users\\Miguel\\Anaconda3\\lib\\site-packages\\sklearn\\neural_network\\multilayer_perceptron.py:566: ConvergenceWarning: Stochastic Optimizer: Maximum iterations (200) reached and the optimization hasn't converged yet.\n",
      "  % self.max_iter, ConvergenceWarning)\n",
      "C:\\Users\\Miguel\\Anaconda3\\lib\\site-packages\\sklearn\\neural_network\\multilayer_perceptron.py:566: ConvergenceWarning: Stochastic Optimizer: Maximum iterations (200) reached and the optimization hasn't converged yet.\n",
      "  % self.max_iter, ConvergenceWarning)\n",
      "C:\\Users\\Miguel\\Anaconda3\\lib\\site-packages\\sklearn\\neural_network\\multilayer_perceptron.py:566: ConvergenceWarning: Stochastic Optimizer: Maximum iterations (200) reached and the optimization hasn't converged yet.\n",
      "  % self.max_iter, ConvergenceWarning)\n",
      "C:\\Users\\Miguel\\Anaconda3\\lib\\site-packages\\sklearn\\neural_network\\multilayer_perceptron.py:566: ConvergenceWarning: Stochastic Optimizer: Maximum iterations (200) reached and the optimization hasn't converged yet.\n",
      "  % self.max_iter, ConvergenceWarning)\n",
      "C:\\Users\\Miguel\\Anaconda3\\lib\\site-packages\\sklearn\\neural_network\\multilayer_perceptron.py:566: ConvergenceWarning: Stochastic Optimizer: Maximum iterations (200) reached and the optimization hasn't converged yet.\n",
      "  % self.max_iter, ConvergenceWarning)\n",
      "C:\\Users\\Miguel\\Anaconda3\\lib\\site-packages\\sklearn\\neural_network\\multilayer_perceptron.py:566: ConvergenceWarning: Stochastic Optimizer: Maximum iterations (200) reached and the optimization hasn't converged yet.\n",
      "  % self.max_iter, ConvergenceWarning)\n",
      "C:\\Users\\Miguel\\Anaconda3\\lib\\site-packages\\sklearn\\neural_network\\multilayer_perceptron.py:566: ConvergenceWarning: Stochastic Optimizer: Maximum iterations (200) reached and the optimization hasn't converged yet.\n",
      "  % self.max_iter, ConvergenceWarning)\n",
      "C:\\Users\\Miguel\\Anaconda3\\lib\\site-packages\\sklearn\\neural_network\\multilayer_perceptron.py:566: ConvergenceWarning: Stochastic Optimizer: Maximum iterations (200) reached and the optimization hasn't converged yet.\n",
      "  % self.max_iter, ConvergenceWarning)\n",
      "C:\\Users\\Miguel\\Anaconda3\\lib\\site-packages\\sklearn\\neural_network\\multilayer_perceptron.py:566: ConvergenceWarning: Stochastic Optimizer: Maximum iterations (200) reached and the optimization hasn't converged yet.\n",
      "  % self.max_iter, ConvergenceWarning)\n",
      "C:\\Users\\Miguel\\Anaconda3\\lib\\site-packages\\sklearn\\neural_network\\multilayer_perceptron.py:566: ConvergenceWarning: Stochastic Optimizer: Maximum iterations (200) reached and the optimization hasn't converged yet.\n",
      "  % self.max_iter, ConvergenceWarning)\n",
      "C:\\Users\\Miguel\\Anaconda3\\lib\\site-packages\\sklearn\\neural_network\\multilayer_perceptron.py:566: ConvergenceWarning: Stochastic Optimizer: Maximum iterations (200) reached and the optimization hasn't converged yet.\n",
      "  % self.max_iter, ConvergenceWarning)\n",
      "C:\\Users\\Miguel\\Anaconda3\\lib\\site-packages\\sklearn\\neural_network\\multilayer_perceptron.py:566: ConvergenceWarning: Stochastic Optimizer: Maximum iterations (200) reached and the optimization hasn't converged yet.\n",
      "  % self.max_iter, ConvergenceWarning)\n",
      "C:\\Users\\Miguel\\Anaconda3\\lib\\site-packages\\sklearn\\neural_network\\multilayer_perceptron.py:566: ConvergenceWarning: Stochastic Optimizer: Maximum iterations (200) reached and the optimization hasn't converged yet.\n",
      "  % self.max_iter, ConvergenceWarning)\n",
      "C:\\Users\\Miguel\\Anaconda3\\lib\\site-packages\\sklearn\\neural_network\\multilayer_perceptron.py:566: ConvergenceWarning: Stochastic Optimizer: Maximum iterations (200) reached and the optimization hasn't converged yet.\n",
      "  % self.max_iter, ConvergenceWarning)\n",
      "C:\\Users\\Miguel\\Anaconda3\\lib\\site-packages\\sklearn\\neural_network\\multilayer_perceptron.py:566: ConvergenceWarning: Stochastic Optimizer: Maximum iterations (200) reached and the optimization hasn't converged yet.\n",
      "  % self.max_iter, ConvergenceWarning)\n",
      "C:\\Users\\Miguel\\Anaconda3\\lib\\site-packages\\sklearn\\neural_network\\multilayer_perceptron.py:566: ConvergenceWarning: Stochastic Optimizer: Maximum iterations (200) reached and the optimization hasn't converged yet.\n",
      "  % self.max_iter, ConvergenceWarning)\n",
      "C:\\Users\\Miguel\\Anaconda3\\lib\\site-packages\\sklearn\\neural_network\\multilayer_perceptron.py:566: ConvergenceWarning: Stochastic Optimizer: Maximum iterations (200) reached and the optimization hasn't converged yet.\n",
      "  % self.max_iter, ConvergenceWarning)\n",
      "C:\\Users\\Miguel\\Anaconda3\\lib\\site-packages\\sklearn\\neural_network\\multilayer_perceptron.py:566: ConvergenceWarning: Stochastic Optimizer: Maximum iterations (200) reached and the optimization hasn't converged yet.\n",
      "  % self.max_iter, ConvergenceWarning)\n",
      "C:\\Users\\Miguel\\Anaconda3\\lib\\site-packages\\sklearn\\neural_network\\multilayer_perceptron.py:566: ConvergenceWarning: Stochastic Optimizer: Maximum iterations (200) reached and the optimization hasn't converged yet.\n",
      "  % self.max_iter, ConvergenceWarning)\n",
      "C:\\Users\\Miguel\\Anaconda3\\lib\\site-packages\\sklearn\\neural_network\\multilayer_perceptron.py:566: ConvergenceWarning: Stochastic Optimizer: Maximum iterations (200) reached and the optimization hasn't converged yet.\n",
      "  % self.max_iter, ConvergenceWarning)\n",
      "C:\\Users\\Miguel\\Anaconda3\\lib\\site-packages\\sklearn\\neural_network\\multilayer_perceptron.py:566: ConvergenceWarning: Stochastic Optimizer: Maximum iterations (200) reached and the optimization hasn't converged yet.\n",
      "  % self.max_iter, ConvergenceWarning)\n",
      "C:\\Users\\Miguel\\Anaconda3\\lib\\site-packages\\sklearn\\neural_network\\multilayer_perceptron.py:566: ConvergenceWarning: Stochastic Optimizer: Maximum iterations (200) reached and the optimization hasn't converged yet.\n",
      "  % self.max_iter, ConvergenceWarning)\n",
      "C:\\Users\\Miguel\\Anaconda3\\lib\\site-packages\\sklearn\\neural_network\\multilayer_perceptron.py:566: ConvergenceWarning: Stochastic Optimizer: Maximum iterations (200) reached and the optimization hasn't converged yet.\n",
      "  % self.max_iter, ConvergenceWarning)\n",
      "C:\\Users\\Miguel\\Anaconda3\\lib\\site-packages\\sklearn\\neural_network\\multilayer_perceptron.py:566: ConvergenceWarning: Stochastic Optimizer: Maximum iterations (200) reached and the optimization hasn't converged yet.\n",
      "  % self.max_iter, ConvergenceWarning)\n",
      "C:\\Users\\Miguel\\Anaconda3\\lib\\site-packages\\sklearn\\neural_network\\multilayer_perceptron.py:566: ConvergenceWarning: Stochastic Optimizer: Maximum iterations (200) reached and the optimization hasn't converged yet.\n",
      "  % self.max_iter, ConvergenceWarning)\n",
      "C:\\Users\\Miguel\\Anaconda3\\lib\\site-packages\\sklearn\\neural_network\\multilayer_perceptron.py:566: ConvergenceWarning: Stochastic Optimizer: Maximum iterations (200) reached and the optimization hasn't converged yet.\n",
      "  % self.max_iter, ConvergenceWarning)\n",
      "C:\\Users\\Miguel\\Anaconda3\\lib\\site-packages\\sklearn\\neural_network\\multilayer_perceptron.py:566: ConvergenceWarning: Stochastic Optimizer: Maximum iterations (200) reached and the optimization hasn't converged yet.\n",
      "  % self.max_iter, ConvergenceWarning)\n",
      "C:\\Users\\Miguel\\Anaconda3\\lib\\site-packages\\sklearn\\neural_network\\multilayer_perceptron.py:566: ConvergenceWarning: Stochastic Optimizer: Maximum iterations (200) reached and the optimization hasn't converged yet.\n",
      "  % self.max_iter, ConvergenceWarning)\n",
      "C:\\Users\\Miguel\\Anaconda3\\lib\\site-packages\\sklearn\\neural_network\\multilayer_perceptron.py:566: ConvergenceWarning: Stochastic Optimizer: Maximum iterations (200) reached and the optimization hasn't converged yet.\n",
      "  % self.max_iter, ConvergenceWarning)\n"
     ]
    },
    {
     "name": "stderr",
     "output_type": "stream",
     "text": [
      "C:\\Users\\Miguel\\Anaconda3\\lib\\site-packages\\sklearn\\neural_network\\multilayer_perceptron.py:566: ConvergenceWarning: Stochastic Optimizer: Maximum iterations (200) reached and the optimization hasn't converged yet.\n",
      "  % self.max_iter, ConvergenceWarning)\n",
      "C:\\Users\\Miguel\\Anaconda3\\lib\\site-packages\\sklearn\\neural_network\\multilayer_perceptron.py:566: ConvergenceWarning: Stochastic Optimizer: Maximum iterations (200) reached and the optimization hasn't converged yet.\n",
      "  % self.max_iter, ConvergenceWarning)\n",
      "C:\\Users\\Miguel\\Anaconda3\\lib\\site-packages\\sklearn\\neural_network\\multilayer_perceptron.py:566: ConvergenceWarning: Stochastic Optimizer: Maximum iterations (200) reached and the optimization hasn't converged yet.\n",
      "  % self.max_iter, ConvergenceWarning)\n",
      "C:\\Users\\Miguel\\Anaconda3\\lib\\site-packages\\sklearn\\neural_network\\multilayer_perceptron.py:566: ConvergenceWarning: Stochastic Optimizer: Maximum iterations (200) reached and the optimization hasn't converged yet.\n",
      "  % self.max_iter, ConvergenceWarning)\n",
      "C:\\Users\\Miguel\\Anaconda3\\lib\\site-packages\\sklearn\\neural_network\\multilayer_perceptron.py:566: ConvergenceWarning: Stochastic Optimizer: Maximum iterations (200) reached and the optimization hasn't converged yet.\n",
      "  % self.max_iter, ConvergenceWarning)\n",
      "C:\\Users\\Miguel\\Anaconda3\\lib\\site-packages\\sklearn\\neural_network\\multilayer_perceptron.py:566: ConvergenceWarning: Stochastic Optimizer: Maximum iterations (200) reached and the optimization hasn't converged yet.\n",
      "  % self.max_iter, ConvergenceWarning)\n",
      "C:\\Users\\Miguel\\Anaconda3\\lib\\site-packages\\sklearn\\neural_network\\multilayer_perceptron.py:566: ConvergenceWarning: Stochastic Optimizer: Maximum iterations (200) reached and the optimization hasn't converged yet.\n",
      "  % self.max_iter, ConvergenceWarning)\n",
      "C:\\Users\\Miguel\\Anaconda3\\lib\\site-packages\\sklearn\\neural_network\\multilayer_perceptron.py:566: ConvergenceWarning: Stochastic Optimizer: Maximum iterations (200) reached and the optimization hasn't converged yet.\n",
      "  % self.max_iter, ConvergenceWarning)\n",
      "C:\\Users\\Miguel\\Anaconda3\\lib\\site-packages\\sklearn\\neural_network\\multilayer_perceptron.py:566: ConvergenceWarning: Stochastic Optimizer: Maximum iterations (200) reached and the optimization hasn't converged yet.\n",
      "  % self.max_iter, ConvergenceWarning)\n",
      "C:\\Users\\Miguel\\Anaconda3\\lib\\site-packages\\sklearn\\neural_network\\multilayer_perceptron.py:566: ConvergenceWarning: Stochastic Optimizer: Maximum iterations (200) reached and the optimization hasn't converged yet.\n",
      "  % self.max_iter, ConvergenceWarning)\n",
      "C:\\Users\\Miguel\\Anaconda3\\lib\\site-packages\\sklearn\\neural_network\\multilayer_perceptron.py:566: ConvergenceWarning: Stochastic Optimizer: Maximum iterations (200) reached and the optimization hasn't converged yet.\n",
      "  % self.max_iter, ConvergenceWarning)\n",
      "C:\\Users\\Miguel\\Anaconda3\\lib\\site-packages\\sklearn\\neural_network\\multilayer_perceptron.py:566: ConvergenceWarning: Stochastic Optimizer: Maximum iterations (200) reached and the optimization hasn't converged yet.\n",
      "  % self.max_iter, ConvergenceWarning)\n",
      "C:\\Users\\Miguel\\Anaconda3\\lib\\site-packages\\sklearn\\neural_network\\multilayer_perceptron.py:566: ConvergenceWarning: Stochastic Optimizer: Maximum iterations (200) reached and the optimization hasn't converged yet.\n",
      "  % self.max_iter, ConvergenceWarning)\n",
      "C:\\Users\\Miguel\\Anaconda3\\lib\\site-packages\\sklearn\\neural_network\\multilayer_perceptron.py:566: ConvergenceWarning: Stochastic Optimizer: Maximum iterations (200) reached and the optimization hasn't converged yet.\n",
      "  % self.max_iter, ConvergenceWarning)\n",
      "C:\\Users\\Miguel\\Anaconda3\\lib\\site-packages\\sklearn\\neural_network\\multilayer_perceptron.py:566: ConvergenceWarning: Stochastic Optimizer: Maximum iterations (200) reached and the optimization hasn't converged yet.\n",
      "  % self.max_iter, ConvergenceWarning)\n",
      "C:\\Users\\Miguel\\Anaconda3\\lib\\site-packages\\sklearn\\neural_network\\multilayer_perceptron.py:566: ConvergenceWarning: Stochastic Optimizer: Maximum iterations (200) reached and the optimization hasn't converged yet.\n",
      "  % self.max_iter, ConvergenceWarning)\n",
      "C:\\Users\\Miguel\\Anaconda3\\lib\\site-packages\\sklearn\\neural_network\\multilayer_perceptron.py:566: ConvergenceWarning: Stochastic Optimizer: Maximum iterations (200) reached and the optimization hasn't converged yet.\n",
      "  % self.max_iter, ConvergenceWarning)\n",
      "C:\\Users\\Miguel\\Anaconda3\\lib\\site-packages\\sklearn\\neural_network\\multilayer_perceptron.py:566: ConvergenceWarning: Stochastic Optimizer: Maximum iterations (200) reached and the optimization hasn't converged yet.\n",
      "  % self.max_iter, ConvergenceWarning)\n",
      "C:\\Users\\Miguel\\Anaconda3\\lib\\site-packages\\sklearn\\neural_network\\multilayer_perceptron.py:566: ConvergenceWarning: Stochastic Optimizer: Maximum iterations (200) reached and the optimization hasn't converged yet.\n",
      "  % self.max_iter, ConvergenceWarning)\n",
      "C:\\Users\\Miguel\\Anaconda3\\lib\\site-packages\\sklearn\\neural_network\\multilayer_perceptron.py:566: ConvergenceWarning: Stochastic Optimizer: Maximum iterations (200) reached and the optimization hasn't converged yet.\n",
      "  % self.max_iter, ConvergenceWarning)\n",
      "C:\\Users\\Miguel\\Anaconda3\\lib\\site-packages\\sklearn\\neural_network\\multilayer_perceptron.py:566: ConvergenceWarning: Stochastic Optimizer: Maximum iterations (200) reached and the optimization hasn't converged yet.\n",
      "  % self.max_iter, ConvergenceWarning)\n",
      "C:\\Users\\Miguel\\Anaconda3\\lib\\site-packages\\sklearn\\neural_network\\multilayer_perceptron.py:566: ConvergenceWarning: Stochastic Optimizer: Maximum iterations (200) reached and the optimization hasn't converged yet.\n",
      "  % self.max_iter, ConvergenceWarning)\n",
      "C:\\Users\\Miguel\\Anaconda3\\lib\\site-packages\\sklearn\\neural_network\\multilayer_perceptron.py:566: ConvergenceWarning: Stochastic Optimizer: Maximum iterations (200) reached and the optimization hasn't converged yet.\n",
      "  % self.max_iter, ConvergenceWarning)\n",
      "C:\\Users\\Miguel\\Anaconda3\\lib\\site-packages\\sklearn\\neural_network\\multilayer_perceptron.py:566: ConvergenceWarning: Stochastic Optimizer: Maximum iterations (200) reached and the optimization hasn't converged yet.\n",
      "  % self.max_iter, ConvergenceWarning)\n",
      "C:\\Users\\Miguel\\Anaconda3\\lib\\site-packages\\sklearn\\neural_network\\multilayer_perceptron.py:566: ConvergenceWarning: Stochastic Optimizer: Maximum iterations (200) reached and the optimization hasn't converged yet.\n",
      "  % self.max_iter, ConvergenceWarning)\n",
      "C:\\Users\\Miguel\\Anaconda3\\lib\\site-packages\\sklearn\\neural_network\\multilayer_perceptron.py:566: ConvergenceWarning: Stochastic Optimizer: Maximum iterations (200) reached and the optimization hasn't converged yet.\n",
      "  % self.max_iter, ConvergenceWarning)\n",
      "C:\\Users\\Miguel\\Anaconda3\\lib\\site-packages\\sklearn\\neural_network\\multilayer_perceptron.py:566: ConvergenceWarning: Stochastic Optimizer: Maximum iterations (200) reached and the optimization hasn't converged yet.\n",
      "  % self.max_iter, ConvergenceWarning)\n",
      "C:\\Users\\Miguel\\Anaconda3\\lib\\site-packages\\sklearn\\neural_network\\multilayer_perceptron.py:566: ConvergenceWarning: Stochastic Optimizer: Maximum iterations (200) reached and the optimization hasn't converged yet.\n",
      "  % self.max_iter, ConvergenceWarning)\n",
      "C:\\Users\\Miguel\\Anaconda3\\lib\\site-packages\\sklearn\\neural_network\\multilayer_perceptron.py:566: ConvergenceWarning: Stochastic Optimizer: Maximum iterations (200) reached and the optimization hasn't converged yet.\n",
      "  % self.max_iter, ConvergenceWarning)\n",
      "C:\\Users\\Miguel\\Anaconda3\\lib\\site-packages\\sklearn\\neural_network\\multilayer_perceptron.py:566: ConvergenceWarning: Stochastic Optimizer: Maximum iterations (200) reached and the optimization hasn't converged yet.\n",
      "  % self.max_iter, ConvergenceWarning)\n",
      "C:\\Users\\Miguel\\Anaconda3\\lib\\site-packages\\sklearn\\neural_network\\multilayer_perceptron.py:566: ConvergenceWarning: Stochastic Optimizer: Maximum iterations (200) reached and the optimization hasn't converged yet.\n",
      "  % self.max_iter, ConvergenceWarning)\n",
      "C:\\Users\\Miguel\\Anaconda3\\lib\\site-packages\\sklearn\\neural_network\\multilayer_perceptron.py:566: ConvergenceWarning: Stochastic Optimizer: Maximum iterations (200) reached and the optimization hasn't converged yet.\n",
      "  % self.max_iter, ConvergenceWarning)\n",
      "C:\\Users\\Miguel\\Anaconda3\\lib\\site-packages\\sklearn\\neural_network\\multilayer_perceptron.py:566: ConvergenceWarning: Stochastic Optimizer: Maximum iterations (200) reached and the optimization hasn't converged yet.\n",
      "  % self.max_iter, ConvergenceWarning)\n"
     ]
    },
    {
     "name": "stderr",
     "output_type": "stream",
     "text": [
      "C:\\Users\\Miguel\\Anaconda3\\lib\\site-packages\\sklearn\\neural_network\\multilayer_perceptron.py:566: ConvergenceWarning: Stochastic Optimizer: Maximum iterations (200) reached and the optimization hasn't converged yet.\n",
      "  % self.max_iter, ConvergenceWarning)\n",
      "C:\\Users\\Miguel\\Anaconda3\\lib\\site-packages\\sklearn\\neural_network\\multilayer_perceptron.py:566: ConvergenceWarning: Stochastic Optimizer: Maximum iterations (200) reached and the optimization hasn't converged yet.\n",
      "  % self.max_iter, ConvergenceWarning)\n",
      "C:\\Users\\Miguel\\Anaconda3\\lib\\site-packages\\sklearn\\neural_network\\multilayer_perceptron.py:566: ConvergenceWarning: Stochastic Optimizer: Maximum iterations (200) reached and the optimization hasn't converged yet.\n",
      "  % self.max_iter, ConvergenceWarning)\n",
      "C:\\Users\\Miguel\\Anaconda3\\lib\\site-packages\\sklearn\\neural_network\\multilayer_perceptron.py:566: ConvergenceWarning: Stochastic Optimizer: Maximum iterations (200) reached and the optimization hasn't converged yet.\n",
      "  % self.max_iter, ConvergenceWarning)\n",
      "C:\\Users\\Miguel\\Anaconda3\\lib\\site-packages\\sklearn\\neural_network\\multilayer_perceptron.py:566: ConvergenceWarning: Stochastic Optimizer: Maximum iterations (200) reached and the optimization hasn't converged yet.\n",
      "  % self.max_iter, ConvergenceWarning)\n",
      "C:\\Users\\Miguel\\Anaconda3\\lib\\site-packages\\sklearn\\neural_network\\multilayer_perceptron.py:566: ConvergenceWarning: Stochastic Optimizer: Maximum iterations (200) reached and the optimization hasn't converged yet.\n",
      "  % self.max_iter, ConvergenceWarning)\n",
      "C:\\Users\\Miguel\\Anaconda3\\lib\\site-packages\\sklearn\\neural_network\\multilayer_perceptron.py:566: ConvergenceWarning: Stochastic Optimizer: Maximum iterations (200) reached and the optimization hasn't converged yet.\n",
      "  % self.max_iter, ConvergenceWarning)\n",
      "C:\\Users\\Miguel\\Anaconda3\\lib\\site-packages\\sklearn\\neural_network\\multilayer_perceptron.py:566: ConvergenceWarning: Stochastic Optimizer: Maximum iterations (200) reached and the optimization hasn't converged yet.\n",
      "  % self.max_iter, ConvergenceWarning)\n",
      "C:\\Users\\Miguel\\Anaconda3\\lib\\site-packages\\sklearn\\neural_network\\multilayer_perceptron.py:566: ConvergenceWarning: Stochastic Optimizer: Maximum iterations (200) reached and the optimization hasn't converged yet.\n",
      "  % self.max_iter, ConvergenceWarning)\n",
      "C:\\Users\\Miguel\\Anaconda3\\lib\\site-packages\\sklearn\\neural_network\\multilayer_perceptron.py:566: ConvergenceWarning: Stochastic Optimizer: Maximum iterations (200) reached and the optimization hasn't converged yet.\n",
      "  % self.max_iter, ConvergenceWarning)\n",
      "C:\\Users\\Miguel\\Anaconda3\\lib\\site-packages\\sklearn\\neural_network\\multilayer_perceptron.py:566: ConvergenceWarning: Stochastic Optimizer: Maximum iterations (200) reached and the optimization hasn't converged yet.\n",
      "  % self.max_iter, ConvergenceWarning)\n",
      "C:\\Users\\Miguel\\Anaconda3\\lib\\site-packages\\sklearn\\neural_network\\multilayer_perceptron.py:566: ConvergenceWarning: Stochastic Optimizer: Maximum iterations (200) reached and the optimization hasn't converged yet.\n",
      "  % self.max_iter, ConvergenceWarning)\n",
      "C:\\Users\\Miguel\\Anaconda3\\lib\\site-packages\\sklearn\\neural_network\\multilayer_perceptron.py:566: ConvergenceWarning: Stochastic Optimizer: Maximum iterations (200) reached and the optimization hasn't converged yet.\n",
      "  % self.max_iter, ConvergenceWarning)\n",
      "C:\\Users\\Miguel\\Anaconda3\\lib\\site-packages\\sklearn\\neural_network\\multilayer_perceptron.py:566: ConvergenceWarning: Stochastic Optimizer: Maximum iterations (200) reached and the optimization hasn't converged yet.\n",
      "  % self.max_iter, ConvergenceWarning)\n",
      "C:\\Users\\Miguel\\Anaconda3\\lib\\site-packages\\sklearn\\neural_network\\multilayer_perceptron.py:566: ConvergenceWarning: Stochastic Optimizer: Maximum iterations (200) reached and the optimization hasn't converged yet.\n",
      "  % self.max_iter, ConvergenceWarning)\n",
      "C:\\Users\\Miguel\\Anaconda3\\lib\\site-packages\\sklearn\\neural_network\\multilayer_perceptron.py:566: ConvergenceWarning: Stochastic Optimizer: Maximum iterations (200) reached and the optimization hasn't converged yet.\n",
      "  % self.max_iter, ConvergenceWarning)\n",
      "C:\\Users\\Miguel\\Anaconda3\\lib\\site-packages\\sklearn\\neural_network\\multilayer_perceptron.py:566: ConvergenceWarning: Stochastic Optimizer: Maximum iterations (200) reached and the optimization hasn't converged yet.\n",
      "  % self.max_iter, ConvergenceWarning)\n",
      "C:\\Users\\Miguel\\Anaconda3\\lib\\site-packages\\sklearn\\neural_network\\multilayer_perceptron.py:566: ConvergenceWarning: Stochastic Optimizer: Maximum iterations (200) reached and the optimization hasn't converged yet.\n",
      "  % self.max_iter, ConvergenceWarning)\n",
      "C:\\Users\\Miguel\\Anaconda3\\lib\\site-packages\\sklearn\\neural_network\\multilayer_perceptron.py:566: ConvergenceWarning: Stochastic Optimizer: Maximum iterations (200) reached and the optimization hasn't converged yet.\n",
      "  % self.max_iter, ConvergenceWarning)\n",
      "C:\\Users\\Miguel\\Anaconda3\\lib\\site-packages\\sklearn\\neural_network\\multilayer_perceptron.py:566: ConvergenceWarning: Stochastic Optimizer: Maximum iterations (200) reached and the optimization hasn't converged yet.\n",
      "  % self.max_iter, ConvergenceWarning)\n",
      "C:\\Users\\Miguel\\Anaconda3\\lib\\site-packages\\sklearn\\neural_network\\multilayer_perceptron.py:566: ConvergenceWarning: Stochastic Optimizer: Maximum iterations (200) reached and the optimization hasn't converged yet.\n",
      "  % self.max_iter, ConvergenceWarning)\n",
      "C:\\Users\\Miguel\\Anaconda3\\lib\\site-packages\\sklearn\\neural_network\\multilayer_perceptron.py:566: ConvergenceWarning: Stochastic Optimizer: Maximum iterations (200) reached and the optimization hasn't converged yet.\n",
      "  % self.max_iter, ConvergenceWarning)\n",
      "C:\\Users\\Miguel\\Anaconda3\\lib\\site-packages\\sklearn\\neural_network\\multilayer_perceptron.py:566: ConvergenceWarning: Stochastic Optimizer: Maximum iterations (200) reached and the optimization hasn't converged yet.\n",
      "  % self.max_iter, ConvergenceWarning)\n",
      "C:\\Users\\Miguel\\Anaconda3\\lib\\site-packages\\sklearn\\neural_network\\multilayer_perceptron.py:566: ConvergenceWarning: Stochastic Optimizer: Maximum iterations (200) reached and the optimization hasn't converged yet.\n",
      "  % self.max_iter, ConvergenceWarning)\n",
      "C:\\Users\\Miguel\\Anaconda3\\lib\\site-packages\\sklearn\\neural_network\\multilayer_perceptron.py:566: ConvergenceWarning: Stochastic Optimizer: Maximum iterations (200) reached and the optimization hasn't converged yet.\n",
      "  % self.max_iter, ConvergenceWarning)\n",
      "C:\\Users\\Miguel\\Anaconda3\\lib\\site-packages\\sklearn\\neural_network\\multilayer_perceptron.py:566: ConvergenceWarning: Stochastic Optimizer: Maximum iterations (200) reached and the optimization hasn't converged yet.\n",
      "  % self.max_iter, ConvergenceWarning)\n",
      "C:\\Users\\Miguel\\Anaconda3\\lib\\site-packages\\sklearn\\neural_network\\multilayer_perceptron.py:566: ConvergenceWarning: Stochastic Optimizer: Maximum iterations (200) reached and the optimization hasn't converged yet.\n",
      "  % self.max_iter, ConvergenceWarning)\n",
      "C:\\Users\\Miguel\\Anaconda3\\lib\\site-packages\\sklearn\\neural_network\\multilayer_perceptron.py:566: ConvergenceWarning: Stochastic Optimizer: Maximum iterations (200) reached and the optimization hasn't converged yet.\n",
      "  % self.max_iter, ConvergenceWarning)\n",
      "C:\\Users\\Miguel\\Anaconda3\\lib\\site-packages\\sklearn\\neural_network\\multilayer_perceptron.py:566: ConvergenceWarning: Stochastic Optimizer: Maximum iterations (200) reached and the optimization hasn't converged yet.\n",
      "  % self.max_iter, ConvergenceWarning)\n",
      "C:\\Users\\Miguel\\Anaconda3\\lib\\site-packages\\sklearn\\neural_network\\multilayer_perceptron.py:566: ConvergenceWarning: Stochastic Optimizer: Maximum iterations (200) reached and the optimization hasn't converged yet.\n",
      "  % self.max_iter, ConvergenceWarning)\n",
      "C:\\Users\\Miguel\\Anaconda3\\lib\\site-packages\\sklearn\\neural_network\\multilayer_perceptron.py:566: ConvergenceWarning: Stochastic Optimizer: Maximum iterations (200) reached and the optimization hasn't converged yet.\n",
      "  % self.max_iter, ConvergenceWarning)\n",
      "C:\\Users\\Miguel\\Anaconda3\\lib\\site-packages\\sklearn\\neural_network\\multilayer_perceptron.py:566: ConvergenceWarning: Stochastic Optimizer: Maximum iterations (200) reached and the optimization hasn't converged yet.\n",
      "  % self.max_iter, ConvergenceWarning)\n",
      "C:\\Users\\Miguel\\Anaconda3\\lib\\site-packages\\sklearn\\neural_network\\multilayer_perceptron.py:566: ConvergenceWarning: Stochastic Optimizer: Maximum iterations (200) reached and the optimization hasn't converged yet.\n",
      "  % self.max_iter, ConvergenceWarning)\n"
     ]
    },
    {
     "name": "stderr",
     "output_type": "stream",
     "text": [
      "C:\\Users\\Miguel\\Anaconda3\\lib\\site-packages\\sklearn\\neural_network\\multilayer_perceptron.py:566: ConvergenceWarning: Stochastic Optimizer: Maximum iterations (200) reached and the optimization hasn't converged yet.\n",
      "  % self.max_iter, ConvergenceWarning)\n",
      "C:\\Users\\Miguel\\Anaconda3\\lib\\site-packages\\sklearn\\neural_network\\multilayer_perceptron.py:566: ConvergenceWarning: Stochastic Optimizer: Maximum iterations (200) reached and the optimization hasn't converged yet.\n",
      "  % self.max_iter, ConvergenceWarning)\n",
      "C:\\Users\\Miguel\\Anaconda3\\lib\\site-packages\\sklearn\\neural_network\\multilayer_perceptron.py:566: ConvergenceWarning: Stochastic Optimizer: Maximum iterations (200) reached and the optimization hasn't converged yet.\n",
      "  % self.max_iter, ConvergenceWarning)\n",
      "C:\\Users\\Miguel\\Anaconda3\\lib\\site-packages\\sklearn\\neural_network\\multilayer_perceptron.py:566: ConvergenceWarning: Stochastic Optimizer: Maximum iterations (200) reached and the optimization hasn't converged yet.\n",
      "  % self.max_iter, ConvergenceWarning)\n",
      "C:\\Users\\Miguel\\Anaconda3\\lib\\site-packages\\sklearn\\neural_network\\multilayer_perceptron.py:566: ConvergenceWarning: Stochastic Optimizer: Maximum iterations (200) reached and the optimization hasn't converged yet.\n",
      "  % self.max_iter, ConvergenceWarning)\n",
      "C:\\Users\\Miguel\\Anaconda3\\lib\\site-packages\\sklearn\\neural_network\\multilayer_perceptron.py:566: ConvergenceWarning: Stochastic Optimizer: Maximum iterations (200) reached and the optimization hasn't converged yet.\n",
      "  % self.max_iter, ConvergenceWarning)\n",
      "C:\\Users\\Miguel\\Anaconda3\\lib\\site-packages\\sklearn\\neural_network\\multilayer_perceptron.py:566: ConvergenceWarning: Stochastic Optimizer: Maximum iterations (200) reached and the optimization hasn't converged yet.\n",
      "  % self.max_iter, ConvergenceWarning)\n",
      "C:\\Users\\Miguel\\Anaconda3\\lib\\site-packages\\sklearn\\neural_network\\multilayer_perceptron.py:566: ConvergenceWarning: Stochastic Optimizer: Maximum iterations (200) reached and the optimization hasn't converged yet.\n",
      "  % self.max_iter, ConvergenceWarning)\n",
      "C:\\Users\\Miguel\\Anaconda3\\lib\\site-packages\\sklearn\\neural_network\\multilayer_perceptron.py:566: ConvergenceWarning: Stochastic Optimizer: Maximum iterations (200) reached and the optimization hasn't converged yet.\n",
      "  % self.max_iter, ConvergenceWarning)\n",
      "C:\\Users\\Miguel\\Anaconda3\\lib\\site-packages\\sklearn\\neural_network\\multilayer_perceptron.py:566: ConvergenceWarning: Stochastic Optimizer: Maximum iterations (200) reached and the optimization hasn't converged yet.\n",
      "  % self.max_iter, ConvergenceWarning)\n",
      "C:\\Users\\Miguel\\Anaconda3\\lib\\site-packages\\sklearn\\neural_network\\multilayer_perceptron.py:566: ConvergenceWarning: Stochastic Optimizer: Maximum iterations (200) reached and the optimization hasn't converged yet.\n",
      "  % self.max_iter, ConvergenceWarning)\n",
      "C:\\Users\\Miguel\\Anaconda3\\lib\\site-packages\\sklearn\\neural_network\\multilayer_perceptron.py:566: ConvergenceWarning: Stochastic Optimizer: Maximum iterations (200) reached and the optimization hasn't converged yet.\n",
      "  % self.max_iter, ConvergenceWarning)\n",
      "C:\\Users\\Miguel\\Anaconda3\\lib\\site-packages\\sklearn\\neural_network\\multilayer_perceptron.py:566: ConvergenceWarning: Stochastic Optimizer: Maximum iterations (200) reached and the optimization hasn't converged yet.\n",
      "  % self.max_iter, ConvergenceWarning)\n",
      "C:\\Users\\Miguel\\Anaconda3\\lib\\site-packages\\sklearn\\neural_network\\multilayer_perceptron.py:566: ConvergenceWarning: Stochastic Optimizer: Maximum iterations (200) reached and the optimization hasn't converged yet.\n",
      "  % self.max_iter, ConvergenceWarning)\n",
      "C:\\Users\\Miguel\\Anaconda3\\lib\\site-packages\\sklearn\\neural_network\\multilayer_perceptron.py:566: ConvergenceWarning: Stochastic Optimizer: Maximum iterations (200) reached and the optimization hasn't converged yet.\n",
      "  % self.max_iter, ConvergenceWarning)\n",
      "C:\\Users\\Miguel\\Anaconda3\\lib\\site-packages\\sklearn\\neural_network\\multilayer_perceptron.py:566: ConvergenceWarning: Stochastic Optimizer: Maximum iterations (200) reached and the optimization hasn't converged yet.\n",
      "  % self.max_iter, ConvergenceWarning)\n",
      "C:\\Users\\Miguel\\Anaconda3\\lib\\site-packages\\sklearn\\neural_network\\multilayer_perceptron.py:566: ConvergenceWarning: Stochastic Optimizer: Maximum iterations (200) reached and the optimization hasn't converged yet.\n",
      "  % self.max_iter, ConvergenceWarning)\n",
      "C:\\Users\\Miguel\\Anaconda3\\lib\\site-packages\\sklearn\\neural_network\\multilayer_perceptron.py:566: ConvergenceWarning: Stochastic Optimizer: Maximum iterations (200) reached and the optimization hasn't converged yet.\n",
      "  % self.max_iter, ConvergenceWarning)\n",
      "C:\\Users\\Miguel\\Anaconda3\\lib\\site-packages\\sklearn\\neural_network\\multilayer_perceptron.py:566: ConvergenceWarning: Stochastic Optimizer: Maximum iterations (200) reached and the optimization hasn't converged yet.\n",
      "  % self.max_iter, ConvergenceWarning)\n",
      "C:\\Users\\Miguel\\Anaconda3\\lib\\site-packages\\sklearn\\neural_network\\multilayer_perceptron.py:566: ConvergenceWarning: Stochastic Optimizer: Maximum iterations (200) reached and the optimization hasn't converged yet.\n",
      "  % self.max_iter, ConvergenceWarning)\n",
      "C:\\Users\\Miguel\\Anaconda3\\lib\\site-packages\\sklearn\\neural_network\\multilayer_perceptron.py:566: ConvergenceWarning: Stochastic Optimizer: Maximum iterations (200) reached and the optimization hasn't converged yet.\n",
      "  % self.max_iter, ConvergenceWarning)\n",
      "C:\\Users\\Miguel\\Anaconda3\\lib\\site-packages\\sklearn\\neural_network\\multilayer_perceptron.py:566: ConvergenceWarning: Stochastic Optimizer: Maximum iterations (200) reached and the optimization hasn't converged yet.\n",
      "  % self.max_iter, ConvergenceWarning)\n",
      "C:\\Users\\Miguel\\Anaconda3\\lib\\site-packages\\sklearn\\neural_network\\multilayer_perceptron.py:566: ConvergenceWarning: Stochastic Optimizer: Maximum iterations (200) reached and the optimization hasn't converged yet.\n",
      "  % self.max_iter, ConvergenceWarning)\n",
      "C:\\Users\\Miguel\\Anaconda3\\lib\\site-packages\\sklearn\\neural_network\\multilayer_perceptron.py:566: ConvergenceWarning: Stochastic Optimizer: Maximum iterations (200) reached and the optimization hasn't converged yet.\n",
      "  % self.max_iter, ConvergenceWarning)\n",
      "C:\\Users\\Miguel\\Anaconda3\\lib\\site-packages\\sklearn\\neural_network\\multilayer_perceptron.py:566: ConvergenceWarning: Stochastic Optimizer: Maximum iterations (200) reached and the optimization hasn't converged yet.\n",
      "  % self.max_iter, ConvergenceWarning)\n",
      "C:\\Users\\Miguel\\Anaconda3\\lib\\site-packages\\sklearn\\neural_network\\multilayer_perceptron.py:566: ConvergenceWarning: Stochastic Optimizer: Maximum iterations (200) reached and the optimization hasn't converged yet.\n",
      "  % self.max_iter, ConvergenceWarning)\n",
      "C:\\Users\\Miguel\\Anaconda3\\lib\\site-packages\\sklearn\\neural_network\\multilayer_perceptron.py:566: ConvergenceWarning: Stochastic Optimizer: Maximum iterations (200) reached and the optimization hasn't converged yet.\n",
      "  % self.max_iter, ConvergenceWarning)\n",
      "C:\\Users\\Miguel\\Anaconda3\\lib\\site-packages\\sklearn\\neural_network\\multilayer_perceptron.py:566: ConvergenceWarning: Stochastic Optimizer: Maximum iterations (200) reached and the optimization hasn't converged yet.\n",
      "  % self.max_iter, ConvergenceWarning)\n",
      "C:\\Users\\Miguel\\Anaconda3\\lib\\site-packages\\sklearn\\neural_network\\multilayer_perceptron.py:566: ConvergenceWarning: Stochastic Optimizer: Maximum iterations (200) reached and the optimization hasn't converged yet.\n",
      "  % self.max_iter, ConvergenceWarning)\n",
      "C:\\Users\\Miguel\\Anaconda3\\lib\\site-packages\\sklearn\\neural_network\\multilayer_perceptron.py:566: ConvergenceWarning: Stochastic Optimizer: Maximum iterations (200) reached and the optimization hasn't converged yet.\n",
      "  % self.max_iter, ConvergenceWarning)\n",
      "C:\\Users\\Miguel\\Anaconda3\\lib\\site-packages\\sklearn\\neural_network\\multilayer_perceptron.py:566: ConvergenceWarning: Stochastic Optimizer: Maximum iterations (200) reached and the optimization hasn't converged yet.\n",
      "  % self.max_iter, ConvergenceWarning)\n",
      "C:\\Users\\Miguel\\Anaconda3\\lib\\site-packages\\sklearn\\neural_network\\multilayer_perceptron.py:566: ConvergenceWarning: Stochastic Optimizer: Maximum iterations (200) reached and the optimization hasn't converged yet.\n",
      "  % self.max_iter, ConvergenceWarning)\n",
      "C:\\Users\\Miguel\\Anaconda3\\lib\\site-packages\\sklearn\\neural_network\\multilayer_perceptron.py:566: ConvergenceWarning: Stochastic Optimizer: Maximum iterations (200) reached and the optimization hasn't converged yet.\n",
      "  % self.max_iter, ConvergenceWarning)\n"
     ]
    },
    {
     "name": "stderr",
     "output_type": "stream",
     "text": [
      "C:\\Users\\Miguel\\Anaconda3\\lib\\site-packages\\sklearn\\neural_network\\multilayer_perceptron.py:566: ConvergenceWarning: Stochastic Optimizer: Maximum iterations (200) reached and the optimization hasn't converged yet.\n",
      "  % self.max_iter, ConvergenceWarning)\n",
      "C:\\Users\\Miguel\\Anaconda3\\lib\\site-packages\\sklearn\\neural_network\\multilayer_perceptron.py:566: ConvergenceWarning: Stochastic Optimizer: Maximum iterations (200) reached and the optimization hasn't converged yet.\n",
      "  % self.max_iter, ConvergenceWarning)\n",
      "C:\\Users\\Miguel\\Anaconda3\\lib\\site-packages\\sklearn\\neural_network\\multilayer_perceptron.py:566: ConvergenceWarning: Stochastic Optimizer: Maximum iterations (200) reached and the optimization hasn't converged yet.\n",
      "  % self.max_iter, ConvergenceWarning)\n",
      "C:\\Users\\Miguel\\Anaconda3\\lib\\site-packages\\sklearn\\neural_network\\multilayer_perceptron.py:566: ConvergenceWarning: Stochastic Optimizer: Maximum iterations (200) reached and the optimization hasn't converged yet.\n",
      "  % self.max_iter, ConvergenceWarning)\n",
      "C:\\Users\\Miguel\\Anaconda3\\lib\\site-packages\\sklearn\\neural_network\\multilayer_perceptron.py:566: ConvergenceWarning: Stochastic Optimizer: Maximum iterations (200) reached and the optimization hasn't converged yet.\n",
      "  % self.max_iter, ConvergenceWarning)\n",
      "C:\\Users\\Miguel\\Anaconda3\\lib\\site-packages\\sklearn\\neural_network\\multilayer_perceptron.py:566: ConvergenceWarning: Stochastic Optimizer: Maximum iterations (200) reached and the optimization hasn't converged yet.\n",
      "  % self.max_iter, ConvergenceWarning)\n",
      "C:\\Users\\Miguel\\Anaconda3\\lib\\site-packages\\sklearn\\neural_network\\multilayer_perceptron.py:566: ConvergenceWarning: Stochastic Optimizer: Maximum iterations (200) reached and the optimization hasn't converged yet.\n",
      "  % self.max_iter, ConvergenceWarning)\n",
      "C:\\Users\\Miguel\\Anaconda3\\lib\\site-packages\\sklearn\\neural_network\\multilayer_perceptron.py:566: ConvergenceWarning: Stochastic Optimizer: Maximum iterations (200) reached and the optimization hasn't converged yet.\n",
      "  % self.max_iter, ConvergenceWarning)\n",
      "C:\\Users\\Miguel\\Anaconda3\\lib\\site-packages\\sklearn\\neural_network\\multilayer_perceptron.py:566: ConvergenceWarning: Stochastic Optimizer: Maximum iterations (200) reached and the optimization hasn't converged yet.\n",
      "  % self.max_iter, ConvergenceWarning)\n",
      "C:\\Users\\Miguel\\Anaconda3\\lib\\site-packages\\sklearn\\neural_network\\multilayer_perceptron.py:566: ConvergenceWarning: Stochastic Optimizer: Maximum iterations (200) reached and the optimization hasn't converged yet.\n",
      "  % self.max_iter, ConvergenceWarning)\n",
      "C:\\Users\\Miguel\\Anaconda3\\lib\\site-packages\\sklearn\\neural_network\\multilayer_perceptron.py:566: ConvergenceWarning: Stochastic Optimizer: Maximum iterations (200) reached and the optimization hasn't converged yet.\n",
      "  % self.max_iter, ConvergenceWarning)\n",
      "C:\\Users\\Miguel\\Anaconda3\\lib\\site-packages\\sklearn\\neural_network\\multilayer_perceptron.py:566: ConvergenceWarning: Stochastic Optimizer: Maximum iterations (200) reached and the optimization hasn't converged yet.\n",
      "  % self.max_iter, ConvergenceWarning)\n",
      "C:\\Users\\Miguel\\Anaconda3\\lib\\site-packages\\sklearn\\neural_network\\multilayer_perceptron.py:566: ConvergenceWarning: Stochastic Optimizer: Maximum iterations (200) reached and the optimization hasn't converged yet.\n",
      "  % self.max_iter, ConvergenceWarning)\n",
      "C:\\Users\\Miguel\\Anaconda3\\lib\\site-packages\\sklearn\\neural_network\\multilayer_perceptron.py:566: ConvergenceWarning: Stochastic Optimizer: Maximum iterations (200) reached and the optimization hasn't converged yet.\n",
      "  % self.max_iter, ConvergenceWarning)\n",
      "C:\\Users\\Miguel\\Anaconda3\\lib\\site-packages\\sklearn\\neural_network\\multilayer_perceptron.py:566: ConvergenceWarning: Stochastic Optimizer: Maximum iterations (200) reached and the optimization hasn't converged yet.\n",
      "  % self.max_iter, ConvergenceWarning)\n",
      "C:\\Users\\Miguel\\Anaconda3\\lib\\site-packages\\sklearn\\neural_network\\multilayer_perceptron.py:566: ConvergenceWarning: Stochastic Optimizer: Maximum iterations (200) reached and the optimization hasn't converged yet.\n",
      "  % self.max_iter, ConvergenceWarning)\n",
      "C:\\Users\\Miguel\\Anaconda3\\lib\\site-packages\\sklearn\\neural_network\\multilayer_perceptron.py:566: ConvergenceWarning: Stochastic Optimizer: Maximum iterations (200) reached and the optimization hasn't converged yet.\n",
      "  % self.max_iter, ConvergenceWarning)\n",
      "C:\\Users\\Miguel\\Anaconda3\\lib\\site-packages\\sklearn\\neural_network\\multilayer_perceptron.py:566: ConvergenceWarning: Stochastic Optimizer: Maximum iterations (200) reached and the optimization hasn't converged yet.\n",
      "  % self.max_iter, ConvergenceWarning)\n",
      "C:\\Users\\Miguel\\Anaconda3\\lib\\site-packages\\sklearn\\neural_network\\multilayer_perceptron.py:566: ConvergenceWarning: Stochastic Optimizer: Maximum iterations (200) reached and the optimization hasn't converged yet.\n",
      "  % self.max_iter, ConvergenceWarning)\n",
      "C:\\Users\\Miguel\\Anaconda3\\lib\\site-packages\\sklearn\\neural_network\\multilayer_perceptron.py:566: ConvergenceWarning: Stochastic Optimizer: Maximum iterations (200) reached and the optimization hasn't converged yet.\n",
      "  % self.max_iter, ConvergenceWarning)\n",
      "C:\\Users\\Miguel\\Anaconda3\\lib\\site-packages\\sklearn\\neural_network\\multilayer_perceptron.py:566: ConvergenceWarning: Stochastic Optimizer: Maximum iterations (200) reached and the optimization hasn't converged yet.\n",
      "  % self.max_iter, ConvergenceWarning)\n",
      "C:\\Users\\Miguel\\Anaconda3\\lib\\site-packages\\sklearn\\neural_network\\multilayer_perceptron.py:566: ConvergenceWarning: Stochastic Optimizer: Maximum iterations (200) reached and the optimization hasn't converged yet.\n",
      "  % self.max_iter, ConvergenceWarning)\n",
      "C:\\Users\\Miguel\\Anaconda3\\lib\\site-packages\\sklearn\\neural_network\\multilayer_perceptron.py:566: ConvergenceWarning: Stochastic Optimizer: Maximum iterations (200) reached and the optimization hasn't converged yet.\n",
      "  % self.max_iter, ConvergenceWarning)\n",
      "C:\\Users\\Miguel\\Anaconda3\\lib\\site-packages\\sklearn\\neural_network\\multilayer_perceptron.py:566: ConvergenceWarning: Stochastic Optimizer: Maximum iterations (200) reached and the optimization hasn't converged yet.\n",
      "  % self.max_iter, ConvergenceWarning)\n",
      "C:\\Users\\Miguel\\Anaconda3\\lib\\site-packages\\sklearn\\neural_network\\multilayer_perceptron.py:566: ConvergenceWarning: Stochastic Optimizer: Maximum iterations (200) reached and the optimization hasn't converged yet.\n",
      "  % self.max_iter, ConvergenceWarning)\n",
      "C:\\Users\\Miguel\\Anaconda3\\lib\\site-packages\\sklearn\\neural_network\\multilayer_perceptron.py:566: ConvergenceWarning: Stochastic Optimizer: Maximum iterations (200) reached and the optimization hasn't converged yet.\n",
      "  % self.max_iter, ConvergenceWarning)\n",
      "C:\\Users\\Miguel\\Anaconda3\\lib\\site-packages\\sklearn\\neural_network\\multilayer_perceptron.py:566: ConvergenceWarning: Stochastic Optimizer: Maximum iterations (200) reached and the optimization hasn't converged yet.\n",
      "  % self.max_iter, ConvergenceWarning)\n",
      "C:\\Users\\Miguel\\Anaconda3\\lib\\site-packages\\sklearn\\neural_network\\multilayer_perceptron.py:566: ConvergenceWarning: Stochastic Optimizer: Maximum iterations (200) reached and the optimization hasn't converged yet.\n",
      "  % self.max_iter, ConvergenceWarning)\n",
      "C:\\Users\\Miguel\\Anaconda3\\lib\\site-packages\\sklearn\\neural_network\\multilayer_perceptron.py:566: ConvergenceWarning: Stochastic Optimizer: Maximum iterations (200) reached and the optimization hasn't converged yet.\n",
      "  % self.max_iter, ConvergenceWarning)\n",
      "C:\\Users\\Miguel\\Anaconda3\\lib\\site-packages\\sklearn\\neural_network\\multilayer_perceptron.py:566: ConvergenceWarning: Stochastic Optimizer: Maximum iterations (200) reached and the optimization hasn't converged yet.\n",
      "  % self.max_iter, ConvergenceWarning)\n",
      "C:\\Users\\Miguel\\Anaconda3\\lib\\site-packages\\sklearn\\neural_network\\multilayer_perceptron.py:566: ConvergenceWarning: Stochastic Optimizer: Maximum iterations (200) reached and the optimization hasn't converged yet.\n",
      "  % self.max_iter, ConvergenceWarning)\n",
      "C:\\Users\\Miguel\\Anaconda3\\lib\\site-packages\\sklearn\\neural_network\\multilayer_perceptron.py:566: ConvergenceWarning: Stochastic Optimizer: Maximum iterations (200) reached and the optimization hasn't converged yet.\n",
      "  % self.max_iter, ConvergenceWarning)\n",
      "C:\\Users\\Miguel\\Anaconda3\\lib\\site-packages\\sklearn\\neural_network\\multilayer_perceptron.py:566: ConvergenceWarning: Stochastic Optimizer: Maximum iterations (200) reached and the optimization hasn't converged yet.\n",
      "  % self.max_iter, ConvergenceWarning)\n"
     ]
    },
    {
     "name": "stderr",
     "output_type": "stream",
     "text": [
      "C:\\Users\\Miguel\\Anaconda3\\lib\\site-packages\\sklearn\\neural_network\\multilayer_perceptron.py:566: ConvergenceWarning: Stochastic Optimizer: Maximum iterations (200) reached and the optimization hasn't converged yet.\n",
      "  % self.max_iter, ConvergenceWarning)\n",
      "C:\\Users\\Miguel\\Anaconda3\\lib\\site-packages\\sklearn\\neural_network\\multilayer_perceptron.py:566: ConvergenceWarning: Stochastic Optimizer: Maximum iterations (200) reached and the optimization hasn't converged yet.\n",
      "  % self.max_iter, ConvergenceWarning)\n",
      "C:\\Users\\Miguel\\Anaconda3\\lib\\site-packages\\sklearn\\neural_network\\multilayer_perceptron.py:566: ConvergenceWarning: Stochastic Optimizer: Maximum iterations (200) reached and the optimization hasn't converged yet.\n",
      "  % self.max_iter, ConvergenceWarning)\n",
      "C:\\Users\\Miguel\\Anaconda3\\lib\\site-packages\\sklearn\\neural_network\\multilayer_perceptron.py:566: ConvergenceWarning: Stochastic Optimizer: Maximum iterations (200) reached and the optimization hasn't converged yet.\n",
      "  % self.max_iter, ConvergenceWarning)\n",
      "C:\\Users\\Miguel\\Anaconda3\\lib\\site-packages\\sklearn\\neural_network\\multilayer_perceptron.py:566: ConvergenceWarning: Stochastic Optimizer: Maximum iterations (200) reached and the optimization hasn't converged yet.\n",
      "  % self.max_iter, ConvergenceWarning)\n",
      "C:\\Users\\Miguel\\Anaconda3\\lib\\site-packages\\sklearn\\neural_network\\multilayer_perceptron.py:566: ConvergenceWarning: Stochastic Optimizer: Maximum iterations (200) reached and the optimization hasn't converged yet.\n",
      "  % self.max_iter, ConvergenceWarning)\n",
      "C:\\Users\\Miguel\\Anaconda3\\lib\\site-packages\\sklearn\\neural_network\\multilayer_perceptron.py:566: ConvergenceWarning: Stochastic Optimizer: Maximum iterations (200) reached and the optimization hasn't converged yet.\n",
      "  % self.max_iter, ConvergenceWarning)\n",
      "C:\\Users\\Miguel\\Anaconda3\\lib\\site-packages\\sklearn\\neural_network\\multilayer_perceptron.py:566: ConvergenceWarning: Stochastic Optimizer: Maximum iterations (200) reached and the optimization hasn't converged yet.\n",
      "  % self.max_iter, ConvergenceWarning)\n",
      "C:\\Users\\Miguel\\Anaconda3\\lib\\site-packages\\sklearn\\neural_network\\multilayer_perceptron.py:566: ConvergenceWarning: Stochastic Optimizer: Maximum iterations (200) reached and the optimization hasn't converged yet.\n",
      "  % self.max_iter, ConvergenceWarning)\n",
      "C:\\Users\\Miguel\\Anaconda3\\lib\\site-packages\\sklearn\\neural_network\\multilayer_perceptron.py:566: ConvergenceWarning: Stochastic Optimizer: Maximum iterations (200) reached and the optimization hasn't converged yet.\n",
      "  % self.max_iter, ConvergenceWarning)\n",
      "C:\\Users\\Miguel\\Anaconda3\\lib\\site-packages\\sklearn\\neural_network\\multilayer_perceptron.py:566: ConvergenceWarning: Stochastic Optimizer: Maximum iterations (200) reached and the optimization hasn't converged yet.\n",
      "  % self.max_iter, ConvergenceWarning)\n",
      "C:\\Users\\Miguel\\Anaconda3\\lib\\site-packages\\sklearn\\neural_network\\multilayer_perceptron.py:566: ConvergenceWarning: Stochastic Optimizer: Maximum iterations (200) reached and the optimization hasn't converged yet.\n",
      "  % self.max_iter, ConvergenceWarning)\n",
      "C:\\Users\\Miguel\\Anaconda3\\lib\\site-packages\\sklearn\\neural_network\\multilayer_perceptron.py:566: ConvergenceWarning: Stochastic Optimizer: Maximum iterations (200) reached and the optimization hasn't converged yet.\n",
      "  % self.max_iter, ConvergenceWarning)\n",
      "C:\\Users\\Miguel\\Anaconda3\\lib\\site-packages\\sklearn\\neural_network\\multilayer_perceptron.py:566: ConvergenceWarning: Stochastic Optimizer: Maximum iterations (200) reached and the optimization hasn't converged yet.\n",
      "  % self.max_iter, ConvergenceWarning)\n",
      "C:\\Users\\Miguel\\Anaconda3\\lib\\site-packages\\sklearn\\neural_network\\multilayer_perceptron.py:566: ConvergenceWarning: Stochastic Optimizer: Maximum iterations (200) reached and the optimization hasn't converged yet.\n",
      "  % self.max_iter, ConvergenceWarning)\n",
      "C:\\Users\\Miguel\\Anaconda3\\lib\\site-packages\\sklearn\\neural_network\\multilayer_perceptron.py:566: ConvergenceWarning: Stochastic Optimizer: Maximum iterations (200) reached and the optimization hasn't converged yet.\n",
      "  % self.max_iter, ConvergenceWarning)\n"
     ]
    }
   ],
   "source": [
    "layer_sizes = 100\n",
    "\n",
    "error_lists = []\n",
    "for j in range(len(data_lists)):\n",
    "    #print(len(data_lists[j][0]))\n",
    "    #print(len(data_lists[j][1]))\n",
    "    layer_sizes_list, errors = error_mlp(data_lists[j][0], data_lists[j][1], data_lists[j][2],\n",
    "                                          data_lists[j][3], layer_sizes)\n",
    "    error_lists.append(errors)\n"
   ]
  },
  {
   "cell_type": "code",
   "execution_count": 91,
   "metadata": {},
   "outputs": [
    {
     "name": "stderr",
     "output_type": "stream",
     "text": [
      "C:\\Users\\Miguel\\Anaconda3\\lib\\site-packages\\ipykernel_launcher.py:3: RuntimeWarning: More than 20 figures have been opened. Figures created through the pyplot interface (`matplotlib.pyplot.figure`) are retained until explicitly closed and may consume too much memory. (To control this warning, see the rcParam `figure.max_open_warning`).\n",
      "  This is separate from the ipykernel package so we can avoid doing imports until\n"
     ]
    },
    {
     "data": {
      "application/vnd.jupyter.widget-view+json": {
       "model_id": "02c904a111f14abb8c99c418fa343b3c",
       "version_major": 2,
       "version_minor": 0
      },
      "text/plain": [
       "Canvas(toolbar=Toolbar(toolitems=[('Home', 'Reset original view', 'home', 'home'), ('Back', 'Back to previous …"
      ]
     },
     "metadata": {},
     "output_type": "display_data"
    },
    {
     "name": "stdout",
     "output_type": "stream",
     "text": [
      "2\n",
      "27\n",
      "96\n",
      "64\n",
      "69\n",
      "84\n",
      "64\n"
     ]
    },
    {
     "name": "stderr",
     "output_type": "stream",
     "text": [
      "C:\\Users\\Miguel\\Anaconda3\\lib\\site-packages\\ipykernel_launcher.py:19: RuntimeWarning: More than 20 figures have been opened. Figures created through the pyplot interface (`matplotlib.pyplot.figure`) are retained until explicitly closed and may consume too much memory. (To control this warning, see the rcParam `figure.max_open_warning`).\n"
     ]
    },
    {
     "data": {
      "application/vnd.jupyter.widget-view+json": {
       "model_id": "483cff42ccc247a3bc1d10e8618c0d30",
       "version_major": 2,
       "version_minor": 0
      },
      "text/plain": [
       "Canvas(toolbar=Toolbar(toolitems=[('Home', 'Reset original view', 'home', 'home'), ('Back', 'Back to previous …"
      ]
     },
     "metadata": {},
     "output_type": "display_data"
    },
    {
     "data": {
      "text/plain": [
       "[<matplotlib.lines.Line2D at 0x2a40dfb6c08>]"
      ]
     },
     "execution_count": 91,
     "metadata": {},
     "output_type": "execute_result"
    }
   ],
   "source": [
    "mean_error_list = []\n",
    "\n",
    "subplots()\n",
    "\n",
    "for k in range(len(layer_sizes_list)):\n",
    "    mean_error = 0\n",
    "\n",
    "    for m in range(len(data_lists)):\n",
    "        mean_error += error_lists[m][k]\n",
    "        \n",
    "    mean_error_list.append(mean_error/len(data_lists))\n",
    "\n",
    "for m in range(len(data_lists)):\n",
    "    print(error_lists[m].index(min(error_lists[m])))\n",
    "    plot(layer_sizes_list, error_lists[m])\n",
    "    \n",
    "print(mean_error_list.index(min(mean_error_list)))\n",
    "    \n",
    "subplots()\n",
    "\n",
    "plot(layer_sizes_list, mean_error_list, \"x\")"
   ]
  },
  {
   "cell_type": "code",
   "execution_count": 127,
   "metadata": {},
   "outputs": [
    {
     "name": "stdout",
     "output_type": "stream",
     "text": [
      "4\n"
     ]
    }
   ],
   "source": [
    "min_error_layer_sizes = layer_sizes_list[mean_error_list.index(min(mean_error_list))]\n",
    "print(min_error_layer_sizes)\n",
    "\n",
    "parameters[5] = min_error_layer_sizes"
   ]
  },
  {
   "cell_type": "markdown",
   "metadata": {},
   "source": [
    "### ???"
   ]
  },
  {
   "cell_type": "code",
   "execution_count": 46,
   "metadata": {},
   "outputs": [],
   "source": [
    "def test_all_models(x, y, x_test, y_test, models = models_tested, parameters = parameters,\n",
    "                    evaluation_list = evaluation_list):\n",
    "    \n",
    "    data_train = []\n",
    "    \n",
    "    data_test = []\n",
    "    \n",
    "    \n",
    "    for i in range(len(models)):\n",
    "        current_line_train = []\n",
    "        current_line_train.append(models[i])\n",
    "        \n",
    "        current_line_test = []\n",
    "        current_line_test.append(models[i])\n",
    "        \n",
    "        #predictions\n",
    "        \n",
    "        if i <= 1:\n",
    "            if i==0:\n",
    "                y_predictions_train, y_predictions_test = models[i](x[:,0].reshape(-1,1), y, x_test[:,0].reshape(-1,1))\n",
    "            else:\n",
    "                y_predictions_train, y_predictions_test = models[i](x, y, x_test)\n",
    "                \n",
    "        else:\n",
    "            y_predictions_train, y_predictions_test = models[i](x, y, x_test, parameters[i])\n",
    "            \n",
    "        \n",
    "        #print(models[i])\n",
    "        \n",
    "        \n",
    "        for j in range(len(evaluation_list)):\n",
    "            err_train = evaluation_list[j](y_test, y_predictions_train)\n",
    "            \n",
    "            err_test = evaluation_list[j](y_test, y_predictions_test)\n",
    "            \n",
    "            current_line_train.append(err_train)\n",
    "            current_line_test.append(err_test)\n",
    "            #print(text[j] + ' -> ', err)\n",
    "        data_train.append(current_line_train)\n",
    "        data_test.append(current_line_test)\n",
    "        #print(\"\\n\")\n",
    "    return data_train, data_test"
   ]
  },
  {
   "cell_type": "code",
   "execution_count": 130,
   "metadata": {},
   "outputs": [
    {
     "name": "stderr",
     "output_type": "stream",
     "text": [
      "C:\\Users\\Miguel\\Anaconda3\\lib\\site-packages\\sklearn\\neural_network\\multilayer_perceptron.py:566: ConvergenceWarning: Stochastic Optimizer: Maximum iterations (200) reached and the optimization hasn't converged yet.\n",
      "  % self.max_iter, ConvergenceWarning)\n",
      "C:\\Users\\Miguel\\Anaconda3\\lib\\site-packages\\sklearn\\neural_network\\multilayer_perceptron.py:566: ConvergenceWarning: Stochastic Optimizer: Maximum iterations (200) reached and the optimization hasn't converged yet.\n",
      "  % self.max_iter, ConvergenceWarning)\n",
      "C:\\Users\\Miguel\\Anaconda3\\lib\\site-packages\\sklearn\\neural_network\\multilayer_perceptron.py:566: ConvergenceWarning: Stochastic Optimizer: Maximum iterations (200) reached and the optimization hasn't converged yet.\n",
      "  % self.max_iter, ConvergenceWarning)\n",
      "C:\\Users\\Miguel\\Anaconda3\\lib\\site-packages\\sklearn\\neural_network\\multilayer_perceptron.py:566: ConvergenceWarning: Stochastic Optimizer: Maximum iterations (200) reached and the optimization hasn't converged yet.\n",
      "  % self.max_iter, ConvergenceWarning)\n",
      "C:\\Users\\Miguel\\Anaconda3\\lib\\site-packages\\sklearn\\neural_network\\multilayer_perceptron.py:566: ConvergenceWarning: Stochastic Optimizer: Maximum iterations (200) reached and the optimization hasn't converged yet.\n",
      "  % self.max_iter, ConvergenceWarning)\n"
     ]
    }
   ],
   "source": [
    "data_train = []\n",
    "data_test = []\n",
    "\n",
    "for j in range(len(data_lists)):\n",
    "    d_train, d_test = test_all_models(data_lists[j][0], data_lists[j][1], data_lists[j][2],\n",
    "                                          data_lists[j][3], parameters = parameters)\n",
    "    data_train.append(d_train)\n",
    "    data_test.append(d_test)\n",
    "    \n",
    "aver_data_train = data_train[0]\n",
    "for i in range(1,len(data_train[0])):\n",
    "    for j in range(1,len(data_train[0][0])):\n",
    "        value = 0\n",
    "        for k in range(len(data_train)):\n",
    "            value += data_train[k][i][j]\n",
    "        aver_data_train[i][j] = value/len(data_train)\n",
    "        \n",
    "aver_data_test = data_test[0]\n",
    "for i in range(1,len(data_test[0])):\n",
    "    for j in range(1,len(data_test[0][0])):\n",
    "        value = 0\n",
    "        for k in range(len(data_test)):\n",
    "            value += data_test[k][i][j]\n",
    "        aver_data_test[i][j] = value/len(data_test)\n"
   ]
  },
  {
   "cell_type": "code",
   "execution_count": 131,
   "metadata": {},
   "outputs": [
    {
     "data": {
      "text/html": [
       "<div>\n",
       "<style scoped>\n",
       "    .dataframe tbody tr th:only-of-type {\n",
       "        vertical-align: middle;\n",
       "    }\n",
       "\n",
       "    .dataframe tbody tr th {\n",
       "        vertical-align: top;\n",
       "    }\n",
       "\n",
       "    .dataframe thead th {\n",
       "        text-align: right;\n",
       "    }\n",
       "</style>\n",
       "<table border=\"1\" class=\"dataframe\">\n",
       "  <thead>\n",
       "    <tr style=\"text-align: right;\">\n",
       "      <th></th>\n",
       "      <th>Models</th>\n",
       "      <th>Mean absolute error</th>\n",
       "      <th>Mean square error</th>\n",
       "      <th>Root mean square error</th>\n",
       "      <th>Mean absolute percentage error (%)</th>\n",
       "      <th>Max error</th>\n",
       "      <th>Max squared error</th>\n",
       "      <th>Max percentage error</th>\n",
       "      <th>R^2</th>\n",
       "    </tr>\n",
       "  </thead>\n",
       "  <tbody>\n",
       "    <tr>\n",
       "      <td>0</td>\n",
       "      <td>&lt;function prev_univ at 0x000002A46B7CE3A8&gt;</td>\n",
       "      <td>2030.05</td>\n",
       "      <td>5.7245e+06</td>\n",
       "      <td>2392.59</td>\n",
       "      <td>238.105</td>\n",
       "      <td>4112.89</td>\n",
       "      <td>1.69159e+07</td>\n",
       "      <td>10.9185</td>\n",
       "      <td>0.66896</td>\n",
       "    </tr>\n",
       "    <tr>\n",
       "      <td>1</td>\n",
       "      <td>&lt;function prev_multiv at 0x000002A46B814168&gt;</td>\n",
       "      <td>3796.62</td>\n",
       "      <td>2.30731e+07</td>\n",
       "      <td>4792.07</td>\n",
       "      <td>255.701</td>\n",
       "      <td>9916.67</td>\n",
       "      <td>9.98336e+07</td>\n",
       "      <td>19.6219</td>\n",
       "      <td>-7.71086</td>\n",
       "    </tr>\n",
       "    <tr>\n",
       "      <td>2</td>\n",
       "      <td>&lt;function prev_ridge at 0x000002A46B8140D8&gt;</td>\n",
       "      <td>3628.22</td>\n",
       "      <td>2.08958e+07</td>\n",
       "      <td>4556.42</td>\n",
       "      <td>253.893</td>\n",
       "      <td>9389.67</td>\n",
       "      <td>9.04751e+07</td>\n",
       "      <td>18.7229</td>\n",
       "      <td>-1.3153</td>\n",
       "    </tr>\n",
       "    <tr>\n",
       "      <td>3</td>\n",
       "      <td>&lt;function prev_pca at 0x000002A46B99B8B8&gt;</td>\n",
       "      <td>3692.11</td>\n",
       "      <td>2.17474e+07</td>\n",
       "      <td>4629.42</td>\n",
       "      <td>275.111</td>\n",
       "      <td>9914</td>\n",
       "      <td>1.03413e+08</td>\n",
       "      <td>17.3773</td>\n",
       "      <td>-0.0572472</td>\n",
       "    </tr>\n",
       "    <tr>\n",
       "      <td>4</td>\n",
       "      <td>&lt;function prev_pls at 0x000002A41212C948&gt;</td>\n",
       "      <td>[3787.0663912835475]</td>\n",
       "      <td>[22795823.5678188]</td>\n",
       "      <td>[4759.682499457]</td>\n",
       "      <td>[263.4072301841398]</td>\n",
       "      <td>[9994.345388190019]</td>\n",
       "      <td>[102816394.06590372]</td>\n",
       "      <td>[20.252753568779237]</td>\n",
       "      <td>[-5.659522269644938]</td>\n",
       "    </tr>\n",
       "    <tr>\n",
       "      <td>5</td>\n",
       "      <td>&lt;function prev_mlp at 0x000002A4000B9048&gt;</td>\n",
       "      <td>3127.28</td>\n",
       "      <td>1.60523e+07</td>\n",
       "      <td>3936.56</td>\n",
       "      <td>219.722</td>\n",
       "      <td>8265.79</td>\n",
       "      <td>7.30514e+07</td>\n",
       "      <td>14.0987</td>\n",
       "      <td>-5.66695</td>\n",
       "    </tr>\n",
       "  </tbody>\n",
       "</table>\n",
       "</div>"
      ],
      "text/plain": [
       "                                         Models   Mean absolute error  \\\n",
       "0    <function prev_univ at 0x000002A46B7CE3A8>               2030.05   \n",
       "1  <function prev_multiv at 0x000002A46B814168>               3796.62   \n",
       "2   <function prev_ridge at 0x000002A46B8140D8>               3628.22   \n",
       "3     <function prev_pca at 0x000002A46B99B8B8>               3692.11   \n",
       "4     <function prev_pls at 0x000002A41212C948>  [3787.0663912835475]   \n",
       "5     <function prev_mlp at 0x000002A4000B9048>               3127.28   \n",
       "\n",
       "    Mean square error Root mean square error  \\\n",
       "0          5.7245e+06                2392.59   \n",
       "1         2.30731e+07                4792.07   \n",
       "2         2.08958e+07                4556.42   \n",
       "3         2.17474e+07                4629.42   \n",
       "4  [22795823.5678188]       [4759.682499457]   \n",
       "5         1.60523e+07                3936.56   \n",
       "\n",
       "  Mean absolute percentage error (%)            Max error  \\\n",
       "0                            238.105              4112.89   \n",
       "1                            255.701              9916.67   \n",
       "2                            253.893              9389.67   \n",
       "3                            275.111                 9914   \n",
       "4                [263.4072301841398]  [9994.345388190019]   \n",
       "5                            219.722              8265.79   \n",
       "\n",
       "      Max squared error  Max percentage error                   R^2  \n",
       "0           1.69159e+07               10.9185               0.66896  \n",
       "1           9.98336e+07               19.6219              -7.71086  \n",
       "2           9.04751e+07               18.7229               -1.3153  \n",
       "3           1.03413e+08               17.3773            -0.0572472  \n",
       "4  [102816394.06590372]  [20.252753568779237]  [-5.659522269644938]  \n",
       "5           7.30514e+07               14.0987              -5.66695  "
      ]
     },
     "execution_count": 131,
     "metadata": {},
     "output_type": "execute_result"
    }
   ],
   "source": [
    "#print(data_train)\n",
    "error_table_train = pd.DataFrame(data_train[0], columns = text)\n",
    "error_table_train"
   ]
  },
  {
   "cell_type": "code",
   "execution_count": 132,
   "metadata": {},
   "outputs": [
    {
     "data": {
      "text/html": [
       "<div>\n",
       "<style scoped>\n",
       "    .dataframe tbody tr th:only-of-type {\n",
       "        vertical-align: middle;\n",
       "    }\n",
       "\n",
       "    .dataframe tbody tr th {\n",
       "        vertical-align: top;\n",
       "    }\n",
       "\n",
       "    .dataframe thead th {\n",
       "        text-align: right;\n",
       "    }\n",
       "</style>\n",
       "<table border=\"1\" class=\"dataframe\">\n",
       "  <thead>\n",
       "    <tr style=\"text-align: right;\">\n",
       "      <th></th>\n",
       "      <th>Models</th>\n",
       "      <th>Mean absolute error</th>\n",
       "      <th>Mean square error</th>\n",
       "      <th>Root mean square error</th>\n",
       "      <th>Mean absolute percentage error (%)</th>\n",
       "      <th>Max error</th>\n",
       "      <th>Max squared error</th>\n",
       "      <th>Max percentage error</th>\n",
       "      <th>R^2</th>\n",
       "    </tr>\n",
       "  </thead>\n",
       "  <tbody>\n",
       "    <tr>\n",
       "      <td>0</td>\n",
       "      <td>&lt;function prev_univ at 0x000002A46B7CE3A8&gt;</td>\n",
       "      <td>3227.29</td>\n",
       "      <td>1.45361e+07</td>\n",
       "      <td>3812.62</td>\n",
       "      <td>455.426</td>\n",
       "      <td>8318.03</td>\n",
       "      <td>6.91896e+07</td>\n",
       "      <td>19.7506</td>\n",
       "      <td>0.041849</td>\n",
       "    </tr>\n",
       "    <tr>\n",
       "      <td>1</td>\n",
       "      <td>&lt;function prev_multiv at 0x000002A46B814168&gt;</td>\n",
       "      <td>4156.15</td>\n",
       "      <td>2.92576e+07</td>\n",
       "      <td>5409.03</td>\n",
       "      <td>441.94</td>\n",
       "      <td>11610</td>\n",
       "      <td>1.34792e+08</td>\n",
       "      <td>34.9447</td>\n",
       "      <td>0.193846</td>\n",
       "    </tr>\n",
       "    <tr>\n",
       "      <td>2</td>\n",
       "      <td>&lt;function prev_ridge at 0x000002A46B8140D8&gt;</td>\n",
       "      <td>3872.92</td>\n",
       "      <td>2.71135e+07</td>\n",
       "      <td>5207.06</td>\n",
       "      <td>445.34</td>\n",
       "      <td>11445</td>\n",
       "      <td>1.30987e+08</td>\n",
       "      <td>33.0828</td>\n",
       "      <td>0.942084</td>\n",
       "    </tr>\n",
       "    <tr>\n",
       "      <td>3</td>\n",
       "      <td>&lt;function prev_pca at 0x000002A46B99B8B8&gt;</td>\n",
       "      <td>4503.51</td>\n",
       "      <td>3.1489e+07</td>\n",
       "      <td>5611.5</td>\n",
       "      <td>515.462</td>\n",
       "      <td>11780.7</td>\n",
       "      <td>1.38786e+08</td>\n",
       "      <td>29.7981</td>\n",
       "      <td>0.998819</td>\n",
       "    </tr>\n",
       "    <tr>\n",
       "      <td>4</td>\n",
       "      <td>&lt;function prev_pls at 0x000002A41212C948&gt;</td>\n",
       "      <td>[4175.284131794693]</td>\n",
       "      <td>[29830519.599914443]</td>\n",
       "      <td>[5461.7322892937955]</td>\n",
       "      <td>[457.64897070470835]</td>\n",
       "      <td>[12271.028872825711]</td>\n",
       "      <td>[150578149.59772223]</td>\n",
       "      <td>[36.07697552258187]</td>\n",
       "      <td>[0.470437642168851]</td>\n",
       "    </tr>\n",
       "    <tr>\n",
       "      <td>5</td>\n",
       "      <td>&lt;function prev_mlp at 0x000002A4000B9048&gt;</td>\n",
       "      <td>3694.93</td>\n",
       "      <td>2.26653e+07</td>\n",
       "      <td>4760.8</td>\n",
       "      <td>416.815</td>\n",
       "      <td>10686.3</td>\n",
       "      <td>1.14198e+08</td>\n",
       "      <td>21.3806</td>\n",
       "      <td>-1.69087</td>\n",
       "    </tr>\n",
       "  </tbody>\n",
       "</table>\n",
       "</div>"
      ],
      "text/plain": [
       "                                         Models  Mean absolute error  \\\n",
       "0    <function prev_univ at 0x000002A46B7CE3A8>              3227.29   \n",
       "1  <function prev_multiv at 0x000002A46B814168>              4156.15   \n",
       "2   <function prev_ridge at 0x000002A46B8140D8>              3872.92   \n",
       "3     <function prev_pca at 0x000002A46B99B8B8>              4503.51   \n",
       "4     <function prev_pls at 0x000002A41212C948>  [4175.284131794693]   \n",
       "5     <function prev_mlp at 0x000002A4000B9048>              3694.93   \n",
       "\n",
       "      Mean square error Root mean square error  \\\n",
       "0           1.45361e+07                3812.62   \n",
       "1           2.92576e+07                5409.03   \n",
       "2           2.71135e+07                5207.06   \n",
       "3            3.1489e+07                 5611.5   \n",
       "4  [29830519.599914443]   [5461.7322892937955]   \n",
       "5           2.26653e+07                 4760.8   \n",
       "\n",
       "  Mean absolute percentage error (%)             Max error  \\\n",
       "0                            455.426               8318.03   \n",
       "1                             441.94                 11610   \n",
       "2                             445.34                 11445   \n",
       "3                            515.462               11780.7   \n",
       "4               [457.64897070470835]  [12271.028872825711]   \n",
       "5                            416.815               10686.3   \n",
       "\n",
       "      Max squared error Max percentage error                  R^2  \n",
       "0           6.91896e+07              19.7506             0.041849  \n",
       "1           1.34792e+08              34.9447             0.193846  \n",
       "2           1.30987e+08              33.0828             0.942084  \n",
       "3           1.38786e+08              29.7981             0.998819  \n",
       "4  [150578149.59772223]  [36.07697552258187]  [0.470437642168851]  \n",
       "5           1.14198e+08              21.3806             -1.69087  "
      ]
     },
     "execution_count": 132,
     "metadata": {},
     "output_type": "execute_result"
    }
   ],
   "source": [
    "error_table_train = pd.DataFrame(data_train[1], columns = text)\n",
    "error_table_train"
   ]
  },
  {
   "cell_type": "code",
   "execution_count": 133,
   "metadata": {},
   "outputs": [
    {
     "data": {
      "text/html": [
       "<div>\n",
       "<style scoped>\n",
       "    .dataframe tbody tr th:only-of-type {\n",
       "        vertical-align: middle;\n",
       "    }\n",
       "\n",
       "    .dataframe tbody tr th {\n",
       "        vertical-align: top;\n",
       "    }\n",
       "\n",
       "    .dataframe thead th {\n",
       "        text-align: right;\n",
       "    }\n",
       "</style>\n",
       "<table border=\"1\" class=\"dataframe\">\n",
       "  <thead>\n",
       "    <tr style=\"text-align: right;\">\n",
       "      <th></th>\n",
       "      <th>Models</th>\n",
       "      <th>Mean absolute error</th>\n",
       "      <th>Mean square error</th>\n",
       "      <th>Root mean square error</th>\n",
       "      <th>Mean absolute percentage error (%)</th>\n",
       "      <th>Max error</th>\n",
       "      <th>Max squared error</th>\n",
       "      <th>Max percentage error</th>\n",
       "      <th>R^2</th>\n",
       "    </tr>\n",
       "  </thead>\n",
       "  <tbody>\n",
       "    <tr>\n",
       "      <td>0</td>\n",
       "      <td>&lt;function prev_univ at 0x000002A46B7CE3A8&gt;</td>\n",
       "      <td>3313.07</td>\n",
       "      <td>1.57801e+07</td>\n",
       "      <td>3972.42</td>\n",
       "      <td>141.957</td>\n",
       "      <td>8055.61</td>\n",
       "      <td>6.48928e+07</td>\n",
       "      <td>7.13046</td>\n",
       "      <td>-6.28277</td>\n",
       "    </tr>\n",
       "    <tr>\n",
       "      <td>1</td>\n",
       "      <td>&lt;function prev_multiv at 0x000002A46B814168&gt;</td>\n",
       "      <td>3852</td>\n",
       "      <td>2.47625e+07</td>\n",
       "      <td>4976.19</td>\n",
       "      <td>155.908</td>\n",
       "      <td>11010</td>\n",
       "      <td>1.2122e+08</td>\n",
       "      <td>11</td>\n",
       "      <td>-33.0214</td>\n",
       "    </tr>\n",
       "    <tr>\n",
       "      <td>2</td>\n",
       "      <td>&lt;function prev_ridge at 0x000002A46B8140D8&gt;</td>\n",
       "      <td>3697.63</td>\n",
       "      <td>2.33077e+07</td>\n",
       "      <td>4827.8</td>\n",
       "      <td>152.037</td>\n",
       "      <td>10845</td>\n",
       "      <td>1.17613e+08</td>\n",
       "      <td>10.3784</td>\n",
       "      <td>-7.09496</td>\n",
       "    </tr>\n",
       "    <tr>\n",
       "      <td>3</td>\n",
       "      <td>&lt;function prev_pca at 0x000002A46B99B8B8&gt;</td>\n",
       "      <td>3734.95</td>\n",
       "      <td>2.64332e+07</td>\n",
       "      <td>5141.32</td>\n",
       "      <td>162.632</td>\n",
       "      <td>13514</td>\n",
       "      <td>1.82628e+08</td>\n",
       "      <td>12.0004</td>\n",
       "      <td>-3.17013</td>\n",
       "    </tr>\n",
       "    <tr>\n",
       "      <td>4</td>\n",
       "      <td>&lt;function prev_pls at 0x000002A41212C948&gt;</td>\n",
       "      <td>[3890.571527829802]</td>\n",
       "      <td>[24772440.818522666]</td>\n",
       "      <td>[4977.192061647075]</td>\n",
       "      <td>[161.6984578562668]</td>\n",
       "      <td>[11671.028872825711]</td>\n",
       "      <td>[136212914.9503314]</td>\n",
       "      <td>[11.378005674461948]</td>\n",
       "      <td>[-24.596393923977622]</td>\n",
       "    </tr>\n",
       "    <tr>\n",
       "      <td>5</td>\n",
       "      <td>&lt;function prev_mlp at 0x000002A4000B9048&gt;</td>\n",
       "      <td>3708.91</td>\n",
       "      <td>2.23713e+07</td>\n",
       "      <td>4729.84</td>\n",
       "      <td>146.754</td>\n",
       "      <td>11212</td>\n",
       "      <td>1.2571e+08</td>\n",
       "      <td>9.47979</td>\n",
       "      <td>-27.6992</td>\n",
       "    </tr>\n",
       "  </tbody>\n",
       "</table>\n",
       "</div>"
      ],
      "text/plain": [
       "                                         Models  Mean absolute error  \\\n",
       "0    <function prev_univ at 0x000002A46B7CE3A8>              3313.07   \n",
       "1  <function prev_multiv at 0x000002A46B814168>                 3852   \n",
       "2   <function prev_ridge at 0x000002A46B8140D8>              3697.63   \n",
       "3     <function prev_pca at 0x000002A46B99B8B8>              3734.95   \n",
       "4     <function prev_pls at 0x000002A41212C948>  [3890.571527829802]   \n",
       "5     <function prev_mlp at 0x000002A4000B9048>              3708.91   \n",
       "\n",
       "      Mean square error Root mean square error  \\\n",
       "0           1.57801e+07                3972.42   \n",
       "1           2.47625e+07                4976.19   \n",
       "2           2.33077e+07                 4827.8   \n",
       "3           2.64332e+07                5141.32   \n",
       "4  [24772440.818522666]    [4977.192061647075]   \n",
       "5           2.23713e+07                4729.84   \n",
       "\n",
       "  Mean absolute percentage error (%)             Max error  \\\n",
       "0                            141.957               8055.61   \n",
       "1                            155.908                 11010   \n",
       "2                            152.037                 10845   \n",
       "3                            162.632                 13514   \n",
       "4                [161.6984578562668]  [11671.028872825711]   \n",
       "5                            146.754                 11212   \n",
       "\n",
       "     Max squared error  Max percentage error                    R^2  \n",
       "0          6.48928e+07               7.13046               -6.28277  \n",
       "1           1.2122e+08                    11               -33.0214  \n",
       "2          1.17613e+08               10.3784               -7.09496  \n",
       "3          1.82628e+08               12.0004               -3.17013  \n",
       "4  [136212914.9503314]  [11.378005674461948]  [-24.596393923977622]  \n",
       "5           1.2571e+08               9.47979               -27.6992  "
      ]
     },
     "execution_count": 133,
     "metadata": {},
     "output_type": "execute_result"
    }
   ],
   "source": [
    "error_table_train = pd.DataFrame(data_train[2], columns = text)\n",
    "error_table_train"
   ]
  },
  {
   "cell_type": "code",
   "execution_count": 134,
   "metadata": {},
   "outputs": [
    {
     "data": {
      "text/html": [
       "<div>\n",
       "<style scoped>\n",
       "    .dataframe tbody tr th:only-of-type {\n",
       "        vertical-align: middle;\n",
       "    }\n",
       "\n",
       "    .dataframe tbody tr th {\n",
       "        vertical-align: top;\n",
       "    }\n",
       "\n",
       "    .dataframe thead th {\n",
       "        text-align: right;\n",
       "    }\n",
       "</style>\n",
       "<table border=\"1\" class=\"dataframe\">\n",
       "  <thead>\n",
       "    <tr style=\"text-align: right;\">\n",
       "      <th></th>\n",
       "      <th>Models</th>\n",
       "      <th>Mean absolute error</th>\n",
       "      <th>Mean square error</th>\n",
       "      <th>Root mean square error</th>\n",
       "      <th>Mean absolute percentage error (%)</th>\n",
       "      <th>Max error</th>\n",
       "      <th>Max squared error</th>\n",
       "      <th>Max percentage error</th>\n",
       "      <th>R^2</th>\n",
       "    </tr>\n",
       "  </thead>\n",
       "  <tbody>\n",
       "    <tr>\n",
       "      <td>0</td>\n",
       "      <td>&lt;function prev_univ at 0x000002A46B7CE3A8&gt;</td>\n",
       "      <td>2756.95</td>\n",
       "      <td>9.75296e+06</td>\n",
       "      <td>3122.97</td>\n",
       "      <td>197.658</td>\n",
       "      <td>5644.58</td>\n",
       "      <td>3.18613e+07</td>\n",
       "      <td>9.45829</td>\n",
       "      <td>-0.328142</td>\n",
       "    </tr>\n",
       "    <tr>\n",
       "      <td>1</td>\n",
       "      <td>&lt;function prev_multiv at 0x000002A46B814168&gt;</td>\n",
       "      <td>3954</td>\n",
       "      <td>2.17263e+07</td>\n",
       "      <td>4661.14</td>\n",
       "      <td>173.119</td>\n",
       "      <td>8590</td>\n",
       "      <td>7.37881e+07</td>\n",
       "      <td>9.5</td>\n",
       "      <td>-5.2044</td>\n",
       "    </tr>\n",
       "    <tr>\n",
       "      <td>2</td>\n",
       "      <td>&lt;function prev_ridge at 0x000002A46B8140D8&gt;</td>\n",
       "      <td>3644.52</td>\n",
       "      <td>1.86537e+07</td>\n",
       "      <td>4319</td>\n",
       "      <td>175.763</td>\n",
       "      <td>8086.76</td>\n",
       "      <td>6.53957e+07</td>\n",
       "      <td>9.97097</td>\n",
       "      <td>-0.476259</td>\n",
       "    </tr>\n",
       "    <tr>\n",
       "      <td>3</td>\n",
       "      <td>&lt;function prev_pca at 0x000002A46B99B8B8&gt;</td>\n",
       "      <td>3567.84</td>\n",
       "      <td>1.76109e+07</td>\n",
       "      <td>4196.53</td>\n",
       "      <td>179.941</td>\n",
       "      <td>7808.97</td>\n",
       "      <td>6.098e+07</td>\n",
       "      <td>7.34021</td>\n",
       "      <td>0.0420761</td>\n",
       "    </tr>\n",
       "    <tr>\n",
       "      <td>4</td>\n",
       "      <td>&lt;function prev_pls at 0x000002A41212C948&gt;</td>\n",
       "      <td>[3951.5156434237156]</td>\n",
       "      <td>[21412300.02226322]</td>\n",
       "      <td>[4627.342652350615]</td>\n",
       "      <td>[183.70847036418405]</td>\n",
       "      <td>[8097.229714666002]</td>\n",
       "      <td>[65565129.05207007]</td>\n",
       "      <td>[9.718087212155234]</td>\n",
       "      <td>[-3.6679543756072883]</td>\n",
       "    </tr>\n",
       "    <tr>\n",
       "      <td>5</td>\n",
       "      <td>&lt;function prev_mlp at 0x000002A4000B9048&gt;</td>\n",
       "      <td>2908.49</td>\n",
       "      <td>1.23858e+07</td>\n",
       "      <td>3519.34</td>\n",
       "      <td>162.429</td>\n",
       "      <td>5928.58</td>\n",
       "      <td>3.51481e+07</td>\n",
       "      <td>9.50226</td>\n",
       "      <td>-0.571455</td>\n",
       "    </tr>\n",
       "  </tbody>\n",
       "</table>\n",
       "</div>"
      ],
      "text/plain": [
       "                                         Models   Mean absolute error  \\\n",
       "0    <function prev_univ at 0x000002A46B7CE3A8>               2756.95   \n",
       "1  <function prev_multiv at 0x000002A46B814168>                  3954   \n",
       "2   <function prev_ridge at 0x000002A46B8140D8>               3644.52   \n",
       "3     <function prev_pca at 0x000002A46B99B8B8>               3567.84   \n",
       "4     <function prev_pls at 0x000002A41212C948>  [3951.5156434237156]   \n",
       "5     <function prev_mlp at 0x000002A4000B9048>               2908.49   \n",
       "\n",
       "     Mean square error Root mean square error  \\\n",
       "0          9.75296e+06                3122.97   \n",
       "1          2.17263e+07                4661.14   \n",
       "2          1.86537e+07                   4319   \n",
       "3          1.76109e+07                4196.53   \n",
       "4  [21412300.02226322]    [4627.342652350615]   \n",
       "5          1.23858e+07                3519.34   \n",
       "\n",
       "  Mean absolute percentage error (%)            Max error  \\\n",
       "0                            197.658              5644.58   \n",
       "1                            173.119                 8590   \n",
       "2                            175.763              8086.76   \n",
       "3                            179.941              7808.97   \n",
       "4               [183.70847036418405]  [8097.229714666002]   \n",
       "5                            162.429              5928.58   \n",
       "\n",
       "     Max squared error Max percentage error                    R^2  \n",
       "0          3.18613e+07              9.45829              -0.328142  \n",
       "1          7.37881e+07                  9.5                -5.2044  \n",
       "2          6.53957e+07              9.97097              -0.476259  \n",
       "3            6.098e+07              7.34021              0.0420761  \n",
       "4  [65565129.05207007]  [9.718087212155234]  [-3.6679543756072883]  \n",
       "5          3.51481e+07              9.50226              -0.571455  "
      ]
     },
     "execution_count": 134,
     "metadata": {},
     "output_type": "execute_result"
    }
   ],
   "source": [
    "error_table_train = pd.DataFrame(data_train[3], columns = text)\n",
    "error_table_train"
   ]
  },
  {
   "cell_type": "code",
   "execution_count": 135,
   "metadata": {},
   "outputs": [
    {
     "data": {
      "text/html": [
       "<div>\n",
       "<style scoped>\n",
       "    .dataframe tbody tr th:only-of-type {\n",
       "        vertical-align: middle;\n",
       "    }\n",
       "\n",
       "    .dataframe tbody tr th {\n",
       "        vertical-align: top;\n",
       "    }\n",
       "\n",
       "    .dataframe thead th {\n",
       "        text-align: right;\n",
       "    }\n",
       "</style>\n",
       "<table border=\"1\" class=\"dataframe\">\n",
       "  <thead>\n",
       "    <tr style=\"text-align: right;\">\n",
       "      <th></th>\n",
       "      <th>Models</th>\n",
       "      <th>Mean absolute error</th>\n",
       "      <th>Mean square error</th>\n",
       "      <th>Root mean square error</th>\n",
       "      <th>Mean absolute percentage error (%)</th>\n",
       "      <th>Max error</th>\n",
       "      <th>Max squared error</th>\n",
       "      <th>Max percentage error</th>\n",
       "      <th>R^2</th>\n",
       "    </tr>\n",
       "  </thead>\n",
       "  <tbody>\n",
       "    <tr>\n",
       "      <td>0</td>\n",
       "      <td>&lt;function prev_univ at 0x000002A46B7CE3A8&gt;</td>\n",
       "      <td>2625.27</td>\n",
       "      <td>9.02216e+06</td>\n",
       "      <td>3003.69</td>\n",
       "      <td>281.661</td>\n",
       "      <td>6979.63</td>\n",
       "      <td>4.87153e+07</td>\n",
       "      <td>17.762</td>\n",
       "      <td>-0.0591308</td>\n",
       "    </tr>\n",
       "    <tr>\n",
       "      <td>1</td>\n",
       "      <td>&lt;function prev_multiv at 0x000002A46B814168&gt;</td>\n",
       "      <td>3359.5</td>\n",
       "      <td>1.89351e+07</td>\n",
       "      <td>4351.45</td>\n",
       "      <td>314.871</td>\n",
       "      <td>8170</td>\n",
       "      <td>6.67489e+07</td>\n",
       "      <td>31.5</td>\n",
       "      <td>0.994565</td>\n",
       "    </tr>\n",
       "    <tr>\n",
       "      <td>2</td>\n",
       "      <td>&lt;function prev_ridge at 0x000002A46B8140D8&gt;</td>\n",
       "      <td>3341.1</td>\n",
       "      <td>1.70285e+07</td>\n",
       "      <td>4126.56</td>\n",
       "      <td>313.411</td>\n",
       "      <td>7155.97</td>\n",
       "      <td>5.12079e+07</td>\n",
       "      <td>29.8165</td>\n",
       "      <td>0.83329</td>\n",
       "    </tr>\n",
       "    <tr>\n",
       "      <td>3</td>\n",
       "      <td>&lt;function prev_pca at 0x000002A46B99B8B8&gt;</td>\n",
       "      <td>3333.18</td>\n",
       "      <td>1.64943e+07</td>\n",
       "      <td>4061.31</td>\n",
       "      <td>320.811</td>\n",
       "      <td>7579.2</td>\n",
       "      <td>5.74443e+07</td>\n",
       "      <td>27.1158</td>\n",
       "      <td>0.411803</td>\n",
       "    </tr>\n",
       "    <tr>\n",
       "      <td>4</td>\n",
       "      <td>&lt;function prev_pls at 0x000002A41212C948&gt;</td>\n",
       "      <td>[3297.2323322485413]</td>\n",
       "      <td>[18184015.355617553]</td>\n",
       "      <td>[4264.271960794427]</td>\n",
       "      <td>[321.8919001932356]</td>\n",
       "      <td>[7852.046752791866]</td>\n",
       "      <td>[61654638.20802929]</td>\n",
       "      <td>[32.52376536833444]</td>\n",
       "      <td>[0.9742889580050179]</td>\n",
       "    </tr>\n",
       "    <tr>\n",
       "      <td>5</td>\n",
       "      <td>&lt;function prev_mlp at 0x000002A4000B9048&gt;</td>\n",
       "      <td>2904.79</td>\n",
       "      <td>1.31736e+07</td>\n",
       "      <td>3629.54</td>\n",
       "      <td>297.726</td>\n",
       "      <td>6452.6</td>\n",
       "      <td>4.16361e+07</td>\n",
       "      <td>26.8858</td>\n",
       "      <td>0.195867</td>\n",
       "    </tr>\n",
       "  </tbody>\n",
       "</table>\n",
       "</div>"
      ],
      "text/plain": [
       "                                         Models   Mean absolute error  \\\n",
       "0    <function prev_univ at 0x000002A46B7CE3A8>               2625.27   \n",
       "1  <function prev_multiv at 0x000002A46B814168>                3359.5   \n",
       "2   <function prev_ridge at 0x000002A46B8140D8>                3341.1   \n",
       "3     <function prev_pca at 0x000002A46B99B8B8>               3333.18   \n",
       "4     <function prev_pls at 0x000002A41212C948>  [3297.2323322485413]   \n",
       "5     <function prev_mlp at 0x000002A4000B9048>               2904.79   \n",
       "\n",
       "      Mean square error Root mean square error  \\\n",
       "0           9.02216e+06                3003.69   \n",
       "1           1.89351e+07                4351.45   \n",
       "2           1.70285e+07                4126.56   \n",
       "3           1.64943e+07                4061.31   \n",
       "4  [18184015.355617553]    [4264.271960794427]   \n",
       "5           1.31736e+07                3629.54   \n",
       "\n",
       "  Mean absolute percentage error (%)            Max error  \\\n",
       "0                            281.661              6979.63   \n",
       "1                            314.871                 8170   \n",
       "2                            313.411              7155.97   \n",
       "3                            320.811               7579.2   \n",
       "4                [321.8919001932356]  [7852.046752791866]   \n",
       "5                            297.726               6452.6   \n",
       "\n",
       "     Max squared error Max percentage error                   R^2  \n",
       "0          4.87153e+07               17.762            -0.0591308  \n",
       "1          6.67489e+07                 31.5              0.994565  \n",
       "2          5.12079e+07              29.8165               0.83329  \n",
       "3          5.74443e+07              27.1158              0.411803  \n",
       "4  [61654638.20802929]  [32.52376536833444]  [0.9742889580050179]  \n",
       "5          4.16361e+07              26.8858              0.195867  "
      ]
     },
     "execution_count": 135,
     "metadata": {},
     "output_type": "execute_result"
    }
   ],
   "source": [
    "error_table_train = pd.DataFrame(data_train[4], columns = text)\n",
    "error_table_train"
   ]
  },
  {
   "cell_type": "code",
   "execution_count": 136,
   "metadata": {},
   "outputs": [
    {
     "data": {
      "text/html": [
       "<div>\n",
       "<style scoped>\n",
       "    .dataframe tbody tr th:only-of-type {\n",
       "        vertical-align: middle;\n",
       "    }\n",
       "\n",
       "    .dataframe tbody tr th {\n",
       "        vertical-align: top;\n",
       "    }\n",
       "\n",
       "    .dataframe thead th {\n",
       "        text-align: right;\n",
       "    }\n",
       "</style>\n",
       "<table border=\"1\" class=\"dataframe\">\n",
       "  <thead>\n",
       "    <tr style=\"text-align: right;\">\n",
       "      <th></th>\n",
       "      <th>Models</th>\n",
       "      <th>Mean absolute error</th>\n",
       "      <th>Mean square error</th>\n",
       "      <th>Root mean square error</th>\n",
       "      <th>Mean absolute percentage error (%)</th>\n",
       "      <th>Max error</th>\n",
       "      <th>Max squared error</th>\n",
       "      <th>Max percentage error</th>\n",
       "      <th>R^2</th>\n",
       "    </tr>\n",
       "  </thead>\n",
       "  <tbody>\n",
       "    <tr>\n",
       "      <td>0</td>\n",
       "      <td>&lt;function prev_univ at 0x000002A46B7CE3A8&gt;</td>\n",
       "      <td>3344.72</td>\n",
       "      <td>1.57015e+07</td>\n",
       "      <td>3962.51</td>\n",
       "      <td>144.877</td>\n",
       "      <td>8294.87</td>\n",
       "      <td>6.88049e+07</td>\n",
       "      <td>7.20745</td>\n",
       "      <td>0.278185</td>\n",
       "    </tr>\n",
       "    <tr>\n",
       "      <td>1</td>\n",
       "      <td>&lt;function prev_multiv at 0x000002A46B814168&gt;</td>\n",
       "      <td>3671.05</td>\n",
       "      <td>2.15238e+07</td>\n",
       "      <td>4639.38</td>\n",
       "      <td>150.719</td>\n",
       "      <td>10210</td>\n",
       "      <td>1.04244e+08</td>\n",
       "      <td>11.7869</td>\n",
       "      <td>0.998083</td>\n",
       "    </tr>\n",
       "    <tr>\n",
       "      <td>2</td>\n",
       "      <td>&lt;function prev_ridge at 0x000002A46B8140D8&gt;</td>\n",
       "      <td>3642.88</td>\n",
       "      <td>2.08682e+07</td>\n",
       "      <td>4568.17</td>\n",
       "      <td>150.435</td>\n",
       "      <td>10045</td>\n",
       "      <td>1.00901e+08</td>\n",
       "      <td>11.1245</td>\n",
       "      <td>0.807444</td>\n",
       "    </tr>\n",
       "    <tr>\n",
       "      <td>3</td>\n",
       "      <td>&lt;function prev_pca at 0x000002A46B99B8B8&gt;</td>\n",
       "      <td>3423.04</td>\n",
       "      <td>2.04212e+07</td>\n",
       "      <td>4518.98</td>\n",
       "      <td>144.644</td>\n",
       "      <td>10797</td>\n",
       "      <td>1.16575e+08</td>\n",
       "      <td>11.1851</td>\n",
       "      <td>0.751096</td>\n",
       "    </tr>\n",
       "    <tr>\n",
       "      <td>4</td>\n",
       "      <td>&lt;function prev_pls at 0x000002A41212C948&gt;</td>\n",
       "      <td>[3617.051250675175]</td>\n",
       "      <td>[21013288.379877258]</td>\n",
       "      <td>[4584.0253467751745]</td>\n",
       "      <td>[151.4702747802834]</td>\n",
       "      <td>[10871.028872825711]</td>\n",
       "      <td>[118179268.75381024]</td>\n",
       "      <td>[12.189678177705353]</td>\n",
       "      <td>[0.8299062335561442]</td>\n",
       "    </tr>\n",
       "    <tr>\n",
       "      <td>5</td>\n",
       "      <td>&lt;function prev_mlp at 0x000002A4000B9048&gt;</td>\n",
       "      <td>3409.74</td>\n",
       "      <td>1.86127e+07</td>\n",
       "      <td>4314.24</td>\n",
       "      <td>112.701</td>\n",
       "      <td>9130.61</td>\n",
       "      <td>8.3368e+07</td>\n",
       "      <td>6.78406</td>\n",
       "      <td>-0.204093</td>\n",
       "    </tr>\n",
       "  </tbody>\n",
       "</table>\n",
       "</div>"
      ],
      "text/plain": [
       "                                         Models  Mean absolute error  \\\n",
       "0    <function prev_univ at 0x000002A46B7CE3A8>              3344.72   \n",
       "1  <function prev_multiv at 0x000002A46B814168>              3671.05   \n",
       "2   <function prev_ridge at 0x000002A46B8140D8>              3642.88   \n",
       "3     <function prev_pca at 0x000002A46B99B8B8>              3423.04   \n",
       "4     <function prev_pls at 0x000002A41212C948>  [3617.051250675175]   \n",
       "5     <function prev_mlp at 0x000002A4000B9048>              3409.74   \n",
       "\n",
       "      Mean square error Root mean square error  \\\n",
       "0           1.57015e+07                3962.51   \n",
       "1           2.15238e+07                4639.38   \n",
       "2           2.08682e+07                4568.17   \n",
       "3           2.04212e+07                4518.98   \n",
       "4  [21013288.379877258]   [4584.0253467751745]   \n",
       "5           1.86127e+07                4314.24   \n",
       "\n",
       "  Mean absolute percentage error (%)             Max error  \\\n",
       "0                            144.877               8294.87   \n",
       "1                            150.719                 10210   \n",
       "2                            150.435                 10045   \n",
       "3                            144.644                 10797   \n",
       "4                [151.4702747802834]  [10871.028872825711]   \n",
       "5                            112.701               9130.61   \n",
       "\n",
       "      Max squared error  Max percentage error                   R^2  \n",
       "0           6.88049e+07               7.20745              0.278185  \n",
       "1           1.04244e+08               11.7869              0.998083  \n",
       "2           1.00901e+08               11.1245              0.807444  \n",
       "3           1.16575e+08               11.1851              0.751096  \n",
       "4  [118179268.75381024]  [12.189678177705353]  [0.8299062335561442]  \n",
       "5            8.3368e+07               6.78406             -0.204093  "
      ]
     },
     "execution_count": 136,
     "metadata": {},
     "output_type": "execute_result"
    }
   ],
   "source": [
    "error_table_train = pd.DataFrame(data_train[5], columns = text)\n",
    "error_table_train"
   ]
  },
  {
   "cell_type": "code",
   "execution_count": 137,
   "metadata": {},
   "outputs": [
    {
     "data": {
      "text/html": [
       "<div>\n",
       "<style scoped>\n",
       "    .dataframe tbody tr th:only-of-type {\n",
       "        vertical-align: middle;\n",
       "    }\n",
       "\n",
       "    .dataframe tbody tr th {\n",
       "        vertical-align: top;\n",
       "    }\n",
       "\n",
       "    .dataframe thead th {\n",
       "        text-align: right;\n",
       "    }\n",
       "</style>\n",
       "<table border=\"1\" class=\"dataframe\">\n",
       "  <thead>\n",
       "    <tr style=\"text-align: right;\">\n",
       "      <th></th>\n",
       "      <th>Models</th>\n",
       "      <th>Mean absolute error</th>\n",
       "      <th>Mean square error</th>\n",
       "      <th>Root mean square error</th>\n",
       "      <th>Mean absolute percentage error (%)</th>\n",
       "      <th>Max error</th>\n",
       "      <th>Max squared error</th>\n",
       "      <th>Max percentage error</th>\n",
       "      <th>R^2</th>\n",
       "    </tr>\n",
       "  </thead>\n",
       "  <tbody>\n",
       "    <tr>\n",
       "      <td>0</td>\n",
       "      <td>&lt;function prev_univ at 0x000002A46B7CE3A8&gt;</td>\n",
       "      <td>2030.05</td>\n",
       "      <td>5.7245e+06</td>\n",
       "      <td>2392.59</td>\n",
       "      <td>238.105</td>\n",
       "      <td>4112.89</td>\n",
       "      <td>1.69159e+07</td>\n",
       "      <td>10.9185</td>\n",
       "      <td>0.66896</td>\n",
       "    </tr>\n",
       "    <tr>\n",
       "      <td>1</td>\n",
       "      <td>&lt;function prev_multiv at 0x000002A46B814168&gt;</td>\n",
       "      <td>3796.62</td>\n",
       "      <td>2.30731e+07</td>\n",
       "      <td>4792.07</td>\n",
       "      <td>255.701</td>\n",
       "      <td>9916.67</td>\n",
       "      <td>9.98336e+07</td>\n",
       "      <td>19.6219</td>\n",
       "      <td>-7.71086</td>\n",
       "    </tr>\n",
       "    <tr>\n",
       "      <td>2</td>\n",
       "      <td>&lt;function prev_ridge at 0x000002A46B8140D8&gt;</td>\n",
       "      <td>3628.22</td>\n",
       "      <td>2.08958e+07</td>\n",
       "      <td>4556.42</td>\n",
       "      <td>253.893</td>\n",
       "      <td>9389.67</td>\n",
       "      <td>9.04751e+07</td>\n",
       "      <td>18.7229</td>\n",
       "      <td>-1.3153</td>\n",
       "    </tr>\n",
       "    <tr>\n",
       "      <td>3</td>\n",
       "      <td>&lt;function prev_pca at 0x000002A46B99B8B8&gt;</td>\n",
       "      <td>3692.11</td>\n",
       "      <td>2.17474e+07</td>\n",
       "      <td>4629.42</td>\n",
       "      <td>275.111</td>\n",
       "      <td>9914</td>\n",
       "      <td>1.03413e+08</td>\n",
       "      <td>17.3773</td>\n",
       "      <td>-0.0572472</td>\n",
       "    </tr>\n",
       "    <tr>\n",
       "      <td>4</td>\n",
       "      <td>&lt;function prev_pls at 0x000002A41212C948&gt;</td>\n",
       "      <td>[3787.0663912835475]</td>\n",
       "      <td>[22795823.5678188]</td>\n",
       "      <td>[4759.682499457]</td>\n",
       "      <td>[263.4072301841398]</td>\n",
       "      <td>[9994.345388190019]</td>\n",
       "      <td>[102816394.06590372]</td>\n",
       "      <td>[20.252753568779237]</td>\n",
       "      <td>[-5.659522269644938]</td>\n",
       "    </tr>\n",
       "    <tr>\n",
       "      <td>5</td>\n",
       "      <td>&lt;function prev_mlp at 0x000002A4000B9048&gt;</td>\n",
       "      <td>3127.28</td>\n",
       "      <td>1.60523e+07</td>\n",
       "      <td>3936.56</td>\n",
       "      <td>219.722</td>\n",
       "      <td>8265.79</td>\n",
       "      <td>7.30514e+07</td>\n",
       "      <td>14.0987</td>\n",
       "      <td>-5.66695</td>\n",
       "    </tr>\n",
       "  </tbody>\n",
       "</table>\n",
       "</div>"
      ],
      "text/plain": [
       "                                         Models   Mean absolute error  \\\n",
       "0    <function prev_univ at 0x000002A46B7CE3A8>               2030.05   \n",
       "1  <function prev_multiv at 0x000002A46B814168>               3796.62   \n",
       "2   <function prev_ridge at 0x000002A46B8140D8>               3628.22   \n",
       "3     <function prev_pca at 0x000002A46B99B8B8>               3692.11   \n",
       "4     <function prev_pls at 0x000002A41212C948>  [3787.0663912835475]   \n",
       "5     <function prev_mlp at 0x000002A4000B9048>               3127.28   \n",
       "\n",
       "    Mean square error Root mean square error  \\\n",
       "0          5.7245e+06                2392.59   \n",
       "1         2.30731e+07                4792.07   \n",
       "2         2.08958e+07                4556.42   \n",
       "3         2.17474e+07                4629.42   \n",
       "4  [22795823.5678188]       [4759.682499457]   \n",
       "5         1.60523e+07                3936.56   \n",
       "\n",
       "  Mean absolute percentage error (%)            Max error  \\\n",
       "0                            238.105              4112.89   \n",
       "1                            255.701              9916.67   \n",
       "2                            253.893              9389.67   \n",
       "3                            275.111                 9914   \n",
       "4                [263.4072301841398]  [9994.345388190019]   \n",
       "5                            219.722              8265.79   \n",
       "\n",
       "      Max squared error  Max percentage error                   R^2  \n",
       "0           1.69159e+07               10.9185               0.66896  \n",
       "1           9.98336e+07               19.6219              -7.71086  \n",
       "2           9.04751e+07               18.7229               -1.3153  \n",
       "3           1.03413e+08               17.3773            -0.0572472  \n",
       "4  [102816394.06590372]  [20.252753568779237]  [-5.659522269644938]  \n",
       "5           7.30514e+07               14.0987              -5.66695  "
      ]
     },
     "execution_count": 137,
     "metadata": {},
     "output_type": "execute_result"
    }
   ],
   "source": [
    "error_table_train_aver = pd.DataFrame(aver_data_train, columns = text)\n",
    "error_table_train_aver"
   ]
  },
  {
   "cell_type": "code",
   "execution_count": 138,
   "metadata": {},
   "outputs": [
    {
     "data": {
      "text/html": [
       "<div>\n",
       "<style scoped>\n",
       "    .dataframe tbody tr th:only-of-type {\n",
       "        vertical-align: middle;\n",
       "    }\n",
       "\n",
       "    .dataframe tbody tr th {\n",
       "        vertical-align: top;\n",
       "    }\n",
       "\n",
       "    .dataframe thead th {\n",
       "        text-align: right;\n",
       "    }\n",
       "</style>\n",
       "<table border=\"1\" class=\"dataframe\">\n",
       "  <thead>\n",
       "    <tr style=\"text-align: right;\">\n",
       "      <th></th>\n",
       "      <th>Models</th>\n",
       "      <th>Mean absolute error</th>\n",
       "      <th>Mean square error</th>\n",
       "      <th>Root mean square error</th>\n",
       "      <th>Mean absolute percentage error (%)</th>\n",
       "      <th>Max error</th>\n",
       "      <th>Max squared error</th>\n",
       "      <th>Max percentage error</th>\n",
       "      <th>R^2</th>\n",
       "    </tr>\n",
       "  </thead>\n",
       "  <tbody>\n",
       "    <tr>\n",
       "      <td>0</td>\n",
       "      <td>&lt;function prev_univ at 0x000002A46B7CE3A8&gt;</td>\n",
       "      <td>2213.48</td>\n",
       "      <td>6.1692e+06</td>\n",
       "      <td>2483.79</td>\n",
       "      <td>232.442</td>\n",
       "      <td>4276.35</td>\n",
       "      <td>1.82871e+07</td>\n",
       "      <td>12.7904</td>\n",
       "      <td>0.965435</td>\n",
       "    </tr>\n",
       "    <tr>\n",
       "      <td>1</td>\n",
       "      <td>&lt;function prev_multiv at 0x000002A46B814168&gt;</td>\n",
       "      <td>4160.55</td>\n",
       "      <td>2.53617e+07</td>\n",
       "      <td>5022.04</td>\n",
       "      <td>327.796</td>\n",
       "      <td>10111.6</td>\n",
       "      <td>1.03567e+08</td>\n",
       "      <td>18.021</td>\n",
       "      <td>-5.74443</td>\n",
       "    </tr>\n",
       "    <tr>\n",
       "      <td>2</td>\n",
       "      <td>&lt;function prev_ridge at 0x000002A46B8140D8&gt;</td>\n",
       "      <td>4037.24</td>\n",
       "      <td>2.29591e+07</td>\n",
       "      <td>4777.9</td>\n",
       "      <td>320.593</td>\n",
       "      <td>9166.51</td>\n",
       "      <td>8.51336e+07</td>\n",
       "      <td>17.2102</td>\n",
       "      <td>-4.92516</td>\n",
       "    </tr>\n",
       "    <tr>\n",
       "      <td>3</td>\n",
       "      <td>&lt;function prev_pca at 0x000002A46B99B8B8&gt;</td>\n",
       "      <td>3316.24</td>\n",
       "      <td>1.64651e+07</td>\n",
       "      <td>4029.14</td>\n",
       "      <td>287.917</td>\n",
       "      <td>8157.81</td>\n",
       "      <td>6.99643e+07</td>\n",
       "      <td>16.7297</td>\n",
       "      <td>-0.0494715</td>\n",
       "    </tr>\n",
       "    <tr>\n",
       "      <td>4</td>\n",
       "      <td>&lt;function prev_pls at 0x000002A41212C948&gt;</td>\n",
       "      <td>[3381.8578157866573]</td>\n",
       "      <td>[16912495.53168424]</td>\n",
       "      <td>[4084.1115274393974]</td>\n",
       "      <td>[289.4891825090039]</td>\n",
       "      <td>[8338.751293157542]</td>\n",
       "      <td>[73385223.87639527]</td>\n",
       "      <td>[16.17087799344618]</td>\n",
       "      <td>[-0.07861991092512065]</td>\n",
       "    </tr>\n",
       "    <tr>\n",
       "      <td>5</td>\n",
       "      <td>&lt;function prev_mlp at 0x000002A4000B9048&gt;</td>\n",
       "      <td>3253.64</td>\n",
       "      <td>1.55764e+07</td>\n",
       "      <td>3915.58</td>\n",
       "      <td>263.113</td>\n",
       "      <td>7243.8</td>\n",
       "      <td>5.40061e+07</td>\n",
       "      <td>16.2124</td>\n",
       "      <td>0.011332</td>\n",
       "    </tr>\n",
       "  </tbody>\n",
       "</table>\n",
       "</div>"
      ],
      "text/plain": [
       "                                         Models   Mean absolute error  \\\n",
       "0    <function prev_univ at 0x000002A46B7CE3A8>               2213.48   \n",
       "1  <function prev_multiv at 0x000002A46B814168>               4160.55   \n",
       "2   <function prev_ridge at 0x000002A46B8140D8>               4037.24   \n",
       "3     <function prev_pca at 0x000002A46B99B8B8>               3316.24   \n",
       "4     <function prev_pls at 0x000002A41212C948>  [3381.8578157866573]   \n",
       "5     <function prev_mlp at 0x000002A4000B9048>               3253.64   \n",
       "\n",
       "     Mean square error Root mean square error  \\\n",
       "0           6.1692e+06                2483.79   \n",
       "1          2.53617e+07                5022.04   \n",
       "2          2.29591e+07                 4777.9   \n",
       "3          1.64651e+07                4029.14   \n",
       "4  [16912495.53168424]   [4084.1115274393974]   \n",
       "5          1.55764e+07                3915.58   \n",
       "\n",
       "  Mean absolute percentage error (%)            Max error  \\\n",
       "0                            232.442              4276.35   \n",
       "1                            327.796              10111.6   \n",
       "2                            320.593              9166.51   \n",
       "3                            287.917              8157.81   \n",
       "4                [289.4891825090039]  [8338.751293157542]   \n",
       "5                            263.113               7243.8   \n",
       "\n",
       "     Max squared error Max percentage error                     R^2  \n",
       "0          1.82871e+07              12.7904                0.965435  \n",
       "1          1.03567e+08               18.021                -5.74443  \n",
       "2          8.51336e+07              17.2102                -4.92516  \n",
       "3          6.99643e+07              16.7297              -0.0494715  \n",
       "4  [73385223.87639527]  [16.17087799344618]  [-0.07861991092512065]  \n",
       "5          5.40061e+07              16.2124                0.011332  "
      ]
     },
     "execution_count": 138,
     "metadata": {},
     "output_type": "execute_result"
    }
   ],
   "source": [
    "error_table_test = pd.DataFrame(data_test[0], columns = text)\n",
    "error_table_test"
   ]
  },
  {
   "cell_type": "code",
   "execution_count": 139,
   "metadata": {},
   "outputs": [
    {
     "data": {
      "text/html": [
       "<div>\n",
       "<style scoped>\n",
       "    .dataframe tbody tr th:only-of-type {\n",
       "        vertical-align: middle;\n",
       "    }\n",
       "\n",
       "    .dataframe tbody tr th {\n",
       "        vertical-align: top;\n",
       "    }\n",
       "\n",
       "    .dataframe thead th {\n",
       "        text-align: right;\n",
       "    }\n",
       "</style>\n",
       "<table border=\"1\" class=\"dataframe\">\n",
       "  <thead>\n",
       "    <tr style=\"text-align: right;\">\n",
       "      <th></th>\n",
       "      <th>Models</th>\n",
       "      <th>Mean absolute error</th>\n",
       "      <th>Mean square error</th>\n",
       "      <th>Root mean square error</th>\n",
       "      <th>Mean absolute percentage error (%)</th>\n",
       "      <th>Max error</th>\n",
       "      <th>Max squared error</th>\n",
       "      <th>Max percentage error</th>\n",
       "      <th>R^2</th>\n",
       "    </tr>\n",
       "  </thead>\n",
       "  <tbody>\n",
       "    <tr>\n",
       "      <td>0</td>\n",
       "      <td>&lt;function prev_univ at 0x000002A46B7CE3A8&gt;</td>\n",
       "      <td>2910.51</td>\n",
       "      <td>1.2153e+07</td>\n",
       "      <td>3486.11</td>\n",
       "      <td>440.094</td>\n",
       "      <td>7108.42</td>\n",
       "      <td>5.05296e+07</td>\n",
       "      <td>18.4062</td>\n",
       "      <td>0.621858</td>\n",
       "    </tr>\n",
       "    <tr>\n",
       "      <td>1</td>\n",
       "      <td>&lt;function prev_multiv at 0x000002A46B814168&gt;</td>\n",
       "      <td>3786.33</td>\n",
       "      <td>1.9709e+07</td>\n",
       "      <td>4439.48</td>\n",
       "      <td>521.254</td>\n",
       "      <td>8194.14</td>\n",
       "      <td>6.7144e+07</td>\n",
       "      <td>25.6067</td>\n",
       "      <td>-1.08718</td>\n",
       "    </tr>\n",
       "    <tr>\n",
       "      <td>2</td>\n",
       "      <td>&lt;function prev_ridge at 0x000002A46B8140D8&gt;</td>\n",
       "      <td>3716.61</td>\n",
       "      <td>1.8073e+07</td>\n",
       "      <td>4251.23</td>\n",
       "      <td>500.766</td>\n",
       "      <td>7245.57</td>\n",
       "      <td>5.24983e+07</td>\n",
       "      <td>22.6424</td>\n",
       "      <td>-0.699534</td>\n",
       "    </tr>\n",
       "    <tr>\n",
       "      <td>3</td>\n",
       "      <td>&lt;function prev_pca at 0x000002A46B99B8B8&gt;</td>\n",
       "      <td>3470.65</td>\n",
       "      <td>1.79268e+07</td>\n",
       "      <td>4234</td>\n",
       "      <td>497.464</td>\n",
       "      <td>8264.36</td>\n",
       "      <td>6.82996e+07</td>\n",
       "      <td>25.8723</td>\n",
       "      <td>0.251314</td>\n",
       "    </tr>\n",
       "    <tr>\n",
       "      <td>4</td>\n",
       "      <td>&lt;function prev_pls at 0x000002A41212C948&gt;</td>\n",
       "      <td>[3460.033258917737]</td>\n",
       "      <td>[18418780.44625063]</td>\n",
       "      <td>[4291.710666651543]</td>\n",
       "      <td>[495.06086303653444]</td>\n",
       "      <td>[8758.434846017653]</td>\n",
       "      <td>[76710180.95193627]</td>\n",
       "      <td>[24.239084173633586]</td>\n",
       "      <td>[0.3855172217751357]</td>\n",
       "    </tr>\n",
       "    <tr>\n",
       "      <td>5</td>\n",
       "      <td>&lt;function prev_mlp at 0x000002A4000B9048&gt;</td>\n",
       "      <td>3181.37</td>\n",
       "      <td>1.42845e+07</td>\n",
       "      <td>3779.49</td>\n",
       "      <td>416.385</td>\n",
       "      <td>8400.13</td>\n",
       "      <td>7.05622e+07</td>\n",
       "      <td>25.7967</td>\n",
       "      <td>-0.130397</td>\n",
       "    </tr>\n",
       "  </tbody>\n",
       "</table>\n",
       "</div>"
      ],
      "text/plain": [
       "                                         Models  Mean absolute error  \\\n",
       "0    <function prev_univ at 0x000002A46B7CE3A8>              2910.51   \n",
       "1  <function prev_multiv at 0x000002A46B814168>              3786.33   \n",
       "2   <function prev_ridge at 0x000002A46B8140D8>              3716.61   \n",
       "3     <function prev_pca at 0x000002A46B99B8B8>              3470.65   \n",
       "4     <function prev_pls at 0x000002A41212C948>  [3460.033258917737]   \n",
       "5     <function prev_mlp at 0x000002A4000B9048>              3181.37   \n",
       "\n",
       "     Mean square error Root mean square error  \\\n",
       "0           1.2153e+07                3486.11   \n",
       "1           1.9709e+07                4439.48   \n",
       "2           1.8073e+07                4251.23   \n",
       "3          1.79268e+07                   4234   \n",
       "4  [18418780.44625063]    [4291.710666651543]   \n",
       "5          1.42845e+07                3779.49   \n",
       "\n",
       "  Mean absolute percentage error (%)            Max error  \\\n",
       "0                            440.094              7108.42   \n",
       "1                            521.254              8194.14   \n",
       "2                            500.766              7245.57   \n",
       "3                            497.464              8264.36   \n",
       "4               [495.06086303653444]  [8758.434846017653]   \n",
       "5                            416.385              8400.13   \n",
       "\n",
       "     Max squared error  Max percentage error                   R^2  \n",
       "0          5.05296e+07               18.4062              0.621858  \n",
       "1           6.7144e+07               25.6067              -1.08718  \n",
       "2          5.24983e+07               22.6424             -0.699534  \n",
       "3          6.82996e+07               25.8723              0.251314  \n",
       "4  [76710180.95193627]  [24.239084173633586]  [0.3855172217751357]  \n",
       "5          7.05622e+07               25.7967             -0.130397  "
      ]
     },
     "execution_count": 139,
     "metadata": {},
     "output_type": "execute_result"
    }
   ],
   "source": [
    "error_table_test = pd.DataFrame(data_test[1], columns = text)\n",
    "error_table_test"
   ]
  },
  {
   "cell_type": "code",
   "execution_count": 140,
   "metadata": {},
   "outputs": [
    {
     "data": {
      "text/html": [
       "<div>\n",
       "<style scoped>\n",
       "    .dataframe tbody tr th:only-of-type {\n",
       "        vertical-align: middle;\n",
       "    }\n",
       "\n",
       "    .dataframe tbody tr th {\n",
       "        vertical-align: top;\n",
       "    }\n",
       "\n",
       "    .dataframe thead th {\n",
       "        text-align: right;\n",
       "    }\n",
       "</style>\n",
       "<table border=\"1\" class=\"dataframe\">\n",
       "  <thead>\n",
       "    <tr style=\"text-align: right;\">\n",
       "      <th></th>\n",
       "      <th>Models</th>\n",
       "      <th>Mean absolute error</th>\n",
       "      <th>Mean square error</th>\n",
       "      <th>Root mean square error</th>\n",
       "      <th>Mean absolute percentage error (%)</th>\n",
       "      <th>Max error</th>\n",
       "      <th>Max squared error</th>\n",
       "      <th>Max percentage error</th>\n",
       "      <th>R^2</th>\n",
       "    </tr>\n",
       "  </thead>\n",
       "  <tbody>\n",
       "    <tr>\n",
       "      <td>0</td>\n",
       "      <td>&lt;function prev_univ at 0x000002A46B7CE3A8&gt;</td>\n",
       "      <td>3011.64</td>\n",
       "      <td>1.44593e+07</td>\n",
       "      <td>3802.54</td>\n",
       "      <td>124.569</td>\n",
       "      <td>8787.85</td>\n",
       "      <td>7.72263e+07</td>\n",
       "      <td>6.4596</td>\n",
       "      <td>-0.0905621</td>\n",
       "    </tr>\n",
       "    <tr>\n",
       "      <td>1</td>\n",
       "      <td>&lt;function prev_multiv at 0x000002A46B814168&gt;</td>\n",
       "      <td>4039.77</td>\n",
       "      <td>2.36855e+07</td>\n",
       "      <td>4866.77</td>\n",
       "      <td>178.102</td>\n",
       "      <td>12012.9</td>\n",
       "      <td>1.4431e+08</td>\n",
       "      <td>10.9718</td>\n",
       "      <td>-22.1979</td>\n",
       "    </tr>\n",
       "    <tr>\n",
       "      <td>2</td>\n",
       "      <td>&lt;function prev_ridge at 0x000002A46B8140D8&gt;</td>\n",
       "      <td>3941.14</td>\n",
       "      <td>2.1444e+07</td>\n",
       "      <td>4630.77</td>\n",
       "      <td>177.662</td>\n",
       "      <td>10634.6</td>\n",
       "      <td>1.13095e+08</td>\n",
       "      <td>11.1165</td>\n",
       "      <td>-16.4325</td>\n",
       "    </tr>\n",
       "    <tr>\n",
       "      <td>3</td>\n",
       "      <td>&lt;function prev_pca at 0x000002A46B99B8B8&gt;</td>\n",
       "      <td>3613.57</td>\n",
       "      <td>2.01467e+07</td>\n",
       "      <td>4488.51</td>\n",
       "      <td>157.735</td>\n",
       "      <td>9810.68</td>\n",
       "      <td>9.62495e+07</td>\n",
       "      <td>7.8058</td>\n",
       "      <td>-2.04819</td>\n",
       "    </tr>\n",
       "    <tr>\n",
       "      <td>4</td>\n",
       "      <td>&lt;function prev_pls at 0x000002A41212C948&gt;</td>\n",
       "      <td>[3657.602482596184]</td>\n",
       "      <td>[20147055.688923273]</td>\n",
       "      <td>[4488.547169065206]</td>\n",
       "      <td>[160.38817423220962]</td>\n",
       "      <td>[9688.434846017653]</td>\n",
       "      <td>[93865769.76552911]</td>\n",
       "      <td>[8.065641607848164]</td>\n",
       "      <td>[-2.2846904254956226]</td>\n",
       "    </tr>\n",
       "    <tr>\n",
       "      <td>5</td>\n",
       "      <td>&lt;function prev_mlp at 0x000002A4000B9048&gt;</td>\n",
       "      <td>3629.68</td>\n",
       "      <td>2.05219e+07</td>\n",
       "      <td>4530.11</td>\n",
       "      <td>155.628</td>\n",
       "      <td>9180.34</td>\n",
       "      <td>8.42786e+07</td>\n",
       "      <td>8.25195</td>\n",
       "      <td>-1.79637</td>\n",
       "    </tr>\n",
       "  </tbody>\n",
       "</table>\n",
       "</div>"
      ],
      "text/plain": [
       "                                         Models  Mean absolute error  \\\n",
       "0    <function prev_univ at 0x000002A46B7CE3A8>              3011.64   \n",
       "1  <function prev_multiv at 0x000002A46B814168>              4039.77   \n",
       "2   <function prev_ridge at 0x000002A46B8140D8>              3941.14   \n",
       "3     <function prev_pca at 0x000002A46B99B8B8>              3613.57   \n",
       "4     <function prev_pls at 0x000002A41212C948>  [3657.602482596184]   \n",
       "5     <function prev_mlp at 0x000002A4000B9048>              3629.68   \n",
       "\n",
       "      Mean square error Root mean square error  \\\n",
       "0           1.44593e+07                3802.54   \n",
       "1           2.36855e+07                4866.77   \n",
       "2            2.1444e+07                4630.77   \n",
       "3           2.01467e+07                4488.51   \n",
       "4  [20147055.688923273]    [4488.547169065206]   \n",
       "5           2.05219e+07                4530.11   \n",
       "\n",
       "  Mean absolute percentage error (%)            Max error  \\\n",
       "0                            124.569              8787.85   \n",
       "1                            178.102              12012.9   \n",
       "2                            177.662              10634.6   \n",
       "3                            157.735              9810.68   \n",
       "4               [160.38817423220962]  [9688.434846017653]   \n",
       "5                            155.628              9180.34   \n",
       "\n",
       "     Max squared error Max percentage error                    R^2  \n",
       "0          7.72263e+07               6.4596             -0.0905621  \n",
       "1           1.4431e+08              10.9718               -22.1979  \n",
       "2          1.13095e+08              11.1165               -16.4325  \n",
       "3          9.62495e+07               7.8058               -2.04819  \n",
       "4  [93865769.76552911]  [8.065641607848164]  [-2.2846904254956226]  \n",
       "5          8.42786e+07              8.25195               -1.79637  "
      ]
     },
     "execution_count": 140,
     "metadata": {},
     "output_type": "execute_result"
    }
   ],
   "source": [
    "error_table_test = pd.DataFrame(data_test[2], columns = text)\n",
    "error_table_test"
   ]
  },
  {
   "cell_type": "code",
   "execution_count": 141,
   "metadata": {},
   "outputs": [
    {
     "data": {
      "text/html": [
       "<div>\n",
       "<style scoped>\n",
       "    .dataframe tbody tr th:only-of-type {\n",
       "        vertical-align: middle;\n",
       "    }\n",
       "\n",
       "    .dataframe tbody tr th {\n",
       "        vertical-align: top;\n",
       "    }\n",
       "\n",
       "    .dataframe thead th {\n",
       "        text-align: right;\n",
       "    }\n",
       "</style>\n",
       "<table border=\"1\" class=\"dataframe\">\n",
       "  <thead>\n",
       "    <tr style=\"text-align: right;\">\n",
       "      <th></th>\n",
       "      <th>Models</th>\n",
       "      <th>Mean absolute error</th>\n",
       "      <th>Mean square error</th>\n",
       "      <th>Root mean square error</th>\n",
       "      <th>Mean absolute percentage error (%)</th>\n",
       "      <th>Max error</th>\n",
       "      <th>Max squared error</th>\n",
       "      <th>Max percentage error</th>\n",
       "      <th>R^2</th>\n",
       "    </tr>\n",
       "  </thead>\n",
       "  <tbody>\n",
       "    <tr>\n",
       "      <td>0</td>\n",
       "      <td>&lt;function prev_univ at 0x000002A46B7CE3A8&gt;</td>\n",
       "      <td>2938.94</td>\n",
       "      <td>1.08061e+07</td>\n",
       "      <td>3287.26</td>\n",
       "      <td>206.194</td>\n",
       "      <td>5119.97</td>\n",
       "      <td>2.62141e+07</td>\n",
       "      <td>10.2784</td>\n",
       "      <td>0.801117</td>\n",
       "    </tr>\n",
       "    <tr>\n",
       "      <td>1</td>\n",
       "      <td>&lt;function prev_multiv at 0x000002A46B814168&gt;</td>\n",
       "      <td>4906.4</td>\n",
       "      <td>3.20764e+07</td>\n",
       "      <td>5663.61</td>\n",
       "      <td>343.729</td>\n",
       "      <td>10172.9</td>\n",
       "      <td>1.03488e+08</td>\n",
       "      <td>21.2436</td>\n",
       "      <td>-3.23055</td>\n",
       "    </tr>\n",
       "    <tr>\n",
       "      <td>2</td>\n",
       "      <td>&lt;function prev_ridge at 0x000002A46B8140D8&gt;</td>\n",
       "      <td>4695.25</td>\n",
       "      <td>2.86464e+07</td>\n",
       "      <td>5352.23</td>\n",
       "      <td>327.273</td>\n",
       "      <td>8794.63</td>\n",
       "      <td>7.73454e+07</td>\n",
       "      <td>19.3006</td>\n",
       "      <td>-2.17913</td>\n",
       "    </tr>\n",
       "    <tr>\n",
       "      <td>3</td>\n",
       "      <td>&lt;function prev_pca at 0x000002A46B99B8B8&gt;</td>\n",
       "      <td>3217.56</td>\n",
       "      <td>1.47236e+07</td>\n",
       "      <td>3837.13</td>\n",
       "      <td>249.113</td>\n",
       "      <td>6047.07</td>\n",
       "      <td>3.65671e+07</td>\n",
       "      <td>12.7595</td>\n",
       "      <td>0.402336</td>\n",
       "    </tr>\n",
       "    <tr>\n",
       "      <td>4</td>\n",
       "      <td>&lt;function prev_pls at 0x000002A41212C948&gt;</td>\n",
       "      <td>[3383.4178092244847]</td>\n",
       "      <td>[15741203.12557534]</td>\n",
       "      <td>[3967.518509796185]</td>\n",
       "      <td>[260.286280943905]</td>\n",
       "      <td>[6318.434846017653]</td>\n",
       "      <td>[39922618.90337013]</td>\n",
       "      <td>[13.334352697981597]</td>\n",
       "      <td>[0.400978704666498]</td>\n",
       "    </tr>\n",
       "    <tr>\n",
       "      <td>5</td>\n",
       "      <td>&lt;function prev_mlp at 0x000002A4000B9048&gt;</td>\n",
       "      <td>3152.25</td>\n",
       "      <td>1.44536e+07</td>\n",
       "      <td>3801.79</td>\n",
       "      <td>246.166</td>\n",
       "      <td>6875.94</td>\n",
       "      <td>4.72785e+07</td>\n",
       "      <td>13.243</td>\n",
       "      <td>0.772767</td>\n",
       "    </tr>\n",
       "  </tbody>\n",
       "</table>\n",
       "</div>"
      ],
      "text/plain": [
       "                                         Models   Mean absolute error  \\\n",
       "0    <function prev_univ at 0x000002A46B7CE3A8>               2938.94   \n",
       "1  <function prev_multiv at 0x000002A46B814168>                4906.4   \n",
       "2   <function prev_ridge at 0x000002A46B8140D8>               4695.25   \n",
       "3     <function prev_pca at 0x000002A46B99B8B8>               3217.56   \n",
       "4     <function prev_pls at 0x000002A41212C948>  [3383.4178092244847]   \n",
       "5     <function prev_mlp at 0x000002A4000B9048>               3152.25   \n",
       "\n",
       "     Mean square error Root mean square error  \\\n",
       "0          1.08061e+07                3287.26   \n",
       "1          3.20764e+07                5663.61   \n",
       "2          2.86464e+07                5352.23   \n",
       "3          1.47236e+07                3837.13   \n",
       "4  [15741203.12557534]    [3967.518509796185]   \n",
       "5          1.44536e+07                3801.79   \n",
       "\n",
       "  Mean absolute percentage error (%)            Max error  \\\n",
       "0                            206.194              5119.97   \n",
       "1                            343.729              10172.9   \n",
       "2                            327.273              8794.63   \n",
       "3                            249.113              6047.07   \n",
       "4                 [260.286280943905]  [6318.434846017653]   \n",
       "5                            246.166              6875.94   \n",
       "\n",
       "     Max squared error  Max percentage error                  R^2  \n",
       "0          2.62141e+07               10.2784             0.801117  \n",
       "1          1.03488e+08               21.2436             -3.23055  \n",
       "2          7.73454e+07               19.3006             -2.17913  \n",
       "3          3.65671e+07               12.7595             0.402336  \n",
       "4  [39922618.90337013]  [13.334352697981597]  [0.400978704666498]  \n",
       "5          4.72785e+07                13.243             0.772767  "
      ]
     },
     "execution_count": 141,
     "metadata": {},
     "output_type": "execute_result"
    }
   ],
   "source": [
    "error_table_test = pd.DataFrame(data_test[3], columns = text)\n",
    "error_table_test"
   ]
  },
  {
   "cell_type": "code",
   "execution_count": 142,
   "metadata": {},
   "outputs": [
    {
     "data": {
      "text/html": [
       "<div>\n",
       "<style scoped>\n",
       "    .dataframe tbody tr th:only-of-type {\n",
       "        vertical-align: middle;\n",
       "    }\n",
       "\n",
       "    .dataframe tbody tr th {\n",
       "        vertical-align: top;\n",
       "    }\n",
       "\n",
       "    .dataframe thead th {\n",
       "        text-align: right;\n",
       "    }\n",
       "</style>\n",
       "<table border=\"1\" class=\"dataframe\">\n",
       "  <thead>\n",
       "    <tr style=\"text-align: right;\">\n",
       "      <th></th>\n",
       "      <th>Models</th>\n",
       "      <th>Mean absolute error</th>\n",
       "      <th>Mean square error</th>\n",
       "      <th>Root mean square error</th>\n",
       "      <th>Mean absolute percentage error (%)</th>\n",
       "      <th>Max error</th>\n",
       "      <th>Max squared error</th>\n",
       "      <th>Max percentage error</th>\n",
       "      <th>R^2</th>\n",
       "    </tr>\n",
       "  </thead>\n",
       "  <tbody>\n",
       "    <tr>\n",
       "      <td>0</td>\n",
       "      <td>&lt;function prev_univ at 0x000002A46B7CE3A8&gt;</td>\n",
       "      <td>2637.89</td>\n",
       "      <td>9.15384e+06</td>\n",
       "      <td>3025.53</td>\n",
       "      <td>272.259</td>\n",
       "      <td>5723.15</td>\n",
       "      <td>3.27544e+07</td>\n",
       "      <td>14.932</td>\n",
       "      <td>0.287879</td>\n",
       "    </tr>\n",
       "    <tr>\n",
       "      <td>1</td>\n",
       "      <td>&lt;function prev_multiv at 0x000002A46B814168&gt;</td>\n",
       "      <td>4103</td>\n",
       "      <td>2.48598e+07</td>\n",
       "      <td>4985.96</td>\n",
       "      <td>360.797</td>\n",
       "      <td>9486.73</td>\n",
       "      <td>8.9998e+07</td>\n",
       "      <td>16.4488</td>\n",
       "      <td>-0.603525</td>\n",
       "    </tr>\n",
       "    <tr>\n",
       "      <td>2</td>\n",
       "      <td>&lt;function prev_ridge at 0x000002A46B8140D8&gt;</td>\n",
       "      <td>3838.42</td>\n",
       "      <td>2.15549e+07</td>\n",
       "      <td>4642.73</td>\n",
       "      <td>351.038</td>\n",
       "      <td>8908.52</td>\n",
       "      <td>7.93617e+07</td>\n",
       "      <td>16.2865</td>\n",
       "      <td>-0.426826</td>\n",
       "    </tr>\n",
       "    <tr>\n",
       "      <td>3</td>\n",
       "      <td>&lt;function prev_pca at 0x000002A46B99B8B8&gt;</td>\n",
       "      <td>3081.61</td>\n",
       "      <td>1.39824e+07</td>\n",
       "      <td>3739.3</td>\n",
       "      <td>329.568</td>\n",
       "      <td>7225.97</td>\n",
       "      <td>5.22146e+07</td>\n",
       "      <td>23.0378</td>\n",
       "      <td>0.151976</td>\n",
       "    </tr>\n",
       "    <tr>\n",
       "      <td>4</td>\n",
       "      <td>&lt;function prev_pls at 0x000002A41212C948&gt;</td>\n",
       "      <td>[3154.3406098591695]</td>\n",
       "      <td>[14343895.993974596]</td>\n",
       "      <td>[3787.3336259134335]</td>\n",
       "      <td>[331.130196322546]</td>\n",
       "      <td>[7268.434846017653]</td>\n",
       "      <td>[52830145.11080367]</td>\n",
       "      <td>[21.8203386069937]</td>\n",
       "      <td>[0.13530947776123758]</td>\n",
       "    </tr>\n",
       "    <tr>\n",
       "      <td>5</td>\n",
       "      <td>&lt;function prev_mlp at 0x000002A4000B9048&gt;</td>\n",
       "      <td>2884.18</td>\n",
       "      <td>1.26326e+07</td>\n",
       "      <td>3554.24</td>\n",
       "      <td>318.832</td>\n",
       "      <td>5962.41</td>\n",
       "      <td>3.55503e+07</td>\n",
       "      <td>22.7341</td>\n",
       "      <td>0.310276</td>\n",
       "    </tr>\n",
       "  </tbody>\n",
       "</table>\n",
       "</div>"
      ],
      "text/plain": [
       "                                         Models   Mean absolute error  \\\n",
       "0    <function prev_univ at 0x000002A46B7CE3A8>               2637.89   \n",
       "1  <function prev_multiv at 0x000002A46B814168>                  4103   \n",
       "2   <function prev_ridge at 0x000002A46B8140D8>               3838.42   \n",
       "3     <function prev_pca at 0x000002A46B99B8B8>               3081.61   \n",
       "4     <function prev_pls at 0x000002A41212C948>  [3154.3406098591695]   \n",
       "5     <function prev_mlp at 0x000002A4000B9048>               2884.18   \n",
       "\n",
       "      Mean square error Root mean square error  \\\n",
       "0           9.15384e+06                3025.53   \n",
       "1           2.48598e+07                4985.96   \n",
       "2           2.15549e+07                4642.73   \n",
       "3           1.39824e+07                 3739.3   \n",
       "4  [14343895.993974596]   [3787.3336259134335]   \n",
       "5           1.26326e+07                3554.24   \n",
       "\n",
       "  Mean absolute percentage error (%)            Max error  \\\n",
       "0                            272.259              5723.15   \n",
       "1                            360.797              9486.73   \n",
       "2                            351.038              8908.52   \n",
       "3                            329.568              7225.97   \n",
       "4                 [331.130196322546]  [7268.434846017653]   \n",
       "5                            318.832              5962.41   \n",
       "\n",
       "     Max squared error Max percentage error                    R^2  \n",
       "0          3.27544e+07               14.932               0.287879  \n",
       "1           8.9998e+07              16.4488              -0.603525  \n",
       "2          7.93617e+07              16.2865              -0.426826  \n",
       "3          5.22146e+07              23.0378               0.151976  \n",
       "4  [52830145.11080367]   [21.8203386069937]  [0.13530947776123758]  \n",
       "5          3.55503e+07              22.7341               0.310276  "
      ]
     },
     "execution_count": 142,
     "metadata": {},
     "output_type": "execute_result"
    }
   ],
   "source": [
    "error_table_test = pd.DataFrame(data_test[4], columns = text)\n",
    "error_table_test"
   ]
  },
  {
   "cell_type": "code",
   "execution_count": 143,
   "metadata": {},
   "outputs": [
    {
     "data": {
      "text/html": [
       "<div>\n",
       "<style scoped>\n",
       "    .dataframe tbody tr th:only-of-type {\n",
       "        vertical-align: middle;\n",
       "    }\n",
       "\n",
       "    .dataframe tbody tr th {\n",
       "        vertical-align: top;\n",
       "    }\n",
       "\n",
       "    .dataframe thead th {\n",
       "        text-align: right;\n",
       "    }\n",
       "</style>\n",
       "<table border=\"1\" class=\"dataframe\">\n",
       "  <thead>\n",
       "    <tr style=\"text-align: right;\">\n",
       "      <th></th>\n",
       "      <th>Models</th>\n",
       "      <th>Mean absolute error</th>\n",
       "      <th>Mean square error</th>\n",
       "      <th>Root mean square error</th>\n",
       "      <th>Mean absolute percentage error (%)</th>\n",
       "      <th>Max error</th>\n",
       "      <th>Max squared error</th>\n",
       "      <th>Max percentage error</th>\n",
       "      <th>R^2</th>\n",
       "    </tr>\n",
       "  </thead>\n",
       "  <tbody>\n",
       "    <tr>\n",
       "      <td>0</td>\n",
       "      <td>&lt;function prev_univ at 0x000002A46B7CE3A8&gt;</td>\n",
       "      <td>3318.82</td>\n",
       "      <td>1.5394e+07</td>\n",
       "      <td>3923.52</td>\n",
       "      <td>135.985</td>\n",
       "      <td>9151.27</td>\n",
       "      <td>8.37457e+07</td>\n",
       "      <td>6.06066</td>\n",
       "      <td>0.900575</td>\n",
       "    </tr>\n",
       "    <tr>\n",
       "      <td>1</td>\n",
       "      <td>&lt;function prev_multiv at 0x000002A46B814168&gt;</td>\n",
       "      <td>4250.32</td>\n",
       "      <td>2.76826e+07</td>\n",
       "      <td>5261.43</td>\n",
       "      <td>190.461</td>\n",
       "      <td>10606</td>\n",
       "      <td>1.12487e+08</td>\n",
       "      <td>8.98254</td>\n",
       "      <td>-5.9453</td>\n",
       "    </tr>\n",
       "    <tr>\n",
       "      <td>2</td>\n",
       "      <td>&lt;function prev_ridge at 0x000002A46B8140D8&gt;</td>\n",
       "      <td>4269.72</td>\n",
       "      <td>2.63106e+07</td>\n",
       "      <td>5129.38</td>\n",
       "      <td>195.934</td>\n",
       "      <td>9797.18</td>\n",
       "      <td>9.59847e+07</td>\n",
       "      <td>9.28355</td>\n",
       "      <td>-9.23835</td>\n",
       "    </tr>\n",
       "    <tr>\n",
       "      <td>3</td>\n",
       "      <td>&lt;function prev_pca at 0x000002A46B99B8B8&gt;</td>\n",
       "      <td>3784.6</td>\n",
       "      <td>2.1565e+07</td>\n",
       "      <td>4643.81</td>\n",
       "      <td>169.813</td>\n",
       "      <td>11207.3</td>\n",
       "      <td>1.25603e+08</td>\n",
       "      <td>8.86289</td>\n",
       "      <td>-0.0362764</td>\n",
       "    </tr>\n",
       "    <tr>\n",
       "      <td>4</td>\n",
       "      <td>&lt;function prev_pls at 0x000002A41212C948&gt;</td>\n",
       "      <td>[3816.7185034643626]</td>\n",
       "      <td>[22233347.1029277]</td>\n",
       "      <td>[4715.225032056021]</td>\n",
       "      <td>[168.25056034089818]</td>\n",
       "      <td>[11738.434846017653]</td>\n",
       "      <td>[137790852.6342015]</td>\n",
       "      <td>[7.978493878161457]</td>\n",
       "      <td>[-0.08077060306168438]</td>\n",
       "    </tr>\n",
       "    <tr>\n",
       "      <td>5</td>\n",
       "      <td>&lt;function prev_mlp at 0x000002A4000B9048&gt;</td>\n",
       "      <td>3938.8</td>\n",
       "      <td>2.11165e+07</td>\n",
       "      <td>4595.27</td>\n",
       "      <td>167.108</td>\n",
       "      <td>7326.46</td>\n",
       "      <td>5.3677e+07</td>\n",
       "      <td>8.33319</td>\n",
       "      <td>0.999823</td>\n",
       "    </tr>\n",
       "  </tbody>\n",
       "</table>\n",
       "</div>"
      ],
      "text/plain": [
       "                                         Models   Mean absolute error  \\\n",
       "0    <function prev_univ at 0x000002A46B7CE3A8>               3318.82   \n",
       "1  <function prev_multiv at 0x000002A46B814168>               4250.32   \n",
       "2   <function prev_ridge at 0x000002A46B8140D8>               4269.72   \n",
       "3     <function prev_pca at 0x000002A46B99B8B8>                3784.6   \n",
       "4     <function prev_pls at 0x000002A41212C948>  [3816.7185034643626]   \n",
       "5     <function prev_mlp at 0x000002A4000B9048>                3938.8   \n",
       "\n",
       "    Mean square error Root mean square error  \\\n",
       "0          1.5394e+07                3923.52   \n",
       "1         2.76826e+07                5261.43   \n",
       "2         2.63106e+07                5129.38   \n",
       "3          2.1565e+07                4643.81   \n",
       "4  [22233347.1029277]    [4715.225032056021]   \n",
       "5         2.11165e+07                4595.27   \n",
       "\n",
       "  Mean absolute percentage error (%)             Max error  \\\n",
       "0                            135.985               9151.27   \n",
       "1                            190.461                 10606   \n",
       "2                            195.934               9797.18   \n",
       "3                            169.813               11207.3   \n",
       "4               [168.25056034089818]  [11738.434846017653]   \n",
       "5                            167.108               7326.46   \n",
       "\n",
       "     Max squared error Max percentage error                     R^2  \n",
       "0          8.37457e+07              6.06066                0.900575  \n",
       "1          1.12487e+08              8.98254                 -5.9453  \n",
       "2          9.59847e+07              9.28355                -9.23835  \n",
       "3          1.25603e+08              8.86289              -0.0362764  \n",
       "4  [137790852.6342015]  [7.978493878161457]  [-0.08077060306168438]  \n",
       "5           5.3677e+07              8.33319                0.999823  "
      ]
     },
     "execution_count": 143,
     "metadata": {},
     "output_type": "execute_result"
    }
   ],
   "source": [
    "error_table_test = pd.DataFrame(data_test[5], columns = text)\n",
    "error_table_test"
   ]
  },
  {
   "cell_type": "code",
   "execution_count": 144,
   "metadata": {},
   "outputs": [
    {
     "data": {
      "text/html": [
       "<div>\n",
       "<style scoped>\n",
       "    .dataframe tbody tr th:only-of-type {\n",
       "        vertical-align: middle;\n",
       "    }\n",
       "\n",
       "    .dataframe tbody tr th {\n",
       "        vertical-align: top;\n",
       "    }\n",
       "\n",
       "    .dataframe thead th {\n",
       "        text-align: right;\n",
       "    }\n",
       "</style>\n",
       "<table border=\"1\" class=\"dataframe\">\n",
       "  <thead>\n",
       "    <tr style=\"text-align: right;\">\n",
       "      <th></th>\n",
       "      <th>Models</th>\n",
       "      <th>Mean absolute error</th>\n",
       "      <th>Mean square error</th>\n",
       "      <th>Root mean square error</th>\n",
       "      <th>Mean absolute percentage error (%)</th>\n",
       "      <th>Max error</th>\n",
       "      <th>Max squared error</th>\n",
       "      <th>Max percentage error</th>\n",
       "      <th>R^2</th>\n",
       "    </tr>\n",
       "  </thead>\n",
       "  <tbody>\n",
       "    <tr>\n",
       "      <td>0</td>\n",
       "      <td>&lt;function prev_univ at 0x000002A46B7CE3A8&gt;</td>\n",
       "      <td>2213.48</td>\n",
       "      <td>6.1692e+06</td>\n",
       "      <td>2483.79</td>\n",
       "      <td>232.442</td>\n",
       "      <td>4276.35</td>\n",
       "      <td>1.82871e+07</td>\n",
       "      <td>12.7904</td>\n",
       "      <td>0.965435</td>\n",
       "    </tr>\n",
       "    <tr>\n",
       "      <td>1</td>\n",
       "      <td>&lt;function prev_multiv at 0x000002A46B814168&gt;</td>\n",
       "      <td>4160.55</td>\n",
       "      <td>2.53617e+07</td>\n",
       "      <td>5022.04</td>\n",
       "      <td>327.796</td>\n",
       "      <td>10111.6</td>\n",
       "      <td>1.03567e+08</td>\n",
       "      <td>18.021</td>\n",
       "      <td>-5.74443</td>\n",
       "    </tr>\n",
       "    <tr>\n",
       "      <td>2</td>\n",
       "      <td>&lt;function prev_ridge at 0x000002A46B8140D8&gt;</td>\n",
       "      <td>4037.24</td>\n",
       "      <td>2.29591e+07</td>\n",
       "      <td>4777.9</td>\n",
       "      <td>320.593</td>\n",
       "      <td>9166.51</td>\n",
       "      <td>8.51336e+07</td>\n",
       "      <td>17.2102</td>\n",
       "      <td>-4.92516</td>\n",
       "    </tr>\n",
       "    <tr>\n",
       "      <td>3</td>\n",
       "      <td>&lt;function prev_pca at 0x000002A46B99B8B8&gt;</td>\n",
       "      <td>3316.24</td>\n",
       "      <td>1.64651e+07</td>\n",
       "      <td>4029.14</td>\n",
       "      <td>287.917</td>\n",
       "      <td>8157.81</td>\n",
       "      <td>6.99643e+07</td>\n",
       "      <td>16.7297</td>\n",
       "      <td>-0.0494715</td>\n",
       "    </tr>\n",
       "    <tr>\n",
       "      <td>4</td>\n",
       "      <td>&lt;function prev_pls at 0x000002A41212C948&gt;</td>\n",
       "      <td>[3381.8578157866573]</td>\n",
       "      <td>[16912495.53168424]</td>\n",
       "      <td>[4084.1115274393974]</td>\n",
       "      <td>[289.4891825090039]</td>\n",
       "      <td>[8338.751293157542]</td>\n",
       "      <td>[73385223.87639527]</td>\n",
       "      <td>[16.17087799344618]</td>\n",
       "      <td>[-0.07861991092512065]</td>\n",
       "    </tr>\n",
       "    <tr>\n",
       "      <td>5</td>\n",
       "      <td>&lt;function prev_mlp at 0x000002A4000B9048&gt;</td>\n",
       "      <td>3253.64</td>\n",
       "      <td>1.55764e+07</td>\n",
       "      <td>3915.58</td>\n",
       "      <td>263.113</td>\n",
       "      <td>7243.8</td>\n",
       "      <td>5.40061e+07</td>\n",
       "      <td>16.2124</td>\n",
       "      <td>0.011332</td>\n",
       "    </tr>\n",
       "  </tbody>\n",
       "</table>\n",
       "</div>"
      ],
      "text/plain": [
       "                                         Models   Mean absolute error  \\\n",
       "0    <function prev_univ at 0x000002A46B7CE3A8>               2213.48   \n",
       "1  <function prev_multiv at 0x000002A46B814168>               4160.55   \n",
       "2   <function prev_ridge at 0x000002A46B8140D8>               4037.24   \n",
       "3     <function prev_pca at 0x000002A46B99B8B8>               3316.24   \n",
       "4     <function prev_pls at 0x000002A41212C948>  [3381.8578157866573]   \n",
       "5     <function prev_mlp at 0x000002A4000B9048>               3253.64   \n",
       "\n",
       "     Mean square error Root mean square error  \\\n",
       "0           6.1692e+06                2483.79   \n",
       "1          2.53617e+07                5022.04   \n",
       "2          2.29591e+07                 4777.9   \n",
       "3          1.64651e+07                4029.14   \n",
       "4  [16912495.53168424]   [4084.1115274393974]   \n",
       "5          1.55764e+07                3915.58   \n",
       "\n",
       "  Mean absolute percentage error (%)            Max error  \\\n",
       "0                            232.442              4276.35   \n",
       "1                            327.796              10111.6   \n",
       "2                            320.593              9166.51   \n",
       "3                            287.917              8157.81   \n",
       "4                [289.4891825090039]  [8338.751293157542]   \n",
       "5                            263.113               7243.8   \n",
       "\n",
       "     Max squared error Max percentage error                     R^2  \n",
       "0          1.82871e+07              12.7904                0.965435  \n",
       "1          1.03567e+08               18.021                -5.74443  \n",
       "2          8.51336e+07              17.2102                -4.92516  \n",
       "3          6.99643e+07              16.7297              -0.0494715  \n",
       "4  [73385223.87639527]  [16.17087799344618]  [-0.07861991092512065]  \n",
       "5          5.40061e+07              16.2124                0.011332  "
      ]
     },
     "execution_count": 144,
     "metadata": {},
     "output_type": "execute_result"
    }
   ],
   "source": [
    "error_table_test_aver = pd.DataFrame(aver_data_test, columns = text)\n",
    "error_table_test_aver"
   ]
  },
  {
   "cell_type": "code",
   "execution_count": 47,
   "metadata": {},
   "outputs": [],
   "source": [
    "from sklearn.model_selection import KFold\n",
    "\n",
    "kf = KFold(n_splits=len(targets), shuffle = False)"
   ]
  },
  {
   "cell_type": "code",
   "execution_count": 48,
   "metadata": {},
   "outputs": [],
   "source": [
    "X = np.array(spec)\n",
    "\n",
    "data_lists = train_test_split(X,y)\n",
    "\n",
    "min_error_alpha = 60000\n",
    "\n",
    "parameters[2] = min_error_alpha\n",
    "\n",
    "min_error_pca_n_components = 66\n",
    "\n",
    "parameters[3] = min_error_pca_n_components\n",
    "\n",
    "min_error_n_components = 5\n",
    "\n",
    "parameters[4] = min_error_n_components\n",
    "\n",
    "min_error_layer_sizes = 4\n",
    "\n",
    "parameters[5] = min_error_layer_sizes"
   ]
  },
  {
   "cell_type": "code",
   "execution_count": 49,
   "metadata": {},
   "outputs": [],
   "source": [
    "def test_all_models(x, y, x_test, y_test, models = models_tested, parameters = parameters):\n",
    "    \n",
    "    data_train = []\n",
    "    \n",
    "    data_test = []\n",
    "    \n",
    "    y_list_train = []\n",
    "    \n",
    "    y_list_test = []\n",
    "    \n",
    "    \n",
    "    \n",
    "    for i in range(len(models)):\n",
    "        current_line_train = []\n",
    "        current_line_train.append(models[i])\n",
    "        \n",
    "        current_line_test = []\n",
    "        current_line_test.append(models[i])\n",
    "        \n",
    "        #predictions\n",
    "        \n",
    "        if i <= 1:\n",
    "            if i==0:\n",
    "                y_predictions_train, y_predictions_test = models[i](x[:,0].reshape(-1,1), y, x_test[:,0].reshape(-1,1))\n",
    "            else:\n",
    "                y_predictions_train, y_predictions_test = models[i](x, y, x_test)\n",
    "                \n",
    "        else:\n",
    "            y_predictions_train, y_predictions_test = models[i](x, y, x_test, parameters[i])\n",
    "        \n",
    "        #print(\"predictions\")\n",
    "        #print(len(y_predictions_train))\n",
    "        #print(len(y_predictions_test))\n",
    "            \n",
    "        \n",
    "        y_list_train.append(y_predictions_train)\n",
    "    \n",
    "        y_list_test.append(y_predictions_test)\n",
    "        \n",
    "        #print(models[i])\n",
    "        \n",
    "        \n",
    "        for j in range(len(evaluation_list)):\n",
    "            err_train = evaluation_list[j](y_test, y_predictions_train)\n",
    "            \n",
    "            err_test = evaluation_list[j](y_test, y_predictions_test)\n",
    "            \n",
    "            current_line_train.append(err_train)\n",
    "            current_line_test.append(err_test)\n",
    "            #print(text[j] + ' -> ', err)\n",
    "        data_train.append(current_line_train)\n",
    "        data_test.append(current_line_test)\n",
    "        #print(\"\\n\")\n",
    "    return data_train, data_test, y_list_train, y_list_test"
   ]
  },
  {
   "cell_type": "code",
   "execution_count": 59,
   "metadata": {
    "scrolled": true
   },
   "outputs": [
    {
     "name": "stderr",
     "output_type": "stream",
     "text": [
      "C:\\Users\\Miguel\\Desktop\\Furo SciAps\\simplibs-master\\core\\errors.py:90: RuntimeWarning: divide by zero encountered in double_scalars\n",
      "  R2 = sqerror/sqdiff\n",
      "C:\\Users\\Miguel\\Desktop\\Furo SciAps\\simplibs-master\\core\\errors.py:90: RuntimeWarning: divide by zero encountered in double_scalars\n",
      "  R2 = sqerror/sqdiff\n",
      "C:\\Users\\Miguel\\Desktop\\Furo SciAps\\simplibs-master\\core\\errors.py:90: RuntimeWarning: divide by zero encountered in double_scalars\n",
      "  R2 = sqerror/sqdiff\n",
      "C:\\Users\\Miguel\\Desktop\\Furo SciAps\\simplibs-master\\core\\errors.py:90: RuntimeWarning: divide by zero encountered in double_scalars\n",
      "  R2 = sqerror/sqdiff\n",
      "C:\\Users\\Miguel\\Desktop\\Furo SciAps\\simplibs-master\\core\\errors.py:90: RuntimeWarning: divide by zero encountered in true_divide\n",
      "  R2 = sqerror/sqdiff\n",
      "C:\\Users\\Miguel\\Desktop\\Furo SciAps\\simplibs-master\\core\\errors.py:90: RuntimeWarning: divide by zero encountered in double_scalars\n",
      "  R2 = sqerror/sqdiff\n",
      "C:\\Users\\Miguel\\Desktop\\Furo SciAps\\simplibs-master\\core\\errors.py:90: RuntimeWarning: divide by zero encountered in double_scalars\n",
      "  R2 = sqerror/sqdiff\n",
      "C:\\Users\\Miguel\\Desktop\\Furo SciAps\\simplibs-master\\core\\errors.py:90: RuntimeWarning: divide by zero encountered in double_scalars\n",
      "  R2 = sqerror/sqdiff\n",
      "C:\\Users\\Miguel\\Desktop\\Furo SciAps\\simplibs-master\\core\\errors.py:90: RuntimeWarning: divide by zero encountered in double_scalars\n",
      "  R2 = sqerror/sqdiff\n",
      "C:\\Users\\Miguel\\Desktop\\Furo SciAps\\simplibs-master\\core\\errors.py:90: RuntimeWarning: divide by zero encountered in true_divide\n",
      "  R2 = sqerror/sqdiff\n",
      "C:\\Users\\Miguel\\Desktop\\Furo SciAps\\simplibs-master\\core\\errors.py:90: RuntimeWarning: divide by zero encountered in double_scalars\n",
      "  R2 = sqerror/sqdiff\n",
      "C:\\Users\\Miguel\\Desktop\\Furo SciAps\\simplibs-master\\core\\errors.py:90: RuntimeWarning: divide by zero encountered in double_scalars\n",
      "  R2 = sqerror/sqdiff\n",
      "C:\\Users\\Miguel\\Desktop\\Furo SciAps\\simplibs-master\\core\\errors.py:90: RuntimeWarning: divide by zero encountered in double_scalars\n",
      "  R2 = sqerror/sqdiff\n",
      "C:\\Users\\Miguel\\Desktop\\Furo SciAps\\simplibs-master\\core\\errors.py:90: RuntimeWarning: divide by zero encountered in double_scalars\n",
      "  R2 = sqerror/sqdiff\n",
      "C:\\Users\\Miguel\\Desktop\\Furo SciAps\\simplibs-master\\core\\errors.py:90: RuntimeWarning: divide by zero encountered in true_divide\n",
      "  R2 = sqerror/sqdiff\n",
      "C:\\Users\\Miguel\\Desktop\\Furo SciAps\\simplibs-master\\core\\errors.py:90: RuntimeWarning: divide by zero encountered in double_scalars\n",
      "  R2 = sqerror/sqdiff\n",
      "C:\\Users\\Miguel\\Desktop\\Furo SciAps\\simplibs-master\\core\\errors.py:90: RuntimeWarning: divide by zero encountered in double_scalars\n",
      "  R2 = sqerror/sqdiff\n",
      "C:\\Users\\Miguel\\Desktop\\Furo SciAps\\simplibs-master\\core\\errors.py:90: RuntimeWarning: divide by zero encountered in double_scalars\n",
      "  R2 = sqerror/sqdiff\n",
      "C:\\Users\\Miguel\\Desktop\\Furo SciAps\\simplibs-master\\core\\errors.py:90: RuntimeWarning: divide by zero encountered in double_scalars\n",
      "  R2 = sqerror/sqdiff\n",
      "C:\\Users\\Miguel\\Desktop\\Furo SciAps\\simplibs-master\\core\\errors.py:90: RuntimeWarning: divide by zero encountered in true_divide\n",
      "  R2 = sqerror/sqdiff\n",
      "C:\\Users\\Miguel\\Desktop\\Furo SciAps\\simplibs-master\\core\\errors.py:90: RuntimeWarning: divide by zero encountered in double_scalars\n",
      "  R2 = sqerror/sqdiff\n",
      "C:\\Users\\Miguel\\Desktop\\Furo SciAps\\simplibs-master\\core\\errors.py:90: RuntimeWarning: divide by zero encountered in double_scalars\n",
      "  R2 = sqerror/sqdiff\n",
      "C:\\Users\\Miguel\\Desktop\\Furo SciAps\\simplibs-master\\core\\errors.py:90: RuntimeWarning: divide by zero encountered in double_scalars\n",
      "  R2 = sqerror/sqdiff\n",
      "C:\\Users\\Miguel\\Desktop\\Furo SciAps\\simplibs-master\\core\\errors.py:90: RuntimeWarning: divide by zero encountered in double_scalars\n",
      "  R2 = sqerror/sqdiff\n",
      "C:\\Users\\Miguel\\Desktop\\Furo SciAps\\simplibs-master\\core\\errors.py:90: RuntimeWarning: divide by zero encountered in true_divide\n",
      "  R2 = sqerror/sqdiff\n",
      "C:\\Users\\Miguel\\Desktop\\Furo SciAps\\simplibs-master\\core\\errors.py:90: RuntimeWarning: divide by zero encountered in double_scalars\n",
      "  R2 = sqerror/sqdiff\n",
      "C:\\Users\\Miguel\\Desktop\\Furo SciAps\\simplibs-master\\core\\errors.py:90: RuntimeWarning: divide by zero encountered in double_scalars\n",
      "  R2 = sqerror/sqdiff\n",
      "C:\\Users\\Miguel\\Desktop\\Furo SciAps\\simplibs-master\\core\\errors.py:90: RuntimeWarning: divide by zero encountered in double_scalars\n",
      "  R2 = sqerror/sqdiff\n",
      "C:\\Users\\Miguel\\Desktop\\Furo SciAps\\simplibs-master\\core\\errors.py:90: RuntimeWarning: divide by zero encountered in double_scalars\n",
      "  R2 = sqerror/sqdiff\n",
      "C:\\Users\\Miguel\\Desktop\\Furo SciAps\\simplibs-master\\core\\errors.py:90: RuntimeWarning: divide by zero encountered in true_divide\n",
      "  R2 = sqerror/sqdiff\n",
      "C:\\Users\\Miguel\\Desktop\\Furo SciAps\\simplibs-master\\core\\errors.py:90: RuntimeWarning: divide by zero encountered in double_scalars\n",
      "  R2 = sqerror/sqdiff\n",
      "C:\\Users\\Miguel\\Desktop\\Furo SciAps\\simplibs-master\\core\\errors.py:90: RuntimeWarning: divide by zero encountered in double_scalars\n",
      "  R2 = sqerror/sqdiff\n",
      "C:\\Users\\Miguel\\Desktop\\Furo SciAps\\simplibs-master\\core\\errors.py:90: RuntimeWarning: divide by zero encountered in double_scalars\n",
      "  R2 = sqerror/sqdiff\n",
      "C:\\Users\\Miguel\\Desktop\\Furo SciAps\\simplibs-master\\core\\errors.py:90: RuntimeWarning: divide by zero encountered in double_scalars\n",
      "  R2 = sqerror/sqdiff\n",
      "C:\\Users\\Miguel\\Desktop\\Furo SciAps\\simplibs-master\\core\\errors.py:90: RuntimeWarning: divide by zero encountered in true_divide\n",
      "  R2 = sqerror/sqdiff\n",
      "C:\\Users\\Miguel\\Desktop\\Furo SciAps\\simplibs-master\\core\\errors.py:90: RuntimeWarning: divide by zero encountered in double_scalars\n",
      "  R2 = sqerror/sqdiff\n",
      "C:\\Users\\Miguel\\Desktop\\Furo SciAps\\simplibs-master\\core\\errors.py:90: RuntimeWarning: divide by zero encountered in double_scalars\n",
      "  R2 = sqerror/sqdiff\n",
      "C:\\Users\\Miguel\\Desktop\\Furo SciAps\\simplibs-master\\core\\errors.py:90: RuntimeWarning: divide by zero encountered in double_scalars\n",
      "  R2 = sqerror/sqdiff\n",
      "C:\\Users\\Miguel\\Desktop\\Furo SciAps\\simplibs-master\\core\\errors.py:90: RuntimeWarning: divide by zero encountered in double_scalars\n",
      "  R2 = sqerror/sqdiff\n",
      "C:\\Users\\Miguel\\Desktop\\Furo SciAps\\simplibs-master\\core\\errors.py:90: RuntimeWarning: divide by zero encountered in true_divide\n",
      "  R2 = sqerror/sqdiff\n",
      "C:\\Users\\Miguel\\Desktop\\Furo SciAps\\simplibs-master\\core\\errors.py:90: RuntimeWarning: divide by zero encountered in double_scalars\n",
      "  R2 = sqerror/sqdiff\n",
      "C:\\Users\\Miguel\\Desktop\\Furo SciAps\\simplibs-master\\core\\errors.py:90: RuntimeWarning: divide by zero encountered in double_scalars\n",
      "  R2 = sqerror/sqdiff\n",
      "C:\\Users\\Miguel\\Desktop\\Furo SciAps\\simplibs-master\\core\\errors.py:90: RuntimeWarning: divide by zero encountered in double_scalars\n",
      "  R2 = sqerror/sqdiff\n",
      "C:\\Users\\Miguel\\Desktop\\Furo SciAps\\simplibs-master\\core\\errors.py:90: RuntimeWarning: divide by zero encountered in double_scalars\n",
      "  R2 = sqerror/sqdiff\n",
      "C:\\Users\\Miguel\\Desktop\\Furo SciAps\\simplibs-master\\core\\errors.py:90: RuntimeWarning: divide by zero encountered in true_divide\n",
      "  R2 = sqerror/sqdiff\n",
      "C:\\Users\\Miguel\\Desktop\\Furo SciAps\\simplibs-master\\core\\errors.py:90: RuntimeWarning: divide by zero encountered in double_scalars\n",
      "  R2 = sqerror/sqdiff\n",
      "C:\\Users\\Miguel\\Desktop\\Furo SciAps\\simplibs-master\\core\\errors.py:90: RuntimeWarning: divide by zero encountered in double_scalars\n",
      "  R2 = sqerror/sqdiff\n",
      "C:\\Users\\Miguel\\Desktop\\Furo SciAps\\simplibs-master\\core\\errors.py:90: RuntimeWarning: divide by zero encountered in double_scalars\n",
      "  R2 = sqerror/sqdiff\n",
      "C:\\Users\\Miguel\\Desktop\\Furo SciAps\\simplibs-master\\core\\errors.py:90: RuntimeWarning: divide by zero encountered in double_scalars\n",
      "  R2 = sqerror/sqdiff\n",
      "C:\\Users\\Miguel\\Desktop\\Furo SciAps\\simplibs-master\\core\\errors.py:90: RuntimeWarning: divide by zero encountered in true_divide\n",
      "  R2 = sqerror/sqdiff\n",
      "C:\\Users\\Miguel\\Desktop\\Furo SciAps\\simplibs-master\\core\\errors.py:90: RuntimeWarning: divide by zero encountered in double_scalars\n",
      "  R2 = sqerror/sqdiff\n",
      "C:\\Users\\Miguel\\Desktop\\Furo SciAps\\simplibs-master\\core\\errors.py:90: RuntimeWarning: divide by zero encountered in double_scalars\n",
      "  R2 = sqerror/sqdiff\n",
      "C:\\Users\\Miguel\\Desktop\\Furo SciAps\\simplibs-master\\core\\errors.py:90: RuntimeWarning: divide by zero encountered in double_scalars\n",
      "  R2 = sqerror/sqdiff\n",
      "C:\\Users\\Miguel\\Desktop\\Furo SciAps\\simplibs-master\\core\\errors.py:90: RuntimeWarning: divide by zero encountered in double_scalars\n",
      "  R2 = sqerror/sqdiff\n",
      "C:\\Users\\Miguel\\Desktop\\Furo SciAps\\simplibs-master\\core\\errors.py:90: RuntimeWarning: divide by zero encountered in true_divide\n",
      "  R2 = sqerror/sqdiff\n",
      "C:\\Users\\Miguel\\Desktop\\Furo SciAps\\simplibs-master\\core\\errors.py:90: RuntimeWarning: divide by zero encountered in double_scalars\n",
      "  R2 = sqerror/sqdiff\n"
     ]
    },
    {
     "name": "stderr",
     "output_type": "stream",
     "text": [
      "C:\\Users\\Miguel\\Desktop\\Furo SciAps\\simplibs-master\\core\\errors.py:90: RuntimeWarning: divide by zero encountered in double_scalars\n",
      "  R2 = sqerror/sqdiff\n",
      "C:\\Users\\Miguel\\Desktop\\Furo SciAps\\simplibs-master\\core\\errors.py:90: RuntimeWarning: divide by zero encountered in double_scalars\n",
      "  R2 = sqerror/sqdiff\n",
      "C:\\Users\\Miguel\\Desktop\\Furo SciAps\\simplibs-master\\core\\errors.py:90: RuntimeWarning: divide by zero encountered in double_scalars\n",
      "  R2 = sqerror/sqdiff\n",
      "C:\\Users\\Miguel\\Desktop\\Furo SciAps\\simplibs-master\\core\\errors.py:90: RuntimeWarning: divide by zero encountered in true_divide\n",
      "  R2 = sqerror/sqdiff\n",
      "C:\\Users\\Miguel\\Desktop\\Furo SciAps\\simplibs-master\\core\\errors.py:90: RuntimeWarning: divide by zero encountered in double_scalars\n",
      "  R2 = sqerror/sqdiff\n",
      "C:\\Users\\Miguel\\Desktop\\Furo SciAps\\simplibs-master\\core\\errors.py:90: RuntimeWarning: divide by zero encountered in double_scalars\n",
      "  R2 = sqerror/sqdiff\n",
      "C:\\Users\\Miguel\\Desktop\\Furo SciAps\\simplibs-master\\core\\errors.py:90: RuntimeWarning: divide by zero encountered in double_scalars\n",
      "  R2 = sqerror/sqdiff\n",
      "C:\\Users\\Miguel\\Desktop\\Furo SciAps\\simplibs-master\\core\\errors.py:90: RuntimeWarning: divide by zero encountered in double_scalars\n",
      "  R2 = sqerror/sqdiff\n",
      "C:\\Users\\Miguel\\Desktop\\Furo SciAps\\simplibs-master\\core\\errors.py:90: RuntimeWarning: divide by zero encountered in true_divide\n",
      "  R2 = sqerror/sqdiff\n",
      "C:\\Users\\Miguel\\Desktop\\Furo SciAps\\simplibs-master\\core\\errors.py:90: RuntimeWarning: divide by zero encountered in double_scalars\n",
      "  R2 = sqerror/sqdiff\n",
      "C:\\Users\\Miguel\\Desktop\\Furo SciAps\\simplibs-master\\core\\errors.py:90: RuntimeWarning: divide by zero encountered in double_scalars\n",
      "  R2 = sqerror/sqdiff\n",
      "C:\\Users\\Miguel\\Desktop\\Furo SciAps\\simplibs-master\\core\\errors.py:90: RuntimeWarning: divide by zero encountered in double_scalars\n",
      "  R2 = sqerror/sqdiff\n",
      "C:\\Users\\Miguel\\Desktop\\Furo SciAps\\simplibs-master\\core\\errors.py:90: RuntimeWarning: divide by zero encountered in double_scalars\n",
      "  R2 = sqerror/sqdiff\n",
      "C:\\Users\\Miguel\\Desktop\\Furo SciAps\\simplibs-master\\core\\errors.py:90: RuntimeWarning: divide by zero encountered in true_divide\n",
      "  R2 = sqerror/sqdiff\n",
      "C:\\Users\\Miguel\\Desktop\\Furo SciAps\\simplibs-master\\core\\errors.py:90: RuntimeWarning: divide by zero encountered in double_scalars\n",
      "  R2 = sqerror/sqdiff\n",
      "C:\\Users\\Miguel\\Desktop\\Furo SciAps\\simplibs-master\\core\\errors.py:90: RuntimeWarning: divide by zero encountered in double_scalars\n",
      "  R2 = sqerror/sqdiff\n",
      "C:\\Users\\Miguel\\Desktop\\Furo SciAps\\simplibs-master\\core\\errors.py:90: RuntimeWarning: divide by zero encountered in double_scalars\n",
      "  R2 = sqerror/sqdiff\n",
      "C:\\Users\\Miguel\\Desktop\\Furo SciAps\\simplibs-master\\core\\errors.py:90: RuntimeWarning: divide by zero encountered in double_scalars\n",
      "  R2 = sqerror/sqdiff\n",
      "C:\\Users\\Miguel\\Desktop\\Furo SciAps\\simplibs-master\\core\\errors.py:90: RuntimeWarning: divide by zero encountered in true_divide\n",
      "  R2 = sqerror/sqdiff\n",
      "C:\\Users\\Miguel\\Desktop\\Furo SciAps\\simplibs-master\\core\\errors.py:90: RuntimeWarning: divide by zero encountered in double_scalars\n",
      "  R2 = sqerror/sqdiff\n",
      "C:\\Users\\Miguel\\Desktop\\Furo SciAps\\simplibs-master\\core\\errors.py:90: RuntimeWarning: divide by zero encountered in double_scalars\n",
      "  R2 = sqerror/sqdiff\n",
      "C:\\Users\\Miguel\\Desktop\\Furo SciAps\\simplibs-master\\core\\errors.py:90: RuntimeWarning: divide by zero encountered in double_scalars\n",
      "  R2 = sqerror/sqdiff\n",
      "C:\\Users\\Miguel\\Desktop\\Furo SciAps\\simplibs-master\\core\\errors.py:90: RuntimeWarning: divide by zero encountered in double_scalars\n",
      "  R2 = sqerror/sqdiff\n",
      "C:\\Users\\Miguel\\Desktop\\Furo SciAps\\simplibs-master\\core\\errors.py:90: RuntimeWarning: divide by zero encountered in true_divide\n",
      "  R2 = sqerror/sqdiff\n",
      "C:\\Users\\Miguel\\Desktop\\Furo SciAps\\simplibs-master\\core\\errors.py:90: RuntimeWarning: divide by zero encountered in double_scalars\n",
      "  R2 = sqerror/sqdiff\n",
      "C:\\Users\\Miguel\\Desktop\\Furo SciAps\\simplibs-master\\core\\errors.py:90: RuntimeWarning: divide by zero encountered in double_scalars\n",
      "  R2 = sqerror/sqdiff\n",
      "C:\\Users\\Miguel\\Desktop\\Furo SciAps\\simplibs-master\\core\\errors.py:90: RuntimeWarning: divide by zero encountered in double_scalars\n",
      "  R2 = sqerror/sqdiff\n",
      "C:\\Users\\Miguel\\Desktop\\Furo SciAps\\simplibs-master\\core\\errors.py:90: RuntimeWarning: divide by zero encountered in double_scalars\n",
      "  R2 = sqerror/sqdiff\n",
      "C:\\Users\\Miguel\\Desktop\\Furo SciAps\\simplibs-master\\core\\errors.py:90: RuntimeWarning: divide by zero encountered in true_divide\n",
      "  R2 = sqerror/sqdiff\n",
      "C:\\Users\\Miguel\\Desktop\\Furo SciAps\\simplibs-master\\core\\errors.py:90: RuntimeWarning: divide by zero encountered in double_scalars\n",
      "  R2 = sqerror/sqdiff\n",
      "C:\\Users\\Miguel\\Desktop\\Furo SciAps\\simplibs-master\\core\\errors.py:90: RuntimeWarning: divide by zero encountered in double_scalars\n",
      "  R2 = sqerror/sqdiff\n",
      "C:\\Users\\Miguel\\Desktop\\Furo SciAps\\simplibs-master\\core\\errors.py:90: RuntimeWarning: divide by zero encountered in double_scalars\n",
      "  R2 = sqerror/sqdiff\n",
      "C:\\Users\\Miguel\\Desktop\\Furo SciAps\\simplibs-master\\core\\errors.py:90: RuntimeWarning: divide by zero encountered in double_scalars\n",
      "  R2 = sqerror/sqdiff\n",
      "C:\\Users\\Miguel\\Desktop\\Furo SciAps\\simplibs-master\\core\\errors.py:90: RuntimeWarning: divide by zero encountered in true_divide\n",
      "  R2 = sqerror/sqdiff\n",
      "C:\\Users\\Miguel\\Desktop\\Furo SciAps\\simplibs-master\\core\\errors.py:90: RuntimeWarning: divide by zero encountered in double_scalars\n",
      "  R2 = sqerror/sqdiff\n",
      "C:\\Users\\Miguel\\Desktop\\Furo SciAps\\simplibs-master\\core\\errors.py:90: RuntimeWarning: divide by zero encountered in double_scalars\n",
      "  R2 = sqerror/sqdiff\n",
      "C:\\Users\\Miguel\\Desktop\\Furo SciAps\\simplibs-master\\core\\errors.py:90: RuntimeWarning: divide by zero encountered in double_scalars\n",
      "  R2 = sqerror/sqdiff\n",
      "C:\\Users\\Miguel\\Desktop\\Furo SciAps\\simplibs-master\\core\\errors.py:90: RuntimeWarning: divide by zero encountered in double_scalars\n",
      "  R2 = sqerror/sqdiff\n",
      "C:\\Users\\Miguel\\Desktop\\Furo SciAps\\simplibs-master\\core\\errors.py:90: RuntimeWarning: divide by zero encountered in true_divide\n",
      "  R2 = sqerror/sqdiff\n",
      "C:\\Users\\Miguel\\Desktop\\Furo SciAps\\simplibs-master\\core\\errors.py:90: RuntimeWarning: divide by zero encountered in double_scalars\n",
      "  R2 = sqerror/sqdiff\n",
      "C:\\Users\\Miguel\\Desktop\\Furo SciAps\\simplibs-master\\core\\errors.py:90: RuntimeWarning: divide by zero encountered in double_scalars\n",
      "  R2 = sqerror/sqdiff\n",
      "C:\\Users\\Miguel\\Desktop\\Furo SciAps\\simplibs-master\\core\\errors.py:90: RuntimeWarning: divide by zero encountered in double_scalars\n",
      "  R2 = sqerror/sqdiff\n",
      "C:\\Users\\Miguel\\Desktop\\Furo SciAps\\simplibs-master\\core\\errors.py:90: RuntimeWarning: divide by zero encountered in double_scalars\n",
      "  R2 = sqerror/sqdiff\n",
      "C:\\Users\\Miguel\\Desktop\\Furo SciAps\\simplibs-master\\core\\errors.py:90: RuntimeWarning: divide by zero encountered in true_divide\n",
      "  R2 = sqerror/sqdiff\n",
      "C:\\Users\\Miguel\\Desktop\\Furo SciAps\\simplibs-master\\core\\errors.py:90: RuntimeWarning: divide by zero encountered in double_scalars\n",
      "  R2 = sqerror/sqdiff\n",
      "C:\\Users\\Miguel\\Desktop\\Furo SciAps\\simplibs-master\\core\\errors.py:90: RuntimeWarning: divide by zero encountered in double_scalars\n",
      "  R2 = sqerror/sqdiff\n",
      "C:\\Users\\Miguel\\Desktop\\Furo SciAps\\simplibs-master\\core\\errors.py:90: RuntimeWarning: divide by zero encountered in double_scalars\n",
      "  R2 = sqerror/sqdiff\n",
      "C:\\Users\\Miguel\\Desktop\\Furo SciAps\\simplibs-master\\core\\errors.py:90: RuntimeWarning: divide by zero encountered in double_scalars\n",
      "  R2 = sqerror/sqdiff\n",
      "C:\\Users\\Miguel\\Desktop\\Furo SciAps\\simplibs-master\\core\\errors.py:90: RuntimeWarning: divide by zero encountered in true_divide\n",
      "  R2 = sqerror/sqdiff\n",
      "C:\\Users\\Miguel\\Desktop\\Furo SciAps\\simplibs-master\\core\\errors.py:90: RuntimeWarning: divide by zero encountered in double_scalars\n",
      "  R2 = sqerror/sqdiff\n",
      "C:\\Users\\Miguel\\Desktop\\Furo SciAps\\simplibs-master\\core\\errors.py:90: RuntimeWarning: divide by zero encountered in double_scalars\n",
      "  R2 = sqerror/sqdiff\n",
      "C:\\Users\\Miguel\\Desktop\\Furo SciAps\\simplibs-master\\core\\errors.py:90: RuntimeWarning: divide by zero encountered in double_scalars\n",
      "  R2 = sqerror/sqdiff\n",
      "C:\\Users\\Miguel\\Desktop\\Furo SciAps\\simplibs-master\\core\\errors.py:90: RuntimeWarning: divide by zero encountered in double_scalars\n",
      "  R2 = sqerror/sqdiff\n",
      "C:\\Users\\Miguel\\Desktop\\Furo SciAps\\simplibs-master\\core\\errors.py:90: RuntimeWarning: divide by zero encountered in true_divide\n",
      "  R2 = sqerror/sqdiff\n",
      "C:\\Users\\Miguel\\Desktop\\Furo SciAps\\simplibs-master\\core\\errors.py:90: RuntimeWarning: divide by zero encountered in double_scalars\n",
      "  R2 = sqerror/sqdiff\n"
     ]
    },
    {
     "name": "stderr",
     "output_type": "stream",
     "text": [
      "C:\\Users\\Miguel\\Desktop\\Furo SciAps\\simplibs-master\\core\\errors.py:90: RuntimeWarning: divide by zero encountered in double_scalars\n",
      "  R2 = sqerror/sqdiff\n",
      "C:\\Users\\Miguel\\Desktop\\Furo SciAps\\simplibs-master\\core\\errors.py:90: RuntimeWarning: divide by zero encountered in double_scalars\n",
      "  R2 = sqerror/sqdiff\n",
      "C:\\Users\\Miguel\\Desktop\\Furo SciAps\\simplibs-master\\core\\errors.py:90: RuntimeWarning: divide by zero encountered in double_scalars\n",
      "  R2 = sqerror/sqdiff\n",
      "C:\\Users\\Miguel\\Desktop\\Furo SciAps\\simplibs-master\\core\\errors.py:90: RuntimeWarning: divide by zero encountered in true_divide\n",
      "  R2 = sqerror/sqdiff\n",
      "C:\\Users\\Miguel\\Desktop\\Furo SciAps\\simplibs-master\\core\\errors.py:90: RuntimeWarning: divide by zero encountered in double_scalars\n",
      "  R2 = sqerror/sqdiff\n",
      "C:\\Users\\Miguel\\Desktop\\Furo SciAps\\simplibs-master\\core\\errors.py:90: RuntimeWarning: divide by zero encountered in double_scalars\n",
      "  R2 = sqerror/sqdiff\n",
      "C:\\Users\\Miguel\\Desktop\\Furo SciAps\\simplibs-master\\core\\errors.py:90: RuntimeWarning: divide by zero encountered in double_scalars\n",
      "  R2 = sqerror/sqdiff\n",
      "C:\\Users\\Miguel\\Desktop\\Furo SciAps\\simplibs-master\\core\\errors.py:90: RuntimeWarning: divide by zero encountered in double_scalars\n",
      "  R2 = sqerror/sqdiff\n",
      "C:\\Users\\Miguel\\Desktop\\Furo SciAps\\simplibs-master\\core\\errors.py:90: RuntimeWarning: divide by zero encountered in true_divide\n",
      "  R2 = sqerror/sqdiff\n",
      "C:\\Users\\Miguel\\Desktop\\Furo SciAps\\simplibs-master\\core\\errors.py:90: RuntimeWarning: divide by zero encountered in double_scalars\n",
      "  R2 = sqerror/sqdiff\n",
      "C:\\Users\\Miguel\\Desktop\\Furo SciAps\\simplibs-master\\core\\errors.py:90: RuntimeWarning: divide by zero encountered in double_scalars\n",
      "  R2 = sqerror/sqdiff\n",
      "C:\\Users\\Miguel\\Desktop\\Furo SciAps\\simplibs-master\\core\\errors.py:90: RuntimeWarning: divide by zero encountered in double_scalars\n",
      "  R2 = sqerror/sqdiff\n",
      "C:\\Users\\Miguel\\Desktop\\Furo SciAps\\simplibs-master\\core\\errors.py:90: RuntimeWarning: divide by zero encountered in double_scalars\n",
      "  R2 = sqerror/sqdiff\n",
      "C:\\Users\\Miguel\\Desktop\\Furo SciAps\\simplibs-master\\core\\errors.py:90: RuntimeWarning: divide by zero encountered in true_divide\n",
      "  R2 = sqerror/sqdiff\n",
      "C:\\Users\\Miguel\\Desktop\\Furo SciAps\\simplibs-master\\core\\errors.py:90: RuntimeWarning: divide by zero encountered in double_scalars\n",
      "  R2 = sqerror/sqdiff\n",
      "C:\\Users\\Miguel\\Desktop\\Furo SciAps\\simplibs-master\\core\\errors.py:90: RuntimeWarning: divide by zero encountered in double_scalars\n",
      "  R2 = sqerror/sqdiff\n",
      "C:\\Users\\Miguel\\Desktop\\Furo SciAps\\simplibs-master\\core\\errors.py:90: RuntimeWarning: divide by zero encountered in double_scalars\n",
      "  R2 = sqerror/sqdiff\n",
      "C:\\Users\\Miguel\\Desktop\\Furo SciAps\\simplibs-master\\core\\errors.py:90: RuntimeWarning: divide by zero encountered in double_scalars\n",
      "  R2 = sqerror/sqdiff\n",
      "C:\\Users\\Miguel\\Desktop\\Furo SciAps\\simplibs-master\\core\\errors.py:90: RuntimeWarning: divide by zero encountered in true_divide\n",
      "  R2 = sqerror/sqdiff\n",
      "C:\\Users\\Miguel\\Desktop\\Furo SciAps\\simplibs-master\\core\\errors.py:90: RuntimeWarning: divide by zero encountered in double_scalars\n",
      "  R2 = sqerror/sqdiff\n",
      "C:\\Users\\Miguel\\Desktop\\Furo SciAps\\simplibs-master\\core\\errors.py:90: RuntimeWarning: divide by zero encountered in double_scalars\n",
      "  R2 = sqerror/sqdiff\n",
      "C:\\Users\\Miguel\\Desktop\\Furo SciAps\\simplibs-master\\core\\errors.py:90: RuntimeWarning: divide by zero encountered in double_scalars\n",
      "  R2 = sqerror/sqdiff\n",
      "C:\\Users\\Miguel\\Desktop\\Furo SciAps\\simplibs-master\\core\\errors.py:90: RuntimeWarning: divide by zero encountered in double_scalars\n",
      "  R2 = sqerror/sqdiff\n",
      "C:\\Users\\Miguel\\Desktop\\Furo SciAps\\simplibs-master\\core\\errors.py:90: RuntimeWarning: divide by zero encountered in true_divide\n",
      "  R2 = sqerror/sqdiff\n",
      "C:\\Users\\Miguel\\Desktop\\Furo SciAps\\simplibs-master\\core\\errors.py:90: RuntimeWarning: divide by zero encountered in double_scalars\n",
      "  R2 = sqerror/sqdiff\n",
      "C:\\Users\\Miguel\\Desktop\\Furo SciAps\\simplibs-master\\core\\errors.py:90: RuntimeWarning: divide by zero encountered in double_scalars\n",
      "  R2 = sqerror/sqdiff\n",
      "C:\\Users\\Miguel\\Desktop\\Furo SciAps\\simplibs-master\\core\\errors.py:90: RuntimeWarning: divide by zero encountered in double_scalars\n",
      "  R2 = sqerror/sqdiff\n",
      "C:\\Users\\Miguel\\Desktop\\Furo SciAps\\simplibs-master\\core\\errors.py:90: RuntimeWarning: divide by zero encountered in double_scalars\n",
      "  R2 = sqerror/sqdiff\n",
      "C:\\Users\\Miguel\\Desktop\\Furo SciAps\\simplibs-master\\core\\errors.py:90: RuntimeWarning: divide by zero encountered in true_divide\n",
      "  R2 = sqerror/sqdiff\n",
      "C:\\Users\\Miguel\\Desktop\\Furo SciAps\\simplibs-master\\core\\errors.py:90: RuntimeWarning: divide by zero encountered in double_scalars\n",
      "  R2 = sqerror/sqdiff\n",
      "C:\\Users\\Miguel\\Desktop\\Furo SciAps\\simplibs-master\\core\\errors.py:90: RuntimeWarning: divide by zero encountered in double_scalars\n",
      "  R2 = sqerror/sqdiff\n",
      "C:\\Users\\Miguel\\Desktop\\Furo SciAps\\simplibs-master\\core\\errors.py:90: RuntimeWarning: divide by zero encountered in double_scalars\n",
      "  R2 = sqerror/sqdiff\n",
      "C:\\Users\\Miguel\\Desktop\\Furo SciAps\\simplibs-master\\core\\errors.py:90: RuntimeWarning: divide by zero encountered in double_scalars\n",
      "  R2 = sqerror/sqdiff\n",
      "C:\\Users\\Miguel\\Desktop\\Furo SciAps\\simplibs-master\\core\\errors.py:90: RuntimeWarning: divide by zero encountered in true_divide\n",
      "  R2 = sqerror/sqdiff\n",
      "C:\\Users\\Miguel\\Desktop\\Furo SciAps\\simplibs-master\\core\\errors.py:90: RuntimeWarning: divide by zero encountered in double_scalars\n",
      "  R2 = sqerror/sqdiff\n",
      "C:\\Users\\Miguel\\Desktop\\Furo SciAps\\simplibs-master\\core\\errors.py:90: RuntimeWarning: divide by zero encountered in double_scalars\n",
      "  R2 = sqerror/sqdiff\n",
      "C:\\Users\\Miguel\\Desktop\\Furo SciAps\\simplibs-master\\core\\errors.py:90: RuntimeWarning: divide by zero encountered in double_scalars\n",
      "  R2 = sqerror/sqdiff\n",
      "C:\\Users\\Miguel\\Desktop\\Furo SciAps\\simplibs-master\\core\\errors.py:90: RuntimeWarning: divide by zero encountered in double_scalars\n",
      "  R2 = sqerror/sqdiff\n",
      "C:\\Users\\Miguel\\Desktop\\Furo SciAps\\simplibs-master\\core\\errors.py:90: RuntimeWarning: divide by zero encountered in true_divide\n",
      "  R2 = sqerror/sqdiff\n",
      "C:\\Users\\Miguel\\Desktop\\Furo SciAps\\simplibs-master\\core\\errors.py:90: RuntimeWarning: divide by zero encountered in double_scalars\n",
      "  R2 = sqerror/sqdiff\n",
      "C:\\Users\\Miguel\\Desktop\\Furo SciAps\\simplibs-master\\core\\errors.py:90: RuntimeWarning: divide by zero encountered in double_scalars\n",
      "  R2 = sqerror/sqdiff\n",
      "C:\\Users\\Miguel\\Desktop\\Furo SciAps\\simplibs-master\\core\\errors.py:90: RuntimeWarning: divide by zero encountered in double_scalars\n",
      "  R2 = sqerror/sqdiff\n",
      "C:\\Users\\Miguel\\Desktop\\Furo SciAps\\simplibs-master\\core\\errors.py:90: RuntimeWarning: divide by zero encountered in double_scalars\n",
      "  R2 = sqerror/sqdiff\n",
      "C:\\Users\\Miguel\\Desktop\\Furo SciAps\\simplibs-master\\core\\errors.py:90: RuntimeWarning: divide by zero encountered in true_divide\n",
      "  R2 = sqerror/sqdiff\n",
      "C:\\Users\\Miguel\\Desktop\\Furo SciAps\\simplibs-master\\core\\errors.py:90: RuntimeWarning: divide by zero encountered in double_scalars\n",
      "  R2 = sqerror/sqdiff\n",
      "C:\\Users\\Miguel\\Desktop\\Furo SciAps\\simplibs-master\\core\\errors.py:90: RuntimeWarning: divide by zero encountered in double_scalars\n",
      "  R2 = sqerror/sqdiff\n",
      "C:\\Users\\Miguel\\Desktop\\Furo SciAps\\simplibs-master\\core\\errors.py:90: RuntimeWarning: divide by zero encountered in double_scalars\n",
      "  R2 = sqerror/sqdiff\n",
      "C:\\Users\\Miguel\\Desktop\\Furo SciAps\\simplibs-master\\core\\errors.py:90: RuntimeWarning: divide by zero encountered in double_scalars\n",
      "  R2 = sqerror/sqdiff\n",
      "C:\\Users\\Miguel\\Desktop\\Furo SciAps\\simplibs-master\\core\\errors.py:90: RuntimeWarning: divide by zero encountered in true_divide\n",
      "  R2 = sqerror/sqdiff\n",
      "C:\\Users\\Miguel\\Desktop\\Furo SciAps\\simplibs-master\\core\\errors.py:90: RuntimeWarning: divide by zero encountered in double_scalars\n",
      "  R2 = sqerror/sqdiff\n",
      "C:\\Users\\Miguel\\Desktop\\Furo SciAps\\simplibs-master\\core\\errors.py:90: RuntimeWarning: divide by zero encountered in double_scalars\n",
      "  R2 = sqerror/sqdiff\n",
      "C:\\Users\\Miguel\\Desktop\\Furo SciAps\\simplibs-master\\core\\errors.py:90: RuntimeWarning: divide by zero encountered in double_scalars\n",
      "  R2 = sqerror/sqdiff\n",
      "C:\\Users\\Miguel\\Desktop\\Furo SciAps\\simplibs-master\\core\\errors.py:90: RuntimeWarning: divide by zero encountered in double_scalars\n",
      "  R2 = sqerror/sqdiff\n",
      "C:\\Users\\Miguel\\Desktop\\Furo SciAps\\simplibs-master\\core\\errors.py:90: RuntimeWarning: divide by zero encountered in true_divide\n",
      "  R2 = sqerror/sqdiff\n"
     ]
    },
    {
     "name": "stderr",
     "output_type": "stream",
     "text": [
      "C:\\Users\\Miguel\\Desktop\\Furo SciAps\\simplibs-master\\core\\errors.py:90: RuntimeWarning: divide by zero encountered in double_scalars\n",
      "  R2 = sqerror/sqdiff\n",
      "C:\\Users\\Miguel\\Desktop\\Furo SciAps\\simplibs-master\\core\\errors.py:90: RuntimeWarning: divide by zero encountered in double_scalars\n",
      "  R2 = sqerror/sqdiff\n",
      "C:\\Users\\Miguel\\Desktop\\Furo SciAps\\simplibs-master\\core\\errors.py:90: RuntimeWarning: divide by zero encountered in double_scalars\n",
      "  R2 = sqerror/sqdiff\n",
      "C:\\Users\\Miguel\\Desktop\\Furo SciAps\\simplibs-master\\core\\errors.py:90: RuntimeWarning: divide by zero encountered in double_scalars\n",
      "  R2 = sqerror/sqdiff\n",
      "C:\\Users\\Miguel\\Desktop\\Furo SciAps\\simplibs-master\\core\\errors.py:90: RuntimeWarning: divide by zero encountered in true_divide\n",
      "  R2 = sqerror/sqdiff\n",
      "C:\\Users\\Miguel\\Desktop\\Furo SciAps\\simplibs-master\\core\\errors.py:90: RuntimeWarning: divide by zero encountered in double_scalars\n",
      "  R2 = sqerror/sqdiff\n",
      "C:\\Users\\Miguel\\Desktop\\Furo SciAps\\simplibs-master\\core\\errors.py:90: RuntimeWarning: divide by zero encountered in double_scalars\n",
      "  R2 = sqerror/sqdiff\n",
      "C:\\Users\\Miguel\\Desktop\\Furo SciAps\\simplibs-master\\core\\errors.py:90: RuntimeWarning: divide by zero encountered in double_scalars\n",
      "  R2 = sqerror/sqdiff\n",
      "C:\\Users\\Miguel\\Desktop\\Furo SciAps\\simplibs-master\\core\\errors.py:90: RuntimeWarning: divide by zero encountered in double_scalars\n",
      "  R2 = sqerror/sqdiff\n",
      "C:\\Users\\Miguel\\Desktop\\Furo SciAps\\simplibs-master\\core\\errors.py:90: RuntimeWarning: divide by zero encountered in true_divide\n",
      "  R2 = sqerror/sqdiff\n",
      "C:\\Users\\Miguel\\Desktop\\Furo SciAps\\simplibs-master\\core\\errors.py:90: RuntimeWarning: divide by zero encountered in double_scalars\n",
      "  R2 = sqerror/sqdiff\n",
      "C:\\Users\\Miguel\\Desktop\\Furo SciAps\\simplibs-master\\core\\errors.py:90: RuntimeWarning: divide by zero encountered in double_scalars\n",
      "  R2 = sqerror/sqdiff\n",
      "C:\\Users\\Miguel\\Desktop\\Furo SciAps\\simplibs-master\\core\\errors.py:90: RuntimeWarning: divide by zero encountered in double_scalars\n",
      "  R2 = sqerror/sqdiff\n",
      "C:\\Users\\Miguel\\Desktop\\Furo SciAps\\simplibs-master\\core\\errors.py:90: RuntimeWarning: divide by zero encountered in double_scalars\n",
      "  R2 = sqerror/sqdiff\n",
      "C:\\Users\\Miguel\\Desktop\\Furo SciAps\\simplibs-master\\core\\errors.py:90: RuntimeWarning: divide by zero encountered in true_divide\n",
      "  R2 = sqerror/sqdiff\n",
      "C:\\Users\\Miguel\\Desktop\\Furo SciAps\\simplibs-master\\core\\errors.py:90: RuntimeWarning: divide by zero encountered in double_scalars\n",
      "  R2 = sqerror/sqdiff\n",
      "C:\\Users\\Miguel\\Desktop\\Furo SciAps\\simplibs-master\\core\\errors.py:90: RuntimeWarning: divide by zero encountered in double_scalars\n",
      "  R2 = sqerror/sqdiff\n",
      "C:\\Users\\Miguel\\Desktop\\Furo SciAps\\simplibs-master\\core\\errors.py:90: RuntimeWarning: divide by zero encountered in double_scalars\n",
      "  R2 = sqerror/sqdiff\n",
      "C:\\Users\\Miguel\\Desktop\\Furo SciAps\\simplibs-master\\core\\errors.py:90: RuntimeWarning: divide by zero encountered in double_scalars\n",
      "  R2 = sqerror/sqdiff\n",
      "C:\\Users\\Miguel\\Desktop\\Furo SciAps\\simplibs-master\\core\\errors.py:90: RuntimeWarning: divide by zero encountered in true_divide\n",
      "  R2 = sqerror/sqdiff\n",
      "C:\\Users\\Miguel\\Desktop\\Furo SciAps\\simplibs-master\\core\\errors.py:90: RuntimeWarning: divide by zero encountered in double_scalars\n",
      "  R2 = sqerror/sqdiff\n",
      "C:\\Users\\Miguel\\Desktop\\Furo SciAps\\simplibs-master\\core\\errors.py:90: RuntimeWarning: divide by zero encountered in double_scalars\n",
      "  R2 = sqerror/sqdiff\n",
      "C:\\Users\\Miguel\\Desktop\\Furo SciAps\\simplibs-master\\core\\errors.py:90: RuntimeWarning: divide by zero encountered in double_scalars\n",
      "  R2 = sqerror/sqdiff\n",
      "C:\\Users\\Miguel\\Desktop\\Furo SciAps\\simplibs-master\\core\\errors.py:90: RuntimeWarning: divide by zero encountered in double_scalars\n",
      "  R2 = sqerror/sqdiff\n",
      "C:\\Users\\Miguel\\Desktop\\Furo SciAps\\simplibs-master\\core\\errors.py:90: RuntimeWarning: divide by zero encountered in true_divide\n",
      "  R2 = sqerror/sqdiff\n",
      "C:\\Users\\Miguel\\Desktop\\Furo SciAps\\simplibs-master\\core\\errors.py:90: RuntimeWarning: divide by zero encountered in double_scalars\n",
      "  R2 = sqerror/sqdiff\n",
      "C:\\Users\\Miguel\\Desktop\\Furo SciAps\\simplibs-master\\core\\errors.py:90: RuntimeWarning: divide by zero encountered in double_scalars\n",
      "  R2 = sqerror/sqdiff\n",
      "C:\\Users\\Miguel\\Desktop\\Furo SciAps\\simplibs-master\\core\\errors.py:90: RuntimeWarning: divide by zero encountered in double_scalars\n",
      "  R2 = sqerror/sqdiff\n",
      "C:\\Users\\Miguel\\Desktop\\Furo SciAps\\simplibs-master\\core\\errors.py:90: RuntimeWarning: divide by zero encountered in double_scalars\n",
      "  R2 = sqerror/sqdiff\n",
      "C:\\Users\\Miguel\\Desktop\\Furo SciAps\\simplibs-master\\core\\errors.py:90: RuntimeWarning: divide by zero encountered in true_divide\n",
      "  R2 = sqerror/sqdiff\n",
      "C:\\Users\\Miguel\\Desktop\\Furo SciAps\\simplibs-master\\core\\errors.py:90: RuntimeWarning: divide by zero encountered in double_scalars\n",
      "  R2 = sqerror/sqdiff\n",
      "C:\\Users\\Miguel\\Desktop\\Furo SciAps\\simplibs-master\\core\\errors.py:90: RuntimeWarning: divide by zero encountered in double_scalars\n",
      "  R2 = sqerror/sqdiff\n",
      "C:\\Users\\Miguel\\Desktop\\Furo SciAps\\simplibs-master\\core\\errors.py:90: RuntimeWarning: divide by zero encountered in double_scalars\n",
      "  R2 = sqerror/sqdiff\n",
      "C:\\Users\\Miguel\\Desktop\\Furo SciAps\\simplibs-master\\core\\errors.py:90: RuntimeWarning: divide by zero encountered in double_scalars\n",
      "  R2 = sqerror/sqdiff\n",
      "C:\\Users\\Miguel\\Desktop\\Furo SciAps\\simplibs-master\\core\\errors.py:90: RuntimeWarning: divide by zero encountered in true_divide\n",
      "  R2 = sqerror/sqdiff\n",
      "C:\\Users\\Miguel\\Desktop\\Furo SciAps\\simplibs-master\\core\\errors.py:90: RuntimeWarning: divide by zero encountered in double_scalars\n",
      "  R2 = sqerror/sqdiff\n",
      "C:\\Users\\Miguel\\Desktop\\Furo SciAps\\simplibs-master\\core\\errors.py:90: RuntimeWarning: divide by zero encountered in double_scalars\n",
      "  R2 = sqerror/sqdiff\n",
      "C:\\Users\\Miguel\\Desktop\\Furo SciAps\\simplibs-master\\core\\errors.py:90: RuntimeWarning: divide by zero encountered in double_scalars\n",
      "  R2 = sqerror/sqdiff\n",
      "C:\\Users\\Miguel\\Desktop\\Furo SciAps\\simplibs-master\\core\\errors.py:90: RuntimeWarning: divide by zero encountered in double_scalars\n",
      "  R2 = sqerror/sqdiff\n",
      "C:\\Users\\Miguel\\Desktop\\Furo SciAps\\simplibs-master\\core\\errors.py:90: RuntimeWarning: divide by zero encountered in true_divide\n",
      "  R2 = sqerror/sqdiff\n",
      "C:\\Users\\Miguel\\Desktop\\Furo SciAps\\simplibs-master\\core\\errors.py:90: RuntimeWarning: divide by zero encountered in double_scalars\n",
      "  R2 = sqerror/sqdiff\n",
      "C:\\Users\\Miguel\\Desktop\\Furo SciAps\\simplibs-master\\core\\errors.py:90: RuntimeWarning: divide by zero encountered in double_scalars\n",
      "  R2 = sqerror/sqdiff\n",
      "C:\\Users\\Miguel\\Desktop\\Furo SciAps\\simplibs-master\\core\\errors.py:90: RuntimeWarning: divide by zero encountered in double_scalars\n",
      "  R2 = sqerror/sqdiff\n",
      "C:\\Users\\Miguel\\Desktop\\Furo SciAps\\simplibs-master\\core\\errors.py:90: RuntimeWarning: divide by zero encountered in double_scalars\n",
      "  R2 = sqerror/sqdiff\n",
      "C:\\Users\\Miguel\\Desktop\\Furo SciAps\\simplibs-master\\core\\errors.py:90: RuntimeWarning: divide by zero encountered in true_divide\n",
      "  R2 = sqerror/sqdiff\n",
      "C:\\Users\\Miguel\\Desktop\\Furo SciAps\\simplibs-master\\core\\errors.py:90: RuntimeWarning: divide by zero encountered in double_scalars\n",
      "  R2 = sqerror/sqdiff\n",
      "C:\\Users\\Miguel\\Desktop\\Furo SciAps\\simplibs-master\\core\\errors.py:90: RuntimeWarning: divide by zero encountered in double_scalars\n",
      "  R2 = sqerror/sqdiff\n",
      "C:\\Users\\Miguel\\Desktop\\Furo SciAps\\simplibs-master\\core\\errors.py:90: RuntimeWarning: divide by zero encountered in double_scalars\n",
      "  R2 = sqerror/sqdiff\n",
      "C:\\Users\\Miguel\\Desktop\\Furo SciAps\\simplibs-master\\core\\errors.py:90: RuntimeWarning: divide by zero encountered in double_scalars\n",
      "  R2 = sqerror/sqdiff\n",
      "C:\\Users\\Miguel\\Desktop\\Furo SciAps\\simplibs-master\\core\\errors.py:90: RuntimeWarning: divide by zero encountered in true_divide\n",
      "  R2 = sqerror/sqdiff\n",
      "C:\\Users\\Miguel\\Desktop\\Furo SciAps\\simplibs-master\\core\\errors.py:90: RuntimeWarning: divide by zero encountered in double_scalars\n",
      "  R2 = sqerror/sqdiff\n",
      "C:\\Users\\Miguel\\Desktop\\Furo SciAps\\simplibs-master\\core\\errors.py:90: RuntimeWarning: divide by zero encountered in double_scalars\n",
      "  R2 = sqerror/sqdiff\n",
      "C:\\Users\\Miguel\\Desktop\\Furo SciAps\\simplibs-master\\core\\errors.py:90: RuntimeWarning: divide by zero encountered in double_scalars\n",
      "  R2 = sqerror/sqdiff\n",
      "C:\\Users\\Miguel\\Desktop\\Furo SciAps\\simplibs-master\\core\\errors.py:90: RuntimeWarning: divide by zero encountered in double_scalars\n",
      "  R2 = sqerror/sqdiff\n"
     ]
    },
    {
     "name": "stderr",
     "output_type": "stream",
     "text": [
      "C:\\Users\\Miguel\\Desktop\\Furo SciAps\\simplibs-master\\core\\errors.py:90: RuntimeWarning: divide by zero encountered in true_divide\n",
      "  R2 = sqerror/sqdiff\n",
      "C:\\Users\\Miguel\\Desktop\\Furo SciAps\\simplibs-master\\core\\errors.py:90: RuntimeWarning: divide by zero encountered in double_scalars\n",
      "  R2 = sqerror/sqdiff\n",
      "C:\\Users\\Miguel\\Desktop\\Furo SciAps\\simplibs-master\\core\\errors.py:90: RuntimeWarning: divide by zero encountered in double_scalars\n",
      "  R2 = sqerror/sqdiff\n",
      "C:\\Users\\Miguel\\Desktop\\Furo SciAps\\simplibs-master\\core\\errors.py:90: RuntimeWarning: divide by zero encountered in double_scalars\n",
      "  R2 = sqerror/sqdiff\n",
      "C:\\Users\\Miguel\\Desktop\\Furo SciAps\\simplibs-master\\core\\errors.py:90: RuntimeWarning: divide by zero encountered in double_scalars\n",
      "  R2 = sqerror/sqdiff\n",
      "C:\\Users\\Miguel\\Desktop\\Furo SciAps\\simplibs-master\\core\\errors.py:90: RuntimeWarning: divide by zero encountered in true_divide\n",
      "  R2 = sqerror/sqdiff\n",
      "C:\\Users\\Miguel\\Desktop\\Furo SciAps\\simplibs-master\\core\\errors.py:90: RuntimeWarning: divide by zero encountered in double_scalars\n",
      "  R2 = sqerror/sqdiff\n",
      "C:\\Users\\Miguel\\Desktop\\Furo SciAps\\simplibs-master\\core\\errors.py:90: RuntimeWarning: divide by zero encountered in double_scalars\n",
      "  R2 = sqerror/sqdiff\n",
      "C:\\Users\\Miguel\\Desktop\\Furo SciAps\\simplibs-master\\core\\errors.py:90: RuntimeWarning: divide by zero encountered in double_scalars\n",
      "  R2 = sqerror/sqdiff\n",
      "C:\\Users\\Miguel\\Desktop\\Furo SciAps\\simplibs-master\\core\\errors.py:90: RuntimeWarning: divide by zero encountered in double_scalars\n",
      "  R2 = sqerror/sqdiff\n",
      "C:\\Users\\Miguel\\Desktop\\Furo SciAps\\simplibs-master\\core\\errors.py:90: RuntimeWarning: divide by zero encountered in true_divide\n",
      "  R2 = sqerror/sqdiff\n",
      "C:\\Users\\Miguel\\Desktop\\Furo SciAps\\simplibs-master\\core\\errors.py:90: RuntimeWarning: divide by zero encountered in double_scalars\n",
      "  R2 = sqerror/sqdiff\n",
      "C:\\Users\\Miguel\\Desktop\\Furo SciAps\\simplibs-master\\core\\errors.py:90: RuntimeWarning: divide by zero encountered in double_scalars\n",
      "  R2 = sqerror/sqdiff\n",
      "C:\\Users\\Miguel\\Desktop\\Furo SciAps\\simplibs-master\\core\\errors.py:90: RuntimeWarning: divide by zero encountered in double_scalars\n",
      "  R2 = sqerror/sqdiff\n",
      "C:\\Users\\Miguel\\Desktop\\Furo SciAps\\simplibs-master\\core\\errors.py:90: RuntimeWarning: divide by zero encountered in double_scalars\n",
      "  R2 = sqerror/sqdiff\n",
      "C:\\Users\\Miguel\\Desktop\\Furo SciAps\\simplibs-master\\core\\errors.py:90: RuntimeWarning: divide by zero encountered in true_divide\n",
      "  R2 = sqerror/sqdiff\n",
      "C:\\Users\\Miguel\\Desktop\\Furo SciAps\\simplibs-master\\core\\errors.py:90: RuntimeWarning: divide by zero encountered in double_scalars\n",
      "  R2 = sqerror/sqdiff\n",
      "C:\\Users\\Miguel\\Desktop\\Furo SciAps\\simplibs-master\\core\\errors.py:90: RuntimeWarning: divide by zero encountered in double_scalars\n",
      "  R2 = sqerror/sqdiff\n",
      "C:\\Users\\Miguel\\Desktop\\Furo SciAps\\simplibs-master\\core\\errors.py:90: RuntimeWarning: divide by zero encountered in double_scalars\n",
      "  R2 = sqerror/sqdiff\n",
      "C:\\Users\\Miguel\\Desktop\\Furo SciAps\\simplibs-master\\core\\errors.py:90: RuntimeWarning: divide by zero encountered in double_scalars\n",
      "  R2 = sqerror/sqdiff\n",
      "C:\\Users\\Miguel\\Desktop\\Furo SciAps\\simplibs-master\\core\\errors.py:90: RuntimeWarning: divide by zero encountered in true_divide\n",
      "  R2 = sqerror/sqdiff\n",
      "C:\\Users\\Miguel\\Desktop\\Furo SciAps\\simplibs-master\\core\\errors.py:90: RuntimeWarning: divide by zero encountered in double_scalars\n",
      "  R2 = sqerror/sqdiff\n",
      "C:\\Users\\Miguel\\Desktop\\Furo SciAps\\simplibs-master\\core\\errors.py:90: RuntimeWarning: divide by zero encountered in double_scalars\n",
      "  R2 = sqerror/sqdiff\n",
      "C:\\Users\\Miguel\\Desktop\\Furo SciAps\\simplibs-master\\core\\errors.py:90: RuntimeWarning: divide by zero encountered in double_scalars\n",
      "  R2 = sqerror/sqdiff\n",
      "C:\\Users\\Miguel\\Desktop\\Furo SciAps\\simplibs-master\\core\\errors.py:90: RuntimeWarning: divide by zero encountered in double_scalars\n",
      "  R2 = sqerror/sqdiff\n",
      "C:\\Users\\Miguel\\Desktop\\Furo SciAps\\simplibs-master\\core\\errors.py:90: RuntimeWarning: divide by zero encountered in true_divide\n",
      "  R2 = sqerror/sqdiff\n",
      "C:\\Users\\Miguel\\Desktop\\Furo SciAps\\simplibs-master\\core\\errors.py:90: RuntimeWarning: divide by zero encountered in double_scalars\n",
      "  R2 = sqerror/sqdiff\n",
      "C:\\Users\\Miguel\\Desktop\\Furo SciAps\\simplibs-master\\core\\errors.py:90: RuntimeWarning: divide by zero encountered in double_scalars\n",
      "  R2 = sqerror/sqdiff\n",
      "C:\\Users\\Miguel\\Desktop\\Furo SciAps\\simplibs-master\\core\\errors.py:90: RuntimeWarning: divide by zero encountered in double_scalars\n",
      "  R2 = sqerror/sqdiff\n",
      "C:\\Users\\Miguel\\Desktop\\Furo SciAps\\simplibs-master\\core\\errors.py:90: RuntimeWarning: divide by zero encountered in double_scalars\n",
      "  R2 = sqerror/sqdiff\n",
      "C:\\Users\\Miguel\\Desktop\\Furo SciAps\\simplibs-master\\core\\errors.py:90: RuntimeWarning: divide by zero encountered in true_divide\n",
      "  R2 = sqerror/sqdiff\n",
      "C:\\Users\\Miguel\\Desktop\\Furo SciAps\\simplibs-master\\core\\errors.py:90: RuntimeWarning: divide by zero encountered in double_scalars\n",
      "  R2 = sqerror/sqdiff\n",
      "C:\\Users\\Miguel\\Desktop\\Furo SciAps\\simplibs-master\\core\\errors.py:90: RuntimeWarning: divide by zero encountered in double_scalars\n",
      "  R2 = sqerror/sqdiff\n",
      "C:\\Users\\Miguel\\Desktop\\Furo SciAps\\simplibs-master\\core\\errors.py:90: RuntimeWarning: divide by zero encountered in double_scalars\n",
      "  R2 = sqerror/sqdiff\n",
      "C:\\Users\\Miguel\\Desktop\\Furo SciAps\\simplibs-master\\core\\errors.py:90: RuntimeWarning: divide by zero encountered in double_scalars\n",
      "  R2 = sqerror/sqdiff\n",
      "C:\\Users\\Miguel\\Desktop\\Furo SciAps\\simplibs-master\\core\\errors.py:90: RuntimeWarning: divide by zero encountered in true_divide\n",
      "  R2 = sqerror/sqdiff\n",
      "C:\\Users\\Miguel\\Desktop\\Furo SciAps\\simplibs-master\\core\\errors.py:90: RuntimeWarning: divide by zero encountered in double_scalars\n",
      "  R2 = sqerror/sqdiff\n",
      "C:\\Users\\Miguel\\Desktop\\Furo SciAps\\simplibs-master\\core\\errors.py:90: RuntimeWarning: divide by zero encountered in double_scalars\n",
      "  R2 = sqerror/sqdiff\n",
      "C:\\Users\\Miguel\\Desktop\\Furo SciAps\\simplibs-master\\core\\errors.py:90: RuntimeWarning: divide by zero encountered in double_scalars\n",
      "  R2 = sqerror/sqdiff\n",
      "C:\\Users\\Miguel\\Desktop\\Furo SciAps\\simplibs-master\\core\\errors.py:90: RuntimeWarning: divide by zero encountered in double_scalars\n",
      "  R2 = sqerror/sqdiff\n",
      "C:\\Users\\Miguel\\Desktop\\Furo SciAps\\simplibs-master\\core\\errors.py:90: RuntimeWarning: divide by zero encountered in true_divide\n",
      "  R2 = sqerror/sqdiff\n",
      "C:\\Users\\Miguel\\Desktop\\Furo SciAps\\simplibs-master\\core\\errors.py:90: RuntimeWarning: divide by zero encountered in double_scalars\n",
      "  R2 = sqerror/sqdiff\n",
      "C:\\Users\\Miguel\\Desktop\\Furo SciAps\\simplibs-master\\core\\errors.py:90: RuntimeWarning: divide by zero encountered in double_scalars\n",
      "  R2 = sqerror/sqdiff\n",
      "C:\\Users\\Miguel\\Desktop\\Furo SciAps\\simplibs-master\\core\\errors.py:90: RuntimeWarning: divide by zero encountered in double_scalars\n",
      "  R2 = sqerror/sqdiff\n",
      "C:\\Users\\Miguel\\Desktop\\Furo SciAps\\simplibs-master\\core\\errors.py:90: RuntimeWarning: divide by zero encountered in double_scalars\n",
      "  R2 = sqerror/sqdiff\n",
      "C:\\Users\\Miguel\\Desktop\\Furo SciAps\\simplibs-master\\core\\errors.py:90: RuntimeWarning: divide by zero encountered in true_divide\n",
      "  R2 = sqerror/sqdiff\n",
      "C:\\Users\\Miguel\\Desktop\\Furo SciAps\\simplibs-master\\core\\errors.py:90: RuntimeWarning: divide by zero encountered in double_scalars\n",
      "  R2 = sqerror/sqdiff\n",
      "C:\\Users\\Miguel\\Desktop\\Furo SciAps\\simplibs-master\\core\\errors.py:90: RuntimeWarning: divide by zero encountered in double_scalars\n",
      "  R2 = sqerror/sqdiff\n",
      "C:\\Users\\Miguel\\Desktop\\Furo SciAps\\simplibs-master\\core\\errors.py:90: RuntimeWarning: divide by zero encountered in double_scalars\n",
      "  R2 = sqerror/sqdiff\n",
      "C:\\Users\\Miguel\\Desktop\\Furo SciAps\\simplibs-master\\core\\errors.py:90: RuntimeWarning: divide by zero encountered in double_scalars\n",
      "  R2 = sqerror/sqdiff\n",
      "C:\\Users\\Miguel\\Desktop\\Furo SciAps\\simplibs-master\\core\\errors.py:90: RuntimeWarning: divide by zero encountered in true_divide\n",
      "  R2 = sqerror/sqdiff\n",
      "C:\\Users\\Miguel\\Desktop\\Furo SciAps\\simplibs-master\\core\\errors.py:90: RuntimeWarning: divide by zero encountered in double_scalars\n",
      "  R2 = sqerror/sqdiff\n",
      "C:\\Users\\Miguel\\Desktop\\Furo SciAps\\simplibs-master\\core\\errors.py:90: RuntimeWarning: divide by zero encountered in double_scalars\n",
      "  R2 = sqerror/sqdiff\n",
      "C:\\Users\\Miguel\\Desktop\\Furo SciAps\\simplibs-master\\core\\errors.py:90: RuntimeWarning: divide by zero encountered in double_scalars\n",
      "  R2 = sqerror/sqdiff\n"
     ]
    },
    {
     "name": "stderr",
     "output_type": "stream",
     "text": [
      "C:\\Users\\Miguel\\Desktop\\Furo SciAps\\simplibs-master\\core\\errors.py:90: RuntimeWarning: divide by zero encountered in double_scalars\n",
      "  R2 = sqerror/sqdiff\n",
      "C:\\Users\\Miguel\\Desktop\\Furo SciAps\\simplibs-master\\core\\errors.py:90: RuntimeWarning: divide by zero encountered in true_divide\n",
      "  R2 = sqerror/sqdiff\n",
      "C:\\Users\\Miguel\\Desktop\\Furo SciAps\\simplibs-master\\core\\errors.py:90: RuntimeWarning: divide by zero encountered in double_scalars\n",
      "  R2 = sqerror/sqdiff\n",
      "C:\\Users\\Miguel\\Desktop\\Furo SciAps\\simplibs-master\\core\\errors.py:90: RuntimeWarning: divide by zero encountered in double_scalars\n",
      "  R2 = sqerror/sqdiff\n",
      "C:\\Users\\Miguel\\Desktop\\Furo SciAps\\simplibs-master\\core\\errors.py:90: RuntimeWarning: divide by zero encountered in double_scalars\n",
      "  R2 = sqerror/sqdiff\n",
      "C:\\Users\\Miguel\\Desktop\\Furo SciAps\\simplibs-master\\core\\errors.py:90: RuntimeWarning: divide by zero encountered in double_scalars\n",
      "  R2 = sqerror/sqdiff\n",
      "C:\\Users\\Miguel\\Desktop\\Furo SciAps\\simplibs-master\\core\\errors.py:90: RuntimeWarning: divide by zero encountered in true_divide\n",
      "  R2 = sqerror/sqdiff\n",
      "C:\\Users\\Miguel\\Desktop\\Furo SciAps\\simplibs-master\\core\\errors.py:90: RuntimeWarning: divide by zero encountered in double_scalars\n",
      "  R2 = sqerror/sqdiff\n",
      "C:\\Users\\Miguel\\Desktop\\Furo SciAps\\simplibs-master\\core\\errors.py:90: RuntimeWarning: divide by zero encountered in double_scalars\n",
      "  R2 = sqerror/sqdiff\n",
      "C:\\Users\\Miguel\\Desktop\\Furo SciAps\\simplibs-master\\core\\errors.py:90: RuntimeWarning: divide by zero encountered in double_scalars\n",
      "  R2 = sqerror/sqdiff\n",
      "C:\\Users\\Miguel\\Desktop\\Furo SciAps\\simplibs-master\\core\\errors.py:90: RuntimeWarning: divide by zero encountered in double_scalars\n",
      "  R2 = sqerror/sqdiff\n",
      "C:\\Users\\Miguel\\Desktop\\Furo SciAps\\simplibs-master\\core\\errors.py:90: RuntimeWarning: divide by zero encountered in true_divide\n",
      "  R2 = sqerror/sqdiff\n",
      "C:\\Users\\Miguel\\Desktop\\Furo SciAps\\simplibs-master\\core\\errors.py:90: RuntimeWarning: divide by zero encountered in double_scalars\n",
      "  R2 = sqerror/sqdiff\n",
      "C:\\Users\\Miguel\\Desktop\\Furo SciAps\\simplibs-master\\core\\errors.py:90: RuntimeWarning: divide by zero encountered in double_scalars\n",
      "  R2 = sqerror/sqdiff\n",
      "C:\\Users\\Miguel\\Desktop\\Furo SciAps\\simplibs-master\\core\\errors.py:90: RuntimeWarning: divide by zero encountered in double_scalars\n",
      "  R2 = sqerror/sqdiff\n",
      "C:\\Users\\Miguel\\Desktop\\Furo SciAps\\simplibs-master\\core\\errors.py:90: RuntimeWarning: divide by zero encountered in double_scalars\n",
      "  R2 = sqerror/sqdiff\n",
      "C:\\Users\\Miguel\\Desktop\\Furo SciAps\\simplibs-master\\core\\errors.py:90: RuntimeWarning: divide by zero encountered in true_divide\n",
      "  R2 = sqerror/sqdiff\n",
      "C:\\Users\\Miguel\\Desktop\\Furo SciAps\\simplibs-master\\core\\errors.py:90: RuntimeWarning: divide by zero encountered in double_scalars\n",
      "  R2 = sqerror/sqdiff\n",
      "C:\\Users\\Miguel\\Desktop\\Furo SciAps\\simplibs-master\\core\\errors.py:90: RuntimeWarning: divide by zero encountered in double_scalars\n",
      "  R2 = sqerror/sqdiff\n",
      "C:\\Users\\Miguel\\Desktop\\Furo SciAps\\simplibs-master\\core\\errors.py:90: RuntimeWarning: divide by zero encountered in double_scalars\n",
      "  R2 = sqerror/sqdiff\n",
      "C:\\Users\\Miguel\\Desktop\\Furo SciAps\\simplibs-master\\core\\errors.py:90: RuntimeWarning: divide by zero encountered in double_scalars\n",
      "  R2 = sqerror/sqdiff\n",
      "C:\\Users\\Miguel\\Desktop\\Furo SciAps\\simplibs-master\\core\\errors.py:90: RuntimeWarning: divide by zero encountered in true_divide\n",
      "  R2 = sqerror/sqdiff\n",
      "C:\\Users\\Miguel\\Desktop\\Furo SciAps\\simplibs-master\\core\\errors.py:90: RuntimeWarning: divide by zero encountered in double_scalars\n",
      "  R2 = sqerror/sqdiff\n",
      "C:\\Users\\Miguel\\Desktop\\Furo SciAps\\simplibs-master\\core\\errors.py:90: RuntimeWarning: divide by zero encountered in double_scalars\n",
      "  R2 = sqerror/sqdiff\n",
      "C:\\Users\\Miguel\\Desktop\\Furo SciAps\\simplibs-master\\core\\errors.py:90: RuntimeWarning: divide by zero encountered in double_scalars\n",
      "  R2 = sqerror/sqdiff\n",
      "C:\\Users\\Miguel\\Desktop\\Furo SciAps\\simplibs-master\\core\\errors.py:90: RuntimeWarning: divide by zero encountered in double_scalars\n",
      "  R2 = sqerror/sqdiff\n",
      "C:\\Users\\Miguel\\Desktop\\Furo SciAps\\simplibs-master\\core\\errors.py:90: RuntimeWarning: divide by zero encountered in true_divide\n",
      "  R2 = sqerror/sqdiff\n",
      "C:\\Users\\Miguel\\Desktop\\Furo SciAps\\simplibs-master\\core\\errors.py:90: RuntimeWarning: divide by zero encountered in double_scalars\n",
      "  R2 = sqerror/sqdiff\n",
      "C:\\Users\\Miguel\\Desktop\\Furo SciAps\\simplibs-master\\core\\errors.py:90: RuntimeWarning: divide by zero encountered in double_scalars\n",
      "  R2 = sqerror/sqdiff\n",
      "C:\\Users\\Miguel\\Desktop\\Furo SciAps\\simplibs-master\\core\\errors.py:90: RuntimeWarning: divide by zero encountered in double_scalars\n",
      "  R2 = sqerror/sqdiff\n",
      "C:\\Users\\Miguel\\Desktop\\Furo SciAps\\simplibs-master\\core\\errors.py:90: RuntimeWarning: divide by zero encountered in double_scalars\n",
      "  R2 = sqerror/sqdiff\n",
      "C:\\Users\\Miguel\\Desktop\\Furo SciAps\\simplibs-master\\core\\errors.py:90: RuntimeWarning: divide by zero encountered in true_divide\n",
      "  R2 = sqerror/sqdiff\n",
      "C:\\Users\\Miguel\\Desktop\\Furo SciAps\\simplibs-master\\core\\errors.py:90: RuntimeWarning: divide by zero encountered in double_scalars\n",
      "  R2 = sqerror/sqdiff\n",
      "C:\\Users\\Miguel\\Desktop\\Furo SciAps\\simplibs-master\\core\\errors.py:90: RuntimeWarning: divide by zero encountered in double_scalars\n",
      "  R2 = sqerror/sqdiff\n",
      "C:\\Users\\Miguel\\Desktop\\Furo SciAps\\simplibs-master\\core\\errors.py:90: RuntimeWarning: divide by zero encountered in double_scalars\n",
      "  R2 = sqerror/sqdiff\n",
      "C:\\Users\\Miguel\\Desktop\\Furo SciAps\\simplibs-master\\core\\errors.py:90: RuntimeWarning: divide by zero encountered in double_scalars\n",
      "  R2 = sqerror/sqdiff\n",
      "C:\\Users\\Miguel\\Desktop\\Furo SciAps\\simplibs-master\\core\\errors.py:90: RuntimeWarning: divide by zero encountered in true_divide\n",
      "  R2 = sqerror/sqdiff\n",
      "C:\\Users\\Miguel\\Desktop\\Furo SciAps\\simplibs-master\\core\\errors.py:90: RuntimeWarning: divide by zero encountered in double_scalars\n",
      "  R2 = sqerror/sqdiff\n",
      "C:\\Users\\Miguel\\Desktop\\Furo SciAps\\simplibs-master\\core\\errors.py:90: RuntimeWarning: divide by zero encountered in double_scalars\n",
      "  R2 = sqerror/sqdiff\n",
      "C:\\Users\\Miguel\\Desktop\\Furo SciAps\\simplibs-master\\core\\errors.py:90: RuntimeWarning: divide by zero encountered in double_scalars\n",
      "  R2 = sqerror/sqdiff\n",
      "C:\\Users\\Miguel\\Desktop\\Furo SciAps\\simplibs-master\\core\\errors.py:90: RuntimeWarning: divide by zero encountered in double_scalars\n",
      "  R2 = sqerror/sqdiff\n",
      "C:\\Users\\Miguel\\Desktop\\Furo SciAps\\simplibs-master\\core\\errors.py:90: RuntimeWarning: divide by zero encountered in true_divide\n",
      "  R2 = sqerror/sqdiff\n",
      "C:\\Users\\Miguel\\Desktop\\Furo SciAps\\simplibs-master\\core\\errors.py:90: RuntimeWarning: divide by zero encountered in double_scalars\n",
      "  R2 = sqerror/sqdiff\n",
      "C:\\Users\\Miguel\\Desktop\\Furo SciAps\\simplibs-master\\core\\errors.py:90: RuntimeWarning: divide by zero encountered in double_scalars\n",
      "  R2 = sqerror/sqdiff\n",
      "C:\\Users\\Miguel\\Desktop\\Furo SciAps\\simplibs-master\\core\\errors.py:90: RuntimeWarning: divide by zero encountered in double_scalars\n",
      "  R2 = sqerror/sqdiff\n",
      "C:\\Users\\Miguel\\Desktop\\Furo SciAps\\simplibs-master\\core\\errors.py:90: RuntimeWarning: divide by zero encountered in double_scalars\n",
      "  R2 = sqerror/sqdiff\n",
      "C:\\Users\\Miguel\\Desktop\\Furo SciAps\\simplibs-master\\core\\errors.py:90: RuntimeWarning: divide by zero encountered in true_divide\n",
      "  R2 = sqerror/sqdiff\n",
      "C:\\Users\\Miguel\\Desktop\\Furo SciAps\\simplibs-master\\core\\errors.py:90: RuntimeWarning: divide by zero encountered in double_scalars\n",
      "  R2 = sqerror/sqdiff\n",
      "C:\\Users\\Miguel\\Desktop\\Furo SciAps\\simplibs-master\\core\\errors.py:90: RuntimeWarning: divide by zero encountered in double_scalars\n",
      "  R2 = sqerror/sqdiff\n",
      "C:\\Users\\Miguel\\Desktop\\Furo SciAps\\simplibs-master\\core\\errors.py:90: RuntimeWarning: divide by zero encountered in double_scalars\n",
      "  R2 = sqerror/sqdiff\n",
      "C:\\Users\\Miguel\\Desktop\\Furo SciAps\\simplibs-master\\core\\errors.py:90: RuntimeWarning: divide by zero encountered in double_scalars\n",
      "  R2 = sqerror/sqdiff\n",
      "C:\\Users\\Miguel\\Desktop\\Furo SciAps\\simplibs-master\\core\\errors.py:90: RuntimeWarning: divide by zero encountered in true_divide\n",
      "  R2 = sqerror/sqdiff\n",
      "C:\\Users\\Miguel\\Desktop\\Furo SciAps\\simplibs-master\\core\\errors.py:90: RuntimeWarning: divide by zero encountered in double_scalars\n",
      "  R2 = sqerror/sqdiff\n",
      "C:\\Users\\Miguel\\Desktop\\Furo SciAps\\simplibs-master\\core\\errors.py:90: RuntimeWarning: divide by zero encountered in double_scalars\n",
      "  R2 = sqerror/sqdiff\n"
     ]
    },
    {
     "name": "stderr",
     "output_type": "stream",
     "text": [
      "C:\\Users\\Miguel\\Desktop\\Furo SciAps\\simplibs-master\\core\\errors.py:90: RuntimeWarning: divide by zero encountered in double_scalars\n",
      "  R2 = sqerror/sqdiff\n",
      "C:\\Users\\Miguel\\Desktop\\Furo SciAps\\simplibs-master\\core\\errors.py:90: RuntimeWarning: divide by zero encountered in double_scalars\n",
      "  R2 = sqerror/sqdiff\n",
      "C:\\Users\\Miguel\\Desktop\\Furo SciAps\\simplibs-master\\core\\errors.py:90: RuntimeWarning: divide by zero encountered in true_divide\n",
      "  R2 = sqerror/sqdiff\n",
      "C:\\Users\\Miguel\\Desktop\\Furo SciAps\\simplibs-master\\core\\errors.py:90: RuntimeWarning: divide by zero encountered in double_scalars\n",
      "  R2 = sqerror/sqdiff\n",
      "C:\\Users\\Miguel\\Desktop\\Furo SciAps\\simplibs-master\\core\\errors.py:90: RuntimeWarning: divide by zero encountered in double_scalars\n",
      "  R2 = sqerror/sqdiff\n",
      "C:\\Users\\Miguel\\Desktop\\Furo SciAps\\simplibs-master\\core\\errors.py:90: RuntimeWarning: divide by zero encountered in double_scalars\n",
      "  R2 = sqerror/sqdiff\n",
      "C:\\Users\\Miguel\\Desktop\\Furo SciAps\\simplibs-master\\core\\errors.py:90: RuntimeWarning: divide by zero encountered in double_scalars\n",
      "  R2 = sqerror/sqdiff\n",
      "C:\\Users\\Miguel\\Desktop\\Furo SciAps\\simplibs-master\\core\\errors.py:90: RuntimeWarning: divide by zero encountered in true_divide\n",
      "  R2 = sqerror/sqdiff\n",
      "C:\\Users\\Miguel\\Desktop\\Furo SciAps\\simplibs-master\\core\\errors.py:90: RuntimeWarning: divide by zero encountered in double_scalars\n",
      "  R2 = sqerror/sqdiff\n",
      "C:\\Users\\Miguel\\Desktop\\Furo SciAps\\simplibs-master\\core\\errors.py:90: RuntimeWarning: divide by zero encountered in double_scalars\n",
      "  R2 = sqerror/sqdiff\n",
      "C:\\Users\\Miguel\\Desktop\\Furo SciAps\\simplibs-master\\core\\errors.py:90: RuntimeWarning: divide by zero encountered in double_scalars\n",
      "  R2 = sqerror/sqdiff\n",
      "C:\\Users\\Miguel\\Desktop\\Furo SciAps\\simplibs-master\\core\\errors.py:90: RuntimeWarning: divide by zero encountered in double_scalars\n",
      "  R2 = sqerror/sqdiff\n",
      "C:\\Users\\Miguel\\Desktop\\Furo SciAps\\simplibs-master\\core\\errors.py:90: RuntimeWarning: divide by zero encountered in true_divide\n",
      "  R2 = sqerror/sqdiff\n",
      "C:\\Users\\Miguel\\Desktop\\Furo SciAps\\simplibs-master\\core\\errors.py:90: RuntimeWarning: divide by zero encountered in double_scalars\n",
      "  R2 = sqerror/sqdiff\n",
      "C:\\Users\\Miguel\\Desktop\\Furo SciAps\\simplibs-master\\core\\errors.py:90: RuntimeWarning: divide by zero encountered in double_scalars\n",
      "  R2 = sqerror/sqdiff\n",
      "C:\\Users\\Miguel\\Desktop\\Furo SciAps\\simplibs-master\\core\\errors.py:90: RuntimeWarning: divide by zero encountered in double_scalars\n",
      "  R2 = sqerror/sqdiff\n",
      "C:\\Users\\Miguel\\Desktop\\Furo SciAps\\simplibs-master\\core\\errors.py:90: RuntimeWarning: divide by zero encountered in double_scalars\n",
      "  R2 = sqerror/sqdiff\n",
      "C:\\Users\\Miguel\\Desktop\\Furo SciAps\\simplibs-master\\core\\errors.py:90: RuntimeWarning: divide by zero encountered in true_divide\n",
      "  R2 = sqerror/sqdiff\n",
      "C:\\Users\\Miguel\\Desktop\\Furo SciAps\\simplibs-master\\core\\errors.py:90: RuntimeWarning: divide by zero encountered in double_scalars\n",
      "  R2 = sqerror/sqdiff\n",
      "C:\\Users\\Miguel\\Desktop\\Furo SciAps\\simplibs-master\\core\\errors.py:90: RuntimeWarning: divide by zero encountered in double_scalars\n",
      "  R2 = sqerror/sqdiff\n",
      "C:\\Users\\Miguel\\Desktop\\Furo SciAps\\simplibs-master\\core\\errors.py:90: RuntimeWarning: divide by zero encountered in double_scalars\n",
      "  R2 = sqerror/sqdiff\n",
      "C:\\Users\\Miguel\\Desktop\\Furo SciAps\\simplibs-master\\core\\errors.py:90: RuntimeWarning: divide by zero encountered in double_scalars\n",
      "  R2 = sqerror/sqdiff\n",
      "C:\\Users\\Miguel\\Desktop\\Furo SciAps\\simplibs-master\\core\\errors.py:90: RuntimeWarning: divide by zero encountered in true_divide\n",
      "  R2 = sqerror/sqdiff\n",
      "C:\\Users\\Miguel\\Desktop\\Furo SciAps\\simplibs-master\\core\\errors.py:90: RuntimeWarning: divide by zero encountered in double_scalars\n",
      "  R2 = sqerror/sqdiff\n",
      "C:\\Users\\Miguel\\Desktop\\Furo SciAps\\simplibs-master\\core\\errors.py:90: RuntimeWarning: divide by zero encountered in double_scalars\n",
      "  R2 = sqerror/sqdiff\n",
      "C:\\Users\\Miguel\\Desktop\\Furo SciAps\\simplibs-master\\core\\errors.py:90: RuntimeWarning: divide by zero encountered in double_scalars\n",
      "  R2 = sqerror/sqdiff\n",
      "C:\\Users\\Miguel\\Desktop\\Furo SciAps\\simplibs-master\\core\\errors.py:90: RuntimeWarning: divide by zero encountered in double_scalars\n",
      "  R2 = sqerror/sqdiff\n",
      "C:\\Users\\Miguel\\Desktop\\Furo SciAps\\simplibs-master\\core\\errors.py:90: RuntimeWarning: divide by zero encountered in true_divide\n",
      "  R2 = sqerror/sqdiff\n",
      "C:\\Users\\Miguel\\Desktop\\Furo SciAps\\simplibs-master\\core\\errors.py:90: RuntimeWarning: divide by zero encountered in double_scalars\n",
      "  R2 = sqerror/sqdiff\n",
      "C:\\Users\\Miguel\\Desktop\\Furo SciAps\\simplibs-master\\core\\errors.py:90: RuntimeWarning: divide by zero encountered in double_scalars\n",
      "  R2 = sqerror/sqdiff\n",
      "C:\\Users\\Miguel\\Desktop\\Furo SciAps\\simplibs-master\\core\\errors.py:90: RuntimeWarning: divide by zero encountered in double_scalars\n",
      "  R2 = sqerror/sqdiff\n",
      "C:\\Users\\Miguel\\Desktop\\Furo SciAps\\simplibs-master\\core\\errors.py:90: RuntimeWarning: divide by zero encountered in double_scalars\n",
      "  R2 = sqerror/sqdiff\n",
      "C:\\Users\\Miguel\\Desktop\\Furo SciAps\\simplibs-master\\core\\errors.py:90: RuntimeWarning: divide by zero encountered in true_divide\n",
      "  R2 = sqerror/sqdiff\n",
      "C:\\Users\\Miguel\\Desktop\\Furo SciAps\\simplibs-master\\core\\errors.py:90: RuntimeWarning: divide by zero encountered in double_scalars\n",
      "  R2 = sqerror/sqdiff\n",
      "C:\\Users\\Miguel\\Desktop\\Furo SciAps\\simplibs-master\\core\\errors.py:90: RuntimeWarning: divide by zero encountered in double_scalars\n",
      "  R2 = sqerror/sqdiff\n",
      "C:\\Users\\Miguel\\Desktop\\Furo SciAps\\simplibs-master\\core\\errors.py:90: RuntimeWarning: divide by zero encountered in double_scalars\n",
      "  R2 = sqerror/sqdiff\n",
      "C:\\Users\\Miguel\\Desktop\\Furo SciAps\\simplibs-master\\core\\errors.py:90: RuntimeWarning: divide by zero encountered in double_scalars\n",
      "  R2 = sqerror/sqdiff\n",
      "C:\\Users\\Miguel\\Desktop\\Furo SciAps\\simplibs-master\\core\\errors.py:90: RuntimeWarning: divide by zero encountered in true_divide\n",
      "  R2 = sqerror/sqdiff\n",
      "C:\\Users\\Miguel\\Desktop\\Furo SciAps\\simplibs-master\\core\\errors.py:90: RuntimeWarning: divide by zero encountered in double_scalars\n",
      "  R2 = sqerror/sqdiff\n",
      "C:\\Users\\Miguel\\Desktop\\Furo SciAps\\simplibs-master\\core\\errors.py:90: RuntimeWarning: divide by zero encountered in double_scalars\n",
      "  R2 = sqerror/sqdiff\n",
      "C:\\Users\\Miguel\\Desktop\\Furo SciAps\\simplibs-master\\core\\errors.py:90: RuntimeWarning: divide by zero encountered in double_scalars\n",
      "  R2 = sqerror/sqdiff\n",
      "C:\\Users\\Miguel\\Desktop\\Furo SciAps\\simplibs-master\\core\\errors.py:90: RuntimeWarning: divide by zero encountered in double_scalars\n",
      "  R2 = sqerror/sqdiff\n",
      "C:\\Users\\Miguel\\Desktop\\Furo SciAps\\simplibs-master\\core\\errors.py:90: RuntimeWarning: divide by zero encountered in true_divide\n",
      "  R2 = sqerror/sqdiff\n",
      "C:\\Users\\Miguel\\Desktop\\Furo SciAps\\simplibs-master\\core\\errors.py:90: RuntimeWarning: divide by zero encountered in double_scalars\n",
      "  R2 = sqerror/sqdiff\n",
      "C:\\Users\\Miguel\\Desktop\\Furo SciAps\\simplibs-master\\core\\errors.py:90: RuntimeWarning: divide by zero encountered in double_scalars\n",
      "  R2 = sqerror/sqdiff\n",
      "C:\\Users\\Miguel\\Desktop\\Furo SciAps\\simplibs-master\\core\\errors.py:90: RuntimeWarning: divide by zero encountered in double_scalars\n",
      "  R2 = sqerror/sqdiff\n",
      "C:\\Users\\Miguel\\Desktop\\Furo SciAps\\simplibs-master\\core\\errors.py:90: RuntimeWarning: divide by zero encountered in double_scalars\n",
      "  R2 = sqerror/sqdiff\n",
      "C:\\Users\\Miguel\\Desktop\\Furo SciAps\\simplibs-master\\core\\errors.py:90: RuntimeWarning: divide by zero encountered in true_divide\n",
      "  R2 = sqerror/sqdiff\n",
      "C:\\Users\\Miguel\\Desktop\\Furo SciAps\\simplibs-master\\core\\errors.py:90: RuntimeWarning: divide by zero encountered in double_scalars\n",
      "  R2 = sqerror/sqdiff\n",
      "C:\\Users\\Miguel\\Desktop\\Furo SciAps\\simplibs-master\\core\\errors.py:90: RuntimeWarning: divide by zero encountered in double_scalars\n",
      "  R2 = sqerror/sqdiff\n",
      "C:\\Users\\Miguel\\Desktop\\Furo SciAps\\simplibs-master\\core\\errors.py:90: RuntimeWarning: divide by zero encountered in double_scalars\n",
      "  R2 = sqerror/sqdiff\n",
      "C:\\Users\\Miguel\\Desktop\\Furo SciAps\\simplibs-master\\core\\errors.py:90: RuntimeWarning: divide by zero encountered in double_scalars\n",
      "  R2 = sqerror/sqdiff\n",
      "C:\\Users\\Miguel\\Desktop\\Furo SciAps\\simplibs-master\\core\\errors.py:90: RuntimeWarning: divide by zero encountered in true_divide\n",
      "  R2 = sqerror/sqdiff\n",
      "C:\\Users\\Miguel\\Desktop\\Furo SciAps\\simplibs-master\\core\\errors.py:90: RuntimeWarning: divide by zero encountered in double_scalars\n",
      "  R2 = sqerror/sqdiff\n",
      "C:\\Users\\Miguel\\Desktop\\Furo SciAps\\simplibs-master\\core\\errors.py:90: RuntimeWarning: divide by zero encountered in double_scalars\n",
      "  R2 = sqerror/sqdiff\n"
     ]
    },
    {
     "name": "stderr",
     "output_type": "stream",
     "text": [
      "C:\\Users\\Miguel\\Desktop\\Furo SciAps\\simplibs-master\\core\\errors.py:90: RuntimeWarning: divide by zero encountered in double_scalars\n",
      "  R2 = sqerror/sqdiff\n",
      "C:\\Users\\Miguel\\Desktop\\Furo SciAps\\simplibs-master\\core\\errors.py:90: RuntimeWarning: divide by zero encountered in double_scalars\n",
      "  R2 = sqerror/sqdiff\n",
      "C:\\Users\\Miguel\\Desktop\\Furo SciAps\\simplibs-master\\core\\errors.py:90: RuntimeWarning: divide by zero encountered in true_divide\n",
      "  R2 = sqerror/sqdiff\n",
      "C:\\Users\\Miguel\\Desktop\\Furo SciAps\\simplibs-master\\core\\errors.py:90: RuntimeWarning: divide by zero encountered in double_scalars\n",
      "  R2 = sqerror/sqdiff\n",
      "C:\\Users\\Miguel\\Desktop\\Furo SciAps\\simplibs-master\\core\\errors.py:90: RuntimeWarning: divide by zero encountered in double_scalars\n",
      "  R2 = sqerror/sqdiff\n",
      "C:\\Users\\Miguel\\Desktop\\Furo SciAps\\simplibs-master\\core\\errors.py:90: RuntimeWarning: divide by zero encountered in double_scalars\n",
      "  R2 = sqerror/sqdiff\n",
      "C:\\Users\\Miguel\\Desktop\\Furo SciAps\\simplibs-master\\core\\errors.py:90: RuntimeWarning: divide by zero encountered in double_scalars\n",
      "  R2 = sqerror/sqdiff\n",
      "C:\\Users\\Miguel\\Desktop\\Furo SciAps\\simplibs-master\\core\\errors.py:90: RuntimeWarning: divide by zero encountered in true_divide\n",
      "  R2 = sqerror/sqdiff\n",
      "C:\\Users\\Miguel\\Desktop\\Furo SciAps\\simplibs-master\\core\\errors.py:90: RuntimeWarning: divide by zero encountered in double_scalars\n",
      "  R2 = sqerror/sqdiff\n",
      "C:\\Users\\Miguel\\Desktop\\Furo SciAps\\simplibs-master\\core\\errors.py:90: RuntimeWarning: divide by zero encountered in double_scalars\n",
      "  R2 = sqerror/sqdiff\n",
      "C:\\Users\\Miguel\\Desktop\\Furo SciAps\\simplibs-master\\core\\errors.py:90: RuntimeWarning: divide by zero encountered in double_scalars\n",
      "  R2 = sqerror/sqdiff\n",
      "C:\\Users\\Miguel\\Desktop\\Furo SciAps\\simplibs-master\\core\\errors.py:90: RuntimeWarning: divide by zero encountered in double_scalars\n",
      "  R2 = sqerror/sqdiff\n",
      "C:\\Users\\Miguel\\Desktop\\Furo SciAps\\simplibs-master\\core\\errors.py:90: RuntimeWarning: divide by zero encountered in true_divide\n",
      "  R2 = sqerror/sqdiff\n",
      "C:\\Users\\Miguel\\Desktop\\Furo SciAps\\simplibs-master\\core\\errors.py:90: RuntimeWarning: divide by zero encountered in double_scalars\n",
      "  R2 = sqerror/sqdiff\n",
      "C:\\Users\\Miguel\\Desktop\\Furo SciAps\\simplibs-master\\core\\errors.py:90: RuntimeWarning: divide by zero encountered in double_scalars\n",
      "  R2 = sqerror/sqdiff\n",
      "C:\\Users\\Miguel\\Desktop\\Furo SciAps\\simplibs-master\\core\\errors.py:90: RuntimeWarning: divide by zero encountered in double_scalars\n",
      "  R2 = sqerror/sqdiff\n",
      "C:\\Users\\Miguel\\Desktop\\Furo SciAps\\simplibs-master\\core\\errors.py:90: RuntimeWarning: divide by zero encountered in double_scalars\n",
      "  R2 = sqerror/sqdiff\n",
      "C:\\Users\\Miguel\\Desktop\\Furo SciAps\\simplibs-master\\core\\errors.py:90: RuntimeWarning: divide by zero encountered in true_divide\n",
      "  R2 = sqerror/sqdiff\n",
      "C:\\Users\\Miguel\\Desktop\\Furo SciAps\\simplibs-master\\core\\errors.py:90: RuntimeWarning: divide by zero encountered in double_scalars\n",
      "  R2 = sqerror/sqdiff\n",
      "C:\\Users\\Miguel\\Desktop\\Furo SciAps\\simplibs-master\\core\\errors.py:90: RuntimeWarning: divide by zero encountered in double_scalars\n",
      "  R2 = sqerror/sqdiff\n",
      "C:\\Users\\Miguel\\Desktop\\Furo SciAps\\simplibs-master\\core\\errors.py:90: RuntimeWarning: divide by zero encountered in double_scalars\n",
      "  R2 = sqerror/sqdiff\n",
      "C:\\Users\\Miguel\\Desktop\\Furo SciAps\\simplibs-master\\core\\errors.py:90: RuntimeWarning: divide by zero encountered in double_scalars\n",
      "  R2 = sqerror/sqdiff\n",
      "C:\\Users\\Miguel\\Desktop\\Furo SciAps\\simplibs-master\\core\\errors.py:90: RuntimeWarning: divide by zero encountered in true_divide\n",
      "  R2 = sqerror/sqdiff\n",
      "C:\\Users\\Miguel\\Desktop\\Furo SciAps\\simplibs-master\\core\\errors.py:90: RuntimeWarning: divide by zero encountered in double_scalars\n",
      "  R2 = sqerror/sqdiff\n",
      "C:\\Users\\Miguel\\Desktop\\Furo SciAps\\simplibs-master\\core\\errors.py:90: RuntimeWarning: divide by zero encountered in double_scalars\n",
      "  R2 = sqerror/sqdiff\n",
      "C:\\Users\\Miguel\\Desktop\\Furo SciAps\\simplibs-master\\core\\errors.py:90: RuntimeWarning: divide by zero encountered in double_scalars\n",
      "  R2 = sqerror/sqdiff\n",
      "C:\\Users\\Miguel\\Desktop\\Furo SciAps\\simplibs-master\\core\\errors.py:90: RuntimeWarning: divide by zero encountered in double_scalars\n",
      "  R2 = sqerror/sqdiff\n",
      "C:\\Users\\Miguel\\Desktop\\Furo SciAps\\simplibs-master\\core\\errors.py:90: RuntimeWarning: divide by zero encountered in true_divide\n",
      "  R2 = sqerror/sqdiff\n",
      "C:\\Users\\Miguel\\Desktop\\Furo SciAps\\simplibs-master\\core\\errors.py:90: RuntimeWarning: divide by zero encountered in double_scalars\n",
      "  R2 = sqerror/sqdiff\n",
      "C:\\Users\\Miguel\\Desktop\\Furo SciAps\\simplibs-master\\core\\errors.py:90: RuntimeWarning: divide by zero encountered in double_scalars\n",
      "  R2 = sqerror/sqdiff\n",
      "C:\\Users\\Miguel\\Desktop\\Furo SciAps\\simplibs-master\\core\\errors.py:90: RuntimeWarning: divide by zero encountered in double_scalars\n",
      "  R2 = sqerror/sqdiff\n",
      "C:\\Users\\Miguel\\Desktop\\Furo SciAps\\simplibs-master\\core\\errors.py:90: RuntimeWarning: divide by zero encountered in double_scalars\n",
      "  R2 = sqerror/sqdiff\n",
      "C:\\Users\\Miguel\\Desktop\\Furo SciAps\\simplibs-master\\core\\errors.py:90: RuntimeWarning: divide by zero encountered in true_divide\n",
      "  R2 = sqerror/sqdiff\n",
      "C:\\Users\\Miguel\\Desktop\\Furo SciAps\\simplibs-master\\core\\errors.py:90: RuntimeWarning: divide by zero encountered in double_scalars\n",
      "  R2 = sqerror/sqdiff\n",
      "C:\\Users\\Miguel\\Desktop\\Furo SciAps\\simplibs-master\\core\\errors.py:90: RuntimeWarning: divide by zero encountered in double_scalars\n",
      "  R2 = sqerror/sqdiff\n",
      "C:\\Users\\Miguel\\Desktop\\Furo SciAps\\simplibs-master\\core\\errors.py:90: RuntimeWarning: divide by zero encountered in double_scalars\n",
      "  R2 = sqerror/sqdiff\n",
      "C:\\Users\\Miguel\\Desktop\\Furo SciAps\\simplibs-master\\core\\errors.py:90: RuntimeWarning: divide by zero encountered in double_scalars\n",
      "  R2 = sqerror/sqdiff\n",
      "C:\\Users\\Miguel\\Desktop\\Furo SciAps\\simplibs-master\\core\\errors.py:90: RuntimeWarning: divide by zero encountered in true_divide\n",
      "  R2 = sqerror/sqdiff\n",
      "C:\\Users\\Miguel\\Desktop\\Furo SciAps\\simplibs-master\\core\\errors.py:90: RuntimeWarning: divide by zero encountered in double_scalars\n",
      "  R2 = sqerror/sqdiff\n",
      "C:\\Users\\Miguel\\Desktop\\Furo SciAps\\simplibs-master\\core\\errors.py:90: RuntimeWarning: divide by zero encountered in double_scalars\n",
      "  R2 = sqerror/sqdiff\n",
      "C:\\Users\\Miguel\\Desktop\\Furo SciAps\\simplibs-master\\core\\errors.py:90: RuntimeWarning: divide by zero encountered in double_scalars\n",
      "  R2 = sqerror/sqdiff\n",
      "C:\\Users\\Miguel\\Desktop\\Furo SciAps\\simplibs-master\\core\\errors.py:90: RuntimeWarning: divide by zero encountered in double_scalars\n",
      "  R2 = sqerror/sqdiff\n",
      "C:\\Users\\Miguel\\Desktop\\Furo SciAps\\simplibs-master\\core\\errors.py:90: RuntimeWarning: divide by zero encountered in true_divide\n",
      "  R2 = sqerror/sqdiff\n",
      "C:\\Users\\Miguel\\Desktop\\Furo SciAps\\simplibs-master\\core\\errors.py:90: RuntimeWarning: divide by zero encountered in double_scalars\n",
      "  R2 = sqerror/sqdiff\n",
      "C:\\Users\\Miguel\\Desktop\\Furo SciAps\\simplibs-master\\core\\errors.py:90: RuntimeWarning: divide by zero encountered in double_scalars\n",
      "  R2 = sqerror/sqdiff\n",
      "C:\\Users\\Miguel\\Desktop\\Furo SciAps\\simplibs-master\\core\\errors.py:90: RuntimeWarning: divide by zero encountered in double_scalars\n",
      "  R2 = sqerror/sqdiff\n",
      "C:\\Users\\Miguel\\Desktop\\Furo SciAps\\simplibs-master\\core\\errors.py:90: RuntimeWarning: divide by zero encountered in double_scalars\n",
      "  R2 = sqerror/sqdiff\n",
      "C:\\Users\\Miguel\\Desktop\\Furo SciAps\\simplibs-master\\core\\errors.py:90: RuntimeWarning: divide by zero encountered in true_divide\n",
      "  R2 = sqerror/sqdiff\n",
      "C:\\Users\\Miguel\\Desktop\\Furo SciAps\\simplibs-master\\core\\errors.py:90: RuntimeWarning: divide by zero encountered in double_scalars\n",
      "  R2 = sqerror/sqdiff\n",
      "C:\\Users\\Miguel\\Desktop\\Furo SciAps\\simplibs-master\\core\\errors.py:90: RuntimeWarning: divide by zero encountered in double_scalars\n",
      "  R2 = sqerror/sqdiff\n",
      "C:\\Users\\Miguel\\Desktop\\Furo SciAps\\simplibs-master\\core\\errors.py:90: RuntimeWarning: divide by zero encountered in double_scalars\n",
      "  R2 = sqerror/sqdiff\n",
      "C:\\Users\\Miguel\\Desktop\\Furo SciAps\\simplibs-master\\core\\errors.py:90: RuntimeWarning: divide by zero encountered in double_scalars\n",
      "  R2 = sqerror/sqdiff\n",
      "C:\\Users\\Miguel\\Desktop\\Furo SciAps\\simplibs-master\\core\\errors.py:90: RuntimeWarning: divide by zero encountered in true_divide\n",
      "  R2 = sqerror/sqdiff\n",
      "C:\\Users\\Miguel\\Desktop\\Furo SciAps\\simplibs-master\\core\\errors.py:90: RuntimeWarning: divide by zero encountered in double_scalars\n",
      "  R2 = sqerror/sqdiff\n"
     ]
    },
    {
     "name": "stderr",
     "output_type": "stream",
     "text": [
      "C:\\Users\\Miguel\\Desktop\\Furo SciAps\\simplibs-master\\core\\errors.py:90: RuntimeWarning: divide by zero encountered in double_scalars\n",
      "  R2 = sqerror/sqdiff\n",
      "C:\\Users\\Miguel\\Desktop\\Furo SciAps\\simplibs-master\\core\\errors.py:90: RuntimeWarning: divide by zero encountered in double_scalars\n",
      "  R2 = sqerror/sqdiff\n",
      "C:\\Users\\Miguel\\Desktop\\Furo SciAps\\simplibs-master\\core\\errors.py:90: RuntimeWarning: divide by zero encountered in double_scalars\n",
      "  R2 = sqerror/sqdiff\n",
      "C:\\Users\\Miguel\\Desktop\\Furo SciAps\\simplibs-master\\core\\errors.py:90: RuntimeWarning: divide by zero encountered in true_divide\n",
      "  R2 = sqerror/sqdiff\n",
      "C:\\Users\\Miguel\\Desktop\\Furo SciAps\\simplibs-master\\core\\errors.py:90: RuntimeWarning: divide by zero encountered in double_scalars\n",
      "  R2 = sqerror/sqdiff\n",
      "C:\\Users\\Miguel\\Desktop\\Furo SciAps\\simplibs-master\\core\\errors.py:90: RuntimeWarning: divide by zero encountered in double_scalars\n",
      "  R2 = sqerror/sqdiff\n",
      "C:\\Users\\Miguel\\Desktop\\Furo SciAps\\simplibs-master\\core\\errors.py:90: RuntimeWarning: divide by zero encountered in double_scalars\n",
      "  R2 = sqerror/sqdiff\n",
      "C:\\Users\\Miguel\\Desktop\\Furo SciAps\\simplibs-master\\core\\errors.py:90: RuntimeWarning: divide by zero encountered in double_scalars\n",
      "  R2 = sqerror/sqdiff\n",
      "C:\\Users\\Miguel\\Desktop\\Furo SciAps\\simplibs-master\\core\\errors.py:90: RuntimeWarning: divide by zero encountered in true_divide\n",
      "  R2 = sqerror/sqdiff\n",
      "C:\\Users\\Miguel\\Desktop\\Furo SciAps\\simplibs-master\\core\\errors.py:90: RuntimeWarning: divide by zero encountered in double_scalars\n",
      "  R2 = sqerror/sqdiff\n",
      "C:\\Users\\Miguel\\Desktop\\Furo SciAps\\simplibs-master\\core\\errors.py:90: RuntimeWarning: divide by zero encountered in double_scalars\n",
      "  R2 = sqerror/sqdiff\n",
      "C:\\Users\\Miguel\\Desktop\\Furo SciAps\\simplibs-master\\core\\errors.py:90: RuntimeWarning: divide by zero encountered in double_scalars\n",
      "  R2 = sqerror/sqdiff\n",
      "C:\\Users\\Miguel\\Desktop\\Furo SciAps\\simplibs-master\\core\\errors.py:90: RuntimeWarning: divide by zero encountered in double_scalars\n",
      "  R2 = sqerror/sqdiff\n",
      "C:\\Users\\Miguel\\Desktop\\Furo SciAps\\simplibs-master\\core\\errors.py:90: RuntimeWarning: divide by zero encountered in true_divide\n",
      "  R2 = sqerror/sqdiff\n",
      "C:\\Users\\Miguel\\Desktop\\Furo SciAps\\simplibs-master\\core\\errors.py:90: RuntimeWarning: divide by zero encountered in double_scalars\n",
      "  R2 = sqerror/sqdiff\n",
      "C:\\Users\\Miguel\\Desktop\\Furo SciAps\\simplibs-master\\core\\errors.py:90: RuntimeWarning: divide by zero encountered in double_scalars\n",
      "  R2 = sqerror/sqdiff\n",
      "C:\\Users\\Miguel\\Desktop\\Furo SciAps\\simplibs-master\\core\\errors.py:90: RuntimeWarning: divide by zero encountered in double_scalars\n",
      "  R2 = sqerror/sqdiff\n",
      "C:\\Users\\Miguel\\Desktop\\Furo SciAps\\simplibs-master\\core\\errors.py:90: RuntimeWarning: divide by zero encountered in double_scalars\n",
      "  R2 = sqerror/sqdiff\n",
      "C:\\Users\\Miguel\\Desktop\\Furo SciAps\\simplibs-master\\core\\errors.py:90: RuntimeWarning: divide by zero encountered in true_divide\n",
      "  R2 = sqerror/sqdiff\n",
      "C:\\Users\\Miguel\\Desktop\\Furo SciAps\\simplibs-master\\core\\errors.py:90: RuntimeWarning: divide by zero encountered in double_scalars\n",
      "  R2 = sqerror/sqdiff\n",
      "C:\\Users\\Miguel\\Desktop\\Furo SciAps\\simplibs-master\\core\\errors.py:90: RuntimeWarning: divide by zero encountered in double_scalars\n",
      "  R2 = sqerror/sqdiff\n",
      "C:\\Users\\Miguel\\Desktop\\Furo SciAps\\simplibs-master\\core\\errors.py:90: RuntimeWarning: divide by zero encountered in double_scalars\n",
      "  R2 = sqerror/sqdiff\n",
      "C:\\Users\\Miguel\\Desktop\\Furo SciAps\\simplibs-master\\core\\errors.py:90: RuntimeWarning: divide by zero encountered in double_scalars\n",
      "  R2 = sqerror/sqdiff\n",
      "C:\\Users\\Miguel\\Desktop\\Furo SciAps\\simplibs-master\\core\\errors.py:90: RuntimeWarning: divide by zero encountered in true_divide\n",
      "  R2 = sqerror/sqdiff\n",
      "C:\\Users\\Miguel\\Desktop\\Furo SciAps\\simplibs-master\\core\\errors.py:90: RuntimeWarning: divide by zero encountered in double_scalars\n",
      "  R2 = sqerror/sqdiff\n",
      "C:\\Users\\Miguel\\Desktop\\Furo SciAps\\simplibs-master\\core\\errors.py:90: RuntimeWarning: divide by zero encountered in double_scalars\n",
      "  R2 = sqerror/sqdiff\n",
      "C:\\Users\\Miguel\\Desktop\\Furo SciAps\\simplibs-master\\core\\errors.py:90: RuntimeWarning: divide by zero encountered in double_scalars\n",
      "  R2 = sqerror/sqdiff\n",
      "C:\\Users\\Miguel\\Desktop\\Furo SciAps\\simplibs-master\\core\\errors.py:90: RuntimeWarning: divide by zero encountered in double_scalars\n",
      "  R2 = sqerror/sqdiff\n",
      "C:\\Users\\Miguel\\Desktop\\Furo SciAps\\simplibs-master\\core\\errors.py:90: RuntimeWarning: divide by zero encountered in true_divide\n",
      "  R2 = sqerror/sqdiff\n",
      "C:\\Users\\Miguel\\Desktop\\Furo SciAps\\simplibs-master\\core\\errors.py:90: RuntimeWarning: divide by zero encountered in double_scalars\n",
      "  R2 = sqerror/sqdiff\n",
      "C:\\Users\\Miguel\\Desktop\\Furo SciAps\\simplibs-master\\core\\errors.py:90: RuntimeWarning: divide by zero encountered in double_scalars\n",
      "  R2 = sqerror/sqdiff\n",
      "C:\\Users\\Miguel\\Desktop\\Furo SciAps\\simplibs-master\\core\\errors.py:90: RuntimeWarning: divide by zero encountered in double_scalars\n",
      "  R2 = sqerror/sqdiff\n",
      "C:\\Users\\Miguel\\Desktop\\Furo SciAps\\simplibs-master\\core\\errors.py:90: RuntimeWarning: divide by zero encountered in double_scalars\n",
      "  R2 = sqerror/sqdiff\n",
      "C:\\Users\\Miguel\\Desktop\\Furo SciAps\\simplibs-master\\core\\errors.py:90: RuntimeWarning: divide by zero encountered in true_divide\n",
      "  R2 = sqerror/sqdiff\n",
      "C:\\Users\\Miguel\\Desktop\\Furo SciAps\\simplibs-master\\core\\errors.py:90: RuntimeWarning: divide by zero encountered in double_scalars\n",
      "  R2 = sqerror/sqdiff\n",
      "C:\\Users\\Miguel\\Desktop\\Furo SciAps\\simplibs-master\\core\\errors.py:90: RuntimeWarning: divide by zero encountered in double_scalars\n",
      "  R2 = sqerror/sqdiff\n",
      "C:\\Users\\Miguel\\Desktop\\Furo SciAps\\simplibs-master\\core\\errors.py:90: RuntimeWarning: divide by zero encountered in double_scalars\n",
      "  R2 = sqerror/sqdiff\n",
      "C:\\Users\\Miguel\\Desktop\\Furo SciAps\\simplibs-master\\core\\errors.py:90: RuntimeWarning: divide by zero encountered in double_scalars\n",
      "  R2 = sqerror/sqdiff\n",
      "C:\\Users\\Miguel\\Desktop\\Furo SciAps\\simplibs-master\\core\\errors.py:90: RuntimeWarning: divide by zero encountered in true_divide\n",
      "  R2 = sqerror/sqdiff\n",
      "C:\\Users\\Miguel\\Desktop\\Furo SciAps\\simplibs-master\\core\\errors.py:90: RuntimeWarning: divide by zero encountered in double_scalars\n",
      "  R2 = sqerror/sqdiff\n",
      "C:\\Users\\Miguel\\Desktop\\Furo SciAps\\simplibs-master\\core\\errors.py:90: RuntimeWarning: divide by zero encountered in double_scalars\n",
      "  R2 = sqerror/sqdiff\n",
      "C:\\Users\\Miguel\\Desktop\\Furo SciAps\\simplibs-master\\core\\errors.py:90: RuntimeWarning: divide by zero encountered in double_scalars\n",
      "  R2 = sqerror/sqdiff\n",
      "C:\\Users\\Miguel\\Desktop\\Furo SciAps\\simplibs-master\\core\\errors.py:90: RuntimeWarning: divide by zero encountered in double_scalars\n",
      "  R2 = sqerror/sqdiff\n",
      "C:\\Users\\Miguel\\Desktop\\Furo SciAps\\simplibs-master\\core\\errors.py:90: RuntimeWarning: divide by zero encountered in true_divide\n",
      "  R2 = sqerror/sqdiff\n",
      "C:\\Users\\Miguel\\Desktop\\Furo SciAps\\simplibs-master\\core\\errors.py:90: RuntimeWarning: divide by zero encountered in double_scalars\n",
      "  R2 = sqerror/sqdiff\n",
      "C:\\Users\\Miguel\\Desktop\\Furo SciAps\\simplibs-master\\core\\errors.py:90: RuntimeWarning: divide by zero encountered in double_scalars\n",
      "  R2 = sqerror/sqdiff\n",
      "C:\\Users\\Miguel\\Desktop\\Furo SciAps\\simplibs-master\\core\\errors.py:90: RuntimeWarning: divide by zero encountered in double_scalars\n",
      "  R2 = sqerror/sqdiff\n",
      "C:\\Users\\Miguel\\Desktop\\Furo SciAps\\simplibs-master\\core\\errors.py:90: RuntimeWarning: divide by zero encountered in double_scalars\n",
      "  R2 = sqerror/sqdiff\n",
      "C:\\Users\\Miguel\\Desktop\\Furo SciAps\\simplibs-master\\core\\errors.py:90: RuntimeWarning: divide by zero encountered in true_divide\n",
      "  R2 = sqerror/sqdiff\n",
      "C:\\Users\\Miguel\\Desktop\\Furo SciAps\\simplibs-master\\core\\errors.py:90: RuntimeWarning: divide by zero encountered in double_scalars\n",
      "  R2 = sqerror/sqdiff\n",
      "C:\\Users\\Miguel\\Desktop\\Furo SciAps\\simplibs-master\\core\\errors.py:90: RuntimeWarning: divide by zero encountered in double_scalars\n",
      "  R2 = sqerror/sqdiff\n",
      "C:\\Users\\Miguel\\Desktop\\Furo SciAps\\simplibs-master\\core\\errors.py:90: RuntimeWarning: divide by zero encountered in double_scalars\n",
      "  R2 = sqerror/sqdiff\n",
      "C:\\Users\\Miguel\\Desktop\\Furo SciAps\\simplibs-master\\core\\errors.py:90: RuntimeWarning: divide by zero encountered in double_scalars\n",
      "  R2 = sqerror/sqdiff\n",
      "C:\\Users\\Miguel\\Desktop\\Furo SciAps\\simplibs-master\\core\\errors.py:90: RuntimeWarning: divide by zero encountered in true_divide\n",
      "  R2 = sqerror/sqdiff\n"
     ]
    },
    {
     "name": "stderr",
     "output_type": "stream",
     "text": [
      "C:\\Users\\Miguel\\Desktop\\Furo SciAps\\simplibs-master\\core\\errors.py:90: RuntimeWarning: divide by zero encountered in double_scalars\n",
      "  R2 = sqerror/sqdiff\n",
      "C:\\Users\\Miguel\\Desktop\\Furo SciAps\\simplibs-master\\core\\errors.py:90: RuntimeWarning: divide by zero encountered in double_scalars\n",
      "  R2 = sqerror/sqdiff\n",
      "C:\\Users\\Miguel\\Desktop\\Furo SciAps\\simplibs-master\\core\\errors.py:90: RuntimeWarning: divide by zero encountered in double_scalars\n",
      "  R2 = sqerror/sqdiff\n",
      "C:\\Users\\Miguel\\Desktop\\Furo SciAps\\simplibs-master\\core\\errors.py:90: RuntimeWarning: divide by zero encountered in double_scalars\n",
      "  R2 = sqerror/sqdiff\n",
      "C:\\Users\\Miguel\\Desktop\\Furo SciAps\\simplibs-master\\core\\errors.py:90: RuntimeWarning: divide by zero encountered in true_divide\n",
      "  R2 = sqerror/sqdiff\n",
      "C:\\Users\\Miguel\\Desktop\\Furo SciAps\\simplibs-master\\core\\errors.py:90: RuntimeWarning: divide by zero encountered in double_scalars\n",
      "  R2 = sqerror/sqdiff\n",
      "C:\\Users\\Miguel\\Desktop\\Furo SciAps\\simplibs-master\\core\\errors.py:90: RuntimeWarning: divide by zero encountered in double_scalars\n",
      "  R2 = sqerror/sqdiff\n",
      "C:\\Users\\Miguel\\Desktop\\Furo SciAps\\simplibs-master\\core\\errors.py:90: RuntimeWarning: divide by zero encountered in double_scalars\n",
      "  R2 = sqerror/sqdiff\n",
      "C:\\Users\\Miguel\\Desktop\\Furo SciAps\\simplibs-master\\core\\errors.py:90: RuntimeWarning: divide by zero encountered in double_scalars\n",
      "  R2 = sqerror/sqdiff\n",
      "C:\\Users\\Miguel\\Desktop\\Furo SciAps\\simplibs-master\\core\\errors.py:90: RuntimeWarning: divide by zero encountered in true_divide\n",
      "  R2 = sqerror/sqdiff\n",
      "C:\\Users\\Miguel\\Desktop\\Furo SciAps\\simplibs-master\\core\\errors.py:90: RuntimeWarning: divide by zero encountered in double_scalars\n",
      "  R2 = sqerror/sqdiff\n",
      "C:\\Users\\Miguel\\Desktop\\Furo SciAps\\simplibs-master\\core\\errors.py:90: RuntimeWarning: divide by zero encountered in double_scalars\n",
      "  R2 = sqerror/sqdiff\n",
      "C:\\Users\\Miguel\\Desktop\\Furo SciAps\\simplibs-master\\core\\errors.py:90: RuntimeWarning: divide by zero encountered in double_scalars\n",
      "  R2 = sqerror/sqdiff\n",
      "C:\\Users\\Miguel\\Desktop\\Furo SciAps\\simplibs-master\\core\\errors.py:90: RuntimeWarning: divide by zero encountered in double_scalars\n",
      "  R2 = sqerror/sqdiff\n",
      "C:\\Users\\Miguel\\Desktop\\Furo SciAps\\simplibs-master\\core\\errors.py:90: RuntimeWarning: divide by zero encountered in true_divide\n",
      "  R2 = sqerror/sqdiff\n",
      "C:\\Users\\Miguel\\Desktop\\Furo SciAps\\simplibs-master\\core\\errors.py:90: RuntimeWarning: divide by zero encountered in double_scalars\n",
      "  R2 = sqerror/sqdiff\n",
      "C:\\Users\\Miguel\\Desktop\\Furo SciAps\\simplibs-master\\core\\errors.py:90: RuntimeWarning: divide by zero encountered in double_scalars\n",
      "  R2 = sqerror/sqdiff\n",
      "C:\\Users\\Miguel\\Desktop\\Furo SciAps\\simplibs-master\\core\\errors.py:90: RuntimeWarning: divide by zero encountered in double_scalars\n",
      "  R2 = sqerror/sqdiff\n",
      "C:\\Users\\Miguel\\Desktop\\Furo SciAps\\simplibs-master\\core\\errors.py:90: RuntimeWarning: divide by zero encountered in double_scalars\n",
      "  R2 = sqerror/sqdiff\n",
      "C:\\Users\\Miguel\\Desktop\\Furo SciAps\\simplibs-master\\core\\errors.py:90: RuntimeWarning: divide by zero encountered in true_divide\n",
      "  R2 = sqerror/sqdiff\n",
      "C:\\Users\\Miguel\\Desktop\\Furo SciAps\\simplibs-master\\core\\errors.py:90: RuntimeWarning: divide by zero encountered in double_scalars\n",
      "  R2 = sqerror/sqdiff\n",
      "C:\\Users\\Miguel\\Desktop\\Furo SciAps\\simplibs-master\\core\\errors.py:90: RuntimeWarning: divide by zero encountered in double_scalars\n",
      "  R2 = sqerror/sqdiff\n",
      "C:\\Users\\Miguel\\Desktop\\Furo SciAps\\simplibs-master\\core\\errors.py:90: RuntimeWarning: divide by zero encountered in double_scalars\n",
      "  R2 = sqerror/sqdiff\n",
      "C:\\Users\\Miguel\\Desktop\\Furo SciAps\\simplibs-master\\core\\errors.py:90: RuntimeWarning: divide by zero encountered in double_scalars\n",
      "  R2 = sqerror/sqdiff\n",
      "C:\\Users\\Miguel\\Desktop\\Furo SciAps\\simplibs-master\\core\\errors.py:90: RuntimeWarning: divide by zero encountered in true_divide\n",
      "  R2 = sqerror/sqdiff\n",
      "C:\\Users\\Miguel\\Desktop\\Furo SciAps\\simplibs-master\\core\\errors.py:90: RuntimeWarning: divide by zero encountered in double_scalars\n",
      "  R2 = sqerror/sqdiff\n",
      "C:\\Users\\Miguel\\Desktop\\Furo SciAps\\simplibs-master\\core\\errors.py:90: RuntimeWarning: divide by zero encountered in double_scalars\n",
      "  R2 = sqerror/sqdiff\n",
      "C:\\Users\\Miguel\\Desktop\\Furo SciAps\\simplibs-master\\core\\errors.py:90: RuntimeWarning: divide by zero encountered in double_scalars\n",
      "  R2 = sqerror/sqdiff\n",
      "C:\\Users\\Miguel\\Desktop\\Furo SciAps\\simplibs-master\\core\\errors.py:90: RuntimeWarning: divide by zero encountered in double_scalars\n",
      "  R2 = sqerror/sqdiff\n",
      "C:\\Users\\Miguel\\Desktop\\Furo SciAps\\simplibs-master\\core\\errors.py:90: RuntimeWarning: divide by zero encountered in true_divide\n",
      "  R2 = sqerror/sqdiff\n",
      "C:\\Users\\Miguel\\Desktop\\Furo SciAps\\simplibs-master\\core\\errors.py:90: RuntimeWarning: divide by zero encountered in double_scalars\n",
      "  R2 = sqerror/sqdiff\n",
      "C:\\Users\\Miguel\\Desktop\\Furo SciAps\\simplibs-master\\core\\errors.py:90: RuntimeWarning: divide by zero encountered in double_scalars\n",
      "  R2 = sqerror/sqdiff\n",
      "C:\\Users\\Miguel\\Desktop\\Furo SciAps\\simplibs-master\\core\\errors.py:90: RuntimeWarning: divide by zero encountered in double_scalars\n",
      "  R2 = sqerror/sqdiff\n",
      "C:\\Users\\Miguel\\Desktop\\Furo SciAps\\simplibs-master\\core\\errors.py:90: RuntimeWarning: divide by zero encountered in double_scalars\n",
      "  R2 = sqerror/sqdiff\n",
      "C:\\Users\\Miguel\\Desktop\\Furo SciAps\\simplibs-master\\core\\errors.py:90: RuntimeWarning: divide by zero encountered in true_divide\n",
      "  R2 = sqerror/sqdiff\n",
      "C:\\Users\\Miguel\\Desktop\\Furo SciAps\\simplibs-master\\core\\errors.py:90: RuntimeWarning: divide by zero encountered in double_scalars\n",
      "  R2 = sqerror/sqdiff\n",
      "C:\\Users\\Miguel\\Desktop\\Furo SciAps\\simplibs-master\\core\\errors.py:90: RuntimeWarning: divide by zero encountered in double_scalars\n",
      "  R2 = sqerror/sqdiff\n",
      "C:\\Users\\Miguel\\Desktop\\Furo SciAps\\simplibs-master\\core\\errors.py:90: RuntimeWarning: divide by zero encountered in double_scalars\n",
      "  R2 = sqerror/sqdiff\n",
      "C:\\Users\\Miguel\\Desktop\\Furo SciAps\\simplibs-master\\core\\errors.py:90: RuntimeWarning: divide by zero encountered in double_scalars\n",
      "  R2 = sqerror/sqdiff\n",
      "C:\\Users\\Miguel\\Desktop\\Furo SciAps\\simplibs-master\\core\\errors.py:90: RuntimeWarning: divide by zero encountered in true_divide\n",
      "  R2 = sqerror/sqdiff\n",
      "C:\\Users\\Miguel\\Desktop\\Furo SciAps\\simplibs-master\\core\\errors.py:90: RuntimeWarning: divide by zero encountered in double_scalars\n",
      "  R2 = sqerror/sqdiff\n",
      "C:\\Users\\Miguel\\Desktop\\Furo SciAps\\simplibs-master\\core\\errors.py:90: RuntimeWarning: divide by zero encountered in double_scalars\n",
      "  R2 = sqerror/sqdiff\n",
      "C:\\Users\\Miguel\\Desktop\\Furo SciAps\\simplibs-master\\core\\errors.py:90: RuntimeWarning: divide by zero encountered in double_scalars\n",
      "  R2 = sqerror/sqdiff\n",
      "C:\\Users\\Miguel\\Desktop\\Furo SciAps\\simplibs-master\\core\\errors.py:90: RuntimeWarning: divide by zero encountered in double_scalars\n",
      "  R2 = sqerror/sqdiff\n",
      "C:\\Users\\Miguel\\Desktop\\Furo SciAps\\simplibs-master\\core\\errors.py:90: RuntimeWarning: divide by zero encountered in true_divide\n",
      "  R2 = sqerror/sqdiff\n",
      "C:\\Users\\Miguel\\Desktop\\Furo SciAps\\simplibs-master\\core\\errors.py:90: RuntimeWarning: divide by zero encountered in double_scalars\n",
      "  R2 = sqerror/sqdiff\n",
      "C:\\Users\\Miguel\\Desktop\\Furo SciAps\\simplibs-master\\core\\errors.py:90: RuntimeWarning: divide by zero encountered in double_scalars\n",
      "  R2 = sqerror/sqdiff\n",
      "C:\\Users\\Miguel\\Desktop\\Furo SciAps\\simplibs-master\\core\\errors.py:90: RuntimeWarning: divide by zero encountered in double_scalars\n",
      "  R2 = sqerror/sqdiff\n",
      "C:\\Users\\Miguel\\Desktop\\Furo SciAps\\simplibs-master\\core\\errors.py:90: RuntimeWarning: divide by zero encountered in double_scalars\n",
      "  R2 = sqerror/sqdiff\n",
      "C:\\Users\\Miguel\\Desktop\\Furo SciAps\\simplibs-master\\core\\errors.py:90: RuntimeWarning: divide by zero encountered in true_divide\n",
      "  R2 = sqerror/sqdiff\n",
      "C:\\Users\\Miguel\\Desktop\\Furo SciAps\\simplibs-master\\core\\errors.py:90: RuntimeWarning: divide by zero encountered in double_scalars\n",
      "  R2 = sqerror/sqdiff\n",
      "C:\\Users\\Miguel\\Desktop\\Furo SciAps\\simplibs-master\\core\\errors.py:90: RuntimeWarning: divide by zero encountered in double_scalars\n",
      "  R2 = sqerror/sqdiff\n",
      "C:\\Users\\Miguel\\Desktop\\Furo SciAps\\simplibs-master\\core\\errors.py:90: RuntimeWarning: divide by zero encountered in double_scalars\n",
      "  R2 = sqerror/sqdiff\n",
      "C:\\Users\\Miguel\\Desktop\\Furo SciAps\\simplibs-master\\core\\errors.py:90: RuntimeWarning: divide by zero encountered in double_scalars\n",
      "  R2 = sqerror/sqdiff\n",
      "C:\\Users\\Miguel\\Desktop\\Furo SciAps\\simplibs-master\\core\\errors.py:90: RuntimeWarning: divide by zero encountered in true_divide\n",
      "  R2 = sqerror/sqdiff\n",
      "C:\\Users\\Miguel\\Desktop\\Furo SciAps\\simplibs-master\\core\\errors.py:90: RuntimeWarning: divide by zero encountered in double_scalars\n",
      "  R2 = sqerror/sqdiff\n"
     ]
    },
    {
     "name": "stderr",
     "output_type": "stream",
     "text": [
      "C:\\Users\\Miguel\\Desktop\\Furo SciAps\\simplibs-master\\core\\errors.py:90: RuntimeWarning: divide by zero encountered in double_scalars\n",
      "  R2 = sqerror/sqdiff\n",
      "C:\\Users\\Miguel\\Desktop\\Furo SciAps\\simplibs-master\\core\\errors.py:90: RuntimeWarning: divide by zero encountered in double_scalars\n",
      "  R2 = sqerror/sqdiff\n",
      "C:\\Users\\Miguel\\Desktop\\Furo SciAps\\simplibs-master\\core\\errors.py:90: RuntimeWarning: divide by zero encountered in double_scalars\n",
      "  R2 = sqerror/sqdiff\n",
      "C:\\Users\\Miguel\\Desktop\\Furo SciAps\\simplibs-master\\core\\errors.py:90: RuntimeWarning: divide by zero encountered in true_divide\n",
      "  R2 = sqerror/sqdiff\n",
      "C:\\Users\\Miguel\\Desktop\\Furo SciAps\\simplibs-master\\core\\errors.py:90: RuntimeWarning: divide by zero encountered in double_scalars\n",
      "  R2 = sqerror/sqdiff\n",
      "C:\\Users\\Miguel\\Desktop\\Furo SciAps\\simplibs-master\\core\\errors.py:90: RuntimeWarning: divide by zero encountered in double_scalars\n",
      "  R2 = sqerror/sqdiff\n",
      "C:\\Users\\Miguel\\Desktop\\Furo SciAps\\simplibs-master\\core\\errors.py:90: RuntimeWarning: divide by zero encountered in double_scalars\n",
      "  R2 = sqerror/sqdiff\n",
      "C:\\Users\\Miguel\\Desktop\\Furo SciAps\\simplibs-master\\core\\errors.py:90: RuntimeWarning: divide by zero encountered in double_scalars\n",
      "  R2 = sqerror/sqdiff\n",
      "C:\\Users\\Miguel\\Desktop\\Furo SciAps\\simplibs-master\\core\\errors.py:90: RuntimeWarning: divide by zero encountered in true_divide\n",
      "  R2 = sqerror/sqdiff\n",
      "C:\\Users\\Miguel\\Desktop\\Furo SciAps\\simplibs-master\\core\\errors.py:90: RuntimeWarning: divide by zero encountered in double_scalars\n",
      "  R2 = sqerror/sqdiff\n",
      "C:\\Users\\Miguel\\Desktop\\Furo SciAps\\simplibs-master\\core\\errors.py:90: RuntimeWarning: divide by zero encountered in double_scalars\n",
      "  R2 = sqerror/sqdiff\n",
      "C:\\Users\\Miguel\\Desktop\\Furo SciAps\\simplibs-master\\core\\errors.py:90: RuntimeWarning: divide by zero encountered in double_scalars\n",
      "  R2 = sqerror/sqdiff\n",
      "C:\\Users\\Miguel\\Desktop\\Furo SciAps\\simplibs-master\\core\\errors.py:90: RuntimeWarning: divide by zero encountered in double_scalars\n",
      "  R2 = sqerror/sqdiff\n",
      "C:\\Users\\Miguel\\Desktop\\Furo SciAps\\simplibs-master\\core\\errors.py:90: RuntimeWarning: divide by zero encountered in true_divide\n",
      "  R2 = sqerror/sqdiff\n",
      "C:\\Users\\Miguel\\Desktop\\Furo SciAps\\simplibs-master\\core\\errors.py:90: RuntimeWarning: divide by zero encountered in double_scalars\n",
      "  R2 = sqerror/sqdiff\n",
      "C:\\Users\\Miguel\\Desktop\\Furo SciAps\\simplibs-master\\core\\errors.py:90: RuntimeWarning: divide by zero encountered in double_scalars\n",
      "  R2 = sqerror/sqdiff\n",
      "C:\\Users\\Miguel\\Desktop\\Furo SciAps\\simplibs-master\\core\\errors.py:90: RuntimeWarning: divide by zero encountered in double_scalars\n",
      "  R2 = sqerror/sqdiff\n",
      "C:\\Users\\Miguel\\Desktop\\Furo SciAps\\simplibs-master\\core\\errors.py:90: RuntimeWarning: divide by zero encountered in double_scalars\n",
      "  R2 = sqerror/sqdiff\n",
      "C:\\Users\\Miguel\\Desktop\\Furo SciAps\\simplibs-master\\core\\errors.py:90: RuntimeWarning: divide by zero encountered in true_divide\n",
      "  R2 = sqerror/sqdiff\n",
      "C:\\Users\\Miguel\\Desktop\\Furo SciAps\\simplibs-master\\core\\errors.py:90: RuntimeWarning: divide by zero encountered in double_scalars\n",
      "  R2 = sqerror/sqdiff\n",
      "C:\\Users\\Miguel\\Desktop\\Furo SciAps\\simplibs-master\\core\\errors.py:90: RuntimeWarning: divide by zero encountered in double_scalars\n",
      "  R2 = sqerror/sqdiff\n",
      "C:\\Users\\Miguel\\Desktop\\Furo SciAps\\simplibs-master\\core\\errors.py:90: RuntimeWarning: divide by zero encountered in double_scalars\n",
      "  R2 = sqerror/sqdiff\n",
      "C:\\Users\\Miguel\\Desktop\\Furo SciAps\\simplibs-master\\core\\errors.py:90: RuntimeWarning: divide by zero encountered in double_scalars\n",
      "  R2 = sqerror/sqdiff\n",
      "C:\\Users\\Miguel\\Desktop\\Furo SciAps\\simplibs-master\\core\\errors.py:90: RuntimeWarning: divide by zero encountered in true_divide\n",
      "  R2 = sqerror/sqdiff\n",
      "C:\\Users\\Miguel\\Desktop\\Furo SciAps\\simplibs-master\\core\\errors.py:90: RuntimeWarning: divide by zero encountered in double_scalars\n",
      "  R2 = sqerror/sqdiff\n",
      "C:\\Users\\Miguel\\Desktop\\Furo SciAps\\simplibs-master\\core\\errors.py:90: RuntimeWarning: divide by zero encountered in double_scalars\n",
      "  R2 = sqerror/sqdiff\n",
      "C:\\Users\\Miguel\\Desktop\\Furo SciAps\\simplibs-master\\core\\errors.py:90: RuntimeWarning: divide by zero encountered in double_scalars\n",
      "  R2 = sqerror/sqdiff\n",
      "C:\\Users\\Miguel\\Desktop\\Furo SciAps\\simplibs-master\\core\\errors.py:90: RuntimeWarning: divide by zero encountered in double_scalars\n",
      "  R2 = sqerror/sqdiff\n",
      "C:\\Users\\Miguel\\Desktop\\Furo SciAps\\simplibs-master\\core\\errors.py:90: RuntimeWarning: divide by zero encountered in true_divide\n",
      "  R2 = sqerror/sqdiff\n",
      "C:\\Users\\Miguel\\Desktop\\Furo SciAps\\simplibs-master\\core\\errors.py:90: RuntimeWarning: divide by zero encountered in double_scalars\n",
      "  R2 = sqerror/sqdiff\n",
      "C:\\Users\\Miguel\\Desktop\\Furo SciAps\\simplibs-master\\core\\errors.py:90: RuntimeWarning: divide by zero encountered in double_scalars\n",
      "  R2 = sqerror/sqdiff\n",
      "C:\\Users\\Miguel\\Desktop\\Furo SciAps\\simplibs-master\\core\\errors.py:90: RuntimeWarning: divide by zero encountered in double_scalars\n",
      "  R2 = sqerror/sqdiff\n",
      "C:\\Users\\Miguel\\Desktop\\Furo SciAps\\simplibs-master\\core\\errors.py:90: RuntimeWarning: divide by zero encountered in double_scalars\n",
      "  R2 = sqerror/sqdiff\n",
      "C:\\Users\\Miguel\\Desktop\\Furo SciAps\\simplibs-master\\core\\errors.py:90: RuntimeWarning: divide by zero encountered in true_divide\n",
      "  R2 = sqerror/sqdiff\n",
      "C:\\Users\\Miguel\\Desktop\\Furo SciAps\\simplibs-master\\core\\errors.py:90: RuntimeWarning: divide by zero encountered in double_scalars\n",
      "  R2 = sqerror/sqdiff\n",
      "C:\\Users\\Miguel\\Desktop\\Furo SciAps\\simplibs-master\\core\\errors.py:90: RuntimeWarning: divide by zero encountered in double_scalars\n",
      "  R2 = sqerror/sqdiff\n",
      "C:\\Users\\Miguel\\Desktop\\Furo SciAps\\simplibs-master\\core\\errors.py:90: RuntimeWarning: divide by zero encountered in double_scalars\n",
      "  R2 = sqerror/sqdiff\n",
      "C:\\Users\\Miguel\\Desktop\\Furo SciAps\\simplibs-master\\core\\errors.py:90: RuntimeWarning: divide by zero encountered in double_scalars\n",
      "  R2 = sqerror/sqdiff\n",
      "C:\\Users\\Miguel\\Desktop\\Furo SciAps\\simplibs-master\\core\\errors.py:90: RuntimeWarning: divide by zero encountered in true_divide\n",
      "  R2 = sqerror/sqdiff\n",
      "C:\\Users\\Miguel\\Desktop\\Furo SciAps\\simplibs-master\\core\\errors.py:90: RuntimeWarning: divide by zero encountered in double_scalars\n",
      "  R2 = sqerror/sqdiff\n",
      "C:\\Users\\Miguel\\Desktop\\Furo SciAps\\simplibs-master\\core\\errors.py:90: RuntimeWarning: divide by zero encountered in double_scalars\n",
      "  R2 = sqerror/sqdiff\n",
      "C:\\Users\\Miguel\\Desktop\\Furo SciAps\\simplibs-master\\core\\errors.py:90: RuntimeWarning: divide by zero encountered in double_scalars\n",
      "  R2 = sqerror/sqdiff\n",
      "C:\\Users\\Miguel\\Desktop\\Furo SciAps\\simplibs-master\\core\\errors.py:90: RuntimeWarning: divide by zero encountered in double_scalars\n",
      "  R2 = sqerror/sqdiff\n",
      "C:\\Users\\Miguel\\Desktop\\Furo SciAps\\simplibs-master\\core\\errors.py:90: RuntimeWarning: divide by zero encountered in true_divide\n",
      "  R2 = sqerror/sqdiff\n",
      "C:\\Users\\Miguel\\Desktop\\Furo SciAps\\simplibs-master\\core\\errors.py:90: RuntimeWarning: divide by zero encountered in double_scalars\n",
      "  R2 = sqerror/sqdiff\n",
      "C:\\Users\\Miguel\\Desktop\\Furo SciAps\\simplibs-master\\core\\errors.py:90: RuntimeWarning: divide by zero encountered in double_scalars\n",
      "  R2 = sqerror/sqdiff\n",
      "C:\\Users\\Miguel\\Desktop\\Furo SciAps\\simplibs-master\\core\\errors.py:90: RuntimeWarning: divide by zero encountered in double_scalars\n",
      "  R2 = sqerror/sqdiff\n",
      "C:\\Users\\Miguel\\Desktop\\Furo SciAps\\simplibs-master\\core\\errors.py:90: RuntimeWarning: divide by zero encountered in double_scalars\n",
      "  R2 = sqerror/sqdiff\n",
      "C:\\Users\\Miguel\\Desktop\\Furo SciAps\\simplibs-master\\core\\errors.py:90: RuntimeWarning: divide by zero encountered in true_divide\n",
      "  R2 = sqerror/sqdiff\n"
     ]
    },
    {
     "data": {
      "text/plain": [
       "'\\nsubplot()\\n    \\nplot(y_list, y_list_train, \"x\")\\n\\nplot(y_list, y_list_test, \"o\")\\n'"
      ]
     },
     "execution_count": 59,
     "metadata": {},
     "output_type": "execute_result"
    }
   ],
   "source": [
    "data_train = []\n",
    "data_test = []\n",
    "\n",
    "y_list_train = []\n",
    "y_list_test0 = []\n",
    "y_list_test1 = []\n",
    "y_list_test2 = []\n",
    "y_list_test3 = []\n",
    "y_list_test4 = []\n",
    "\n",
    "y_list = []\n",
    "\n",
    "for j in range(len(data_lists)):\n",
    "    #print(len(data_lists[j][0]),len(data_lists[j][1]),len(data_lists[j][2]),len(data_lists[j][3]))\n",
    "    d_train, d_test, y_l_train, y_l_test = test_all_models(data_lists[j][0], data_lists[j][1], np.array(data_lists[j][2]),\n",
    "                                          data_lists[j][3], models = models_tested[:5], parameters = parameters)\n",
    "    data_train.append(d_train)\n",
    "    data_test.append(d_test)\n",
    "    \n",
    "    y_list_train.append(y_l_train)\n",
    "    y_list_test0.append(y_l_test[0])\n",
    "    y_list_test1.append(y_l_test[1])\n",
    "    y_list_test2.append(y_l_test[2])\n",
    "    y_list_test3.append(y_l_test[3])\n",
    "    y_list_test4.append(y_l_test[4])\n",
    "    \n",
    "    y_list.append(data_lists[j][3])\n",
    "    \n",
    "#print(y_list_train)\n",
    "    \n",
    "\"\"\"\n",
    "subplot()\n",
    "    \n",
    "plot(y_list, y_list_train, \"x\")\n",
    "\n",
    "plot(y_list, y_list_test, \"o\")\n",
    "\"\"\""
   ]
  },
  {
   "cell_type": "code",
   "execution_count": 60,
   "metadata": {},
   "outputs": [
    {
     "name": "stderr",
     "output_type": "stream",
     "text": [
      "C:\\Users\\Miguel\\Anaconda3\\lib\\site-packages\\ipykernel_launcher.py:1: RuntimeWarning: More than 20 figures have been opened. Figures created through the pyplot interface (`matplotlib.pyplot.figure`) are retained until explicitly closed and may consume too much memory. (To control this warning, see the rcParam `figure.max_open_warning`).\n",
      "  \"\"\"Entry point for launching an IPython kernel.\n"
     ]
    },
    {
     "data": {
      "application/vnd.jupyter.widget-view+json": {
       "model_id": "396c5d1e70224186ad976f03f172b655",
       "version_major": 2,
       "version_minor": 0
      },
      "text/plain": [
       "Canvas(toolbar=Toolbar(toolitems=[('Home', 'Reset original view', 'home', 'home'), ('Back', 'Back to previous …"
      ]
     },
     "metadata": {},
     "output_type": "display_data"
    },
    {
     "data": {
      "text/plain": [
       "[<matplotlib.lines.Line2D at 0x27c34c71808>]"
      ]
     },
     "execution_count": 60,
     "metadata": {},
     "output_type": "execute_result"
    }
   ],
   "source": [
    "subplots()\n",
    "\n",
    "plot(y_list,y_list_test2, \"x\")"
   ]
  },
  {
   "cell_type": "code",
   "execution_count": null,
   "metadata": {},
   "outputs": [],
   "source": []
  }
 ],
 "metadata": {
  "kernelspec": {
   "display_name": "Python 3",
   "language": "python",
   "name": "python3"
  },
  "language_info": {
   "codemirror_mode": {
    "name": "ipython",
    "version": 3
   },
   "file_extension": ".py",
   "mimetype": "text/x-python",
   "name": "python",
   "nbconvert_exporter": "python",
   "pygments_lexer": "ipython3",
   "version": "3.7.4"
  }
 },
 "nbformat": 4,
 "nbformat_minor": 4
}

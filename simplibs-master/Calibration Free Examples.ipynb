{
 "cells": [
  {
   "cell_type": "markdown",
   "metadata": {},
   "source": [
    "# Calibration Free Example"
   ]
  },
  {
   "cell_type": "code",
   "execution_count": 2,
   "metadata": {},
   "outputs": [],
   "source": [
    "%matplotlib widget\n",
    "from core.experiment import *"
   ]
  },
  {
   "cell_type": "markdown",
   "metadata": {},
   "source": [
    "# Example 1"
   ]
  },
  {
   "cell_type": "code",
   "execution_count": 6,
   "metadata": {
    "scrolled": false
   },
   "outputs": [
    {
     "name": "stdout",
     "output_type": "stream",
     "text": [
      " Saha-Boltzmann iteration 0\n"
     ]
    },
    {
     "data": {
      "application/vnd.jupyter.widget-view+json": {
       "model_id": "df88a95f10214eeb85b940bc2e15d83c",
       "version_major": 2,
       "version_minor": 0
      },
      "text/plain": [
       "Canvas(toolbar=Toolbar(toolitems=[('Home', 'Reset original view', 'home', 'home'), ('Back', 'Back to previous …"
      ]
     },
     "metadata": {},
     "output_type": "display_data"
    },
    {
     "name": "stdout",
     "output_type": "stream",
     "text": [
      " Saha-Boltzmann iteration 0\n"
     ]
    },
    {
     "data": {
      "application/vnd.jupyter.widget-view+json": {
       "model_id": "a106b28efa394db986f41abb3c6a5370",
       "version_major": 2,
       "version_minor": 0
      },
      "text/plain": [
       "Canvas(toolbar=Toolbar(toolitems=[('Home', 'Reset original view', 'home', 'home'), ('Back', 'Back to previous …"
      ]
     },
     "metadata": {},
     "output_type": "display_data"
    },
    {
     "data": {
      "application/vnd.jupyter.widget-view+json": {
       "model_id": "28c2b1167fe84fc1bef7795fd63984ac",
       "version_major": 2,
       "version_minor": 0
      },
      "text/plain": [
       "Canvas(toolbar=Toolbar(toolitems=[('Home', 'Reset original view', 'home', 'home'), ('Back', 'Back to previous …"
      ]
     },
     "metadata": {},
     "output_type": "display_data"
    },
    {
     "data": {
      "application/vnd.jupyter.widget-view+json": {
       "model_id": "20cf37961d4b4d10820ba98bbf2d4831",
       "version_major": 2,
       "version_minor": 0
      },
      "text/plain": [
       "Canvas(toolbar=Toolbar(toolitems=[('Home', 'Reset original view', 'home', 'home'), ('Back', 'Back to previous …"
      ]
     },
     "metadata": {},
     "output_type": "display_data"
    },
    {
     "name": "stdout",
     "output_type": "stream",
     "text": [
      "[['Mg', 5.634093831852556, 80, 0.9534924873031565], ['Zn', 2.0076622469310115, 20, 0.9888612302523967], ['Fe', 1.0, 10, 0.9931091740796005]]\n"
     ]
    },
    {
     "data": {
      "application/vnd.jupyter.widget-view+json": {
       "model_id": "c63c32916765485ebe3f55b051630541",
       "version_major": 2,
       "version_minor": 0
      },
      "text/plain": [
       "Canvas(toolbar=Toolbar(toolitems=[('Home', 'Reset original view', 'home', 'home'), ('Back', 'Back to previous …"
      ]
     },
     "metadata": {},
     "output_type": "display_data"
    },
    {
     "name": "stdout",
     "output_type": "stream",
     "text": [
      " Saha-Boltzmann iteration 0\n"
     ]
    },
    {
     "data": {
      "application/vnd.jupyter.widget-view+json": {
       "model_id": "3f2ef665553445569a62fab3fc5a524e",
       "version_major": 2,
       "version_minor": 0
      },
      "text/plain": [
       "Canvas(toolbar=Toolbar(toolitems=[('Home', 'Reset original view', 'home', 'home'), ('Back', 'Back to previous …"
      ]
     },
     "metadata": {},
     "output_type": "display_data"
    },
    {
     "data": {
      "application/vnd.jupyter.widget-view+json": {
       "model_id": "c10700f4ef9e4387b8364d6158a8df9d",
       "version_major": 2,
       "version_minor": 0
      },
      "text/plain": [
       "Canvas(toolbar=Toolbar(toolitems=[('Home', 'Reset original view', 'home', 'home'), ('Back', 'Back to previous …"
      ]
     },
     "metadata": {},
     "output_type": "display_data"
    },
    {
     "data": {
      "application/vnd.jupyter.widget-view+json": {
       "model_id": "df1eb15f34244ce6b0279b721d0401e7",
       "version_major": 2,
       "version_minor": 0
      },
      "text/plain": [
       "Canvas(toolbar=Toolbar(toolitems=[('Home', 'Reset original view', 'home', 'home'), ('Back', 'Back to previous …"
      ]
     },
     "metadata": {},
     "output_type": "display_data"
    },
    {
     "name": "stdout",
     "output_type": "stream",
     "text": [
      "[['Ca', 4.433444119323611, 80, 0.9951593424567878], ['Mg', 0.3195286431446459, 20, 0.9537231111991534], ['Fe', 1.0, 10, 0.9232057521276343]]\n"
     ]
    },
    {
     "data": {
      "application/vnd.jupyter.widget-view+json": {
       "model_id": "fdc2edd96efb4a5ca3256f63646d089c",
       "version_major": 2,
       "version_minor": 0
      },
      "text/plain": [
       "Canvas(toolbar=Toolbar(toolitems=[('Home', 'Reset original view', 'home', 'home'), ('Back', 'Back to previous …"
      ]
     },
     "metadata": {},
     "output_type": "display_data"
    },
    {
     "name": "stdout",
     "output_type": "stream",
     "text": [
      " Saha-Boltzmann iteration 0\n"
     ]
    },
    {
     "data": {
      "application/vnd.jupyter.widget-view+json": {
       "model_id": "e05317da30f047fbb1aeb238932e5b24",
       "version_major": 2,
       "version_minor": 0
      },
      "text/plain": [
       "Canvas(toolbar=Toolbar(toolitems=[('Home', 'Reset original view', 'home', 'home'), ('Back', 'Back to previous …"
      ]
     },
     "metadata": {},
     "output_type": "display_data"
    },
    {
     "data": {
      "application/vnd.jupyter.widget-view+json": {
       "model_id": "adf95b4613eb4e7597b2645095deff1c",
       "version_major": 2,
       "version_minor": 0
      },
      "text/plain": [
       "Canvas(toolbar=Toolbar(toolitems=[('Home', 'Reset original view', 'home', 'home'), ('Back', 'Back to previous …"
      ]
     },
     "metadata": {},
     "output_type": "display_data"
    },
    {
     "name": "stdout",
     "output_type": "stream",
     "text": [
      "[['Cr', 4.460941628525775, 80, 0.9972765229796742], ['Zn', 1.0, 20, 0.9757728196844577]]\n"
     ]
    }
   ],
   "source": [
    "sg = signal_spec(\"\",\"\", start_empty = True)\n",
    "\n",
    "samples = [ digital_twin([['Mg',80],['Zn',20],['Fe',10]]),\n",
    "           digital_twin([['Ca',80],['Mg',20],['Fe',10]]),\n",
    "          digital_twin([['Cr',80],['Zn',20]]),\n",
    "          ]\n",
    "\n",
    "\n",
    "\n",
    "for sample in samples:\n",
    "    \n",
    "    ll = 250\n",
    "    ul = 700.\n",
    "    Tp = 1.*T_ref\n",
    "\n",
    "    wl,spec,label, n_ion, specs = sample.spectrum_NIST( lower_limit = ll, upper_limit = ul, d_lambda=0.05, \n",
    "                                                           electron_density=n_e_ref, electron_temperature=Tp,\n",
    "                                                           max_ion_state=2)\n",
    "    wl=wl[0]\n",
    "\n",
    "    spec_total = specs.sum(axis=0)\n",
    "\n",
    "    ##Signal construction\n",
    "    sg = signal_spec(folder,filename)\n",
    "    sg.wavelengths = [wl]\n",
    "    sg.spectrum = [spec_total]\n",
    "    sg.is_multi_channel = False\n",
    "    sg.spectrometer_labels = ['1']\n",
    "\n",
    "    list_lines =[]\n",
    "    list_elements = []\n",
    "    for al in sample.list_of_elements:\n",
    "        l_num, lines = al.get_most_relevant_lines_ion_state(ion_state = 1, electron_temperature=Tp, n_lines = 5,lower_limit = ll, upper_limit = ul)\n",
    "        l_num2, lines2 = al.get_most_relevant_lines_ion_state(ion_state = 2, electron_temperature=Tp, n_lines = 5,lower_limit = ll, upper_limit = ul)\n",
    "        #if al.label == 'Sn':\n",
    "            #lines2 = np.delete(lines2,3)\n",
    "        list_lines.append([lines,lines2])\n",
    "        list_elements.append(al)\n",
    "\n",
    "\n",
    "\n",
    "    temperatures, temp_95, r2, y_s, x_s, intercepts = sg.multi_element_saha_boltzmann_temperature(list_lines, \n",
    "                            list_elements, electron_density=n_e_ref, ratio_of_maximum = 0.2, radius = 0.1, \n",
    "                            Title = \"Multi-element Saha-Boltzmann\" , Plot = True, Plotlines = True, use_max_intensity = False)\n",
    "\n",
    "    temperature=temperatures[0]\n",
    "    line_norm=lines[1]\n",
    "\n",
    "    list_predicted_concentration=[]\n",
    "\n",
    "    temperature=T_ref\n",
    "    concentration0 = np.exp(intercepts[-1])*partition_function(list_elements[-1].label,str(0),temperature/T_ref)/n_ion[-1][0]\n",
    "    for i in range(0, len(intercepts)):\n",
    "            concentration = np.exp(intercepts[i])*partition_function(list_elements[i].label,str(0),temperature/T_ref)/n_ion[i][0]/concentration0\n",
    "            list_predicted_concentration.append([list_elements[i].label,concentration,list_elements[i].ratio,r2[i]])\n",
    "\n",
    "\n",
    "    print(list_predicted_concentration)\n"
   ]
  },
  {
   "cell_type": "markdown",
   "metadata": {},
   "source": [
    "# Example 2"
   ]
  },
  {
   "cell_type": "code",
   "execution_count": null,
   "metadata": {},
   "outputs": [],
   "source": []
  }
 ],
 "metadata": {
  "kernelspec": {
   "display_name": "Python 3",
   "language": "python",
   "name": "python3"
  },
  "language_info": {
   "codemirror_mode": {
    "name": "ipython",
    "version": 3
   },
   "file_extension": ".py",
   "mimetype": "text/x-python",
   "name": "python",
   "nbconvert_exporter": "python",
   "pygments_lexer": "ipython3",
   "version": "3.6.12"
  }
 },
 "nbformat": 4,
 "nbformat_minor": 4
}

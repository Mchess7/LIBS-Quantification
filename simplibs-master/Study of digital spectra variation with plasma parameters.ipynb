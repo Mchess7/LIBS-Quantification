{
 "cells": [
  {
   "cell_type": "markdown",
   "metadata": {},
   "source": [
    "# Exploring simulated spectra variations\n",
    "This notebook explores the influence of the plasma parameters in LTE conditions in the expected signal obtained."
   ]
  },
  {
   "cell_type": "code",
   "execution_count": 1,
   "metadata": {},
   "outputs": [],
   "source": [
    "%matplotlib widget\n",
    "from core.experiment import *"
   ]
  },
  {
   "cell_type": "code",
   "execution_count": 117,
   "metadata": {},
   "outputs": [
    {
     "data": {
      "application/vnd.jupyter.widget-view+json": {
       "model_id": "d1f8b8ad100a4b7ea066308634722a9b",
       "version_major": 2,
       "version_minor": 0
      },
      "text/plain": [
       "Canvas(toolbar=Toolbar(toolitems=[('Home', 'Reset original view', 'home', 'home'), ('Back', 'Back to previous …"
      ]
     },
     "metadata": {},
     "output_type": "display_data"
    },
    {
     "name": "stderr",
     "output_type": "stream",
     "text": [
      "C:\\Users\\nunoa\\Anaconda2\\envs\\py36\\lib\\site-packages\\ipykernel_launcher.py:21: DeprecationWarning: scipy.array is deprecated and will be removed in SciPy 2.0.0, use numpy.array instead\n",
      "C:\\Users\\nunoa\\Anaconda2\\envs\\py36\\lib\\site-packages\\ipykernel_launcher.py:22: DeprecationWarning: scipy.array is deprecated and will be removed in SciPy 2.0.0, use numpy.array instead\n"
     ]
    },
    {
     "data": {
      "text/plain": [
       "<matplotlib.legend.Legend at 0x22ee1593780>"
      ]
     },
     "execution_count": 117,
     "metadata": {},
     "output_type": "execute_result"
    }
   ],
   "source": [
    "subplots()\n",
    "specs_0=[]\n",
    "specs_total=[]\n",
    "temperatures=[]\n",
    "nions=[]\n",
    "for factor in np.arange(0.7,0.9,0.01):\n",
    "    Tp = factor*T_ref\n",
    "    temperatures.append(Tp)\n",
    "    density=n_e_ref\n",
    "    sample1 = digital_twin([['Cu',1]])\n",
    "    wl,spec,label, n_ion, specs = sample1.spectrum_NIST(upper_limit=900, lower_limit=250, d_lambda=0.05,\n",
    "        electron_temperature=Tp, electron_density = density, max_ion_state=2,resolution=500)\n",
    "    specs_0.append(spec)\n",
    "    specs_total.append(specs)\n",
    "    \n",
    "    Z_ion = partition_function('Cu',str(0),Tp/T_ref)\n",
    "    nions.append(n_ion/Z_ion)\n",
    "    \n",
    "    plot(wl[0],specs[0],label=r\"$T_p = $\"+str(factor)+\"eV\")\n",
    "\n",
    "specs_0 = array(specs_0)\n",
    "specs_total = array(specs_total)\n",
    "legend()\n",
    "\n"
   ]
  },
  {
   "cell_type": "code",
   "execution_count": 110,
   "metadata": {},
   "outputs": [
    {
     "data": {
      "application/vnd.jupyter.widget-view+json": {
       "model_id": "8d3953e58c0c449695ca438142bda081",
       "version_major": 2,
       "version_minor": 0
      },
      "text/plain": [
       "Canvas(toolbar=Toolbar(toolitems=[('Home', 'Reset original view', 'home', 'home'), ('Back', 'Back to previous …"
      ]
     },
     "metadata": {},
     "output_type": "display_data"
    },
    {
     "name": "stderr",
     "output_type": "stream",
     "text": [
      "C:\\Users\\nunoa\\Anaconda2\\envs\\py36\\lib\\site-packages\\ipykernel_launcher.py:3: DeprecationWarning: scipy.log10 is deprecated and will be removed in SciPy 2.0.0, use numpy.lib.scimath.log10 instead\n",
      "  This is separate from the ipykernel package so we can avoid doing imports until\n",
      "C:\\Users\\nunoa\\Anaconda2\\envs\\py36\\lib\\site-packages\\ipykernel_launcher.py:5: DeprecationWarning: scipy.log10 is deprecated and will be removed in SciPy 2.0.0, use numpy.lib.scimath.log10 instead\n",
      "  \"\"\"\n"
     ]
    },
    {
     "data": {
      "text/plain": [
       "<matplotlib.image.AxesImage at 0x22ed3b5e828>"
      ]
     },
     "execution_count": 110,
     "metadata": {},
     "output_type": "execute_result"
    }
   ],
   "source": [
    "subplots()\n",
    "subplot(211)\n",
    "imshow(log10(specs_0[:,0,0,:]+1e1), extent=[wl[0][0],wl[0][-1],temperatures[0],temperatures[-1]], aspect='0.01')\n",
    "subplot(212)\n",
    "imshow(log10(specs_0[:,0,1,:]+1e1), extent=[wl[0][0],wl[0][-1],temperatures[0],temperatures[-1]], aspect='0.01')"
   ]
  },
  {
   "cell_type": "markdown",
   "metadata": {},
   "source": [
    "# Computing the variation of the intensity of a line"
   ]
  },
  {
   "cell_type": "code",
   "execution_count": 118,
   "metadata": {},
   "outputs": [
    {
     "data": {
      "application/vnd.jupyter.widget-view+json": {
       "model_id": "e7829eccb7ae4bbda0a4a25e08cb089c",
       "version_major": 2,
       "version_minor": 0
      },
      "text/plain": [
       "Canvas(toolbar=Toolbar(toolitems=[('Home', 'Reset original view', 'home', 'home'), ('Back', 'Back to previous …"
      ]
     },
     "metadata": {},
     "output_type": "display_data"
    },
    {
     "data": {
      "text/plain": [
       "Text(0.5, 0, '$T_p (eV)$')"
      ]
     },
     "execution_count": 118,
     "metadata": {},
     "output_type": "execute_result"
    }
   ],
   "source": [
    "intensities=[]\n",
    "nions=np.array(nions)\n",
    "\n",
    "\n",
    "\n",
    "for i in range(0, len(specs_total[:,0,0])):\n",
    "    \n",
    "    ratio_of_maximum = 0.5\n",
    "    wavelengths = wl[0]\n",
    "    spectrum = specs_total[i,0,:]\n",
    "    radius = .2\n",
    "    ritz = 515.28\n",
    "    intensity = get_peak_area(ritz,ratio_of_maximum , wavelengths, spectrum, radius, False)\n",
    "    intensities.append(intensity)\n",
    "    \n",
    "    \n",
    "\n",
    "Ei = lines[0].e_upper\n",
    "subplots()\n",
    "subplot(211)\n",
    "\n",
    "plot((np.array(temperatures)/T_ref),intensities/min(intensities),'o',fillstyle=None,ls = '--')\n",
    "ylabel(r\"Integrated intensity at line \" + str(ritz) + \" nm\")\n",
    "subplot(212)\n",
    "ax1=gca()\n",
    "plot((np.array(temperatures)/T_ref),np.exp(-Ei/(kb*np.array(temperatures))),'x',ls=':')\n",
    "ax2 = ax1.twinx()  # instantiate a second axes that shares the same x-axis\n",
    "plot((np.array(temperatures)/T_ref),nions[:,0,0],'o',ls='--')\n",
    "ax2.set_ylim(0,0.5)\n",
    "xlabel(r\"$T_p (eV)$\")\n"
   ]
  },
  {
   "cell_type": "code",
   "execution_count": 92,
   "metadata": {},
   "outputs": [
    {
     "data": {
      "text/plain": [
       "array([2.03216691e-04, 3.77082291e-04, 6.13695510e-04, 8.81996619e-04,\n",
       "       1.10497071e-03, 1.18531526e-03, 1.09189077e-03, 8.93709033e-04,\n",
       "       6.81257545e-04, 5.02726777e-04, 3.67930903e-04, 2.70533169e-04,\n",
       "       2.01075041e-04, 1.51446822e-04, 1.15664386e-04, 8.95471715e-05,\n",
       "       7.02272739e-05, 5.57407456e-05, 4.47344218e-05, 3.62666774e-05])"
      ]
     },
     "execution_count": 92,
     "metadata": {},
     "output_type": "execute_result"
    }
   ],
   "source": [
    "nions[:,0,0]*np.exp(-Ei/(kb*np.array(temperatures)))"
   ]
  },
  {
   "cell_type": "code",
   "execution_count": 63,
   "metadata": {},
   "outputs": [
    {
     "data": {
      "text/plain": [
       "3.7858977"
      ]
     },
     "execution_count": 63,
     "metadata": {},
     "output_type": "execute_result"
    }
   ],
   "source": [
    "al = element('Cu')\n",
    "\n",
    "ll=570\n",
    "ul=580\n",
    "nlines = 1\n",
    "l_num, lines = al.get_most_relevant_lines_ion_state(ion_state = 1, n_lines = nlines,lower_limit = ll, upper_limit = ul)\n"
   ]
  },
  {
   "cell_type": "code",
   "execution_count": null,
   "metadata": {},
   "outputs": [],
   "source": []
  }
 ],
 "metadata": {
  "kernelspec": {
   "display_name": "Python 3",
   "language": "python",
   "name": "python3"
  },
  "language_info": {
   "codemirror_mode": {
    "name": "ipython",
    "version": 3
   },
   "file_extension": ".py",
   "mimetype": "text/x-python",
   "name": "python",
   "nbconvert_exporter": "python",
   "pygments_lexer": "ipython3",
   "version": "3.6.12"
  }
 },
 "nbformat": 4,
 "nbformat_minor": 4
}

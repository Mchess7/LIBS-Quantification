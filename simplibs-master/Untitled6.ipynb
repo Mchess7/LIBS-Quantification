{
 "cells": [
  {
   "cell_type": "code",
   "execution_count": null,
   "metadata": {},
   "outputs": [],
   "source": [
    "def snv(input_data):\n",
    "    \n",
    "    \"\"\"\n",
    "        :snv: A correction technique which is done on each\n",
    "        individual spectrum, a reference spectrum is not\n",
    "        required\n",
    "        :param input_data: Array of spectral data\n",
    "        :type input_data: DataFrame\n",
    "        \n",
    "        :returns: data_snv (ndarray): Scatter corrected spectra\n",
    "    \"\"\"\n",
    "    \n",
    "    input_data = np.asarray(input_data)\n",
    "    \n",
    "    # Define a new array and populate it with the corrected data  \n",
    "    data_snv = np.zeros_like(input_data)\n",
    "    \n",
    "    for i in range(data_snv.shape[0]):\n",
    "        \n",
    "        # Apply correction\n",
    "        data_snv[i,:] = (input_data[i,:] - np.mean(input_data[i,:])) / np.std(input_data[i,:])\n",
    "    \n",
    "    return (data_snv)\n",
    "\n",
    "\n",
    "def msc(input_data, reference=None):\n",
    "    \"\"\"\n",
    "        :msc: Scatter Correction technique performed with mean of the sample data as the reference.\n",
    "        :param input_data: Array of spectral data\n",
    "        :type input_data: DataFrame\n",
    "        :returns: data_msc (ndarray): Scatter corrected spectra data\n",
    "    \"\"\"\n",
    "    \n",
    "    eps = np.finfo(np.float32).eps\n",
    "    input_data = np.array(input_data, dtype=np.float64)\n",
    "    ref = []\n",
    "    sampleCount = int(len(input_data))\n",
    "\n",
    "    # mean centre correction\n",
    "    for i in range(input_data.shape[0]):\n",
    "        input_data[i,:] -= input_data[i,:].mean()\n",
    "    \n",
    "    # Get the reference spectrum. If not given, estimate it from the mean\n",
    "    # Define a new array and populate it with the corrected data    \n",
    "    data_msc = np.zeros_like(input_data)\n",
    "    for i in range(input_data.shape[0]):\n",
    "        for j in range(0, sampleCount, 10):\n",
    "            ref.append(np.mean(input_data[j:j+10], axis=0))\n",
    "            # Run regression\n",
    "            fit = np.polyfit(ref[i], input_data[i,:], 1, full=True)\n",
    "            # Apply correction\n",
    "            data_msc[i,:] = (input_data[i,:] - fit[0][1]) / fit[0][0]\n",
    "    \n",
    "    return (data_msc)"
   ]
  }
 ],
 "metadata": {
  "kernelspec": {
   "display_name": "Python 3",
   "language": "python",
   "name": "python3"
  },
  "language_info": {
   "codemirror_mode": {
    "name": "ipython",
    "version": 3
   },
   "file_extension": ".py",
   "mimetype": "text/x-python",
   "name": "python",
   "nbconvert_exporter": "python",
   "pygments_lexer": "ipython3",
   "version": "3.6.12"
  }
 },
 "nbformat": 4,
 "nbformat_minor": 4
}

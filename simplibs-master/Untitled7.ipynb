{
 "cells": [
  {
   "cell_type": "markdown",
   "metadata": {},
   "source": [
    "# Script to convert SCIAPS data to folders\n",
    "Applied to Drill data"
   ]
  },
  {
   "cell_type": "code",
   "execution_count": null,
   "metadata": {},
   "outputs": [],
   "source": [
    "from numpy import *\n",
    "from scipy import *\n",
    "import pandas as pd\n",
    "import os\n",
    "from shutil import copyfile\n",
    "from scipy import *\n",
    "from matplotlib import pyplot\n",
    "\n",
    "%matplotlib widget"
   ]
  },
  {
   "cell_type": "code",
   "execution_count": null,
   "metadata": {},
   "outputs": [],
   "source": [
    "#where's the data\n",
    "folder_data = \"D:\\\\Data_LIBS\\\\Furo PNR RC 005 - SciAps\\\\All files\\\\\"\n",
    "\n",
    "#where do you want to copy the data\n",
    "final_path = \"D:\\\\Data_LIBS\\\\Furo PNR RC 005 - SciAps\\\\Converted\\\\\"\n",
    "\n",
    "list_files = [d for d in os.listdir(folder_data) if d.endswith(\".csv\")]\n",
    "\n",
    "#print(list_files)\n",
    "for i in range(0,len(list_files)):\n",
    "    sample_num = int(list_files[i].split('#')[0].replace('A','').replace(' ',''))\n",
    "    path_dir = final_path + \"DRI\"+str(sample_num).zfill(7)+\"\\\\\"\n",
    "    if not os.path.exists(path_dir):\n",
    "        os.makedirs(path_dir)\n",
    "    #os.system('copy '+str(folder_data+list_files[i])+' '+path_dir+list_files[i])\n",
    "    copyfile(folder_data+list_files[i], path_dir+list_files[i])\n",
    "    \n"
   ]
  },
  {
   "cell_type": "markdown",
   "metadata": {},
   "source": [
    "# Read one "
   ]
  },
  {
   "cell_type": "code",
   "execution_count": null,
   "metadata": {},
   "outputs": [],
   "source": [
    "file1 = \"D:\\\\Data_LIBS\\\\Furo PNR RC 005 - SciAps\\\\Converted\\\\DRI0000001\\\\1#1_2021_06_01_11_20_12_AM_Spectrum1.csv\"\n",
    "df=pd.read_csv(file1)\n",
    "print(df)\n",
    "wave=df['wavelength'].to_numpy()\n",
    "sample=df['intensity'].to_numpy()\n",
    "pyplot.plot(wave,sample)\n"
   ]
  },
  {
   "cell_type": "code",
   "execution_count": null,
   "metadata": {},
   "outputs": [],
   "source": []
  }
 ],
 "metadata": {
  "kernelspec": {
   "display_name": "Python 3",
   "language": "python",
   "name": "python3"
  },
  "language_info": {
   "codemirror_mode": {
    "name": "ipython",
    "version": 3
   },
   "file_extension": ".py",
   "mimetype": "text/x-python",
   "name": "python",
   "nbconvert_exporter": "python",
   "pygments_lexer": "ipython3",
   "version": "3.6.12"
  }
 },
 "nbformat": 4,
 "nbformat_minor": 4
}
